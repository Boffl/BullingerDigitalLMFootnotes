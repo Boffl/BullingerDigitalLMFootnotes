{
 "cells": [
  {
   "cell_type": "code",
   "execution_count": 1,
   "metadata": {},
   "outputs": [],
   "source": [
    "api_key = \"\"  # todo fix error with environ var"
   ]
  },
  {
   "cell_type": "markdown",
   "metadata": {},
   "source": [
    "# Imports and prep"
   ]
  },
  {
   "cell_type": "code",
   "execution_count": 18,
   "metadata": {},
   "outputs": [],
   "source": [
    "from generate_gpt import OpenAiModels\n",
    "\n",
    "\n",
    "model = OpenAiModels(\"gpt-3.5-turbo\", api_key)\n",
    "\n",
    "messages = [{\n",
    "    \"role\": \"system\",\n",
    "    \"content\": f\"You are a student, taking the following exam on music history.\"},\n",
    "    {\"role\": \"user\",\n",
    "        \"content\": \"what year was Motzart born?\"}\n",
    "        ]\n",
    "\n",
    "# test if it works...\n",
    "# model.generate(messages)\n",
    "\n"
   ]
  },
  {
   "cell_type": "markdown",
   "metadata": {},
   "source": []
  },
  {
   "cell_type": "code",
   "execution_count": 19,
   "metadata": {},
   "outputs": [],
   "source": [
    "# Small input, one FN is there, a second one is to be generated:\n",
    "text1 = \"\"\"<TEI xmlns=\"http://www.tei-c.org/ns/1.0\" xml:id=\"file10224\" type=\"Brief\" source=\"HBBW-3\" n=\"193\">\n",
    "\t<teiHeader xml:lang=\"de\">\n",
    "\t\t<fileDesc>\n",
    "\t\t\t<titleStmt>\n",
    "\t\t\t\t<title subtype=\"file\">Konrad Geßner, Johannes Fries / Basel an Heinrich Bullinger, 25. Februar [1533]</title>\n",
    "\t\t\t</titleStmt>\n",
    "\t\t\t<publicationStmt>\n",
    "\t\t\t\t<authority>Universität Zürich</authority>\n",
    "\t\t\t\t</publicationStmt>\n",
    "\t\t\t<sourceDesc>\n",
    "\t\t\t\t</sourceDesc>\n",
    "\t\t</fileDesc>\n",
    "\t\t</teiHeader>\n",
    "\t<text xml:lang=\"la\">\n",
    "\t\t<body>\n",
    "\t\t\t<div xml:id=\"div1\" corresp=\"regest1\">\n",
    "\t\t\t\t<p>\n",
    "\t\t\t\t\t<s n=\"1\" xml:lang=\"la\" type=\"auto\">Optimo et integerrimo viro M. Henrico Bullingero, mecaenati charissimo.</s>\n",
    "\t\t\t\t</p>\n",
    "\t\t\t\t<p>\n",
    "\t\t\t\t\t<s n=\"2\" xml:lang=\"la\" type=\"auto\">S.</s>\n",
    "\t\t\t\t\t<s n=\"3\" xml:lang=\"la\" type=\"auto\">Impediunt nos ab itinere<note xml:id=\"fn3\" type=\"footnote\" n=\"3\"><persName ref=\"p1283\" cert=\"high\">Geßner</persName> und <persName ref=\"p1214\" cert=\"high\">Fries</persName> befanden sich auf dem Weg nach <placeName ref=\"l59\" cert=\"high\">Bourges</placeName>.</note> nives, pluvia et ventorum vis.</s>\n",
    "\t\t\t\t\t<s n=\"4\" xml:lang=\"la\" type=\"auto\"><placeName ref=\"l28\" cert=\"high\">Basileae</placeName> apud <persName ref=\"p8418\" cert=\"high\">Myconium</persName><note xml:id=\"fn4\" type=\"footnote\" n=\"4\">\"\"\"\n",
    "\n",
    "# Same Letter, but now the first FN is to be generated. Meaning the model has no direct example of a FN in the edition\n",
    "text2 = \"\"\"<TEI xmlns=\"http://www.tei-c.org/ns/1.0\" xml:id=\"file10224\" type=\"Brief\" source=\"HBBW-3\" n=\"193\">\n",
    "\t<teiHeader xml:lang=\"de\">\n",
    "\t\t<fileDesc>\n",
    "\t\t\t<titleStmt>\n",
    "\t\t\t\t<title subtype=\"file\">Konrad Geßner, Johannes Fries / Basel an Heinrich Bullinger, 25. Februar [1533]</title>\n",
    "\t\t\t</titleStmt>\n",
    "\t\t\t<publicationStmt>\n",
    "\t\t\t\t<authority>Universität Zürich</authority>\n",
    "\t\t\t\t</publicationStmt>\n",
    "\t\t\t<sourceDesc>\n",
    "\t\t\t\t</sourceDesc>\n",
    "\t\t</fileDesc>\n",
    "\t\t</teiHeader>\n",
    "\t<text xml:lang=\"la\">\n",
    "\t\t<body>\n",
    "\t\t\t<div xml:id=\"div1\" corresp=\"regest1\">\n",
    "\t\t\t\t<p>\n",
    "\t\t\t\t\t<s n=\"1\" xml:lang=\"la\" type=\"auto\">Optimo et integerrimo viro M. Henrico Bullingero, mecaenati charissimo.</s>\n",
    "\t\t\t\t</p>\n",
    "\t\t\t\t<p>\n",
    "\t\t\t\t\t<s n=\"2\" xml:lang=\"la\" type=\"auto\">S.</s>\n",
    "\t\t\t\t\t<s n=\"3\" xml:lang=\"la\" type=\"auto\">Impediunt nos ab itinere<note xml:id=\"fn3\" type=\"footnote\" n=\"3\">\"\"\"\n",
    "\n",
    "# A long letter, the model has to generate the very last FN\n",
    "text3 =  \"\"\"<TEI xmlns=\"http://www.tei-c.org/ns/1.0\" xml:id=\"file12260\" type=\"Brief\" source=\"HBBW-15\" n=\"2213\">\n",
    "\t<teiHeader xml:lang=\"de\">\n",
    "\t\t<fileDesc>\n",
    "\t\t\t<titleStmt>\n",
    "\t\t\t\t<title subtype=\"file\">Matthias Erb / Reichenweier an Heinrich Bullinger, 11. August [1545]</title>\n",
    "\t\t\t</titleStmt>\n",
    "\t\t\t<publicationStmt>\n",
    "\t\t\t\t<authority>Universität Zürich</authority>\n",
    "\t\t\t\t</publicationStmt>\n",
    "\t\t\t<sourceDesc>\n",
    "\t\t\t\t<bibl type=\"scan\">Zürich StA</bibl>\n",
    "\t\t\t\t</sourceDesc>\n",
    "\t\t</fileDesc>\n",
    "\t\t</teiHeader>\n",
    "\t<text xml:lang=\"la\">\n",
    "\t\t<body>\n",
    "\t\t\t<div xml:id=\"div1\" corresp=\"regest1\">\n",
    "\t\t\t\t<p>\n",
    "\t\t\t\t\t<s n=\"1\" xml:lang=\"la\" type=\"auto\">Gratia domini tecum.</s>\n",
    "\t\t\t\t\t<s n=\"2\" xml:lang=\"la\" type=\"auto\">Quum decima augusti<note xml:id=\"fn2\" type=\"footnote\" n=\"2\">An einem Montag, dem Vortag (s. Z. 17f) des Datums dieses Briefes.</note> e suggestu descendissem me actutum a templo ad aulam conferens (vocatus scilicet a cancellario<note xml:id=\"fn3\" type=\"footnote\" n=\"3\"><persName ref=\"p8103\" cert=\"high\">Sigismund Stier</persName>.</note> ob quędam negotia ecclesię componenda), venit hic tuus legatus<note xml:id=\"fn4\" type=\"footnote\" n=\"4\"><persName ref=\"p18219\" cert=\"high\">Markus Wüst</persName>; s. oben <ref target=\"file12256\">Nr. 2209</ref>, Anm. b.</note> hora ferme nona et, dum in angiportu sisto gradum, servum<note xml:id=\"fn5\" type=\"footnote\" n=\"5\">Unbekannt.</note> ad limina de <persName ref=\"p1010\" cert=\"high\">Erbio</persName> rogat, me vero oculis ostiario significante ne proderet, statim digito demonstrat dicens: „Hic est.“</s>\n",
    "\t\t\t\t\t<s n=\"3\" xml:lang=\"la\" type=\"auto\">Is ergo ad me veniens percunctatur, an mihi sit nomen <persName ref=\"p1010\" cert=\"high\">Erbio</persName>.</s>\n",
    "\t\t\t\t\t<s n=\"4\" xml:lang=\"la\" type=\"auto\">Aio.</s>\n",
    "\t\t\t\t\t<s n=\"5\" xml:lang=\"la\" type=\"auto\">Statimque litteras<note xml:id=\"fn6\" type=\"footnote\" n=\"6\">Oben <ref target=\"file12256\">Nr. 2209</ref>.</note> depromens dicebat a te missas.</s>\n",
    "\t\t\t\t\t<s n=\"6\" xml:lang=\"la\" type=\"auto\">Acceptas legi simul obstupescens tuam, qui alias occupatissimus es, sedulitatem in describendis ex autographo copiis<note xml:id=\"fn7\" type=\"footnote\" n=\"7\">Vgl. oben <ref target=\"file12256\">Nr. 2209</ref>, 15-19.</note>.</s>\n",
    "\t\t\t\t\t<s n=\"7\" xml:lang=\"la\" type=\"auto\">Stans ergo attonitus et propemodum exanimis iussi adolescentem expectare, dum redeam, atque subinde inter tractatus et varias dissidentium quęstiones et tacite et indesinenter volvo ac revolvo intime, quę scripseras.</s>\n",
    "\t\t\t\t\t<s n=\"8\" xml:lang=\"la\" type=\"auto\">Absolutus a strepitu aulico eo cum adolescente pransum interque epulandum de singulis rebus percunctor, statim scilicet a mensa tibi responsurus.</s>\n",
    "\t\t\t\t\t<s n=\"9\" xml:lang=\"la\" type=\"auto\">Dum id meditor, alius adest nuntius<note xml:id=\"fn8\" type=\"footnote\" n=\"8\">Unbekannt.</note> litteras ferens a principe<note xml:id=\"fn9\" type=\"footnote\" n=\"9\"><persName ref=\"p8098\" cert=\"high\">Graf Georg von Württemberg-Mömpelgard</persName>, der sich laut Z. 16 damals in <placeName ref=\"l569\" cert=\"high\">Worms</placeName> aufhielt. Seine Teilnahme am <placeName ref=\"l569\" cert=\"high\">Wormser</placeName> Reichstag ist in RTA JR XVIII-2 nicht belegt.</note>, in quibus multa mihi committuntur negotia principemque a comitiis<note xml:id=\"fn10\" type=\"footnote\" n=\"10\">Der Reichstag in <placeName ref=\"l569\" cert=\"high\">Worms</placeName>.</note> propediem rediturum pollicentes.</s>\n",
    "\t\t\t\t\t<s n=\"10\" xml:lang=\"la\" type=\"auto\">Hinc eo die, tametsi adolescens crebro urgeret abituriens, nil scripsi omnia in posterum, hoc est in hodiernum, reiiciens diem.</s>\n",
    "\t\t\t\t\t<s n=\"11\" xml:lang=\"la\" type=\"auto\">Haec de pueri tui diligentia.</s>\n",
    "\t\t\t\t</p>\n",
    "\t\t\t\t<p>\n",
    "\t\t\t\t\t<s n=\"12\" xml:lang=\"la\" type=\"auto\">Quod vero ad negotium adtinet, paucis haec accipe.</s>\n",
    "\t\t\t\t\t<s n=\"13\" xml:lang=\"la\" type=\"auto\">Fateor me iam annum quinquagesimum egressum<note xml:id=\"fn11\" type=\"footnote\" n=\"11\"><persName ref=\"p1010\" cert=\"high\">Erb</persName> war 1494 geboren.</note>, et qui nunc in ea aetate sum, quę sedatior esse cupit, sepicule curas aulicas, quibus distringor,<pb type=\"scan\" next=\"257v.\"/> depręcatum, sed parum promovisse; imo, quo plus me expedire cupio, eo amplius perstringor dispendio et vitae et rerum.</s>\n",
    "\t\t\t\t\t<s n=\"14\" xml:lang=\"la\" type=\"auto\">Sic deo optimo maximo visum est.</s>\n",
    "\t\t\t\t</p>\n",
    "\t\t\t\t<p>\n",
    "\t\t\t\t\t<s n=\"15\" xml:lang=\"la\" type=\"auto\">Quod ad vitam, ut omnia manifestius depingam, subit tarda senectus,<note xml:id=\"fn12\" type=\"footnote\" n=\"12\"><hi>Vergil,</hi> Aeneis, 9, 610.</note> quę difficilis incipit esse, sola non suffitiens laboribus, dum indies creberrime exantlatur.</s>\n",
    "\t\t\t\t\t<s n=\"16\" xml:lang=\"la\" type=\"auto\">Nullum habeo symmistam, ut nosti, opinor.</s>\n",
    "\t\t\t\t\t<s n=\"17\" xml:lang=\"la\" type=\"auto\">Plures iussu principis vocavi; sed horrent id, quod ego quęror.</s>\n",
    "\t\t\t\t\t<s n=\"18\" xml:lang=\"la\" type=\"auto\">Metuunt enim sibi ab ingeniis cervinis<note xml:id=\"fn13\" type=\"footnote\" n=\"13\">ingenium cervinum: ein ängstliches Wesen; s. <bibl>Adagia</bibl>, 2, 7, 36 (<bibl>ASD</bibl> II/4 110, <ref target=\"file11679\">Nr. 1636</ref>).</note>, nec ego quenquam nisi volentem ad me trahere volo, etc.<pb type=\"edition\" next=\"439\"/></s>\n",
    "\t\t\t\t\t<s n=\"19\" xml:lang=\"la\" type=\"auto\">Quod vero ad res meas adtinet, male collocat ille, quem ex nomine nosti, stipendia.</s>\n",
    "\t\t\t\t\t<s n=\"20\" xml:lang=\"la\" type=\"auto\">Ex patrimonio intra quinquennium<note xml:id=\"fn16\" type=\"footnote\" n=\"16\">D.h. seit 1539, was mit dem Amtsantritt <persName ref=\"p17986\" cert=\"high\">Henmans</persName> übereinstimmt.</note> ducentos fere aureos non in meam, sed magis ecclesię necessitatem exposui, quod dies domini revelabit.</s>\n",
    "\t\t\t\t\t<s n=\"21\" xml:lang=\"la\" type=\"auto\">Nec quęror, optime frater, de perditis rebus, sed de Harpiis furacibus, qui recte monentes non exaudiunt et ecclesię avaritię notam inurunt; quod non adeo magni referret, nisi metuendum de excidio foret.</s>\n",
    "\t\t\t\t\t<s n=\"22\" xml:lang=\"la\" type=\"auto\">Quamdiu rapiendum, placet Christus; dum defecerit ecclesię fiscus, non placebit ultra Christus!</s>\n",
    "\t\t\t\t\t<s n=\"23\" xml:lang=\"la\" type=\"auto\">Hactenus 3 fuimus in isto oppido, ubi quisque designatum habuit<pb type=\"edition\" next=\"440\"/> stipendium.</s>\n",
    "\t\t\t\t\t<s n=\"24\" xml:lang=\"la\" type=\"auto\">Ego nunc solus omnibus curis pręfectus aegre a satrapis<note xml:id=\"fn18\" type=\"footnote\" n=\"18\">Zu verstehen: von den Beamten, u.a. vom neuen Schaffner.</note> meum recipio stipendium, et si egerem, vix triobulo sublevarent.</s>\n",
    "\t\t\t\t\t<s n=\"25\" xml:lang=\"la\" type=\"auto\">Sunt pręterea et alię rationes, quibus te nolo nunc gravare scribendo, etc.</s>\n",
    "\t\t\t\t\t<s n=\"26\" xml:lang=\"la\" type=\"auto\">Atque inter tot turbines nondum video satis iustam occasionem desertionis huius ecclesię.</s>\n",
    "\t\t\t\t</p>\n",
    "\t\t\t\t<p>\n",
    "\t\t\t\t\t<s n=\"27\" xml:lang=\"de\" type=\"auto\"><pb type=\"scan\" next=\"257a,r.\"/>Summa.</s>\n",
    "\t\t\t\t\t<s n=\"28\" xml:lang=\"la\" type=\"auto\">Ita haereo inter sacrum et saxum<note xml:id=\"fn19\" type=\"footnote\" n=\"19\">Siehe Adagia, 1, 1, 15 (<bibl>ASD</bibl> II/1 128f, Nr. 15).</note>, ut nunc sine discrimine ecclesięque Christi maxima iactura, ut facile intelligis, discedere nequeam.</s>\n",
    "\t\t\t\t</p>\n",
    "\t\t\t\t<p>\n",
    "\t\t\t\t\t<s n=\"29\" xml:lang=\"la\" type=\"auto\">Atque eę sunt potissimę rationes.</s>\n",
    "\t\t\t\t\t<s n=\"30\" xml:lang=\"la\" type=\"auto\">Ecclesias nostras iam a sexto anno<note xml:id=\"fn20\" type=\"footnote\" n=\"20\">D.h. seit 1538, als Erbin Reichenweier tätig wurde.</note> utcunque in ordinem, ut potuimus - quando, ut volueramus, non licuit - redegimus.</s>\n",
    "\t\t\t\t</p>\n",
    "\t\t\t\t<p>\n",
    "\t\t\t\t\t<s n=\"31\" xml:lang=\"la\" type=\"auto\">Annitendum ergo, ut cępta perficiantur.</s>\n",
    "\t\t\t\t\t<s n=\"32\" xml:lang=\"la\" type=\"auto\">Ad hoc ecclesia illa nobis contigua, Montbelgardiana, cum suo principe<note xml:id=\"fn21\" type=\"footnote\" n=\"21\"><persName ref=\"p1546\" cert=\"high\">Graf Christoph von Württemberg</persName>.</note> adhuc vacillat; de qua totus liber foret perscribendus.</s>\n",
    "\t\t\t\t\t<s n=\"33\" xml:lang=\"la\" type=\"auto\">Pręterea scholę quattuor in isto parviusculo agro sunt constitutę et quinta in rure instituenda, stipendia quoque studiosis quibusdam ante paucos menses pollicita,<note xml:id=\"fn23\" type=\"footnote\" n=\"23\">Erst 1555 kam es zur Einrichtung eines solchen Stipendiums durch Graf Georg; s. <hi>Adam,</hi> aao, S. 306.</note> sed haec non omnia firmata et rata, proponenda etiamnum ecclesię quędam decreta, quibus ad disciplinam et sanctos mores utcunque redigantur, idque statim redeunte principe.</s>\n",
    "\t\t\t\t\t<s n=\"34\" xml:lang=\"la\" type=\"auto\">Illo enim absente haec omnia conscripta sunt.</s>\n",
    "\t\t\t\t\t<s n=\"35\" xml:lang=\"la\" type=\"auto\">Dum igitur nunc mutavero locum omnia sub cultro relinquens<note xml:id=\"fn24\" type=\"footnote\" n=\"24\">omnia sub cultro relinquens: alles der Gefahr aussetzend; vgl. <bibl>Adagia</bibl>, 2, 10, 83 (<bibl>ASD</bibl> II/4 328, <ref target=\"file12030\">Nr. 1983</ref>).</note>, facile intelligis, quid periculi inmineat.</s>\n",
    "\t\t\t\t\t<s n=\"36\" xml:lang=\"la\" type=\"auto\">In primis severus princeps, a quo omnia pendent, facile vel mutaretur vel irritaretur, ut solet hoc hominum genus; id quod nimirum magis in ecclesię quam in meum incomodum cęderet.</s>\n",
    "\t\t\t\t\t<s n=\"37\" xml:lang=\"la\" type=\"auto\">Viden inter coelum et terram me suspensum palpitare neque posse hac ratione vel vocatione, quę tamen et sancta et iusta, liberari?</s>\n",
    "\t\t\t\t\t<s n=\"38\" xml:lang=\"la\" type=\"auto\">Occasio mihi expectanda comodior, quę me liberet sine ecclesię iactura.</s>\n",
    "\t\t\t\t\t<s n=\"39\" xml:lang=\"la\" type=\"auto\">Nam si iam abirem, ecclesia viduata absque pastore inter cunctatores et cessatores fluctuaret, etc.</s>\n",
    "\t\t\t\t</p>\n",
    "\t\t\t\t<p>\n",
    "\t\t\t\t\t<s n=\"40\" xml:lang=\"la\" type=\"auto\"><pb type=\"scan\" next=\"257a,v.\"/>Ago vero et habeo tibi gratias inmortales, humanissime Bullingere, quod admodum ingenti cura meo nomine laboraveris, atque hoc impensius te amo, quod charitatis offitium non fucate, sed dextre candideque in me collocaris, imo significaris in hac sancta vocatione.</s>\n",
    "\t\t\t\t\t<s n=\"41\" xml:lang=\"la\" type=\"auto\">Respondebit olim procul dubio deus optimus maximus tuis votis, quo <placeName ref=\"l1976\" cert=\"high\">Augustani</placeName> nanciscantur virum aliquem sanctum, ecclesię dignum ministrum,<note xml:id=\"fn25\" type=\"footnote\" n=\"25\"><persName ref=\"p8018\" cert=\"high\">Johannes Haller</persName> wurde schließlich aus Zurich nach <placeName ref=\"l1976\" cert=\"high\">Augsburg</placeName> gesandt; s. oben <ref target=\"file12211\">Nr. 2164</ref>, Anm. 10.</note> atque ego etiam tuis assiduis<pb type=\"edition\" next=\"441\"/> praecibus vel liberer publica occasione vel sub onere non defitiam.</s>\n",
    "\t\t\t\t\t<s n=\"42\" xml:lang=\"la\" type=\"auto\">Sed te etiamnum per Iesum Christum, ne deinceps plus mihi vel tribuas, immodicus scilicet virtutum mearum, quibus penitus careo, pręco, vel magis sentias de me, quam res est.</s>\n",
    "\t\t\t\t\t<s n=\"43\" xml:lang=\"la\" type=\"auto\">Optime enim mihi ipsi conscius sum curtę suppellectilis,<note xml:id=\"fn26\" type=\"footnote\" n=\"26\"><hi>Persius,</hi> Saturae, 4, 52.</note> quam tu, ni fallor, maiori atque ego, nescio quorum iuditio persuasus, aestimas.</s>\n",
    "\t\t\t\t</p>\n",
    "\t\t\t\t<p>\n",
    "\t\t\t\t\t<s n=\"44\" xml:lang=\"la\" type=\"auto\">Porro, quod nunc temporis importunitas negat, alias benignus deus, ecclesiarum verus et unicus pastor<note xml:id=\"fn27\" type=\"footnote\" n=\"27\">Vgl. <cit type=\"bible\"><ref>Hebr 13, 20</ref></cit>; <cit type=\"bible\"><ref>1Petr 2, 25</ref></cit>; <cit type=\"bible\"><ref>5, 4.</ref></cit></note>, solita clementia sancta resarciet oportunitate.</s>\n",
    "\t\t\t\t\t<s n=\"45\" xml:lang=\"la\" type=\"auto\">Sancto quoque magistratui <placeName ref=\"l1976\" cert=\"high\">Augustano</placeName>, inprimis vero erudito viro domino <persName ref=\"p8354\" cert=\"high\">Georgio Leto</persName><note xml:id=\"fn28\" type=\"footnote\" n=\"28\"><persName ref=\"p8354\" cert=\"high\">Georg Frölich</persName>.</note>, ingentes gratias meo nomine agas, obsecro, quod me, ineptum homuntionem,<note xml:id=\"fn29\" type=\"footnote\" n=\"29\">Vgl. <cit type=\"bible\"><ref>1Kor 15,9</ref></cit>; <cit type=\"bible\"><ref>Eph 3, 8</ref></cit>.</note> adeo egregia dignati sint vocatione.</s>\n",
    "\t\t\t\t\t<s n=\"46\" xml:lang=\"la\" type=\"auto\">Ego quoque deinceps eius ecclesię maiorem habebo - si potis fuero - ubique rationem, optoque illis stabilem pacem et concordiam talesque antistites, qui pietate, eruditione, prudentia, vigilantia et fidelitate ita pręmineant, quo Christus in ea republica ita mittat radices, ut nullis satanę et impiorum imposturis deiiciatur.</s>\n",
    "\t\t\t\t\t<s n=\"47\" xml:lang=\"la\" type=\"auto\">Monebis ergo illos, ne me deinceps expectent; ignoro enim meam liberationem.</s>\n",
    "\t\t\t\t\t<s n=\"48\" xml:lang=\"la\" type=\"auto\">Servet te Christus.</s>\n",
    "\t\t\t\t</p>\n",
    "\t\t\t\t<p>\n",
    "\t\t\t\t\t<note type=\"attachment\">[Beilage:]</note>\n",
    "\t\t\t\t\t<s n=\"49\" xml:lang=\"la\" type=\"auto\"><pb type=\"scan\" next=\"258r.\"/>Nova: Absolutionem conmitiorum<note xml:id=\"fn30\" type=\"footnote\" n=\"30\">Der Reichstag zu <placeName ref=\"l569\" cert=\"high\">Worms</placeName>.</note> non ignoras, in quibus nil certi definitum, nisi quod istis hybernis mensibus adversarii nobis pacem condixerunt; futura aestate nobis providendum erit<note xml:id=\"fn31\" type=\"footnote\" n=\"31\">Ein Gerücht.</note>.</s>\n",
    "\t\t\t\t\t<s n=\"50\" xml:lang=\"la\" type=\"auto\">Acta comitiorum nondum sunt publicata.</s>\n",
    "\t\t\t\t\t<s n=\"51\" xml:lang=\"la\" type=\"auto\">Aiunt quidam caesari<note xml:id=\"fn33\" type=\"footnote\" n=\"33\"><persName ref=\"p18538\" cert=\"high\">Karl V.</persName></note> omnia esse commissa, ut dicat sententiam etiam in religionis negotio certis tamen conditionibus; quodsi verum fuerit, ovem dicemus lupo<note xml:id=\"fn34\" type=\"footnote\" n=\"34\">Vgl. <cit type=\"bible\"><ref>Joh 10, 12</ref></cit>.</note> commissam.</s>\n",
    "\t\t\t\t</p>\n",
    "\t\t\t\t<p>\n",
    "\t\t\t\t\t<s n=\"52\" xml:lang=\"la\" type=\"auto\"><persName ref=\"p18477\" cert=\"high\">Ferdinandus</persName> priori septimana<note xml:id=\"fn35\" type=\"footnote\" n=\"35\">Zu verstehen: In der ersten Augustwoche. - <persName ref=\"p18477\" cert=\"high\">Ferdinand I.</persName> war am 31. Juli 1545 aus <placeName ref=\"l569\" cert=\"high\">Worms</placeName> abgereist; s. unten <ref target=\"file12261\">Nr. 2214</ref>, 28 und Anm. 20.</note> a comitiis magno strepitu solvens Bohemiam petit cum <persName ref=\"p7688\" cert=\"high\">Nausea</persName><note xml:id=\"fn36\" type=\"footnote\" n=\"36\"><persName ref=\"p7688\" cert=\"high\">Friedrich Nausea</persName>, Bischof von <placeName ref=\"l546\" cert=\"high\">Wien</placeName>.</note> suo et quibusdam monachis.</s>\n",
    "\t\t\t\t\t<s n=\"53\" xml:lang=\"la\" type=\"auto\">Sequenti septimana<pb type=\"edition\" next=\"442\"/> caesar abiturus est, sed quo, ignoratur<note xml:id=\"fn37\" type=\"footnote\" n=\"37\"><persName ref=\"p18538\" cert=\"high\">Karl V.</persName> hatte <placeName ref=\"l569\" cert=\"high\">Worms</placeName> am 7. August in Richtung <placeName ref=\"l267\" cert=\"high\">Köln</placeName> verlassen; s. oben <ref target=\"file12261\">Nr. 2214</ref>, 31 und Anm. 23f.</note>.</s>\n",
    "\t\t\t\t\t<s n=\"54\" xml:lang=\"la\" type=\"auto\">Erant alia dicta comitia ad <placeName ref=\"l410\" cert=\"high\">Reginospurgum</placeName> ad mensem octobrem,<note xml:id=\"fn38\" type=\"footnote\" n=\"38\">Der geplante Reichstag in <placeName ref=\"l410\" cert=\"high\">Regensburg</placeName>, der erst Anfang 1546 begann; s. oben <ref target=\"file12258\">Nr. 2211</ref>, Anm. 24.</note>, sed aiunt quidam irritata<note xml:id=\"fn39\" type=\"footnote\" n=\"39\">Hier im Sinne von \"vergeblich\"; s. <hi><persName ref=\"p8320\" cert=\"high\">Dasypodius</persName>,</hi> Dic. 199.</note>, etc.</s>\n",
    "\t\t\t\t</p>\n",
    "\t\t\t\t<p>\n",
    "\t\t\t\t\t<s n=\"55\" xml:lang=\"la\" type=\"auto\">Urgent plures nacionale concilium, idque <placeName ref=\"322\" type=\"auto_name\">Metis</placeName><note xml:id=\"fn40\" type=\"footnote\" n=\"40\"><placeName ref=\"l322\" cert=\"high\">Metz</placeName>.</note> celebrari postulant.</s>\n",
    "\t\t\t\t\t<s n=\"56\" xml:lang=\"la\" type=\"auto\">Musher<note xml:id=\"fn41\" type=\"footnote\" n=\"41\">Vom französischen \"Monsieur\".</note> de Gyß<note xml:id=\"fn42\" type=\"footnote\" n=\"42\"><persName ref=\"p18450\" cert=\"high\">Claude I. von Lothringen</persName>, Herzog von Guise.</note>, defuncti ducis Lotharingię frater<note xml:id=\"fn43\" type=\"footnote\" n=\"43\">Der am 12. Juni 1545 verstorbene <persName ref=\"p7637\" cert=\"high\">François I. von Lothringen</persName> war nicht Claudes Bruder, sondern sein Neffe. Bruder von Claude war der Vater des Verstorbenen, nämlich <persName ref=\"p18431\" cert=\"high\">Anton II. von Lothringen</persName> (gest. Juni 1544).</note>, patruum suum conscripto milite et auxilio regis<note xml:id=\"fn45\" type=\"footnote\" n=\"45\"><persName ref=\"p7637\" cert=\"high\">König Franz I.</persName></note> Gallorum conatur e ducatu pellere.</s>\n",
    "\t\t\t\t\t<s n=\"57\" xml:lang=\"la\" type=\"auto\"><persName ref=\"p18538\" cert=\"high\">Caesar</persName> vero iuniori<note xml:id=\"fn46\" type=\"footnote\" n=\"46\"><persName ref=\"p18536\" cert=\"high\">Karl III. von Lothringen</persName>.</note>, qui patri<note xml:id=\"fn47\" type=\"footnote\" n=\"47\"><persName ref=\"p7637\" cert=\"high\">François I. von Lothringen</persName>.</note> successit, subsidium et <placeName ref=\"l29\" cert=\"high\">Hispanum</placeName> militem pollicitus est.</s>\n",
    "\t\t\t\t\t<s n=\"58\" xml:lang=\"la\" type=\"auto\">Quodsi res non fuerit composita, putant novum bellum inter caesarem et Gallum oriturum.</s>\n",
    "\t\t\t\t\t<s n=\"59\" xml:lang=\"la\" type=\"auto\">Feruntur alia quedam nova, sed forte non fide digna: mundus mendatiis scatet<note xml:id=\"fn48\" type=\"footnote\" n=\"48\">Vgl. <bibl>TPMA</bibl> XIII 46, 125f: Die Welt ist falscher Zungen voll.</note>.</s>\n",
    "\t\t\t\t\t<s n=\"60\" xml:lang=\"la\" type=\"auto\">Haec omnia raptim.</s>\n",
    "\t\t\t\t</p>\n",
    "\t\t\t\t<p>\n",
    "\t\t\t\t\t<s n=\"61\" xml:lang=\"la\" type=\"auto\">Valebis igitur, vir humanissime, cum ecclesia sancta et familia.</s>\n",
    "\t\t\t\t\t<s n=\"62\" xml:lang=\"la\" type=\"auto\">Salutabis vicissim tuos, in primis meum <persName ref=\"p8412\" cert=\"high\">Megandrum</persName>, <persName ref=\"p8437\" cert=\"high\">Erasmum</persName>,<note xml:id=\"fn49\" type=\"footnote\" n=\"49\">\"\"\""
   ]
  },
  {
   "cell_type": "code",
   "execution_count": 20,
   "metadata": {},
   "outputs": [],
   "source": [
    "def calculate_openai_cost(tokens:list[tuple[int]], price_per_1M:tuple[float]):\n",
    "    \"\"\"calculate the cost\n",
    "    param tokens: list of tuples, input and output\n",
    "    param price_per_1M: tuple of pricing, input and output\"\"\"\n",
    "    cost = 0\n",
    "    for in_toks, out_toks in tokens:\n",
    "        cost += in_toks*price_per_1M[0] + out_toks*price_per_1M[1]\n",
    "    return cost/(10**6)  # don't forget to divide by 1M"
   ]
  },
  {
   "cell_type": "markdown",
   "metadata": {},
   "source": [
    "# Generating"
   ]
  },
  {
   "cell_type": "markdown",
   "metadata": {},
   "source": [
    "## Informal Tests"
   ]
  },
  {
   "cell_type": "markdown",
   "metadata": {},
   "source": [
    "#### test 1\n",
    "Formulating the completion task in Chat template."
   ]
  },
  {
   "cell_type": "markdown",
   "metadata": {},
   "source": [
    "Original FN: <br>\n",
    "```xml\n",
    "<persName ref=\"p1214\" cert=\"high\">Fries</persName>\n",
    "und\n",
    "<persName ref=\"p1283\" cert=\"high\">Geßner</persName>\n",
    "waren in einem Brief\n",
    "<persName ref=\"p8127\" cert=\"high\">Pellikans</persName>\n",
    "vom 19. Februar 1533 an\n",
    "<persName ref=\"p8418\" cert=\"high\">Myconius</persName>\n",
    "empfohlen worden (Zürich StA, E II 358, 98).\n",
    "</note>\n",
    "```\n",
    "FN from the ICL:<br>\n",
    "```xml\n",
    "<note xml:id=\"fn49\" type=\"footnote\" n=\"49\">\n",
    "<persName ref=\"p8437\" cert=\"high\">Erasmus Schmid</persName>\n",
    ".\n",
    "</note>\n",
    "```"
   ]
  },
  {
   "cell_type": "code",
   "execution_count": 21,
   "metadata": {},
   "outputs": [],
   "source": [
    "\n",
    "\n",
    "ICL_SYSTEM_PROMPT = \"Du bist Historiker und hast dich auf die Reformation spezialisiert. Gerade arbeitest du daran Briefe von Heinrich Bullinger zu edieren. Vervolständige die Inhaltlichen Fussnoten.\"\n",
    "\n",
    "# footnote for the icl\n",
    "footnote_text2 = \"\"\"<note xml:id=\"fn3\" type=\"footnote\" n=\"3\"><persName ref=\"p1283\" cert=\"high\">Geßner</persName> und <persName ref=\"p1214\" cert=\"high\">Fries</persName> befanden sich auf dem Weg nach <placeName ref=\"l59\" cert=\"high\">Bourges</placeName>.</note>\"\"\"\n",
    "\n",
    "# Note the openai API does not allow for arbitrary names for the chatting parties:\n",
    "# {'error': {'message': \"Invalid value: 'historian'. Supported values are: 'system', 'assistant', 'user', 'function', and 'tool'.\", 'type': 'invalid_request_error', 'param': 'messages[1].role', 'code': 'invalid_value'}}\n",
    "\n",
    "def icl_prompt(text):\n",
    "  \"\"\"Generate a prompt that gives the example from text2\"\"\"\n",
    "  messages = [\n",
    "      {\"role\": \"system\", \"content\": ICL_SYSTEM_PROMPT},\n",
    "      {\"role\": \"user\", \"content\": text2},   \n",
    "      {\"role\": \"assistant\", \"content\": footnote_text2},\n",
    "      {\"role\": \"user\", \"content\": text}\n",
    "  ]\n",
    "  return messages\n",
    "\n",
    "\n"
   ]
  },
  {
   "cell_type": "code",
   "execution_count": 24,
   "metadata": {},
   "outputs": [
    {
     "name": "stdout",
     "output_type": "stream",
     "text": [
      "<note xml:id=\"fn4\" type=\"footnote\" n=\"4\">Myconius, ein wichtiger Reformator und Freund von Bullinger, war in Basel tätig und spielte eine zentrale Rolle in der Verbreitung der reformatorischen Ideen in der Region.</note>\n",
      "<note xml:id=\"fn4\" type=\"footnote\" n=\"4\">Myconius, ein wichtiger Reformator und Freund von Bullinger, war in Basel tätig und spielte eine zentrale Rolle in der Verbreitung der reformatorischen Ideen in der Region.</note>\n",
      "<note xml:id=\"fn4\" type=\"footnote\" n=\"4\">Myconius, ein wichtiger Reformator und Freund von Bullinger, war in Basel tätig und spielte eine bedeutende Rolle in der Verbreitung der reformatorischen Ideen in der Region.</note>\n",
      "<note xml:id=\"fn4\" type=\"footnote\" n=\"4\">Myconius, ein wichtiger Reformator und Freund von Bullinger, war in Basel tätig und spielte eine zentrale Rolle in der Verbreitung der reformatorischen Ideen in der Region.</note>\n",
      "<note xml:id=\"fn4\" type=\"footnote\" n=\"4\">Myconius, ein wichtiger Reformator und Freund von Bullinger, war in Basel tätig und spielte eine bedeutende Rolle in der Verbreitung der reformatorischen Ideen in der Region.</note>\n",
      "<note xml:id=\"fn4\" type=\"footnote\" n=\"4\">Myconius, ein wichtiger Reformator und Freund von Bullinger, war in Basel tätig und spielte eine bedeutende Rolle in der Verbreitung der reformatorischen Ideen in der Region.</note>\n",
      "<note xml:id=\"fn4\" type=\"footnote\" n=\"4\">Myconius, ein wichtiger Reformator und Freund von Bullinger, war in Basel tätig und spielte eine zentrale Rolle in der Verbreitung der reformatorischen Ideen in der Region.</note>\n",
      "<note xml:id=\"fn4\" type=\"footnote\" n=\"4\">Myconius, ein wichtiger Reformator und Freund von Bullinger, war in Basel tätig und spielte eine zentrale Rolle in der Verbreitung der reformatorischen Ideen in der Region.</note>\n",
      "<note xml:id=\"fn4\" type=\"footnote\" n=\"4\">Myconius, ein wichtiger Reformator und Freund von Bullinger, war in Basel tätig und spielte eine zentrale Rolle in der Verbreitung der reformatorischen Ideen in der Region.</note>\n",
      "<note xml:id=\"fn4\" type=\"footnote\" n=\"4\">Myconius, ein wichtiger Reformator und Freund von Bullinger, war in Basel tätig und spielte eine zentrale Rolle in der Verbreitung der reformatorischen Ideen in der Region.</note>\n"
     ]
    }
   ],
   "source": [
    "model = OpenAiModels(\"gpt-4o-mini-2024-07-18\", api_key)\n",
    "tokens = []\n",
    "for i in range(10):\n",
    "    text, in_toks, out_toks = model.generate(icl_prompt(text1))\n",
    "    tokens.append((in_toks, out_toks))\n",
    "    print(text)\n"
   ]
  },
  {
   "cell_type": "code",
   "execution_count": null,
   "metadata": {},
   "outputs": [],
   "source": []
  },
  {
   "cell_type": "code",
   "execution_count": 25,
   "metadata": {},
   "outputs": [
    {
     "data": {
      "text/plain": [
       "0.0033066000000000003"
      ]
     },
     "execution_count": 25,
     "metadata": {},
     "output_type": "execute_result"
    }
   ],
   "source": [
    "calculate_openai_cost(tokens, (0.3,1.2))"
   ]
  },
  {
   "cell_type": "markdown",
   "metadata": {},
   "source": [
    "#### Test 2\n",
    "leaving one footnote out. Not optimal result and also more expensive?"
   ]
  },
  {
   "cell_type": "code",
   "execution_count": 26,
   "metadata": {},
   "outputs": [],
   "source": [
    "import re\n",
    "import pandas as pd\n",
    "\n",
    "def footnote_regex(n):\n",
    "  matching_string = (fr\"( ?<note [^>]*? type=\\\"footnote\\\" n=\\\"{n}\\\">)\" # matching group 1: the opening tag\n",
    "                  r\"(.*?(?=<\\/note>))\"  # matching group 2 everything up until the closing tag (positive lookup!! no matching group!!)\n",
    "                  r\"(<\\/note>)\"  # matching group 3: the endtag\n",
    "  )\n",
    "  return matching_string\n",
    "\n",
    "def remove_footnote_content(text, n):\n",
    "  \"\"\"remove all content from the footnote n=\"n\" \"\"\"\n",
    "  return re.sub(footnote_regex(n), r\"\\1\\3\", text)\n",
    "\n",
    "def get_footnote_content(text, n):\n",
    "  \"\"\"get the content of a FN\"\"\"\n",
    "  return re.search(footnote_regex(n), text).group(2)\n",
    "\n",
    "\n",
    "ICL_SYSTEM_PROMPT = \"Du bist Historiker und hast dich auf die Reformation spezialisiert. Gerade arbeitest du daran Briefe von Heinrich Bullinger zu edieren. Vervolständige die Inhaltlichen Fussnoten.\"\n",
    "\n",
    "def HISTORIAN_PROMPT(text, n):\n",
    "  return f\"Bitte schlage mir einen Text für Fussnote n={n} in folgendem Dokument vor:\\n\\n{text}\"\n",
    "\n",
    "def instruct_prompt_fill_in(letter, n, example=(11130, 7)):\n",
    "  \"\"\"\n",
    "  param text: Letter TEI\n",
    "  param n: Footnote to generate\n",
    "  example: letter_id and FN to give as an example, 12342 is from the dev-set...\"\"\"\n",
    "\n",
    "  # find a good example letter, to put as icl prompt...\n",
    "  # get the letter\n",
    "  example_letter_id, example_n = example\n",
    "  with open(f\"../../data/downsized_letters/{example_letter_id}.xml\") as infile:\n",
    "    example_letter = infile.read()\n",
    "\n",
    "  messages = [\n",
    "      {\"role\": \"system\", \"content\": ICL_SYSTEM_PROMPT},\n",
    "      {\"role\": \"user\", \"content\": HISTORIAN_PROMPT(remove_footnote_content(example_letter, example_n), example_n)},\n",
    "      {\"role\": \"assistant\", \"content\": get_footnote_content(example_letter, example_n)},\n",
    "      {\"role\": \"user\", \"content\": HISTORIAN_PROMPT(letter, n)}\n",
    "  ]\n",
    "\n",
    "  return messages\n",
    "\n",
    "\n",
    "\n",
    "# test letter\n",
    "letter_id = 10224\n",
    "\n",
    "\n",
    "footnote_df = pd.read_csv(\"../../data/footnote_downsized_df.csv\")\n",
    "# get the letter\n",
    "with open(f\"../../data/downsized_letters/{letter_id}.xml\") as infile:\n",
    "  letter = infile.read()\n"
   ]
  },
  {
   "cell_type": "code",
   "execution_count": 14,
   "metadata": {},
   "outputs": [
    {
     "data": {
      "text/plain": [
       "[{'role': 'system',\n",
       "  'content': 'Du bist Historiker und hast dich auf die Reformation spezialisiert. Gerade arbeitest du daran Briefe von Heinrich Bullinger zu edieren.'},\n",
       " {'role': 'user',\n",
       "  'content': 'Bitte schlage mir einen Text für Fussnote n=7 in folgendem Dokument vor:\\n\\n<TEI xmlns=\"http://www.tei-c.org/ns/1.0\" xml:id=\"file11130\" type=\"Brief\" source=\"HBBW-8\" n=\"1087\">\\n\\t<teiHeader xml:lang=\"de\">\\n\\t\\t<fileDesc>\\n\\t\\t\\t<titleStmt>\\n\\t\\t\\t\\t<title subtype=\"file\">Andreas Bodenstein an Heinrich Bullinger, [Anfang] Januar 1538</title>\\n\\t\\t\\t</titleStmt>\\n\\t\\t\\t<publicationStmt>\\n\\t\\t\\t\\t<authority>Universität Zürich</authority>\\n\\t\\t\\t\\t</publicationStmt>\\n\\t\\t\\t<sourceDesc>\\n\\t\\t\\t\\t<bibl type=\"scan\">Zürich StA</bibl>\\n\\t\\t\\t\\t</sourceDesc>\\n\\t\\t</fileDesc>\\n\\t\\t</teiHeader>\\n\\t<text xml:lang=\"la\">\\n\\t\\t<body>\\n\\t\\t\\t<div xml:id=\"div1\" corresp=\"regest1\">\\n\\t\\t\\t\\t<p>\\n\\t\\t\\t\\t\\t<s n=\"1\" xml:lang=\"la\" type=\"auto\">S.</s>\\n\\t\\t\\t\\t\\t<s n=\"2\" xml:lang=\"la\" type=\"auto\">Tot obsequiis totque beneficiis iisdemque pleniss[imis] demeritus es me, vir et ornatissime et eruditissime, ut peccare me fateor multa, nisi tuis precibus acquiesco tuęque pię voluntati neutiquam desum.</s>\\n\\t\\t\\t\\t\\t<s n=\"3\" xml:lang=\"la\" type=\"auto\">Equidem et debeo et volo rem factu longe difficiliorem subire, neque unquam defessum senties, tantum abest, ut nunc non obsequar, at quando negocium vel unum [a] me confici non potest, minime mihi adscribendum, quod in alio situm est.</s>\\n\\t\\t\\t\\t\\t<s n=\"4\" xml:lang=\"la\" type=\"auto\">Proinde quando <persName ref=\"p6674\" cert=\"high\">Stapferi</persName> voluntas cum mea debeat neque possit neque velit convenire, non difficile cernes caput inobediencię.</s>\\n\\t\\t\\t\\t\\t<s n=\"5\" xml:lang=\"la\" type=\"auto\">Egressus is est domo, libros et alia extulit; citra notationem mei ęgre revocabitur, praesertim cum sciam illum iactaturum me suę pecunię adeo cupidum et ex ea tanto opere saginari posse, ut eius fiducia retractem ad me.</s>\\n\\t\\t\\t\\t\\t<s n=\"6\" xml:lang=\"la\" type=\"auto\">Id colligo ex anteactis opprobriis, siquidem pecuniam suam toties uxori<note xml:id=\"fn3\" type=\"footnote\" n=\"3\"><persName ref=\"p7589\" cert=\"high\">Anna Karlstadt, geb. von Mochau</persName>.</note> et filiis<note xml:id=\"fn4\" type=\"footnote\" n=\"4\">Siehe unten Anm. 12.</note> exprobravit, quasi nos ex ea vivere necesse sit ipseque de beneficencia donet.</s>\\n\\t\\t\\t\\t\\t<s n=\"7\" xml:lang=\"la\" type=\"auto\">Equidem autem certus sum ipsum 26 fl. non assecuturum, quae ego contemplatione tui et aliorum (qui pro eo intercesserunt) in illum contuli.</s>\\n\\t\\t\\t\\t\\t<s n=\"8\" xml:lang=\"la\" type=\"auto\">Is enim[?] spaciosum lectulum unus subinde nisus est occupare pecuniam obiectans.</s>\\n\\t\\t\\t\\t\\t<s n=\"9\" xml:lang=\"la\" type=\"auto\">Verum caussam diversionis eius paucis accipe.</s>\\n\\t\\t\\t\\t\\t<s n=\"10\" xml:lang=\"la\" type=\"auto\">Est nobis doctor quidam medicinę, cui <persName ref=\"p6618\" cert=\"high\">Sebastiano</persName> nomen, qui Latine, Gręce, Hebraice mire doctus existit.</s>\\n\\t\\t\\t\\t\\t<s n=\"11\" xml:lang=\"la\" type=\"auto\">Huius<pb type=\"edition\" next=\"26\"/> uxor<note xml:id=\"fn6\" type=\"footnote\" n=\"6\"><persName ref=\"p6616\" cert=\"high\">Elisabeth Sinckeler, geb. Wyßhärin</persName>; vgl. <persName ref=\"p164\" cert=\"high\">Amerbach</persName>, Korr. IV ff, Reg.</note> et filia<note xml:id=\"fn7\" type=\"footnote\" n=\"7\"></note> invisere meam coniugem valitudine haud optima constitutam.</s>\\n\\t\\t\\t\\t\\t<s n=\"12\" xml:lang=\"la\" type=\"auto\">Fuit autem mea in hipocausto oppido angusto unam duntaxat tabulam capiente.</s>\\n\\t\\t\\t\\t\\t<s n=\"13\" xml:lang=\"la\" type=\"auto\">Eo cum venissent, ingredior excepturus.</s>\\n\\t\\t\\t\\t\\t<s n=\"14\" xml:lang=\"la\" type=\"auto\">Exceptis eis iussi <persName ref=\"p6674\" cert=\"high\">Stapfero</persName> hospitibus cedere, quod is meliorem mensę partem occupavit, unde peiore loco honestas hospites sedere oportebat.</s>\\n\\t\\t\\t\\t\\t<s n=\"15\" xml:lang=\"la\" type=\"auto\">Abii; putabam cessurum.</s>\\n\\t\\t\\t\\t\\t<s n=\"16\" xml:lang=\"la\" type=\"auto\">Tandem honestatis gracia rediens eodem in loco <persName ref=\"p6674\" cert=\"high\">Stapferum</persName> video sedere et libros compingere, quem non sine stomacho rursus iubeo in suum hypocaustum abire, sed respondit doctoris uxorem permisisse.</s>\\n\\t\\t\\t\\t\\t<s n=\"17\" xml:lang=\"la\" type=\"auto\">Itaque locum occupatum mordicus detinet, neque hoc contentus, nam me in lectionem profecto nidore bituminis incipit molestare contubernium.</s>\\n\\t\\t\\t\\t\\t<s n=\"18\" xml:lang=\"la\" type=\"auto\">Hec et alia de lectione reversus audiens indigne tuli et dixi flagitium tale non modo cum literis sacrosanctis, sed cum legibus pugnare, imo contra naturam, adeoque sacius esse ipsum carere literis quam has socias facinorum facere.</s>\\n\\t\\t\\t\\t\\t<s n=\"19\" xml:lang=\"la\" type=\"auto\">Hic autem sic movebatur, ut ilico sibi providebat, imo me iniuria nova et acri affecit.</s>\\n\\t\\t\\t\\t\\t<s n=\"20\" xml:lang=\"la\" type=\"auto\">Itaque invitum et reluctantem non putavi diutius retinendum, quamquam parum licere putarem ei, quem curatoris<note xml:id=\"fn8\" type=\"footnote\" n=\"8\">Als Vogt <persName ref=\"p6674\" cert=\"high\">Heinrich Stapfers</persName> amtierte <persName ref=\"p5544\" cert=\"high\">Gebhart Krüttli</persName>, s. Zürich StA, B VI 334, 140v.-141r. 204r.</note> autoritate tuoque interventu suscepi, vobis ignorantibus permittere discessum.</s>\\n\\t\\t\\t\\t\\t<s n=\"21\" xml:lang=\"la\" type=\"auto\">Poteris ex hisce ipse colligere, quas turbas daturus esset, si reciperem, neque dubito te sic <persName ref=\"p6674\" cert=\"high\">Stapfero</persName> favere, ut mihi tranquillitatem non invideas.</s>\\n\\t\\t\\t\\t\\t<s n=\"22\" xml:lang=\"la\" type=\"auto\">Pręstat itaque, ut alibi sit, cum mihi sit honestum et utile eius ab commercio abstinere.</s>\\n\\t\\t\\t\\t\\t<s n=\"23\" xml:lang=\"la\" type=\"auto\">Si mansisset mecum, lubens auscultarem tibi praecipienti, cui inservire iucundum est.</s>\\n\\t\\t\\t\\t</p>\\n\\t\\t\\t\\t<p>\\n\\t\\t\\t\\t\\t<s n=\"24\" xml:lang=\"la\" type=\"auto\">Vale felicissime.</s>\\n\\t\\t\\t\\t\\t<s n=\"25\" xml:lang=\"la\" type=\"auto\">Uxorem tuam<note xml:id=\"fn9\" type=\"footnote\" n=\"9\"><persName ref=\"p8051\" cert=\"high\">Anna, geb. Adlischwyler</persName>.</note> atque matrem<note xml:id=\"fn10\" type=\"footnote\" n=\"10\"><persName ref=\"p7042\" cert=\"high\">Anna, geb. Wiederkehr</persName>.</note> et liberos<note xml:id=\"fn11\" type=\"footnote\" n=\"11\">Vgl. <bibl>HBBW VI</bibl> <ref target=\"file10782\">[Nr. 744]</ref>, S. 124, Anm. 34, sowie die folgende Anm.</note> saluta.</s>\\n\\t\\t\\t\\t\\t<s n=\"26\" xml:lang=\"la\" type=\"auto\">Gaudeo te numerum exęquasse nostrum liberum et tuam tibi felicitatem omnem congratulor.</s>\\n\\t\\t\\t\\t\\t<s n=\"27\" xml:lang=\"la\" type=\"auto\">Saluta dominos meos praeceptores et fratres.<pb type=\"edition\" next=\"27\"/></s>\\n\\t\\t\\t\\t</p>\\n\\t\\t\\t\\t<p>\\n\\t\\t\\t\\t\\t<s n=\"28\" xml:lang=\"la\" type=\"auto\"><placeName ref=\"l28\" cert=\"high\">Basileę</placeName>, celeriter, die ianuarii anno 38.</s>\\n\\t\\t\\t\\t\\t<s n=\"29\" xml:lang=\"la\" type=\"auto\">Tuus obsequibilis</s>\\n\\t\\t\\t\\t</p>\\n\\t\\t\\t\\t<p>\\n\\t\\t\\t\\t\\t<s n=\"30\" xml:lang=\"la\" type=\"auto\">And. <persName ref=\"p4349\" cert=\"high\">Carolostadius</persName>.</s>\\n\\t\\t\\t\\t</p>\\n\\t\\t\\t\\t<p>\\n\\t\\t\\t\\t\\t<note type=\"address\">[Adresse auf der Rückseite:]</note>\\n\\t\\t\\t\\t\\t<s n=\"31\" xml:lang=\"la\" type=\"auto\">Pręclarissimo et doctissimo viro d. Henrico Bullingero, ecclesiastarum precipuo Tiguri, patrono suo venerando in domino semper.</s>\\n\\t\\t\\t\\t</p>\\n\\t\\t\\t</div>\\n\\t\\t</body>\\n\\t</text>\\n</TEI>\\n'},\n",
       " {'role': 'assistant',\n",
       "  'content': 'Gemeint ist wohl Fides, die als einziges von sechs Kindern <persName ref=\"p6616\" cert=\"high\">Sinckelers</persName> erwachsen wurde und um 1540 <persName ref=\"p4939\" cert=\"high\">Jakob Müller (gen. Gerster)</persName> heiratete; vgl. <persName ref=\"p164\" cert=\"high\">Amerbach</persName>, Korr. IV ff, Reg.'},\n",
       " {'role': 'user',\n",
       "  'content': 'Bitte schlage mir einen Text für Fussnote n=3 in folgendem Dokument vor:\\n\\n<TEI xmlns=\"http://www.tei-c.org/ns/1.0\" xml:id=\"file10224\" type=\"Brief\" source=\"HBBW-3\" n=\"193\">\\n\\t<teiHeader xml:lang=\"de\">\\n\\t\\t<fileDesc>\\n\\t\\t\\t<titleStmt>\\n\\t\\t\\t\\t<title subtype=\"file\">Konrad Geßner, Johannes Fries / Basel an Heinrich Bullinger, 25. Februar [1533]</title>\\n\\t\\t\\t</titleStmt>\\n\\t\\t\\t<publicationStmt>\\n\\t\\t\\t\\t<authority>Universität Zürich</authority>\\n\\t\\t\\t\\t</publicationStmt>\\n\\t\\t\\t<sourceDesc>\\n\\t\\t\\t\\t</sourceDesc>\\n\\t\\t</fileDesc>\\n\\t\\t</teiHeader>\\n\\t<text xml:lang=\"la\">\\n\\t\\t<body>\\n\\t\\t\\t<div xml:id=\"div1\" corresp=\"regest1\">\\n\\t\\t\\t\\t<p>\\n\\t\\t\\t\\t\\t<s n=\"1\" xml:lang=\"la\" type=\"auto\">Optimo et integerrimo viro M. Henrico Bullingero, mecaenati charissimo.</s>\\n\\t\\t\\t\\t</p>\\n\\t\\t\\t\\t<p>\\n\\t\\t\\t\\t\\t<s n=\"2\" xml:lang=\"la\" type=\"auto\">S.</s>\\n\\t\\t\\t\\t\\t<s n=\"3\" xml:lang=\"la\" type=\"auto\">Impediunt nos ab itinere<note xml:id=\"fn3\" type=\"footnote\" n=\"3\"><persName ref=\"p1283\" cert=\"high\">Geßner</persName> und <persName ref=\"p1214\" cert=\"high\">Fries</persName> befanden sich auf dem Weg nach <placeName ref=\"l59\" cert=\"high\">Bourges</placeName>.</note> nives, pluvia et ventorum vis.</s>\\n\\t\\t\\t\\t\\t<s n=\"4\" xml:lang=\"la\" type=\"auto\"><placeName ref=\"l28\" cert=\"high\">Basileae</placeName> apud <persName ref=\"p8418\" cert=\"high\">Myconium</persName><note xml:id=\"fn4\" type=\"footnote\" n=\"4\"><persName ref=\"p1214\" cert=\"high\">Fries</persName> und <persName ref=\"p1283\" cert=\"high\">Geßner</persName> waren in einem Brief <persName ref=\"p8127\" cert=\"high\">Pellikans</persName> vom 19. Februar 1533 an <persName ref=\"p8418\" cert=\"high\">Myconius</persName> empfohlen worden (Zürich StA, E II 358, 98).</note> sine sumtu moramur sudum coelum et tempestatem mitiorem expectantes.</s>\\n\\t\\t\\t\\t\\t<s n=\"5\" xml:lang=\"la\" type=\"auto\">Nivibus obrutae sunt viae omnes, montes praesertim, per quos nulla itinera nunc patent.</s>\\n\\t\\t\\t\\t\\t<s n=\"6\" xml:lang=\"la\" type=\"auto\">Maxime tamen omnium nos detinet, quod Gallos et alios quosdam itineris comites facturos brevi hic invenimus.</s>\\n\\t\\t\\t\\t\\t<s n=\"7\" xml:lang=\"la\" type=\"auto\">Tuam humanitatem rogamus literas nobis a senatu poscat Tigurinos nos esse et a Tigurino senatu propter studia ablegatos.</s>\\n\\t\\t\\t\\t\\t<s n=\"8\" xml:lang=\"la\" type=\"auto\">Ita enim docti plerique consuluerunt, quo nobis tutioribus esse liceat.</s>\\n\\t\\t\\t\\t\\t<s n=\"9\" xml:lang=\"la\" type=\"auto\">Ne nos negligas etiam atque etiam oramus poscimusque.</s>\\n\\t\\t\\t\\t\\t<s n=\"10\" xml:lang=\"la\" type=\"auto\">Si dederis operam, facile impetrabis.</s>\\n\\t\\t\\t\\t\\t<s n=\"11\" xml:lang=\"la\" type=\"auto\">Literis nos acceptis<note xml:id=\"fn6\" type=\"footnote\" n=\"6\">Nach Aussage von <persName ref=\"p8398\" cert=\"high\">Konrad Klauser</persName> haben <persName ref=\"p1283\" cert=\"high\">Geßner</persName> und <persName ref=\"p1214\" cert=\"high\">Fries</persName> die gewünschten Empfehlungsschreiben offenbar erhalten (s. unten <ref target=\"file10226\">[Nr. 195]</ref> S. 77, 5). Auffindbar sind sie jedoch nicht mehr.</note> quamprimum cum comitibus maturabimus iter.</s>\\n\\t\\t\\t\\t</p>\\n\\t\\t\\t\\t<p>\\n\\t\\t\\t\\t\\t<s n=\"12\" xml:lang=\"la\" type=\"auto\">Vale et nos tibi commendatos habe.</s>\\n\\t\\t\\t\\t</p>\\n\\t\\t\\t\\t<p>\\n\\t\\t\\t\\t\\t<s n=\"13\" xml:lang=\"la\" type=\"auto\"><placeName ref=\"l28\" cert=\"high\">Basileae</placeName> in aedibus <persName ref=\"p8418\" cert=\"high\">Myconii</persName>, februarii 25.</s>\\n\\t\\t\\t\\t</p>\\n\\t\\t\\t\\t<p>\\n\\t\\t\\t\\t\\t<s n=\"14\" xml:lang=\"la\" type=\"auto\"><persName ref=\"p1214\" cert=\"high\">Ioannes Frisius</persName> et <persName ref=\"p1283\" cert=\"high\">C. Gesnerus</persName> tui toti.</s>\\n\\t\\t\\t\\t</p>\\n\\t\\t\\t</div>\\n\\t\\t</body>\\n\\t</text>\\n</TEI>\\n'}]"
      ]
     },
     "execution_count": 14,
     "metadata": {},
     "output_type": "execute_result"
    }
   ],
   "source": [
    "instruct_prompt_fill_in(letter, 3)"
   ]
  },
  {
   "cell_type": "code",
   "execution_count": 15,
   "metadata": {},
   "outputs": [
    {
     "name": "stdout",
     "output_type": "stream",
     "text": [
      "Die Reise von Geßner und Fries nach Bourges war Teil ihrer Bemühungen, an der dortigen Universität zu studieren und sich mit anderen Gelehrten auszutauschen. Bourges war zu dieser Zeit ein Zentrum humanistischer Studien und zog viele Intellektuelle an, die sich mit den reformatorischen Ideen auseinandersetzten.\n",
      "Die Reise von Geßner und Fries nach Bourges war Teil ihrer Bemühungen, an der dortigen Universität zu studieren und sich mit anderen Gelehrten auszutauschen. Bourges war zu dieser Zeit ein Zentrum humanistischer Studien und zog viele Intellektuelle an, die sich mit den Ideen der Reformation und der klassischen Antike auseinandersetzten.\n"
     ]
    }
   ],
   "source": [
    "tokens = []\n",
    "for i in range(10):\n",
    "    text, in_toks, out_toks = model.generate(instruct_prompt_fill_in(letter, 3))\n",
    "    tokens.append((in_toks, out_toks))\n",
    "    print(text)"
   ]
  },
  {
   "cell_type": "code",
   "execution_count": 16,
   "metadata": {},
   "outputs": [
    {
     "data": {
      "text/plain": [
       "0.0024186"
      ]
     },
     "execution_count": 16,
     "metadata": {},
     "output_type": "execute_result"
    }
   ],
   "source": [
    "calculate_openai_cost(tokens, (0.3,1.2))"
   ]
  },
  {
   "cell_type": "markdown",
   "metadata": {},
   "source": [
    "#### Test 3\n",
    "giving the empty letter, with one FN as an example"
   ]
  },
  {
   "cell_type": "code",
   "execution_count": 27,
   "metadata": {},
   "outputs": [],
   "source": [
    "def instruct_prompt_no_fns(letter, n, example_n=None):\n",
    "  \"\"\"\n",
    "  param text: Letter TEI\n",
    "  param n: Footnote to generate\n",
    "  example: letter_id and FN to give as an example, 12342 is from the dev-set...\"\"\"\n",
    "\n",
    "    # footnotes of that letter\n",
    "  footnote_df_letter = footnote_df[footnote_df[\"letter_id\"] == letter_id]\n",
    "\n",
    "  letter_no_fns = letter\n",
    "\n",
    "  # removing all FNs\n",
    "  for footnote in footnote_df_letter.iloc:  # Maybe we'll have to take care of the labels here...\n",
    "    letter_no_fns = remove_footnote_content(letter_no_fns, footnote[\"n_footnote\"])\n",
    "\n",
    "\n",
    "  messages = [\n",
    "      {\"role\": \"system\", \"content\": ICL_SYSTEM_PROMPT},\n",
    "  ]\n",
    "\n",
    "  # add example if specified\n",
    "  if example_n:\n",
    "    messages.append({\"role\": \"user\", \"content\": HISTORIAN_PROMPT(letter_no_fns, example_n)},)\n",
    "    messages.append({\"role\": \"assistant\", \"content\": get_footnote_content(letter, example_n)})\n",
    "\n",
    "  # add prompt for generation\n",
    "  messages.append({\"role\": \"user\", \"content\": HISTORIAN_PROMPT(letter_no_fns, n)})\n",
    "\n",
    "  return messages"
   ]
  },
  {
   "cell_type": "markdown",
   "metadata": {},
   "source": [
    "zero shot, wacky"
   ]
  },
  {
   "cell_type": "code",
   "execution_count": 50,
   "metadata": {},
   "outputs": [
    {
     "name": "stdout",
     "output_type": "stream",
     "text": [
      "Für die Fußnote n=3 könnte folgender Text vorgeschlagen werden:\n",
      "\n",
      "\"Die widrigen Wetterbedingungen, insbesondere Schnee, Regen und starker Wind, hindern uns an der Weiterreise.\"\n",
      "Für die Fußnote n=3 könnte folgender Text vorgeschlagen werden:\n",
      "\n",
      "\"Die widrigen Wetterbedingungen, insbesondere Schnee, Regen und starker Wind, hindern uns an der Weiterreise.\"\n",
      "Für die Fußnote n=3 könnte folgender Text vorgeschlagen werden:\n",
      "\n",
      "\"Die widrigen Wetterbedingungen, insbesondere Schnee, Regen und starker Wind, hindern uns an der Weiterreise.\"\n",
      "Für die Fußnote n=3 könnte folgender Text vorgeschlagen werden:\n",
      "\n",
      "\"Die widrigen Wetterbedingungen, insbesondere Schnee, Regen und starker Wind, hindern uns an der Weiterreise.\"\n",
      "Für die Fußnote n=3 könnte folgender Text vorgeschlagen werden:\n",
      "\n",
      "\"Die widrigen Wetterbedingungen, insbesondere Schnee, Regen und starker Wind, hindern uns an der Weiterreise.\"\n",
      "Für die Fußnote n=3 könnte folgender Text vorgeschlagen werden:\n",
      "\n",
      "\"Die widrigen Wetterbedingungen, insbesondere Schnee, Regen und starker Wind, hindern uns an der Weiterreise.\"\n",
      "Für die Fußnote n=3 könnte folgender Text vorgeschlagen werden:\n",
      "\n",
      "\"Die widrigen Wetterbedingungen, insbesondere Schnee, Regen und starker Wind, hindern uns an der Weiterreise.\"\n",
      "Für die Fußnote n=3 könnte folgender Text vorgeschlagen werden:\n",
      "\n",
      "\"Die widrigen Wetterbedingungen, insbesondere Schnee, Regen und starker Wind, hindern uns an der Weiterreise.\"\n",
      "Für die Fußnote n=3 könnte folgender Text vorgeschlagen werden:\n",
      "\n",
      "\"Die widrigen Wetterbedingungen, insbesondere Schnee, Regen und starker Wind, hindern uns an der Weiterreise.\"\n",
      "Für die Fußnote n=3 könnte folgender Text vorgeschlagen werden:\n",
      "\n",
      "\"Die widrigen Wetterbedingungen, insbesondere Schnee, Regen und starker Wind, hindern uns an der Weiterreise.\"\n"
     ]
    }
   ],
   "source": [
    "tokens = []\n",
    "for i in range(10):\n",
    "    text, in_toks, out_toks = model.generate(instruct_prompt_no_fns(letter, 3))\n",
    "    tokens.append((in_toks, out_toks))\n",
    "    print(text)"
   ]
  },
  {
   "cell_type": "code",
   "execution_count": 51,
   "metadata": {},
   "outputs": [
    {
     "data": {
      "text/plain": [
       "0.03447"
      ]
     },
     "execution_count": 51,
     "metadata": {},
     "output_type": "execute_result"
    }
   ],
   "source": [
    "calculate_openai_cost(tokens, (3,6))"
   ]
  },
  {
   "cell_type": "code",
   "execution_count": 28,
   "metadata": {},
   "outputs": [
    {
     "name": "stdout",
     "output_type": "stream",
     "text": [
      "<note xml:id=\"fn4\" type=\"footnote\" n=\"4\">Myconius, ein bekannter Humanist und Reformator, war zu dieser Zeit in Basel aktiv und spielte eine wichtige Rolle in der reformatorischen Bewegung. Die Erwähnung seiner Person deutet auf die enge Verbindung zwischen den Reformatoren und den humanistischen Kreisen in Basel hin.</note>\n",
      "<note xml:id=\"fn4\" type=\"footnote\" n=\"4\">Myconius, ein bekannter Humanist und Reformator, war zu dieser Zeit in Basel aktiv und spielte eine wichtige Rolle in der reformatorischen Bewegung. Die Erwähnung seiner Wohnstätte deutet auf die enge Verbindung zwischen den Reformatoren und den humanistischen Kreisen in Basel hin.</note>\n",
      "<note xml:id=\"fn4\" type=\"footnote\" n=\"4\">Myconius, ein bekannter Humanist und Reformator, war zu dieser Zeit in Basel aktiv und spielte eine wichtige Rolle in der reformatorischen Bewegung. Die Erwähnung seiner Wohnstätte deutet auf die enge Verbindung zwischen den Reformatoren und den humanistischen Kreisen in Basel hin.</note>\n",
      "<note xml:id=\"fn4\" type=\"footnote\" n=\"4\">Myconius, ein bekannter Humanist und Reformator, war zu dieser Zeit in Basel aktiv und spielte eine wichtige Rolle in der reformatorischen Bewegung. Die Erwähnung seiner Wohnstätte deutet auf die enge Verbindung zwischen den Reformatoren und den humanistischen Kreisen in Basel hin.</note>\n",
      "<note xml:id=\"fn4\" type=\"footnote\" n=\"4\">Myconius, ein bekannter Humanist und Reformator, war zu dieser Zeit in Basel tätig und spielte eine wichtige Rolle in der reformatorischen Bewegung. Die Erwähnung seiner Wohnstätte deutet auf die enge Verbindung zwischen den Reformatoren und den humanistischen Kreisen in Basel hin.</note>\n",
      "<note xml:id=\"fn4\" type=\"footnote\" n=\"4\">Myconius, ein bekannter Humanist und Reformator, war zu dieser Zeit in Basel aktiv und spielte eine wichtige Rolle in der reformatorischen Bewegung. Die Erwähnung seiner Wohnstätte deutet auf die enge Verbindung zwischen den Reformatoren und den humanistischen Kreisen in Basel hin.</note>\n",
      "<note xml:id=\"fn4\" type=\"footnote\" n=\"4\">Myconius, ein bekannter Humanist und Reformator, war zu dieser Zeit in Basel aktiv und spielte eine wichtige Rolle in der reformatorischen Bewegung. Die Erwähnung seiner Wohnstätte deutet auf die enge Verbindung zwischen den Reformatoren und den humanistischen Kreisen in Basel hin.</note>\n",
      "<note xml:id=\"fn4\" type=\"footnote\" n=\"4\">Myconius, ein bekannter Humanist und Reformator, war zu dieser Zeit in Basel aktiv und spielte eine wichtige Rolle in der reformatorischen Bewegung. Die Erwähnung seiner Wohnstätte deutet auf die enge Verbindung zwischen den Reformatoren und den humanistischen Kreisen in Basel hin.</note>\n",
      "<note xml:id=\"fn4\" type=\"footnote\" n=\"4\">Myconius, ein bekannter Humanist und Reformator, war zu dieser Zeit in Basel aktiv und spielte eine wichtige Rolle in der reformatorischen Bewegung. Die Erwähnung seiner Wohnstätte deutet auf die enge Verbindung zwischen den Reformatoren und den humanistischen Kreisen in Basel hin.</note>\n",
      "<note xml:id=\"fn4\" type=\"footnote\" n=\"4\">Myconius, ein bekannter Humanist und Reformator, war zu dieser Zeit in Basel aktiv und spielte eine wichtige Rolle in der reformatorischen Bewegung. Die Erwähnung seiner Wohnstätte deutet auf die enge Verbindung zwischen den Reformatoren und den humanistischen Kreisen in Basel hin.</note>\n"
     ]
    }
   ],
   "source": [
    "tokens = []\n",
    "for i in range(10):\n",
    "    text, in_toks, out_toks = model.generate(instruct_prompt_no_fns(letter, 4, example_n=3))\n",
    "    tokens.append((in_toks, out_toks))\n",
    "    print(text)\n",
    "    "
   ]
  },
  {
   "cell_type": "code",
   "execution_count": 29,
   "metadata": {},
   "outputs": [
    {
     "data": {
      "text/plain": [
       "0.006931800000000001"
      ]
     },
     "execution_count": 29,
     "metadata": {},
     "output_type": "execute_result"
    }
   ],
   "source": [
    "calculate_openai_cost(tokens, (0.3,1.2))"
   ]
  },
  {
   "cell_type": "markdown",
   "metadata": {},
   "source": [
    "#### test 4\n",
    "GPT can easily handle the long letter"
   ]
  },
  {
   "cell_type": "code",
   "execution_count": 54,
   "metadata": {},
   "outputs": [],
   "source": [
    "# test letter\n",
    "letter_id = 12260\n",
    "\n",
    "\n",
    "footnote_df = pd.read_csv(\"../../data/footnote_df.csv\")\n",
    "# get the letter\n",
    "with open(f\"../../data/human/{letter_id}.xml\") as infile:\n",
    "  letter = infile.read()"
   ]
  },
  {
   "cell_type": "code",
   "execution_count": 57,
   "metadata": {},
   "outputs": [
    {
     "data": {
      "text/plain": [
       "[{'role': 'system',\n",
       "  'content': 'You are a research assistant for a historian, specialized on the European reformation working on an edition of the correspondence of Heinrich Bullinger. Given a letter in TEI format, your task is to complete the missing footnote'},\n",
       " {'role': 'user',\n",
       "  'content': 'Bitte schlage mir einen Text für Fussnote n=9 in folgendem Dokument vor:\\n\\n<TEI xmlns=\"http://www.tei-c.org/ns/1.0\" xml:id=\"file12260\" type=\"Brief\" source=\"HBBW-15\" n=\"2213\">\\n\\t<teiHeader xml:lang=\"de\">\\n\\t\\t<fileDesc>\\n\\t\\t\\t<titleStmt>\\n\\t\\t\\t\\t<title subtype=\"file\">Matthias Erb / Reichenweier an Heinrich Bullinger, 11. August [1545]</title>\\n\\t\\t\\t</titleStmt>\\n\\t\\t\\t<publicationStmt>\\n\\t\\t\\t\\t<authority>Universität Zürich</authority>\\n\\t\\t\\t\\t</publicationStmt>\\n\\t\\t\\t<sourceDesc>\\n\\t\\t\\t\\t<bibl type=\"scan\">Zürich StA</bibl>\\n\\t\\t\\t\\t</sourceDesc>\\n\\t\\t</fileDesc>\\n\\t\\t</teiHeader>\\n\\t<text xml:lang=\"la\">\\n\\t\\t<body>\\n\\t\\t\\t<div xml:id=\"div1\" corresp=\"regest1\">\\n\\t\\t\\t\\t<p>\\n\\t\\t\\t\\t\\t<s n=\"1\" xml:lang=\"la\" type=\"auto\">Gratia domini tecum.</s>\\n\\t\\t\\t\\t\\t<s n=\"2\" xml:lang=\"la\" type=\"auto\">Quum decima augusti<note xml:id=\"fn2\" type=\"footnote\" n=\"2\"></note> e suggestu descendissem me actutum a templo ad aulam conferens (vocatus scilicet a cancellario<note xml:id=\"fn3\" type=\"footnote\" n=\"3\"></note> ob quędam negotia ecclesię componenda), venit hic tuus legatus<note xml:id=\"fn4\" type=\"footnote\" n=\"4\"></note> hora ferme nona et, dum in angiportu sisto gradum, servum<note xml:id=\"fn5\" type=\"footnote\" n=\"5\"></note> ad limina de <persName ref=\"p1010\" cert=\"high\">Erbio</persName> rogat, me vero oculis ostiario significante ne proderet, statim digito demonstrat dicens: „Hic est.“</s>\\n\\t\\t\\t\\t\\t<s n=\"3\" xml:lang=\"la\" type=\"auto\">Is ergo ad me veniens percunctatur, an mihi sit nomen <persName ref=\"p1010\" cert=\"high\">Erbio</persName>.</s>\\n\\t\\t\\t\\t\\t<s n=\"4\" xml:lang=\"la\" type=\"auto\">Aio.</s>\\n\\t\\t\\t\\t\\t<s n=\"5\" xml:lang=\"la\" type=\"auto\">Statimque litteras<note xml:id=\"fn6\" type=\"footnote\" n=\"6\"></note> depromens dicebat a te missas.</s>\\n\\t\\t\\t\\t\\t<s n=\"6\" xml:lang=\"la\" type=\"auto\">Acceptas legi simul obstupescens tuam, qui alias occupatissimus es, sedulitatem in describendis ex autographo copiis<note xml:id=\"fn7\" type=\"footnote\" n=\"7\"></note>.</s>\\n\\t\\t\\t\\t\\t<s n=\"7\" xml:lang=\"la\" type=\"auto\">Stans ergo attonitus et propemodum exanimis iussi adolescentem expectare, dum redeam, atque subinde inter tractatus et varias dissidentium quęstiones et tacite et indesinenter volvo ac revolvo intime, quę scripseras.</s>\\n\\t\\t\\t\\t\\t<s n=\"8\" xml:lang=\"la\" type=\"auto\">Absolutus a strepitu aulico eo cum adolescente pransum interque epulandum de singulis rebus percunctor, statim scilicet a mensa tibi responsurus.</s>\\n\\t\\t\\t\\t\\t<s n=\"9\" xml:lang=\"la\" type=\"auto\">Dum id meditor, alius adest nuntius<note xml:id=\"fn8\" type=\"footnote\" n=\"8\"></note> litteras ferens a principe<note xml:id=\"fn9\" type=\"footnote\" n=\"9\"></note>, in quibus multa mihi committuntur negotia principemque a comitiis<note xml:id=\"fn10\" type=\"footnote\" n=\"10\"></note> propediem rediturum pollicentes.</s>\\n\\t\\t\\t\\t\\t<s n=\"10\" xml:lang=\"la\" type=\"auto\">Hinc eo die, tametsi adolescens crebro urgeret abituriens, nil scripsi omnia in posterum, hoc est in hodiernum, reiiciens diem.</s>\\n\\t\\t\\t\\t\\t<s n=\"11\" xml:lang=\"la\" type=\"auto\">Haec de pueri tui diligentia.</s>\\n\\t\\t\\t\\t</p>\\n\\t\\t\\t\\t<p>\\n\\t\\t\\t\\t\\t<s n=\"12\" xml:lang=\"la\" type=\"auto\">Quod vero ad negotium adtinet, paucis haec accipe.</s>\\n\\t\\t\\t\\t\\t<s n=\"13\" xml:lang=\"la\" type=\"auto\">Fateor me iam annum quinquagesimum egressum<note xml:id=\"fn11\" type=\"footnote\" n=\"11\"></note>, et qui nunc in ea aetate sum, quę sedatior esse cupit, sepicule curas aulicas, quibus distringor,<pb type=\"scan\" next=\"257v.\"/> depręcatum, sed parum promovisse; imo, quo plus me expedire cupio, eo amplius perstringor dispendio et vitae et rerum.</s>\\n\\t\\t\\t\\t\\t<s n=\"14\" xml:lang=\"la\" type=\"auto\">Sic deo optimo maximo visum est.</s>\\n\\t\\t\\t\\t</p>\\n\\t\\t\\t\\t<p>\\n\\t\\t\\t\\t\\t<s n=\"15\" xml:lang=\"la\" type=\"auto\">Quod ad vitam, ut omnia manifestius depingam, subit tarda senectus,<note xml:id=\"fn12\" type=\"footnote\" n=\"12\"></note> quę difficilis incipit esse, sola non suffitiens laboribus, dum indies creberrime exantlatur.</s>\\n\\t\\t\\t\\t\\t<s n=\"16\" xml:lang=\"la\" type=\"auto\">Nullum habeo symmistam, ut nosti, opinor.</s>\\n\\t\\t\\t\\t\\t<s n=\"17\" xml:lang=\"la\" type=\"auto\">Plures iussu principis vocavi; sed horrent id, quod ego quęror.</s>\\n\\t\\t\\t\\t\\t<s n=\"18\" xml:lang=\"la\" type=\"auto\">Metuunt enim sibi ab ingeniis cervinis<note xml:id=\"fn13\" type=\"footnote\" n=\"13\"></note>, nec ego quenquam nisi volentem ad me trahere volo, etc.<pb type=\"edition\" next=\"439\"/></s>\\n\\t\\t\\t\\t\\t<s n=\"19\" xml:lang=\"la\" type=\"auto\">Quod vero ad res meas adtinet, male collocat ille, quem ex nomine nosti, stipendia.</s>\\n\\t\\t\\t\\t\\t<s n=\"20\" xml:lang=\"la\" type=\"auto\">Ex patrimonio intra quinquennium<note xml:id=\"fn16\" type=\"footnote\" n=\"16\"></note> ducentos fere aureos non in meam, sed magis ecclesię necessitatem exposui, quod dies domini revelabit.</s>\\n\\t\\t\\t\\t\\t<s n=\"21\" xml:lang=\"la\" type=\"auto\">Nec quęror, optime frater, de perditis rebus, sed de Harpiis furacibus, qui recte monentes non exaudiunt et ecclesię avaritię notam inurunt; quod non adeo magni referret, nisi metuendum de excidio foret.</s>\\n\\t\\t\\t\\t\\t<s n=\"22\" xml:lang=\"la\" type=\"auto\">Quamdiu rapiendum, placet Christus; dum defecerit ecclesię fiscus, non placebit ultra Christus!</s>\\n\\t\\t\\t\\t\\t<s n=\"23\" xml:lang=\"la\" type=\"auto\">Hactenus 3 fuimus in isto oppido, ubi quisque designatum habuit<pb type=\"edition\" next=\"440\"/> stipendium.</s>\\n\\t\\t\\t\\t\\t<s n=\"24\" xml:lang=\"la\" type=\"auto\">Ego nunc solus omnibus curis pręfectus aegre a satrapis<note xml:id=\"fn18\" type=\"footnote\" n=\"18\"></note> meum recipio stipendium, et si egerem, vix triobulo sublevarent.</s>\\n\\t\\t\\t\\t\\t<s n=\"25\" xml:lang=\"la\" type=\"auto\">Sunt pręterea et alię rationes, quibus te nolo nunc gravare scribendo, etc.</s>\\n\\t\\t\\t\\t\\t<s n=\"26\" xml:lang=\"la\" type=\"auto\">Atque inter tot turbines nondum video satis iustam occasionem desertionis huius ecclesię.</s>\\n\\t\\t\\t\\t</p>\\n\\t\\t\\t\\t<p>\\n\\t\\t\\t\\t\\t<s n=\"27\" xml:lang=\"de\" type=\"auto\"><pb type=\"scan\" next=\"257a,r.\"/>Summa.</s>\\n\\t\\t\\t\\t\\t<s n=\"28\" xml:lang=\"la\" type=\"auto\">Ita haereo inter sacrum et saxum<note xml:id=\"fn19\" type=\"footnote\" n=\"19\"></note>, ut nunc sine discrimine ecclesięque Christi maxima iactura, ut facile intelligis, discedere nequeam.</s>\\n\\t\\t\\t\\t</p>\\n\\t\\t\\t\\t<p>\\n\\t\\t\\t\\t\\t<s n=\"29\" xml:lang=\"la\" type=\"auto\">Atque eę sunt potissimę rationes.</s>\\n\\t\\t\\t\\t\\t<s n=\"30\" xml:lang=\"la\" type=\"auto\">Ecclesias nostras iam a sexto anno<note xml:id=\"fn20\" type=\"footnote\" n=\"20\"></note> utcunque in ordinem, ut potuimus - quando, ut volueramus, non licuit - redegimus.</s>\\n\\t\\t\\t\\t</p>\\n\\t\\t\\t\\t<p>\\n\\t\\t\\t\\t\\t<s n=\"31\" xml:lang=\"la\" type=\"auto\">Annitendum ergo, ut cępta perficiantur.</s>\\n\\t\\t\\t\\t\\t<s n=\"32\" xml:lang=\"la\" type=\"auto\">Ad hoc ecclesia illa nobis contigua, Montbelgardiana, cum suo principe<note xml:id=\"fn21\" type=\"footnote\" n=\"21\"></note> adhuc vacillat; de qua totus liber foret perscribendus.</s>\\n\\t\\t\\t\\t\\t<s n=\"33\" xml:lang=\"la\" type=\"auto\">Pręterea scholę quattuor in isto parviusculo agro sunt constitutę et quinta in rure instituenda, stipendia quoque studiosis quibusdam ante paucos menses pollicita,<note xml:id=\"fn23\" type=\"footnote\" n=\"23\"></note> sed haec non omnia firmata et rata, proponenda etiamnum ecclesię quędam decreta, quibus ad disciplinam et sanctos mores utcunque redigantur, idque statim redeunte principe.</s>\\n\\t\\t\\t\\t\\t<s n=\"34\" xml:lang=\"la\" type=\"auto\">Illo enim absente haec omnia conscripta sunt.</s>\\n\\t\\t\\t\\t\\t<s n=\"35\" xml:lang=\"la\" type=\"auto\">Dum igitur nunc mutavero locum omnia sub cultro relinquens<note xml:id=\"fn24\" type=\"footnote\" n=\"24\"></note>, facile intelligis, quid periculi inmineat.</s>\\n\\t\\t\\t\\t\\t<s n=\"36\" xml:lang=\"la\" type=\"auto\">In primis severus princeps, a quo omnia pendent, facile vel mutaretur vel irritaretur, ut solet hoc hominum genus; id quod nimirum magis in ecclesię quam in meum incomodum cęderet.</s>\\n\\t\\t\\t\\t\\t<s n=\"37\" xml:lang=\"la\" type=\"auto\">Viden inter coelum et terram me suspensum palpitare neque posse hac ratione vel vocatione, quę tamen et sancta et iusta, liberari?</s>\\n\\t\\t\\t\\t\\t<s n=\"38\" xml:lang=\"la\" type=\"auto\">Occasio mihi expectanda comodior, quę me liberet sine ecclesię iactura.</s>\\n\\t\\t\\t\\t\\t<s n=\"39\" xml:lang=\"la\" type=\"auto\">Nam si iam abirem, ecclesia viduata absque pastore inter cunctatores et cessatores fluctuaret, etc.</s>\\n\\t\\t\\t\\t</p>\\n\\t\\t\\t\\t<p>\\n\\t\\t\\t\\t\\t<s n=\"40\" xml:lang=\"la\" type=\"auto\"><pb type=\"scan\" next=\"257a,v.\"/>Ago vero et habeo tibi gratias inmortales, humanissime Bullingere, quod admodum ingenti cura meo nomine laboraveris, atque hoc impensius te amo, quod charitatis offitium non fucate, sed dextre candideque in me collocaris, imo significaris in hac sancta vocatione.</s>\\n\\t\\t\\t\\t\\t<s n=\"41\" xml:lang=\"la\" type=\"auto\">Respondebit olim procul dubio deus optimus maximus tuis votis, quo <placeName ref=\"l1976\" cert=\"high\">Augustani</placeName> nanciscantur virum aliquem sanctum, ecclesię dignum ministrum,<note xml:id=\"fn25\" type=\"footnote\" n=\"25\"></note> atque ego etiam tuis assiduis<pb type=\"edition\" next=\"441\"/> praecibus vel liberer publica occasione vel sub onere non defitiam.</s>\\n\\t\\t\\t\\t\\t<s n=\"42\" xml:lang=\"la\" type=\"auto\">Sed te etiamnum per Iesum Christum, ne deinceps plus mihi vel tribuas, immodicus scilicet virtutum mearum, quibus penitus careo, pręco, vel magis sentias de me, quam res est.</s>\\n\\t\\t\\t\\t\\t<s n=\"43\" xml:lang=\"la\" type=\"auto\">Optime enim mihi ipsi conscius sum curtę suppellectilis,<note xml:id=\"fn26\" type=\"footnote\" n=\"26\"></note> quam tu, ni fallor, maiori atque ego, nescio quorum iuditio persuasus, aestimas.</s>\\n\\t\\t\\t\\t</p>\\n\\t\\t\\t\\t<p>\\n\\t\\t\\t\\t\\t<s n=\"44\" xml:lang=\"la\" type=\"auto\">Porro, quod nunc temporis importunitas negat, alias benignus deus, ecclesiarum verus et unicus pastor<note xml:id=\"fn27\" type=\"footnote\" n=\"27\"></note>, solita clementia sancta resarciet oportunitate.</s>\\n\\t\\t\\t\\t\\t<s n=\"45\" xml:lang=\"la\" type=\"auto\">Sancto quoque magistratui <placeName ref=\"l1976\" cert=\"high\">Augustano</placeName>, inprimis vero erudito viro domino <persName ref=\"p8354\" cert=\"high\">Georgio Leto</persName><note xml:id=\"fn28\" type=\"footnote\" n=\"28\"></note>, ingentes gratias meo nomine agas, obsecro, quod me, ineptum homuntionem,<note xml:id=\"fn29\" type=\"footnote\" n=\"29\"></note> adeo egregia dignati sint vocatione.</s>\\n\\t\\t\\t\\t\\t<s n=\"46\" xml:lang=\"la\" type=\"auto\">Ego quoque deinceps eius ecclesię maiorem habebo - si potis fuero - ubique rationem, optoque illis stabilem pacem et concordiam talesque antistites, qui pietate, eruditione, prudentia, vigilantia et fidelitate ita pręmineant, quo Christus in ea republica ita mittat radices, ut nullis satanę et impiorum imposturis deiiciatur.</s>\\n\\t\\t\\t\\t\\t<s n=\"47\" xml:lang=\"la\" type=\"auto\">Monebis ergo illos, ne me deinceps expectent; ignoro enim meam liberationem.</s>\\n\\t\\t\\t\\t\\t<s n=\"48\" xml:lang=\"la\" type=\"auto\">Servet te Christus.</s>\\n\\t\\t\\t\\t</p>\\n\\t\\t\\t\\t<p>\\n\\t\\t\\t\\t\\t<note type=\"attachment\">[Beilage:]</note>\\n\\t\\t\\t\\t\\t<s n=\"49\" xml:lang=\"la\" type=\"auto\"><pb type=\"scan\" next=\"258r.\"/>Nova: Absolutionem conmitiorum<note xml:id=\"fn30\" type=\"footnote\" n=\"30\"></note> non ignoras, in quibus nil certi definitum, nisi quod istis hybernis mensibus adversarii nobis pacem condixerunt; futura aestate nobis providendum erit<note xml:id=\"fn31\" type=\"footnote\" n=\"31\"></note>.</s>\\n\\t\\t\\t\\t\\t<s n=\"50\" xml:lang=\"la\" type=\"auto\">Acta comitiorum nondum sunt publicata.</s>\\n\\t\\t\\t\\t\\t<s n=\"51\" xml:lang=\"la\" type=\"auto\">Aiunt quidam caesari<note xml:id=\"fn33\" type=\"footnote\" n=\"33\"></note> omnia esse commissa, ut dicat sententiam etiam in religionis negotio certis tamen conditionibus; quodsi verum fuerit, ovem dicemus lupo<note xml:id=\"fn34\" type=\"footnote\" n=\"34\"></note> commissam.</s>\\n\\t\\t\\t\\t</p>\\n\\t\\t\\t\\t<p>\\n\\t\\t\\t\\t\\t<s n=\"52\" xml:lang=\"la\" type=\"auto\"><persName ref=\"p18477\" cert=\"high\">Ferdinandus</persName> priori septimana<note xml:id=\"fn35\" type=\"footnote\" n=\"35\"></note> a comitiis magno strepitu solvens Bohemiam petit cum <persName ref=\"p7688\" cert=\"high\">Nausea</persName><note xml:id=\"fn36\" type=\"footnote\" n=\"36\"></note> suo et quibusdam monachis.</s>\\n\\t\\t\\t\\t\\t<s n=\"53\" xml:lang=\"la\" type=\"auto\">Sequenti septimana<pb type=\"edition\" next=\"442\"/> caesar abiturus est, sed quo, ignoratur<note xml:id=\"fn37\" type=\"footnote\" n=\"37\"></note>.</s>\\n\\t\\t\\t\\t\\t<s n=\"54\" xml:lang=\"la\" type=\"auto\">Erant alia dicta comitia ad <placeName ref=\"l410\" cert=\"high\">Reginospurgum</placeName> ad mensem octobrem,<note xml:id=\"fn38\" type=\"footnote\" n=\"38\"></note>, sed aiunt quidam irritata<note xml:id=\"fn39\" type=\"footnote\" n=\"39\"></note>, etc.</s>\\n\\t\\t\\t\\t</p>\\n\\t\\t\\t\\t<p>\\n\\t\\t\\t\\t\\t<s n=\"55\" xml:lang=\"la\" type=\"auto\">Urgent plures nacionale concilium, idque <placeName ref=\"322\" type=\"auto_name\">Metis</placeName><note xml:id=\"fn40\" type=\"footnote\" n=\"40\"></note> celebrari postulant.</s>\\n\\t\\t\\t\\t\\t<s n=\"56\" xml:lang=\"la\" type=\"auto\">Musher<note xml:id=\"fn41\" type=\"footnote\" n=\"41\"></note> de Gyß<note xml:id=\"fn42\" type=\"footnote\" n=\"42\"></note>, defuncti ducis Lotharingię frater<note xml:id=\"fn43\" type=\"footnote\" n=\"43\"></note>, patruum suum conscripto milite et auxilio regis<note xml:id=\"fn45\" type=\"footnote\" n=\"45\"></note> Gallorum conatur e ducatu pellere.</s>\\n\\t\\t\\t\\t\\t<s n=\"57\" xml:lang=\"la\" type=\"auto\"><persName ref=\"p18538\" cert=\"high\">Caesar</persName> vero iuniori<note xml:id=\"fn46\" type=\"footnote\" n=\"46\"></note>, qui patri<note xml:id=\"fn47\" type=\"footnote\" n=\"47\"></note> successit, subsidium et <placeName ref=\"l29\" cert=\"high\">Hispanum</placeName> militem pollicitus est.</s>\\n\\t\\t\\t\\t\\t<s n=\"58\" xml:lang=\"la\" type=\"auto\">Quodsi res non fuerit composita, putant novum bellum inter caesarem et Gallum oriturum.</s>\\n\\t\\t\\t\\t\\t<s n=\"59\" xml:lang=\"la\" type=\"auto\">Feruntur alia quedam nova, sed forte non fide digna: mundus mendatiis scatet<note xml:id=\"fn48\" type=\"footnote\" n=\"48\"></note>.</s>\\n\\t\\t\\t\\t\\t<s n=\"60\" xml:lang=\"la\" type=\"auto\">Haec omnia raptim.</s>\\n\\t\\t\\t\\t</p>\\n\\t\\t\\t\\t<p>\\n\\t\\t\\t\\t\\t<s n=\"61\" xml:lang=\"la\" type=\"auto\">Valebis igitur, vir humanissime, cum ecclesia sancta et familia.</s>\\n\\t\\t\\t\\t\\t<s n=\"62\" xml:lang=\"la\" type=\"auto\">Salutabis vicissim tuos, in primis meum <persName ref=\"p8412\" cert=\"high\">Megandrum</persName>, <persName ref=\"p8437\" cert=\"high\">Erasmum</persName>,<note xml:id=\"fn49\" type=\"footnote\" n=\"49\"></note> <persName ref=\"p8127\" cert=\"high\">Pellicanum</persName>, <persName ref=\"p8011\" cert=\"high\">Gvaltherum</persName> ac reliquos.</s>\\n\\t\\t\\t\\t</p>\\n\\t\\t\\t\\t<p>\\n\\t\\t\\t\\t\\t<s n=\"63\" xml:lang=\"la\" type=\"auto\">Ex aedibus meis, 11. die augusti.</s>\\n\\t\\t\\t\\t</p>\\n\\t\\t\\t\\t<p>\\n\\t\\t\\t\\t\\t<s n=\"64\" xml:lang=\"la\" type=\"auto\">Tuus <persName ref=\"p1010\" cert=\"high\">Matthias<lb/> Erbius</persName>.</s>\\n\\t\\t\\t\\t</p>\\n\\t\\t\\t\\t<p>\\n\\t\\t\\t\\t\\t<note type=\"address\">[Adresse auf der Rückseite:]</note>\\n\\t\\t\\t\\t\\t<s n=\"65\" xml:lang=\"la\" type=\"auto\">Vere erudito pioque domino Henrycho Bullingero, ecclesię Tigurinae vigilanti ministro, suo patrono singulari, etc.</s>\\n\\t\\t\\t\\t</p>\\n\\t\\t\\t</div>\\n\\t\\t</body>\\n\\t</text>\\n</TEI>\\n'},\n",
       " {'role': 'assistant',\n",
       "  'content': '<persName ref=\"p8098\" cert=\"high\">Graf Georg von Württemberg-Mömpelgard</persName>, der sich laut Z. 16 damals in <placeName ref=\"l569\" cert=\"high\">Worms</placeName> aufhielt. Seine Teilnahme am <placeName ref=\"l569\" cert=\"high\">Wormser</placeName> Reichstag ist in RTA JR XVIII-2 nicht belegt.'},\n",
       " {'role': 'user',\n",
       "  'content': 'Bitte schlage mir einen Text für Fussnote n=10 in folgendem Dokument vor:\\n\\n<TEI xmlns=\"http://www.tei-c.org/ns/1.0\" xml:id=\"file12260\" type=\"Brief\" source=\"HBBW-15\" n=\"2213\">\\n\\t<teiHeader xml:lang=\"de\">\\n\\t\\t<fileDesc>\\n\\t\\t\\t<titleStmt>\\n\\t\\t\\t\\t<title subtype=\"file\">Matthias Erb / Reichenweier an Heinrich Bullinger, 11. August [1545]</title>\\n\\t\\t\\t</titleStmt>\\n\\t\\t\\t<publicationStmt>\\n\\t\\t\\t\\t<authority>Universität Zürich</authority>\\n\\t\\t\\t\\t</publicationStmt>\\n\\t\\t\\t<sourceDesc>\\n\\t\\t\\t\\t<bibl type=\"scan\">Zürich StA</bibl>\\n\\t\\t\\t\\t</sourceDesc>\\n\\t\\t</fileDesc>\\n\\t\\t</teiHeader>\\n\\t<text xml:lang=\"la\">\\n\\t\\t<body>\\n\\t\\t\\t<div xml:id=\"div1\" corresp=\"regest1\">\\n\\t\\t\\t\\t<p>\\n\\t\\t\\t\\t\\t<s n=\"1\" xml:lang=\"la\" type=\"auto\">Gratia domini tecum.</s>\\n\\t\\t\\t\\t\\t<s n=\"2\" xml:lang=\"la\" type=\"auto\">Quum decima augusti<note xml:id=\"fn2\" type=\"footnote\" n=\"2\"></note> e suggestu descendissem me actutum a templo ad aulam conferens (vocatus scilicet a cancellario<note xml:id=\"fn3\" type=\"footnote\" n=\"3\"></note> ob quędam negotia ecclesię componenda), venit hic tuus legatus<note xml:id=\"fn4\" type=\"footnote\" n=\"4\"></note> hora ferme nona et, dum in angiportu sisto gradum, servum<note xml:id=\"fn5\" type=\"footnote\" n=\"5\"></note> ad limina de <persName ref=\"p1010\" cert=\"high\">Erbio</persName> rogat, me vero oculis ostiario significante ne proderet, statim digito demonstrat dicens: „Hic est.“</s>\\n\\t\\t\\t\\t\\t<s n=\"3\" xml:lang=\"la\" type=\"auto\">Is ergo ad me veniens percunctatur, an mihi sit nomen <persName ref=\"p1010\" cert=\"high\">Erbio</persName>.</s>\\n\\t\\t\\t\\t\\t<s n=\"4\" xml:lang=\"la\" type=\"auto\">Aio.</s>\\n\\t\\t\\t\\t\\t<s n=\"5\" xml:lang=\"la\" type=\"auto\">Statimque litteras<note xml:id=\"fn6\" type=\"footnote\" n=\"6\"></note> depromens dicebat a te missas.</s>\\n\\t\\t\\t\\t\\t<s n=\"6\" xml:lang=\"la\" type=\"auto\">Acceptas legi simul obstupescens tuam, qui alias occupatissimus es, sedulitatem in describendis ex autographo copiis<note xml:id=\"fn7\" type=\"footnote\" n=\"7\"></note>.</s>\\n\\t\\t\\t\\t\\t<s n=\"7\" xml:lang=\"la\" type=\"auto\">Stans ergo attonitus et propemodum exanimis iussi adolescentem expectare, dum redeam, atque subinde inter tractatus et varias dissidentium quęstiones et tacite et indesinenter volvo ac revolvo intime, quę scripseras.</s>\\n\\t\\t\\t\\t\\t<s n=\"8\" xml:lang=\"la\" type=\"auto\">Absolutus a strepitu aulico eo cum adolescente pransum interque epulandum de singulis rebus percunctor, statim scilicet a mensa tibi responsurus.</s>\\n\\t\\t\\t\\t\\t<s n=\"9\" xml:lang=\"la\" type=\"auto\">Dum id meditor, alius adest nuntius<note xml:id=\"fn8\" type=\"footnote\" n=\"8\"></note> litteras ferens a principe<note xml:id=\"fn9\" type=\"footnote\" n=\"9\"></note>, in quibus multa mihi committuntur negotia principemque a comitiis<note xml:id=\"fn10\" type=\"footnote\" n=\"10\"></note> propediem rediturum pollicentes.</s>\\n\\t\\t\\t\\t\\t<s n=\"10\" xml:lang=\"la\" type=\"auto\">Hinc eo die, tametsi adolescens crebro urgeret abituriens, nil scripsi omnia in posterum, hoc est in hodiernum, reiiciens diem.</s>\\n\\t\\t\\t\\t\\t<s n=\"11\" xml:lang=\"la\" type=\"auto\">Haec de pueri tui diligentia.</s>\\n\\t\\t\\t\\t</p>\\n\\t\\t\\t\\t<p>\\n\\t\\t\\t\\t\\t<s n=\"12\" xml:lang=\"la\" type=\"auto\">Quod vero ad negotium adtinet, paucis haec accipe.</s>\\n\\t\\t\\t\\t\\t<s n=\"13\" xml:lang=\"la\" type=\"auto\">Fateor me iam annum quinquagesimum egressum<note xml:id=\"fn11\" type=\"footnote\" n=\"11\"></note>, et qui nunc in ea aetate sum, quę sedatior esse cupit, sepicule curas aulicas, quibus distringor,<pb type=\"scan\" next=\"257v.\"/> depręcatum, sed parum promovisse; imo, quo plus me expedire cupio, eo amplius perstringor dispendio et vitae et rerum.</s>\\n\\t\\t\\t\\t\\t<s n=\"14\" xml:lang=\"la\" type=\"auto\">Sic deo optimo maximo visum est.</s>\\n\\t\\t\\t\\t</p>\\n\\t\\t\\t\\t<p>\\n\\t\\t\\t\\t\\t<s n=\"15\" xml:lang=\"la\" type=\"auto\">Quod ad vitam, ut omnia manifestius depingam, subit tarda senectus,<note xml:id=\"fn12\" type=\"footnote\" n=\"12\"></note> quę difficilis incipit esse, sola non suffitiens laboribus, dum indies creberrime exantlatur.</s>\\n\\t\\t\\t\\t\\t<s n=\"16\" xml:lang=\"la\" type=\"auto\">Nullum habeo symmistam, ut nosti, opinor.</s>\\n\\t\\t\\t\\t\\t<s n=\"17\" xml:lang=\"la\" type=\"auto\">Plures iussu principis vocavi; sed horrent id, quod ego quęror.</s>\\n\\t\\t\\t\\t\\t<s n=\"18\" xml:lang=\"la\" type=\"auto\">Metuunt enim sibi ab ingeniis cervinis<note xml:id=\"fn13\" type=\"footnote\" n=\"13\"></note>, nec ego quenquam nisi volentem ad me trahere volo, etc.<pb type=\"edition\" next=\"439\"/></s>\\n\\t\\t\\t\\t\\t<s n=\"19\" xml:lang=\"la\" type=\"auto\">Quod vero ad res meas adtinet, male collocat ille, quem ex nomine nosti, stipendia.</s>\\n\\t\\t\\t\\t\\t<s n=\"20\" xml:lang=\"la\" type=\"auto\">Ex patrimonio intra quinquennium<note xml:id=\"fn16\" type=\"footnote\" n=\"16\"></note> ducentos fere aureos non in meam, sed magis ecclesię necessitatem exposui, quod dies domini revelabit.</s>\\n\\t\\t\\t\\t\\t<s n=\"21\" xml:lang=\"la\" type=\"auto\">Nec quęror, optime frater, de perditis rebus, sed de Harpiis furacibus, qui recte monentes non exaudiunt et ecclesię avaritię notam inurunt; quod non adeo magni referret, nisi metuendum de excidio foret.</s>\\n\\t\\t\\t\\t\\t<s n=\"22\" xml:lang=\"la\" type=\"auto\">Quamdiu rapiendum, placet Christus; dum defecerit ecclesię fiscus, non placebit ultra Christus!</s>\\n\\t\\t\\t\\t\\t<s n=\"23\" xml:lang=\"la\" type=\"auto\">Hactenus 3 fuimus in isto oppido, ubi quisque designatum habuit<pb type=\"edition\" next=\"440\"/> stipendium.</s>\\n\\t\\t\\t\\t\\t<s n=\"24\" xml:lang=\"la\" type=\"auto\">Ego nunc solus omnibus curis pręfectus aegre a satrapis<note xml:id=\"fn18\" type=\"footnote\" n=\"18\"></note> meum recipio stipendium, et si egerem, vix triobulo sublevarent.</s>\\n\\t\\t\\t\\t\\t<s n=\"25\" xml:lang=\"la\" type=\"auto\">Sunt pręterea et alię rationes, quibus te nolo nunc gravare scribendo, etc.</s>\\n\\t\\t\\t\\t\\t<s n=\"26\" xml:lang=\"la\" type=\"auto\">Atque inter tot turbines nondum video satis iustam occasionem desertionis huius ecclesię.</s>\\n\\t\\t\\t\\t</p>\\n\\t\\t\\t\\t<p>\\n\\t\\t\\t\\t\\t<s n=\"27\" xml:lang=\"de\" type=\"auto\"><pb type=\"scan\" next=\"257a,r.\"/>Summa.</s>\\n\\t\\t\\t\\t\\t<s n=\"28\" xml:lang=\"la\" type=\"auto\">Ita haereo inter sacrum et saxum<note xml:id=\"fn19\" type=\"footnote\" n=\"19\"></note>, ut nunc sine discrimine ecclesięque Christi maxima iactura, ut facile intelligis, discedere nequeam.</s>\\n\\t\\t\\t\\t</p>\\n\\t\\t\\t\\t<p>\\n\\t\\t\\t\\t\\t<s n=\"29\" xml:lang=\"la\" type=\"auto\">Atque eę sunt potissimę rationes.</s>\\n\\t\\t\\t\\t\\t<s n=\"30\" xml:lang=\"la\" type=\"auto\">Ecclesias nostras iam a sexto anno<note xml:id=\"fn20\" type=\"footnote\" n=\"20\"></note> utcunque in ordinem, ut potuimus - quando, ut volueramus, non licuit - redegimus.</s>\\n\\t\\t\\t\\t</p>\\n\\t\\t\\t\\t<p>\\n\\t\\t\\t\\t\\t<s n=\"31\" xml:lang=\"la\" type=\"auto\">Annitendum ergo, ut cępta perficiantur.</s>\\n\\t\\t\\t\\t\\t<s n=\"32\" xml:lang=\"la\" type=\"auto\">Ad hoc ecclesia illa nobis contigua, Montbelgardiana, cum suo principe<note xml:id=\"fn21\" type=\"footnote\" n=\"21\"></note> adhuc vacillat; de qua totus liber foret perscribendus.</s>\\n\\t\\t\\t\\t\\t<s n=\"33\" xml:lang=\"la\" type=\"auto\">Pręterea scholę quattuor in isto parviusculo agro sunt constitutę et quinta in rure instituenda, stipendia quoque studiosis quibusdam ante paucos menses pollicita,<note xml:id=\"fn23\" type=\"footnote\" n=\"23\"></note> sed haec non omnia firmata et rata, proponenda etiamnum ecclesię quędam decreta, quibus ad disciplinam et sanctos mores utcunque redigantur, idque statim redeunte principe.</s>\\n\\t\\t\\t\\t\\t<s n=\"34\" xml:lang=\"la\" type=\"auto\">Illo enim absente haec omnia conscripta sunt.</s>\\n\\t\\t\\t\\t\\t<s n=\"35\" xml:lang=\"la\" type=\"auto\">Dum igitur nunc mutavero locum omnia sub cultro relinquens<note xml:id=\"fn24\" type=\"footnote\" n=\"24\"></note>, facile intelligis, quid periculi inmineat.</s>\\n\\t\\t\\t\\t\\t<s n=\"36\" xml:lang=\"la\" type=\"auto\">In primis severus princeps, a quo omnia pendent, facile vel mutaretur vel irritaretur, ut solet hoc hominum genus; id quod nimirum magis in ecclesię quam in meum incomodum cęderet.</s>\\n\\t\\t\\t\\t\\t<s n=\"37\" xml:lang=\"la\" type=\"auto\">Viden inter coelum et terram me suspensum palpitare neque posse hac ratione vel vocatione, quę tamen et sancta et iusta, liberari?</s>\\n\\t\\t\\t\\t\\t<s n=\"38\" xml:lang=\"la\" type=\"auto\">Occasio mihi expectanda comodior, quę me liberet sine ecclesię iactura.</s>\\n\\t\\t\\t\\t\\t<s n=\"39\" xml:lang=\"la\" type=\"auto\">Nam si iam abirem, ecclesia viduata absque pastore inter cunctatores et cessatores fluctuaret, etc.</s>\\n\\t\\t\\t\\t</p>\\n\\t\\t\\t\\t<p>\\n\\t\\t\\t\\t\\t<s n=\"40\" xml:lang=\"la\" type=\"auto\"><pb type=\"scan\" next=\"257a,v.\"/>Ago vero et habeo tibi gratias inmortales, humanissime Bullingere, quod admodum ingenti cura meo nomine laboraveris, atque hoc impensius te amo, quod charitatis offitium non fucate, sed dextre candideque in me collocaris, imo significaris in hac sancta vocatione.</s>\\n\\t\\t\\t\\t\\t<s n=\"41\" xml:lang=\"la\" type=\"auto\">Respondebit olim procul dubio deus optimus maximus tuis votis, quo <placeName ref=\"l1976\" cert=\"high\">Augustani</placeName> nanciscantur virum aliquem sanctum, ecclesię dignum ministrum,<note xml:id=\"fn25\" type=\"footnote\" n=\"25\"></note> atque ego etiam tuis assiduis<pb type=\"edition\" next=\"441\"/> praecibus vel liberer publica occasione vel sub onere non defitiam.</s>\\n\\t\\t\\t\\t\\t<s n=\"42\" xml:lang=\"la\" type=\"auto\">Sed te etiamnum per Iesum Christum, ne deinceps plus mihi vel tribuas, immodicus scilicet virtutum mearum, quibus penitus careo, pręco, vel magis sentias de me, quam res est.</s>\\n\\t\\t\\t\\t\\t<s n=\"43\" xml:lang=\"la\" type=\"auto\">Optime enim mihi ipsi conscius sum curtę suppellectilis,<note xml:id=\"fn26\" type=\"footnote\" n=\"26\"></note> quam tu, ni fallor, maiori atque ego, nescio quorum iuditio persuasus, aestimas.</s>\\n\\t\\t\\t\\t</p>\\n\\t\\t\\t\\t<p>\\n\\t\\t\\t\\t\\t<s n=\"44\" xml:lang=\"la\" type=\"auto\">Porro, quod nunc temporis importunitas negat, alias benignus deus, ecclesiarum verus et unicus pastor<note xml:id=\"fn27\" type=\"footnote\" n=\"27\"></note>, solita clementia sancta resarciet oportunitate.</s>\\n\\t\\t\\t\\t\\t<s n=\"45\" xml:lang=\"la\" type=\"auto\">Sancto quoque magistratui <placeName ref=\"l1976\" cert=\"high\">Augustano</placeName>, inprimis vero erudito viro domino <persName ref=\"p8354\" cert=\"high\">Georgio Leto</persName><note xml:id=\"fn28\" type=\"footnote\" n=\"28\"></note>, ingentes gratias meo nomine agas, obsecro, quod me, ineptum homuntionem,<note xml:id=\"fn29\" type=\"footnote\" n=\"29\"></note> adeo egregia dignati sint vocatione.</s>\\n\\t\\t\\t\\t\\t<s n=\"46\" xml:lang=\"la\" type=\"auto\">Ego quoque deinceps eius ecclesię maiorem habebo - si potis fuero - ubique rationem, optoque illis stabilem pacem et concordiam talesque antistites, qui pietate, eruditione, prudentia, vigilantia et fidelitate ita pręmineant, quo Christus in ea republica ita mittat radices, ut nullis satanę et impiorum imposturis deiiciatur.</s>\\n\\t\\t\\t\\t\\t<s n=\"47\" xml:lang=\"la\" type=\"auto\">Monebis ergo illos, ne me deinceps expectent; ignoro enim meam liberationem.</s>\\n\\t\\t\\t\\t\\t<s n=\"48\" xml:lang=\"la\" type=\"auto\">Servet te Christus.</s>\\n\\t\\t\\t\\t</p>\\n\\t\\t\\t\\t<p>\\n\\t\\t\\t\\t\\t<note type=\"attachment\">[Beilage:]</note>\\n\\t\\t\\t\\t\\t<s n=\"49\" xml:lang=\"la\" type=\"auto\"><pb type=\"scan\" next=\"258r.\"/>Nova: Absolutionem conmitiorum<note xml:id=\"fn30\" type=\"footnote\" n=\"30\"></note> non ignoras, in quibus nil certi definitum, nisi quod istis hybernis mensibus adversarii nobis pacem condixerunt; futura aestate nobis providendum erit<note xml:id=\"fn31\" type=\"footnote\" n=\"31\"></note>.</s>\\n\\t\\t\\t\\t\\t<s n=\"50\" xml:lang=\"la\" type=\"auto\">Acta comitiorum nondum sunt publicata.</s>\\n\\t\\t\\t\\t\\t<s n=\"51\" xml:lang=\"la\" type=\"auto\">Aiunt quidam caesari<note xml:id=\"fn33\" type=\"footnote\" n=\"33\"></note> omnia esse commissa, ut dicat sententiam etiam in religionis negotio certis tamen conditionibus; quodsi verum fuerit, ovem dicemus lupo<note xml:id=\"fn34\" type=\"footnote\" n=\"34\"></note> commissam.</s>\\n\\t\\t\\t\\t</p>\\n\\t\\t\\t\\t<p>\\n\\t\\t\\t\\t\\t<s n=\"52\" xml:lang=\"la\" type=\"auto\"><persName ref=\"p18477\" cert=\"high\">Ferdinandus</persName> priori septimana<note xml:id=\"fn35\" type=\"footnote\" n=\"35\"></note> a comitiis magno strepitu solvens Bohemiam petit cum <persName ref=\"p7688\" cert=\"high\">Nausea</persName><note xml:id=\"fn36\" type=\"footnote\" n=\"36\"></note> suo et quibusdam monachis.</s>\\n\\t\\t\\t\\t\\t<s n=\"53\" xml:lang=\"la\" type=\"auto\">Sequenti septimana<pb type=\"edition\" next=\"442\"/> caesar abiturus est, sed quo, ignoratur<note xml:id=\"fn37\" type=\"footnote\" n=\"37\"></note>.</s>\\n\\t\\t\\t\\t\\t<s n=\"54\" xml:lang=\"la\" type=\"auto\">Erant alia dicta comitia ad <placeName ref=\"l410\" cert=\"high\">Reginospurgum</placeName> ad mensem octobrem,<note xml:id=\"fn38\" type=\"footnote\" n=\"38\"></note>, sed aiunt quidam irritata<note xml:id=\"fn39\" type=\"footnote\" n=\"39\"></note>, etc.</s>\\n\\t\\t\\t\\t</p>\\n\\t\\t\\t\\t<p>\\n\\t\\t\\t\\t\\t<s n=\"55\" xml:lang=\"la\" type=\"auto\">Urgent plures nacionale concilium, idque <placeName ref=\"322\" type=\"auto_name\">Metis</placeName><note xml:id=\"fn40\" type=\"footnote\" n=\"40\"></note> celebrari postulant.</s>\\n\\t\\t\\t\\t\\t<s n=\"56\" xml:lang=\"la\" type=\"auto\">Musher<note xml:id=\"fn41\" type=\"footnote\" n=\"41\"></note> de Gyß<note xml:id=\"fn42\" type=\"footnote\" n=\"42\"></note>, defuncti ducis Lotharingię frater<note xml:id=\"fn43\" type=\"footnote\" n=\"43\"></note>, patruum suum conscripto milite et auxilio regis<note xml:id=\"fn45\" type=\"footnote\" n=\"45\"></note> Gallorum conatur e ducatu pellere.</s>\\n\\t\\t\\t\\t\\t<s n=\"57\" xml:lang=\"la\" type=\"auto\"><persName ref=\"p18538\" cert=\"high\">Caesar</persName> vero iuniori<note xml:id=\"fn46\" type=\"footnote\" n=\"46\"></note>, qui patri<note xml:id=\"fn47\" type=\"footnote\" n=\"47\"></note> successit, subsidium et <placeName ref=\"l29\" cert=\"high\">Hispanum</placeName> militem pollicitus est.</s>\\n\\t\\t\\t\\t\\t<s n=\"58\" xml:lang=\"la\" type=\"auto\">Quodsi res non fuerit composita, putant novum bellum inter caesarem et Gallum oriturum.</s>\\n\\t\\t\\t\\t\\t<s n=\"59\" xml:lang=\"la\" type=\"auto\">Feruntur alia quedam nova, sed forte non fide digna: mundus mendatiis scatet<note xml:id=\"fn48\" type=\"footnote\" n=\"48\"></note>.</s>\\n\\t\\t\\t\\t\\t<s n=\"60\" xml:lang=\"la\" type=\"auto\">Haec omnia raptim.</s>\\n\\t\\t\\t\\t</p>\\n\\t\\t\\t\\t<p>\\n\\t\\t\\t\\t\\t<s n=\"61\" xml:lang=\"la\" type=\"auto\">Valebis igitur, vir humanissime, cum ecclesia sancta et familia.</s>\\n\\t\\t\\t\\t\\t<s n=\"62\" xml:lang=\"la\" type=\"auto\">Salutabis vicissim tuos, in primis meum <persName ref=\"p8412\" cert=\"high\">Megandrum</persName>, <persName ref=\"p8437\" cert=\"high\">Erasmum</persName>,<note xml:id=\"fn49\" type=\"footnote\" n=\"49\"></note> <persName ref=\"p8127\" cert=\"high\">Pellicanum</persName>, <persName ref=\"p8011\" cert=\"high\">Gvaltherum</persName> ac reliquos.</s>\\n\\t\\t\\t\\t</p>\\n\\t\\t\\t\\t<p>\\n\\t\\t\\t\\t\\t<s n=\"63\" xml:lang=\"la\" type=\"auto\">Ex aedibus meis, 11. die augusti.</s>\\n\\t\\t\\t\\t</p>\\n\\t\\t\\t\\t<p>\\n\\t\\t\\t\\t\\t<s n=\"64\" xml:lang=\"la\" type=\"auto\">Tuus <persName ref=\"p1010\" cert=\"high\">Matthias<lb/> Erbius</persName>.</s>\\n\\t\\t\\t\\t</p>\\n\\t\\t\\t\\t<p>\\n\\t\\t\\t\\t\\t<note type=\"address\">[Adresse auf der Rückseite:]</note>\\n\\t\\t\\t\\t\\t<s n=\"65\" xml:lang=\"la\" type=\"auto\">Vere erudito pioque domino Henrycho Bullingero, ecclesię Tigurinae vigilanti ministro, suo patrono singulari, etc.</s>\\n\\t\\t\\t\\t</p>\\n\\t\\t\\t</div>\\n\\t\\t</body>\\n\\t</text>\\n</TEI>\\n'}]"
      ]
     },
     "execution_count": 57,
     "metadata": {},
     "output_type": "execute_result"
    }
   ],
   "source": [
    "instruct_prompt_no_fns(letter, 10, example_n=9)"
   ]
  },
  {
   "cell_type": "markdown",
   "metadata": {},
   "source": [
    "It just repeats the suggested one, though. Maybe with another example?"
   ]
  },
  {
   "cell_type": "code",
   "execution_count": 55,
   "metadata": {},
   "outputs": [
    {
     "name": "stdout",
     "output_type": "stream",
     "text": [
      "<persName ref=\"p8098\" cert=\"high\">Graf Georg von Württemberg-Mömpelgard</persName>, der sich laut Z. 16 damals in <placeName ref=\"l569\" cert=\"high\">Worms</placeName> aufhielt. Seine Teilnahme am <placeName ref=\"l569\" cert=\"high\">Wormser</placeName> Reichstag ist in RTA JR XVIII-2 nicht belegt.\n",
      "<persName ref=\"p8098\" cert=\"high\">Graf Georg von Württemberg-Mömpelgard</persName>, der sich laut Z. 16 damals in <placeName ref=\"l569\" cert=\"high\">Worms</placeName> aufhielt. Seine Teilnahme am <placeName ref=\"l569\" cert=\"high\">Wormser</placeName> Reichstag ist in RTA JR XVIII-2 nicht belegt.\n",
      "<persName ref=\"p8098\" cert=\"high\">Graf Georg von Württemberg-Mömpelgard</persName>, der sich laut Z. 16 damals in <placeName ref=\"l569\" cert=\"high\">Worms</placeName> aufhielt. Seine Teilnahme am <placeName ref=\"l569\" cert=\"high\">Wormser</placeName> Reichstag ist in RTA JR XVIII-2 nicht belegt.\n",
      "<persName ref=\"p8098\" cert=\"high\">Graf Georg von Württemberg-Mömpelgard</persName>, der sich laut Z. 16 damals in <placeName ref=\"l569\" cert=\"high\">Worms</placeName> aufhielt. Seine Teilnahme am <placeName ref=\"l569\" cert=\"high\">Wormser</placeName> Reichstag ist in RTA JR XVIII-2 nicht belegt.\n",
      "<persName ref=\"p8098\" cert=\"high\">Graf Georg von Württemberg-Mömpelgard</persName>, der sich laut Z. 16 damals in <placeName ref=\"l569\" cert=\"high\">Worms</placeName> aufhielt. Seine Teilnahme am <placeName ref=\"l569\" cert=\"high\">Wormser</placeName> Reichstag ist in RTA JR XVIII-2 nicht belegt.\n",
      "<persName ref=\"p8098\" cert=\"high\">Graf Georg von Württemberg-Mömpelgard</persName>, der sich laut Z. 16 damals in <placeName ref=\"l569\" cert=\"high\">Worms</placeName> aufhielt. Seine Teilnahme am <placeName ref=\"l569\" cert=\"high\">Wormser</placeName> Reichstag ist in RTA JR XVIII-2 nicht belegt.\n",
      "<persName ref=\"p8098\" cert=\"high\">Graf Georg von Württemberg-Mömpelgard</persName>, der sich laut Z. 16 damals in <placeName ref=\"l569\" cert=\"high\">Worms</placeName> aufhielt. Seine Teilnahme am <placeName ref=\"l569\" cert=\"high\">Wormser</placeName> Reichstag ist in RTA JR XVIII-2 nicht belegt.\n",
      "<persName ref=\"p8098\" cert=\"high\">Graf Georg von Württemberg-Mömpelgard</persName>, der sich laut Z. 16 damals in <placeName ref=\"l569\" cert=\"high\">Worms</placeName> aufhielt. Seine Teilnahme am <placeName ref=\"l569\" cert=\"high\">Wormser</placeName> Reichstag ist in RTA JR XVIII-2 nicht belegt.\n",
      "<persName ref=\"p8098\" cert=\"high\">Graf Georg von Württemberg-Mömpelgard</persName>, der sich laut Z. 16 damals in <placeName ref=\"l569\" cert=\"high\">Worms</placeName> aufhielt. Seine Teilnahme am <placeName ref=\"l569\" cert=\"high\">Wormser</placeName> Reichstag ist in RTA JR XVIII-2 nicht belegt.\n",
      "<persName ref=\"p8098\" cert=\"high\">Graf Georg von Württemberg-Mömpelgard</persName>, der sich laut Z. 16 damals in <placeName ref=\"l569\" cert=\"high\">Worms</placeName> aufhielt. Seine Teilnahme am <placeName ref=\"l569\" cert=\"high\">Wormser</placeName> Reichstag ist in RTA JR XVIII-2 nicht belegt.\n"
     ]
    }
   ],
   "source": [
    "tokens = []\n",
    "for i in range(10):\n",
    "    text, in_toks, out_toks = model.generate(instruct_prompt_no_fns(letter, 10, example_n=9))\n",
    "    tokens.append((in_toks, out_toks))\n",
    "    print(text)"
   ]
  },
  {
   "cell_type": "code",
   "execution_count": 56,
   "metadata": {},
   "outputs": [
    {
     "data": {
      "text/plain": [
       "0.32058"
      ]
     },
     "execution_count": 56,
     "metadata": {},
     "output_type": "execute_result"
    }
   ],
   "source": [
    "calculate_openai_cost(tokens, (3,6))"
   ]
  },
  {
   "cell_type": "code",
   "execution_count": 58,
   "metadata": {},
   "outputs": [
    {
     "name": "stdout",
     "output_type": "stream",
     "text": [
      "<persName ref=\"p8127\" cert=\"high\">Pellicanum</persName> ist eine Abkürzung für den Theologen Konrad Pellikan (1478-1556), der als Reformator und Bibelübersetzer bekannt ist.\n",
      "<persName ref=\"p8127\" cert=\"high\">Pellicanum</persName> ist eine Abkürzung für den Theologen Konrad Pellikan (1478-1556), der als Reformator und Bibelübersetzer bekannt ist.\n",
      "<persName ref=\"p8127\" cert=\"high\">Pellicanum</persName> ist eine Anspielung auf den bekannten Theologen und Reformator Konrad Pellikan, der zu dieser Zeit in Zürich lebte und eng mit Heinrich Bullinger zusammenarbeitete.\n",
      "<persName ref=\"p8127\" cert=\"high\">Pellicanum</persName> ist eine Anspielung auf den bekannten Theologen und Reformator Konrad Pellikan.\n",
      "<persName ref=\"p8127\" cert=\"high\">Pellicanum</persName> ist eine Anspielung auf den Gelehrten und Theologen Konrad Pellikan, der zu dieser Zeit eine bedeutende Figur in der reformierten Bewegung war.\n",
      "<persName ref=\"p8127\" cert=\"high\">Pellicanum</persName> ist eine Abkürzung für den Gelehrten und Theologen Konrad Pellikan (1478-1556), der als Reformator und Bibelübersetzer bekannt ist.\n",
      "<persName ref=\"p8127\" cert=\"high\">Pellicanum</persName> ist eine Anspielung auf den Gelehrten und Theologen Konrad Pellikan, der zu dieser Zeit eine bedeutende Figur in der reformierten Bewegung war.\n",
      "<persName ref=\"p8127\" cert=\"high\">Pellicanum</persName> ist eine Anspielung auf den bekannten Theologen und Reformator Konrad Pellikan.\n",
      "<persName ref=\"p8127\" cert=\"high\">Johannes Oecolampadius</persName> war ein bedeutender Reformator und Theologe, der eng mit Heinrich Bullinger zusammenarbeitete.\n",
      "<persName ref=\"p8127\" cert=\"high\">Pellicanum</persName> ist eine Abkürzung für den Theologen Konrad Pellikan (1478-1556), der als Reformator und Bibelübersetzer bekannt ist.\n"
     ]
    }
   ],
   "source": [
    "tokens = []\n",
    "for i in range(10):\n",
    "    text, in_toks, out_toks = model.generate(instruct_prompt_no_fns(letter, 49, example_n=9))\n",
    "    tokens.append((in_toks, out_toks))\n",
    "    print(text)"
   ]
  },
  {
   "cell_type": "code",
   "execution_count": 59,
   "metadata": {},
   "outputs": [
    {
     "data": {
      "text/plain": [
       "0.317658"
      ]
     },
     "execution_count": 59,
     "metadata": {},
     "output_type": "execute_result"
    }
   ],
   "source": [
    "calculate_openai_cost(tokens, (3,6))"
   ]
  },
  {
   "cell_type": "markdown",
   "metadata": {},
   "source": [
    "# Evaluate"
   ]
  },
  {
   "cell_type": "markdown",
   "metadata": {},
   "source": [
    "| **Tests with Markup**             | BLEU  | ROUGE | roberta-base | xlm-roberta-base | wechsel-german | german-cased |\n",
    "|------------------|-------|-------|--------------|------------------|----------------|--------------|\n",
    "| Test 1          | **0.17** | **0.24**  | **0.85**      | **0.85**          | **0.82**       | **0.71**       |\n",
    "| Test 2          | 0.00  | 0.01  | 0.70         | 0.69             | 0.66           | 0.50         |\n",
    "| Test 3          | 0.16  | 0.15  | 0.84         | 0.83             | 0.79           | **0.71**         |"
   ]
  },
  {
   "cell_type": "markdown",
   "metadata": {},
   "source": [
    "## installs and functions"
   ]
  },
  {
   "cell_type": "code",
   "execution_count": 5,
   "metadata": {},
   "outputs": [
    {
     "name": "stdout",
     "output_type": "stream",
     "text": [
      "Requirement already satisfied: rouge_score in c:\\users\\nik_b\\appdata\\local\\programs\\python\\python311\\lib\\site-packages (0.1.2)\n",
      "Requirement already satisfied: absl-py in c:\\users\\nik_b\\appdata\\local\\programs\\python\\python311\\lib\\site-packages (from rouge_score) (2.1.0)\n",
      "Requirement already satisfied: nltk in c:\\users\\nik_b\\appdata\\local\\programs\\python\\python311\\lib\\site-packages (from rouge_score) (3.7)\n",
      "Requirement already satisfied: numpy in c:\\users\\nik_b\\appdata\\local\\programs\\python\\python311\\lib\\site-packages (from rouge_score) (1.24.1)\n",
      "Requirement already satisfied: six>=1.14.0 in c:\\users\\nik_b\\appdata\\local\\programs\\python\\python311\\lib\\site-packages (from rouge_score) (1.16.0)\n",
      "Requirement already satisfied: click in c:\\users\\nik_b\\appdata\\local\\programs\\python\\python311\\lib\\site-packages (from nltk->rouge_score) (8.1.3)\n",
      "Requirement already satisfied: joblib in c:\\users\\nik_b\\appdata\\local\\programs\\python\\python311\\lib\\site-packages (from nltk->rouge_score) (1.2.0)\n",
      "Requirement already satisfied: regex>=2021.8.3 in c:\\users\\nik_b\\appdata\\local\\programs\\python\\python311\\lib\\site-packages (from nltk->rouge_score) (2022.10.31)\n",
      "Requirement already satisfied: tqdm in c:\\users\\nik_b\\appdata\\local\\programs\\python\\python311\\lib\\site-packages (from nltk->rouge_score) (4.66.5)\n",
      "Requirement already satisfied: colorama in c:\\users\\nik_b\\appdata\\local\\programs\\python\\python311\\lib\\site-packages (from click->nltk->rouge_score) (0.4.6)\n"
     ]
    },
    {
     "name": "stderr",
     "output_type": "stream",
     "text": [
      "\n",
      "[notice] A new release of pip is available: 24.0 -> 24.2\n",
      "[notice] To update, run: python.exe -m pip install --upgrade pip\n"
     ]
    },
    {
     "name": "stdout",
     "output_type": "stream",
     "text": [
      "Collecting evaluate\n",
      "  Downloading evaluate-0.4.2-py3-none-any.whl (84 kB)\n",
      "     ---------------------------------------- 84.1/84.1 kB 4.9 MB/s eta 0:00:00\n",
      "Collecting xxhash\n",
      "  Downloading xxhash-3.5.0-cp310-cp310-win_amd64.whl (30 kB)\n",
      "Collecting fsspec[http]>=2021.05.0\n",
      "  Downloading fsspec-2024.6.1-py3-none-any.whl (177 kB)\n",
      "     ------------------------------------- 177.6/177.6 kB 11.2 MB/s eta 0:00:00\n",
      "Collecting multiprocess\n",
      "  Downloading multiprocess-0.70.16-py310-none-any.whl (134 kB)\n",
      "     -------------------------------------- 134.8/134.8 kB 7.8 MB/s eta 0:00:00\n",
      "Requirement already satisfied: huggingface-hub>=0.7.0 in c:\\users\\nik_b\\appdata\\local\\programs\\python\\python310\\lib\\site-packages (from evaluate) (0.10.1)\n",
      "Requirement already satisfied: requests>=2.19.0 in c:\\users\\nik_b\\appdata\\local\\programs\\python\\python310\\lib\\site-packages (from evaluate) (2.28.1)\n",
      "Collecting dill\n",
      "  Downloading dill-0.3.8-py3-none-any.whl (116 kB)\n",
      "     -------------------------------------- 116.3/116.3 kB 6.6 MB/s eta 0:00:00\n",
      "Collecting datasets>=2.0.0\n",
      "  Downloading datasets-2.21.0-py3-none-any.whl (527 kB)\n",
      "     ------------------------------------- 527.3/527.3 kB 34.5 MB/s eta 0:00:00\n",
      "Requirement already satisfied: numpy>=1.17 in c:\\users\\nik_b\\appdata\\local\\programs\\python\\python310\\lib\\site-packages (from evaluate) (1.23.4)\n",
      "Requirement already satisfied: pandas in c:\\users\\nik_b\\appdata\\local\\programs\\python\\python310\\lib\\site-packages (from evaluate) (1.5.1)\n",
      "Requirement already satisfied: packaging in c:\\users\\nik_b\\appdata\\local\\programs\\python\\python310\\lib\\site-packages (from evaluate) (21.3)\n",
      "Requirement already satisfied: tqdm>=4.62.1 in c:\\users\\nik_b\\appdata\\local\\programs\\python\\python310\\lib\\site-packages (from evaluate) (4.64.1)\n",
      "Collecting requests>=2.19.0\n",
      "  Using cached requests-2.32.3-py3-none-any.whl (64 kB)\n",
      "Collecting tqdm>=4.62.1\n",
      "  Downloading tqdm-4.66.5-py3-none-any.whl (78 kB)\n",
      "     ---------------------------------------- 78.4/78.4 kB ? eta 0:00:00\n",
      "Collecting pyarrow>=15.0.0\n",
      "  Downloading pyarrow-17.0.0-cp310-cp310-win_amd64.whl (25.1 MB)\n",
      "     --------------------------------------- 25.1/25.1 MB 21.8 MB/s eta 0:00:00\n",
      "Requirement already satisfied: filelock in c:\\users\\nik_b\\appdata\\local\\programs\\python\\python310\\lib\\site-packages (from datasets>=2.0.0->evaluate) (3.8.0)\n",
      "Requirement already satisfied: pyyaml>=5.1 in c:\\users\\nik_b\\appdata\\local\\programs\\python\\python310\\lib\\site-packages (from datasets>=2.0.0->evaluate) (6.0)\n",
      "Collecting huggingface-hub>=0.7.0\n",
      "  Downloading huggingface_hub-0.24.6-py3-none-any.whl (417 kB)\n",
      "     ---------------------------------------- 417.5/417.5 kB ? eta 0:00:00\n",
      "Requirement already satisfied: aiohttp in c:\\users\\nik_b\\appdata\\local\\programs\\python\\python310\\lib\\site-packages (from datasets>=2.0.0->evaluate) (3.8.4)\n",
      "Requirement already satisfied: typing-extensions>=3.7.4.3 in c:\\users\\nik_b\\appdata\\local\\programs\\python\\python310\\lib\\site-packages (from huggingface-hub>=0.7.0->evaluate) (4.4.0)\n",
      "Requirement already satisfied: pyparsing!=3.0.5,>=2.0.2 in c:\\users\\nik_b\\appdata\\local\\programs\\python\\python310\\lib\\site-packages (from packaging->evaluate) (3.0.9)\n",
      "Requirement already satisfied: charset-normalizer<4,>=2 in c:\\users\\nik_b\\appdata\\local\\programs\\python\\python310\\lib\\site-packages (from requests>=2.19.0->evaluate) (2.1.1)\n",
      "Requirement already satisfied: idna<4,>=2.5 in c:\\users\\nik_b\\appdata\\local\\programs\\python\\python310\\lib\\site-packages (from requests>=2.19.0->evaluate) (3.4)\n",
      "Requirement already satisfied: certifi>=2017.4.17 in c:\\users\\nik_b\\appdata\\local\\programs\\python\\python310\\lib\\site-packages (from requests>=2.19.0->evaluate) (2022.9.24)\n",
      "Requirement already satisfied: urllib3<3,>=1.21.1 in c:\\users\\nik_b\\appdata\\local\\programs\\python\\python310\\lib\\site-packages (from requests>=2.19.0->evaluate) (1.26.12)\n",
      "Requirement already satisfied: colorama in c:\\users\\nik_b\\appdata\\local\\programs\\python\\python310\\lib\\site-packages (from tqdm>=4.62.1->evaluate) (0.4.5)\n",
      "Requirement already satisfied: python-dateutil>=2.8.1 in c:\\users\\nik_b\\appdata\\local\\programs\\python\\python310\\lib\\site-packages (from pandas->evaluate) (2.8.2)\n",
      "Requirement already satisfied: pytz>=2020.1 in c:\\users\\nik_b\\appdata\\local\\programs\\python\\python310\\lib\\site-packages (from pandas->evaluate) (2022.6)\n",
      "Requirement already satisfied: multidict<7.0,>=4.5 in c:\\users\\nik_b\\appdata\\local\\programs\\python\\python310\\lib\\site-packages (from aiohttp->datasets>=2.0.0->evaluate) (6.0.4)\n",
      "Requirement already satisfied: frozenlist>=1.1.1 in c:\\users\\nik_b\\appdata\\local\\programs\\python\\python310\\lib\\site-packages (from aiohttp->datasets>=2.0.0->evaluate) (1.3.3)\n",
      "Requirement already satisfied: attrs>=17.3.0 in c:\\users\\nik_b\\appdata\\local\\programs\\python\\python310\\lib\\site-packages (from aiohttp->datasets>=2.0.0->evaluate) (22.1.0)\n",
      "Requirement already satisfied: async-timeout<5.0,>=4.0.0a3 in c:\\users\\nik_b\\appdata\\local\\programs\\python\\python310\\lib\\site-packages (from aiohttp->datasets>=2.0.0->evaluate) (4.0.2)\n",
      "Requirement already satisfied: yarl<2.0,>=1.0 in c:\\users\\nik_b\\appdata\\local\\programs\\python\\python310\\lib\\site-packages (from aiohttp->datasets>=2.0.0->evaluate) (1.8.2)\n",
      "Requirement already satisfied: aiosignal>=1.1.2 in c:\\users\\nik_b\\appdata\\local\\programs\\python\\python310\\lib\\site-packages (from aiohttp->datasets>=2.0.0->evaluate) (1.3.1)\n",
      "Requirement already satisfied: six>=1.5 in c:\\users\\nik_b\\appdata\\local\\programs\\python\\python310\\lib\\site-packages (from python-dateutil>=2.8.1->pandas->evaluate) (1.16.0)\n",
      "Installing collected packages: xxhash, tqdm, requests, pyarrow, fsspec, dill, multiprocess, huggingface-hub, datasets, evaluate\n",
      "  Attempting uninstall: tqdm\n",
      "    Found existing installation: tqdm 4.64.1\n",
      "    Uninstalling tqdm-4.64.1:\n",
      "      Successfully uninstalled tqdm-4.64.1\n",
      "  Attempting uninstall: requests\n",
      "    Found existing installation: requests 2.28.1\n",
      "    Uninstalling requests-2.28.1:\n",
      "      Successfully uninstalled requests-2.28.1\n",
      "  Attempting uninstall: huggingface-hub\n",
      "    Found existing installation: huggingface-hub 0.10.1\n",
      "    Uninstalling huggingface-hub-0.10.1:\n",
      "      Successfully uninstalled huggingface-hub-0.10.1\n",
      "Successfully installed datasets-2.21.0 dill-0.3.8 evaluate-0.4.2 fsspec-2024.6.1 huggingface-hub-0.24.6 multiprocess-0.70.16 pyarrow-17.0.0 requests-2.32.3 tqdm-4.66.5 xxhash-3.5.0\n",
      "Note: you may need to restart the kernel to use updated packages.\n"
     ]
    },
    {
     "name": "stderr",
     "output_type": "stream",
     "text": [
      "\n",
      "[notice] A new release of pip available: 22.3 -> 24.2\n",
      "[notice] To update, run: C:\\Users\\nik_b\\AppData\\Local\\Programs\\Python\\Python310\\python.exe -m pip install --upgrade pip\n"
     ]
    },
    {
     "name": "stdout",
     "output_type": "stream",
     "text": [
      "Requirement already satisfied: transformers in c:\\users\\nik_b\\appdata\\local\\programs\\python\\python310\\lib\\site-packages (4.24.0)\n",
      "Requirement already satisfied: tokenizers!=0.11.3,<0.14,>=0.11.1 in c:\\users\\nik_b\\appdata\\local\\programs\\python\\python310\\lib\\site-packages (from transformers) (0.13.1)\n",
      "Requirement already satisfied: packaging>=20.0 in c:\\users\\nik_b\\appdata\\local\\programs\\python\\python310\\lib\\site-packages (from transformers) (21.3)\n",
      "Requirement already satisfied: pyyaml>=5.1 in c:\\users\\nik_b\\appdata\\local\\programs\\python\\python310\\lib\\site-packages (from transformers) (6.0)\n",
      "Requirement already satisfied: numpy>=1.17 in c:\\users\\nik_b\\appdata\\local\\programs\\python\\python310\\lib\\site-packages (from transformers) (1.23.4)\n",
      "Requirement already satisfied: huggingface-hub<1.0,>=0.10.0 in c:\\users\\nik_b\\appdata\\local\\programs\\python\\python310\\lib\\site-packages (from transformers) (0.24.6)\n",
      "Requirement already satisfied: filelock in c:\\users\\nik_b\\appdata\\local\\programs\\python\\python310\\lib\\site-packages (from transformers) (3.8.0)\n",
      "Requirement already satisfied: regex!=2019.12.17 in c:\\users\\nik_b\\appdata\\local\\programs\\python\\python310\\lib\\site-packages (from transformers) (2022.9.13)\n",
      "Requirement already satisfied: requests in c:\\users\\nik_b\\appdata\\local\\programs\\python\\python310\\lib\\site-packages (from transformers) (2.32.3)\n",
      "Requirement already satisfied: tqdm>=4.27 in c:\\users\\nik_b\\appdata\\local\\programs\\python\\python310\\lib\\site-packages (from transformers) (4.66.5)\n",
      "Requirement already satisfied: fsspec>=2023.5.0 in c:\\users\\nik_b\\appdata\\local\\programs\\python\\python310\\lib\\site-packages (from huggingface-hub<1.0,>=0.10.0->transformers) (2024.6.1)\n",
      "Requirement already satisfied: typing-extensions>=3.7.4.3 in c:\\users\\nik_b\\appdata\\local\\programs\\python\\python310\\lib\\site-packages (from huggingface-hub<1.0,>=0.10.0->transformers) (4.4.0)\n",
      "Requirement already satisfied: pyparsing!=3.0.5,>=2.0.2 in c:\\users\\nik_b\\appdata\\local\\programs\\python\\python310\\lib\\site-packages (from packaging>=20.0->transformers) (3.0.9)\n",
      "Requirement already satisfied: colorama in c:\\users\\nik_b\\appdata\\local\\programs\\python\\python310\\lib\\site-packages (from tqdm>=4.27->transformers) (0.4.5)\n",
      "Requirement already satisfied: charset-normalizer<4,>=2 in c:\\users\\nik_b\\appdata\\local\\programs\\python\\python310\\lib\\site-packages (from requests->transformers) (2.1.1)\n",
      "Requirement already satisfied: urllib3<3,>=1.21.1 in c:\\users\\nik_b\\appdata\\local\\programs\\python\\python310\\lib\\site-packages (from requests->transformers) (1.26.12)\n",
      "Requirement already satisfied: certifi>=2017.4.17 in c:\\users\\nik_b\\appdata\\local\\programs\\python\\python310\\lib\\site-packages (from requests->transformers) (2022.9.24)\n",
      "Requirement already satisfied: idna<4,>=2.5 in c:\\users\\nik_b\\appdata\\local\\programs\\python\\python310\\lib\\site-packages (from requests->transformers) (3.4)\n",
      "Note: you may need to restart the kernel to use updated packages.\n"
     ]
    },
    {
     "name": "stderr",
     "output_type": "stream",
     "text": [
      "\n",
      "[notice] A new release of pip available: 22.3 -> 24.2\n",
      "[notice] To update, run: C:\\Users\\nik_b\\AppData\\Local\\Programs\\Python\\Python310\\python.exe -m pip install --upgrade pip\n"
     ]
    },
    {
     "name": "stdout",
     "output_type": "stream",
     "text": [
      "Collecting bert-score\n",
      "  Downloading bert_score-0.3.13-py3-none-any.whl (61 kB)\n",
      "     ---------------------------------------- 61.1/61.1 kB 3.2 MB/s eta 0:00:00\n",
      "Requirement already satisfied: transformers>=3.0.0 in c:\\users\\nik_b\\appdata\\local\\programs\\python\\python310\\lib\\site-packages (from bert-score) (4.24.0)\n",
      "Requirement already satisfied: numpy in c:\\users\\nik_b\\appdata\\local\\programs\\python\\python310\\lib\\site-packages (from bert-score) (1.23.4)\n",
      "Requirement already satisfied: requests in c:\\users\\nik_b\\appdata\\local\\programs\\python\\python310\\lib\\site-packages (from bert-score) (2.32.3)\n",
      "Requirement already satisfied: tqdm>=4.31.1 in c:\\users\\nik_b\\appdata\\local\\programs\\python\\python310\\lib\\site-packages (from bert-score) (4.66.5)\n",
      "Requirement already satisfied: packaging>=20.9 in c:\\users\\nik_b\\appdata\\local\\programs\\python\\python310\\lib\\site-packages (from bert-score) (21.3)\n",
      "Requirement already satisfied: matplotlib in c:\\users\\nik_b\\appdata\\local\\programs\\python\\python310\\lib\\site-packages (from bert-score) (3.8.2)\n",
      "Requirement already satisfied: pandas>=1.0.1 in c:\\users\\nik_b\\appdata\\local\\programs\\python\\python310\\lib\\site-packages (from bert-score) (1.5.1)\n",
      "Requirement already satisfied: torch>=1.0.0 in c:\\users\\nik_b\\appdata\\local\\programs\\python\\python310\\lib\\site-packages (from bert-score) (1.13.0)\n",
      "Requirement already satisfied: pyparsing!=3.0.5,>=2.0.2 in c:\\users\\nik_b\\appdata\\local\\programs\\python\\python310\\lib\\site-packages (from packaging>=20.9->bert-score) (3.0.9)\n",
      "Requirement already satisfied: pytz>=2020.1 in c:\\users\\nik_b\\appdata\\local\\programs\\python\\python310\\lib\\site-packages (from pandas>=1.0.1->bert-score) (2022.6)\n",
      "Requirement already satisfied: python-dateutil>=2.8.1 in c:\\users\\nik_b\\appdata\\local\\programs\\python\\python310\\lib\\site-packages (from pandas>=1.0.1->bert-score) (2.8.2)\n",
      "Requirement already satisfied: typing-extensions in c:\\users\\nik_b\\appdata\\local\\programs\\python\\python310\\lib\\site-packages (from torch>=1.0.0->bert-score) (4.4.0)\n",
      "Requirement already satisfied: colorama in c:\\users\\nik_b\\appdata\\local\\programs\\python\\python310\\lib\\site-packages (from tqdm>=4.31.1->bert-score) (0.4.5)\n",
      "Requirement already satisfied: tokenizers!=0.11.3,<0.14,>=0.11.1 in c:\\users\\nik_b\\appdata\\local\\programs\\python\\python310\\lib\\site-packages (from transformers>=3.0.0->bert-score) (0.13.1)\n",
      "Requirement already satisfied: pyyaml>=5.1 in c:\\users\\nik_b\\appdata\\local\\programs\\python\\python310\\lib\\site-packages (from transformers>=3.0.0->bert-score) (6.0)\n",
      "Requirement already satisfied: filelock in c:\\users\\nik_b\\appdata\\local\\programs\\python\\python310\\lib\\site-packages (from transformers>=3.0.0->bert-score) (3.8.0)\n",
      "Requirement already satisfied: regex!=2019.12.17 in c:\\users\\nik_b\\appdata\\local\\programs\\python\\python310\\lib\\site-packages (from transformers>=3.0.0->bert-score) (2022.9.13)\n",
      "Requirement already satisfied: huggingface-hub<1.0,>=0.10.0 in c:\\users\\nik_b\\appdata\\local\\programs\\python\\python310\\lib\\site-packages (from transformers>=3.0.0->bert-score) (0.24.6)\n",
      "Requirement already satisfied: pillow>=8 in c:\\users\\nik_b\\appdata\\local\\programs\\python\\python310\\lib\\site-packages (from matplotlib->bert-score) (10.1.0)\n",
      "Requirement already satisfied: kiwisolver>=1.3.1 in c:\\users\\nik_b\\appdata\\local\\programs\\python\\python310\\lib\\site-packages (from matplotlib->bert-score) (1.4.5)\n",
      "Requirement already satisfied: fonttools>=4.22.0 in c:\\users\\nik_b\\appdata\\local\\programs\\python\\python310\\lib\\site-packages (from matplotlib->bert-score) (4.47.0)\n",
      "Requirement already satisfied: contourpy>=1.0.1 in c:\\users\\nik_b\\appdata\\local\\programs\\python\\python310\\lib\\site-packages (from matplotlib->bert-score) (1.2.0)\n",
      "Requirement already satisfied: cycler>=0.10 in c:\\users\\nik_b\\appdata\\local\\programs\\python\\python310\\lib\\site-packages (from matplotlib->bert-score) (0.12.1)\n",
      "Requirement already satisfied: urllib3<3,>=1.21.1 in c:\\users\\nik_b\\appdata\\local\\programs\\python\\python310\\lib\\site-packages (from requests->bert-score) (1.26.12)\n",
      "Requirement already satisfied: certifi>=2017.4.17 in c:\\users\\nik_b\\appdata\\local\\programs\\python\\python310\\lib\\site-packages (from requests->bert-score) (2022.9.24)\n",
      "Requirement already satisfied: idna<4,>=2.5 in c:\\users\\nik_b\\appdata\\local\\programs\\python\\python310\\lib\\site-packages (from requests->bert-score) (3.4)\n",
      "Requirement already satisfied: charset-normalizer<4,>=2 in c:\\users\\nik_b\\appdata\\local\\programs\\python\\python310\\lib\\site-packages (from requests->bert-score) (2.1.1)\n",
      "Requirement already satisfied: fsspec>=2023.5.0 in c:\\users\\nik_b\\appdata\\local\\programs\\python\\python310\\lib\\site-packages (from huggingface-hub<1.0,>=0.10.0->transformers>=3.0.0->bert-score) (2024.6.1)\n",
      "Requirement already satisfied: six>=1.5 in c:\\users\\nik_b\\appdata\\local\\programs\\python\\python310\\lib\\site-packages (from python-dateutil>=2.8.1->pandas>=1.0.1->bert-score) (1.16.0)\n",
      "Installing collected packages: bert-score\n",
      "Successfully installed bert-score-0.3.13\n",
      "Note: you may need to restart the kernel to use updated packages.\n"
     ]
    },
    {
     "name": "stderr",
     "output_type": "stream",
     "text": [
      "\n",
      "[notice] A new release of pip available: 22.3 -> 24.2\n",
      "[notice] To update, run: C:\\Users\\nik_b\\AppData\\Local\\Programs\\Python\\Python310\\python.exe -m pip install --upgrade pip\n"
     ]
    },
    {
     "name": "stdout",
     "output_type": "stream",
     "text": [
      "Collecting rouge_score\n",
      "  Downloading rouge_score-0.1.2.tar.gz (17 kB)\n",
      "  Preparing metadata (setup.py): started\n",
      "  Preparing metadata (setup.py): finished with status 'done'\n",
      "Requirement already satisfied: absl-py in c:\\users\\nik_b\\appdata\\local\\programs\\python\\python310\\lib\\site-packages (from rouge_score) (1.3.0)\n",
      "Requirement already satisfied: nltk in c:\\users\\nik_b\\appdata\\local\\programs\\python\\python310\\lib\\site-packages (from rouge_score) (3.7)\n",
      "Requirement already satisfied: numpy in c:\\users\\nik_b\\appdata\\local\\programs\\python\\python310\\lib\\site-packages (from rouge_score) (1.23.4)\n",
      "Requirement already satisfied: six>=1.14.0 in c:\\users\\nik_b\\appdata\\local\\programs\\python\\python310\\lib\\site-packages (from rouge_score) (1.16.0)\n",
      "Requirement already satisfied: regex>=2021.8.3 in c:\\users\\nik_b\\appdata\\local\\programs\\python\\python310\\lib\\site-packages (from nltk->rouge_score) (2022.9.13)\n",
      "Requirement already satisfied: joblib in c:\\users\\nik_b\\appdata\\local\\programs\\python\\python310\\lib\\site-packages (from nltk->rouge_score) (1.2.0)\n",
      "Requirement already satisfied: click in c:\\users\\nik_b\\appdata\\local\\programs\\python\\python310\\lib\\site-packages (from nltk->rouge_score) (8.1.3)\n",
      "Requirement already satisfied: tqdm in c:\\users\\nik_b\\appdata\\local\\programs\\python\\python310\\lib\\site-packages (from nltk->rouge_score) (4.66.5)\n",
      "Requirement already satisfied: colorama in c:\\users\\nik_b\\appdata\\local\\programs\\python\\python310\\lib\\site-packages (from click->nltk->rouge_score) (0.4.5)\n",
      "Building wheels for collected packages: rouge_score\n",
      "  Building wheel for rouge_score (setup.py): started\n",
      "  Building wheel for rouge_score (setup.py): finished with status 'done'\n",
      "  Created wheel for rouge_score: filename=rouge_score-0.1.2-py3-none-any.whl size=24936 sha256=073885f8c132fc894bad8aab1e7daea51fbcab39cd52b6c455f7172da5a9651b\n",
      "  Stored in directory: c:\\users\\nik_b\\appdata\\local\\pip\\cache\\wheels\\3e\\94\\5c\\7ff8a51c53c1bbc8df4cac58aa4990ffbc6fa203e9f0808fdd\n",
      "Successfully built rouge_score\n",
      "Installing collected packages: rouge_score\n",
      "Successfully installed rouge_score-0.1.2\n",
      "Note: you may need to restart the kernel to use updated packages.\n"
     ]
    },
    {
     "name": "stderr",
     "output_type": "stream",
     "text": [
      "\n",
      "[notice] A new release of pip available: 22.3 -> 24.2\n",
      "[notice] To update, run: C:\\Users\\nik_b\\AppData\\Local\\Programs\\Python\\Python310\\python.exe -m pip install --upgrade pip\n"
     ]
    }
   ],
   "source": [
    "%pip install evaluate\n",
    "%pip install transformers\n",
    "%pip install bert-score\n",
    "%pip install rouge_score"
   ]
  },
  {
   "cell_type": "code",
   "execution_count": 29,
   "metadata": {},
   "outputs": [],
   "source": [
    "import re\n",
    "from evaluate import load\n",
    "import evaluate\n",
    "from html import unescape\n",
    "import bert_score\n",
    "from tqdm import tqdm\n",
    "\n",
    "bleu = load(\"bleu\")\n",
    "rouge = load(\"rouge\")\n",
    "bertscore = load(\"bertscore\")\n",
    "\n",
    "\n",
    "def normalize_ws(text):\n",
    "  \"\"\"normalize whitespace\"\"\"\n",
    "  return re.sub(r\"\\s+\", \" \", text).strip()\n",
    "\n",
    "def remove_markup(sent):\n",
    "  \"\"\"Remove all markup from a sentence\"\"\"\n",
    "  return unescape(re.sub(rf\"<.*?>\", \"\", sent))\n",
    "\n",
    "###########\n",
    "# Calculating BERT scores\n",
    "###########\n",
    "# Default of what layer to use for the representation\n",
    "# The original module defines the default as\n",
    "# \"the number of layers tuned on WMT16 correlation data.\"\n",
    "# I have to add some models, that are not in the original\n",
    "# Maybe a todo: Test if the evaluation changes significantly based on this...\n",
    "bert_score.utils.model2layers[\"google-bert/bert-base-german-cased\"] = 9\n",
    "bert_score.utils.model2layers[\"benjamin/roberta-base-wechsel-german\"] = 9\n",
    "\n",
    "def bertscore_f1_average(preds, refs, model_type):\n",
    "  \"\"\"calculate bertscore f1 average\n",
    "  args:\n",
    "    model_type: str, name of the model to use for the scoring\"\"\"\n",
    "\n",
    "  results = bertscore.compute(predictions=preds, references=refs, model_type=model_type)\n",
    "  f1 = results[\"f1\"]\n",
    "  return sum(f1) / len(f1)\n",
    "\n",
    "def semantic_scores(predictions, references):\n",
    "  \"\"\"calculate semantic scores with BERT\"\"\"\n",
    "  # calculate f1 average with different Bert models\n",
    "  # the large models seem not to make much of a difference, but take more time\n",
    "    # ->> but check it anyway sometime\n",
    "  # The German models are more critical though\n",
    "  models = [\"roberta-base\", \"xlm-roberta-base\", \"benjamin/roberta-base-wechsel-german\",\n",
    "            \"google-bert/bert-base-german-cased\"]\n",
    "  scores = {}\n",
    "  print(f\"calculating Bert scores for 1 models\")  # changed, bc it was taking a long time otherwise\n",
    "  for model in tqdm([models[2]]):\n",
    "    print(model)\n",
    "    scores[model] = bertscore_f1_average(predictions, references, model)\n",
    "  return scores\n",
    "\n",
    "def all_metrics(predictions, references):\n",
    "\n",
    "  all_results = {\n",
    "      \"with_markup\": {},\n",
    "      \"without_markup\": {}\n",
    "  }\n",
    "  # Calculate BLEU score\n",
    "  bleu_results = bleu.compute(predictions=predictions, references=references)\n",
    "  all_results[\"with_markup\"][\"bleu\"] = bleu_results[\"bleu\"]\n",
    "\n",
    "  # Calculate ROUGE scores\n",
    "  rouge_results = rouge.compute(predictions=predictions, references=references)\n",
    "  all_results[\"with_markup\"][\"rouge\"] = rouge_results[\"rouge1\"]\n",
    "\n",
    "  # Calculate Semantic score with BERT\n",
    "  bertscore_results = semantic_scores(predictions=predictions, references=references)\n",
    "  all_results[\"with_markup\"][\"bertscore\"] = bertscore_results\n",
    "  # print(\"\\n\".join([f\"{model}: {score}\" for model, score in bertscore_results.items()]))\n",
    "\n",
    "  # removing markup\n",
    "  predictions = [remove_markup(pred) for pred in predictions]\n",
    "  references = [remove_markup(ref) for ref in references]\n",
    "\n",
    "  # Calculate BLEU score\n",
    "  bleu_results = bleu.compute(predictions=predictions, references=references)\n",
    "  all_results[\"without_markup\"][\"bleu\"] = bleu_results[\"bleu\"]\n",
    "\n",
    "  # Calculate ROUGE scores\n",
    "  rouge_results = rouge.compute(predictions=predictions, references=references)\n",
    "  all_results[\"without_markup\"][\"rouge\"] = rouge_results[\"rouge1\"]\n",
    "\n",
    "  # Calculate Semantic score with BERT\n",
    "  bertscore_results = semantic_scores(predictions=predictions, references=references)\n",
    "  all_results[\"without_markup\"][\"bertscore\"] = bertscore_results\n",
    "  # print(\"\\n\".join([f\"{model}: {score}\" for model, score in bertscore_results.items()]))\n",
    "\n",
    "  return all_results\n"
   ]
  },
  {
   "cell_type": "code",
   "execution_count": 6,
   "metadata": {},
   "outputs": [
    {
     "name": "stdout",
     "output_type": "stream",
     "text": [
      "Collecting requests_mock\n",
      "  Downloading requests_mock-1.12.1-py2.py3-none-any.whl.metadata (4.1 kB)\n",
      "Requirement already satisfied: requests<3,>=2.22 in /home/niko/anaconda3/lib/python3.11/site-packages (from requests_mock) (2.31.0)\n",
      "Requirement already satisfied: charset-normalizer<4,>=2 in /home/niko/anaconda3/lib/python3.11/site-packages (from requests<3,>=2.22->requests_mock) (3.3.2)\n",
      "Requirement already satisfied: idna<4,>=2.5 in /home/niko/anaconda3/lib/python3.11/site-packages (from requests<3,>=2.22->requests_mock) (3.4)\n",
      "Requirement already satisfied: urllib3<3,>=1.21.1 in /home/niko/anaconda3/lib/python3.11/site-packages (from requests<3,>=2.22->requests_mock) (2.2.2)\n",
      "Requirement already satisfied: certifi>=2017.4.17 in /home/niko/anaconda3/lib/python3.11/site-packages (from requests<3,>=2.22->requests_mock) (2023.7.22)\n",
      "Downloading requests_mock-1.12.1-py2.py3-none-any.whl (27 kB)\n",
      "Installing collected packages: requests_mock\n",
      "\u001b[31mERROR: pip's dependency resolver does not currently take into account all the packages that are installed. This behaviour is the source of the following dependency conflicts.\n",
      "conda-repo-cli 1.0.75 requires clyent==1.2.1, but you have clyent 1.2.2 which is incompatible.\n",
      "conda-repo-cli 1.0.75 requires PyYAML==6.0.1, but you have pyyaml 6.0 which is incompatible.\u001b[0m\u001b[31m\n",
      "\u001b[0mSuccessfully installed requests_mock-1.12.1\n",
      "\n",
      "\u001b[1m[\u001b[0m\u001b[34;49mnotice\u001b[0m\u001b[1;39;49m]\u001b[0m\u001b[39;49m A new release of pip is available: \u001b[0m\u001b[31;49m24.0\u001b[0m\u001b[39;49m -> \u001b[0m\u001b[32;49m24.2\u001b[0m\n",
      "\u001b[1m[\u001b[0m\u001b[34;49mnotice\u001b[0m\u001b[1;39;49m]\u001b[0m\u001b[39;49m To update, run: \u001b[0m\u001b[32;49mpip install --upgrade pip\u001b[0m\n"
     ]
    }
   ],
   "source": [
    "!pip install requests_mock\n"
   ]
  },
  {
   "cell_type": "markdown",
   "metadata": {},
   "source": [
    "## Test 1\n",
    "instruction prompt to complete"
   ]
  },
  {
   "cell_type": "code",
   "execution_count": 2,
   "metadata": {},
   "outputs": [],
   "source": [
    "def format_completion_model_output(x):\n",
    "  \"\"\"get a list of the generated fns without the end-tag\"\"\"\n",
    "  generated_fns = x.split(\"\\n\")\n",
    "  generated_fns = [re.sub(r\"</note>.*$\", \"\", fn).strip() for fn in generated_fns]  # remove end tag\n",
    "  return generated_fns"
   ]
  },
  {
   "cell_type": "code",
   "execution_count": null,
   "metadata": {},
   "outputs": [],
   "source": [
    "original_fn = \"\"\"<persName ref=\"p1214\" cert=\"high\">Fries</persName>\n",
    "und\n",
    "<persName ref=\"p1283\" cert=\"high\">Geßner</persName>\n",
    "waren in einem Brief\n",
    "<persName ref=\"p8127\" cert=\"high\">Pellikans</persName>\n",
    "vom 19. Februar 1533 an\n",
    "<persName ref=\"p8418\" cert=\"high\">Myconius</persName>\n",
    "empfohlen worden (Zürich StA, E II 358, 98).\n",
    "</note>\"\"\"\n",
    "\n",
    "x = \"\"\"<note xml:id=\"fn4\" type=\"footnote\" n=\"4\"><placeName ref=\"l28\" cert=\"high\">Basileae</placeName> apud <persName ref=\"p8418\" cert=\"high\">Myconium</persName> refers to a location in Basel near the residence of the printer <persName ref=\"p8418\" cert=\"high\">Myconius</persName>.</note>\n",
    "<note xml:id=\"fn4\" type=\"footnote\" n=\"4\"><placeName ref=\"l28\" cert=\"high\">Basileae</placeName> apud <persName ref=\"p8418\" cert=\"high\">Myconium</persName> refers to a location in Basel near the residence of the printer <persName ref=\"p8418\" cert=\"high\">Myconius</persName>.</note>\n",
    "<note xml:id=\"fn4\" type=\"footnote\" n=\"4\"><placeName ref=\"l28\" cert=\"high\">Basileae</placeName> apud <persName ref=\"p8418\" cert=\"high\">Myconium</persName> refers to a location in Basel near the printer <persName ref=\"p8418\" cert=\"high\">Myconius</persName>.</note>\n",
    "<note xml:id=\"fn4\" type=\"footnote\" n=\"4\"><placeName ref=\"l28\" cert=\"high\">Basileae</placeName> apud <persName ref=\"p8418\" cert=\"high\">Myconium</persName> refers to a location in Basel where the letter was written.</note>\n",
    "<note xml:id=\"fn4\" type=\"footnote\" n=\"4\"><placeName ref=\"l28\" cert=\"high\">Basileae</placeName> apud <persName ref=\"p8418\" cert=\"high\">Myconium</persName> refers to a location in Basel where the letter was written.</note>\n",
    "<note xml:id=\"fn4\" type=\"footnote\" n=\"4\"><placeName ref=\"l28\" cert=\"high\">Basileae</placeName> apud <persName ref=\"p8418\" cert=\"high\">Myconium</persName> refers to a location in Basel where the letter was written.</note>\n",
    "<note xml:id=\"fn4\" type=\"footnote\" n=\"4\"><placeName ref=\"l28\" cert=\"high\">Basileae</placeName> apud <persName ref=\"p8418\" cert=\"high\">Myconium</persName> refers to a location in Basel where the letter was written.</note>\n",
    "<note xml:id=\"fn4\" type=\"footnote\" n=\"4\"><placeName ref=\"l28\" cert=\"high\">Basileae</placeName> apud <persName ref=\"p8418\" cert=\"high\">Myconium</persName> refers to a location in Basel near the residence of the printer <persName ref=\"p8418\" cert=\"high\">Myconius</persName>.</note>\n",
    "<note xml:id=\"fn4\" type=\"footnote\" n=\"4\"><placeName ref=\"l28\" cert=\"high\">Basileae</placeName> apud <persName ref=\"p8418\" cert=\"high\">Myconium</persName> refers to a location in Basel near the residence of the printer <persName ref=\"p8418\" cert=\"high\">Myconius</persName>.</note>\n",
    "<note xml:id=\"fn4\" type=\"footnote\" n=\"4\"><placeName ref=\"l28\" cert=\"high\">Basileae</placeName> apud <persName ref=\"p8418\" cert=\"high\">Myconium</persName> refers to a location in Basel where the letter was written.</note>\"\"\"\n",
    "\n",
    "generated_fns = format_completion_model_output(x)\n",
    "\n",
    "# Normalize WS:\n",
    "predictions = [normalize_ws(fn) for fn in generated_fns]\n",
    "references = [normalize_ws(original_fn) for _ in range(len(generated_fns))]"
   ]
  },
  {
   "cell_type": "code",
   "execution_count": null,
   "metadata": {},
   "outputs": [],
   "source": [
    "results_completion_test1 = all_metrics(predictions, references)"
   ]
  },
  {
   "cell_type": "code",
   "execution_count": null,
   "metadata": {},
   "outputs": [],
   "source": [
    "import json\n",
    "print(json.dumps(results_completion_test1, indent=4))"
   ]
  },
  {
   "cell_type": "markdown",
   "metadata": {},
   "source": [
    "# Batching\n"
   ]
  },
  {
   "cell_type": "code",
   "execution_count": 2,
   "metadata": {},
   "outputs": [],
   "source": [
    "from openai import OpenAI\n",
    "client = OpenAI(api_key=api_key)"
   ]
  },
  {
   "cell_type": "code",
   "execution_count": 74,
   "metadata": {},
   "outputs": [],
   "source": [
    "from openai import OpenAI\n",
    "client = OpenAI(api_key=api_key)\n",
    "\n",
    "prompt_file = \"gpt-4o-2024-08-06-instruct_add-example.jsonl\"\n",
    "\n",
    "batch_input_file = client.files.create(\n",
    "  file=open(f\"../../data/prompts/instruct_add/{prompt_file}\", \"rb\"),\n",
    "  purpose=\"batch\"\n",
    ")"
   ]
  },
  {
   "cell_type": "code",
   "execution_count": 75,
   "metadata": {},
   "outputs": [
    {
     "data": {
      "text/plain": [
       "Batch(id='batch_89QzytJ2trKkwCPylYQUt4GP', completion_window='24h', created_at=1725459635, endpoint='/v1/chat/completions', input_file_id='file-MZYcl4EuvRWMq5P3bWVkQqXm', object='batch', status='validating', cancelled_at=None, cancelling_at=None, completed_at=None, error_file_id=None, errors=None, expired_at=None, expires_at=1725546035, failed_at=None, finalizing_at=None, in_progress_at=None, metadata={'description': 'example run gpt 4o'}, output_file_id=None, request_counts=BatchRequestCounts(completed=0, failed=0, total=0))"
      ]
     },
     "execution_count": 75,
     "metadata": {},
     "output_type": "execute_result"
    }
   ],
   "source": [
    "batch_input_file_id = batch_input_file.id\n",
    "\n",
    "client.batches.create(\n",
    "    input_file_id=batch_input_file_id,\n",
    "    endpoint=\"/v1/chat/completions\",\n",
    "    completion_window=\"24h\",\n",
    "    metadata={\n",
    "      \"description\": \"example run gpt 4o\"\n",
    "    }\n",
    ")"
   ]
  },
  {
   "cell_type": "code",
   "execution_count": 100,
   "metadata": {},
   "outputs": [
    {
     "data": {
      "text/plain": [
       "Batch(id='batch_1YbF9CZcH4upb791mVgdtaYt', completion_window='24h', created_at=1725459167, endpoint='/v1/chat/completions', input_file_id='file-Y4yrlvwDwnCSPzIynHxYK54o', object='batch', status='completed', cancelled_at=None, cancelling_at=None, completed_at=1725459195, error_file_id=None, errors=None, expired_at=None, expires_at=1725545567, failed_at=None, finalizing_at=1725459191, in_progress_at=1725459167, metadata={'description': 'example run gpt 4o-mini'}, output_file_id='file-aPVYMegx8DjHNvh0bI3X1r7A', request_counts=BatchRequestCounts(completed=74, failed=0, total=74))"
      ]
     },
     "execution_count": 100,
     "metadata": {},
     "output_type": "execute_result"
    }
   ],
   "source": [
    "batch_object = client.batches.retrieve(\"batch_1YbF9CZcH4upb791mVgdtaYt\")  # checking status\n",
    "batch_object"
   ]
  },
  {
   "cell_type": "code",
   "execution_count": 101,
   "metadata": {},
   "outputs": [
    {
     "name": "stdout",
     "output_type": "stream",
     "text": [
      "completed\n"
     ]
    }
   ],
   "source": [
    "\n",
    "status = batch_object.status\n",
    "print(status)\n",
    "if status == \"completed\":\n",
    "    output_file_id = batch_object.output_file_id\n",
    "    file_response = client.files.content(output_file_id).content"
   ]
  },
  {
   "cell_type": "code",
   "execution_count": 102,
   "metadata": {},
   "outputs": [],
   "source": [
    "prompt_file = \"gpt-4o-mini-2024-07-18-instruct_add-example.jsonl\""
   ]
  },
  {
   "cell_type": "code",
   "execution_count": 103,
   "metadata": {},
   "outputs": [],
   "source": [
    "outfile_name = f\"../../data/model_responses/gpt/{prompt_file}\"\n",
    "with open(outfile_name, \"wb\") as outfile:\n",
    "    outfile.write(file_response)"
   ]
  },
  {
   "cell_type": "code",
   "execution_count": 104,
   "metadata": {},
   "outputs": [],
   "source": [
    "# open the results file and save in a csv\n",
    "\n",
    "import pandas as pd\n",
    "import os\n",
    "import jsonlines\n",
    "\n",
    "response_file = outfile_name\n",
    "filepath, json_filename = os.path.split(outfile_name)\n",
    "csv_filename = f\"{json_filename.split('.')[0]}.csv\"\n",
    "csv_filepath = os.path.join(filepath, csv_filename)\n",
    "\n",
    "column_names = [\"letter_id\", \"n_footnote\", \"generated_footnote\", \"prompt_tokens\", \"completion_tokens\"]\n",
    "rows = []\n",
    "footnote_generated_dict = {}\n",
    "response_file = outfile_name\n",
    "\n",
    "with jsonlines.open(response_file, \"r\") as infile:\n",
    "    for line in infile:\n",
    "        custom_id = line[\"custom_id\"]\n",
    "        letter_id, footnote_n = custom_id.split(\"_\")\n",
    "        generated_footnote = line[\"response\"][\"body\"][\"choices\"][0][\"message\"][\"content\"]\n",
    "        prompt_tokens = line[\"response\"][\"body\"][\"usage\"][\"prompt_tokens\"]\n",
    "        completion_tokens = line[\"response\"][\"body\"][\"usage\"][\"completion_tokens\"]\n",
    "        rows.append([letter_id, footnote_n, generated_footnote, prompt_tokens, completion_tokens])\n",
    "\n",
    "df = pd.DataFrame(columns=column_names)\n",
    "for row in rows:\n",
    "    df.loc[len(df)] = row\n",
    "\n",
    "df.to_csv(csv_filepath, index=False)\n"
   ]
  },
  {
   "cell_type": "code",
   "execution_count": 105,
   "metadata": {},
   "outputs": [
    {
     "data": {
      "text/html": [
       "<div>\n",
       "<style scoped>\n",
       "    .dataframe tbody tr th:only-of-type {\n",
       "        vertical-align: middle;\n",
       "    }\n",
       "\n",
       "    .dataframe tbody tr th {\n",
       "        vertical-align: top;\n",
       "    }\n",
       "\n",
       "    .dataframe thead th {\n",
       "        text-align: right;\n",
       "    }\n",
       "</style>\n",
       "<table border=\"1\" class=\"dataframe\">\n",
       "  <thead>\n",
       "    <tr style=\"text-align: right;\">\n",
       "      <th></th>\n",
       "      <th>letter_id</th>\n",
       "      <th>n_footnote</th>\n",
       "      <th>generated_footnote</th>\n",
       "      <th>prompt_tokens</th>\n",
       "      <th>completion_tokens</th>\n",
       "    </tr>\n",
       "  </thead>\n",
       "  <tbody>\n",
       "    <tr>\n",
       "      <th>0</th>\n",
       "      <td>10327</td>\n",
       "      <td>2</td>\n",
       "      <td>Siehe oben, S. 246, 12-13.</td>\n",
       "      <td>2808</td>\n",
       "      <td>14</td>\n",
       "    </tr>\n",
       "    <tr>\n",
       "      <th>1</th>\n",
       "      <td>10327</td>\n",
       "      <td>5</td>\n",
       "      <td>Der Ausdruck \"Cerberus\" bezieht sich hier möglicherweise auf die strengen und kompromisslosen politischen Verhältnisse in Zürich oder auf eine bestimmte Person, die Bullinger als \"Hundeführer\" oder Wächter ansieht. Der verwendete Begriff könnte auf ein Gefühl der Bedrohung oder Kontrolle hinweisen, das die politischen Allianzen jener Zeit prägt.</td>\n",
       "      <td>2808</td>\n",
       "      <td>76</td>\n",
       "    </tr>\n",
       "    <tr>\n",
       "      <th>2</th>\n",
       "      <td>10650</td>\n",
       "      <td>2</td>\n",
       "      <td>Im Kontext dieser Passage bezieht sich der Begriff \"convictorum\" auf die Mitbewohner oder Kameraden, mit denen &lt;persName ref=\"p5618\" cert=\"high\"&gt;Lavater&lt;/persName&gt; Zeit verbrachte. Diese Bezugnahme deutet auf das enge soziale Netzwerk hin, das während der gemeinschaftlichen Aufenthalte in der Zeit der Reformation entstand, und auf die Rolle, die solche Verbindungen bei der Bewältigung persönlicher Krisen spielten.</td>\n",
       "      <td>3733</td>\n",
       "      <td>99</td>\n",
       "    </tr>\n",
       "    <tr>\n",
       "      <th>3</th>\n",
       "      <td>10650</td>\n",
       "      <td>3</td>\n",
       "      <td>Der Fluss, der in diesem Kontext erwähnt wird, bezieht sich vermutlich auf den &lt;placeName ref=\"l492\" cert=\"high\"&gt;Ill&lt;/placeName&gt;, einen Nebenfluss des Rheins, der durch Straßburg fließt. Viele Personen der damaligen Zeit nutzten diesen Fluss sowohl für alltägliche Bedürfnisse als auch für gesundheitliche Zwecke, wie das Baden, was in der angesprochenen Situation von Bedeutung ist.</td>\n",
       "      <td>3733</td>\n",
       "      <td>89</td>\n",
       "    </tr>\n",
       "    <tr>\n",
       "      <th>4</th>\n",
       "      <td>10650</td>\n",
       "      <td>6</td>\n",
       "      <td>Die Erwähnung der „caeteri sodales“ bezieht sich auf die anderen Mitglieder des Collegiums, die nicht an diesem speziellen Ereignis teilnahmen. Otto Werdmüller (Myliander) beschreibt die enge Gemeinschaft der Studierenden und verweist auf die Abwesenheit der meisten von ihnen in der kritischen Situation rund um den Tod von Heinrich Lavater. Dies verdeutlicht die Trauer und den Schock, den diese Tragödie in der gesamten Doppelöstlichen Gemeinschaft hervorrief. Vgl. auch G. E. S. Lang, *Die humanistischen Schulen in Straßburg* (Zürich 1946).</td>\n",
       "      <td>3733</td>\n",
       "      <td>136</td>\n",
       "    </tr>\n",
       "  </tbody>\n",
       "</table>\n",
       "</div>"
      ],
      "text/plain": [
       "  letter_id n_footnote  \\\n",
       "0     10327          2   \n",
       "1     10327          5   \n",
       "2     10650          2   \n",
       "3     10650          3   \n",
       "4     10650          6   \n",
       "\n",
       "                                                                                                                                                                                                                                                                                                                                                                                                                                                                                                                                                  generated_footnote  \\\n",
       "0                                                                                                                                                                                                                                                                                                                                                                                                                                                                                                                                         Siehe oben, S. 246, 12-13.   \n",
       "1                                                                                                                                                                                                        Der Ausdruck \"Cerberus\" bezieht sich hier möglicherweise auf die strengen und kompromisslosen politischen Verhältnisse in Zürich oder auf eine bestimmte Person, die Bullinger als \"Hundeführer\" oder Wächter ansieht. Der verwendete Begriff könnte auf ein Gefühl der Bedrohung oder Kontrolle hinweisen, das die politischen Allianzen jener Zeit prägt.   \n",
       "2                                                                                                                                  Im Kontext dieser Passage bezieht sich der Begriff \"convictorum\" auf die Mitbewohner oder Kameraden, mit denen <persName ref=\"p5618\" cert=\"high\">Lavater</persName> Zeit verbrachte. Diese Bezugnahme deutet auf das enge soziale Netzwerk hin, das während der gemeinschaftlichen Aufenthalte in der Zeit der Reformation entstand, und auf die Rolle, die solche Verbindungen bei der Bewältigung persönlicher Krisen spielten.   \n",
       "3                                                                                                                                                                    Der Fluss, der in diesem Kontext erwähnt wird, bezieht sich vermutlich auf den <placeName ref=\"l492\" cert=\"high\">Ill</placeName>, einen Nebenfluss des Rheins, der durch Straßburg fließt. Viele Personen der damaligen Zeit nutzten diesen Fluss sowohl für alltägliche Bedürfnisse als auch für gesundheitliche Zwecke, wie das Baden, was in der angesprochenen Situation von Bedeutung ist.   \n",
       "4  Die Erwähnung der „caeteri sodales“ bezieht sich auf die anderen Mitglieder des Collegiums, die nicht an diesem speziellen Ereignis teilnahmen. Otto Werdmüller (Myliander) beschreibt die enge Gemeinschaft der Studierenden und verweist auf die Abwesenheit der meisten von ihnen in der kritischen Situation rund um den Tod von Heinrich Lavater. Dies verdeutlicht die Trauer und den Schock, den diese Tragödie in der gesamten Doppelöstlichen Gemeinschaft hervorrief. Vgl. auch G. E. S. Lang, *Die humanistischen Schulen in Straßburg* (Zürich 1946).   \n",
       "\n",
       "   prompt_tokens  completion_tokens  \n",
       "0           2808                 14  \n",
       "1           2808                 76  \n",
       "2           3733                 99  \n",
       "3           3733                 89  \n",
       "4           3733                136  "
      ]
     },
     "execution_count": 105,
     "metadata": {},
     "output_type": "execute_result"
    }
   ],
   "source": [
    "pd.set_option('display.max_colwidth', None)  # show whole text in the cells\n",
    "df.head()"
   ]
  },
  {
   "cell_type": "code",
   "execution_count": null,
   "metadata": {},
   "outputs": [],
   "source": []
  },
  {
   "cell_type": "markdown",
   "metadata": {},
   "source": [
    "# Evaluate Batch"
   ]
  },
  {
   "cell_type": "code",
   "execution_count": 15,
   "metadata": {},
   "outputs": [],
   "source": [
    "import pandas as pd\n",
    "\n",
    "\n",
    "human_footnotes_df = pd.read_csv(\"../../data/footnote_downsized_df.csv\")\n",
    "\n",
    "generated_footnotes_df = pd.read_csv(\"../../data/model_responses/gpt/gpt-4o-mini-2024-07-18-instruct_add-example.csv\")\n",
    "\n",
    "def evaluate_batch(machine_df, human_df):\n",
    "    merged_df = machine_df.merge(human_df, on=[\"letter_id\", \"n_footnote\"])\n",
    "\n",
    "    predictions = list(merged_df[\"generated_footnote\"])\n",
    "    references = list(merged_df[\"xml_footnote\"])\n",
    "    return all_metrics(predictions, references)"
   ]
  },
  {
   "cell_type": "code",
   "execution_count": 18,
   "metadata": {},
   "outputs": [
    {
     "name": "stdout",
     "output_type": "stream",
     "text": [
      "calculating Bert scores for 4 models\n"
     ]
    },
    {
     "name": "stderr",
     "output_type": "stream",
     "text": [
      "  0%|                                                                                            | 0/4 [00:00<?, ?it/s]C:\\Users\\nik_b\\AppData\\Local\\Programs\\Python\\Python310\\lib\\site-packages\\huggingface_hub\\file_download.py:1150: FutureWarning: `resume_download` is deprecated and will be removed in version 1.0.0. Downloads always resume when possible. If you want to force a new download, use `force_download=True`.\n",
      "  warnings.warn(\n",
      "Some weights of RobertaModel were not initialized from the model checkpoint at roberta-base and are newly initialized: ['roberta.pooler.dense.weight', 'roberta.pooler.dense.bias']\n",
      "You should probably TRAIN this model on a down-stream task to be able to use it for predictions and inference.\n",
      " 50%|██████████████████████████████████████████                                          | 2/4 [01:54<01:53, 56.86s/it]Some weights of RobertaModel were not initialized from the model checkpoint at benjamin/roberta-base-wechsel-german and are newly initialized: ['roberta.pooler.dense.weight', 'roberta.pooler.dense.bias']\n",
      "You should probably TRAIN this model on a down-stream task to be able to use it for predictions and inference.\n",
      "100%|████████████████████████████████████████████████████████████████████████████████████| 4/4 [03:48<00:00, 57.09s/it]\n"
     ]
    },
    {
     "name": "stdout",
     "output_type": "stream",
     "text": [
      "calculating Bert scores for 4 models\n"
     ]
    },
    {
     "name": "stderr",
     "output_type": "stream",
     "text": [
      "  0%|                                                                                            | 0/4 [00:00<?, ?it/s]Some weights of RobertaModel were not initialized from the model checkpoint at roberta-base and are newly initialized: ['roberta.pooler.dense.weight', 'roberta.pooler.dense.bias']\n",
      "You should probably TRAIN this model on a down-stream task to be able to use it for predictions and inference.\n",
      " 50%|██████████████████████████████████████████                                          | 2/4 [01:21<01:18, 39.37s/it]Some weights of RobertaModel were not initialized from the model checkpoint at benjamin/roberta-base-wechsel-german and are newly initialized: ['roberta.pooler.dense.weight', 'roberta.pooler.dense.bias']\n",
      "You should probably TRAIN this model on a down-stream task to be able to use it for predictions and inference.\n",
      "100%|████████████████████████████████████████████████████████████████████████████████████| 4/4 [02:22<00:00, 35.62s/it]\n"
     ]
    }
   ],
   "source": [
    "# 4o mini\n",
    "generated_footnotes_df = pd.read_csv(\"../../data/model_responses/gpt/gpt-4o-mini-2024-07-18-instruct_add-example.csv\")\n",
    "results = evaluate_batch(generated_footnotes_df, human_footnotes_df)"
   ]
  },
  {
   "cell_type": "code",
   "execution_count": 19,
   "metadata": {},
   "outputs": [
    {
     "name": "stdout",
     "output_type": "stream",
     "text": [
      "{'with_markup': {'bleu': 0.07267840739367416, 'rouge': 0.08224572107989798, 'bertscore': {'roberta-base': 0.7691945014773188, 'xlm-roberta-base': 0.7761627862582335, 'benjamin/roberta-base-wechsel-german': 0.7280103290403211, 'google-bert/bert-base-german-cased': 0.5434766637312399}}, 'without_markup': {'bleu': 0.0, 'rouge': 0.05275112524382883, 'bertscore': {'roberta-base': 0.786318054875812, 'xlm-roberta-base': 0.7982009327089464, 'benjamin/roberta-base-wechsel-german': 0.7354036054095706, 'google-bert/bert-base-german-cased': 0.5176803751571758}}}\n"
     ]
    }
   ],
   "source": [
    "print(results)"
   ]
  },
  {
   "cell_type": "code",
   "execution_count": 30,
   "metadata": {},
   "outputs": [
    {
     "name": "stdout",
     "output_type": "stream",
     "text": [
      "calculating Bert scores for 4 models\n"
     ]
    },
    {
     "name": "stderr",
     "output_type": "stream",
     "text": [
      "\r",
      "  0%|                                                                                            | 0/1 [00:00<?, ?it/s]"
     ]
    },
    {
     "name": "stdout",
     "output_type": "stream",
     "text": [
      "benjamin/roberta-base-wechsel-german\n"
     ]
    },
    {
     "name": "stderr",
     "output_type": "stream",
     "text": [
      "C:\\Users\\nik_b\\AppData\\Local\\Programs\\Python\\Python310\\lib\\site-packages\\huggingface_hub\\file_download.py:1150: FutureWarning: `resume_download` is deprecated and will be removed in version 1.0.0. Downloads always resume when possible. If you want to force a new download, use `force_download=True`.\n",
      "  warnings.warn(\n",
      "Some weights of RobertaModel were not initialized from the model checkpoint at benjamin/roberta-base-wechsel-german and are newly initialized: ['roberta.pooler.dense.weight', 'roberta.pooler.dense.bias']\n",
      "You should probably TRAIN this model on a down-stream task to be able to use it for predictions and inference.\n",
      "100%|████████████████████████████████████████████████████████████████████████████████████| 1/1 [00:51<00:00, 51.57s/it]\n"
     ]
    },
    {
     "name": "stdout",
     "output_type": "stream",
     "text": [
      "calculating Bert scores for 4 models\n"
     ]
    },
    {
     "name": "stderr",
     "output_type": "stream",
     "text": [
      "\r",
      "  0%|                                                                                            | 0/1 [00:00<?, ?it/s]"
     ]
    },
    {
     "name": "stdout",
     "output_type": "stream",
     "text": [
      "benjamin/roberta-base-wechsel-german\n"
     ]
    },
    {
     "name": "stderr",
     "output_type": "stream",
     "text": [
      "100%|████████████████████████████████████████████████████████████████████████████████████| 1/1 [00:23<00:00, 23.67s/it]\n"
     ]
    }
   ],
   "source": [
    "# 4o\n",
    "generated_footnotes_df = pd.read_csv(\"../../data/model_responses/gpt/gpt-4o-2024-08-06-instruct_add-example.csv\")\n",
    "results = evaluate_batch(generated_footnotes_df, human_footnotes_df)"
   ]
  },
  {
   "cell_type": "code",
   "execution_count": 31,
   "metadata": {},
   "outputs": [
    {
     "name": "stdout",
     "output_type": "stream",
     "text": [
      "{'with_markup': {'bleu': 0.010760966779495174, 'rouge': 0.054643939749435724, 'bertscore': {'benjamin/roberta-base-wechsel-german': 0.7036953423474286}}, 'without_markup': {'bleu': 0.004271788044595153, 'rouge': 0.07213235780159993, 'bertscore': {'benjamin/roberta-base-wechsel-german': 0.7358355940999212}}}\n"
     ]
    }
   ],
   "source": [
    "print(results)"
   ]
  },
  {
   "cell_type": "code",
   "execution_count": null,
   "metadata": {},
   "outputs": [],
   "source": [
    "\n",
    "def evaluate_batch(human_footnote_df, generated_footnote_df):\n",
    "    for gen_fn in generated_footnote.iterrows():\n",
    "        real_fn = human_footnote_df[human_footnote_df[\"\"]]\n"
   ]
  }
 ],
 "metadata": {
  "kernelspec": {
   "display_name": "Python 3 (ipykernel)",
   "language": "python",
   "name": "python3"
  },
  "language_info": {
   "codemirror_mode": {
    "name": "ipython",
    "version": 3
   },
   "file_extension": ".py",
   "mimetype": "text/x-python",
   "name": "python",
   "nbconvert_exporter": "python",
   "pygments_lexer": "ipython3",
   "version": "3.10.7"
  }
 },
 "nbformat": 4,
 "nbformat_minor": 2
}
