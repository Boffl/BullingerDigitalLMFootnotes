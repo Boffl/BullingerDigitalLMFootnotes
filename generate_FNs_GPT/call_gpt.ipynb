{
 "cells": [
  {
   "cell_type": "code",
   "execution_count": 3,
   "metadata": {},
   "outputs": [],
   "source": [
    "api_key = \"\"  # todo fix error with environ var"
   ]
  },
  {
   "cell_type": "markdown",
   "metadata": {},
   "source": [
    "# Imports and prep"
   ]
  },
  {
   "cell_type": "code",
   "execution_count": 4,
   "metadata": {},
   "outputs": [
    {
     "data": {
      "text/plain": [
       "('Wolfgang Amadeus Mozart was born on January 27, 1756.', 32, 18)"
      ]
     },
     "execution_count": 4,
     "metadata": {},
     "output_type": "execute_result"
    }
   ],
   "source": [
    "from generate_gpt import OpenAiModels\n",
    "\n",
    "\n",
    "model = OpenAiModels(\"gpt-3.5-turbo\", api_key)\n",
    "\n",
    "messages = [{\n",
    "    \"role\": \"system\",\n",
    "    \"content\": f\"You are a student, taking the following exam on music history.\"},\n",
    "    {\"role\": \"user\",\n",
    "        \"content\": \"what year was Motzart born?\"}\n",
    "        ]\n",
    "\n",
    "# test if it works...\n",
    "# model.generate(messages)\n",
    "\n"
   ]
  },
  {
   "cell_type": "markdown",
   "metadata": {},
   "source": []
  },
  {
   "cell_type": "code",
   "execution_count": 5,
   "metadata": {},
   "outputs": [],
   "source": [
    "# Small input, one FN is there, a second one is to be generated:\n",
    "text1 = \"\"\"<TEI xmlns=\"http://www.tei-c.org/ns/1.0\" xml:id=\"file10224\" type=\"Brief\" source=\"HBBW-3\" n=\"193\">\n",
    "\t<teiHeader xml:lang=\"de\">\n",
    "\t\t<fileDesc>\n",
    "\t\t\t<titleStmt>\n",
    "\t\t\t\t<title subtype=\"file\">Konrad Geßner, Johannes Fries / Basel an Heinrich Bullinger, 25. Februar [1533]</title>\n",
    "\t\t\t</titleStmt>\n",
    "\t\t\t<publicationStmt>\n",
    "\t\t\t\t<authority>Universität Zürich</authority>\n",
    "\t\t\t\t</publicationStmt>\n",
    "\t\t\t<sourceDesc>\n",
    "\t\t\t\t</sourceDesc>\n",
    "\t\t</fileDesc>\n",
    "\t\t</teiHeader>\n",
    "\t<text xml:lang=\"la\">\n",
    "\t\t<body>\n",
    "\t\t\t<div xml:id=\"div1\" corresp=\"regest1\">\n",
    "\t\t\t\t<p>\n",
    "\t\t\t\t\t<s n=\"1\" xml:lang=\"la\" type=\"auto\">Optimo et integerrimo viro M. Henrico Bullingero, mecaenati charissimo.</s>\n",
    "\t\t\t\t</p>\n",
    "\t\t\t\t<p>\n",
    "\t\t\t\t\t<s n=\"2\" xml:lang=\"la\" type=\"auto\">S.</s>\n",
    "\t\t\t\t\t<s n=\"3\" xml:lang=\"la\" type=\"auto\">Impediunt nos ab itinere<note xml:id=\"fn3\" type=\"footnote\" n=\"3\"><persName ref=\"p1283\" cert=\"high\">Geßner</persName> und <persName ref=\"p1214\" cert=\"high\">Fries</persName> befanden sich auf dem Weg nach <placeName ref=\"l59\" cert=\"high\">Bourges</placeName>.</note> nives, pluvia et ventorum vis.</s>\n",
    "\t\t\t\t\t<s n=\"4\" xml:lang=\"la\" type=\"auto\"><placeName ref=\"l28\" cert=\"high\">Basileae</placeName> apud <persName ref=\"p8418\" cert=\"high\">Myconium</persName><note xml:id=\"fn4\" type=\"footnote\" n=\"4\">\"\"\"\n",
    "\n",
    "# Same Letter, but now the first FN is to be generated. Meaning the model has no direct example of a FN in the edition\n",
    "text2 = \"\"\"<TEI xmlns=\"http://www.tei-c.org/ns/1.0\" xml:id=\"file10224\" type=\"Brief\" source=\"HBBW-3\" n=\"193\">\n",
    "\t<teiHeader xml:lang=\"de\">\n",
    "\t\t<fileDesc>\n",
    "\t\t\t<titleStmt>\n",
    "\t\t\t\t<title subtype=\"file\">Konrad Geßner, Johannes Fries / Basel an Heinrich Bullinger, 25. Februar [1533]</title>\n",
    "\t\t\t</titleStmt>\n",
    "\t\t\t<publicationStmt>\n",
    "\t\t\t\t<authority>Universität Zürich</authority>\n",
    "\t\t\t\t</publicationStmt>\n",
    "\t\t\t<sourceDesc>\n",
    "\t\t\t\t</sourceDesc>\n",
    "\t\t</fileDesc>\n",
    "\t\t</teiHeader>\n",
    "\t<text xml:lang=\"la\">\n",
    "\t\t<body>\n",
    "\t\t\t<div xml:id=\"div1\" corresp=\"regest1\">\n",
    "\t\t\t\t<p>\n",
    "\t\t\t\t\t<s n=\"1\" xml:lang=\"la\" type=\"auto\">Optimo et integerrimo viro M. Henrico Bullingero, mecaenati charissimo.</s>\n",
    "\t\t\t\t</p>\n",
    "\t\t\t\t<p>\n",
    "\t\t\t\t\t<s n=\"2\" xml:lang=\"la\" type=\"auto\">S.</s>\n",
    "\t\t\t\t\t<s n=\"3\" xml:lang=\"la\" type=\"auto\">Impediunt nos ab itinere<note xml:id=\"fn3\" type=\"footnote\" n=\"3\">\"\"\"\n",
    "\n",
    "# A long letter, the model has to generate the very last FN\n",
    "text3 =  \"\"\"<TEI xmlns=\"http://www.tei-c.org/ns/1.0\" xml:id=\"file12260\" type=\"Brief\" source=\"HBBW-15\" n=\"2213\">\n",
    "\t<teiHeader xml:lang=\"de\">\n",
    "\t\t<fileDesc>\n",
    "\t\t\t<titleStmt>\n",
    "\t\t\t\t<title subtype=\"file\">Matthias Erb / Reichenweier an Heinrich Bullinger, 11. August [1545]</title>\n",
    "\t\t\t</titleStmt>\n",
    "\t\t\t<publicationStmt>\n",
    "\t\t\t\t<authority>Universität Zürich</authority>\n",
    "\t\t\t\t</publicationStmt>\n",
    "\t\t\t<sourceDesc>\n",
    "\t\t\t\t<bibl type=\"scan\">Zürich StA</bibl>\n",
    "\t\t\t\t</sourceDesc>\n",
    "\t\t</fileDesc>\n",
    "\t\t</teiHeader>\n",
    "\t<text xml:lang=\"la\">\n",
    "\t\t<body>\n",
    "\t\t\t<div xml:id=\"div1\" corresp=\"regest1\">\n",
    "\t\t\t\t<p>\n",
    "\t\t\t\t\t<s n=\"1\" xml:lang=\"la\" type=\"auto\">Gratia domini tecum.</s>\n",
    "\t\t\t\t\t<s n=\"2\" xml:lang=\"la\" type=\"auto\">Quum decima augusti<note xml:id=\"fn2\" type=\"footnote\" n=\"2\">An einem Montag, dem Vortag (s. Z. 17f) des Datums dieses Briefes.</note> e suggestu descendissem me actutum a templo ad aulam conferens (vocatus scilicet a cancellario<note xml:id=\"fn3\" type=\"footnote\" n=\"3\"><persName ref=\"p8103\" cert=\"high\">Sigismund Stier</persName>.</note> ob quędam negotia ecclesię componenda), venit hic tuus legatus<note xml:id=\"fn4\" type=\"footnote\" n=\"4\"><persName ref=\"p18219\" cert=\"high\">Markus Wüst</persName>; s. oben <ref target=\"file12256\">Nr. 2209</ref>, Anm. b.</note> hora ferme nona et, dum in angiportu sisto gradum, servum<note xml:id=\"fn5\" type=\"footnote\" n=\"5\">Unbekannt.</note> ad limina de <persName ref=\"p1010\" cert=\"high\">Erbio</persName> rogat, me vero oculis ostiario significante ne proderet, statim digito demonstrat dicens: „Hic est.“</s>\n",
    "\t\t\t\t\t<s n=\"3\" xml:lang=\"la\" type=\"auto\">Is ergo ad me veniens percunctatur, an mihi sit nomen <persName ref=\"p1010\" cert=\"high\">Erbio</persName>.</s>\n",
    "\t\t\t\t\t<s n=\"4\" xml:lang=\"la\" type=\"auto\">Aio.</s>\n",
    "\t\t\t\t\t<s n=\"5\" xml:lang=\"la\" type=\"auto\">Statimque litteras<note xml:id=\"fn6\" type=\"footnote\" n=\"6\">Oben <ref target=\"file12256\">Nr. 2209</ref>.</note> depromens dicebat a te missas.</s>\n",
    "\t\t\t\t\t<s n=\"6\" xml:lang=\"la\" type=\"auto\">Acceptas legi simul obstupescens tuam, qui alias occupatissimus es, sedulitatem in describendis ex autographo copiis<note xml:id=\"fn7\" type=\"footnote\" n=\"7\">Vgl. oben <ref target=\"file12256\">Nr. 2209</ref>, 15-19.</note>.</s>\n",
    "\t\t\t\t\t<s n=\"7\" xml:lang=\"la\" type=\"auto\">Stans ergo attonitus et propemodum exanimis iussi adolescentem expectare, dum redeam, atque subinde inter tractatus et varias dissidentium quęstiones et tacite et indesinenter volvo ac revolvo intime, quę scripseras.</s>\n",
    "\t\t\t\t\t<s n=\"8\" xml:lang=\"la\" type=\"auto\">Absolutus a strepitu aulico eo cum adolescente pransum interque epulandum de singulis rebus percunctor, statim scilicet a mensa tibi responsurus.</s>\n",
    "\t\t\t\t\t<s n=\"9\" xml:lang=\"la\" type=\"auto\">Dum id meditor, alius adest nuntius<note xml:id=\"fn8\" type=\"footnote\" n=\"8\">Unbekannt.</note> litteras ferens a principe<note xml:id=\"fn9\" type=\"footnote\" n=\"9\"><persName ref=\"p8098\" cert=\"high\">Graf Georg von Württemberg-Mömpelgard</persName>, der sich laut Z. 16 damals in <placeName ref=\"l569\" cert=\"high\">Worms</placeName> aufhielt. Seine Teilnahme am <placeName ref=\"l569\" cert=\"high\">Wormser</placeName> Reichstag ist in RTA JR XVIII-2 nicht belegt.</note>, in quibus multa mihi committuntur negotia principemque a comitiis<note xml:id=\"fn10\" type=\"footnote\" n=\"10\">Der Reichstag in <placeName ref=\"l569\" cert=\"high\">Worms</placeName>.</note> propediem rediturum pollicentes.</s>\n",
    "\t\t\t\t\t<s n=\"10\" xml:lang=\"la\" type=\"auto\">Hinc eo die, tametsi adolescens crebro urgeret abituriens, nil scripsi omnia in posterum, hoc est in hodiernum, reiiciens diem.</s>\n",
    "\t\t\t\t\t<s n=\"11\" xml:lang=\"la\" type=\"auto\">Haec de pueri tui diligentia.</s>\n",
    "\t\t\t\t</p>\n",
    "\t\t\t\t<p>\n",
    "\t\t\t\t\t<s n=\"12\" xml:lang=\"la\" type=\"auto\">Quod vero ad negotium adtinet, paucis haec accipe.</s>\n",
    "\t\t\t\t\t<s n=\"13\" xml:lang=\"la\" type=\"auto\">Fateor me iam annum quinquagesimum egressum<note xml:id=\"fn11\" type=\"footnote\" n=\"11\"><persName ref=\"p1010\" cert=\"high\">Erb</persName> war 1494 geboren.</note>, et qui nunc in ea aetate sum, quę sedatior esse cupit, sepicule curas aulicas, quibus distringor,<pb type=\"scan\" next=\"257v.\"/> depręcatum, sed parum promovisse; imo, quo plus me expedire cupio, eo amplius perstringor dispendio et vitae et rerum.</s>\n",
    "\t\t\t\t\t<s n=\"14\" xml:lang=\"la\" type=\"auto\">Sic deo optimo maximo visum est.</s>\n",
    "\t\t\t\t</p>\n",
    "\t\t\t\t<p>\n",
    "\t\t\t\t\t<s n=\"15\" xml:lang=\"la\" type=\"auto\">Quod ad vitam, ut omnia manifestius depingam, subit tarda senectus,<note xml:id=\"fn12\" type=\"footnote\" n=\"12\"><hi>Vergil,</hi> Aeneis, 9, 610.</note> quę difficilis incipit esse, sola non suffitiens laboribus, dum indies creberrime exantlatur.</s>\n",
    "\t\t\t\t\t<s n=\"16\" xml:lang=\"la\" type=\"auto\">Nullum habeo symmistam, ut nosti, opinor.</s>\n",
    "\t\t\t\t\t<s n=\"17\" xml:lang=\"la\" type=\"auto\">Plures iussu principis vocavi; sed horrent id, quod ego quęror.</s>\n",
    "\t\t\t\t\t<s n=\"18\" xml:lang=\"la\" type=\"auto\">Metuunt enim sibi ab ingeniis cervinis<note xml:id=\"fn13\" type=\"footnote\" n=\"13\">ingenium cervinum: ein ängstliches Wesen; s. <bibl>Adagia</bibl>, 2, 7, 36 (<bibl>ASD</bibl> II/4 110, <ref target=\"file11679\">Nr. 1636</ref>).</note>, nec ego quenquam nisi volentem ad me trahere volo, etc.<pb type=\"edition\" next=\"439\"/></s>\n",
    "\t\t\t\t\t<s n=\"19\" xml:lang=\"la\" type=\"auto\">Quod vero ad res meas adtinet, male collocat ille, quem ex nomine nosti, stipendia.</s>\n",
    "\t\t\t\t\t<s n=\"20\" xml:lang=\"la\" type=\"auto\">Ex patrimonio intra quinquennium<note xml:id=\"fn16\" type=\"footnote\" n=\"16\">D.h. seit 1539, was mit dem Amtsantritt <persName ref=\"p17986\" cert=\"high\">Henmans</persName> übereinstimmt.</note> ducentos fere aureos non in meam, sed magis ecclesię necessitatem exposui, quod dies domini revelabit.</s>\n",
    "\t\t\t\t\t<s n=\"21\" xml:lang=\"la\" type=\"auto\">Nec quęror, optime frater, de perditis rebus, sed de Harpiis furacibus, qui recte monentes non exaudiunt et ecclesię avaritię notam inurunt; quod non adeo magni referret, nisi metuendum de excidio foret.</s>\n",
    "\t\t\t\t\t<s n=\"22\" xml:lang=\"la\" type=\"auto\">Quamdiu rapiendum, placet Christus; dum defecerit ecclesię fiscus, non placebit ultra Christus!</s>\n",
    "\t\t\t\t\t<s n=\"23\" xml:lang=\"la\" type=\"auto\">Hactenus 3 fuimus in isto oppido, ubi quisque designatum habuit<pb type=\"edition\" next=\"440\"/> stipendium.</s>\n",
    "\t\t\t\t\t<s n=\"24\" xml:lang=\"la\" type=\"auto\">Ego nunc solus omnibus curis pręfectus aegre a satrapis<note xml:id=\"fn18\" type=\"footnote\" n=\"18\">Zu verstehen: von den Beamten, u.a. vom neuen Schaffner.</note> meum recipio stipendium, et si egerem, vix triobulo sublevarent.</s>\n",
    "\t\t\t\t\t<s n=\"25\" xml:lang=\"la\" type=\"auto\">Sunt pręterea et alię rationes, quibus te nolo nunc gravare scribendo, etc.</s>\n",
    "\t\t\t\t\t<s n=\"26\" xml:lang=\"la\" type=\"auto\">Atque inter tot turbines nondum video satis iustam occasionem desertionis huius ecclesię.</s>\n",
    "\t\t\t\t</p>\n",
    "\t\t\t\t<p>\n",
    "\t\t\t\t\t<s n=\"27\" xml:lang=\"de\" type=\"auto\"><pb type=\"scan\" next=\"257a,r.\"/>Summa.</s>\n",
    "\t\t\t\t\t<s n=\"28\" xml:lang=\"la\" type=\"auto\">Ita haereo inter sacrum et saxum<note xml:id=\"fn19\" type=\"footnote\" n=\"19\">Siehe Adagia, 1, 1, 15 (<bibl>ASD</bibl> II/1 128f, Nr. 15).</note>, ut nunc sine discrimine ecclesięque Christi maxima iactura, ut facile intelligis, discedere nequeam.</s>\n",
    "\t\t\t\t</p>\n",
    "\t\t\t\t<p>\n",
    "\t\t\t\t\t<s n=\"29\" xml:lang=\"la\" type=\"auto\">Atque eę sunt potissimę rationes.</s>\n",
    "\t\t\t\t\t<s n=\"30\" xml:lang=\"la\" type=\"auto\">Ecclesias nostras iam a sexto anno<note xml:id=\"fn20\" type=\"footnote\" n=\"20\">D.h. seit 1538, als Erbin Reichenweier tätig wurde.</note> utcunque in ordinem, ut potuimus - quando, ut volueramus, non licuit - redegimus.</s>\n",
    "\t\t\t\t</p>\n",
    "\t\t\t\t<p>\n",
    "\t\t\t\t\t<s n=\"31\" xml:lang=\"la\" type=\"auto\">Annitendum ergo, ut cępta perficiantur.</s>\n",
    "\t\t\t\t\t<s n=\"32\" xml:lang=\"la\" type=\"auto\">Ad hoc ecclesia illa nobis contigua, Montbelgardiana, cum suo principe<note xml:id=\"fn21\" type=\"footnote\" n=\"21\"><persName ref=\"p1546\" cert=\"high\">Graf Christoph von Württemberg</persName>.</note> adhuc vacillat; de qua totus liber foret perscribendus.</s>\n",
    "\t\t\t\t\t<s n=\"33\" xml:lang=\"la\" type=\"auto\">Pręterea scholę quattuor in isto parviusculo agro sunt constitutę et quinta in rure instituenda, stipendia quoque studiosis quibusdam ante paucos menses pollicita,<note xml:id=\"fn23\" type=\"footnote\" n=\"23\">Erst 1555 kam es zur Einrichtung eines solchen Stipendiums durch Graf Georg; s. <hi>Adam,</hi> aao, S. 306.</note> sed haec non omnia firmata et rata, proponenda etiamnum ecclesię quędam decreta, quibus ad disciplinam et sanctos mores utcunque redigantur, idque statim redeunte principe.</s>\n",
    "\t\t\t\t\t<s n=\"34\" xml:lang=\"la\" type=\"auto\">Illo enim absente haec omnia conscripta sunt.</s>\n",
    "\t\t\t\t\t<s n=\"35\" xml:lang=\"la\" type=\"auto\">Dum igitur nunc mutavero locum omnia sub cultro relinquens<note xml:id=\"fn24\" type=\"footnote\" n=\"24\">omnia sub cultro relinquens: alles der Gefahr aussetzend; vgl. <bibl>Adagia</bibl>, 2, 10, 83 (<bibl>ASD</bibl> II/4 328, <ref target=\"file12030\">Nr. 1983</ref>).</note>, facile intelligis, quid periculi inmineat.</s>\n",
    "\t\t\t\t\t<s n=\"36\" xml:lang=\"la\" type=\"auto\">In primis severus princeps, a quo omnia pendent, facile vel mutaretur vel irritaretur, ut solet hoc hominum genus; id quod nimirum magis in ecclesię quam in meum incomodum cęderet.</s>\n",
    "\t\t\t\t\t<s n=\"37\" xml:lang=\"la\" type=\"auto\">Viden inter coelum et terram me suspensum palpitare neque posse hac ratione vel vocatione, quę tamen et sancta et iusta, liberari?</s>\n",
    "\t\t\t\t\t<s n=\"38\" xml:lang=\"la\" type=\"auto\">Occasio mihi expectanda comodior, quę me liberet sine ecclesię iactura.</s>\n",
    "\t\t\t\t\t<s n=\"39\" xml:lang=\"la\" type=\"auto\">Nam si iam abirem, ecclesia viduata absque pastore inter cunctatores et cessatores fluctuaret, etc.</s>\n",
    "\t\t\t\t</p>\n",
    "\t\t\t\t<p>\n",
    "\t\t\t\t\t<s n=\"40\" xml:lang=\"la\" type=\"auto\"><pb type=\"scan\" next=\"257a,v.\"/>Ago vero et habeo tibi gratias inmortales, humanissime Bullingere, quod admodum ingenti cura meo nomine laboraveris, atque hoc impensius te amo, quod charitatis offitium non fucate, sed dextre candideque in me collocaris, imo significaris in hac sancta vocatione.</s>\n",
    "\t\t\t\t\t<s n=\"41\" xml:lang=\"la\" type=\"auto\">Respondebit olim procul dubio deus optimus maximus tuis votis, quo <placeName ref=\"l1976\" cert=\"high\">Augustani</placeName> nanciscantur virum aliquem sanctum, ecclesię dignum ministrum,<note xml:id=\"fn25\" type=\"footnote\" n=\"25\"><persName ref=\"p8018\" cert=\"high\">Johannes Haller</persName> wurde schließlich aus Zurich nach <placeName ref=\"l1976\" cert=\"high\">Augsburg</placeName> gesandt; s. oben <ref target=\"file12211\">Nr. 2164</ref>, Anm. 10.</note> atque ego etiam tuis assiduis<pb type=\"edition\" next=\"441\"/> praecibus vel liberer publica occasione vel sub onere non defitiam.</s>\n",
    "\t\t\t\t\t<s n=\"42\" xml:lang=\"la\" type=\"auto\">Sed te etiamnum per Iesum Christum, ne deinceps plus mihi vel tribuas, immodicus scilicet virtutum mearum, quibus penitus careo, pręco, vel magis sentias de me, quam res est.</s>\n",
    "\t\t\t\t\t<s n=\"43\" xml:lang=\"la\" type=\"auto\">Optime enim mihi ipsi conscius sum curtę suppellectilis,<note xml:id=\"fn26\" type=\"footnote\" n=\"26\"><hi>Persius,</hi> Saturae, 4, 52.</note> quam tu, ni fallor, maiori atque ego, nescio quorum iuditio persuasus, aestimas.</s>\n",
    "\t\t\t\t</p>\n",
    "\t\t\t\t<p>\n",
    "\t\t\t\t\t<s n=\"44\" xml:lang=\"la\" type=\"auto\">Porro, quod nunc temporis importunitas negat, alias benignus deus, ecclesiarum verus et unicus pastor<note xml:id=\"fn27\" type=\"footnote\" n=\"27\">Vgl. <cit type=\"bible\"><ref>Hebr 13, 20</ref></cit>; <cit type=\"bible\"><ref>1Petr 2, 25</ref></cit>; <cit type=\"bible\"><ref>5, 4.</ref></cit></note>, solita clementia sancta resarciet oportunitate.</s>\n",
    "\t\t\t\t\t<s n=\"45\" xml:lang=\"la\" type=\"auto\">Sancto quoque magistratui <placeName ref=\"l1976\" cert=\"high\">Augustano</placeName>, inprimis vero erudito viro domino <persName ref=\"p8354\" cert=\"high\">Georgio Leto</persName><note xml:id=\"fn28\" type=\"footnote\" n=\"28\"><persName ref=\"p8354\" cert=\"high\">Georg Frölich</persName>.</note>, ingentes gratias meo nomine agas, obsecro, quod me, ineptum homuntionem,<note xml:id=\"fn29\" type=\"footnote\" n=\"29\">Vgl. <cit type=\"bible\"><ref>1Kor 15,9</ref></cit>; <cit type=\"bible\"><ref>Eph 3, 8</ref></cit>.</note> adeo egregia dignati sint vocatione.</s>\n",
    "\t\t\t\t\t<s n=\"46\" xml:lang=\"la\" type=\"auto\">Ego quoque deinceps eius ecclesię maiorem habebo - si potis fuero - ubique rationem, optoque illis stabilem pacem et concordiam talesque antistites, qui pietate, eruditione, prudentia, vigilantia et fidelitate ita pręmineant, quo Christus in ea republica ita mittat radices, ut nullis satanę et impiorum imposturis deiiciatur.</s>\n",
    "\t\t\t\t\t<s n=\"47\" xml:lang=\"la\" type=\"auto\">Monebis ergo illos, ne me deinceps expectent; ignoro enim meam liberationem.</s>\n",
    "\t\t\t\t\t<s n=\"48\" xml:lang=\"la\" type=\"auto\">Servet te Christus.</s>\n",
    "\t\t\t\t</p>\n",
    "\t\t\t\t<p>\n",
    "\t\t\t\t\t<note type=\"attachment\">[Beilage:]</note>\n",
    "\t\t\t\t\t<s n=\"49\" xml:lang=\"la\" type=\"auto\"><pb type=\"scan\" next=\"258r.\"/>Nova: Absolutionem conmitiorum<note xml:id=\"fn30\" type=\"footnote\" n=\"30\">Der Reichstag zu <placeName ref=\"l569\" cert=\"high\">Worms</placeName>.</note> non ignoras, in quibus nil certi definitum, nisi quod istis hybernis mensibus adversarii nobis pacem condixerunt; futura aestate nobis providendum erit<note xml:id=\"fn31\" type=\"footnote\" n=\"31\">Ein Gerücht.</note>.</s>\n",
    "\t\t\t\t\t<s n=\"50\" xml:lang=\"la\" type=\"auto\">Acta comitiorum nondum sunt publicata.</s>\n",
    "\t\t\t\t\t<s n=\"51\" xml:lang=\"la\" type=\"auto\">Aiunt quidam caesari<note xml:id=\"fn33\" type=\"footnote\" n=\"33\"><persName ref=\"p18538\" cert=\"high\">Karl V.</persName></note> omnia esse commissa, ut dicat sententiam etiam in religionis negotio certis tamen conditionibus; quodsi verum fuerit, ovem dicemus lupo<note xml:id=\"fn34\" type=\"footnote\" n=\"34\">Vgl. <cit type=\"bible\"><ref>Joh 10, 12</ref></cit>.</note> commissam.</s>\n",
    "\t\t\t\t</p>\n",
    "\t\t\t\t<p>\n",
    "\t\t\t\t\t<s n=\"52\" xml:lang=\"la\" type=\"auto\"><persName ref=\"p18477\" cert=\"high\">Ferdinandus</persName> priori septimana<note xml:id=\"fn35\" type=\"footnote\" n=\"35\">Zu verstehen: In der ersten Augustwoche. - <persName ref=\"p18477\" cert=\"high\">Ferdinand I.</persName> war am 31. Juli 1545 aus <placeName ref=\"l569\" cert=\"high\">Worms</placeName> abgereist; s. unten <ref target=\"file12261\">Nr. 2214</ref>, 28 und Anm. 20.</note> a comitiis magno strepitu solvens Bohemiam petit cum <persName ref=\"p7688\" cert=\"high\">Nausea</persName><note xml:id=\"fn36\" type=\"footnote\" n=\"36\"><persName ref=\"p7688\" cert=\"high\">Friedrich Nausea</persName>, Bischof von <placeName ref=\"l546\" cert=\"high\">Wien</placeName>.</note> suo et quibusdam monachis.</s>\n",
    "\t\t\t\t\t<s n=\"53\" xml:lang=\"la\" type=\"auto\">Sequenti septimana<pb type=\"edition\" next=\"442\"/> caesar abiturus est, sed quo, ignoratur<note xml:id=\"fn37\" type=\"footnote\" n=\"37\"><persName ref=\"p18538\" cert=\"high\">Karl V.</persName> hatte <placeName ref=\"l569\" cert=\"high\">Worms</placeName> am 7. August in Richtung <placeName ref=\"l267\" cert=\"high\">Köln</placeName> verlassen; s. oben <ref target=\"file12261\">Nr. 2214</ref>, 31 und Anm. 23f.</note>.</s>\n",
    "\t\t\t\t\t<s n=\"54\" xml:lang=\"la\" type=\"auto\">Erant alia dicta comitia ad <placeName ref=\"l410\" cert=\"high\">Reginospurgum</placeName> ad mensem octobrem,<note xml:id=\"fn38\" type=\"footnote\" n=\"38\">Der geplante Reichstag in <placeName ref=\"l410\" cert=\"high\">Regensburg</placeName>, der erst Anfang 1546 begann; s. oben <ref target=\"file12258\">Nr. 2211</ref>, Anm. 24.</note>, sed aiunt quidam irritata<note xml:id=\"fn39\" type=\"footnote\" n=\"39\">Hier im Sinne von \"vergeblich\"; s. <hi><persName ref=\"p8320\" cert=\"high\">Dasypodius</persName>,</hi> Dic. 199.</note>, etc.</s>\n",
    "\t\t\t\t</p>\n",
    "\t\t\t\t<p>\n",
    "\t\t\t\t\t<s n=\"55\" xml:lang=\"la\" type=\"auto\">Urgent plures nacionale concilium, idque <placeName ref=\"322\" type=\"auto_name\">Metis</placeName><note xml:id=\"fn40\" type=\"footnote\" n=\"40\"><placeName ref=\"l322\" cert=\"high\">Metz</placeName>.</note> celebrari postulant.</s>\n",
    "\t\t\t\t\t<s n=\"56\" xml:lang=\"la\" type=\"auto\">Musher<note xml:id=\"fn41\" type=\"footnote\" n=\"41\">Vom französischen \"Monsieur\".</note> de Gyß<note xml:id=\"fn42\" type=\"footnote\" n=\"42\"><persName ref=\"p18450\" cert=\"high\">Claude I. von Lothringen</persName>, Herzog von Guise.</note>, defuncti ducis Lotharingię frater<note xml:id=\"fn43\" type=\"footnote\" n=\"43\">Der am 12. Juni 1545 verstorbene <persName ref=\"p7637\" cert=\"high\">François I. von Lothringen</persName> war nicht Claudes Bruder, sondern sein Neffe. Bruder von Claude war der Vater des Verstorbenen, nämlich <persName ref=\"p18431\" cert=\"high\">Anton II. von Lothringen</persName> (gest. Juni 1544).</note>, patruum suum conscripto milite et auxilio regis<note xml:id=\"fn45\" type=\"footnote\" n=\"45\"><persName ref=\"p7637\" cert=\"high\">König Franz I.</persName></note> Gallorum conatur e ducatu pellere.</s>\n",
    "\t\t\t\t\t<s n=\"57\" xml:lang=\"la\" type=\"auto\"><persName ref=\"p18538\" cert=\"high\">Caesar</persName> vero iuniori<note xml:id=\"fn46\" type=\"footnote\" n=\"46\"><persName ref=\"p18536\" cert=\"high\">Karl III. von Lothringen</persName>.</note>, qui patri<note xml:id=\"fn47\" type=\"footnote\" n=\"47\"><persName ref=\"p7637\" cert=\"high\">François I. von Lothringen</persName>.</note> successit, subsidium et <placeName ref=\"l29\" cert=\"high\">Hispanum</placeName> militem pollicitus est.</s>\n",
    "\t\t\t\t\t<s n=\"58\" xml:lang=\"la\" type=\"auto\">Quodsi res non fuerit composita, putant novum bellum inter caesarem et Gallum oriturum.</s>\n",
    "\t\t\t\t\t<s n=\"59\" xml:lang=\"la\" type=\"auto\">Feruntur alia quedam nova, sed forte non fide digna: mundus mendatiis scatet<note xml:id=\"fn48\" type=\"footnote\" n=\"48\">Vgl. <bibl>TPMA</bibl> XIII 46, 125f: Die Welt ist falscher Zungen voll.</note>.</s>\n",
    "\t\t\t\t\t<s n=\"60\" xml:lang=\"la\" type=\"auto\">Haec omnia raptim.</s>\n",
    "\t\t\t\t</p>\n",
    "\t\t\t\t<p>\n",
    "\t\t\t\t\t<s n=\"61\" xml:lang=\"la\" type=\"auto\">Valebis igitur, vir humanissime, cum ecclesia sancta et familia.</s>\n",
    "\t\t\t\t\t<s n=\"62\" xml:lang=\"la\" type=\"auto\">Salutabis vicissim tuos, in primis meum <persName ref=\"p8412\" cert=\"high\">Megandrum</persName>, <persName ref=\"p8437\" cert=\"high\">Erasmum</persName>,<note xml:id=\"fn49\" type=\"footnote\" n=\"49\">\"\"\""
   ]
  },
  {
   "cell_type": "code",
   "execution_count": null,
   "metadata": {},
   "outputs": [],
   "source": [
    "def calculate_openai_cost(tokens:list[tuple[int]], price_per_1M:tuple[float]):\n",
    "    \"\"\"calculate the cost\n",
    "    param tokens: list of tuples, input and output\n",
    "    param price_per_1M: tuple of pricing, input and output\"\"\"\n",
    "    cost = 0\n",
    "    for in_toks, out_toks in tokens:\n",
    "        cost += in_toks*price_per_1M[0] + out_toks*price_per_1M[1]\n",
    "    return cost/(10**6)  # don't forget to divide by 1M"
   ]
  },
  {
   "cell_type": "markdown",
   "metadata": {},
   "source": [
    "# Generating"
   ]
  },
  {
   "cell_type": "markdown",
   "metadata": {},
   "source": [
    "#### test 1\n",
    "Formulating the completion task in Chat template."
   ]
  },
  {
   "cell_type": "markdown",
   "metadata": {},
   "source": [
    "Original FN: <br>\n",
    "```xml\n",
    "<persName ref=\"p1214\" cert=\"high\">Fries</persName>\n",
    "und\n",
    "<persName ref=\"p1283\" cert=\"high\">Geßner</persName>\n",
    "waren in einem Brief\n",
    "<persName ref=\"p8127\" cert=\"high\">Pellikans</persName>\n",
    "vom 19. Februar 1533 an\n",
    "<persName ref=\"p8418\" cert=\"high\">Myconius</persName>\n",
    "empfohlen worden (Zürich StA, E II 358, 98).\n",
    "</note>\n",
    "```\n",
    "FN from the ICL:<br>\n",
    "```xml\n",
    "<note xml:id=\"fn49\" type=\"footnote\" n=\"49\">\n",
    "<persName ref=\"p8437\" cert=\"high\">Erasmus Schmid</persName>\n",
    ".\n",
    "</note>\n",
    "```"
   ]
  },
  {
   "cell_type": "code",
   "execution_count": 24,
   "metadata": {},
   "outputs": [],
   "source": [
    "\n",
    "\n",
    "ICL_SYSTEM_PROMPT = \"You are a research assistant for a historian, specialized on the European reformation working on an edition of the correspondence of Heinrich Bullinger. Given a letter in TEI format, your task is to complete the missing footnote\"\n",
    "\n",
    "# footnote for the icl\n",
    "footnote_text2 = \"\"\"<note xml:id=\"fn3\" type=\"footnote\" n=\"3\"><persName ref=\"p1283\" cert=\"high\">Geßner</persName> und <persName ref=\"p1214\" cert=\"high\">Fries</persName> befanden sich auf dem Weg nach <placeName ref=\"l59\" cert=\"high\">Bourges</placeName>.</note>\"\"\"\n",
    "\n",
    "# Note the openai API does not allow for arbitrary names for the chatting parties:\n",
    "# {'error': {'message': \"Invalid value: 'historian'. Supported values are: 'system', 'assistant', 'user', 'function', and 'tool'.\", 'type': 'invalid_request_error', 'param': 'messages[1].role', 'code': 'invalid_value'}}\n",
    "\n",
    "def icl_prompt(text):\n",
    "  \"\"\"Generate a prompt that gives the example from text2\"\"\"\n",
    "  messages = [\n",
    "      {\"role\": \"system\", \"content\": ICL_SYSTEM_PROMPT},\n",
    "      {\"role\": \"user\", \"content\": text2},   \n",
    "      {\"role\": \"assistant\", \"content\": footnote_text2},\n",
    "      {\"role\": \"user\", \"content\": text}\n",
    "  ]\n",
    "  return messages\n",
    "\n",
    "\n"
   ]
  },
  {
   "cell_type": "code",
   "execution_count": 26,
   "metadata": {},
   "outputs": [
    {
     "name": "stdout",
     "output_type": "stream",
     "text": [
      "<note xml:id=\"fn4\" type=\"footnote\" n=\"4\"><placeName ref=\"l28\" cert=\"high\">Basileae</placeName> apud <persName ref=\"p8418\" cert=\"high\">Myconium</persName> refers to a location in Basel near the residence of the printer <persName ref=\"p8418\" cert=\"high\">Myconius</persName>.</note>\n",
      "<note xml:id=\"fn4\" type=\"footnote\" n=\"4\"><placeName ref=\"l28\" cert=\"high\">Basileae</placeName> apud <persName ref=\"p8418\" cert=\"high\">Myconium</persName> refers to a location in Basel near the residence of the printer <persName ref=\"p8418\" cert=\"high\">Myconius</persName>.</note>\n",
      "<note xml:id=\"fn4\" type=\"footnote\" n=\"4\"><placeName ref=\"l28\" cert=\"high\">Basileae</placeName> apud <persName ref=\"p8418\" cert=\"high\">Myconium</persName> refers to a location in Basel near the printer <persName ref=\"p8418\" cert=\"high\">Myconius</persName>.</note>\n",
      "<note xml:id=\"fn4\" type=\"footnote\" n=\"4\"><placeName ref=\"l28\" cert=\"high\">Basileae</placeName> apud <persName ref=\"p8418\" cert=\"high\">Myconium</persName> refers to a location in Basel where the letter was written.</note>\n",
      "<note xml:id=\"fn4\" type=\"footnote\" n=\"4\"><placeName ref=\"l28\" cert=\"high\">Basileae</placeName> apud <persName ref=\"p8418\" cert=\"high\">Myconium</persName> refers to a location in Basel where the letter was written.</note>\n",
      "<note xml:id=\"fn4\" type=\"footnote\" n=\"4\"><placeName ref=\"l28\" cert=\"high\">Basileae</placeName> apud <persName ref=\"p8418\" cert=\"high\">Myconium</persName> refers to a location in Basel where the letter was written.</note>\n",
      "<note xml:id=\"fn4\" type=\"footnote\" n=\"4\"><placeName ref=\"l28\" cert=\"high\">Basileae</placeName> apud <persName ref=\"p8418\" cert=\"high\">Myconium</persName> refers to a location in Basel where the letter was written.</note>\n",
      "<note xml:id=\"fn4\" type=\"footnote\" n=\"4\"><placeName ref=\"l28\" cert=\"high\">Basileae</placeName> apud <persName ref=\"p8418\" cert=\"high\">Myconium</persName> refers to a location in Basel near the residence of the printer <persName ref=\"p8418\" cert=\"high\">Myconius</persName>.</note>\n",
      "<note xml:id=\"fn4\" type=\"footnote\" n=\"4\"><placeName ref=\"l28\" cert=\"high\">Basileae</placeName> apud <persName ref=\"p8418\" cert=\"high\">Myconium</persName> refers to a location in Basel near the residence of the printer <persName ref=\"p8418\" cert=\"high\">Myconius</persName>.</note>\n",
      "<note xml:id=\"fn4\" type=\"footnote\" n=\"4\"><placeName ref=\"l28\" cert=\"high\">Basileae</placeName> apud <persName ref=\"p8418\" cert=\"high\">Myconium</persName> refers to a location in Basel where the letter was written.</note>\n"
     ]
    }
   ],
   "source": [
    "tokens = []\n",
    "for i in range(10):\n",
    "    text, in_toks, out_toks = model.generate(icl_prompt(text1))\n",
    "    tokens.append((in_toks, out_toks))\n",
    "    print(text)\n"
   ]
  },
  {
   "cell_type": "code",
   "execution_count": null,
   "metadata": {},
   "outputs": [],
   "source": []
  },
  {
   "cell_type": "code",
   "execution_count": 28,
   "metadata": {},
   "outputs": [
    {
     "data": {
      "text/plain": [
       "0.031902"
      ]
     },
     "execution_count": 28,
     "metadata": {},
     "output_type": "execute_result"
    }
   ],
   "source": [
    "calculate_openai_cost(tokens, (3,6))"
   ]
  },
  {
   "cell_type": "markdown",
   "metadata": {},
   "source": [
    "#### Test 2\n",
    "leaving one footnote out. Not optimal result and also more expensive?"
   ]
  },
  {
   "cell_type": "code",
   "execution_count": 49,
   "metadata": {},
   "outputs": [],
   "source": [
    "import re\n",
    "import pandas as pd\n",
    "\n",
    "def footnote_regex(n):\n",
    "  matching_string = (fr\"( ?<note [^>]*? type=\\\"footnote\\\" n=\\\"{n}\\\">)\" # matching group 1: the opening tag\n",
    "                  r\"(.*?(?=<\\/note>))\"  # matching group 2 everything up until the closing tag (positive lookup!! no matching group!!)\n",
    "                  r\"(<\\/note>)\"  # matching group 3: the endtag\n",
    "  )\n",
    "  return matching_string\n",
    "\n",
    "def remove_footnote_content(text, n):\n",
    "  \"\"\"remove all content from the footnote n=\"n\" \"\"\"\n",
    "  return re.sub(footnote_regex(n), r\"\\1\\3\", text)\n",
    "\n",
    "def get_footnote_content(text, n):\n",
    "  \"\"\"get the content of a FN\"\"\"\n",
    "  return re.search(footnote_regex(n), text).group(2)\n",
    "\n",
    "ICL_SYSTEM_PROMPT = \"You are a research assistant for a historian, specialized on the European reformation working on an edition of the correspondence of Heinrich Bullinger. Given a letter in TEI format, your task is to complete the missing footnote\"\n",
    "\n",
    "def HISTORIAN_PROMPT(text, n):\n",
    "  return f\"Bitte schlage mir einen Text für Fussnote n={n} in folgendem Dokument vor:\\n\\n{text}\"\n",
    "\n",
    "def instruct_prompt_fill_in(letter, n, example=(11130, 7)):\n",
    "  \"\"\"\n",
    "  param text: Letter TEI\n",
    "  param n: Footnote to generate\n",
    "  example: letter_id and FN to give as an example, 12342 is from the dev-set...\"\"\"\n",
    "\n",
    "  # find a good example letter, to put as icl prompt...\n",
    "  # get the letter\n",
    "  example_letter_id, example_n = example\n",
    "  with open(f\"../../data/human/{example_letter_id}.xml\") as infile:\n",
    "    example_letter = infile.read()\n",
    "\n",
    "  messages = [\n",
    "      {\"role\": \"system\", \"content\": ICL_SYSTEM_PROMPT},\n",
    "      {\"role\": \"user\", \"content\": HISTORIAN_PROMPT(remove_footnote_content(example_letter, example_n), example_n)},\n",
    "      {\"role\": \"assistant\", \"content\": get_footnote_content(example_letter, example_n)},\n",
    "      {\"role\": \"user\", \"content\": HISTORIAN_PROMPT(letter, n)}\n",
    "  ]\n",
    "\n",
    "  return messages\n",
    "\n",
    "\n",
    "\n",
    "# test letter\n",
    "letter_id = 10224\n",
    "\n",
    "\n",
    "footnote_df = pd.read_csv(\"../../data/footnote_df.csv\")\n",
    "# get the letter\n",
    "with open(f\"../../data/human/{letter_id}.xml\") as infile:\n",
    "  letter = infile.read()\n"
   ]
  },
  {
   "cell_type": "code",
   "execution_count": 42,
   "metadata": {},
   "outputs": [
    {
     "data": {
      "text/plain": [
       "[{'role': 'system',\n",
       "  'content': 'You are a research assistant for a historian, specialized on the European reformation working on an edition of the correspondence of Heinrich Bullinger. Given a letter in TEI format, your task is to complete the missing footnote'},\n",
       " {'role': 'historian',\n",
       "  'content': 'Bitte schlage mir einen Text für Fussnote n=7 in folgendem Dokument vor:\\n\\n<TEI xmlns=\"http://www.tei-c.org/ns/1.0\" xml:id=\"file11130\" type=\"Brief\" source=\"HBBW-8\" n=\"1087\">\\n\\t<teiHeader xml:lang=\"de\">\\n\\t\\t<fileDesc>\\n\\t\\t\\t<titleStmt>\\n\\t\\t\\t\\t<title subtype=\"file\">Andreas Bodenstein an Heinrich Bullinger, [Anfang] Januar 1538</title>\\n\\t\\t\\t</titleStmt>\\n\\t\\t\\t<publicationStmt>\\n\\t\\t\\t\\t<authority>Universität Zürich</authority>\\n\\t\\t\\t\\t</publicationStmt>\\n\\t\\t\\t<sourceDesc>\\n\\t\\t\\t\\t<bibl type=\"scan\">Zürich StA</bibl>\\n\\t\\t\\t\\t</sourceDesc>\\n\\t\\t</fileDesc>\\n\\t\\t</teiHeader>\\n\\t<text xml:lang=\"la\">\\n\\t\\t<body>\\n\\t\\t\\t<div xml:id=\"div1\" corresp=\"regest1\">\\n\\t\\t\\t\\t<p>\\n\\t\\t\\t\\t\\t<s n=\"1\" xml:lang=\"la\" type=\"auto\">S.</s>\\n\\t\\t\\t\\t\\t<s n=\"2\" xml:lang=\"la\" type=\"auto\">Tot obsequiis totque beneficiis iisdemque pleniss[imis] demeritus es me, vir et ornatissime et eruditissime, ut peccare me fateor multa, nisi tuis precibus acquiesco tuęque pię voluntati neutiquam desum.</s>\\n\\t\\t\\t\\t\\t<s n=\"3\" xml:lang=\"la\" type=\"auto\">Equidem et debeo et volo rem factu longe difficiliorem subire, neque unquam defessum senties, tantum abest, ut nunc non obsequar, at quando negocium vel unum [a] me confici non potest, minime mihi adscribendum, quod in alio situm est.</s>\\n\\t\\t\\t\\t\\t<s n=\"4\" xml:lang=\"la\" type=\"auto\">Proinde quando <persName ref=\"p6674\" cert=\"high\">Stapferi</persName> voluntas cum mea debeat neque possit neque velit convenire, non difficile cernes caput inobediencię.</s>\\n\\t\\t\\t\\t\\t<s n=\"5\" xml:lang=\"la\" type=\"auto\">Egressus is est domo, libros et alia extulit; citra notationem mei ęgre revocabitur, praesertim cum sciam illum iactaturum me suę pecunię adeo cupidum et ex ea tanto opere saginari posse, ut eius fiducia retractem ad me.</s>\\n\\t\\t\\t\\t\\t<s n=\"6\" xml:lang=\"la\" type=\"auto\">Id colligo ex anteactis opprobriis, siquidem pecuniam suam toties uxori<note xml:id=\"fn3\" type=\"footnote\" n=\"3\"><persName ref=\"p7589\" cert=\"high\">Anna Karlstadt, geb. von Mochau</persName>.</note> et filiis<note xml:id=\"fn4\" type=\"footnote\" n=\"4\">Siehe unten Anm. 12.</note> exprobravit, quasi nos ex ea vivere necesse sit ipseque de beneficencia donet.</s>\\n\\t\\t\\t\\t\\t<s n=\"7\" xml:lang=\"la\" type=\"auto\">Equidem autem certus sum ipsum 26 fl. non assecuturum, quae ego contemplatione tui et aliorum (qui pro eo intercesserunt) in illum contuli.</s>\\n\\t\\t\\t\\t\\t<s n=\"8\" xml:lang=\"la\" type=\"auto\">Is enim[?] spaciosum lectulum unus subinde nisus est occupare pecuniam obiectans.</s>\\n\\t\\t\\t\\t\\t<s n=\"9\" xml:lang=\"la\" type=\"auto\">Verum caussam diversionis eius paucis accipe.</s>\\n\\t\\t\\t\\t\\t<s n=\"10\" xml:lang=\"la\" type=\"auto\">Est nobis doctor quidam medicinę, cui <persName ref=\"p6618\" cert=\"high\">Sebastiano</persName> nomen, qui Latine, Gręce, Hebraice mire doctus existit.</s>\\n\\t\\t\\t\\t\\t<s n=\"11\" xml:lang=\"la\" type=\"auto\">Huius<pb type=\"edition\" next=\"26\"/> uxor<note xml:id=\"fn6\" type=\"footnote\" n=\"6\"><persName ref=\"p6616\" cert=\"high\">Elisabeth Sinckeler, geb. Wyßhärin</persName>; vgl. <persName ref=\"p164\" cert=\"high\">Amerbach</persName>, Korr. IV ff, Reg.</note> et filia<note xml:id=\"fn7\" type=\"footnote\" n=\"7\"></note> invisere meam coniugem valitudine haud optima constitutam.</s>\\n\\t\\t\\t\\t\\t<s n=\"12\" xml:lang=\"la\" type=\"auto\">Fuit autem mea in hipocausto oppido angusto unam duntaxat tabulam capiente.</s>\\n\\t\\t\\t\\t\\t<s n=\"13\" xml:lang=\"la\" type=\"auto\">Eo cum venissent, ingredior excepturus.</s>\\n\\t\\t\\t\\t\\t<s n=\"14\" xml:lang=\"la\" type=\"auto\">Exceptis eis iussi <persName ref=\"p6674\" cert=\"high\">Stapfero</persName> hospitibus cedere, quod is meliorem mensę partem occupavit, unde peiore loco honestas hospites sedere oportebat.</s>\\n\\t\\t\\t\\t\\t<s n=\"15\" xml:lang=\"la\" type=\"auto\">Abii; putabam cessurum.</s>\\n\\t\\t\\t\\t\\t<s n=\"16\" xml:lang=\"la\" type=\"auto\">Tandem honestatis gracia rediens eodem in loco <persName ref=\"p6674\" cert=\"high\">Stapferum</persName> video sedere et libros compingere, quem non sine stomacho rursus iubeo in suum hypocaustum abire, sed respondit doctoris uxorem permisisse.</s>\\n\\t\\t\\t\\t\\t<s n=\"17\" xml:lang=\"la\" type=\"auto\">Itaque locum occupatum mordicus detinet, neque hoc contentus, nam me in lectionem profecto nidore bituminis incipit molestare contubernium.</s>\\n\\t\\t\\t\\t\\t<s n=\"18\" xml:lang=\"la\" type=\"auto\">Hec et alia de lectione reversus audiens indigne tuli et dixi flagitium tale non modo cum literis sacrosanctis, sed cum legibus pugnare, imo contra naturam, adeoque sacius esse ipsum carere literis quam has socias facinorum facere.</s>\\n\\t\\t\\t\\t\\t<s n=\"19\" xml:lang=\"la\" type=\"auto\">Hic autem sic movebatur, ut ilico sibi providebat, imo me iniuria nova et acri affecit.</s>\\n\\t\\t\\t\\t\\t<s n=\"20\" xml:lang=\"la\" type=\"auto\">Itaque invitum et reluctantem non putavi diutius retinendum, quamquam parum licere putarem ei, quem curatoris<note xml:id=\"fn8\" type=\"footnote\" n=\"8\">Als Vogt <persName ref=\"p6674\" cert=\"high\">Heinrich Stapfers</persName> amtierte <persName ref=\"p5544\" cert=\"high\">Gebhart Krüttli</persName>, s. Zürich StA, B VI 334, 140v.-141r. 204r.</note> autoritate tuoque interventu suscepi, vobis ignorantibus permittere discessum.</s>\\n\\t\\t\\t\\t\\t<s n=\"21\" xml:lang=\"la\" type=\"auto\">Poteris ex hisce ipse colligere, quas turbas daturus esset, si reciperem, neque dubito te sic <persName ref=\"p6674\" cert=\"high\">Stapfero</persName> favere, ut mihi tranquillitatem non invideas.</s>\\n\\t\\t\\t\\t\\t<s n=\"22\" xml:lang=\"la\" type=\"auto\">Pręstat itaque, ut alibi sit, cum mihi sit honestum et utile eius ab commercio abstinere.</s>\\n\\t\\t\\t\\t\\t<s n=\"23\" xml:lang=\"la\" type=\"auto\">Si mansisset mecum, lubens auscultarem tibi praecipienti, cui inservire iucundum est.</s>\\n\\t\\t\\t\\t</p>\\n\\t\\t\\t\\t<p>\\n\\t\\t\\t\\t\\t<s n=\"24\" xml:lang=\"la\" type=\"auto\">Vale felicissime.</s>\\n\\t\\t\\t\\t\\t<s n=\"25\" xml:lang=\"la\" type=\"auto\">Uxorem tuam<note xml:id=\"fn9\" type=\"footnote\" n=\"9\"><persName ref=\"p8051\" cert=\"high\">Anna, geb. Adlischwyler</persName>.</note> atque matrem<note xml:id=\"fn10\" type=\"footnote\" n=\"10\"><persName ref=\"p7042\" cert=\"high\">Anna, geb. Wiederkehr</persName>.</note> et liberos<note xml:id=\"fn11\" type=\"footnote\" n=\"11\">Vgl. <bibl>HBBW VI</bibl> <ref target=\"file10782\">[Nr. 744]</ref>, S. 124, Anm. 34, sowie die folgende Anm.</note> saluta.</s>\\n\\t\\t\\t\\t\\t<s n=\"26\" xml:lang=\"la\" type=\"auto\">Gaudeo te numerum exęquasse nostrum liberum et tuam tibi felicitatem omnem congratulor.</s>\\n\\t\\t\\t\\t\\t<s n=\"27\" xml:lang=\"la\" type=\"auto\">Saluta dominos meos praeceptores et fratres.<pb type=\"edition\" next=\"27\"/></s>\\n\\t\\t\\t\\t</p>\\n\\t\\t\\t\\t<p>\\n\\t\\t\\t\\t\\t<s n=\"28\" xml:lang=\"la\" type=\"auto\"><placeName ref=\"l28\" cert=\"high\">Basileę</placeName>, celeriter, die ianuarii anno 38.</s>\\n\\t\\t\\t\\t\\t<s n=\"29\" xml:lang=\"la\" type=\"auto\">Tuus obsequibilis</s>\\n\\t\\t\\t\\t</p>\\n\\t\\t\\t\\t<p>\\n\\t\\t\\t\\t\\t<s n=\"30\" xml:lang=\"la\" type=\"auto\">And. <persName ref=\"p4349\" cert=\"high\">Carolostadius</persName>.</s>\\n\\t\\t\\t\\t</p>\\n\\t\\t\\t\\t<p>\\n\\t\\t\\t\\t\\t<note type=\"address\">[Adresse auf der Rückseite:]</note>\\n\\t\\t\\t\\t\\t<s n=\"31\" xml:lang=\"la\" type=\"auto\">Pręclarissimo et doctissimo viro d. Henrico Bullingero, ecclesiastarum precipuo Tiguri, patrono suo venerando in domino semper.</s>\\n\\t\\t\\t\\t</p>\\n\\t\\t\\t</div>\\n\\t\\t</body>\\n\\t</text>\\n</TEI>\\n'},\n",
       " {'role': 'assistant',\n",
       "  'content': 'Gemeint ist wohl Fides, die als einziges von sechs Kindern <persName ref=\"p6616\" cert=\"high\">Sinckelers</persName> erwachsen wurde und um 1540 <persName ref=\"p4939\" cert=\"high\">Jakob Müller (gen. Gerster)</persName> heiratete; vgl. <persName ref=\"p164\" cert=\"high\">Amerbach</persName>, Korr. IV ff, Reg.'},\n",
       " {'role': 'historian',\n",
       "  'content': 'Bitte schlage mir einen Text für Fussnote n=3 in folgendem Dokument vor:\\n\\n<TEI xmlns=\"http://www.tei-c.org/ns/1.0\" xml:id=\"file10224\" type=\"Brief\" source=\"HBBW-3\" n=\"193\">\\n\\t<teiHeader xml:lang=\"de\">\\n\\t\\t<fileDesc>\\n\\t\\t\\t<titleStmt>\\n\\t\\t\\t\\t<title subtype=\"file\">Konrad Geßner, Johannes Fries / Basel an Heinrich Bullinger, 25. Februar [1533]</title>\\n\\t\\t\\t</titleStmt>\\n\\t\\t\\t<publicationStmt>\\n\\t\\t\\t\\t<authority>Universität Zürich</authority>\\n\\t\\t\\t\\t</publicationStmt>\\n\\t\\t\\t<sourceDesc>\\n\\t\\t\\t\\t</sourceDesc>\\n\\t\\t</fileDesc>\\n\\t\\t</teiHeader>\\n\\t<text xml:lang=\"la\">\\n\\t\\t<body>\\n\\t\\t\\t<div xml:id=\"div1\" corresp=\"regest1\">\\n\\t\\t\\t\\t<p>\\n\\t\\t\\t\\t\\t<s n=\"1\" xml:lang=\"la\" type=\"auto\">Optimo et integerrimo viro M. Henrico Bullingero, mecaenati charissimo.</s>\\n\\t\\t\\t\\t</p>\\n\\t\\t\\t\\t<p>\\n\\t\\t\\t\\t\\t<s n=\"2\" xml:lang=\"la\" type=\"auto\">S.</s>\\n\\t\\t\\t\\t\\t<s n=\"3\" xml:lang=\"la\" type=\"auto\">Impediunt nos ab itinere<note xml:id=\"fn3\" type=\"footnote\" n=\"3\"><persName ref=\"p1283\" cert=\"high\">Geßner</persName> und <persName ref=\"p1214\" cert=\"high\">Fries</persName> befanden sich auf dem Weg nach <placeName ref=\"l59\" cert=\"high\">Bourges</placeName>.</note> nives, pluvia et ventorum vis.</s>\\n\\t\\t\\t\\t\\t<s n=\"4\" xml:lang=\"la\" type=\"auto\"><placeName ref=\"l28\" cert=\"high\">Basileae</placeName> apud <persName ref=\"p8418\" cert=\"high\">Myconium</persName><note xml:id=\"fn4\" type=\"footnote\" n=\"4\"><persName ref=\"p1214\" cert=\"high\">Fries</persName> und <persName ref=\"p1283\" cert=\"high\">Geßner</persName> waren in einem Brief <persName ref=\"p8127\" cert=\"high\">Pellikans</persName> vom 19. Februar 1533 an <persName ref=\"p8418\" cert=\"high\">Myconius</persName> empfohlen worden (Zürich StA, E II 358, 98).</note> sine sumtu moramur sudum coelum et tempestatem mitiorem expectantes.</s>\\n\\t\\t\\t\\t\\t<s n=\"5\" xml:lang=\"la\" type=\"auto\">Nivibus obrutae sunt viae omnes, montes praesertim, per quos nulla itinera nunc patent.</s>\\n\\t\\t\\t\\t\\t<s n=\"6\" xml:lang=\"la\" type=\"auto\">Maxime tamen omnium nos detinet, quod Gallos et alios quosdam itineris comites<note xml:id=\"fn5\" type=\"footnote\" n=\"5\">Unbekannt.</note> facturos brevi hic invenimus.</s>\\n\\t\\t\\t\\t\\t<s n=\"7\" xml:lang=\"la\" type=\"auto\">Tuam humanitatem rogamus literas nobis a senatu poscat Tigurinos nos esse et a Tigurino senatu propter studia ablegatos.</s>\\n\\t\\t\\t\\t\\t<s n=\"8\" xml:lang=\"la\" type=\"auto\">Ita enim docti plerique consuluerunt, quo nobis tutioribus esse liceat.</s>\\n\\t\\t\\t\\t\\t<s n=\"9\" xml:lang=\"la\" type=\"auto\">Ne nos negligas etiam atque etiam oramus poscimusque.</s>\\n\\t\\t\\t\\t\\t<s n=\"10\" xml:lang=\"la\" type=\"auto\">Si dederis operam, facile impetrabis.</s>\\n\\t\\t\\t\\t\\t<s n=\"11\" xml:lang=\"la\" type=\"auto\">Literis nos acceptis<note xml:id=\"fn6\" type=\"footnote\" n=\"6\">Nach Aussage von <persName ref=\"p8398\" cert=\"high\">Konrad Klauser</persName> haben <persName ref=\"p1283\" cert=\"high\">Geßner</persName> und <persName ref=\"p1214\" cert=\"high\">Fries</persName> die gewünschten Empfehlungsschreiben offenbar erhalten (s. unten <ref target=\"file10226\">[Nr. 195]</ref> S. 77, 5). Auffindbar sind sie jedoch nicht mehr.</note> quamprimum cum comitibus maturabimus iter.</s>\\n\\t\\t\\t\\t</p>\\n\\t\\t\\t\\t<p>\\n\\t\\t\\t\\t\\t<s n=\"12\" xml:lang=\"la\" type=\"auto\">Vale et nos tibi commendatos habe.</s>\\n\\t\\t\\t\\t</p>\\n\\t\\t\\t\\t<p>\\n\\t\\t\\t\\t\\t<s n=\"13\" xml:lang=\"la\" type=\"auto\"><placeName ref=\"l28\" cert=\"high\">Basileae</placeName> in aedibus <persName ref=\"p8418\" cert=\"high\">Myconii</persName>, februarii 25.</s>\\n\\t\\t\\t\\t</p>\\n\\t\\t\\t\\t<p>\\n\\t\\t\\t\\t\\t<s n=\"14\" xml:lang=\"la\" type=\"auto\"><persName ref=\"p1214\" cert=\"high\">Ioannes Frisius</persName> et <persName ref=\"p1283\" cert=\"high\">C. Gesnerus</persName> tui toti.</s>\\n\\t\\t\\t\\t</p>\\n\\t\\t\\t</div>\\n\\t\\t</body>\\n\\t</text>\\n</TEI>\\n'}]"
      ]
     },
     "execution_count": 42,
     "metadata": {},
     "output_type": "execute_result"
    }
   ],
   "source": [
    "instruct_prompt_fill_in(letter, 3)"
   ]
  },
  {
   "cell_type": "code",
   "execution_count": 45,
   "metadata": {},
   "outputs": [
    {
     "name": "stdout",
     "output_type": "stream",
     "text": [
      "Die Fußnote könnte folgendermaßen ergänzt werden: Geßner und Fries befanden sich auf dem Weg nach Bourges, wurden jedoch aufgrund von Schnee, Regen und starkem Wind an der Weiterreise gehindert.\n",
      "Es handelt sich um den berühmten Schweizer Naturforscher und Arzt Konrad Gesner, der zusammen mit Johannes Fries auf dem Weg nach Bourges war, jedoch aufgrund von Schnee, Regen und starkem Wind gehindert wurde.\n",
      "Es handelt sich um den berühmten Schweizer Naturforscher und Arzt Konrad Gesner, der zusammen mit Johannes Fries auf dem Weg nach Bourges war, jedoch aufgrund von Schnee, Regen und starkem Wind an der Weiterreise gehindert wurde.\n",
      "Es handelt sich um den berühmten Schweizer Naturforscher und Arzt Konrad Gesner, der zusammen mit Johannes Fries auf dem Weg nach Bourges war, jedoch aufgrund von Schnee, Regen und starkem Wind an der Weiterreise gehindert wurde.\n",
      "Es handelt sich um den berühmten Schweizer Naturforscher und Arzt Conrad Gessner, der zusammen mit dem Theologen Johannes Fries auf dem Weg nach Bourges war, jedoch aufgrund von Schnee, Regen und starkem Wind an der Weiterreise gehindert wurde.\n",
      "Es handelt sich um den berühmten Schweizer Naturforscher und Arzt Konrad Gesner, der zusammen mit Johannes Fries auf dem Weg nach Bourges war, jedoch aufgrund von Schnee, Regen und starkem Wind gehindert wurde.\n",
      "Es handelt sich um den berühmten Schweizer Naturforscher und Arzt Konrad Gesner, der zusammen mit Johannes Fries auf dem Weg nach Bourges war, jedoch aufgrund von Schnee, Regen und starkem Wind gehindert wurde.\n",
      "Es handelt sich um den berühmten Schweizer Naturforscher und Arzt Konrad Gesner, der zusammen mit Johannes Fries auf dem Weg nach Bourges war, jedoch aufgrund von Schnee, Regen und starkem Wind an der Weiterreise gehindert wurde.\n",
      "Es handelt sich um den berühmten Schweizer Naturforscher und Arzt Konrad Gesner, der zusammen mit Johannes Fries auf dem Weg nach Bourges war, jedoch aufgrund von Schnee, Regen und starkem Wind an der Weiterreise gehindert wurde.\n",
      "Die Fußnote könnte folgendermaßen ergänzt werden: Geßner und Fries befanden sich auf dem Weg nach Bourges, als sie durch Schnee, Regen und die Kraft der Winde an der Weiterreise gehindert wurden.\n"
     ]
    }
   ],
   "source": [
    "tokens = []\n",
    "for i in range(10):\n",
    "    text, in_toks, out_toks = model.generate(instruct_prompt_fill_in(letter, 3))\n",
    "    tokens.append((in_toks, out_toks))\n",
    "    print(text)"
   ]
  },
  {
   "cell_type": "code",
   "execution_count": 46,
   "metadata": {},
   "outputs": [
    {
     "data": {
      "text/plain": [
       "0.122052"
      ]
     },
     "execution_count": 46,
     "metadata": {},
     "output_type": "execute_result"
    }
   ],
   "source": [
    "calculate_openai_cost(tokens, (3,6))"
   ]
  },
  {
   "cell_type": "markdown",
   "metadata": {},
   "source": [
    "#### Test 3\n",
    "giving the empty letter, with one FN as an example"
   ]
  },
  {
   "cell_type": "code",
   "execution_count": 47,
   "metadata": {},
   "outputs": [],
   "source": [
    "def instruct_prompt_no_fns(letter, n, example_n=None):\n",
    "  \"\"\"\n",
    "  param text: Letter TEI\n",
    "  param n: Footnote to generate\n",
    "  example: letter_id and FN to give as an example, 12342 is from the dev-set...\"\"\"\n",
    "\n",
    "    # footnotes of that letter\n",
    "  footnote_df_letter = footnote_df[footnote_df[\"letter_id\"] == letter_id]\n",
    "\n",
    "  letter_no_fns = letter\n",
    "\n",
    "  # removing all FNs\n",
    "  for footnote in footnote_df_letter.iloc:  # Maybe we'll have to take care of the labels here...\n",
    "    letter_no_fns = remove_footnote_content(letter_no_fns, footnote[\"n_footnote\"])\n",
    "\n",
    "\n",
    "  messages = [\n",
    "      {\"role\": \"system\", \"content\": ICL_SYSTEM_PROMPT},\n",
    "  ]\n",
    "\n",
    "  # add example if specified\n",
    "  if example_n:\n",
    "    messages.append({\"role\": \"user\", \"content\": HISTORIAN_PROMPT(letter_no_fns, example_n)},)\n",
    "    messages.append({\"role\": \"assistant\", \"content\": get_footnote_content(letter, example_n)})\n",
    "\n",
    "  # add prompt for generation\n",
    "  messages.append({\"role\": \"user\", \"content\": HISTORIAN_PROMPT(letter_no_fns, n)})\n",
    "\n",
    "  return messages"
   ]
  },
  {
   "cell_type": "markdown",
   "metadata": {},
   "source": [
    "zero shot, wacky"
   ]
  },
  {
   "cell_type": "code",
   "execution_count": 50,
   "metadata": {},
   "outputs": [
    {
     "name": "stdout",
     "output_type": "stream",
     "text": [
      "Für die Fußnote n=3 könnte folgender Text vorgeschlagen werden:\n",
      "\n",
      "\"Die widrigen Wetterbedingungen, insbesondere Schnee, Regen und starker Wind, hindern uns an der Weiterreise.\"\n",
      "Für die Fußnote n=3 könnte folgender Text vorgeschlagen werden:\n",
      "\n",
      "\"Die widrigen Wetterbedingungen, insbesondere Schnee, Regen und starker Wind, hindern uns an der Weiterreise.\"\n",
      "Für die Fußnote n=3 könnte folgender Text vorgeschlagen werden:\n",
      "\n",
      "\"Die widrigen Wetterbedingungen, insbesondere Schnee, Regen und starker Wind, hindern uns an der Weiterreise.\"\n",
      "Für die Fußnote n=3 könnte folgender Text vorgeschlagen werden:\n",
      "\n",
      "\"Die widrigen Wetterbedingungen, insbesondere Schnee, Regen und starker Wind, hindern uns an der Weiterreise.\"\n",
      "Für die Fußnote n=3 könnte folgender Text vorgeschlagen werden:\n",
      "\n",
      "\"Die widrigen Wetterbedingungen, insbesondere Schnee, Regen und starker Wind, hindern uns an der Weiterreise.\"\n",
      "Für die Fußnote n=3 könnte folgender Text vorgeschlagen werden:\n",
      "\n",
      "\"Die widrigen Wetterbedingungen, insbesondere Schnee, Regen und starker Wind, hindern uns an der Weiterreise.\"\n",
      "Für die Fußnote n=3 könnte folgender Text vorgeschlagen werden:\n",
      "\n",
      "\"Die widrigen Wetterbedingungen, insbesondere Schnee, Regen und starker Wind, hindern uns an der Weiterreise.\"\n",
      "Für die Fußnote n=3 könnte folgender Text vorgeschlagen werden:\n",
      "\n",
      "\"Die widrigen Wetterbedingungen, insbesondere Schnee, Regen und starker Wind, hindern uns an der Weiterreise.\"\n",
      "Für die Fußnote n=3 könnte folgender Text vorgeschlagen werden:\n",
      "\n",
      "\"Die widrigen Wetterbedingungen, insbesondere Schnee, Regen und starker Wind, hindern uns an der Weiterreise.\"\n",
      "Für die Fußnote n=3 könnte folgender Text vorgeschlagen werden:\n",
      "\n",
      "\"Die widrigen Wetterbedingungen, insbesondere Schnee, Regen und starker Wind, hindern uns an der Weiterreise.\"\n"
     ]
    }
   ],
   "source": [
    "tokens = []\n",
    "for i in range(10):\n",
    "    text, in_toks, out_toks = model.generate(instruct_prompt_no_fns(letter, 3))\n",
    "    tokens.append((in_toks, out_toks))\n",
    "    print(text)"
   ]
  },
  {
   "cell_type": "code",
   "execution_count": 51,
   "metadata": {},
   "outputs": [
    {
     "data": {
      "text/plain": [
       "0.03447"
      ]
     },
     "execution_count": 51,
     "metadata": {},
     "output_type": "execute_result"
    }
   ],
   "source": [
    "calculate_openai_cost(tokens, (3,6))"
   ]
  },
  {
   "cell_type": "code",
   "execution_count": 52,
   "metadata": {},
   "outputs": [
    {
     "name": "stdout",
     "output_type": "stream",
     "text": [
      "Die Reiseverzögerung wurde durch Schnee, Regen und starke Winde verursacht.\n",
      "Die Reise von Geßner und Fries nach Bourges wurde durch schlechtes Wetter und unpassierbare Straßen verzögert.\n",
      "Die Reiseverzögerung wurde durch Schnee, Regen und starke Winde verursacht.\n",
      "Die Reiseverzögerung wurde durch Schnee, Regen und starke Winde verursacht.\n",
      "Die Reiseverzögerung wurde durch schlechtes Wetter verursacht, insbesondere durch starke Schneefälle, Regen und heftige Winde.\n",
      "Die Reiseverzögerung wurde durch schlechtes Wetter verursacht, insbesondere durch starke Schneefälle, Regen und heftige Winde.\n",
      "Die Reiseverzögerung wurde durch die widrigen Wetterbedingungen verursacht, insbesondere durch starke Schneefälle und heftige Winde.\n",
      "Die Reiseverzögerung wurde durch Schnee, Regen und starke Winde verursacht.\n",
      "Die Reiseverzögerung wurde durch Schnee, Regen und starke Winde verursacht.\n",
      "Die Reiseverzögerung wurde durch die widrigen Wetterbedingungen verursacht, die Geßner und Fries zwangen, in Basel bei Myconius zu verweilen, während sie auf ein milderes Klima und ruhigeres Wetter warteten.\n"
     ]
    }
   ],
   "source": [
    "tokens = []\n",
    "for i in range(10):\n",
    "    text, in_toks, out_toks = model.generate(instruct_prompt_no_fns(letter, 4, example_n=3))\n",
    "    tokens.append((in_toks, out_toks))\n",
    "    print(text)"
   ]
  },
  {
   "cell_type": "code",
   "execution_count": 53,
   "metadata": {},
   "outputs": [
    {
     "data": {
      "text/plain": [
       "0.06552"
      ]
     },
     "execution_count": 53,
     "metadata": {},
     "output_type": "execute_result"
    }
   ],
   "source": [
    "calculate_openai_cost(tokens, (3,6))"
   ]
  },
  {
   "cell_type": "markdown",
   "metadata": {},
   "source": [
    "#### test 4\n",
    "GPT can easily handle the long letter"
   ]
  },
  {
   "cell_type": "code",
   "execution_count": 54,
   "metadata": {},
   "outputs": [],
   "source": [
    "# test letter\n",
    "letter_id = 12260\n",
    "\n",
    "\n",
    "footnote_df = pd.read_csv(\"../../data/footnote_df.csv\")\n",
    "# get the letter\n",
    "with open(f\"../../data/human/{letter_id}.xml\") as infile:\n",
    "  letter = infile.read()"
   ]
  },
  {
   "cell_type": "code",
   "execution_count": 57,
   "metadata": {},
   "outputs": [
    {
     "data": {
      "text/plain": [
       "[{'role': 'system',\n",
       "  'content': 'You are a research assistant for a historian, specialized on the European reformation working on an edition of the correspondence of Heinrich Bullinger. Given a letter in TEI format, your task is to complete the missing footnote'},\n",
       " {'role': 'user',\n",
       "  'content': 'Bitte schlage mir einen Text für Fussnote n=9 in folgendem Dokument vor:\\n\\n<TEI xmlns=\"http://www.tei-c.org/ns/1.0\" xml:id=\"file12260\" type=\"Brief\" source=\"HBBW-15\" n=\"2213\">\\n\\t<teiHeader xml:lang=\"de\">\\n\\t\\t<fileDesc>\\n\\t\\t\\t<titleStmt>\\n\\t\\t\\t\\t<title subtype=\"file\">Matthias Erb / Reichenweier an Heinrich Bullinger, 11. August [1545]</title>\\n\\t\\t\\t</titleStmt>\\n\\t\\t\\t<publicationStmt>\\n\\t\\t\\t\\t<authority>Universität Zürich</authority>\\n\\t\\t\\t\\t</publicationStmt>\\n\\t\\t\\t<sourceDesc>\\n\\t\\t\\t\\t<bibl type=\"scan\">Zürich StA</bibl>\\n\\t\\t\\t\\t</sourceDesc>\\n\\t\\t</fileDesc>\\n\\t\\t</teiHeader>\\n\\t<text xml:lang=\"la\">\\n\\t\\t<body>\\n\\t\\t\\t<div xml:id=\"div1\" corresp=\"regest1\">\\n\\t\\t\\t\\t<p>\\n\\t\\t\\t\\t\\t<s n=\"1\" xml:lang=\"la\" type=\"auto\">Gratia domini tecum.</s>\\n\\t\\t\\t\\t\\t<s n=\"2\" xml:lang=\"la\" type=\"auto\">Quum decima augusti<note xml:id=\"fn2\" type=\"footnote\" n=\"2\"></note> e suggestu descendissem me actutum a templo ad aulam conferens (vocatus scilicet a cancellario<note xml:id=\"fn3\" type=\"footnote\" n=\"3\"></note> ob quędam negotia ecclesię componenda), venit hic tuus legatus<note xml:id=\"fn4\" type=\"footnote\" n=\"4\"></note> hora ferme nona et, dum in angiportu sisto gradum, servum<note xml:id=\"fn5\" type=\"footnote\" n=\"5\"></note> ad limina de <persName ref=\"p1010\" cert=\"high\">Erbio</persName> rogat, me vero oculis ostiario significante ne proderet, statim digito demonstrat dicens: „Hic est.“</s>\\n\\t\\t\\t\\t\\t<s n=\"3\" xml:lang=\"la\" type=\"auto\">Is ergo ad me veniens percunctatur, an mihi sit nomen <persName ref=\"p1010\" cert=\"high\">Erbio</persName>.</s>\\n\\t\\t\\t\\t\\t<s n=\"4\" xml:lang=\"la\" type=\"auto\">Aio.</s>\\n\\t\\t\\t\\t\\t<s n=\"5\" xml:lang=\"la\" type=\"auto\">Statimque litteras<note xml:id=\"fn6\" type=\"footnote\" n=\"6\"></note> depromens dicebat a te missas.</s>\\n\\t\\t\\t\\t\\t<s n=\"6\" xml:lang=\"la\" type=\"auto\">Acceptas legi simul obstupescens tuam, qui alias occupatissimus es, sedulitatem in describendis ex autographo copiis<note xml:id=\"fn7\" type=\"footnote\" n=\"7\"></note>.</s>\\n\\t\\t\\t\\t\\t<s n=\"7\" xml:lang=\"la\" type=\"auto\">Stans ergo attonitus et propemodum exanimis iussi adolescentem expectare, dum redeam, atque subinde inter tractatus et varias dissidentium quęstiones et tacite et indesinenter volvo ac revolvo intime, quę scripseras.</s>\\n\\t\\t\\t\\t\\t<s n=\"8\" xml:lang=\"la\" type=\"auto\">Absolutus a strepitu aulico eo cum adolescente pransum interque epulandum de singulis rebus percunctor, statim scilicet a mensa tibi responsurus.</s>\\n\\t\\t\\t\\t\\t<s n=\"9\" xml:lang=\"la\" type=\"auto\">Dum id meditor, alius adest nuntius<note xml:id=\"fn8\" type=\"footnote\" n=\"8\"></note> litteras ferens a principe<note xml:id=\"fn9\" type=\"footnote\" n=\"9\"></note>, in quibus multa mihi committuntur negotia principemque a comitiis<note xml:id=\"fn10\" type=\"footnote\" n=\"10\"></note> propediem rediturum pollicentes.</s>\\n\\t\\t\\t\\t\\t<s n=\"10\" xml:lang=\"la\" type=\"auto\">Hinc eo die, tametsi adolescens crebro urgeret abituriens, nil scripsi omnia in posterum, hoc est in hodiernum, reiiciens diem.</s>\\n\\t\\t\\t\\t\\t<s n=\"11\" xml:lang=\"la\" type=\"auto\">Haec de pueri tui diligentia.</s>\\n\\t\\t\\t\\t</p>\\n\\t\\t\\t\\t<p>\\n\\t\\t\\t\\t\\t<s n=\"12\" xml:lang=\"la\" type=\"auto\">Quod vero ad negotium adtinet, paucis haec accipe.</s>\\n\\t\\t\\t\\t\\t<s n=\"13\" xml:lang=\"la\" type=\"auto\">Fateor me iam annum quinquagesimum egressum<note xml:id=\"fn11\" type=\"footnote\" n=\"11\"></note>, et qui nunc in ea aetate sum, quę sedatior esse cupit, sepicule curas aulicas, quibus distringor,<pb type=\"scan\" next=\"257v.\"/> depręcatum, sed parum promovisse; imo, quo plus me expedire cupio, eo amplius perstringor dispendio et vitae et rerum.</s>\\n\\t\\t\\t\\t\\t<s n=\"14\" xml:lang=\"la\" type=\"auto\">Sic deo optimo maximo visum est.</s>\\n\\t\\t\\t\\t</p>\\n\\t\\t\\t\\t<p>\\n\\t\\t\\t\\t\\t<s n=\"15\" xml:lang=\"la\" type=\"auto\">Quod ad vitam, ut omnia manifestius depingam, subit tarda senectus,<note xml:id=\"fn12\" type=\"footnote\" n=\"12\"></note> quę difficilis incipit esse, sola non suffitiens laboribus, dum indies creberrime exantlatur.</s>\\n\\t\\t\\t\\t\\t<s n=\"16\" xml:lang=\"la\" type=\"auto\">Nullum habeo symmistam, ut nosti, opinor.</s>\\n\\t\\t\\t\\t\\t<s n=\"17\" xml:lang=\"la\" type=\"auto\">Plures iussu principis vocavi; sed horrent id, quod ego quęror.</s>\\n\\t\\t\\t\\t\\t<s n=\"18\" xml:lang=\"la\" type=\"auto\">Metuunt enim sibi ab ingeniis cervinis<note xml:id=\"fn13\" type=\"footnote\" n=\"13\"></note>, nec ego quenquam nisi volentem ad me trahere volo, etc.<pb type=\"edition\" next=\"439\"/></s>\\n\\t\\t\\t\\t\\t<s n=\"19\" xml:lang=\"la\" type=\"auto\">Quod vero ad res meas adtinet, male collocat ille, quem ex nomine nosti, stipendia.</s>\\n\\t\\t\\t\\t\\t<s n=\"20\" xml:lang=\"la\" type=\"auto\">Ex patrimonio intra quinquennium<note xml:id=\"fn16\" type=\"footnote\" n=\"16\"></note> ducentos fere aureos non in meam, sed magis ecclesię necessitatem exposui, quod dies domini revelabit.</s>\\n\\t\\t\\t\\t\\t<s n=\"21\" xml:lang=\"la\" type=\"auto\">Nec quęror, optime frater, de perditis rebus, sed de Harpiis furacibus, qui recte monentes non exaudiunt et ecclesię avaritię notam inurunt; quod non adeo magni referret, nisi metuendum de excidio foret.</s>\\n\\t\\t\\t\\t\\t<s n=\"22\" xml:lang=\"la\" type=\"auto\">Quamdiu rapiendum, placet Christus; dum defecerit ecclesię fiscus, non placebit ultra Christus!</s>\\n\\t\\t\\t\\t\\t<s n=\"23\" xml:lang=\"la\" type=\"auto\">Hactenus 3 fuimus in isto oppido, ubi quisque designatum habuit<pb type=\"edition\" next=\"440\"/> stipendium.</s>\\n\\t\\t\\t\\t\\t<s n=\"24\" xml:lang=\"la\" type=\"auto\">Ego nunc solus omnibus curis pręfectus aegre a satrapis<note xml:id=\"fn18\" type=\"footnote\" n=\"18\"></note> meum recipio stipendium, et si egerem, vix triobulo sublevarent.</s>\\n\\t\\t\\t\\t\\t<s n=\"25\" xml:lang=\"la\" type=\"auto\">Sunt pręterea et alię rationes, quibus te nolo nunc gravare scribendo, etc.</s>\\n\\t\\t\\t\\t\\t<s n=\"26\" xml:lang=\"la\" type=\"auto\">Atque inter tot turbines nondum video satis iustam occasionem desertionis huius ecclesię.</s>\\n\\t\\t\\t\\t</p>\\n\\t\\t\\t\\t<p>\\n\\t\\t\\t\\t\\t<s n=\"27\" xml:lang=\"de\" type=\"auto\"><pb type=\"scan\" next=\"257a,r.\"/>Summa.</s>\\n\\t\\t\\t\\t\\t<s n=\"28\" xml:lang=\"la\" type=\"auto\">Ita haereo inter sacrum et saxum<note xml:id=\"fn19\" type=\"footnote\" n=\"19\"></note>, ut nunc sine discrimine ecclesięque Christi maxima iactura, ut facile intelligis, discedere nequeam.</s>\\n\\t\\t\\t\\t</p>\\n\\t\\t\\t\\t<p>\\n\\t\\t\\t\\t\\t<s n=\"29\" xml:lang=\"la\" type=\"auto\">Atque eę sunt potissimę rationes.</s>\\n\\t\\t\\t\\t\\t<s n=\"30\" xml:lang=\"la\" type=\"auto\">Ecclesias nostras iam a sexto anno<note xml:id=\"fn20\" type=\"footnote\" n=\"20\"></note> utcunque in ordinem, ut potuimus - quando, ut volueramus, non licuit - redegimus.</s>\\n\\t\\t\\t\\t</p>\\n\\t\\t\\t\\t<p>\\n\\t\\t\\t\\t\\t<s n=\"31\" xml:lang=\"la\" type=\"auto\">Annitendum ergo, ut cępta perficiantur.</s>\\n\\t\\t\\t\\t\\t<s n=\"32\" xml:lang=\"la\" type=\"auto\">Ad hoc ecclesia illa nobis contigua, Montbelgardiana, cum suo principe<note xml:id=\"fn21\" type=\"footnote\" n=\"21\"></note> adhuc vacillat; de qua totus liber foret perscribendus.</s>\\n\\t\\t\\t\\t\\t<s n=\"33\" xml:lang=\"la\" type=\"auto\">Pręterea scholę quattuor in isto parviusculo agro sunt constitutę et quinta in rure instituenda, stipendia quoque studiosis quibusdam ante paucos menses pollicita,<note xml:id=\"fn23\" type=\"footnote\" n=\"23\"></note> sed haec non omnia firmata et rata, proponenda etiamnum ecclesię quędam decreta, quibus ad disciplinam et sanctos mores utcunque redigantur, idque statim redeunte principe.</s>\\n\\t\\t\\t\\t\\t<s n=\"34\" xml:lang=\"la\" type=\"auto\">Illo enim absente haec omnia conscripta sunt.</s>\\n\\t\\t\\t\\t\\t<s n=\"35\" xml:lang=\"la\" type=\"auto\">Dum igitur nunc mutavero locum omnia sub cultro relinquens<note xml:id=\"fn24\" type=\"footnote\" n=\"24\"></note>, facile intelligis, quid periculi inmineat.</s>\\n\\t\\t\\t\\t\\t<s n=\"36\" xml:lang=\"la\" type=\"auto\">In primis severus princeps, a quo omnia pendent, facile vel mutaretur vel irritaretur, ut solet hoc hominum genus; id quod nimirum magis in ecclesię quam in meum incomodum cęderet.</s>\\n\\t\\t\\t\\t\\t<s n=\"37\" xml:lang=\"la\" type=\"auto\">Viden inter coelum et terram me suspensum palpitare neque posse hac ratione vel vocatione, quę tamen et sancta et iusta, liberari?</s>\\n\\t\\t\\t\\t\\t<s n=\"38\" xml:lang=\"la\" type=\"auto\">Occasio mihi expectanda comodior, quę me liberet sine ecclesię iactura.</s>\\n\\t\\t\\t\\t\\t<s n=\"39\" xml:lang=\"la\" type=\"auto\">Nam si iam abirem, ecclesia viduata absque pastore inter cunctatores et cessatores fluctuaret, etc.</s>\\n\\t\\t\\t\\t</p>\\n\\t\\t\\t\\t<p>\\n\\t\\t\\t\\t\\t<s n=\"40\" xml:lang=\"la\" type=\"auto\"><pb type=\"scan\" next=\"257a,v.\"/>Ago vero et habeo tibi gratias inmortales, humanissime Bullingere, quod admodum ingenti cura meo nomine laboraveris, atque hoc impensius te amo, quod charitatis offitium non fucate, sed dextre candideque in me collocaris, imo significaris in hac sancta vocatione.</s>\\n\\t\\t\\t\\t\\t<s n=\"41\" xml:lang=\"la\" type=\"auto\">Respondebit olim procul dubio deus optimus maximus tuis votis, quo <placeName ref=\"l1976\" cert=\"high\">Augustani</placeName> nanciscantur virum aliquem sanctum, ecclesię dignum ministrum,<note xml:id=\"fn25\" type=\"footnote\" n=\"25\"></note> atque ego etiam tuis assiduis<pb type=\"edition\" next=\"441\"/> praecibus vel liberer publica occasione vel sub onere non defitiam.</s>\\n\\t\\t\\t\\t\\t<s n=\"42\" xml:lang=\"la\" type=\"auto\">Sed te etiamnum per Iesum Christum, ne deinceps plus mihi vel tribuas, immodicus scilicet virtutum mearum, quibus penitus careo, pręco, vel magis sentias de me, quam res est.</s>\\n\\t\\t\\t\\t\\t<s n=\"43\" xml:lang=\"la\" type=\"auto\">Optime enim mihi ipsi conscius sum curtę suppellectilis,<note xml:id=\"fn26\" type=\"footnote\" n=\"26\"></note> quam tu, ni fallor, maiori atque ego, nescio quorum iuditio persuasus, aestimas.</s>\\n\\t\\t\\t\\t</p>\\n\\t\\t\\t\\t<p>\\n\\t\\t\\t\\t\\t<s n=\"44\" xml:lang=\"la\" type=\"auto\">Porro, quod nunc temporis importunitas negat, alias benignus deus, ecclesiarum verus et unicus pastor<note xml:id=\"fn27\" type=\"footnote\" n=\"27\"></note>, solita clementia sancta resarciet oportunitate.</s>\\n\\t\\t\\t\\t\\t<s n=\"45\" xml:lang=\"la\" type=\"auto\">Sancto quoque magistratui <placeName ref=\"l1976\" cert=\"high\">Augustano</placeName>, inprimis vero erudito viro domino <persName ref=\"p8354\" cert=\"high\">Georgio Leto</persName><note xml:id=\"fn28\" type=\"footnote\" n=\"28\"></note>, ingentes gratias meo nomine agas, obsecro, quod me, ineptum homuntionem,<note xml:id=\"fn29\" type=\"footnote\" n=\"29\"></note> adeo egregia dignati sint vocatione.</s>\\n\\t\\t\\t\\t\\t<s n=\"46\" xml:lang=\"la\" type=\"auto\">Ego quoque deinceps eius ecclesię maiorem habebo - si potis fuero - ubique rationem, optoque illis stabilem pacem et concordiam talesque antistites, qui pietate, eruditione, prudentia, vigilantia et fidelitate ita pręmineant, quo Christus in ea republica ita mittat radices, ut nullis satanę et impiorum imposturis deiiciatur.</s>\\n\\t\\t\\t\\t\\t<s n=\"47\" xml:lang=\"la\" type=\"auto\">Monebis ergo illos, ne me deinceps expectent; ignoro enim meam liberationem.</s>\\n\\t\\t\\t\\t\\t<s n=\"48\" xml:lang=\"la\" type=\"auto\">Servet te Christus.</s>\\n\\t\\t\\t\\t</p>\\n\\t\\t\\t\\t<p>\\n\\t\\t\\t\\t\\t<note type=\"attachment\">[Beilage:]</note>\\n\\t\\t\\t\\t\\t<s n=\"49\" xml:lang=\"la\" type=\"auto\"><pb type=\"scan\" next=\"258r.\"/>Nova: Absolutionem conmitiorum<note xml:id=\"fn30\" type=\"footnote\" n=\"30\"></note> non ignoras, in quibus nil certi definitum, nisi quod istis hybernis mensibus adversarii nobis pacem condixerunt; futura aestate nobis providendum erit<note xml:id=\"fn31\" type=\"footnote\" n=\"31\"></note>.</s>\\n\\t\\t\\t\\t\\t<s n=\"50\" xml:lang=\"la\" type=\"auto\">Acta comitiorum nondum sunt publicata.</s>\\n\\t\\t\\t\\t\\t<s n=\"51\" xml:lang=\"la\" type=\"auto\">Aiunt quidam caesari<note xml:id=\"fn33\" type=\"footnote\" n=\"33\"></note> omnia esse commissa, ut dicat sententiam etiam in religionis negotio certis tamen conditionibus; quodsi verum fuerit, ovem dicemus lupo<note xml:id=\"fn34\" type=\"footnote\" n=\"34\"></note> commissam.</s>\\n\\t\\t\\t\\t</p>\\n\\t\\t\\t\\t<p>\\n\\t\\t\\t\\t\\t<s n=\"52\" xml:lang=\"la\" type=\"auto\"><persName ref=\"p18477\" cert=\"high\">Ferdinandus</persName> priori septimana<note xml:id=\"fn35\" type=\"footnote\" n=\"35\"></note> a comitiis magno strepitu solvens Bohemiam petit cum <persName ref=\"p7688\" cert=\"high\">Nausea</persName><note xml:id=\"fn36\" type=\"footnote\" n=\"36\"></note> suo et quibusdam monachis.</s>\\n\\t\\t\\t\\t\\t<s n=\"53\" xml:lang=\"la\" type=\"auto\">Sequenti septimana<pb type=\"edition\" next=\"442\"/> caesar abiturus est, sed quo, ignoratur<note xml:id=\"fn37\" type=\"footnote\" n=\"37\"></note>.</s>\\n\\t\\t\\t\\t\\t<s n=\"54\" xml:lang=\"la\" type=\"auto\">Erant alia dicta comitia ad <placeName ref=\"l410\" cert=\"high\">Reginospurgum</placeName> ad mensem octobrem,<note xml:id=\"fn38\" type=\"footnote\" n=\"38\"></note>, sed aiunt quidam irritata<note xml:id=\"fn39\" type=\"footnote\" n=\"39\"></note>, etc.</s>\\n\\t\\t\\t\\t</p>\\n\\t\\t\\t\\t<p>\\n\\t\\t\\t\\t\\t<s n=\"55\" xml:lang=\"la\" type=\"auto\">Urgent plures nacionale concilium, idque <placeName ref=\"322\" type=\"auto_name\">Metis</placeName><note xml:id=\"fn40\" type=\"footnote\" n=\"40\"></note> celebrari postulant.</s>\\n\\t\\t\\t\\t\\t<s n=\"56\" xml:lang=\"la\" type=\"auto\">Musher<note xml:id=\"fn41\" type=\"footnote\" n=\"41\"></note> de Gyß<note xml:id=\"fn42\" type=\"footnote\" n=\"42\"></note>, defuncti ducis Lotharingię frater<note xml:id=\"fn43\" type=\"footnote\" n=\"43\"></note>, patruum suum conscripto milite et auxilio regis<note xml:id=\"fn45\" type=\"footnote\" n=\"45\"></note> Gallorum conatur e ducatu pellere.</s>\\n\\t\\t\\t\\t\\t<s n=\"57\" xml:lang=\"la\" type=\"auto\"><persName ref=\"p18538\" cert=\"high\">Caesar</persName> vero iuniori<note xml:id=\"fn46\" type=\"footnote\" n=\"46\"></note>, qui patri<note xml:id=\"fn47\" type=\"footnote\" n=\"47\"></note> successit, subsidium et <placeName ref=\"l29\" cert=\"high\">Hispanum</placeName> militem pollicitus est.</s>\\n\\t\\t\\t\\t\\t<s n=\"58\" xml:lang=\"la\" type=\"auto\">Quodsi res non fuerit composita, putant novum bellum inter caesarem et Gallum oriturum.</s>\\n\\t\\t\\t\\t\\t<s n=\"59\" xml:lang=\"la\" type=\"auto\">Feruntur alia quedam nova, sed forte non fide digna: mundus mendatiis scatet<note xml:id=\"fn48\" type=\"footnote\" n=\"48\"></note>.</s>\\n\\t\\t\\t\\t\\t<s n=\"60\" xml:lang=\"la\" type=\"auto\">Haec omnia raptim.</s>\\n\\t\\t\\t\\t</p>\\n\\t\\t\\t\\t<p>\\n\\t\\t\\t\\t\\t<s n=\"61\" xml:lang=\"la\" type=\"auto\">Valebis igitur, vir humanissime, cum ecclesia sancta et familia.</s>\\n\\t\\t\\t\\t\\t<s n=\"62\" xml:lang=\"la\" type=\"auto\">Salutabis vicissim tuos, in primis meum <persName ref=\"p8412\" cert=\"high\">Megandrum</persName>, <persName ref=\"p8437\" cert=\"high\">Erasmum</persName>,<note xml:id=\"fn49\" type=\"footnote\" n=\"49\"></note> <persName ref=\"p8127\" cert=\"high\">Pellicanum</persName>, <persName ref=\"p8011\" cert=\"high\">Gvaltherum</persName> ac reliquos.</s>\\n\\t\\t\\t\\t</p>\\n\\t\\t\\t\\t<p>\\n\\t\\t\\t\\t\\t<s n=\"63\" xml:lang=\"la\" type=\"auto\">Ex aedibus meis, 11. die augusti.</s>\\n\\t\\t\\t\\t</p>\\n\\t\\t\\t\\t<p>\\n\\t\\t\\t\\t\\t<s n=\"64\" xml:lang=\"la\" type=\"auto\">Tuus <persName ref=\"p1010\" cert=\"high\">Matthias<lb/> Erbius</persName>.</s>\\n\\t\\t\\t\\t</p>\\n\\t\\t\\t\\t<p>\\n\\t\\t\\t\\t\\t<note type=\"address\">[Adresse auf der Rückseite:]</note>\\n\\t\\t\\t\\t\\t<s n=\"65\" xml:lang=\"la\" type=\"auto\">Vere erudito pioque domino Henrycho Bullingero, ecclesię Tigurinae vigilanti ministro, suo patrono singulari, etc.</s>\\n\\t\\t\\t\\t</p>\\n\\t\\t\\t</div>\\n\\t\\t</body>\\n\\t</text>\\n</TEI>\\n'},\n",
       " {'role': 'assistant',\n",
       "  'content': '<persName ref=\"p8098\" cert=\"high\">Graf Georg von Württemberg-Mömpelgard</persName>, der sich laut Z. 16 damals in <placeName ref=\"l569\" cert=\"high\">Worms</placeName> aufhielt. Seine Teilnahme am <placeName ref=\"l569\" cert=\"high\">Wormser</placeName> Reichstag ist in RTA JR XVIII-2 nicht belegt.'},\n",
       " {'role': 'user',\n",
       "  'content': 'Bitte schlage mir einen Text für Fussnote n=10 in folgendem Dokument vor:\\n\\n<TEI xmlns=\"http://www.tei-c.org/ns/1.0\" xml:id=\"file12260\" type=\"Brief\" source=\"HBBW-15\" n=\"2213\">\\n\\t<teiHeader xml:lang=\"de\">\\n\\t\\t<fileDesc>\\n\\t\\t\\t<titleStmt>\\n\\t\\t\\t\\t<title subtype=\"file\">Matthias Erb / Reichenweier an Heinrich Bullinger, 11. August [1545]</title>\\n\\t\\t\\t</titleStmt>\\n\\t\\t\\t<publicationStmt>\\n\\t\\t\\t\\t<authority>Universität Zürich</authority>\\n\\t\\t\\t\\t</publicationStmt>\\n\\t\\t\\t<sourceDesc>\\n\\t\\t\\t\\t<bibl type=\"scan\">Zürich StA</bibl>\\n\\t\\t\\t\\t</sourceDesc>\\n\\t\\t</fileDesc>\\n\\t\\t</teiHeader>\\n\\t<text xml:lang=\"la\">\\n\\t\\t<body>\\n\\t\\t\\t<div xml:id=\"div1\" corresp=\"regest1\">\\n\\t\\t\\t\\t<p>\\n\\t\\t\\t\\t\\t<s n=\"1\" xml:lang=\"la\" type=\"auto\">Gratia domini tecum.</s>\\n\\t\\t\\t\\t\\t<s n=\"2\" xml:lang=\"la\" type=\"auto\">Quum decima augusti<note xml:id=\"fn2\" type=\"footnote\" n=\"2\"></note> e suggestu descendissem me actutum a templo ad aulam conferens (vocatus scilicet a cancellario<note xml:id=\"fn3\" type=\"footnote\" n=\"3\"></note> ob quędam negotia ecclesię componenda), venit hic tuus legatus<note xml:id=\"fn4\" type=\"footnote\" n=\"4\"></note> hora ferme nona et, dum in angiportu sisto gradum, servum<note xml:id=\"fn5\" type=\"footnote\" n=\"5\"></note> ad limina de <persName ref=\"p1010\" cert=\"high\">Erbio</persName> rogat, me vero oculis ostiario significante ne proderet, statim digito demonstrat dicens: „Hic est.“</s>\\n\\t\\t\\t\\t\\t<s n=\"3\" xml:lang=\"la\" type=\"auto\">Is ergo ad me veniens percunctatur, an mihi sit nomen <persName ref=\"p1010\" cert=\"high\">Erbio</persName>.</s>\\n\\t\\t\\t\\t\\t<s n=\"4\" xml:lang=\"la\" type=\"auto\">Aio.</s>\\n\\t\\t\\t\\t\\t<s n=\"5\" xml:lang=\"la\" type=\"auto\">Statimque litteras<note xml:id=\"fn6\" type=\"footnote\" n=\"6\"></note> depromens dicebat a te missas.</s>\\n\\t\\t\\t\\t\\t<s n=\"6\" xml:lang=\"la\" type=\"auto\">Acceptas legi simul obstupescens tuam, qui alias occupatissimus es, sedulitatem in describendis ex autographo copiis<note xml:id=\"fn7\" type=\"footnote\" n=\"7\"></note>.</s>\\n\\t\\t\\t\\t\\t<s n=\"7\" xml:lang=\"la\" type=\"auto\">Stans ergo attonitus et propemodum exanimis iussi adolescentem expectare, dum redeam, atque subinde inter tractatus et varias dissidentium quęstiones et tacite et indesinenter volvo ac revolvo intime, quę scripseras.</s>\\n\\t\\t\\t\\t\\t<s n=\"8\" xml:lang=\"la\" type=\"auto\">Absolutus a strepitu aulico eo cum adolescente pransum interque epulandum de singulis rebus percunctor, statim scilicet a mensa tibi responsurus.</s>\\n\\t\\t\\t\\t\\t<s n=\"9\" xml:lang=\"la\" type=\"auto\">Dum id meditor, alius adest nuntius<note xml:id=\"fn8\" type=\"footnote\" n=\"8\"></note> litteras ferens a principe<note xml:id=\"fn9\" type=\"footnote\" n=\"9\"></note>, in quibus multa mihi committuntur negotia principemque a comitiis<note xml:id=\"fn10\" type=\"footnote\" n=\"10\"></note> propediem rediturum pollicentes.</s>\\n\\t\\t\\t\\t\\t<s n=\"10\" xml:lang=\"la\" type=\"auto\">Hinc eo die, tametsi adolescens crebro urgeret abituriens, nil scripsi omnia in posterum, hoc est in hodiernum, reiiciens diem.</s>\\n\\t\\t\\t\\t\\t<s n=\"11\" xml:lang=\"la\" type=\"auto\">Haec de pueri tui diligentia.</s>\\n\\t\\t\\t\\t</p>\\n\\t\\t\\t\\t<p>\\n\\t\\t\\t\\t\\t<s n=\"12\" xml:lang=\"la\" type=\"auto\">Quod vero ad negotium adtinet, paucis haec accipe.</s>\\n\\t\\t\\t\\t\\t<s n=\"13\" xml:lang=\"la\" type=\"auto\">Fateor me iam annum quinquagesimum egressum<note xml:id=\"fn11\" type=\"footnote\" n=\"11\"></note>, et qui nunc in ea aetate sum, quę sedatior esse cupit, sepicule curas aulicas, quibus distringor,<pb type=\"scan\" next=\"257v.\"/> depręcatum, sed parum promovisse; imo, quo plus me expedire cupio, eo amplius perstringor dispendio et vitae et rerum.</s>\\n\\t\\t\\t\\t\\t<s n=\"14\" xml:lang=\"la\" type=\"auto\">Sic deo optimo maximo visum est.</s>\\n\\t\\t\\t\\t</p>\\n\\t\\t\\t\\t<p>\\n\\t\\t\\t\\t\\t<s n=\"15\" xml:lang=\"la\" type=\"auto\">Quod ad vitam, ut omnia manifestius depingam, subit tarda senectus,<note xml:id=\"fn12\" type=\"footnote\" n=\"12\"></note> quę difficilis incipit esse, sola non suffitiens laboribus, dum indies creberrime exantlatur.</s>\\n\\t\\t\\t\\t\\t<s n=\"16\" xml:lang=\"la\" type=\"auto\">Nullum habeo symmistam, ut nosti, opinor.</s>\\n\\t\\t\\t\\t\\t<s n=\"17\" xml:lang=\"la\" type=\"auto\">Plures iussu principis vocavi; sed horrent id, quod ego quęror.</s>\\n\\t\\t\\t\\t\\t<s n=\"18\" xml:lang=\"la\" type=\"auto\">Metuunt enim sibi ab ingeniis cervinis<note xml:id=\"fn13\" type=\"footnote\" n=\"13\"></note>, nec ego quenquam nisi volentem ad me trahere volo, etc.<pb type=\"edition\" next=\"439\"/></s>\\n\\t\\t\\t\\t\\t<s n=\"19\" xml:lang=\"la\" type=\"auto\">Quod vero ad res meas adtinet, male collocat ille, quem ex nomine nosti, stipendia.</s>\\n\\t\\t\\t\\t\\t<s n=\"20\" xml:lang=\"la\" type=\"auto\">Ex patrimonio intra quinquennium<note xml:id=\"fn16\" type=\"footnote\" n=\"16\"></note> ducentos fere aureos non in meam, sed magis ecclesię necessitatem exposui, quod dies domini revelabit.</s>\\n\\t\\t\\t\\t\\t<s n=\"21\" xml:lang=\"la\" type=\"auto\">Nec quęror, optime frater, de perditis rebus, sed de Harpiis furacibus, qui recte monentes non exaudiunt et ecclesię avaritię notam inurunt; quod non adeo magni referret, nisi metuendum de excidio foret.</s>\\n\\t\\t\\t\\t\\t<s n=\"22\" xml:lang=\"la\" type=\"auto\">Quamdiu rapiendum, placet Christus; dum defecerit ecclesię fiscus, non placebit ultra Christus!</s>\\n\\t\\t\\t\\t\\t<s n=\"23\" xml:lang=\"la\" type=\"auto\">Hactenus 3 fuimus in isto oppido, ubi quisque designatum habuit<pb type=\"edition\" next=\"440\"/> stipendium.</s>\\n\\t\\t\\t\\t\\t<s n=\"24\" xml:lang=\"la\" type=\"auto\">Ego nunc solus omnibus curis pręfectus aegre a satrapis<note xml:id=\"fn18\" type=\"footnote\" n=\"18\"></note> meum recipio stipendium, et si egerem, vix triobulo sublevarent.</s>\\n\\t\\t\\t\\t\\t<s n=\"25\" xml:lang=\"la\" type=\"auto\">Sunt pręterea et alię rationes, quibus te nolo nunc gravare scribendo, etc.</s>\\n\\t\\t\\t\\t\\t<s n=\"26\" xml:lang=\"la\" type=\"auto\">Atque inter tot turbines nondum video satis iustam occasionem desertionis huius ecclesię.</s>\\n\\t\\t\\t\\t</p>\\n\\t\\t\\t\\t<p>\\n\\t\\t\\t\\t\\t<s n=\"27\" xml:lang=\"de\" type=\"auto\"><pb type=\"scan\" next=\"257a,r.\"/>Summa.</s>\\n\\t\\t\\t\\t\\t<s n=\"28\" xml:lang=\"la\" type=\"auto\">Ita haereo inter sacrum et saxum<note xml:id=\"fn19\" type=\"footnote\" n=\"19\"></note>, ut nunc sine discrimine ecclesięque Christi maxima iactura, ut facile intelligis, discedere nequeam.</s>\\n\\t\\t\\t\\t</p>\\n\\t\\t\\t\\t<p>\\n\\t\\t\\t\\t\\t<s n=\"29\" xml:lang=\"la\" type=\"auto\">Atque eę sunt potissimę rationes.</s>\\n\\t\\t\\t\\t\\t<s n=\"30\" xml:lang=\"la\" type=\"auto\">Ecclesias nostras iam a sexto anno<note xml:id=\"fn20\" type=\"footnote\" n=\"20\"></note> utcunque in ordinem, ut potuimus - quando, ut volueramus, non licuit - redegimus.</s>\\n\\t\\t\\t\\t</p>\\n\\t\\t\\t\\t<p>\\n\\t\\t\\t\\t\\t<s n=\"31\" xml:lang=\"la\" type=\"auto\">Annitendum ergo, ut cępta perficiantur.</s>\\n\\t\\t\\t\\t\\t<s n=\"32\" xml:lang=\"la\" type=\"auto\">Ad hoc ecclesia illa nobis contigua, Montbelgardiana, cum suo principe<note xml:id=\"fn21\" type=\"footnote\" n=\"21\"></note> adhuc vacillat; de qua totus liber foret perscribendus.</s>\\n\\t\\t\\t\\t\\t<s n=\"33\" xml:lang=\"la\" type=\"auto\">Pręterea scholę quattuor in isto parviusculo agro sunt constitutę et quinta in rure instituenda, stipendia quoque studiosis quibusdam ante paucos menses pollicita,<note xml:id=\"fn23\" type=\"footnote\" n=\"23\"></note> sed haec non omnia firmata et rata, proponenda etiamnum ecclesię quędam decreta, quibus ad disciplinam et sanctos mores utcunque redigantur, idque statim redeunte principe.</s>\\n\\t\\t\\t\\t\\t<s n=\"34\" xml:lang=\"la\" type=\"auto\">Illo enim absente haec omnia conscripta sunt.</s>\\n\\t\\t\\t\\t\\t<s n=\"35\" xml:lang=\"la\" type=\"auto\">Dum igitur nunc mutavero locum omnia sub cultro relinquens<note xml:id=\"fn24\" type=\"footnote\" n=\"24\"></note>, facile intelligis, quid periculi inmineat.</s>\\n\\t\\t\\t\\t\\t<s n=\"36\" xml:lang=\"la\" type=\"auto\">In primis severus princeps, a quo omnia pendent, facile vel mutaretur vel irritaretur, ut solet hoc hominum genus; id quod nimirum magis in ecclesię quam in meum incomodum cęderet.</s>\\n\\t\\t\\t\\t\\t<s n=\"37\" xml:lang=\"la\" type=\"auto\">Viden inter coelum et terram me suspensum palpitare neque posse hac ratione vel vocatione, quę tamen et sancta et iusta, liberari?</s>\\n\\t\\t\\t\\t\\t<s n=\"38\" xml:lang=\"la\" type=\"auto\">Occasio mihi expectanda comodior, quę me liberet sine ecclesię iactura.</s>\\n\\t\\t\\t\\t\\t<s n=\"39\" xml:lang=\"la\" type=\"auto\">Nam si iam abirem, ecclesia viduata absque pastore inter cunctatores et cessatores fluctuaret, etc.</s>\\n\\t\\t\\t\\t</p>\\n\\t\\t\\t\\t<p>\\n\\t\\t\\t\\t\\t<s n=\"40\" xml:lang=\"la\" type=\"auto\"><pb type=\"scan\" next=\"257a,v.\"/>Ago vero et habeo tibi gratias inmortales, humanissime Bullingere, quod admodum ingenti cura meo nomine laboraveris, atque hoc impensius te amo, quod charitatis offitium non fucate, sed dextre candideque in me collocaris, imo significaris in hac sancta vocatione.</s>\\n\\t\\t\\t\\t\\t<s n=\"41\" xml:lang=\"la\" type=\"auto\">Respondebit olim procul dubio deus optimus maximus tuis votis, quo <placeName ref=\"l1976\" cert=\"high\">Augustani</placeName> nanciscantur virum aliquem sanctum, ecclesię dignum ministrum,<note xml:id=\"fn25\" type=\"footnote\" n=\"25\"></note> atque ego etiam tuis assiduis<pb type=\"edition\" next=\"441\"/> praecibus vel liberer publica occasione vel sub onere non defitiam.</s>\\n\\t\\t\\t\\t\\t<s n=\"42\" xml:lang=\"la\" type=\"auto\">Sed te etiamnum per Iesum Christum, ne deinceps plus mihi vel tribuas, immodicus scilicet virtutum mearum, quibus penitus careo, pręco, vel magis sentias de me, quam res est.</s>\\n\\t\\t\\t\\t\\t<s n=\"43\" xml:lang=\"la\" type=\"auto\">Optime enim mihi ipsi conscius sum curtę suppellectilis,<note xml:id=\"fn26\" type=\"footnote\" n=\"26\"></note> quam tu, ni fallor, maiori atque ego, nescio quorum iuditio persuasus, aestimas.</s>\\n\\t\\t\\t\\t</p>\\n\\t\\t\\t\\t<p>\\n\\t\\t\\t\\t\\t<s n=\"44\" xml:lang=\"la\" type=\"auto\">Porro, quod nunc temporis importunitas negat, alias benignus deus, ecclesiarum verus et unicus pastor<note xml:id=\"fn27\" type=\"footnote\" n=\"27\"></note>, solita clementia sancta resarciet oportunitate.</s>\\n\\t\\t\\t\\t\\t<s n=\"45\" xml:lang=\"la\" type=\"auto\">Sancto quoque magistratui <placeName ref=\"l1976\" cert=\"high\">Augustano</placeName>, inprimis vero erudito viro domino <persName ref=\"p8354\" cert=\"high\">Georgio Leto</persName><note xml:id=\"fn28\" type=\"footnote\" n=\"28\"></note>, ingentes gratias meo nomine agas, obsecro, quod me, ineptum homuntionem,<note xml:id=\"fn29\" type=\"footnote\" n=\"29\"></note> adeo egregia dignati sint vocatione.</s>\\n\\t\\t\\t\\t\\t<s n=\"46\" xml:lang=\"la\" type=\"auto\">Ego quoque deinceps eius ecclesię maiorem habebo - si potis fuero - ubique rationem, optoque illis stabilem pacem et concordiam talesque antistites, qui pietate, eruditione, prudentia, vigilantia et fidelitate ita pręmineant, quo Christus in ea republica ita mittat radices, ut nullis satanę et impiorum imposturis deiiciatur.</s>\\n\\t\\t\\t\\t\\t<s n=\"47\" xml:lang=\"la\" type=\"auto\">Monebis ergo illos, ne me deinceps expectent; ignoro enim meam liberationem.</s>\\n\\t\\t\\t\\t\\t<s n=\"48\" xml:lang=\"la\" type=\"auto\">Servet te Christus.</s>\\n\\t\\t\\t\\t</p>\\n\\t\\t\\t\\t<p>\\n\\t\\t\\t\\t\\t<note type=\"attachment\">[Beilage:]</note>\\n\\t\\t\\t\\t\\t<s n=\"49\" xml:lang=\"la\" type=\"auto\"><pb type=\"scan\" next=\"258r.\"/>Nova: Absolutionem conmitiorum<note xml:id=\"fn30\" type=\"footnote\" n=\"30\"></note> non ignoras, in quibus nil certi definitum, nisi quod istis hybernis mensibus adversarii nobis pacem condixerunt; futura aestate nobis providendum erit<note xml:id=\"fn31\" type=\"footnote\" n=\"31\"></note>.</s>\\n\\t\\t\\t\\t\\t<s n=\"50\" xml:lang=\"la\" type=\"auto\">Acta comitiorum nondum sunt publicata.</s>\\n\\t\\t\\t\\t\\t<s n=\"51\" xml:lang=\"la\" type=\"auto\">Aiunt quidam caesari<note xml:id=\"fn33\" type=\"footnote\" n=\"33\"></note> omnia esse commissa, ut dicat sententiam etiam in religionis negotio certis tamen conditionibus; quodsi verum fuerit, ovem dicemus lupo<note xml:id=\"fn34\" type=\"footnote\" n=\"34\"></note> commissam.</s>\\n\\t\\t\\t\\t</p>\\n\\t\\t\\t\\t<p>\\n\\t\\t\\t\\t\\t<s n=\"52\" xml:lang=\"la\" type=\"auto\"><persName ref=\"p18477\" cert=\"high\">Ferdinandus</persName> priori septimana<note xml:id=\"fn35\" type=\"footnote\" n=\"35\"></note> a comitiis magno strepitu solvens Bohemiam petit cum <persName ref=\"p7688\" cert=\"high\">Nausea</persName><note xml:id=\"fn36\" type=\"footnote\" n=\"36\"></note> suo et quibusdam monachis.</s>\\n\\t\\t\\t\\t\\t<s n=\"53\" xml:lang=\"la\" type=\"auto\">Sequenti septimana<pb type=\"edition\" next=\"442\"/> caesar abiturus est, sed quo, ignoratur<note xml:id=\"fn37\" type=\"footnote\" n=\"37\"></note>.</s>\\n\\t\\t\\t\\t\\t<s n=\"54\" xml:lang=\"la\" type=\"auto\">Erant alia dicta comitia ad <placeName ref=\"l410\" cert=\"high\">Reginospurgum</placeName> ad mensem octobrem,<note xml:id=\"fn38\" type=\"footnote\" n=\"38\"></note>, sed aiunt quidam irritata<note xml:id=\"fn39\" type=\"footnote\" n=\"39\"></note>, etc.</s>\\n\\t\\t\\t\\t</p>\\n\\t\\t\\t\\t<p>\\n\\t\\t\\t\\t\\t<s n=\"55\" xml:lang=\"la\" type=\"auto\">Urgent plures nacionale concilium, idque <placeName ref=\"322\" type=\"auto_name\">Metis</placeName><note xml:id=\"fn40\" type=\"footnote\" n=\"40\"></note> celebrari postulant.</s>\\n\\t\\t\\t\\t\\t<s n=\"56\" xml:lang=\"la\" type=\"auto\">Musher<note xml:id=\"fn41\" type=\"footnote\" n=\"41\"></note> de Gyß<note xml:id=\"fn42\" type=\"footnote\" n=\"42\"></note>, defuncti ducis Lotharingię frater<note xml:id=\"fn43\" type=\"footnote\" n=\"43\"></note>, patruum suum conscripto milite et auxilio regis<note xml:id=\"fn45\" type=\"footnote\" n=\"45\"></note> Gallorum conatur e ducatu pellere.</s>\\n\\t\\t\\t\\t\\t<s n=\"57\" xml:lang=\"la\" type=\"auto\"><persName ref=\"p18538\" cert=\"high\">Caesar</persName> vero iuniori<note xml:id=\"fn46\" type=\"footnote\" n=\"46\"></note>, qui patri<note xml:id=\"fn47\" type=\"footnote\" n=\"47\"></note> successit, subsidium et <placeName ref=\"l29\" cert=\"high\">Hispanum</placeName> militem pollicitus est.</s>\\n\\t\\t\\t\\t\\t<s n=\"58\" xml:lang=\"la\" type=\"auto\">Quodsi res non fuerit composita, putant novum bellum inter caesarem et Gallum oriturum.</s>\\n\\t\\t\\t\\t\\t<s n=\"59\" xml:lang=\"la\" type=\"auto\">Feruntur alia quedam nova, sed forte non fide digna: mundus mendatiis scatet<note xml:id=\"fn48\" type=\"footnote\" n=\"48\"></note>.</s>\\n\\t\\t\\t\\t\\t<s n=\"60\" xml:lang=\"la\" type=\"auto\">Haec omnia raptim.</s>\\n\\t\\t\\t\\t</p>\\n\\t\\t\\t\\t<p>\\n\\t\\t\\t\\t\\t<s n=\"61\" xml:lang=\"la\" type=\"auto\">Valebis igitur, vir humanissime, cum ecclesia sancta et familia.</s>\\n\\t\\t\\t\\t\\t<s n=\"62\" xml:lang=\"la\" type=\"auto\">Salutabis vicissim tuos, in primis meum <persName ref=\"p8412\" cert=\"high\">Megandrum</persName>, <persName ref=\"p8437\" cert=\"high\">Erasmum</persName>,<note xml:id=\"fn49\" type=\"footnote\" n=\"49\"></note> <persName ref=\"p8127\" cert=\"high\">Pellicanum</persName>, <persName ref=\"p8011\" cert=\"high\">Gvaltherum</persName> ac reliquos.</s>\\n\\t\\t\\t\\t</p>\\n\\t\\t\\t\\t<p>\\n\\t\\t\\t\\t\\t<s n=\"63\" xml:lang=\"la\" type=\"auto\">Ex aedibus meis, 11. die augusti.</s>\\n\\t\\t\\t\\t</p>\\n\\t\\t\\t\\t<p>\\n\\t\\t\\t\\t\\t<s n=\"64\" xml:lang=\"la\" type=\"auto\">Tuus <persName ref=\"p1010\" cert=\"high\">Matthias<lb/> Erbius</persName>.</s>\\n\\t\\t\\t\\t</p>\\n\\t\\t\\t\\t<p>\\n\\t\\t\\t\\t\\t<note type=\"address\">[Adresse auf der Rückseite:]</note>\\n\\t\\t\\t\\t\\t<s n=\"65\" xml:lang=\"la\" type=\"auto\">Vere erudito pioque domino Henrycho Bullingero, ecclesię Tigurinae vigilanti ministro, suo patrono singulari, etc.</s>\\n\\t\\t\\t\\t</p>\\n\\t\\t\\t</div>\\n\\t\\t</body>\\n\\t</text>\\n</TEI>\\n'}]"
      ]
     },
     "execution_count": 57,
     "metadata": {},
     "output_type": "execute_result"
    }
   ],
   "source": [
    "instruct_prompt_no_fns(letter, 10, example_n=9)"
   ]
  },
  {
   "cell_type": "markdown",
   "metadata": {},
   "source": [
    "It just repeats the suggested one, though. Maybe with another example?"
   ]
  },
  {
   "cell_type": "code",
   "execution_count": 55,
   "metadata": {},
   "outputs": [
    {
     "name": "stdout",
     "output_type": "stream",
     "text": [
      "<persName ref=\"p8098\" cert=\"high\">Graf Georg von Württemberg-Mömpelgard</persName>, der sich laut Z. 16 damals in <placeName ref=\"l569\" cert=\"high\">Worms</placeName> aufhielt. Seine Teilnahme am <placeName ref=\"l569\" cert=\"high\">Wormser</placeName> Reichstag ist in RTA JR XVIII-2 nicht belegt.\n",
      "<persName ref=\"p8098\" cert=\"high\">Graf Georg von Württemberg-Mömpelgard</persName>, der sich laut Z. 16 damals in <placeName ref=\"l569\" cert=\"high\">Worms</placeName> aufhielt. Seine Teilnahme am <placeName ref=\"l569\" cert=\"high\">Wormser</placeName> Reichstag ist in RTA JR XVIII-2 nicht belegt.\n",
      "<persName ref=\"p8098\" cert=\"high\">Graf Georg von Württemberg-Mömpelgard</persName>, der sich laut Z. 16 damals in <placeName ref=\"l569\" cert=\"high\">Worms</placeName> aufhielt. Seine Teilnahme am <placeName ref=\"l569\" cert=\"high\">Wormser</placeName> Reichstag ist in RTA JR XVIII-2 nicht belegt.\n",
      "<persName ref=\"p8098\" cert=\"high\">Graf Georg von Württemberg-Mömpelgard</persName>, der sich laut Z. 16 damals in <placeName ref=\"l569\" cert=\"high\">Worms</placeName> aufhielt. Seine Teilnahme am <placeName ref=\"l569\" cert=\"high\">Wormser</placeName> Reichstag ist in RTA JR XVIII-2 nicht belegt.\n",
      "<persName ref=\"p8098\" cert=\"high\">Graf Georg von Württemberg-Mömpelgard</persName>, der sich laut Z. 16 damals in <placeName ref=\"l569\" cert=\"high\">Worms</placeName> aufhielt. Seine Teilnahme am <placeName ref=\"l569\" cert=\"high\">Wormser</placeName> Reichstag ist in RTA JR XVIII-2 nicht belegt.\n",
      "<persName ref=\"p8098\" cert=\"high\">Graf Georg von Württemberg-Mömpelgard</persName>, der sich laut Z. 16 damals in <placeName ref=\"l569\" cert=\"high\">Worms</placeName> aufhielt. Seine Teilnahme am <placeName ref=\"l569\" cert=\"high\">Wormser</placeName> Reichstag ist in RTA JR XVIII-2 nicht belegt.\n",
      "<persName ref=\"p8098\" cert=\"high\">Graf Georg von Württemberg-Mömpelgard</persName>, der sich laut Z. 16 damals in <placeName ref=\"l569\" cert=\"high\">Worms</placeName> aufhielt. Seine Teilnahme am <placeName ref=\"l569\" cert=\"high\">Wormser</placeName> Reichstag ist in RTA JR XVIII-2 nicht belegt.\n",
      "<persName ref=\"p8098\" cert=\"high\">Graf Georg von Württemberg-Mömpelgard</persName>, der sich laut Z. 16 damals in <placeName ref=\"l569\" cert=\"high\">Worms</placeName> aufhielt. Seine Teilnahme am <placeName ref=\"l569\" cert=\"high\">Wormser</placeName> Reichstag ist in RTA JR XVIII-2 nicht belegt.\n",
      "<persName ref=\"p8098\" cert=\"high\">Graf Georg von Württemberg-Mömpelgard</persName>, der sich laut Z. 16 damals in <placeName ref=\"l569\" cert=\"high\">Worms</placeName> aufhielt. Seine Teilnahme am <placeName ref=\"l569\" cert=\"high\">Wormser</placeName> Reichstag ist in RTA JR XVIII-2 nicht belegt.\n",
      "<persName ref=\"p8098\" cert=\"high\">Graf Georg von Württemberg-Mömpelgard</persName>, der sich laut Z. 16 damals in <placeName ref=\"l569\" cert=\"high\">Worms</placeName> aufhielt. Seine Teilnahme am <placeName ref=\"l569\" cert=\"high\">Wormser</placeName> Reichstag ist in RTA JR XVIII-2 nicht belegt.\n"
     ]
    }
   ],
   "source": [
    "tokens = []\n",
    "for i in range(10):\n",
    "    text, in_toks, out_toks = model.generate(instruct_prompt_no_fns(letter, 10, example_n=9))\n",
    "    tokens.append((in_toks, out_toks))\n",
    "    print(text)"
   ]
  },
  {
   "cell_type": "code",
   "execution_count": 56,
   "metadata": {},
   "outputs": [
    {
     "data": {
      "text/plain": [
       "0.32058"
      ]
     },
     "execution_count": 56,
     "metadata": {},
     "output_type": "execute_result"
    }
   ],
   "source": [
    "calculate_openai_cost(tokens, (3,6))"
   ]
  },
  {
   "cell_type": "code",
   "execution_count": 58,
   "metadata": {},
   "outputs": [
    {
     "name": "stdout",
     "output_type": "stream",
     "text": [
      "<persName ref=\"p8127\" cert=\"high\">Pellicanum</persName> ist eine Abkürzung für den Theologen Konrad Pellikan (1478-1556), der als Reformator und Bibelübersetzer bekannt ist.\n",
      "<persName ref=\"p8127\" cert=\"high\">Pellicanum</persName> ist eine Abkürzung für den Theologen Konrad Pellikan (1478-1556), der als Reformator und Bibelübersetzer bekannt ist.\n",
      "<persName ref=\"p8127\" cert=\"high\">Pellicanum</persName> ist eine Anspielung auf den bekannten Theologen und Reformator Konrad Pellikan, der zu dieser Zeit in Zürich lebte und eng mit Heinrich Bullinger zusammenarbeitete.\n",
      "<persName ref=\"p8127\" cert=\"high\">Pellicanum</persName> ist eine Anspielung auf den bekannten Theologen und Reformator Konrad Pellikan.\n",
      "<persName ref=\"p8127\" cert=\"high\">Pellicanum</persName> ist eine Anspielung auf den Gelehrten und Theologen Konrad Pellikan, der zu dieser Zeit eine bedeutende Figur in der reformierten Bewegung war.\n",
      "<persName ref=\"p8127\" cert=\"high\">Pellicanum</persName> ist eine Abkürzung für den Gelehrten und Theologen Konrad Pellikan (1478-1556), der als Reformator und Bibelübersetzer bekannt ist.\n",
      "<persName ref=\"p8127\" cert=\"high\">Pellicanum</persName> ist eine Anspielung auf den Gelehrten und Theologen Konrad Pellikan, der zu dieser Zeit eine bedeutende Figur in der reformierten Bewegung war.\n",
      "<persName ref=\"p8127\" cert=\"high\">Pellicanum</persName> ist eine Anspielung auf den bekannten Theologen und Reformator Konrad Pellikan.\n",
      "<persName ref=\"p8127\" cert=\"high\">Johannes Oecolampadius</persName> war ein bedeutender Reformator und Theologe, der eng mit Heinrich Bullinger zusammenarbeitete.\n",
      "<persName ref=\"p8127\" cert=\"high\">Pellicanum</persName> ist eine Abkürzung für den Theologen Konrad Pellikan (1478-1556), der als Reformator und Bibelübersetzer bekannt ist.\n"
     ]
    }
   ],
   "source": [
    "tokens = []\n",
    "for i in range(10):\n",
    "    text, in_toks, out_toks = model.generate(instruct_prompt_no_fns(letter, 49, example_n=9))\n",
    "    tokens.append((in_toks, out_toks))\n",
    "    print(text)"
   ]
  },
  {
   "cell_type": "code",
   "execution_count": 59,
   "metadata": {},
   "outputs": [
    {
     "data": {
      "text/plain": [
       "0.317658"
      ]
     },
     "execution_count": 59,
     "metadata": {},
     "output_type": "execute_result"
    }
   ],
   "source": [
    "calculate_openai_cost(tokens, (3,6))"
   ]
  }
 ],
 "metadata": {
  "kernelspec": {
   "display_name": "base",
   "language": "python",
   "name": "python3"
  },
  "language_info": {
   "codemirror_mode": {
    "name": "ipython",
    "version": 3
   },
   "file_extension": ".py",
   "mimetype": "text/x-python",
   "name": "python",
   "nbconvert_exporter": "python",
   "pygments_lexer": "ipython3",
   "version": "3.11.5"
  }
 },
 "nbformat": 4,
 "nbformat_minor": 2
}
