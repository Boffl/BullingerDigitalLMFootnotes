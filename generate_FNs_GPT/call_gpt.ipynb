{
 "cells": [
  {
   "cell_type": "code",
   "execution_count": null,
   "metadata": {},
   "outputs": [],
   "source": [
    "api_key = \"\"  # todo fix error with environ var"
   ]
  },
  {
   "cell_type": "code",
   "execution_count": 2,
   "metadata": {},
   "outputs": [],
   "source": [
    "import csv\n",
    "\n",
    "def calculate_openai_cost(tokens:list[tuple[int]], price_per_1M:tuple[float]):\n",
    "    \"\"\"calculate the cost\n",
    "    param tokens: list of tuples, input and output\n",
    "    param price_per_1M: tuple of pricing, input and output\"\"\"\n",
    "    cost = 0\n",
    "    for in_toks, out_toks in tokens:\n",
    "        cost += in_toks*price_per_1M[0] + out_toks*price_per_1M[1]\n",
    "    return cost/(10**6)  # don't forget to divide by 1M\n",
    "\n",
    "def api_cost_logging(cost:float, experiment:str, date=\"\", comment=\"\"):\n",
    "    new_row = [date, experiment, comment, cost]\n",
    "    with open(\"api_costs.csv\", mode='a', newline='', encoding=\"utf-8\") as file:\n",
    "        writer = csv.writer(file)\n",
    "        writer.writerow(new_row)\n"
   ]
  },
  {
   "cell_type": "markdown",
   "metadata": {},
   "source": [
    "# Informal Tests"
   ]
  },
  {
   "cell_type": "markdown",
   "metadata": {},
   "source": [
    "### Example texts"
   ]
  },
  {
   "cell_type": "code",
   "execution_count": null,
   "metadata": {},
   "outputs": [],
   "source": [
    "# Small input, one FN is there, a second one is to be generated:\n",
    "text1 = \"\"\"<TEI xmlns=\"http://www.tei-c.org/ns/1.0\" xml:id=\"file10224\" type=\"Brief\" source=\"HBBW-3\" n=\"193\">\n",
    "\t<teiHeader xml:lang=\"de\">\n",
    "\t\t<fileDesc>\n",
    "\t\t\t<titleStmt>\n",
    "\t\t\t\t<title subtype=\"file\">Konrad Geßner, Johannes Fries / Basel an Heinrich Bullinger, 25. Februar [1533]</title>\n",
    "\t\t\t</titleStmt>\n",
    "\t\t\t<publicationStmt>\n",
    "\t\t\t\t<authority>Universität Zürich</authority>\n",
    "\t\t\t\t</publicationStmt>\n",
    "\t\t\t<sourceDesc>\n",
    "\t\t\t\t</sourceDesc>\n",
    "\t\t</fileDesc>\n",
    "\t\t</teiHeader>\n",
    "\t<text xml:lang=\"la\">\n",
    "\t\t<body>\n",
    "\t\t\t<div xml:id=\"div1\" corresp=\"regest1\">\n",
    "\t\t\t\t<p>\n",
    "\t\t\t\t\t<s n=\"1\" xml:lang=\"la\" type=\"auto\">Optimo et integerrimo viro M. Henrico Bullingero, mecaenati charissimo.</s>\n",
    "\t\t\t\t</p>\n",
    "\t\t\t\t<p>\n",
    "\t\t\t\t\t<s n=\"2\" xml:lang=\"la\" type=\"auto\">S.</s>\n",
    "\t\t\t\t\t<s n=\"3\" xml:lang=\"la\" type=\"auto\">Impediunt nos ab itinere<note xml:id=\"fn3\" type=\"footnote\" n=\"3\"><persName ref=\"p1283\" cert=\"high\">Geßner</persName> und <persName ref=\"p1214\" cert=\"high\">Fries</persName> befanden sich auf dem Weg nach <placeName ref=\"l59\" cert=\"high\">Bourges</placeName>.</note> nives, pluvia et ventorum vis.</s>\n",
    "\t\t\t\t\t<s n=\"4\" xml:lang=\"la\" type=\"auto\"><placeName ref=\"l28\" cert=\"high\">Basileae</placeName> apud <persName ref=\"p8418\" cert=\"high\">Myconium</persName><note xml:id=\"fn4\" type=\"footnote\" n=\"4\">\"\"\"\n",
    "\n",
    "# Same Letter, but now the first FN is to be generated. Meaning the model has no direct example of a FN in the edition\n",
    "text2 = \"\"\"<TEI xmlns=\"http://www.tei-c.org/ns/1.0\" xml:id=\"file10224\" type=\"Brief\" source=\"HBBW-3\" n=\"193\">\n",
    "\t<teiHeader xml:lang=\"de\">\n",
    "\t\t<fileDesc>\n",
    "\t\t\t<titleStmt>\n",
    "\t\t\t\t<title subtype=\"file\">Konrad Geßner, Johannes Fries / Basel an Heinrich Bullinger, 25. Februar [1533]</title>\n",
    "\t\t\t</titleStmt>\n",
    "\t\t\t<publicationStmt>\n",
    "\t\t\t\t<authority>Universität Zürich</authority>\n",
    "\t\t\t\t</publicationStmt>\n",
    "\t\t\t<sourceDesc>\n",
    "\t\t\t\t</sourceDesc>\n",
    "\t\t</fileDesc>\n",
    "\t\t</teiHeader>\n",
    "\t<text xml:lang=\"la\">\n",
    "\t\t<body>\n",
    "\t\t\t<div xml:id=\"div1\" corresp=\"regest1\">\n",
    "\t\t\t\t<p>\n",
    "\t\t\t\t\t<s n=\"1\" xml:lang=\"la\" type=\"auto\">Optimo et integerrimo viro M. Henrico Bullingero, mecaenati charissimo.</s>\n",
    "\t\t\t\t</p>\n",
    "\t\t\t\t<p>\n",
    "\t\t\t\t\t<s n=\"2\" xml:lang=\"la\" type=\"auto\">S.</s>\n",
    "\t\t\t\t\t<s n=\"3\" xml:lang=\"la\" type=\"auto\">Impediunt nos ab itinere<note xml:id=\"fn3\" type=\"footnote\" n=\"3\">\"\"\"\n",
    "\n",
    "# A long letter, the model has to generate the very last FN\n",
    "text3 =  \"\"\"<TEI xmlns=\"http://www.tei-c.org/ns/1.0\" xml:id=\"file12260\" type=\"Brief\" source=\"HBBW-15\" n=\"2213\">\n",
    "\t<teiHeader xml:lang=\"de\">\n",
    "\t\t<fileDesc>\n",
    "\t\t\t<titleStmt>\n",
    "\t\t\t\t<title subtype=\"file\">Matthias Erb / Reichenweier an Heinrich Bullinger, 11. August [1545]</title>\n",
    "\t\t\t</titleStmt>\n",
    "\t\t\t<publicationStmt>\n",
    "\t\t\t\t<authority>Universität Zürich</authority>\n",
    "\t\t\t\t</publicationStmt>\n",
    "\t\t\t<sourceDesc>\n",
    "\t\t\t\t<bibl type=\"scan\">Zürich StA</bibl>\n",
    "\t\t\t\t</sourceDesc>\n",
    "\t\t</fileDesc>\n",
    "\t\t</teiHeader>\n",
    "\t<text xml:lang=\"la\">\n",
    "\t\t<body>\n",
    "\t\t\t<div xml:id=\"div1\" corresp=\"regest1\">\n",
    "\t\t\t\t<p>\n",
    "\t\t\t\t\t<s n=\"1\" xml:lang=\"la\" type=\"auto\">Gratia domini tecum.</s>\n",
    "\t\t\t\t\t<s n=\"2\" xml:lang=\"la\" type=\"auto\">Quum decima augusti<note xml:id=\"fn2\" type=\"footnote\" n=\"2\">An einem Montag, dem Vortag (s. Z. 17f) des Datums dieses Briefes.</note> e suggestu descendissem me actutum a templo ad aulam conferens (vocatus scilicet a cancellario<note xml:id=\"fn3\" type=\"footnote\" n=\"3\"><persName ref=\"p8103\" cert=\"high\">Sigismund Stier</persName>.</note> ob quędam negotia ecclesię componenda), venit hic tuus legatus<note xml:id=\"fn4\" type=\"footnote\" n=\"4\"><persName ref=\"p18219\" cert=\"high\">Markus Wüst</persName>; s. oben <ref target=\"file12256\">Nr. 2209</ref>, Anm. b.</note> hora ferme nona et, dum in angiportu sisto gradum, servum<note xml:id=\"fn5\" type=\"footnote\" n=\"5\">Unbekannt.</note> ad limina de <persName ref=\"p1010\" cert=\"high\">Erbio</persName> rogat, me vero oculis ostiario significante ne proderet, statim digito demonstrat dicens: „Hic est.“</s>\n",
    "\t\t\t\t\t<s n=\"3\" xml:lang=\"la\" type=\"auto\">Is ergo ad me veniens percunctatur, an mihi sit nomen <persName ref=\"p1010\" cert=\"high\">Erbio</persName>.</s>\n",
    "\t\t\t\t\t<s n=\"4\" xml:lang=\"la\" type=\"auto\">Aio.</s>\n",
    "\t\t\t\t\t<s n=\"5\" xml:lang=\"la\" type=\"auto\">Statimque litteras<note xml:id=\"fn6\" type=\"footnote\" n=\"6\">Oben <ref target=\"file12256\">Nr. 2209</ref>.</note> depromens dicebat a te missas.</s>\n",
    "\t\t\t\t\t<s n=\"6\" xml:lang=\"la\" type=\"auto\">Acceptas legi simul obstupescens tuam, qui alias occupatissimus es, sedulitatem in describendis ex autographo copiis<note xml:id=\"fn7\" type=\"footnote\" n=\"7\">Vgl. oben <ref target=\"file12256\">Nr. 2209</ref>, 15-19.</note>.</s>\n",
    "\t\t\t\t\t<s n=\"7\" xml:lang=\"la\" type=\"auto\">Stans ergo attonitus et propemodum exanimis iussi adolescentem expectare, dum redeam, atque subinde inter tractatus et varias dissidentium quęstiones et tacite et indesinenter volvo ac revolvo intime, quę scripseras.</s>\n",
    "\t\t\t\t\t<s n=\"8\" xml:lang=\"la\" type=\"auto\">Absolutus a strepitu aulico eo cum adolescente pransum interque epulandum de singulis rebus percunctor, statim scilicet a mensa tibi responsurus.</s>\n",
    "\t\t\t\t\t<s n=\"9\" xml:lang=\"la\" type=\"auto\">Dum id meditor, alius adest nuntius<note xml:id=\"fn8\" type=\"footnote\" n=\"8\">Unbekannt.</note> litteras ferens a principe<note xml:id=\"fn9\" type=\"footnote\" n=\"9\"><persName ref=\"p8098\" cert=\"high\">Graf Georg von Württemberg-Mömpelgard</persName>, der sich laut Z. 16 damals in <placeName ref=\"l569\" cert=\"high\">Worms</placeName> aufhielt. Seine Teilnahme am <placeName ref=\"l569\" cert=\"high\">Wormser</placeName> Reichstag ist in RTA JR XVIII-2 nicht belegt.</note>, in quibus multa mihi committuntur negotia principemque a comitiis<note xml:id=\"fn10\" type=\"footnote\" n=\"10\">Der Reichstag in <placeName ref=\"l569\" cert=\"high\">Worms</placeName>.</note> propediem rediturum pollicentes.</s>\n",
    "\t\t\t\t\t<s n=\"10\" xml:lang=\"la\" type=\"auto\">Hinc eo die, tametsi adolescens crebro urgeret abituriens, nil scripsi omnia in posterum, hoc est in hodiernum, reiiciens diem.</s>\n",
    "\t\t\t\t\t<s n=\"11\" xml:lang=\"la\" type=\"auto\">Haec de pueri tui diligentia.</s>\n",
    "\t\t\t\t</p>\n",
    "\t\t\t\t<p>\n",
    "\t\t\t\t\t<s n=\"12\" xml:lang=\"la\" type=\"auto\">Quod vero ad negotium adtinet, paucis haec accipe.</s>\n",
    "\t\t\t\t\t<s n=\"13\" xml:lang=\"la\" type=\"auto\">Fateor me iam annum quinquagesimum egressum<note xml:id=\"fn11\" type=\"footnote\" n=\"11\"><persName ref=\"p1010\" cert=\"high\">Erb</persName> war 1494 geboren.</note>, et qui nunc in ea aetate sum, quę sedatior esse cupit, sepicule curas aulicas, quibus distringor,<pb type=\"scan\" next=\"257v.\"/> depręcatum, sed parum promovisse; imo, quo plus me expedire cupio, eo amplius perstringor dispendio et vitae et rerum.</s>\n",
    "\t\t\t\t\t<s n=\"14\" xml:lang=\"la\" type=\"auto\">Sic deo optimo maximo visum est.</s>\n",
    "\t\t\t\t</p>\n",
    "\t\t\t\t<p>\n",
    "\t\t\t\t\t<s n=\"15\" xml:lang=\"la\" type=\"auto\">Quod ad vitam, ut omnia manifestius depingam, subit tarda senectus,<note xml:id=\"fn12\" type=\"footnote\" n=\"12\"><hi>Vergil,</hi> Aeneis, 9, 610.</note> quę difficilis incipit esse, sola non suffitiens laboribus, dum indies creberrime exantlatur.</s>\n",
    "\t\t\t\t\t<s n=\"16\" xml:lang=\"la\" type=\"auto\">Nullum habeo symmistam, ut nosti, opinor.</s>\n",
    "\t\t\t\t\t<s n=\"17\" xml:lang=\"la\" type=\"auto\">Plures iussu principis vocavi; sed horrent id, quod ego quęror.</s>\n",
    "\t\t\t\t\t<s n=\"18\" xml:lang=\"la\" type=\"auto\">Metuunt enim sibi ab ingeniis cervinis<note xml:id=\"fn13\" type=\"footnote\" n=\"13\">ingenium cervinum: ein ängstliches Wesen; s. <bibl>Adagia</bibl>, 2, 7, 36 (<bibl>ASD</bibl> II/4 110, <ref target=\"file11679\">Nr. 1636</ref>).</note>, nec ego quenquam nisi volentem ad me trahere volo, etc.<pb type=\"edition\" next=\"439\"/></s>\n",
    "\t\t\t\t\t<s n=\"19\" xml:lang=\"la\" type=\"auto\">Quod vero ad res meas adtinet, male collocat ille, quem ex nomine nosti, stipendia.</s>\n",
    "\t\t\t\t\t<s n=\"20\" xml:lang=\"la\" type=\"auto\">Ex patrimonio intra quinquennium<note xml:id=\"fn16\" type=\"footnote\" n=\"16\">D.h. seit 1539, was mit dem Amtsantritt <persName ref=\"p17986\" cert=\"high\">Henmans</persName> übereinstimmt.</note> ducentos fere aureos non in meam, sed magis ecclesię necessitatem exposui, quod dies domini revelabit.</s>\n",
    "\t\t\t\t\t<s n=\"21\" xml:lang=\"la\" type=\"auto\">Nec quęror, optime frater, de perditis rebus, sed de Harpiis furacibus, qui recte monentes non exaudiunt et ecclesię avaritię notam inurunt; quod non adeo magni referret, nisi metuendum de excidio foret.</s>\n",
    "\t\t\t\t\t<s n=\"22\" xml:lang=\"la\" type=\"auto\">Quamdiu rapiendum, placet Christus; dum defecerit ecclesię fiscus, non placebit ultra Christus!</s>\n",
    "\t\t\t\t\t<s n=\"23\" xml:lang=\"la\" type=\"auto\">Hactenus 3 fuimus in isto oppido, ubi quisque designatum habuit<pb type=\"edition\" next=\"440\"/> stipendium.</s>\n",
    "\t\t\t\t\t<s n=\"24\" xml:lang=\"la\" type=\"auto\">Ego nunc solus omnibus curis pręfectus aegre a satrapis<note xml:id=\"fn18\" type=\"footnote\" n=\"18\">Zu verstehen: von den Beamten, u.a. vom neuen Schaffner.</note> meum recipio stipendium, et si egerem, vix triobulo sublevarent.</s>\n",
    "\t\t\t\t\t<s n=\"25\" xml:lang=\"la\" type=\"auto\">Sunt pręterea et alię rationes, quibus te nolo nunc gravare scribendo, etc.</s>\n",
    "\t\t\t\t\t<s n=\"26\" xml:lang=\"la\" type=\"auto\">Atque inter tot turbines nondum video satis iustam occasionem desertionis huius ecclesię.</s>\n",
    "\t\t\t\t</p>\n",
    "\t\t\t\t<p>\n",
    "\t\t\t\t\t<s n=\"27\" xml:lang=\"de\" type=\"auto\"><pb type=\"scan\" next=\"257a,r.\"/>Summa.</s>\n",
    "\t\t\t\t\t<s n=\"28\" xml:lang=\"la\" type=\"auto\">Ita haereo inter sacrum et saxum<note xml:id=\"fn19\" type=\"footnote\" n=\"19\">Siehe Adagia, 1, 1, 15 (<bibl>ASD</bibl> II/1 128f, Nr. 15).</note>, ut nunc sine discrimine ecclesięque Christi maxima iactura, ut facile intelligis, discedere nequeam.</s>\n",
    "\t\t\t\t</p>\n",
    "\t\t\t\t<p>\n",
    "\t\t\t\t\t<s n=\"29\" xml:lang=\"la\" type=\"auto\">Atque eę sunt potissimę rationes.</s>\n",
    "\t\t\t\t\t<s n=\"30\" xml:lang=\"la\" type=\"auto\">Ecclesias nostras iam a sexto anno<note xml:id=\"fn20\" type=\"footnote\" n=\"20\">D.h. seit 1538, als Erbin Reichenweier tätig wurde.</note> utcunque in ordinem, ut potuimus - quando, ut volueramus, non licuit - redegimus.</s>\n",
    "\t\t\t\t</p>\n",
    "\t\t\t\t<p>\n",
    "\t\t\t\t\t<s n=\"31\" xml:lang=\"la\" type=\"auto\">Annitendum ergo, ut cępta perficiantur.</s>\n",
    "\t\t\t\t\t<s n=\"32\" xml:lang=\"la\" type=\"auto\">Ad hoc ecclesia illa nobis contigua, Montbelgardiana, cum suo principe<note xml:id=\"fn21\" type=\"footnote\" n=\"21\"><persName ref=\"p1546\" cert=\"high\">Graf Christoph von Württemberg</persName>.</note> adhuc vacillat; de qua totus liber foret perscribendus.</s>\n",
    "\t\t\t\t\t<s n=\"33\" xml:lang=\"la\" type=\"auto\">Pręterea scholę quattuor in isto parviusculo agro sunt constitutę et quinta in rure instituenda, stipendia quoque studiosis quibusdam ante paucos menses pollicita,<note xml:id=\"fn23\" type=\"footnote\" n=\"23\">Erst 1555 kam es zur Einrichtung eines solchen Stipendiums durch Graf Georg; s. <hi>Adam,</hi> aao, S. 306.</note> sed haec non omnia firmata et rata, proponenda etiamnum ecclesię quędam decreta, quibus ad disciplinam et sanctos mores utcunque redigantur, idque statim redeunte principe.</s>\n",
    "\t\t\t\t\t<s n=\"34\" xml:lang=\"la\" type=\"auto\">Illo enim absente haec omnia conscripta sunt.</s>\n",
    "\t\t\t\t\t<s n=\"35\" xml:lang=\"la\" type=\"auto\">Dum igitur nunc mutavero locum omnia sub cultro relinquens<note xml:id=\"fn24\" type=\"footnote\" n=\"24\">omnia sub cultro relinquens: alles der Gefahr aussetzend; vgl. <bibl>Adagia</bibl>, 2, 10, 83 (<bibl>ASD</bibl> II/4 328, <ref target=\"file12030\">Nr. 1983</ref>).</note>, facile intelligis, quid periculi inmineat.</s>\n",
    "\t\t\t\t\t<s n=\"36\" xml:lang=\"la\" type=\"auto\">In primis severus princeps, a quo omnia pendent, facile vel mutaretur vel irritaretur, ut solet hoc hominum genus; id quod nimirum magis in ecclesię quam in meum incomodum cęderet.</s>\n",
    "\t\t\t\t\t<s n=\"37\" xml:lang=\"la\" type=\"auto\">Viden inter coelum et terram me suspensum palpitare neque posse hac ratione vel vocatione, quę tamen et sancta et iusta, liberari?</s>\n",
    "\t\t\t\t\t<s n=\"38\" xml:lang=\"la\" type=\"auto\">Occasio mihi expectanda comodior, quę me liberet sine ecclesię iactura.</s>\n",
    "\t\t\t\t\t<s n=\"39\" xml:lang=\"la\" type=\"auto\">Nam si iam abirem, ecclesia viduata absque pastore inter cunctatores et cessatores fluctuaret, etc.</s>\n",
    "\t\t\t\t</p>\n",
    "\t\t\t\t<p>\n",
    "\t\t\t\t\t<s n=\"40\" xml:lang=\"la\" type=\"auto\"><pb type=\"scan\" next=\"257a,v.\"/>Ago vero et habeo tibi gratias inmortales, humanissime Bullingere, quod admodum ingenti cura meo nomine laboraveris, atque hoc impensius te amo, quod charitatis offitium non fucate, sed dextre candideque in me collocaris, imo significaris in hac sancta vocatione.</s>\n",
    "\t\t\t\t\t<s n=\"41\" xml:lang=\"la\" type=\"auto\">Respondebit olim procul dubio deus optimus maximus tuis votis, quo <placeName ref=\"l1976\" cert=\"high\">Augustani</placeName> nanciscantur virum aliquem sanctum, ecclesię dignum ministrum,<note xml:id=\"fn25\" type=\"footnote\" n=\"25\"><persName ref=\"p8018\" cert=\"high\">Johannes Haller</persName> wurde schließlich aus Zurich nach <placeName ref=\"l1976\" cert=\"high\">Augsburg</placeName> gesandt; s. oben <ref target=\"file12211\">Nr. 2164</ref>, Anm. 10.</note> atque ego etiam tuis assiduis<pb type=\"edition\" next=\"441\"/> praecibus vel liberer publica occasione vel sub onere non defitiam.</s>\n",
    "\t\t\t\t\t<s n=\"42\" xml:lang=\"la\" type=\"auto\">Sed te etiamnum per Iesum Christum, ne deinceps plus mihi vel tribuas, immodicus scilicet virtutum mearum, quibus penitus careo, pręco, vel magis sentias de me, quam res est.</s>\n",
    "\t\t\t\t\t<s n=\"43\" xml:lang=\"la\" type=\"auto\">Optime enim mihi ipsi conscius sum curtę suppellectilis,<note xml:id=\"fn26\" type=\"footnote\" n=\"26\"><hi>Persius,</hi> Saturae, 4, 52.</note> quam tu, ni fallor, maiori atque ego, nescio quorum iuditio persuasus, aestimas.</s>\n",
    "\t\t\t\t</p>\n",
    "\t\t\t\t<p>\n",
    "\t\t\t\t\t<s n=\"44\" xml:lang=\"la\" type=\"auto\">Porro, quod nunc temporis importunitas negat, alias benignus deus, ecclesiarum verus et unicus pastor<note xml:id=\"fn27\" type=\"footnote\" n=\"27\">Vgl. <cit type=\"bible\"><ref>Hebr 13, 20</ref></cit>; <cit type=\"bible\"><ref>1Petr 2, 25</ref></cit>; <cit type=\"bible\"><ref>5, 4.</ref></cit></note>, solita clementia sancta resarciet oportunitate.</s>\n",
    "\t\t\t\t\t<s n=\"45\" xml:lang=\"la\" type=\"auto\">Sancto quoque magistratui <placeName ref=\"l1976\" cert=\"high\">Augustano</placeName>, inprimis vero erudito viro domino <persName ref=\"p8354\" cert=\"high\">Georgio Leto</persName><note xml:id=\"fn28\" type=\"footnote\" n=\"28\"><persName ref=\"p8354\" cert=\"high\">Georg Frölich</persName>.</note>, ingentes gratias meo nomine agas, obsecro, quod me, ineptum homuntionem,<note xml:id=\"fn29\" type=\"footnote\" n=\"29\">Vgl. <cit type=\"bible\"><ref>1Kor 15,9</ref></cit>; <cit type=\"bible\"><ref>Eph 3, 8</ref></cit>.</note> adeo egregia dignati sint vocatione.</s>\n",
    "\t\t\t\t\t<s n=\"46\" xml:lang=\"la\" type=\"auto\">Ego quoque deinceps eius ecclesię maiorem habebo - si potis fuero - ubique rationem, optoque illis stabilem pacem et concordiam talesque antistites, qui pietate, eruditione, prudentia, vigilantia et fidelitate ita pręmineant, quo Christus in ea republica ita mittat radices, ut nullis satanę et impiorum imposturis deiiciatur.</s>\n",
    "\t\t\t\t\t<s n=\"47\" xml:lang=\"la\" type=\"auto\">Monebis ergo illos, ne me deinceps expectent; ignoro enim meam liberationem.</s>\n",
    "\t\t\t\t\t<s n=\"48\" xml:lang=\"la\" type=\"auto\">Servet te Christus.</s>\n",
    "\t\t\t\t</p>\n",
    "\t\t\t\t<p>\n",
    "\t\t\t\t\t<note type=\"attachment\">[Beilage:]</note>\n",
    "\t\t\t\t\t<s n=\"49\" xml:lang=\"la\" type=\"auto\"><pb type=\"scan\" next=\"258r.\"/>Nova: Absolutionem conmitiorum<note xml:id=\"fn30\" type=\"footnote\" n=\"30\">Der Reichstag zu <placeName ref=\"l569\" cert=\"high\">Worms</placeName>.</note> non ignoras, in quibus nil certi definitum, nisi quod istis hybernis mensibus adversarii nobis pacem condixerunt; futura aestate nobis providendum erit<note xml:id=\"fn31\" type=\"footnote\" n=\"31\">Ein Gerücht.</note>.</s>\n",
    "\t\t\t\t\t<s n=\"50\" xml:lang=\"la\" type=\"auto\">Acta comitiorum nondum sunt publicata.</s>\n",
    "\t\t\t\t\t<s n=\"51\" xml:lang=\"la\" type=\"auto\">Aiunt quidam caesari<note xml:id=\"fn33\" type=\"footnote\" n=\"33\"><persName ref=\"p18538\" cert=\"high\">Karl V.</persName></note> omnia esse commissa, ut dicat sententiam etiam in religionis negotio certis tamen conditionibus; quodsi verum fuerit, ovem dicemus lupo<note xml:id=\"fn34\" type=\"footnote\" n=\"34\">Vgl. <cit type=\"bible\"><ref>Joh 10, 12</ref></cit>.</note> commissam.</s>\n",
    "\t\t\t\t</p>\n",
    "\t\t\t\t<p>\n",
    "\t\t\t\t\t<s n=\"52\" xml:lang=\"la\" type=\"auto\"><persName ref=\"p18477\" cert=\"high\">Ferdinandus</persName> priori septimana<note xml:id=\"fn35\" type=\"footnote\" n=\"35\">Zu verstehen: In der ersten Augustwoche. - <persName ref=\"p18477\" cert=\"high\">Ferdinand I.</persName> war am 31. Juli 1545 aus <placeName ref=\"l569\" cert=\"high\">Worms</placeName> abgereist; s. unten <ref target=\"file12261\">Nr. 2214</ref>, 28 und Anm. 20.</note> a comitiis magno strepitu solvens Bohemiam petit cum <persName ref=\"p7688\" cert=\"high\">Nausea</persName><note xml:id=\"fn36\" type=\"footnote\" n=\"36\"><persName ref=\"p7688\" cert=\"high\">Friedrich Nausea</persName>, Bischof von <placeName ref=\"l546\" cert=\"high\">Wien</placeName>.</note> suo et quibusdam monachis.</s>\n",
    "\t\t\t\t\t<s n=\"53\" xml:lang=\"la\" type=\"auto\">Sequenti septimana<pb type=\"edition\" next=\"442\"/> caesar abiturus est, sed quo, ignoratur<note xml:id=\"fn37\" type=\"footnote\" n=\"37\"><persName ref=\"p18538\" cert=\"high\">Karl V.</persName> hatte <placeName ref=\"l569\" cert=\"high\">Worms</placeName> am 7. August in Richtung <placeName ref=\"l267\" cert=\"high\">Köln</placeName> verlassen; s. oben <ref target=\"file12261\">Nr. 2214</ref>, 31 und Anm. 23f.</note>.</s>\n",
    "\t\t\t\t\t<s n=\"54\" xml:lang=\"la\" type=\"auto\">Erant alia dicta comitia ad <placeName ref=\"l410\" cert=\"high\">Reginospurgum</placeName> ad mensem octobrem,<note xml:id=\"fn38\" type=\"footnote\" n=\"38\">Der geplante Reichstag in <placeName ref=\"l410\" cert=\"high\">Regensburg</placeName>, der erst Anfang 1546 begann; s. oben <ref target=\"file12258\">Nr. 2211</ref>, Anm. 24.</note>, sed aiunt quidam irritata<note xml:id=\"fn39\" type=\"footnote\" n=\"39\">Hier im Sinne von \"vergeblich\"; s. <hi><persName ref=\"p8320\" cert=\"high\">Dasypodius</persName>,</hi> Dic. 199.</note>, etc.</s>\n",
    "\t\t\t\t</p>\n",
    "\t\t\t\t<p>\n",
    "\t\t\t\t\t<s n=\"55\" xml:lang=\"la\" type=\"auto\">Urgent plures nacionale concilium, idque <placeName ref=\"322\" type=\"auto_name\">Metis</placeName><note xml:id=\"fn40\" type=\"footnote\" n=\"40\"><placeName ref=\"l322\" cert=\"high\">Metz</placeName>.</note> celebrari postulant.</s>\n",
    "\t\t\t\t\t<s n=\"56\" xml:lang=\"la\" type=\"auto\">Musher<note xml:id=\"fn41\" type=\"footnote\" n=\"41\">Vom französischen \"Monsieur\".</note> de Gyß<note xml:id=\"fn42\" type=\"footnote\" n=\"42\"><persName ref=\"p18450\" cert=\"high\">Claude I. von Lothringen</persName>, Herzog von Guise.</note>, defuncti ducis Lotharingię frater<note xml:id=\"fn43\" type=\"footnote\" n=\"43\">Der am 12. Juni 1545 verstorbene <persName ref=\"p7637\" cert=\"high\">François I. von Lothringen</persName> war nicht Claudes Bruder, sondern sein Neffe. Bruder von Claude war der Vater des Verstorbenen, nämlich <persName ref=\"p18431\" cert=\"high\">Anton II. von Lothringen</persName> (gest. Juni 1544).</note>, patruum suum conscripto milite et auxilio regis<note xml:id=\"fn45\" type=\"footnote\" n=\"45\"><persName ref=\"p7637\" cert=\"high\">König Franz I.</persName></note> Gallorum conatur e ducatu pellere.</s>\n",
    "\t\t\t\t\t<s n=\"57\" xml:lang=\"la\" type=\"auto\"><persName ref=\"p18538\" cert=\"high\">Caesar</persName> vero iuniori<note xml:id=\"fn46\" type=\"footnote\" n=\"46\"><persName ref=\"p18536\" cert=\"high\">Karl III. von Lothringen</persName>.</note>, qui patri<note xml:id=\"fn47\" type=\"footnote\" n=\"47\"><persName ref=\"p7637\" cert=\"high\">François I. von Lothringen</persName>.</note> successit, subsidium et <placeName ref=\"l29\" cert=\"high\">Hispanum</placeName> militem pollicitus est.</s>\n",
    "\t\t\t\t\t<s n=\"58\" xml:lang=\"la\" type=\"auto\">Quodsi res non fuerit composita, putant novum bellum inter caesarem et Gallum oriturum.</s>\n",
    "\t\t\t\t\t<s n=\"59\" xml:lang=\"la\" type=\"auto\">Feruntur alia quedam nova, sed forte non fide digna: mundus mendatiis scatet<note xml:id=\"fn48\" type=\"footnote\" n=\"48\">Vgl. <bibl>TPMA</bibl> XIII 46, 125f: Die Welt ist falscher Zungen voll.</note>.</s>\n",
    "\t\t\t\t\t<s n=\"60\" xml:lang=\"la\" type=\"auto\">Haec omnia raptim.</s>\n",
    "\t\t\t\t</p>\n",
    "\t\t\t\t<p>\n",
    "\t\t\t\t\t<s n=\"61\" xml:lang=\"la\" type=\"auto\">Valebis igitur, vir humanissime, cum ecclesia sancta et familia.</s>\n",
    "\t\t\t\t\t<s n=\"62\" xml:lang=\"la\" type=\"auto\">Salutabis vicissim tuos, in primis meum <persName ref=\"p8412\" cert=\"high\">Megandrum</persName>, <persName ref=\"p8437\" cert=\"high\">Erasmum</persName>,<note xml:id=\"fn49\" type=\"footnote\" n=\"49\">\"\"\""
   ]
  },
  {
   "cell_type": "markdown",
   "metadata": {},
   "source": [
    "## generate"
   ]
  },
  {
   "cell_type": "markdown",
   "metadata": {},
   "source": [
    "#### test 1\n",
    "Formulating the completion task in Chat template."
   ]
  },
  {
   "cell_type": "markdown",
   "metadata": {},
   "source": [
    "Original FN: <br>\n",
    "```xml\n",
    "<persName ref=\"p1214\" cert=\"high\">Fries</persName>\n",
    "und\n",
    "<persName ref=\"p1283\" cert=\"high\">Geßner</persName>\n",
    "waren in einem Brief\n",
    "<persName ref=\"p8127\" cert=\"high\">Pellikans</persName>\n",
    "vom 19. Februar 1533 an\n",
    "<persName ref=\"p8418\" cert=\"high\">Myconius</persName>\n",
    "empfohlen worden (Zürich StA, E II 358, 98).\n",
    "</note>\n",
    "```\n",
    "FN from the ICL:<br>\n",
    "```xml\n",
    "<note xml:id=\"fn49\" type=\"footnote\" n=\"49\">\n",
    "<persName ref=\"p8437\" cert=\"high\">Erasmus Schmid</persName>\n",
    ".\n",
    "</note>\n",
    "```"
   ]
  },
  {
   "cell_type": "code",
   "execution_count": 21,
   "metadata": {},
   "outputs": [],
   "source": [
    "\n",
    "\n",
    "ICL_SYSTEM_PROMPT = \"Du bist Historiker und hast dich auf die Reformation spezialisiert. Gerade arbeitest du daran Briefe von Heinrich Bullinger zu edieren. Vervolständige die Inhaltlichen Fussnoten.\"\n",
    "\n",
    "# footnote for the icl\n",
    "footnote_text2 = \"\"\"<note xml:id=\"fn3\" type=\"footnote\" n=\"3\"><persName ref=\"p1283\" cert=\"high\">Geßner</persName> und <persName ref=\"p1214\" cert=\"high\">Fries</persName> befanden sich auf dem Weg nach <placeName ref=\"l59\" cert=\"high\">Bourges</placeName>.</note>\"\"\"\n",
    "\n",
    "# Note the openai API does not allow for arbitrary names for the chatting parties:\n",
    "# {'error': {'message': \"Invalid value: 'historian'. Supported values are: 'system', 'assistant', 'user', 'function', and 'tool'.\", 'type': 'invalid_request_error', 'param': 'messages[1].role', 'code': 'invalid_value'}}\n",
    "\n",
    "def icl_prompt(text):\n",
    "  \"\"\"Generate a prompt that gives the example from text2\"\"\"\n",
    "  messages = [\n",
    "      {\"role\": \"system\", \"content\": ICL_SYSTEM_PROMPT},\n",
    "      {\"role\": \"user\", \"content\": text2},   \n",
    "      {\"role\": \"assistant\", \"content\": footnote_text2},\n",
    "      {\"role\": \"user\", \"content\": text}\n",
    "  ]\n",
    "  return messages\n",
    "\n",
    "\n"
   ]
  },
  {
   "cell_type": "code",
   "execution_count": 24,
   "metadata": {},
   "outputs": [
    {
     "name": "stdout",
     "output_type": "stream",
     "text": [
      "<note xml:id=\"fn4\" type=\"footnote\" n=\"4\">Myconius, ein wichtiger Reformator und Freund von Bullinger, war in Basel tätig und spielte eine zentrale Rolle in der Verbreitung der reformatorischen Ideen in der Region.</note>\n",
      "<note xml:id=\"fn4\" type=\"footnote\" n=\"4\">Myconius, ein wichtiger Reformator und Freund von Bullinger, war in Basel tätig und spielte eine zentrale Rolle in der Verbreitung der reformatorischen Ideen in der Region.</note>\n",
      "<note xml:id=\"fn4\" type=\"footnote\" n=\"4\">Myconius, ein wichtiger Reformator und Freund von Bullinger, war in Basel tätig und spielte eine bedeutende Rolle in der Verbreitung der reformatorischen Ideen in der Region.</note>\n",
      "<note xml:id=\"fn4\" type=\"footnote\" n=\"4\">Myconius, ein wichtiger Reformator und Freund von Bullinger, war in Basel tätig und spielte eine zentrale Rolle in der Verbreitung der reformatorischen Ideen in der Region.</note>\n",
      "<note xml:id=\"fn4\" type=\"footnote\" n=\"4\">Myconius, ein wichtiger Reformator und Freund von Bullinger, war in Basel tätig und spielte eine bedeutende Rolle in der Verbreitung der reformatorischen Ideen in der Region.</note>\n",
      "<note xml:id=\"fn4\" type=\"footnote\" n=\"4\">Myconius, ein wichtiger Reformator und Freund von Bullinger, war in Basel tätig und spielte eine bedeutende Rolle in der Verbreitung der reformatorischen Ideen in der Region.</note>\n",
      "<note xml:id=\"fn4\" type=\"footnote\" n=\"4\">Myconius, ein wichtiger Reformator und Freund von Bullinger, war in Basel tätig und spielte eine zentrale Rolle in der Verbreitung der reformatorischen Ideen in der Region.</note>\n",
      "<note xml:id=\"fn4\" type=\"footnote\" n=\"4\">Myconius, ein wichtiger Reformator und Freund von Bullinger, war in Basel tätig und spielte eine zentrale Rolle in der Verbreitung der reformatorischen Ideen in der Region.</note>\n",
      "<note xml:id=\"fn4\" type=\"footnote\" n=\"4\">Myconius, ein wichtiger Reformator und Freund von Bullinger, war in Basel tätig und spielte eine zentrale Rolle in der Verbreitung der reformatorischen Ideen in der Region.</note>\n",
      "<note xml:id=\"fn4\" type=\"footnote\" n=\"4\">Myconius, ein wichtiger Reformator und Freund von Bullinger, war in Basel tätig und spielte eine zentrale Rolle in der Verbreitung der reformatorischen Ideen in der Region.</note>\n"
     ]
    }
   ],
   "source": [
    "model = OpenAiModels(\"gpt-4o-mini-2024-07-18\", api_key)\n",
    "tokens = []\n",
    "for i in range(10):\n",
    "    text, in_toks, out_toks = model.generate(icl_prompt(text1))\n",
    "    tokens.append((in_toks, out_toks))\n",
    "    print(text)\n"
   ]
  },
  {
   "cell_type": "code",
   "execution_count": null,
   "metadata": {},
   "outputs": [],
   "source": []
  },
  {
   "cell_type": "code",
   "execution_count": 25,
   "metadata": {},
   "outputs": [
    {
     "data": {
      "text/plain": [
       "0.0033066000000000003"
      ]
     },
     "execution_count": 25,
     "metadata": {},
     "output_type": "execute_result"
    }
   ],
   "source": [
    "calculate_openai_cost(tokens, (0.3,1.2))"
   ]
  },
  {
   "cell_type": "markdown",
   "metadata": {},
   "source": [
    "#### Test 2\n",
    "leaving one footnote out. Not optimal result and also more expensive?"
   ]
  },
  {
   "cell_type": "code",
   "execution_count": 26,
   "metadata": {},
   "outputs": [],
   "source": [
    "import re\n",
    "import pandas as pd\n",
    "\n",
    "def footnote_regex(n):\n",
    "  matching_string = (fr\"( ?<note [^>]*? type=\\\"footnote\\\" n=\\\"{n}\\\">)\" # matching group 1: the opening tag\n",
    "                  r\"(.*?(?=<\\/note>))\"  # matching group 2 everything up until the closing tag (positive lookup!! no matching group!!)\n",
    "                  r\"(<\\/note>)\"  # matching group 3: the endtag\n",
    "  )\n",
    "  return matching_string\n",
    "\n",
    "def remove_footnote_content(text, n):\n",
    "  \"\"\"remove all content from the footnote n=\"n\" \"\"\"\n",
    "  return re.sub(footnote_regex(n), r\"\\1\\3\", text)\n",
    "\n",
    "def get_footnote_content(text, n):\n",
    "  \"\"\"get the content of a FN\"\"\"\n",
    "  return re.search(footnote_regex(n), text).group(2)\n",
    "\n",
    "\n",
    "ICL_SYSTEM_PROMPT = \"Du bist Historiker und hast dich auf die Reformation spezialisiert. Gerade arbeitest du daran Briefe von Heinrich Bullinger zu edieren. Vervolständige die Inhaltlichen Fussnoten.\"\n",
    "\n",
    "def HISTORIAN_PROMPT(text, n):\n",
    "  return f\"Bitte schlage mir einen Text für Fussnote n={n} in folgendem Dokument vor:\\n\\n{text}\"\n",
    "\n",
    "def instruct_prompt_fill_in(letter, n, example=(11130, 7)):\n",
    "  \"\"\"\n",
    "  param text: Letter TEI\n",
    "  param n: Footnote to generate\n",
    "  example: letter_id and FN to give as an example, 12342 is from the dev-set...\"\"\"\n",
    "\n",
    "  # find a good example letter, to put as icl prompt...\n",
    "  # get the letter\n",
    "  example_letter_id, example_n = example\n",
    "  with open(f\"../../data/downsized_letters/{example_letter_id}.xml\") as infile:\n",
    "    example_letter = infile.read()\n",
    "\n",
    "  messages = [\n",
    "      {\"role\": \"system\", \"content\": ICL_SYSTEM_PROMPT},\n",
    "      {\"role\": \"user\", \"content\": HISTORIAN_PROMPT(remove_footnote_content(example_letter, example_n), example_n)},\n",
    "      {\"role\": \"assistant\", \"content\": get_footnote_content(example_letter, example_n)},\n",
    "      {\"role\": \"user\", \"content\": HISTORIAN_PROMPT(letter, n)}\n",
    "  ]\n",
    "\n",
    "  return messages\n",
    "\n",
    "\n",
    "\n",
    "# test letter\n",
    "letter_id = 10224\n",
    "\n",
    "\n",
    "footnote_df = pd.read_csv(\"../../data/footnote_downsized_df.csv\")\n",
    "# get the letter\n",
    "with open(f\"../../data/downsized_letters/{letter_id}.xml\") as infile:\n",
    "  letter = infile.read()\n"
   ]
  },
  {
   "cell_type": "code",
   "execution_count": 14,
   "metadata": {},
   "outputs": [
    {
     "data": {
      "text/plain": [
       "[{'role': 'system',\n",
       "  'content': 'Du bist Historiker und hast dich auf die Reformation spezialisiert. Gerade arbeitest du daran Briefe von Heinrich Bullinger zu edieren.'},\n",
       " {'role': 'user',\n",
       "  'content': 'Bitte schlage mir einen Text für Fussnote n=7 in folgendem Dokument vor:\\n\\n<TEI xmlns=\"http://www.tei-c.org/ns/1.0\" xml:id=\"file11130\" type=\"Brief\" source=\"HBBW-8\" n=\"1087\">\\n\\t<teiHeader xml:lang=\"de\">\\n\\t\\t<fileDesc>\\n\\t\\t\\t<titleStmt>\\n\\t\\t\\t\\t<title subtype=\"file\">Andreas Bodenstein an Heinrich Bullinger, [Anfang] Januar 1538</title>\\n\\t\\t\\t</titleStmt>\\n\\t\\t\\t<publicationStmt>\\n\\t\\t\\t\\t<authority>Universität Zürich</authority>\\n\\t\\t\\t\\t</publicationStmt>\\n\\t\\t\\t<sourceDesc>\\n\\t\\t\\t\\t<bibl type=\"scan\">Zürich StA</bibl>\\n\\t\\t\\t\\t</sourceDesc>\\n\\t\\t</fileDesc>\\n\\t\\t</teiHeader>\\n\\t<text xml:lang=\"la\">\\n\\t\\t<body>\\n\\t\\t\\t<div xml:id=\"div1\" corresp=\"regest1\">\\n\\t\\t\\t\\t<p>\\n\\t\\t\\t\\t\\t<s n=\"1\" xml:lang=\"la\" type=\"auto\">S.</s>\\n\\t\\t\\t\\t\\t<s n=\"2\" xml:lang=\"la\" type=\"auto\">Tot obsequiis totque beneficiis iisdemque pleniss[imis] demeritus es me, vir et ornatissime et eruditissime, ut peccare me fateor multa, nisi tuis precibus acquiesco tuęque pię voluntati neutiquam desum.</s>\\n\\t\\t\\t\\t\\t<s n=\"3\" xml:lang=\"la\" type=\"auto\">Equidem et debeo et volo rem factu longe difficiliorem subire, neque unquam defessum senties, tantum abest, ut nunc non obsequar, at quando negocium vel unum [a] me confici non potest, minime mihi adscribendum, quod in alio situm est.</s>\\n\\t\\t\\t\\t\\t<s n=\"4\" xml:lang=\"la\" type=\"auto\">Proinde quando <persName ref=\"p6674\" cert=\"high\">Stapferi</persName> voluntas cum mea debeat neque possit neque velit convenire, non difficile cernes caput inobediencię.</s>\\n\\t\\t\\t\\t\\t<s n=\"5\" xml:lang=\"la\" type=\"auto\">Egressus is est domo, libros et alia extulit; citra notationem mei ęgre revocabitur, praesertim cum sciam illum iactaturum me suę pecunię adeo cupidum et ex ea tanto opere saginari posse, ut eius fiducia retractem ad me.</s>\\n\\t\\t\\t\\t\\t<s n=\"6\" xml:lang=\"la\" type=\"auto\">Id colligo ex anteactis opprobriis, siquidem pecuniam suam toties uxori<note xml:id=\"fn3\" type=\"footnote\" n=\"3\"><persName ref=\"p7589\" cert=\"high\">Anna Karlstadt, geb. von Mochau</persName>.</note> et filiis<note xml:id=\"fn4\" type=\"footnote\" n=\"4\">Siehe unten Anm. 12.</note> exprobravit, quasi nos ex ea vivere necesse sit ipseque de beneficencia donet.</s>\\n\\t\\t\\t\\t\\t<s n=\"7\" xml:lang=\"la\" type=\"auto\">Equidem autem certus sum ipsum 26 fl. non assecuturum, quae ego contemplatione tui et aliorum (qui pro eo intercesserunt) in illum contuli.</s>\\n\\t\\t\\t\\t\\t<s n=\"8\" xml:lang=\"la\" type=\"auto\">Is enim[?] spaciosum lectulum unus subinde nisus est occupare pecuniam obiectans.</s>\\n\\t\\t\\t\\t\\t<s n=\"9\" xml:lang=\"la\" type=\"auto\">Verum caussam diversionis eius paucis accipe.</s>\\n\\t\\t\\t\\t\\t<s n=\"10\" xml:lang=\"la\" type=\"auto\">Est nobis doctor quidam medicinę, cui <persName ref=\"p6618\" cert=\"high\">Sebastiano</persName> nomen, qui Latine, Gręce, Hebraice mire doctus existit.</s>\\n\\t\\t\\t\\t\\t<s n=\"11\" xml:lang=\"la\" type=\"auto\">Huius<pb type=\"edition\" next=\"26\"/> uxor<note xml:id=\"fn6\" type=\"footnote\" n=\"6\"><persName ref=\"p6616\" cert=\"high\">Elisabeth Sinckeler, geb. Wyßhärin</persName>; vgl. <persName ref=\"p164\" cert=\"high\">Amerbach</persName>, Korr. IV ff, Reg.</note> et filia<note xml:id=\"fn7\" type=\"footnote\" n=\"7\"></note> invisere meam coniugem valitudine haud optima constitutam.</s>\\n\\t\\t\\t\\t\\t<s n=\"12\" xml:lang=\"la\" type=\"auto\">Fuit autem mea in hipocausto oppido angusto unam duntaxat tabulam capiente.</s>\\n\\t\\t\\t\\t\\t<s n=\"13\" xml:lang=\"la\" type=\"auto\">Eo cum venissent, ingredior excepturus.</s>\\n\\t\\t\\t\\t\\t<s n=\"14\" xml:lang=\"la\" type=\"auto\">Exceptis eis iussi <persName ref=\"p6674\" cert=\"high\">Stapfero</persName> hospitibus cedere, quod is meliorem mensę partem occupavit, unde peiore loco honestas hospites sedere oportebat.</s>\\n\\t\\t\\t\\t\\t<s n=\"15\" xml:lang=\"la\" type=\"auto\">Abii; putabam cessurum.</s>\\n\\t\\t\\t\\t\\t<s n=\"16\" xml:lang=\"la\" type=\"auto\">Tandem honestatis gracia rediens eodem in loco <persName ref=\"p6674\" cert=\"high\">Stapferum</persName> video sedere et libros compingere, quem non sine stomacho rursus iubeo in suum hypocaustum abire, sed respondit doctoris uxorem permisisse.</s>\\n\\t\\t\\t\\t\\t<s n=\"17\" xml:lang=\"la\" type=\"auto\">Itaque locum occupatum mordicus detinet, neque hoc contentus, nam me in lectionem profecto nidore bituminis incipit molestare contubernium.</s>\\n\\t\\t\\t\\t\\t<s n=\"18\" xml:lang=\"la\" type=\"auto\">Hec et alia de lectione reversus audiens indigne tuli et dixi flagitium tale non modo cum literis sacrosanctis, sed cum legibus pugnare, imo contra naturam, adeoque sacius esse ipsum carere literis quam has socias facinorum facere.</s>\\n\\t\\t\\t\\t\\t<s n=\"19\" xml:lang=\"la\" type=\"auto\">Hic autem sic movebatur, ut ilico sibi providebat, imo me iniuria nova et acri affecit.</s>\\n\\t\\t\\t\\t\\t<s n=\"20\" xml:lang=\"la\" type=\"auto\">Itaque invitum et reluctantem non putavi diutius retinendum, quamquam parum licere putarem ei, quem curatoris<note xml:id=\"fn8\" type=\"footnote\" n=\"8\">Als Vogt <persName ref=\"p6674\" cert=\"high\">Heinrich Stapfers</persName> amtierte <persName ref=\"p5544\" cert=\"high\">Gebhart Krüttli</persName>, s. Zürich StA, B VI 334, 140v.-141r. 204r.</note> autoritate tuoque interventu suscepi, vobis ignorantibus permittere discessum.</s>\\n\\t\\t\\t\\t\\t<s n=\"21\" xml:lang=\"la\" type=\"auto\">Poteris ex hisce ipse colligere, quas turbas daturus esset, si reciperem, neque dubito te sic <persName ref=\"p6674\" cert=\"high\">Stapfero</persName> favere, ut mihi tranquillitatem non invideas.</s>\\n\\t\\t\\t\\t\\t<s n=\"22\" xml:lang=\"la\" type=\"auto\">Pręstat itaque, ut alibi sit, cum mihi sit honestum et utile eius ab commercio abstinere.</s>\\n\\t\\t\\t\\t\\t<s n=\"23\" xml:lang=\"la\" type=\"auto\">Si mansisset mecum, lubens auscultarem tibi praecipienti, cui inservire iucundum est.</s>\\n\\t\\t\\t\\t</p>\\n\\t\\t\\t\\t<p>\\n\\t\\t\\t\\t\\t<s n=\"24\" xml:lang=\"la\" type=\"auto\">Vale felicissime.</s>\\n\\t\\t\\t\\t\\t<s n=\"25\" xml:lang=\"la\" type=\"auto\">Uxorem tuam<note xml:id=\"fn9\" type=\"footnote\" n=\"9\"><persName ref=\"p8051\" cert=\"high\">Anna, geb. Adlischwyler</persName>.</note> atque matrem<note xml:id=\"fn10\" type=\"footnote\" n=\"10\"><persName ref=\"p7042\" cert=\"high\">Anna, geb. Wiederkehr</persName>.</note> et liberos<note xml:id=\"fn11\" type=\"footnote\" n=\"11\">Vgl. <bibl>HBBW VI</bibl> <ref target=\"file10782\">[Nr. 744]</ref>, S. 124, Anm. 34, sowie die folgende Anm.</note> saluta.</s>\\n\\t\\t\\t\\t\\t<s n=\"26\" xml:lang=\"la\" type=\"auto\">Gaudeo te numerum exęquasse nostrum liberum et tuam tibi felicitatem omnem congratulor.</s>\\n\\t\\t\\t\\t\\t<s n=\"27\" xml:lang=\"la\" type=\"auto\">Saluta dominos meos praeceptores et fratres.<pb type=\"edition\" next=\"27\"/></s>\\n\\t\\t\\t\\t</p>\\n\\t\\t\\t\\t<p>\\n\\t\\t\\t\\t\\t<s n=\"28\" xml:lang=\"la\" type=\"auto\"><placeName ref=\"l28\" cert=\"high\">Basileę</placeName>, celeriter, die ianuarii anno 38.</s>\\n\\t\\t\\t\\t\\t<s n=\"29\" xml:lang=\"la\" type=\"auto\">Tuus obsequibilis</s>\\n\\t\\t\\t\\t</p>\\n\\t\\t\\t\\t<p>\\n\\t\\t\\t\\t\\t<s n=\"30\" xml:lang=\"la\" type=\"auto\">And. <persName ref=\"p4349\" cert=\"high\">Carolostadius</persName>.</s>\\n\\t\\t\\t\\t</p>\\n\\t\\t\\t\\t<p>\\n\\t\\t\\t\\t\\t<note type=\"address\">[Adresse auf der Rückseite:]</note>\\n\\t\\t\\t\\t\\t<s n=\"31\" xml:lang=\"la\" type=\"auto\">Pręclarissimo et doctissimo viro d. Henrico Bullingero, ecclesiastarum precipuo Tiguri, patrono suo venerando in domino semper.</s>\\n\\t\\t\\t\\t</p>\\n\\t\\t\\t</div>\\n\\t\\t</body>\\n\\t</text>\\n</TEI>\\n'},\n",
       " {'role': 'assistant',\n",
       "  'content': 'Gemeint ist wohl Fides, die als einziges von sechs Kindern <persName ref=\"p6616\" cert=\"high\">Sinckelers</persName> erwachsen wurde und um 1540 <persName ref=\"p4939\" cert=\"high\">Jakob Müller (gen. Gerster)</persName> heiratete; vgl. <persName ref=\"p164\" cert=\"high\">Amerbach</persName>, Korr. IV ff, Reg.'},\n",
       " {'role': 'user',\n",
       "  'content': 'Bitte schlage mir einen Text für Fussnote n=3 in folgendem Dokument vor:\\n\\n<TEI xmlns=\"http://www.tei-c.org/ns/1.0\" xml:id=\"file10224\" type=\"Brief\" source=\"HBBW-3\" n=\"193\">\\n\\t<teiHeader xml:lang=\"de\">\\n\\t\\t<fileDesc>\\n\\t\\t\\t<titleStmt>\\n\\t\\t\\t\\t<title subtype=\"file\">Konrad Geßner, Johannes Fries / Basel an Heinrich Bullinger, 25. Februar [1533]</title>\\n\\t\\t\\t</titleStmt>\\n\\t\\t\\t<publicationStmt>\\n\\t\\t\\t\\t<authority>Universität Zürich</authority>\\n\\t\\t\\t\\t</publicationStmt>\\n\\t\\t\\t<sourceDesc>\\n\\t\\t\\t\\t</sourceDesc>\\n\\t\\t</fileDesc>\\n\\t\\t</teiHeader>\\n\\t<text xml:lang=\"la\">\\n\\t\\t<body>\\n\\t\\t\\t<div xml:id=\"div1\" corresp=\"regest1\">\\n\\t\\t\\t\\t<p>\\n\\t\\t\\t\\t\\t<s n=\"1\" xml:lang=\"la\" type=\"auto\">Optimo et integerrimo viro M. Henrico Bullingero, mecaenati charissimo.</s>\\n\\t\\t\\t\\t</p>\\n\\t\\t\\t\\t<p>\\n\\t\\t\\t\\t\\t<s n=\"2\" xml:lang=\"la\" type=\"auto\">S.</s>\\n\\t\\t\\t\\t\\t<s n=\"3\" xml:lang=\"la\" type=\"auto\">Impediunt nos ab itinere<note xml:id=\"fn3\" type=\"footnote\" n=\"3\"><persName ref=\"p1283\" cert=\"high\">Geßner</persName> und <persName ref=\"p1214\" cert=\"high\">Fries</persName> befanden sich auf dem Weg nach <placeName ref=\"l59\" cert=\"high\">Bourges</placeName>.</note> nives, pluvia et ventorum vis.</s>\\n\\t\\t\\t\\t\\t<s n=\"4\" xml:lang=\"la\" type=\"auto\"><placeName ref=\"l28\" cert=\"high\">Basileae</placeName> apud <persName ref=\"p8418\" cert=\"high\">Myconium</persName><note xml:id=\"fn4\" type=\"footnote\" n=\"4\"><persName ref=\"p1214\" cert=\"high\">Fries</persName> und <persName ref=\"p1283\" cert=\"high\">Geßner</persName> waren in einem Brief <persName ref=\"p8127\" cert=\"high\">Pellikans</persName> vom 19. Februar 1533 an <persName ref=\"p8418\" cert=\"high\">Myconius</persName> empfohlen worden (Zürich StA, E II 358, 98).</note> sine sumtu moramur sudum coelum et tempestatem mitiorem expectantes.</s>\\n\\t\\t\\t\\t\\t<s n=\"5\" xml:lang=\"la\" type=\"auto\">Nivibus obrutae sunt viae omnes, montes praesertim, per quos nulla itinera nunc patent.</s>\\n\\t\\t\\t\\t\\t<s n=\"6\" xml:lang=\"la\" type=\"auto\">Maxime tamen omnium nos detinet, quod Gallos et alios quosdam itineris comites facturos brevi hic invenimus.</s>\\n\\t\\t\\t\\t\\t<s n=\"7\" xml:lang=\"la\" type=\"auto\">Tuam humanitatem rogamus literas nobis a senatu poscat Tigurinos nos esse et a Tigurino senatu propter studia ablegatos.</s>\\n\\t\\t\\t\\t\\t<s n=\"8\" xml:lang=\"la\" type=\"auto\">Ita enim docti plerique consuluerunt, quo nobis tutioribus esse liceat.</s>\\n\\t\\t\\t\\t\\t<s n=\"9\" xml:lang=\"la\" type=\"auto\">Ne nos negligas etiam atque etiam oramus poscimusque.</s>\\n\\t\\t\\t\\t\\t<s n=\"10\" xml:lang=\"la\" type=\"auto\">Si dederis operam, facile impetrabis.</s>\\n\\t\\t\\t\\t\\t<s n=\"11\" xml:lang=\"la\" type=\"auto\">Literis nos acceptis<note xml:id=\"fn6\" type=\"footnote\" n=\"6\">Nach Aussage von <persName ref=\"p8398\" cert=\"high\">Konrad Klauser</persName> haben <persName ref=\"p1283\" cert=\"high\">Geßner</persName> und <persName ref=\"p1214\" cert=\"high\">Fries</persName> die gewünschten Empfehlungsschreiben offenbar erhalten (s. unten <ref target=\"file10226\">[Nr. 195]</ref> S. 77, 5). Auffindbar sind sie jedoch nicht mehr.</note> quamprimum cum comitibus maturabimus iter.</s>\\n\\t\\t\\t\\t</p>\\n\\t\\t\\t\\t<p>\\n\\t\\t\\t\\t\\t<s n=\"12\" xml:lang=\"la\" type=\"auto\">Vale et nos tibi commendatos habe.</s>\\n\\t\\t\\t\\t</p>\\n\\t\\t\\t\\t<p>\\n\\t\\t\\t\\t\\t<s n=\"13\" xml:lang=\"la\" type=\"auto\"><placeName ref=\"l28\" cert=\"high\">Basileae</placeName> in aedibus <persName ref=\"p8418\" cert=\"high\">Myconii</persName>, februarii 25.</s>\\n\\t\\t\\t\\t</p>\\n\\t\\t\\t\\t<p>\\n\\t\\t\\t\\t\\t<s n=\"14\" xml:lang=\"la\" type=\"auto\"><persName ref=\"p1214\" cert=\"high\">Ioannes Frisius</persName> et <persName ref=\"p1283\" cert=\"high\">C. Gesnerus</persName> tui toti.</s>\\n\\t\\t\\t\\t</p>\\n\\t\\t\\t</div>\\n\\t\\t</body>\\n\\t</text>\\n</TEI>\\n'}]"
      ]
     },
     "execution_count": 14,
     "metadata": {},
     "output_type": "execute_result"
    }
   ],
   "source": [
    "instruct_prompt_fill_in(letter, 3)"
   ]
  },
  {
   "cell_type": "code",
   "execution_count": 15,
   "metadata": {},
   "outputs": [
    {
     "name": "stdout",
     "output_type": "stream",
     "text": [
      "Die Reise von Geßner und Fries nach Bourges war Teil ihrer Bemühungen, an der dortigen Universität zu studieren und sich mit anderen Gelehrten auszutauschen. Bourges war zu dieser Zeit ein Zentrum humanistischer Studien und zog viele Intellektuelle an, die sich mit den reformatorischen Ideen auseinandersetzten.\n",
      "Die Reise von Geßner und Fries nach Bourges war Teil ihrer Bemühungen, an der dortigen Universität zu studieren und sich mit anderen Gelehrten auszutauschen. Bourges war zu dieser Zeit ein Zentrum humanistischer Studien und zog viele Intellektuelle an, die sich mit den Ideen der Reformation und der klassischen Antike auseinandersetzten.\n"
     ]
    }
   ],
   "source": [
    "tokens = []\n",
    "for i in range(10):\n",
    "    text, in_toks, out_toks = model.generate(instruct_prompt_fill_in(letter, 3))\n",
    "    tokens.append((in_toks, out_toks))\n",
    "    print(text)"
   ]
  },
  {
   "cell_type": "code",
   "execution_count": 16,
   "metadata": {},
   "outputs": [
    {
     "data": {
      "text/plain": [
       "0.0024186"
      ]
     },
     "execution_count": 16,
     "metadata": {},
     "output_type": "execute_result"
    }
   ],
   "source": [
    "calculate_openai_cost(tokens, (0.3,1.2))"
   ]
  },
  {
   "cell_type": "markdown",
   "metadata": {},
   "source": [
    "#### Test 3\n",
    "giving the empty letter, with one FN as an example"
   ]
  },
  {
   "cell_type": "code",
   "execution_count": 27,
   "metadata": {},
   "outputs": [],
   "source": [
    "def instruct_prompt_no_fns(letter, n, example_n=None):\n",
    "  \"\"\"\n",
    "  param text: Letter TEI\n",
    "  param n: Footnote to generate\n",
    "  example: letter_id and FN to give as an example, 12342 is from the dev-set...\"\"\"\n",
    "\n",
    "    # footnotes of that letter\n",
    "  footnote_df_letter = footnote_df[footnote_df[\"letter_id\"] == letter_id]\n",
    "\n",
    "  letter_no_fns = letter\n",
    "\n",
    "  # removing all FNs\n",
    "  for footnote in footnote_df_letter.iloc:  # Maybe we'll have to take care of the labels here...\n",
    "    letter_no_fns = remove_footnote_content(letter_no_fns, footnote[\"n_footnote\"])\n",
    "\n",
    "\n",
    "  messages = [\n",
    "      {\"role\": \"system\", \"content\": ICL_SYSTEM_PROMPT},\n",
    "  ]\n",
    "\n",
    "  # add example if specified\n",
    "  if example_n:\n",
    "    messages.append({\"role\": \"user\", \"content\": HISTORIAN_PROMPT(letter_no_fns, example_n)},)\n",
    "    messages.append({\"role\": \"assistant\", \"content\": get_footnote_content(letter, example_n)})\n",
    "\n",
    "  # add prompt for generation\n",
    "  messages.append({\"role\": \"user\", \"content\": HISTORIAN_PROMPT(letter_no_fns, n)})\n",
    "\n",
    "  return messages"
   ]
  },
  {
   "cell_type": "markdown",
   "metadata": {},
   "source": [
    "zero shot, wacky"
   ]
  },
  {
   "cell_type": "code",
   "execution_count": 50,
   "metadata": {},
   "outputs": [
    {
     "name": "stdout",
     "output_type": "stream",
     "text": [
      "Für die Fußnote n=3 könnte folgender Text vorgeschlagen werden:\n",
      "\n",
      "\"Die widrigen Wetterbedingungen, insbesondere Schnee, Regen und starker Wind, hindern uns an der Weiterreise.\"\n",
      "Für die Fußnote n=3 könnte folgender Text vorgeschlagen werden:\n",
      "\n",
      "\"Die widrigen Wetterbedingungen, insbesondere Schnee, Regen und starker Wind, hindern uns an der Weiterreise.\"\n",
      "Für die Fußnote n=3 könnte folgender Text vorgeschlagen werden:\n",
      "\n",
      "\"Die widrigen Wetterbedingungen, insbesondere Schnee, Regen und starker Wind, hindern uns an der Weiterreise.\"\n",
      "Für die Fußnote n=3 könnte folgender Text vorgeschlagen werden:\n",
      "\n",
      "\"Die widrigen Wetterbedingungen, insbesondere Schnee, Regen und starker Wind, hindern uns an der Weiterreise.\"\n",
      "Für die Fußnote n=3 könnte folgender Text vorgeschlagen werden:\n",
      "\n",
      "\"Die widrigen Wetterbedingungen, insbesondere Schnee, Regen und starker Wind, hindern uns an der Weiterreise.\"\n",
      "Für die Fußnote n=3 könnte folgender Text vorgeschlagen werden:\n",
      "\n",
      "\"Die widrigen Wetterbedingungen, insbesondere Schnee, Regen und starker Wind, hindern uns an der Weiterreise.\"\n",
      "Für die Fußnote n=3 könnte folgender Text vorgeschlagen werden:\n",
      "\n",
      "\"Die widrigen Wetterbedingungen, insbesondere Schnee, Regen und starker Wind, hindern uns an der Weiterreise.\"\n",
      "Für die Fußnote n=3 könnte folgender Text vorgeschlagen werden:\n",
      "\n",
      "\"Die widrigen Wetterbedingungen, insbesondere Schnee, Regen und starker Wind, hindern uns an der Weiterreise.\"\n",
      "Für die Fußnote n=3 könnte folgender Text vorgeschlagen werden:\n",
      "\n",
      "\"Die widrigen Wetterbedingungen, insbesondere Schnee, Regen und starker Wind, hindern uns an der Weiterreise.\"\n",
      "Für die Fußnote n=3 könnte folgender Text vorgeschlagen werden:\n",
      "\n",
      "\"Die widrigen Wetterbedingungen, insbesondere Schnee, Regen und starker Wind, hindern uns an der Weiterreise.\"\n"
     ]
    }
   ],
   "source": [
    "tokens = []\n",
    "for i in range(10):\n",
    "    text, in_toks, out_toks = model.generate(instruct_prompt_no_fns(letter, 3))\n",
    "    tokens.append((in_toks, out_toks))\n",
    "    print(text)"
   ]
  },
  {
   "cell_type": "code",
   "execution_count": 51,
   "metadata": {},
   "outputs": [
    {
     "data": {
      "text/plain": [
       "0.03447"
      ]
     },
     "execution_count": 51,
     "metadata": {},
     "output_type": "execute_result"
    }
   ],
   "source": [
    "calculate_openai_cost(tokens, (3,6))"
   ]
  },
  {
   "cell_type": "code",
   "execution_count": 28,
   "metadata": {},
   "outputs": [
    {
     "name": "stdout",
     "output_type": "stream",
     "text": [
      "<note xml:id=\"fn4\" type=\"footnote\" n=\"4\">Myconius, ein bekannter Humanist und Reformator, war zu dieser Zeit in Basel aktiv und spielte eine wichtige Rolle in der reformatorischen Bewegung. Die Erwähnung seiner Person deutet auf die enge Verbindung zwischen den Reformatoren und den humanistischen Kreisen in Basel hin.</note>\n",
      "<note xml:id=\"fn4\" type=\"footnote\" n=\"4\">Myconius, ein bekannter Humanist und Reformator, war zu dieser Zeit in Basel aktiv und spielte eine wichtige Rolle in der reformatorischen Bewegung. Die Erwähnung seiner Wohnstätte deutet auf die enge Verbindung zwischen den Reformatoren und den humanistischen Kreisen in Basel hin.</note>\n",
      "<note xml:id=\"fn4\" type=\"footnote\" n=\"4\">Myconius, ein bekannter Humanist und Reformator, war zu dieser Zeit in Basel aktiv und spielte eine wichtige Rolle in der reformatorischen Bewegung. Die Erwähnung seiner Wohnstätte deutet auf die enge Verbindung zwischen den Reformatoren und den humanistischen Kreisen in Basel hin.</note>\n",
      "<note xml:id=\"fn4\" type=\"footnote\" n=\"4\">Myconius, ein bekannter Humanist und Reformator, war zu dieser Zeit in Basel aktiv und spielte eine wichtige Rolle in der reformatorischen Bewegung. Die Erwähnung seiner Wohnstätte deutet auf die enge Verbindung zwischen den Reformatoren und den humanistischen Kreisen in Basel hin.</note>\n",
      "<note xml:id=\"fn4\" type=\"footnote\" n=\"4\">Myconius, ein bekannter Humanist und Reformator, war zu dieser Zeit in Basel tätig und spielte eine wichtige Rolle in der reformatorischen Bewegung. Die Erwähnung seiner Wohnstätte deutet auf die enge Verbindung zwischen den Reformatoren und den humanistischen Kreisen in Basel hin.</note>\n",
      "<note xml:id=\"fn4\" type=\"footnote\" n=\"4\">Myconius, ein bekannter Humanist und Reformator, war zu dieser Zeit in Basel aktiv und spielte eine wichtige Rolle in der reformatorischen Bewegung. Die Erwähnung seiner Wohnstätte deutet auf die enge Verbindung zwischen den Reformatoren und den humanistischen Kreisen in Basel hin.</note>\n",
      "<note xml:id=\"fn4\" type=\"footnote\" n=\"4\">Myconius, ein bekannter Humanist und Reformator, war zu dieser Zeit in Basel aktiv und spielte eine wichtige Rolle in der reformatorischen Bewegung. Die Erwähnung seiner Wohnstätte deutet auf die enge Verbindung zwischen den Reformatoren und den humanistischen Kreisen in Basel hin.</note>\n",
      "<note xml:id=\"fn4\" type=\"footnote\" n=\"4\">Myconius, ein bekannter Humanist und Reformator, war zu dieser Zeit in Basel aktiv und spielte eine wichtige Rolle in der reformatorischen Bewegung. Die Erwähnung seiner Wohnstätte deutet auf die enge Verbindung zwischen den Reformatoren und den humanistischen Kreisen in Basel hin.</note>\n",
      "<note xml:id=\"fn4\" type=\"footnote\" n=\"4\">Myconius, ein bekannter Humanist und Reformator, war zu dieser Zeit in Basel aktiv und spielte eine wichtige Rolle in der reformatorischen Bewegung. Die Erwähnung seiner Wohnstätte deutet auf die enge Verbindung zwischen den Reformatoren und den humanistischen Kreisen in Basel hin.</note>\n",
      "<note xml:id=\"fn4\" type=\"footnote\" n=\"4\">Myconius, ein bekannter Humanist und Reformator, war zu dieser Zeit in Basel aktiv und spielte eine wichtige Rolle in der reformatorischen Bewegung. Die Erwähnung seiner Wohnstätte deutet auf die enge Verbindung zwischen den Reformatoren und den humanistischen Kreisen in Basel hin.</note>\n"
     ]
    }
   ],
   "source": [
    "tokens = []\n",
    "for i in range(10):\n",
    "    text, in_toks, out_toks = model.generate(instruct_prompt_no_fns(letter, 4, example_n=3))\n",
    "    tokens.append((in_toks, out_toks))\n",
    "    print(text)\n",
    "    "
   ]
  },
  {
   "cell_type": "code",
   "execution_count": 29,
   "metadata": {},
   "outputs": [
    {
     "data": {
      "text/plain": [
       "0.006931800000000001"
      ]
     },
     "execution_count": 29,
     "metadata": {},
     "output_type": "execute_result"
    }
   ],
   "source": [
    "calculate_openai_cost(tokens, (0.3,1.2))"
   ]
  },
  {
   "cell_type": "markdown",
   "metadata": {},
   "source": [
    "#### test 4\n",
    "GPT can easily handle the long letter"
   ]
  },
  {
   "cell_type": "code",
   "execution_count": 54,
   "metadata": {},
   "outputs": [],
   "source": [
    "# test letter\n",
    "letter_id = 12260\n",
    "\n",
    "\n",
    "footnote_df = pd.read_csv(\"../../data/footnote_df.csv\")\n",
    "# get the letter\n",
    "with open(f\"../../data/human/{letter_id}.xml\") as infile:\n",
    "  letter = infile.read()"
   ]
  },
  {
   "cell_type": "code",
   "execution_count": 57,
   "metadata": {},
   "outputs": [
    {
     "data": {
      "text/plain": [
       "[{'role': 'system',\n",
       "  'content': 'You are a research assistant for a historian, specialized on the European reformation working on an edition of the correspondence of Heinrich Bullinger. Given a letter in TEI format, your task is to complete the missing footnote'},\n",
       " {'role': 'user',\n",
       "  'content': 'Bitte schlage mir einen Text für Fussnote n=9 in folgendem Dokument vor:\\n\\n<TEI xmlns=\"http://www.tei-c.org/ns/1.0\" xml:id=\"file12260\" type=\"Brief\" source=\"HBBW-15\" n=\"2213\">\\n\\t<teiHeader xml:lang=\"de\">\\n\\t\\t<fileDesc>\\n\\t\\t\\t<titleStmt>\\n\\t\\t\\t\\t<title subtype=\"file\">Matthias Erb / Reichenweier an Heinrich Bullinger, 11. August [1545]</title>\\n\\t\\t\\t</titleStmt>\\n\\t\\t\\t<publicationStmt>\\n\\t\\t\\t\\t<authority>Universität Zürich</authority>\\n\\t\\t\\t\\t</publicationStmt>\\n\\t\\t\\t<sourceDesc>\\n\\t\\t\\t\\t<bibl type=\"scan\">Zürich StA</bibl>\\n\\t\\t\\t\\t</sourceDesc>\\n\\t\\t</fileDesc>\\n\\t\\t</teiHeader>\\n\\t<text xml:lang=\"la\">\\n\\t\\t<body>\\n\\t\\t\\t<div xml:id=\"div1\" corresp=\"regest1\">\\n\\t\\t\\t\\t<p>\\n\\t\\t\\t\\t\\t<s n=\"1\" xml:lang=\"la\" type=\"auto\">Gratia domini tecum.</s>\\n\\t\\t\\t\\t\\t<s n=\"2\" xml:lang=\"la\" type=\"auto\">Quum decima augusti<note xml:id=\"fn2\" type=\"footnote\" n=\"2\"></note> e suggestu descendissem me actutum a templo ad aulam conferens (vocatus scilicet a cancellario<note xml:id=\"fn3\" type=\"footnote\" n=\"3\"></note> ob quędam negotia ecclesię componenda), venit hic tuus legatus<note xml:id=\"fn4\" type=\"footnote\" n=\"4\"></note> hora ferme nona et, dum in angiportu sisto gradum, servum<note xml:id=\"fn5\" type=\"footnote\" n=\"5\"></note> ad limina de <persName ref=\"p1010\" cert=\"high\">Erbio</persName> rogat, me vero oculis ostiario significante ne proderet, statim digito demonstrat dicens: „Hic est.“</s>\\n\\t\\t\\t\\t\\t<s n=\"3\" xml:lang=\"la\" type=\"auto\">Is ergo ad me veniens percunctatur, an mihi sit nomen <persName ref=\"p1010\" cert=\"high\">Erbio</persName>.</s>\\n\\t\\t\\t\\t\\t<s n=\"4\" xml:lang=\"la\" type=\"auto\">Aio.</s>\\n\\t\\t\\t\\t\\t<s n=\"5\" xml:lang=\"la\" type=\"auto\">Statimque litteras<note xml:id=\"fn6\" type=\"footnote\" n=\"6\"></note> depromens dicebat a te missas.</s>\\n\\t\\t\\t\\t\\t<s n=\"6\" xml:lang=\"la\" type=\"auto\">Acceptas legi simul obstupescens tuam, qui alias occupatissimus es, sedulitatem in describendis ex autographo copiis<note xml:id=\"fn7\" type=\"footnote\" n=\"7\"></note>.</s>\\n\\t\\t\\t\\t\\t<s n=\"7\" xml:lang=\"la\" type=\"auto\">Stans ergo attonitus et propemodum exanimis iussi adolescentem expectare, dum redeam, atque subinde inter tractatus et varias dissidentium quęstiones et tacite et indesinenter volvo ac revolvo intime, quę scripseras.</s>\\n\\t\\t\\t\\t\\t<s n=\"8\" xml:lang=\"la\" type=\"auto\">Absolutus a strepitu aulico eo cum adolescente pransum interque epulandum de singulis rebus percunctor, statim scilicet a mensa tibi responsurus.</s>\\n\\t\\t\\t\\t\\t<s n=\"9\" xml:lang=\"la\" type=\"auto\">Dum id meditor, alius adest nuntius<note xml:id=\"fn8\" type=\"footnote\" n=\"8\"></note> litteras ferens a principe<note xml:id=\"fn9\" type=\"footnote\" n=\"9\"></note>, in quibus multa mihi committuntur negotia principemque a comitiis<note xml:id=\"fn10\" type=\"footnote\" n=\"10\"></note> propediem rediturum pollicentes.</s>\\n\\t\\t\\t\\t\\t<s n=\"10\" xml:lang=\"la\" type=\"auto\">Hinc eo die, tametsi adolescens crebro urgeret abituriens, nil scripsi omnia in posterum, hoc est in hodiernum, reiiciens diem.</s>\\n\\t\\t\\t\\t\\t<s n=\"11\" xml:lang=\"la\" type=\"auto\">Haec de pueri tui diligentia.</s>\\n\\t\\t\\t\\t</p>\\n\\t\\t\\t\\t<p>\\n\\t\\t\\t\\t\\t<s n=\"12\" xml:lang=\"la\" type=\"auto\">Quod vero ad negotium adtinet, paucis haec accipe.</s>\\n\\t\\t\\t\\t\\t<s n=\"13\" xml:lang=\"la\" type=\"auto\">Fateor me iam annum quinquagesimum egressum<note xml:id=\"fn11\" type=\"footnote\" n=\"11\"></note>, et qui nunc in ea aetate sum, quę sedatior esse cupit, sepicule curas aulicas, quibus distringor,<pb type=\"scan\" next=\"257v.\"/> depręcatum, sed parum promovisse; imo, quo plus me expedire cupio, eo amplius perstringor dispendio et vitae et rerum.</s>\\n\\t\\t\\t\\t\\t<s n=\"14\" xml:lang=\"la\" type=\"auto\">Sic deo optimo maximo visum est.</s>\\n\\t\\t\\t\\t</p>\\n\\t\\t\\t\\t<p>\\n\\t\\t\\t\\t\\t<s n=\"15\" xml:lang=\"la\" type=\"auto\">Quod ad vitam, ut omnia manifestius depingam, subit tarda senectus,<note xml:id=\"fn12\" type=\"footnote\" n=\"12\"></note> quę difficilis incipit esse, sola non suffitiens laboribus, dum indies creberrime exantlatur.</s>\\n\\t\\t\\t\\t\\t<s n=\"16\" xml:lang=\"la\" type=\"auto\">Nullum habeo symmistam, ut nosti, opinor.</s>\\n\\t\\t\\t\\t\\t<s n=\"17\" xml:lang=\"la\" type=\"auto\">Plures iussu principis vocavi; sed horrent id, quod ego quęror.</s>\\n\\t\\t\\t\\t\\t<s n=\"18\" xml:lang=\"la\" type=\"auto\">Metuunt enim sibi ab ingeniis cervinis<note xml:id=\"fn13\" type=\"footnote\" n=\"13\"></note>, nec ego quenquam nisi volentem ad me trahere volo, etc.<pb type=\"edition\" next=\"439\"/></s>\\n\\t\\t\\t\\t\\t<s n=\"19\" xml:lang=\"la\" type=\"auto\">Quod vero ad res meas adtinet, male collocat ille, quem ex nomine nosti, stipendia.</s>\\n\\t\\t\\t\\t\\t<s n=\"20\" xml:lang=\"la\" type=\"auto\">Ex patrimonio intra quinquennium<note xml:id=\"fn16\" type=\"footnote\" n=\"16\"></note> ducentos fere aureos non in meam, sed magis ecclesię necessitatem exposui, quod dies domini revelabit.</s>\\n\\t\\t\\t\\t\\t<s n=\"21\" xml:lang=\"la\" type=\"auto\">Nec quęror, optime frater, de perditis rebus, sed de Harpiis furacibus, qui recte monentes non exaudiunt et ecclesię avaritię notam inurunt; quod non adeo magni referret, nisi metuendum de excidio foret.</s>\\n\\t\\t\\t\\t\\t<s n=\"22\" xml:lang=\"la\" type=\"auto\">Quamdiu rapiendum, placet Christus; dum defecerit ecclesię fiscus, non placebit ultra Christus!</s>\\n\\t\\t\\t\\t\\t<s n=\"23\" xml:lang=\"la\" type=\"auto\">Hactenus 3 fuimus in isto oppido, ubi quisque designatum habuit<pb type=\"edition\" next=\"440\"/> stipendium.</s>\\n\\t\\t\\t\\t\\t<s n=\"24\" xml:lang=\"la\" type=\"auto\">Ego nunc solus omnibus curis pręfectus aegre a satrapis<note xml:id=\"fn18\" type=\"footnote\" n=\"18\"></note> meum recipio stipendium, et si egerem, vix triobulo sublevarent.</s>\\n\\t\\t\\t\\t\\t<s n=\"25\" xml:lang=\"la\" type=\"auto\">Sunt pręterea et alię rationes, quibus te nolo nunc gravare scribendo, etc.</s>\\n\\t\\t\\t\\t\\t<s n=\"26\" xml:lang=\"la\" type=\"auto\">Atque inter tot turbines nondum video satis iustam occasionem desertionis huius ecclesię.</s>\\n\\t\\t\\t\\t</p>\\n\\t\\t\\t\\t<p>\\n\\t\\t\\t\\t\\t<s n=\"27\" xml:lang=\"de\" type=\"auto\"><pb type=\"scan\" next=\"257a,r.\"/>Summa.</s>\\n\\t\\t\\t\\t\\t<s n=\"28\" xml:lang=\"la\" type=\"auto\">Ita haereo inter sacrum et saxum<note xml:id=\"fn19\" type=\"footnote\" n=\"19\"></note>, ut nunc sine discrimine ecclesięque Christi maxima iactura, ut facile intelligis, discedere nequeam.</s>\\n\\t\\t\\t\\t</p>\\n\\t\\t\\t\\t<p>\\n\\t\\t\\t\\t\\t<s n=\"29\" xml:lang=\"la\" type=\"auto\">Atque eę sunt potissimę rationes.</s>\\n\\t\\t\\t\\t\\t<s n=\"30\" xml:lang=\"la\" type=\"auto\">Ecclesias nostras iam a sexto anno<note xml:id=\"fn20\" type=\"footnote\" n=\"20\"></note> utcunque in ordinem, ut potuimus - quando, ut volueramus, non licuit - redegimus.</s>\\n\\t\\t\\t\\t</p>\\n\\t\\t\\t\\t<p>\\n\\t\\t\\t\\t\\t<s n=\"31\" xml:lang=\"la\" type=\"auto\">Annitendum ergo, ut cępta perficiantur.</s>\\n\\t\\t\\t\\t\\t<s n=\"32\" xml:lang=\"la\" type=\"auto\">Ad hoc ecclesia illa nobis contigua, Montbelgardiana, cum suo principe<note xml:id=\"fn21\" type=\"footnote\" n=\"21\"></note> adhuc vacillat; de qua totus liber foret perscribendus.</s>\\n\\t\\t\\t\\t\\t<s n=\"33\" xml:lang=\"la\" type=\"auto\">Pręterea scholę quattuor in isto parviusculo agro sunt constitutę et quinta in rure instituenda, stipendia quoque studiosis quibusdam ante paucos menses pollicita,<note xml:id=\"fn23\" type=\"footnote\" n=\"23\"></note> sed haec non omnia firmata et rata, proponenda etiamnum ecclesię quędam decreta, quibus ad disciplinam et sanctos mores utcunque redigantur, idque statim redeunte principe.</s>\\n\\t\\t\\t\\t\\t<s n=\"34\" xml:lang=\"la\" type=\"auto\">Illo enim absente haec omnia conscripta sunt.</s>\\n\\t\\t\\t\\t\\t<s n=\"35\" xml:lang=\"la\" type=\"auto\">Dum igitur nunc mutavero locum omnia sub cultro relinquens<note xml:id=\"fn24\" type=\"footnote\" n=\"24\"></note>, facile intelligis, quid periculi inmineat.</s>\\n\\t\\t\\t\\t\\t<s n=\"36\" xml:lang=\"la\" type=\"auto\">In primis severus princeps, a quo omnia pendent, facile vel mutaretur vel irritaretur, ut solet hoc hominum genus; id quod nimirum magis in ecclesię quam in meum incomodum cęderet.</s>\\n\\t\\t\\t\\t\\t<s n=\"37\" xml:lang=\"la\" type=\"auto\">Viden inter coelum et terram me suspensum palpitare neque posse hac ratione vel vocatione, quę tamen et sancta et iusta, liberari?</s>\\n\\t\\t\\t\\t\\t<s n=\"38\" xml:lang=\"la\" type=\"auto\">Occasio mihi expectanda comodior, quę me liberet sine ecclesię iactura.</s>\\n\\t\\t\\t\\t\\t<s n=\"39\" xml:lang=\"la\" type=\"auto\">Nam si iam abirem, ecclesia viduata absque pastore inter cunctatores et cessatores fluctuaret, etc.</s>\\n\\t\\t\\t\\t</p>\\n\\t\\t\\t\\t<p>\\n\\t\\t\\t\\t\\t<s n=\"40\" xml:lang=\"la\" type=\"auto\"><pb type=\"scan\" next=\"257a,v.\"/>Ago vero et habeo tibi gratias inmortales, humanissime Bullingere, quod admodum ingenti cura meo nomine laboraveris, atque hoc impensius te amo, quod charitatis offitium non fucate, sed dextre candideque in me collocaris, imo significaris in hac sancta vocatione.</s>\\n\\t\\t\\t\\t\\t<s n=\"41\" xml:lang=\"la\" type=\"auto\">Respondebit olim procul dubio deus optimus maximus tuis votis, quo <placeName ref=\"l1976\" cert=\"high\">Augustani</placeName> nanciscantur virum aliquem sanctum, ecclesię dignum ministrum,<note xml:id=\"fn25\" type=\"footnote\" n=\"25\"></note> atque ego etiam tuis assiduis<pb type=\"edition\" next=\"441\"/> praecibus vel liberer publica occasione vel sub onere non defitiam.</s>\\n\\t\\t\\t\\t\\t<s n=\"42\" xml:lang=\"la\" type=\"auto\">Sed te etiamnum per Iesum Christum, ne deinceps plus mihi vel tribuas, immodicus scilicet virtutum mearum, quibus penitus careo, pręco, vel magis sentias de me, quam res est.</s>\\n\\t\\t\\t\\t\\t<s n=\"43\" xml:lang=\"la\" type=\"auto\">Optime enim mihi ipsi conscius sum curtę suppellectilis,<note xml:id=\"fn26\" type=\"footnote\" n=\"26\"></note> quam tu, ni fallor, maiori atque ego, nescio quorum iuditio persuasus, aestimas.</s>\\n\\t\\t\\t\\t</p>\\n\\t\\t\\t\\t<p>\\n\\t\\t\\t\\t\\t<s n=\"44\" xml:lang=\"la\" type=\"auto\">Porro, quod nunc temporis importunitas negat, alias benignus deus, ecclesiarum verus et unicus pastor<note xml:id=\"fn27\" type=\"footnote\" n=\"27\"></note>, solita clementia sancta resarciet oportunitate.</s>\\n\\t\\t\\t\\t\\t<s n=\"45\" xml:lang=\"la\" type=\"auto\">Sancto quoque magistratui <placeName ref=\"l1976\" cert=\"high\">Augustano</placeName>, inprimis vero erudito viro domino <persName ref=\"p8354\" cert=\"high\">Georgio Leto</persName><note xml:id=\"fn28\" type=\"footnote\" n=\"28\"></note>, ingentes gratias meo nomine agas, obsecro, quod me, ineptum homuntionem,<note xml:id=\"fn29\" type=\"footnote\" n=\"29\"></note> adeo egregia dignati sint vocatione.</s>\\n\\t\\t\\t\\t\\t<s n=\"46\" xml:lang=\"la\" type=\"auto\">Ego quoque deinceps eius ecclesię maiorem habebo - si potis fuero - ubique rationem, optoque illis stabilem pacem et concordiam talesque antistites, qui pietate, eruditione, prudentia, vigilantia et fidelitate ita pręmineant, quo Christus in ea republica ita mittat radices, ut nullis satanę et impiorum imposturis deiiciatur.</s>\\n\\t\\t\\t\\t\\t<s n=\"47\" xml:lang=\"la\" type=\"auto\">Monebis ergo illos, ne me deinceps expectent; ignoro enim meam liberationem.</s>\\n\\t\\t\\t\\t\\t<s n=\"48\" xml:lang=\"la\" type=\"auto\">Servet te Christus.</s>\\n\\t\\t\\t\\t</p>\\n\\t\\t\\t\\t<p>\\n\\t\\t\\t\\t\\t<note type=\"attachment\">[Beilage:]</note>\\n\\t\\t\\t\\t\\t<s n=\"49\" xml:lang=\"la\" type=\"auto\"><pb type=\"scan\" next=\"258r.\"/>Nova: Absolutionem conmitiorum<note xml:id=\"fn30\" type=\"footnote\" n=\"30\"></note> non ignoras, in quibus nil certi definitum, nisi quod istis hybernis mensibus adversarii nobis pacem condixerunt; futura aestate nobis providendum erit<note xml:id=\"fn31\" type=\"footnote\" n=\"31\"></note>.</s>\\n\\t\\t\\t\\t\\t<s n=\"50\" xml:lang=\"la\" type=\"auto\">Acta comitiorum nondum sunt publicata.</s>\\n\\t\\t\\t\\t\\t<s n=\"51\" xml:lang=\"la\" type=\"auto\">Aiunt quidam caesari<note xml:id=\"fn33\" type=\"footnote\" n=\"33\"></note> omnia esse commissa, ut dicat sententiam etiam in religionis negotio certis tamen conditionibus; quodsi verum fuerit, ovem dicemus lupo<note xml:id=\"fn34\" type=\"footnote\" n=\"34\"></note> commissam.</s>\\n\\t\\t\\t\\t</p>\\n\\t\\t\\t\\t<p>\\n\\t\\t\\t\\t\\t<s n=\"52\" xml:lang=\"la\" type=\"auto\"><persName ref=\"p18477\" cert=\"high\">Ferdinandus</persName> priori septimana<note xml:id=\"fn35\" type=\"footnote\" n=\"35\"></note> a comitiis magno strepitu solvens Bohemiam petit cum <persName ref=\"p7688\" cert=\"high\">Nausea</persName><note xml:id=\"fn36\" type=\"footnote\" n=\"36\"></note> suo et quibusdam monachis.</s>\\n\\t\\t\\t\\t\\t<s n=\"53\" xml:lang=\"la\" type=\"auto\">Sequenti septimana<pb type=\"edition\" next=\"442\"/> caesar abiturus est, sed quo, ignoratur<note xml:id=\"fn37\" type=\"footnote\" n=\"37\"></note>.</s>\\n\\t\\t\\t\\t\\t<s n=\"54\" xml:lang=\"la\" type=\"auto\">Erant alia dicta comitia ad <placeName ref=\"l410\" cert=\"high\">Reginospurgum</placeName> ad mensem octobrem,<note xml:id=\"fn38\" type=\"footnote\" n=\"38\"></note>, sed aiunt quidam irritata<note xml:id=\"fn39\" type=\"footnote\" n=\"39\"></note>, etc.</s>\\n\\t\\t\\t\\t</p>\\n\\t\\t\\t\\t<p>\\n\\t\\t\\t\\t\\t<s n=\"55\" xml:lang=\"la\" type=\"auto\">Urgent plures nacionale concilium, idque <placeName ref=\"322\" type=\"auto_name\">Metis</placeName><note xml:id=\"fn40\" type=\"footnote\" n=\"40\"></note> celebrari postulant.</s>\\n\\t\\t\\t\\t\\t<s n=\"56\" xml:lang=\"la\" type=\"auto\">Musher<note xml:id=\"fn41\" type=\"footnote\" n=\"41\"></note> de Gyß<note xml:id=\"fn42\" type=\"footnote\" n=\"42\"></note>, defuncti ducis Lotharingię frater<note xml:id=\"fn43\" type=\"footnote\" n=\"43\"></note>, patruum suum conscripto milite et auxilio regis<note xml:id=\"fn45\" type=\"footnote\" n=\"45\"></note> Gallorum conatur e ducatu pellere.</s>\\n\\t\\t\\t\\t\\t<s n=\"57\" xml:lang=\"la\" type=\"auto\"><persName ref=\"p18538\" cert=\"high\">Caesar</persName> vero iuniori<note xml:id=\"fn46\" type=\"footnote\" n=\"46\"></note>, qui patri<note xml:id=\"fn47\" type=\"footnote\" n=\"47\"></note> successit, subsidium et <placeName ref=\"l29\" cert=\"high\">Hispanum</placeName> militem pollicitus est.</s>\\n\\t\\t\\t\\t\\t<s n=\"58\" xml:lang=\"la\" type=\"auto\">Quodsi res non fuerit composita, putant novum bellum inter caesarem et Gallum oriturum.</s>\\n\\t\\t\\t\\t\\t<s n=\"59\" xml:lang=\"la\" type=\"auto\">Feruntur alia quedam nova, sed forte non fide digna: mundus mendatiis scatet<note xml:id=\"fn48\" type=\"footnote\" n=\"48\"></note>.</s>\\n\\t\\t\\t\\t\\t<s n=\"60\" xml:lang=\"la\" type=\"auto\">Haec omnia raptim.</s>\\n\\t\\t\\t\\t</p>\\n\\t\\t\\t\\t<p>\\n\\t\\t\\t\\t\\t<s n=\"61\" xml:lang=\"la\" type=\"auto\">Valebis igitur, vir humanissime, cum ecclesia sancta et familia.</s>\\n\\t\\t\\t\\t\\t<s n=\"62\" xml:lang=\"la\" type=\"auto\">Salutabis vicissim tuos, in primis meum <persName ref=\"p8412\" cert=\"high\">Megandrum</persName>, <persName ref=\"p8437\" cert=\"high\">Erasmum</persName>,<note xml:id=\"fn49\" type=\"footnote\" n=\"49\"></note> <persName ref=\"p8127\" cert=\"high\">Pellicanum</persName>, <persName ref=\"p8011\" cert=\"high\">Gvaltherum</persName> ac reliquos.</s>\\n\\t\\t\\t\\t</p>\\n\\t\\t\\t\\t<p>\\n\\t\\t\\t\\t\\t<s n=\"63\" xml:lang=\"la\" type=\"auto\">Ex aedibus meis, 11. die augusti.</s>\\n\\t\\t\\t\\t</p>\\n\\t\\t\\t\\t<p>\\n\\t\\t\\t\\t\\t<s n=\"64\" xml:lang=\"la\" type=\"auto\">Tuus <persName ref=\"p1010\" cert=\"high\">Matthias<lb/> Erbius</persName>.</s>\\n\\t\\t\\t\\t</p>\\n\\t\\t\\t\\t<p>\\n\\t\\t\\t\\t\\t<note type=\"address\">[Adresse auf der Rückseite:]</note>\\n\\t\\t\\t\\t\\t<s n=\"65\" xml:lang=\"la\" type=\"auto\">Vere erudito pioque domino Henrycho Bullingero, ecclesię Tigurinae vigilanti ministro, suo patrono singulari, etc.</s>\\n\\t\\t\\t\\t</p>\\n\\t\\t\\t</div>\\n\\t\\t</body>\\n\\t</text>\\n</TEI>\\n'},\n",
       " {'role': 'assistant',\n",
       "  'content': '<persName ref=\"p8098\" cert=\"high\">Graf Georg von Württemberg-Mömpelgard</persName>, der sich laut Z. 16 damals in <placeName ref=\"l569\" cert=\"high\">Worms</placeName> aufhielt. Seine Teilnahme am <placeName ref=\"l569\" cert=\"high\">Wormser</placeName> Reichstag ist in RTA JR XVIII-2 nicht belegt.'},\n",
       " {'role': 'user',\n",
       "  'content': 'Bitte schlage mir einen Text für Fussnote n=10 in folgendem Dokument vor:\\n\\n<TEI xmlns=\"http://www.tei-c.org/ns/1.0\" xml:id=\"file12260\" type=\"Brief\" source=\"HBBW-15\" n=\"2213\">\\n\\t<teiHeader xml:lang=\"de\">\\n\\t\\t<fileDesc>\\n\\t\\t\\t<titleStmt>\\n\\t\\t\\t\\t<title subtype=\"file\">Matthias Erb / Reichenweier an Heinrich Bullinger, 11. August [1545]</title>\\n\\t\\t\\t</titleStmt>\\n\\t\\t\\t<publicationStmt>\\n\\t\\t\\t\\t<authority>Universität Zürich</authority>\\n\\t\\t\\t\\t</publicationStmt>\\n\\t\\t\\t<sourceDesc>\\n\\t\\t\\t\\t<bibl type=\"scan\">Zürich StA</bibl>\\n\\t\\t\\t\\t</sourceDesc>\\n\\t\\t</fileDesc>\\n\\t\\t</teiHeader>\\n\\t<text xml:lang=\"la\">\\n\\t\\t<body>\\n\\t\\t\\t<div xml:id=\"div1\" corresp=\"regest1\">\\n\\t\\t\\t\\t<p>\\n\\t\\t\\t\\t\\t<s n=\"1\" xml:lang=\"la\" type=\"auto\">Gratia domini tecum.</s>\\n\\t\\t\\t\\t\\t<s n=\"2\" xml:lang=\"la\" type=\"auto\">Quum decima augusti<note xml:id=\"fn2\" type=\"footnote\" n=\"2\"></note> e suggestu descendissem me actutum a templo ad aulam conferens (vocatus scilicet a cancellario<note xml:id=\"fn3\" type=\"footnote\" n=\"3\"></note> ob quędam negotia ecclesię componenda), venit hic tuus legatus<note xml:id=\"fn4\" type=\"footnote\" n=\"4\"></note> hora ferme nona et, dum in angiportu sisto gradum, servum<note xml:id=\"fn5\" type=\"footnote\" n=\"5\"></note> ad limina de <persName ref=\"p1010\" cert=\"high\">Erbio</persName> rogat, me vero oculis ostiario significante ne proderet, statim digito demonstrat dicens: „Hic est.“</s>\\n\\t\\t\\t\\t\\t<s n=\"3\" xml:lang=\"la\" type=\"auto\">Is ergo ad me veniens percunctatur, an mihi sit nomen <persName ref=\"p1010\" cert=\"high\">Erbio</persName>.</s>\\n\\t\\t\\t\\t\\t<s n=\"4\" xml:lang=\"la\" type=\"auto\">Aio.</s>\\n\\t\\t\\t\\t\\t<s n=\"5\" xml:lang=\"la\" type=\"auto\">Statimque litteras<note xml:id=\"fn6\" type=\"footnote\" n=\"6\"></note> depromens dicebat a te missas.</s>\\n\\t\\t\\t\\t\\t<s n=\"6\" xml:lang=\"la\" type=\"auto\">Acceptas legi simul obstupescens tuam, qui alias occupatissimus es, sedulitatem in describendis ex autographo copiis<note xml:id=\"fn7\" type=\"footnote\" n=\"7\"></note>.</s>\\n\\t\\t\\t\\t\\t<s n=\"7\" xml:lang=\"la\" type=\"auto\">Stans ergo attonitus et propemodum exanimis iussi adolescentem expectare, dum redeam, atque subinde inter tractatus et varias dissidentium quęstiones et tacite et indesinenter volvo ac revolvo intime, quę scripseras.</s>\\n\\t\\t\\t\\t\\t<s n=\"8\" xml:lang=\"la\" type=\"auto\">Absolutus a strepitu aulico eo cum adolescente pransum interque epulandum de singulis rebus percunctor, statim scilicet a mensa tibi responsurus.</s>\\n\\t\\t\\t\\t\\t<s n=\"9\" xml:lang=\"la\" type=\"auto\">Dum id meditor, alius adest nuntius<note xml:id=\"fn8\" type=\"footnote\" n=\"8\"></note> litteras ferens a principe<note xml:id=\"fn9\" type=\"footnote\" n=\"9\"></note>, in quibus multa mihi committuntur negotia principemque a comitiis<note xml:id=\"fn10\" type=\"footnote\" n=\"10\"></note> propediem rediturum pollicentes.</s>\\n\\t\\t\\t\\t\\t<s n=\"10\" xml:lang=\"la\" type=\"auto\">Hinc eo die, tametsi adolescens crebro urgeret abituriens, nil scripsi omnia in posterum, hoc est in hodiernum, reiiciens diem.</s>\\n\\t\\t\\t\\t\\t<s n=\"11\" xml:lang=\"la\" type=\"auto\">Haec de pueri tui diligentia.</s>\\n\\t\\t\\t\\t</p>\\n\\t\\t\\t\\t<p>\\n\\t\\t\\t\\t\\t<s n=\"12\" xml:lang=\"la\" type=\"auto\">Quod vero ad negotium adtinet, paucis haec accipe.</s>\\n\\t\\t\\t\\t\\t<s n=\"13\" xml:lang=\"la\" type=\"auto\">Fateor me iam annum quinquagesimum egressum<note xml:id=\"fn11\" type=\"footnote\" n=\"11\"></note>, et qui nunc in ea aetate sum, quę sedatior esse cupit, sepicule curas aulicas, quibus distringor,<pb type=\"scan\" next=\"257v.\"/> depręcatum, sed parum promovisse; imo, quo plus me expedire cupio, eo amplius perstringor dispendio et vitae et rerum.</s>\\n\\t\\t\\t\\t\\t<s n=\"14\" xml:lang=\"la\" type=\"auto\">Sic deo optimo maximo visum est.</s>\\n\\t\\t\\t\\t</p>\\n\\t\\t\\t\\t<p>\\n\\t\\t\\t\\t\\t<s n=\"15\" xml:lang=\"la\" type=\"auto\">Quod ad vitam, ut omnia manifestius depingam, subit tarda senectus,<note xml:id=\"fn12\" type=\"footnote\" n=\"12\"></note> quę difficilis incipit esse, sola non suffitiens laboribus, dum indies creberrime exantlatur.</s>\\n\\t\\t\\t\\t\\t<s n=\"16\" xml:lang=\"la\" type=\"auto\">Nullum habeo symmistam, ut nosti, opinor.</s>\\n\\t\\t\\t\\t\\t<s n=\"17\" xml:lang=\"la\" type=\"auto\">Plures iussu principis vocavi; sed horrent id, quod ego quęror.</s>\\n\\t\\t\\t\\t\\t<s n=\"18\" xml:lang=\"la\" type=\"auto\">Metuunt enim sibi ab ingeniis cervinis<note xml:id=\"fn13\" type=\"footnote\" n=\"13\"></note>, nec ego quenquam nisi volentem ad me trahere volo, etc.<pb type=\"edition\" next=\"439\"/></s>\\n\\t\\t\\t\\t\\t<s n=\"19\" xml:lang=\"la\" type=\"auto\">Quod vero ad res meas adtinet, male collocat ille, quem ex nomine nosti, stipendia.</s>\\n\\t\\t\\t\\t\\t<s n=\"20\" xml:lang=\"la\" type=\"auto\">Ex patrimonio intra quinquennium<note xml:id=\"fn16\" type=\"footnote\" n=\"16\"></note> ducentos fere aureos non in meam, sed magis ecclesię necessitatem exposui, quod dies domini revelabit.</s>\\n\\t\\t\\t\\t\\t<s n=\"21\" xml:lang=\"la\" type=\"auto\">Nec quęror, optime frater, de perditis rebus, sed de Harpiis furacibus, qui recte monentes non exaudiunt et ecclesię avaritię notam inurunt; quod non adeo magni referret, nisi metuendum de excidio foret.</s>\\n\\t\\t\\t\\t\\t<s n=\"22\" xml:lang=\"la\" type=\"auto\">Quamdiu rapiendum, placet Christus; dum defecerit ecclesię fiscus, non placebit ultra Christus!</s>\\n\\t\\t\\t\\t\\t<s n=\"23\" xml:lang=\"la\" type=\"auto\">Hactenus 3 fuimus in isto oppido, ubi quisque designatum habuit<pb type=\"edition\" next=\"440\"/> stipendium.</s>\\n\\t\\t\\t\\t\\t<s n=\"24\" xml:lang=\"la\" type=\"auto\">Ego nunc solus omnibus curis pręfectus aegre a satrapis<note xml:id=\"fn18\" type=\"footnote\" n=\"18\"></note> meum recipio stipendium, et si egerem, vix triobulo sublevarent.</s>\\n\\t\\t\\t\\t\\t<s n=\"25\" xml:lang=\"la\" type=\"auto\">Sunt pręterea et alię rationes, quibus te nolo nunc gravare scribendo, etc.</s>\\n\\t\\t\\t\\t\\t<s n=\"26\" xml:lang=\"la\" type=\"auto\">Atque inter tot turbines nondum video satis iustam occasionem desertionis huius ecclesię.</s>\\n\\t\\t\\t\\t</p>\\n\\t\\t\\t\\t<p>\\n\\t\\t\\t\\t\\t<s n=\"27\" xml:lang=\"de\" type=\"auto\"><pb type=\"scan\" next=\"257a,r.\"/>Summa.</s>\\n\\t\\t\\t\\t\\t<s n=\"28\" xml:lang=\"la\" type=\"auto\">Ita haereo inter sacrum et saxum<note xml:id=\"fn19\" type=\"footnote\" n=\"19\"></note>, ut nunc sine discrimine ecclesięque Christi maxima iactura, ut facile intelligis, discedere nequeam.</s>\\n\\t\\t\\t\\t</p>\\n\\t\\t\\t\\t<p>\\n\\t\\t\\t\\t\\t<s n=\"29\" xml:lang=\"la\" type=\"auto\">Atque eę sunt potissimę rationes.</s>\\n\\t\\t\\t\\t\\t<s n=\"30\" xml:lang=\"la\" type=\"auto\">Ecclesias nostras iam a sexto anno<note xml:id=\"fn20\" type=\"footnote\" n=\"20\"></note> utcunque in ordinem, ut potuimus - quando, ut volueramus, non licuit - redegimus.</s>\\n\\t\\t\\t\\t</p>\\n\\t\\t\\t\\t<p>\\n\\t\\t\\t\\t\\t<s n=\"31\" xml:lang=\"la\" type=\"auto\">Annitendum ergo, ut cępta perficiantur.</s>\\n\\t\\t\\t\\t\\t<s n=\"32\" xml:lang=\"la\" type=\"auto\">Ad hoc ecclesia illa nobis contigua, Montbelgardiana, cum suo principe<note xml:id=\"fn21\" type=\"footnote\" n=\"21\"></note> adhuc vacillat; de qua totus liber foret perscribendus.</s>\\n\\t\\t\\t\\t\\t<s n=\"33\" xml:lang=\"la\" type=\"auto\">Pręterea scholę quattuor in isto parviusculo agro sunt constitutę et quinta in rure instituenda, stipendia quoque studiosis quibusdam ante paucos menses pollicita,<note xml:id=\"fn23\" type=\"footnote\" n=\"23\"></note> sed haec non omnia firmata et rata, proponenda etiamnum ecclesię quędam decreta, quibus ad disciplinam et sanctos mores utcunque redigantur, idque statim redeunte principe.</s>\\n\\t\\t\\t\\t\\t<s n=\"34\" xml:lang=\"la\" type=\"auto\">Illo enim absente haec omnia conscripta sunt.</s>\\n\\t\\t\\t\\t\\t<s n=\"35\" xml:lang=\"la\" type=\"auto\">Dum igitur nunc mutavero locum omnia sub cultro relinquens<note xml:id=\"fn24\" type=\"footnote\" n=\"24\"></note>, facile intelligis, quid periculi inmineat.</s>\\n\\t\\t\\t\\t\\t<s n=\"36\" xml:lang=\"la\" type=\"auto\">In primis severus princeps, a quo omnia pendent, facile vel mutaretur vel irritaretur, ut solet hoc hominum genus; id quod nimirum magis in ecclesię quam in meum incomodum cęderet.</s>\\n\\t\\t\\t\\t\\t<s n=\"37\" xml:lang=\"la\" type=\"auto\">Viden inter coelum et terram me suspensum palpitare neque posse hac ratione vel vocatione, quę tamen et sancta et iusta, liberari?</s>\\n\\t\\t\\t\\t\\t<s n=\"38\" xml:lang=\"la\" type=\"auto\">Occasio mihi expectanda comodior, quę me liberet sine ecclesię iactura.</s>\\n\\t\\t\\t\\t\\t<s n=\"39\" xml:lang=\"la\" type=\"auto\">Nam si iam abirem, ecclesia viduata absque pastore inter cunctatores et cessatores fluctuaret, etc.</s>\\n\\t\\t\\t\\t</p>\\n\\t\\t\\t\\t<p>\\n\\t\\t\\t\\t\\t<s n=\"40\" xml:lang=\"la\" type=\"auto\"><pb type=\"scan\" next=\"257a,v.\"/>Ago vero et habeo tibi gratias inmortales, humanissime Bullingere, quod admodum ingenti cura meo nomine laboraveris, atque hoc impensius te amo, quod charitatis offitium non fucate, sed dextre candideque in me collocaris, imo significaris in hac sancta vocatione.</s>\\n\\t\\t\\t\\t\\t<s n=\"41\" xml:lang=\"la\" type=\"auto\">Respondebit olim procul dubio deus optimus maximus tuis votis, quo <placeName ref=\"l1976\" cert=\"high\">Augustani</placeName> nanciscantur virum aliquem sanctum, ecclesię dignum ministrum,<note xml:id=\"fn25\" type=\"footnote\" n=\"25\"></note> atque ego etiam tuis assiduis<pb type=\"edition\" next=\"441\"/> praecibus vel liberer publica occasione vel sub onere non defitiam.</s>\\n\\t\\t\\t\\t\\t<s n=\"42\" xml:lang=\"la\" type=\"auto\">Sed te etiamnum per Iesum Christum, ne deinceps plus mihi vel tribuas, immodicus scilicet virtutum mearum, quibus penitus careo, pręco, vel magis sentias de me, quam res est.</s>\\n\\t\\t\\t\\t\\t<s n=\"43\" xml:lang=\"la\" type=\"auto\">Optime enim mihi ipsi conscius sum curtę suppellectilis,<note xml:id=\"fn26\" type=\"footnote\" n=\"26\"></note> quam tu, ni fallor, maiori atque ego, nescio quorum iuditio persuasus, aestimas.</s>\\n\\t\\t\\t\\t</p>\\n\\t\\t\\t\\t<p>\\n\\t\\t\\t\\t\\t<s n=\"44\" xml:lang=\"la\" type=\"auto\">Porro, quod nunc temporis importunitas negat, alias benignus deus, ecclesiarum verus et unicus pastor<note xml:id=\"fn27\" type=\"footnote\" n=\"27\"></note>, solita clementia sancta resarciet oportunitate.</s>\\n\\t\\t\\t\\t\\t<s n=\"45\" xml:lang=\"la\" type=\"auto\">Sancto quoque magistratui <placeName ref=\"l1976\" cert=\"high\">Augustano</placeName>, inprimis vero erudito viro domino <persName ref=\"p8354\" cert=\"high\">Georgio Leto</persName><note xml:id=\"fn28\" type=\"footnote\" n=\"28\"></note>, ingentes gratias meo nomine agas, obsecro, quod me, ineptum homuntionem,<note xml:id=\"fn29\" type=\"footnote\" n=\"29\"></note> adeo egregia dignati sint vocatione.</s>\\n\\t\\t\\t\\t\\t<s n=\"46\" xml:lang=\"la\" type=\"auto\">Ego quoque deinceps eius ecclesię maiorem habebo - si potis fuero - ubique rationem, optoque illis stabilem pacem et concordiam talesque antistites, qui pietate, eruditione, prudentia, vigilantia et fidelitate ita pręmineant, quo Christus in ea republica ita mittat radices, ut nullis satanę et impiorum imposturis deiiciatur.</s>\\n\\t\\t\\t\\t\\t<s n=\"47\" xml:lang=\"la\" type=\"auto\">Monebis ergo illos, ne me deinceps expectent; ignoro enim meam liberationem.</s>\\n\\t\\t\\t\\t\\t<s n=\"48\" xml:lang=\"la\" type=\"auto\">Servet te Christus.</s>\\n\\t\\t\\t\\t</p>\\n\\t\\t\\t\\t<p>\\n\\t\\t\\t\\t\\t<note type=\"attachment\">[Beilage:]</note>\\n\\t\\t\\t\\t\\t<s n=\"49\" xml:lang=\"la\" type=\"auto\"><pb type=\"scan\" next=\"258r.\"/>Nova: Absolutionem conmitiorum<note xml:id=\"fn30\" type=\"footnote\" n=\"30\"></note> non ignoras, in quibus nil certi definitum, nisi quod istis hybernis mensibus adversarii nobis pacem condixerunt; futura aestate nobis providendum erit<note xml:id=\"fn31\" type=\"footnote\" n=\"31\"></note>.</s>\\n\\t\\t\\t\\t\\t<s n=\"50\" xml:lang=\"la\" type=\"auto\">Acta comitiorum nondum sunt publicata.</s>\\n\\t\\t\\t\\t\\t<s n=\"51\" xml:lang=\"la\" type=\"auto\">Aiunt quidam caesari<note xml:id=\"fn33\" type=\"footnote\" n=\"33\"></note> omnia esse commissa, ut dicat sententiam etiam in religionis negotio certis tamen conditionibus; quodsi verum fuerit, ovem dicemus lupo<note xml:id=\"fn34\" type=\"footnote\" n=\"34\"></note> commissam.</s>\\n\\t\\t\\t\\t</p>\\n\\t\\t\\t\\t<p>\\n\\t\\t\\t\\t\\t<s n=\"52\" xml:lang=\"la\" type=\"auto\"><persName ref=\"p18477\" cert=\"high\">Ferdinandus</persName> priori septimana<note xml:id=\"fn35\" type=\"footnote\" n=\"35\"></note> a comitiis magno strepitu solvens Bohemiam petit cum <persName ref=\"p7688\" cert=\"high\">Nausea</persName><note xml:id=\"fn36\" type=\"footnote\" n=\"36\"></note> suo et quibusdam monachis.</s>\\n\\t\\t\\t\\t\\t<s n=\"53\" xml:lang=\"la\" type=\"auto\">Sequenti septimana<pb type=\"edition\" next=\"442\"/> caesar abiturus est, sed quo, ignoratur<note xml:id=\"fn37\" type=\"footnote\" n=\"37\"></note>.</s>\\n\\t\\t\\t\\t\\t<s n=\"54\" xml:lang=\"la\" type=\"auto\">Erant alia dicta comitia ad <placeName ref=\"l410\" cert=\"high\">Reginospurgum</placeName> ad mensem octobrem,<note xml:id=\"fn38\" type=\"footnote\" n=\"38\"></note>, sed aiunt quidam irritata<note xml:id=\"fn39\" type=\"footnote\" n=\"39\"></note>, etc.</s>\\n\\t\\t\\t\\t</p>\\n\\t\\t\\t\\t<p>\\n\\t\\t\\t\\t\\t<s n=\"55\" xml:lang=\"la\" type=\"auto\">Urgent plures nacionale concilium, idque <placeName ref=\"322\" type=\"auto_name\">Metis</placeName><note xml:id=\"fn40\" type=\"footnote\" n=\"40\"></note> celebrari postulant.</s>\\n\\t\\t\\t\\t\\t<s n=\"56\" xml:lang=\"la\" type=\"auto\">Musher<note xml:id=\"fn41\" type=\"footnote\" n=\"41\"></note> de Gyß<note xml:id=\"fn42\" type=\"footnote\" n=\"42\"></note>, defuncti ducis Lotharingię frater<note xml:id=\"fn43\" type=\"footnote\" n=\"43\"></note>, patruum suum conscripto milite et auxilio regis<note xml:id=\"fn45\" type=\"footnote\" n=\"45\"></note> Gallorum conatur e ducatu pellere.</s>\\n\\t\\t\\t\\t\\t<s n=\"57\" xml:lang=\"la\" type=\"auto\"><persName ref=\"p18538\" cert=\"high\">Caesar</persName> vero iuniori<note xml:id=\"fn46\" type=\"footnote\" n=\"46\"></note>, qui patri<note xml:id=\"fn47\" type=\"footnote\" n=\"47\"></note> successit, subsidium et <placeName ref=\"l29\" cert=\"high\">Hispanum</placeName> militem pollicitus est.</s>\\n\\t\\t\\t\\t\\t<s n=\"58\" xml:lang=\"la\" type=\"auto\">Quodsi res non fuerit composita, putant novum bellum inter caesarem et Gallum oriturum.</s>\\n\\t\\t\\t\\t\\t<s n=\"59\" xml:lang=\"la\" type=\"auto\">Feruntur alia quedam nova, sed forte non fide digna: mundus mendatiis scatet<note xml:id=\"fn48\" type=\"footnote\" n=\"48\"></note>.</s>\\n\\t\\t\\t\\t\\t<s n=\"60\" xml:lang=\"la\" type=\"auto\">Haec omnia raptim.</s>\\n\\t\\t\\t\\t</p>\\n\\t\\t\\t\\t<p>\\n\\t\\t\\t\\t\\t<s n=\"61\" xml:lang=\"la\" type=\"auto\">Valebis igitur, vir humanissime, cum ecclesia sancta et familia.</s>\\n\\t\\t\\t\\t\\t<s n=\"62\" xml:lang=\"la\" type=\"auto\">Salutabis vicissim tuos, in primis meum <persName ref=\"p8412\" cert=\"high\">Megandrum</persName>, <persName ref=\"p8437\" cert=\"high\">Erasmum</persName>,<note xml:id=\"fn49\" type=\"footnote\" n=\"49\"></note> <persName ref=\"p8127\" cert=\"high\">Pellicanum</persName>, <persName ref=\"p8011\" cert=\"high\">Gvaltherum</persName> ac reliquos.</s>\\n\\t\\t\\t\\t</p>\\n\\t\\t\\t\\t<p>\\n\\t\\t\\t\\t\\t<s n=\"63\" xml:lang=\"la\" type=\"auto\">Ex aedibus meis, 11. die augusti.</s>\\n\\t\\t\\t\\t</p>\\n\\t\\t\\t\\t<p>\\n\\t\\t\\t\\t\\t<s n=\"64\" xml:lang=\"la\" type=\"auto\">Tuus <persName ref=\"p1010\" cert=\"high\">Matthias<lb/> Erbius</persName>.</s>\\n\\t\\t\\t\\t</p>\\n\\t\\t\\t\\t<p>\\n\\t\\t\\t\\t\\t<note type=\"address\">[Adresse auf der Rückseite:]</note>\\n\\t\\t\\t\\t\\t<s n=\"65\" xml:lang=\"la\" type=\"auto\">Vere erudito pioque domino Henrycho Bullingero, ecclesię Tigurinae vigilanti ministro, suo patrono singulari, etc.</s>\\n\\t\\t\\t\\t</p>\\n\\t\\t\\t</div>\\n\\t\\t</body>\\n\\t</text>\\n</TEI>\\n'}]"
      ]
     },
     "execution_count": 57,
     "metadata": {},
     "output_type": "execute_result"
    }
   ],
   "source": [
    "instruct_prompt_no_fns(letter, 10, example_n=9)"
   ]
  },
  {
   "cell_type": "markdown",
   "metadata": {},
   "source": [
    "It just repeats the suggested one, though. Maybe with another example?"
   ]
  },
  {
   "cell_type": "code",
   "execution_count": 55,
   "metadata": {},
   "outputs": [
    {
     "name": "stdout",
     "output_type": "stream",
     "text": [
      "<persName ref=\"p8098\" cert=\"high\">Graf Georg von Württemberg-Mömpelgard</persName>, der sich laut Z. 16 damals in <placeName ref=\"l569\" cert=\"high\">Worms</placeName> aufhielt. Seine Teilnahme am <placeName ref=\"l569\" cert=\"high\">Wormser</placeName> Reichstag ist in RTA JR XVIII-2 nicht belegt.\n",
      "<persName ref=\"p8098\" cert=\"high\">Graf Georg von Württemberg-Mömpelgard</persName>, der sich laut Z. 16 damals in <placeName ref=\"l569\" cert=\"high\">Worms</placeName> aufhielt. Seine Teilnahme am <placeName ref=\"l569\" cert=\"high\">Wormser</placeName> Reichstag ist in RTA JR XVIII-2 nicht belegt.\n",
      "<persName ref=\"p8098\" cert=\"high\">Graf Georg von Württemberg-Mömpelgard</persName>, der sich laut Z. 16 damals in <placeName ref=\"l569\" cert=\"high\">Worms</placeName> aufhielt. Seine Teilnahme am <placeName ref=\"l569\" cert=\"high\">Wormser</placeName> Reichstag ist in RTA JR XVIII-2 nicht belegt.\n",
      "<persName ref=\"p8098\" cert=\"high\">Graf Georg von Württemberg-Mömpelgard</persName>, der sich laut Z. 16 damals in <placeName ref=\"l569\" cert=\"high\">Worms</placeName> aufhielt. Seine Teilnahme am <placeName ref=\"l569\" cert=\"high\">Wormser</placeName> Reichstag ist in RTA JR XVIII-2 nicht belegt.\n",
      "<persName ref=\"p8098\" cert=\"high\">Graf Georg von Württemberg-Mömpelgard</persName>, der sich laut Z. 16 damals in <placeName ref=\"l569\" cert=\"high\">Worms</placeName> aufhielt. Seine Teilnahme am <placeName ref=\"l569\" cert=\"high\">Wormser</placeName> Reichstag ist in RTA JR XVIII-2 nicht belegt.\n",
      "<persName ref=\"p8098\" cert=\"high\">Graf Georg von Württemberg-Mömpelgard</persName>, der sich laut Z. 16 damals in <placeName ref=\"l569\" cert=\"high\">Worms</placeName> aufhielt. Seine Teilnahme am <placeName ref=\"l569\" cert=\"high\">Wormser</placeName> Reichstag ist in RTA JR XVIII-2 nicht belegt.\n",
      "<persName ref=\"p8098\" cert=\"high\">Graf Georg von Württemberg-Mömpelgard</persName>, der sich laut Z. 16 damals in <placeName ref=\"l569\" cert=\"high\">Worms</placeName> aufhielt. Seine Teilnahme am <placeName ref=\"l569\" cert=\"high\">Wormser</placeName> Reichstag ist in RTA JR XVIII-2 nicht belegt.\n",
      "<persName ref=\"p8098\" cert=\"high\">Graf Georg von Württemberg-Mömpelgard</persName>, der sich laut Z. 16 damals in <placeName ref=\"l569\" cert=\"high\">Worms</placeName> aufhielt. Seine Teilnahme am <placeName ref=\"l569\" cert=\"high\">Wormser</placeName> Reichstag ist in RTA JR XVIII-2 nicht belegt.\n",
      "<persName ref=\"p8098\" cert=\"high\">Graf Georg von Württemberg-Mömpelgard</persName>, der sich laut Z. 16 damals in <placeName ref=\"l569\" cert=\"high\">Worms</placeName> aufhielt. Seine Teilnahme am <placeName ref=\"l569\" cert=\"high\">Wormser</placeName> Reichstag ist in RTA JR XVIII-2 nicht belegt.\n",
      "<persName ref=\"p8098\" cert=\"high\">Graf Georg von Württemberg-Mömpelgard</persName>, der sich laut Z. 16 damals in <placeName ref=\"l569\" cert=\"high\">Worms</placeName> aufhielt. Seine Teilnahme am <placeName ref=\"l569\" cert=\"high\">Wormser</placeName> Reichstag ist in RTA JR XVIII-2 nicht belegt.\n"
     ]
    }
   ],
   "source": [
    "tokens = []\n",
    "for i in range(10):\n",
    "    text, in_toks, out_toks = model.generate(instruct_prompt_no_fns(letter, 10, example_n=9))\n",
    "    tokens.append((in_toks, out_toks))\n",
    "    print(text)"
   ]
  },
  {
   "cell_type": "code",
   "execution_count": 56,
   "metadata": {},
   "outputs": [
    {
     "data": {
      "text/plain": [
       "0.32058"
      ]
     },
     "execution_count": 56,
     "metadata": {},
     "output_type": "execute_result"
    }
   ],
   "source": [
    "calculate_openai_cost(tokens, (3,6))"
   ]
  },
  {
   "cell_type": "code",
   "execution_count": 58,
   "metadata": {},
   "outputs": [
    {
     "name": "stdout",
     "output_type": "stream",
     "text": [
      "<persName ref=\"p8127\" cert=\"high\">Pellicanum</persName> ist eine Abkürzung für den Theologen Konrad Pellikan (1478-1556), der als Reformator und Bibelübersetzer bekannt ist.\n",
      "<persName ref=\"p8127\" cert=\"high\">Pellicanum</persName> ist eine Abkürzung für den Theologen Konrad Pellikan (1478-1556), der als Reformator und Bibelübersetzer bekannt ist.\n",
      "<persName ref=\"p8127\" cert=\"high\">Pellicanum</persName> ist eine Anspielung auf den bekannten Theologen und Reformator Konrad Pellikan, der zu dieser Zeit in Zürich lebte und eng mit Heinrich Bullinger zusammenarbeitete.\n",
      "<persName ref=\"p8127\" cert=\"high\">Pellicanum</persName> ist eine Anspielung auf den bekannten Theologen und Reformator Konrad Pellikan.\n",
      "<persName ref=\"p8127\" cert=\"high\">Pellicanum</persName> ist eine Anspielung auf den Gelehrten und Theologen Konrad Pellikan, der zu dieser Zeit eine bedeutende Figur in der reformierten Bewegung war.\n",
      "<persName ref=\"p8127\" cert=\"high\">Pellicanum</persName> ist eine Abkürzung für den Gelehrten und Theologen Konrad Pellikan (1478-1556), der als Reformator und Bibelübersetzer bekannt ist.\n",
      "<persName ref=\"p8127\" cert=\"high\">Pellicanum</persName> ist eine Anspielung auf den Gelehrten und Theologen Konrad Pellikan, der zu dieser Zeit eine bedeutende Figur in der reformierten Bewegung war.\n",
      "<persName ref=\"p8127\" cert=\"high\">Pellicanum</persName> ist eine Anspielung auf den bekannten Theologen und Reformator Konrad Pellikan.\n",
      "<persName ref=\"p8127\" cert=\"high\">Johannes Oecolampadius</persName> war ein bedeutender Reformator und Theologe, der eng mit Heinrich Bullinger zusammenarbeitete.\n",
      "<persName ref=\"p8127\" cert=\"high\">Pellicanum</persName> ist eine Abkürzung für den Theologen Konrad Pellikan (1478-1556), der als Reformator und Bibelübersetzer bekannt ist.\n"
     ]
    }
   ],
   "source": [
    "tokens = []\n",
    "for i in range(10):\n",
    "    text, in_toks, out_toks = model.generate(instruct_prompt_no_fns(letter, 49, example_n=9))\n",
    "    tokens.append((in_toks, out_toks))\n",
    "    print(text)"
   ]
  },
  {
   "cell_type": "code",
   "execution_count": 59,
   "metadata": {},
   "outputs": [
    {
     "data": {
      "text/plain": [
       "0.317658"
      ]
     },
     "execution_count": 59,
     "metadata": {},
     "output_type": "execute_result"
    }
   ],
   "source": [
    "calculate_openai_cost(tokens, (3,6))"
   ]
  },
  {
   "cell_type": "code",
   "execution_count": 1,
   "metadata": {},
   "outputs": [
    {
     "data": {
      "text/plain": [
       "0.6853650000000001"
      ]
     },
     "execution_count": 1,
     "metadata": {},
     "output_type": "execute_result"
    }
   ],
   "source": [
    "total = 0.317658+0.32058+0.006931800000000001+0.03447+0.0024186+0.0033066000000000003\n",
    "total"
   ]
  },
  {
   "cell_type": "markdown",
   "metadata": {},
   "source": [
    "## Evaluate"
   ]
  },
  {
   "cell_type": "markdown",
   "metadata": {},
   "source": [
    "| **Tests with Markup**             | BLEU  | ROUGE | roberta-base | xlm-roberta-base | wechsel-german | german-cased |\n",
    "|------------------|-------|-------|--------------|------------------|----------------|--------------|\n",
    "| Test 1          | **0.17** | **0.24**  | **0.85**      | **0.85**          | **0.82**       | **0.71**       |\n",
    "| Test 2          | 0.00  | 0.01  | 0.70         | 0.69             | 0.66           | 0.50         |\n",
    "| Test 3          | 0.16  | 0.15  | 0.84         | 0.83             | 0.79           | **0.71**         |"
   ]
  },
  {
   "cell_type": "markdown",
   "metadata": {},
   "source": [
    "## installs and functions"
   ]
  },
  {
   "cell_type": "code",
   "execution_count": null,
   "metadata": {},
   "outputs": [],
   "source": [
    "%pip install evaluate\n",
    "%pip install transformers\n",
    "%pip install bert-score\n",
    "%pip install rouge_score"
   ]
  },
  {
   "cell_type": "code",
   "execution_count": 29,
   "metadata": {},
   "outputs": [],
   "source": [
    "import re\n",
    "from evaluate import load\n",
    "import evaluate\n",
    "from html import unescape\n",
    "import bert_score\n",
    "from tqdm import tqdm\n",
    "\n",
    "bleu = load(\"bleu\")\n",
    "rouge = load(\"rouge\")\n",
    "bertscore = load(\"bertscore\")\n",
    "\n",
    "def remove_outer_note_tag(xml_str):\n",
    "  \"\"\"remove the outer note tag, since in the footnote_xml in the df it is still contained\"\"\"\n",
    "  return re.match(r\"<note [^>]*?>(.*?)</note>\", xml_str, re.DOTALL).group(1)\n",
    "\n",
    "def normalize_ws(text):\n",
    "  \"\"\"normalize whitespace\"\"\"\n",
    "  return re.sub(r\"\\s+\", \" \", text).strip()\n",
    "\n",
    "def remove_markup(sent):\n",
    "  \"\"\"Remove all markup from a sentence\"\"\"\n",
    "  return unescape(re.sub(rf\"<.*?>\", \"\", sent))\n",
    "\n",
    "###########\n",
    "# Calculating BERT scores\n",
    "###########\n",
    "# Default of what layer to use for the representation\n",
    "# The original module defines the default as\n",
    "# \"the number of layers tuned on WMT16 correlation data.\"\n",
    "# I have to add some models, that are not in the original\n",
    "# Maybe a todo: Test if the evaluation changes significantly based on this...\n",
    "bert_score.utils.model2layers[\"google-bert/bert-base-german-cased\"] = 9\n",
    "bert_score.utils.model2layers[\"benjamin/roberta-base-wechsel-german\"] = 9\n",
    "\n",
    "def bertscore_f1_average(preds, refs, model_type):\n",
    "  \"\"\"calculate bertscore f1 average\n",
    "  args:\n",
    "    model_type: str, name of the model to use for the scoring\"\"\"\n",
    "\n",
    "  results = bertscore.compute(predictions=preds, references=refs, model_type=model_type)\n",
    "  f1 = results[\"f1\"]\n",
    "  return sum(f1) / len(f1)\n",
    "\n",
    "def semantic_scores(predictions, references):\n",
    "  \"\"\"calculate semantic scores with BERT\"\"\"\n",
    "  # calculate f1 average with different Bert models\n",
    "  # the large models seem not to make much of a difference, but take more time\n",
    "    # ->> but check it anyway sometime\n",
    "  # The German models are more critical though\n",
    "  # models = [\"roberta-base\", \"xlm-roberta-base\", \"benjamin/roberta-base-wechsel-german\",\n",
    "    #         \"google-bert/bert-base-german-cased\"]\n",
    "  models = [\"benjamin/roberta-base-wechsel-german\"]\n",
    "  scores = {}\n",
    "  # print(f\"calculating Bert scores for {len(models)} models\")\n",
    "  for model in models:\n",
    "    scores[model] = bertscore_f1_average(predictions, references, model)\n",
    "  return scores\n",
    "\n",
    "def all_metrics(predictions, references):\n",
    "\n",
    "  all_results = {\n",
    "      \"with_markup\": {},\n",
    "      \"without_markup\": {}\n",
    "  }\n",
    "  # Calculate BLEU score\n",
    "  bleu_results = bleu.compute(predictions=predictions, references=references)\n",
    "  all_results[\"with_markup\"][\"bleu\"] = bleu_results[\"bleu\"]\n",
    "\n",
    "  # Calculate ROUGE scores\n",
    "  rouge_results = rouge.compute(predictions=predictions, references=references)\n",
    "  all_results[\"with_markup\"][\"rouge\"] = rouge_results[\"rouge1\"]\n",
    "\n",
    "  # Calculate Semantic score with BERT\n",
    "  bertscore_results = semantic_scores(predictions=predictions, references=references)\n",
    "  all_results[\"with_markup\"][\"bertscore\"] = bertscore_results\n",
    "  # print(\"\\n\".join([f\"{model}: {score}\" for model, score in bertscore_results.items()]))\n",
    "\n",
    "  # removing markup\n",
    "  predictions = [remove_markup(pred) for pred in predictions]\n",
    "  references = [remove_markup(ref) for ref in references]\n",
    "\n",
    "  # Calculate BLEU score\n",
    "  bleu_results = bleu.compute(predictions=predictions, references=references)\n",
    "  all_results[\"without_markup\"][\"bleu\"] = bleu_results[\"bleu\"]\n",
    "\n",
    "  # Calculate ROUGE scores\n",
    "  rouge_results = rouge.compute(predictions=predictions, references=references)\n",
    "  all_results[\"without_markup\"][\"rouge\"] = rouge_results[\"rouge1\"]\n",
    "\n",
    "  # Calculate Semantic score with BERT\n",
    "  bertscore_results = semantic_scores(predictions=predictions, references=references)\n",
    "  all_results[\"without_markup\"][\"bertscore\"] = bertscore_results\n",
    "  # print(\"\\n\".join([f\"{model}: {score}\" for model, score in bertscore_results.items()]))\n",
    "\n",
    "  return all_results\n"
   ]
  },
  {
   "cell_type": "code",
   "execution_count": 6,
   "metadata": {},
   "outputs": [
    {
     "name": "stdout",
     "output_type": "stream",
     "text": [
      "Collecting requests_mock\n",
      "  Downloading requests_mock-1.12.1-py2.py3-none-any.whl.metadata (4.1 kB)\n",
      "Requirement already satisfied: requests<3,>=2.22 in /home/niko/anaconda3/lib/python3.11/site-packages (from requests_mock) (2.31.0)\n",
      "Requirement already satisfied: charset-normalizer<4,>=2 in /home/niko/anaconda3/lib/python3.11/site-packages (from requests<3,>=2.22->requests_mock) (3.3.2)\n",
      "Requirement already satisfied: idna<4,>=2.5 in /home/niko/anaconda3/lib/python3.11/site-packages (from requests<3,>=2.22->requests_mock) (3.4)\n",
      "Requirement already satisfied: urllib3<3,>=1.21.1 in /home/niko/anaconda3/lib/python3.11/site-packages (from requests<3,>=2.22->requests_mock) (2.2.2)\n",
      "Requirement already satisfied: certifi>=2017.4.17 in /home/niko/anaconda3/lib/python3.11/site-packages (from requests<3,>=2.22->requests_mock) (2023.7.22)\n",
      "Downloading requests_mock-1.12.1-py2.py3-none-any.whl (27 kB)\n",
      "Installing collected packages: requests_mock\n",
      "\u001b[31mERROR: pip's dependency resolver does not currently take into account all the packages that are installed. This behaviour is the source of the following dependency conflicts.\n",
      "conda-repo-cli 1.0.75 requires clyent==1.2.1, but you have clyent 1.2.2 which is incompatible.\n",
      "conda-repo-cli 1.0.75 requires PyYAML==6.0.1, but you have pyyaml 6.0 which is incompatible.\u001b[0m\u001b[31m\n",
      "\u001b[0mSuccessfully installed requests_mock-1.12.1\n",
      "\n",
      "\u001b[1m[\u001b[0m\u001b[34;49mnotice\u001b[0m\u001b[1;39;49m]\u001b[0m\u001b[39;49m A new release of pip is available: \u001b[0m\u001b[31;49m24.0\u001b[0m\u001b[39;49m -> \u001b[0m\u001b[32;49m24.2\u001b[0m\n",
      "\u001b[1m[\u001b[0m\u001b[34;49mnotice\u001b[0m\u001b[1;39;49m]\u001b[0m\u001b[39;49m To update, run: \u001b[0m\u001b[32;49mpip install --upgrade pip\u001b[0m\n"
     ]
    }
   ],
   "source": [
    "!pip install requests_mock\n"
   ]
  },
  {
   "cell_type": "markdown",
   "metadata": {},
   "source": [
    "## Test 1\n",
    "instruction prompt to complete"
   ]
  },
  {
   "cell_type": "code",
   "execution_count": 2,
   "metadata": {},
   "outputs": [],
   "source": [
    "def format_completion_model_output(x):\n",
    "  \"\"\"get a list of the generated fns without the end-tag\"\"\"\n",
    "  generated_fns = x.split(\"\\n\")\n",
    "  generated_fns = [re.sub(r\"</note>.*$\", \"\", fn).strip() for fn in generated_fns]  # remove end tag\n",
    "  return generated_fns"
   ]
  },
  {
   "cell_type": "code",
   "execution_count": null,
   "metadata": {},
   "outputs": [],
   "source": [
    "original_fn = \"\"\"<persName ref=\"p1214\" cert=\"high\">Fries</persName>\n",
    "und\n",
    "<persName ref=\"p1283\" cert=\"high\">Geßner</persName>\n",
    "waren in einem Brief\n",
    "<persName ref=\"p8127\" cert=\"high\">Pellikans</persName>\n",
    "vom 19. Februar 1533 an\n",
    "<persName ref=\"p8418\" cert=\"high\">Myconius</persName>\n",
    "empfohlen worden (Zürich StA, E II 358, 98).\n",
    "</note>\"\"\"\n",
    "\n",
    "x = \"\"\"<note xml:id=\"fn4\" type=\"footnote\" n=\"4\"><placeName ref=\"l28\" cert=\"high\">Basileae</placeName> apud <persName ref=\"p8418\" cert=\"high\">Myconium</persName> refers to a location in Basel near the residence of the printer <persName ref=\"p8418\" cert=\"high\">Myconius</persName>.</note>\n",
    "<note xml:id=\"fn4\" type=\"footnote\" n=\"4\"><placeName ref=\"l28\" cert=\"high\">Basileae</placeName> apud <persName ref=\"p8418\" cert=\"high\">Myconium</persName> refers to a location in Basel near the residence of the printer <persName ref=\"p8418\" cert=\"high\">Myconius</persName>.</note>\n",
    "<note xml:id=\"fn4\" type=\"footnote\" n=\"4\"><placeName ref=\"l28\" cert=\"high\">Basileae</placeName> apud <persName ref=\"p8418\" cert=\"high\">Myconium</persName> refers to a location in Basel near the printer <persName ref=\"p8418\" cert=\"high\">Myconius</persName>.</note>\n",
    "<note xml:id=\"fn4\" type=\"footnote\" n=\"4\"><placeName ref=\"l28\" cert=\"high\">Basileae</placeName> apud <persName ref=\"p8418\" cert=\"high\">Myconium</persName> refers to a location in Basel where the letter was written.</note>\n",
    "<note xml:id=\"fn4\" type=\"footnote\" n=\"4\"><placeName ref=\"l28\" cert=\"high\">Basileae</placeName> apud <persName ref=\"p8418\" cert=\"high\">Myconium</persName> refers to a location in Basel where the letter was written.</note>\n",
    "<note xml:id=\"fn4\" type=\"footnote\" n=\"4\"><placeName ref=\"l28\" cert=\"high\">Basileae</placeName> apud <persName ref=\"p8418\" cert=\"high\">Myconium</persName> refers to a location in Basel where the letter was written.</note>\n",
    "<note xml:id=\"fn4\" type=\"footnote\" n=\"4\"><placeName ref=\"l28\" cert=\"high\">Basileae</placeName> apud <persName ref=\"p8418\" cert=\"high\">Myconium</persName> refers to a location in Basel where the letter was written.</note>\n",
    "<note xml:id=\"fn4\" type=\"footnote\" n=\"4\"><placeName ref=\"l28\" cert=\"high\">Basileae</placeName> apud <persName ref=\"p8418\" cert=\"high\">Myconium</persName> refers to a location in Basel near the residence of the printer <persName ref=\"p8418\" cert=\"high\">Myconius</persName>.</note>\n",
    "<note xml:id=\"fn4\" type=\"footnote\" n=\"4\"><placeName ref=\"l28\" cert=\"high\">Basileae</placeName> apud <persName ref=\"p8418\" cert=\"high\">Myconium</persName> refers to a location in Basel near the residence of the printer <persName ref=\"p8418\" cert=\"high\">Myconius</persName>.</note>\n",
    "<note xml:id=\"fn4\" type=\"footnote\" n=\"4\"><placeName ref=\"l28\" cert=\"high\">Basileae</placeName> apud <persName ref=\"p8418\" cert=\"high\">Myconium</persName> refers to a location in Basel where the letter was written.</note>\"\"\"\n",
    "\n",
    "generated_fns = format_completion_model_output(x)\n",
    "\n",
    "# Normalize WS:\n",
    "predictions = [normalize_ws(fn) for fn in generated_fns]\n",
    "references = [normalize_ws(original_fn) for _ in range(len(generated_fns))]"
   ]
  },
  {
   "cell_type": "code",
   "execution_count": null,
   "metadata": {},
   "outputs": [],
   "source": [
    "results_completion_test1 = all_metrics(predictions, references)"
   ]
  },
  {
   "cell_type": "code",
   "execution_count": null,
   "metadata": {},
   "outputs": [],
   "source": [
    "import json\n",
    "print(json.dumps(results_completion_test1, indent=4))"
   ]
  },
  {
   "cell_type": "markdown",
   "metadata": {},
   "source": [
    "# Run Batches\n",
    "**Note:** There was a problem with the createion of the QA prompt and I have to rerun it...\n",
    "- [x] Instruct Add \n",
    "  - [x] example\n",
    "  - [x] dev\n",
    "  - [x] test\n",
    "- [ ] Instruct QA \n",
    "  - [x] example\n",
    "  - [ ] dev"
   ]
  },
  {
   "cell_type": "code",
   "execution_count": 4,
   "metadata": {},
   "outputs": [],
   "source": [
    "from openai import OpenAI\n",
    "client = OpenAI(api_key=api_key)"
   ]
  },
  {
   "cell_type": "code",
   "execution_count": 5,
   "metadata": {},
   "outputs": [],
   "source": [
    "import pandas as pd\n",
    "import os\n",
    "import jsonlines\n",
    "\n",
    "\n",
    "# open the results file and save in a csv\n",
    "def open_result_and_save_in_csv(outfile_name):\n",
    "    response_file = outfile_name\n",
    "    filepath, json_filename = os.path.split(outfile_name)\n",
    "    csv_filename = f\"{json_filename.split('.')[0]}.csv\"\n",
    "    csv_filepath = os.path.join(filepath, csv_filename)\n",
    "\n",
    "    column_names = [\"letter_id\", \"n_footnote\", \"generated_footnote\", \"prompt_tokens\", \"completion_tokens\"]\n",
    "    rows = []\n",
    "\n",
    "    with jsonlines.open(response_file, \"r\") as infile:\n",
    "        for line in infile:\n",
    "            custom_id = line[\"custom_id\"]\n",
    "            letter_id, footnote_n = custom_id.split(\"_\")\n",
    "            generated_footnote = line[\"response\"][\"body\"][\"choices\"][0][\"message\"][\"content\"]\n",
    "            prompt_tokens = line[\"response\"][\"body\"][\"usage\"][\"prompt_tokens\"]\n",
    "            completion_tokens = line[\"response\"][\"body\"][\"usage\"][\"completion_tokens\"]\n",
    "            rows.append([letter_id, footnote_n, generated_footnote, prompt_tokens, completion_tokens])\n",
    "\n",
    "    df = pd.DataFrame(columns=column_names)\n",
    "    for row in rows:\n",
    "        df.loc[len(df)] = row\n",
    "\n",
    "    df.to_csv(csv_filepath, index=False)\n",
    "    return df\n",
    "\n",
    "\n",
    "def create_batch(model, prompt, split):\n",
    "    prompt_file = f\"{model}-{prompt}-{split}.jsonl\"\n",
    "    batch_input_file = client.files.create(\n",
    "    file=open(f\"../../data/prompts/{prompt}/{prompt_file}\", \"rb\"),\n",
    "    purpose=\"batch\"\n",
    "    )\n",
    "    batch_input_file_id = batch_input_file.id\n",
    "\n",
    "    description = prompt_file.split(\".\")[0]\n",
    "\n",
    "    batch_object = client.batches.create(\n",
    "        input_file_id=batch_input_file_id,\n",
    "        endpoint=\"/v1/chat/completions\",\n",
    "        completion_window=\"24h\",\n",
    "        metadata={\n",
    "        \"description\": description\n",
    "        }\n",
    "    )\n",
    "    # print, to then put into the check and save function another day\n",
    "    print(batch_object)\n",
    "    print(prompt_file)\n",
    "\n",
    "\n",
    "def check_batch_and_save(batch_id, prompt_file):\n",
    "    batch_object = client.batches.retrieve(batch_id)  \n",
    "    status = batch_object.status\n",
    "    print(status)\n",
    "    if status == \"completed\":\n",
    "        output_file_id = batch_object.output_file_id\n",
    "        file_response = client.files.content(output_file_id).content\n",
    "        outfile_name = f\"../../data/model_responses/gpt/{prompt_file}\"\n",
    "        with open(outfile_name, \"wb\") as outfile:\n",
    "            outfile.write(file_response)\n",
    "        return open_result_and_save_in_csv(outfile_name)"
   ]
  },
  {
   "cell_type": "markdown",
   "metadata": {},
   "source": [
    "## Instruct Add "
   ]
  },
  {
   "cell_type": "markdown",
   "metadata": {},
   "source": [
    "### The test set"
   ]
  },
  {
   "cell_type": "code",
   "execution_count": 1,
   "metadata": {},
   "outputs": [],
   "source": [
    "prompt_file = \"gpt-4o-2024-08-06-instruct_add-test_human_eval.jsonl\""
   ]
  },
  {
   "cell_type": "code",
   "execution_count": 6,
   "metadata": {},
   "outputs": [
    {
     "data": {
      "text/plain": [
       "Batch(id='batch_bLVivX0PHRvWdSY9opVRcW2q', completion_window='24h', created_at=1727190129, endpoint='/v1/chat/completions', input_file_id='file-UAb5MkWfxEi399BwnlbwX8UE', object='batch', status='validating', cancelled_at=None, cancelling_at=None, completed_at=None, error_file_id=None, errors=None, expired_at=None, expires_at=1727276529, failed_at=None, finalizing_at=None, in_progress_at=None, metadata={'description': 'gpt-4o-mini-2024-07-18-instruct_add-test'}, output_file_id=None, request_counts=BatchRequestCounts(completed=0, failed=0, total=0))"
      ]
     },
     "execution_count": 6,
     "metadata": {},
     "output_type": "execute_result"
    }
   ],
   "source": [
    "from openai import OpenAI\n",
    "client = OpenAI(api_key=api_key)\n",
    "\n",
    "\n",
    "\n",
    "batch_input_file = client.files.create(\n",
    "  file=open(f\"../../data/prompts/instruct_add/{prompt_file}\", \"rb\"),\n",
    "  purpose=\"batch\"\n",
    ")\n",
    "\n",
    "batch_input_file_id = batch_input_file.id\n",
    "\n",
    "description = prompt_file.split(\".\")[0]\n",
    "\n",
    "client.batches.create(\n",
    "    input_file_id=batch_input_file_id,\n",
    "    endpoint=\"/v1/chat/completions\",\n",
    "    completion_window=\"24h\",\n",
    "    metadata={\n",
    "      \"description\": description\n",
    "    }\n",
    ")"
   ]
  },
  {
   "cell_type": "code",
   "execution_count": 5,
   "metadata": {},
   "outputs": [
    {
     "data": {
      "text/plain": [
       "Batch(id='batch_bLVivX0PHRvWdSY9opVRcW2q', completion_window='24h', created_at=1727190129, endpoint='/v1/chat/completions', input_file_id='file-UAb5MkWfxEi399BwnlbwX8UE', object='batch', status='completed', cancelled_at=None, cancelling_at=None, completed_at=1727191882, error_file_id=None, errors=None, expired_at=None, expires_at=1727276529, failed_at=None, finalizing_at=1727191603, in_progress_at=1727190133, metadata={'description': 'gpt-4o-mini-2024-07-18-instruct_add-test'}, output_file_id='file-pna9LXQ4KeQv5XAsM9nE5PEv', request_counts=BatchRequestCounts(completed=3239, failed=0, total=3239))"
      ]
     },
     "execution_count": 5,
     "metadata": {},
     "output_type": "execute_result"
    }
   ],
   "source": [
    "batch_object = client.batches.retrieve(\"batch_bLVivX0PHRvWdSY9opVRcW2q\")  # checking status\n",
    "batch_object"
   ]
  },
  {
   "cell_type": "code",
   "execution_count": 6,
   "metadata": {},
   "outputs": [
    {
     "name": "stdout",
     "output_type": "stream",
     "text": [
      "completed\n"
     ]
    }
   ],
   "source": [
    "\n",
    "status = batch_object.status\n",
    "print(status)\n",
    "if status == \"completed\":\n",
    "    output_file_id = batch_object.output_file_id\n",
    "    file_response = client.files.content(output_file_id).content\n",
    "    outfile_name = f\"../../data/model_responses/gpt/{prompt_file}\"\n",
    "    with open(outfile_name, \"wb\") as outfile:\n",
    "        outfile.write(file_response)\n",
    "    df = open_result_and_save_in_csv(outfile_name)"
   ]
  },
  {
   "cell_type": "code",
   "execution_count": 10,
   "metadata": {},
   "outputs": [
    {
     "data": {
      "text/html": [
       "<div>\n",
       "<style scoped>\n",
       "    .dataframe tbody tr th:only-of-type {\n",
       "        vertical-align: middle;\n",
       "    }\n",
       "\n",
       "    .dataframe tbody tr th {\n",
       "        vertical-align: top;\n",
       "    }\n",
       "\n",
       "    .dataframe thead th {\n",
       "        text-align: right;\n",
       "    }\n",
       "</style>\n",
       "<table border=\"1\" class=\"dataframe\">\n",
       "  <thead>\n",
       "    <tr style=\"text-align: right;\">\n",
       "      <th></th>\n",
       "      <th>letter_id</th>\n",
       "      <th>n_footnote</th>\n",
       "      <th>generated_footnote</th>\n",
       "      <th>prompt_tokens</th>\n",
       "      <th>completion_tokens</th>\n",
       "    </tr>\n",
       "  </thead>\n",
       "  <tbody>\n",
       "    <tr>\n",
       "      <th>0</th>\n",
       "      <td>10038</td>\n",
       "      <td>10</td>\n",
       "      <td>Die Frage, warum Christus nicht sofort nach seiner ersten Verheißung auf Erden erschienen ist, reflektiert eine theologische Debatte über das Wesen des göttlichen Plans und die Zeitlichkeit der Erlösung. In der christlichen Tradition wird häufig auf die Notwendigkeit verwiesen, dass das Kommen Christi in die Welt einen bestimmten göttlichen Zeitrahmen erfordert, der das Verständnis des Menschen überschreitet. Die erwähnten prophetischen Voraussagen bieten einen weiteren Kontext, um die Diskrepanz zwischen irdischem Leiden und göttlicher Erfüllung in der Heilsgeschichte zu interpretieren. Betrachtet man die Schriften des Neuen Testaments, insbesondere die Evangelien, wird deutlich, dass die zeitliche Offenbarung des Christus immer in Verbindung mit dem göttlichen Willen und dem Heilsplan steht.</td>\n",
       "      <td>7340</td>\n",
       "      <td>171</td>\n",
       "    </tr>\n",
       "    <tr>\n",
       "      <th>1</th>\n",
       "      <td>10038</td>\n",
       "      <td>11</td>\n",
       "      <td>Der Hinweis auf Mose bezieht sich auf dessen Rolle als Prophet und Führer des Volkes Israel, das aus der ägyptischen Sklaverei befreit wurde. Die Referenz zu den Propheten kann auch die Erwartungen der Reformatoren widerspiegeln, die die Rückkehr zu einer ersten, unverdorbenen Form der Glaubensausübung forderten. Sie beziehen sich auf das biblische Verständnis von Offenbarung, das den Propheten (Mose und Paulus) als Vorbilder im Glauben sieht und deren Autorität zur Interpretation des göttlichen Willens betont.</td>\n",
       "      <td>7340</td>\n",
       "      <td>121</td>\n",
       "    </tr>\n",
       "    <tr>\n",
       "      <th>2</th>\n",
       "      <td>10038</td>\n",
       "      <td>12</td>\n",
       "      <td>Die Frage nach dem Plan Gottes wird oft in der Theologie diskutiert. Bullinger deutet hier an, dass die Vorgaben der göttlichen Vorsehung und die Art und Weise, wie sie sich im Lauf der Geschichte entfalten, einen bestimmten Zweck haben, der oft schwer zu verstehen ist. So lässt sich auf Johannes Chrysostomus verweisen, der in seinen Schriften darauf hinweist, dass die Notwendigkeit des göttlichen Willens nicht immer für den Menschen erkennbar ist (vgl. \"In Matthaeum\", Homilie 19).</td>\n",
       "      <td>7340</td>\n",
       "      <td>116</td>\n",
       "    </tr>\n",
       "    <tr>\n",
       "      <th>3</th>\n",
       "      <td>10038</td>\n",
       "      <td>13</td>\n",
       "      <td>In Anlehnung an die biblische Tradition spricht Bullinger hier die Idee an, dass die Propheten \"befreit\" wurden, um den Willen Gottes zu offenbaren und die Menschen auf den richtigen Weg zu führen. Der Verweis auf die \"deploratissimi\" Zustand der Menschen unter dem \"impiissimo Antichristi regno\" könnte auf die allgemeine Unzufriedenheit mit der religiösen Situation seiner Zeit hinweisen, insbesondere im Kontext der Reformation, bei der die Autorität der Kirche hinterfragt wurde. Bullinger drückt damit den Wunsch aus, die göttliche Wahrheit in einer Zeit der Verwirrung wiederherzustellen und die Menschen zu motivieren, Gott und seiner Botschaft treu zu bleiben.</td>\n",
       "      <td>7340</td>\n",
       "      <td>151</td>\n",
       "    </tr>\n",
       "    <tr>\n",
       "      <th>4</th>\n",
       "      <td>10038</td>\n",
       "      <td>14</td>\n",
       "      <td>Die Betonung der göttlichen Inspiration und der prophetischen Freiheit, die im neuen Testament gefördert wird, zeigt sich besonders in &lt;persName ref=\"p1043\" cert=\"high\"&gt;Johannes&lt;/persName&gt; 1, 4-10 und &lt;persName ref=\"p18700\" cert=\"high\"&gt;Paulus&lt;/persName&gt; in seinem ersten Brief an die Thessalonicher 5, 20-21, wo das Prüfen aller Geister gefordert wird.&lt;note xml:id=\"fn14\" type=\"footnote\" n=\"14\"&gt;&lt;/note&gt;</td>\n",
       "      <td>7340</td>\n",
       "      <td>119</td>\n",
       "    </tr>\n",
       "  </tbody>\n",
       "</table>\n",
       "</div>"
      ],
      "text/plain": [
       "  letter_id n_footnote  \\\n",
       "0     10038         10   \n",
       "1     10038         11   \n",
       "2     10038         12   \n",
       "3     10038         13   \n",
       "4     10038         14   \n",
       "\n",
       "                                                                                                                                                                                                                                                                                                                                                                                                                                                                                                                                                                                                                                                                                                                                                                                                                     generated_footnote  \\\n",
       "0  Die Frage, warum Christus nicht sofort nach seiner ersten Verheißung auf Erden erschienen ist, reflektiert eine theologische Debatte über das Wesen des göttlichen Plans und die Zeitlichkeit der Erlösung. In der christlichen Tradition wird häufig auf die Notwendigkeit verwiesen, dass das Kommen Christi in die Welt einen bestimmten göttlichen Zeitrahmen erfordert, der das Verständnis des Menschen überschreitet. Die erwähnten prophetischen Voraussagen bieten einen weiteren Kontext, um die Diskrepanz zwischen irdischem Leiden und göttlicher Erfüllung in der Heilsgeschichte zu interpretieren. Betrachtet man die Schriften des Neuen Testaments, insbesondere die Evangelien, wird deutlich, dass die zeitliche Offenbarung des Christus immer in Verbindung mit dem göttlichen Willen und dem Heilsplan steht.   \n",
       "1                                                                                                                                                                                                                                                                                                  Der Hinweis auf Mose bezieht sich auf dessen Rolle als Prophet und Führer des Volkes Israel, das aus der ägyptischen Sklaverei befreit wurde. Die Referenz zu den Propheten kann auch die Erwartungen der Reformatoren widerspiegeln, die die Rückkehr zu einer ersten, unverdorbenen Form der Glaubensausübung forderten. Sie beziehen sich auf das biblische Verständnis von Offenbarung, das den Propheten (Mose und Paulus) als Vorbilder im Glauben sieht und deren Autorität zur Interpretation des göttlichen Willens betont.   \n",
       "2                                                                                                                                                                                                                                                                                                                                Die Frage nach dem Plan Gottes wird oft in der Theologie diskutiert. Bullinger deutet hier an, dass die Vorgaben der göttlichen Vorsehung und die Art und Weise, wie sie sich im Lauf der Geschichte entfalten, einen bestimmten Zweck haben, der oft schwer zu verstehen ist. So lässt sich auf Johannes Chrysostomus verweisen, der in seinen Schriften darauf hinweist, dass die Notwendigkeit des göttlichen Willens nicht immer für den Menschen erkennbar ist (vgl. \"In Matthaeum\", Homilie 19).   \n",
       "3                                                                                                                                          In Anlehnung an die biblische Tradition spricht Bullinger hier die Idee an, dass die Propheten \"befreit\" wurden, um den Willen Gottes zu offenbaren und die Menschen auf den richtigen Weg zu führen. Der Verweis auf die \"deploratissimi\" Zustand der Menschen unter dem \"impiissimo Antichristi regno\" könnte auf die allgemeine Unzufriedenheit mit der religiösen Situation seiner Zeit hinweisen, insbesondere im Kontext der Reformation, bei der die Autorität der Kirche hinterfragt wurde. Bullinger drückt damit den Wunsch aus, die göttliche Wahrheit in einer Zeit der Verwirrung wiederherzustellen und die Menschen zu motivieren, Gott und seiner Botschaft treu zu bleiben.   \n",
       "4                                                                                                                                                                                                                                                                                                                                                                                                                    Die Betonung der göttlichen Inspiration und der prophetischen Freiheit, die im neuen Testament gefördert wird, zeigt sich besonders in <persName ref=\"p1043\" cert=\"high\">Johannes</persName> 1, 4-10 und <persName ref=\"p18700\" cert=\"high\">Paulus</persName> in seinem ersten Brief an die Thessalonicher 5, 20-21, wo das Prüfen aller Geister gefordert wird.<note xml:id=\"fn14\" type=\"footnote\" n=\"14\"></note>   \n",
       "\n",
       "   prompt_tokens  completion_tokens  \n",
       "0           7340                171  \n",
       "1           7340                121  \n",
       "2           7340                116  \n",
       "3           7340                151  \n",
       "4           7340                119  "
      ]
     },
     "execution_count": 10,
     "metadata": {},
     "output_type": "execute_result"
    }
   ],
   "source": [
    "pd.set_option('display.max_colwidth', None)  # show whole text in the cells\n",
    "df.head()"
   ]
  },
  {
   "cell_type": "code",
   "execution_count": 13,
   "metadata": {},
   "outputs": [
    {
     "data": {
      "text/plain": [
       "2.544486149999998"
      ]
     },
     "execution_count": 13,
     "metadata": {},
     "output_type": "execute_result"
    }
   ],
   "source": [
    "# calculate the cost of the batch:\n",
    "tokens = [(row.prompt_tokens, row.completion_tokens) for _, row in df.iterrows()]\n",
    "calculate_openai_cost(tokens, (0.075, 0.3))"
   ]
  },
  {
   "cell_type": "code",
   "execution_count": 7,
   "metadata": {},
   "outputs": [],
   "source": [
    "# api_cost_logging(2.544486149999998, \"gpt-4o-mini-2024-07-18-instruct_add-test\")"
   ]
  },
  {
   "cell_type": "markdown",
   "metadata": {},
   "source": [
    "### the dev set\n"
   ]
  },
  {
   "cell_type": "code",
   "execution_count": 4,
   "metadata": {},
   "outputs": [
    {
     "data": {
      "text/plain": [
       "Batch(id='batch_67026a6e980481909b404c63e2433966', completion_window='24h', created_at=1728211566, endpoint='/v1/chat/completions', input_file_id='file-Exypd6N5eKTHM3eG3gYJaZhh', object='batch', status='validating', cancelled_at=None, cancelling_at=None, completed_at=None, error_file_id=None, errors=None, expired_at=None, expires_at=1728297966, failed_at=None, finalizing_at=None, in_progress_at=None, metadata={'description': 'gpt-4o-mini-2024-07-18-instruct_add-dev'}, output_file_id=None, request_counts=BatchRequestCounts(completed=0, failed=0, total=0))"
      ]
     },
     "execution_count": 4,
     "metadata": {},
     "output_type": "execute_result"
    }
   ],
   "source": [
    "prompt_file = \"gpt-4o-mini-2024-07-18-instruct_add-dev.jsonl\"\n",
    "from openai import OpenAI\n",
    "client = OpenAI(api_key=api_key)\n",
    "\n",
    "\n",
    "\n",
    "batch_input_file = client.files.create(\n",
    "  file=open(f\"../../data/prompts/instruct_add/{prompt_file}\", \"rb\"),\n",
    "  purpose=\"batch\"\n",
    ")\n",
    "\n",
    "batch_input_file_id = batch_input_file.id\n",
    "\n",
    "description = prompt_file.split(\".\")[0]\n",
    "\n",
    "client.batches.create(\n",
    "    input_file_id=batch_input_file_id,\n",
    "    endpoint=\"/v1/chat/completions\",\n",
    "    completion_window=\"24h\",\n",
    "    metadata={\n",
    "      \"description\": description\n",
    "    }\n",
    ")"
   ]
  },
  {
   "cell_type": "code",
   "execution_count": 13,
   "metadata": {},
   "outputs": [
    {
     "name": "stdout",
     "output_type": "stream",
     "text": [
      "completed\n"
     ]
    }
   ],
   "source": [
    "batch_object = client.batches.retrieve(\"batch_67026a6e980481909b404c63e2433966\")  # checking status with batch_id from above\n",
    "status = batch_object.status\n",
    "print(status)\n",
    "if status == \"completed\":\n",
    "    output_file_id = batch_object.output_file_id\n",
    "    file_response = client.files.content(output_file_id).content\n",
    "    outfile_name = f\"../../data/model_responses/gpt/{prompt_file}\"\n",
    "    with open(outfile_name, \"wb\") as outfile:\n",
    "        outfile.write(file_response)\n",
    "    df = open_result_and_save_in_csv(outfile_name)"
   ]
  },
  {
   "cell_type": "code",
   "execution_count": 14,
   "metadata": {},
   "outputs": [
    {
     "data": {
      "text/html": [
       "<div>\n",
       "<style scoped>\n",
       "    .dataframe tbody tr th:only-of-type {\n",
       "        vertical-align: middle;\n",
       "    }\n",
       "\n",
       "    .dataframe tbody tr th {\n",
       "        vertical-align: top;\n",
       "    }\n",
       "\n",
       "    .dataframe thead th {\n",
       "        text-align: right;\n",
       "    }\n",
       "</style>\n",
       "<table border=\"1\" class=\"dataframe\">\n",
       "  <thead>\n",
       "    <tr style=\"text-align: right;\">\n",
       "      <th></th>\n",
       "      <th>letter_id</th>\n",
       "      <th>n_footnote</th>\n",
       "      <th>generated_footnote</th>\n",
       "      <th>prompt_tokens</th>\n",
       "      <th>completion_tokens</th>\n",
       "    </tr>\n",
       "  </thead>\n",
       "  <tbody>\n",
       "    <tr>\n",
       "      <th>0</th>\n",
       "      <td>10043</td>\n",
       "      <td>12</td>\n",
       "      <td>In der Fußnote n=12 könnte folgender Text stehen:\\n\\n„Zuinglius (Huldrych Zwingli, 1484–1531) war ein wichtiger Reformator der Schweiz und zeitgenössischer Kollege von Bullinger. Seine theologischen Ansichten und seine Rolle bei der Reformation in Zürich hatten erheblichen Einfluss auf die Entwicklung der reformierten Tradition. Es ist bedeutsam, dass Bullinger ihn in diesem Brief erwähnt, was die enge Verbindung und den Austausch zwischen diesen führenden reformatorischen Persönlichkeiten unterstreicht.“</td>\n",
       "      <td>1732</td>\n",
       "      <td>112</td>\n",
       "    </tr>\n",
       "    <tr>\n",
       "      <th>1</th>\n",
       "      <td>10043</td>\n",
       "      <td>7</td>\n",
       "      <td>Lactantius (Lucius Caecilius Firmianus Lactantius) war ein frühchristlicher Schriftsteller und Philosoph des 3. und 4. Jahrhunderts n. Chr., dessen Werke oft im Kontext der apologetischen Literatur zitiert werden. In seinem Werk „De vero cultu“ (Über die wahre Anbetung) kritisiert er die heidnischen Praktiken und betont die Wichtigkeit einer wahren, der christlichen Lehre entsprechenden Gottesdienstes. Insbesondere Kapitel 25 behandelt die Absurditäten und Ungerechtigkeiten, die durch falsche Anbetung und Götzendienst entstehen, was Bullinger in seinem Brief als relevante Argumentation gegen die Missstände seiner Zeit heranzieht.</td>\n",
       "      <td>1732</td>\n",
       "      <td>152</td>\n",
       "    </tr>\n",
       "    <tr>\n",
       "      <th>2</th>\n",
       "      <td>10043</td>\n",
       "      <td>8</td>\n",
       "      <td>Die Erwähnung von \"Thrasonis\" bezieht sich auf den antiken Charakter Thrasonides aus den Komödien des römischen Dichters Plautus, der für seine Prahlerei bekannt ist. Bullinger verwendet hier den Namen symbolisch, um die Arroganz und Heuchelei der damaligen religiösen Führer zu kritisieren, die sich durch ihre Ansprüche an die Wahrheit und den Glauben auszeichnen, während sie in Wirklichkeit von Ungerechtigkeit und Sünde durchdrungen sind.</td>\n",
       "      <td>1732</td>\n",
       "      <td>106</td>\n",
       "    </tr>\n",
       "    <tr>\n",
       "      <th>3</th>\n",
       "      <td>10043</td>\n",
       "      <td>9</td>\n",
       "      <td>Die Bezeichnung „harpigiis“ bezieht sich auf die damals verbreitete Auffassung, dass Papisten und ihre Praktiken als räuberisch oder schädlich angesehen wurden, ähnlich wie das Bild von Räubern oder Schurken. Es könnte hier auch auf die Vorstellung anspielen, dass solche Personen (Harpien) die Gläubigen ausrauben und ihnen das wahre Verständnis des Glaubens vorenthalten.</td>\n",
       "      <td>1732</td>\n",
       "      <td>87</td>\n",
       "    </tr>\n",
       "    <tr>\n",
       "      <th>4</th>\n",
       "      <td>10047</td>\n",
       "      <td>3</td>\n",
       "      <td>Hier bezieht sich Leo Jud auf Luthers eigene Schwierigkeiten bei der Auslegung bestimmter biblischer Passagen, insbesondere im Hinblick auf die dogmatischen Differenzen zwischen der lutherischen und der reformierten Theologie. Luther hatte vor allem in seinen Schriften in den 1520er Jahren betont, dass es einige Stellen in den Schriften der Propheten oder den Aposteln gebe, die er nicht vollständig begreifen könne, was auf die Komplexität der theologischen Diskussionen in dieser Zeit hinweist. Diese Bemerkung ist sowohl eine Selbstkritik als auch ein Hinweis auf die Herausforderungen der theologischen Auseinandersetzung während der Reformation.</td>\n",
       "      <td>2734</td>\n",
       "      <td>136</td>\n",
       "    </tr>\n",
       "  </tbody>\n",
       "</table>\n",
       "</div>"
      ],
      "text/plain": [
       "  letter_id n_footnote  \\\n",
       "0     10043         12   \n",
       "1     10043          7   \n",
       "2     10043          8   \n",
       "3     10043          9   \n",
       "4     10047          3   \n",
       "\n",
       "                                                                                                                                                                                                                                                                                                                                                                                                                                                                                                                                                                                                                                                             generated_footnote  \\\n",
       "0                                                                                                                                                In der Fußnote n=12 könnte folgender Text stehen:\\n\\n„Zuinglius (Huldrych Zwingli, 1484–1531) war ein wichtiger Reformator der Schweiz und zeitgenössischer Kollege von Bullinger. Seine theologischen Ansichten und seine Rolle bei der Reformation in Zürich hatten erheblichen Einfluss auf die Entwicklung der reformierten Tradition. Es ist bedeutsam, dass Bullinger ihn in diesem Brief erwähnt, was die enge Verbindung und den Austausch zwischen diesen führenden reformatorischen Persönlichkeiten unterstreicht.“   \n",
       "1                 Lactantius (Lucius Caecilius Firmianus Lactantius) war ein frühchristlicher Schriftsteller und Philosoph des 3. und 4. Jahrhunderts n. Chr., dessen Werke oft im Kontext der apologetischen Literatur zitiert werden. In seinem Werk „De vero cultu“ (Über die wahre Anbetung) kritisiert er die heidnischen Praktiken und betont die Wichtigkeit einer wahren, der christlichen Lehre entsprechenden Gottesdienstes. Insbesondere Kapitel 25 behandelt die Absurditäten und Ungerechtigkeiten, die durch falsche Anbetung und Götzendienst entstehen, was Bullinger in seinem Brief als relevante Argumentation gegen die Missstände seiner Zeit heranzieht.   \n",
       "2                                                                                                                                                                                                                   Die Erwähnung von \"Thrasonis\" bezieht sich auf den antiken Charakter Thrasonides aus den Komödien des römischen Dichters Plautus, der für seine Prahlerei bekannt ist. Bullinger verwendet hier den Namen symbolisch, um die Arroganz und Heuchelei der damaligen religiösen Führer zu kritisieren, die sich durch ihre Ansprüche an die Wahrheit und den Glauben auszeichnen, während sie in Wirklichkeit von Ungerechtigkeit und Sünde durchdrungen sind.   \n",
       "3                                                                                                                                                                                                                                                                                         Die Bezeichnung „harpigiis“ bezieht sich auf die damals verbreitete Auffassung, dass Papisten und ihre Praktiken als räuberisch oder schädlich angesehen wurden, ähnlich wie das Bild von Räubern oder Schurken. Es könnte hier auch auf die Vorstellung anspielen, dass solche Personen (Harpien) die Gläubigen ausrauben und ihnen das wahre Verständnis des Glaubens vorenthalten.   \n",
       "4  Hier bezieht sich Leo Jud auf Luthers eigene Schwierigkeiten bei der Auslegung bestimmter biblischer Passagen, insbesondere im Hinblick auf die dogmatischen Differenzen zwischen der lutherischen und der reformierten Theologie. Luther hatte vor allem in seinen Schriften in den 1520er Jahren betont, dass es einige Stellen in den Schriften der Propheten oder den Aposteln gebe, die er nicht vollständig begreifen könne, was auf die Komplexität der theologischen Diskussionen in dieser Zeit hinweist. Diese Bemerkung ist sowohl eine Selbstkritik als auch ein Hinweis auf die Herausforderungen der theologischen Auseinandersetzung während der Reformation.   \n",
       "\n",
       "   prompt_tokens  completion_tokens  \n",
       "0           1732                112  \n",
       "1           1732                152  \n",
       "2           1732                106  \n",
       "3           1732                 87  \n",
       "4           2734                136  "
      ]
     },
     "execution_count": 14,
     "metadata": {},
     "output_type": "execute_result"
    }
   ],
   "source": [
    "pd.set_option('display.max_colwidth', None)  # show whole text in the cells\n",
    "df.head()"
   ]
  },
  {
   "cell_type": "code",
   "execution_count": 15,
   "metadata": {},
   "outputs": [
    {
     "data": {
      "text/plain": [
       "2.6265256499999974"
      ]
     },
     "execution_count": 15,
     "metadata": {},
     "output_type": "execute_result"
    }
   ],
   "source": [
    "# calculate the cost of the batch:\n",
    "tokens = [(row.prompt_tokens, row.completion_tokens) for _, row in df.iterrows()]\n",
    "calculate_openai_cost(tokens, (0.075, 0.3))"
   ]
  },
  {
   "cell_type": "code",
   "execution_count": 8,
   "metadata": {},
   "outputs": [],
   "source": [
    "# api_cost_logging(2.6265256499999974, \"gpt-4o-mini-2024-07-18-instruct_add-dev\")"
   ]
  },
  {
   "cell_type": "code",
   "execution_count": null,
   "metadata": {},
   "outputs": [],
   "source": []
  },
  {
   "cell_type": "markdown",
   "metadata": {},
   "source": [
    "## Instruct QA"
   ]
  },
  {
   "cell_type": "markdown",
   "metadata": {},
   "source": [
    "### Example"
   ]
  },
  {
   "cell_type": "code",
   "execution_count": 17,
   "metadata": {},
   "outputs": [
    {
     "name": "stdout",
     "output_type": "stream",
     "text": [
      "Batch(id='batch_675adbffea5c8190b1c81876516fd818', completion_window='24h', created_at=1734007807, endpoint='/v1/chat/completions', input_file_id='file-CEPwBJLEXWuGF8aACPTyVS', object='batch', status='validating', cancelled_at=None, cancelling_at=None, completed_at=None, error_file_id=None, errors=None, expired_at=None, expires_at=1734094207, failed_at=None, finalizing_at=None, in_progress_at=None, metadata={'description': 'gpt-4o-mini-2024-07-18-instruct_qa-test'}, output_file_id=None, request_counts=BatchRequestCounts(completed=0, failed=0, total=0))\n",
      "gpt-4o-mini-2024-07-18-instruct_qa-test.jsonl\n"
     ]
    }
   ],
   "source": [
    "create_batch(\"gpt-4o-mini-2024-07-18\", \"instruct_qa\", \"test\")"
   ]
  },
  {
   "cell_type": "code",
   "execution_count": 19,
   "metadata": {},
   "outputs": [
    {
     "name": "stdout",
     "output_type": "stream",
     "text": [
      "completed\n"
     ]
    }
   ],
   "source": [
    "df = check_batch_and_save('batch_675adbffea5c8190b1c81876516fd818', \"gpt-4o-mini-2024-07-18-instruct_qa-test.jsonl\")"
   ]
  },
  {
   "cell_type": "code",
   "execution_count": 21,
   "metadata": {},
   "outputs": [
    {
     "data": {
      "text/html": [
       "<div>\n",
       "<style scoped>\n",
       "    .dataframe tbody tr th:only-of-type {\n",
       "        vertical-align: middle;\n",
       "    }\n",
       "\n",
       "    .dataframe tbody tr th {\n",
       "        vertical-align: top;\n",
       "    }\n",
       "\n",
       "    .dataframe thead th {\n",
       "        text-align: right;\n",
       "    }\n",
       "</style>\n",
       "<table border=\"1\" class=\"dataframe\">\n",
       "  <thead>\n",
       "    <tr style=\"text-align: right;\">\n",
       "      <th></th>\n",
       "      <th>letter_id</th>\n",
       "      <th>n_footnote</th>\n",
       "      <th>generated_footnote</th>\n",
       "      <th>prompt_tokens</th>\n",
       "      <th>completion_tokens</th>\n",
       "    </tr>\n",
       "  </thead>\n",
       "  <tbody>\n",
       "    <tr>\n",
       "      <th>0</th>\n",
       "      <td>11298</td>\n",
       "      <td>11</td>\n",
       "      <td>Johannes Buchser, ein reformierter Theologe un...</td>\n",
       "      <td>1645</td>\n",
       "      <td>118</td>\n",
       "    </tr>\n",
       "    <tr>\n",
       "      <th>1</th>\n",
       "      <td>11298</td>\n",
       "      <td>12</td>\n",
       "      <td>Wilhelm von Fürstenberg (*circa 1480–1559) war...</td>\n",
       "      <td>1751</td>\n",
       "      <td>127</td>\n",
       "    </tr>\n",
       "    <tr>\n",
       "      <th>2</th>\n",
       "      <td>11298</td>\n",
       "      <td>3</td>\n",
       "      <td>Siehe hierzu auch Johannes Calvin, *Institutio...</td>\n",
       "      <td>340</td>\n",
       "      <td>115</td>\n",
       "    </tr>\n",
       "    <tr>\n",
       "      <th>3</th>\n",
       "      <td>11298</td>\n",
       "      <td>4</td>\n",
       "      <td>In diesem Kontext bezieht sich die \"ecclesiola...</td>\n",
       "      <td>502</td>\n",
       "      <td>88</td>\n",
       "    </tr>\n",
       "    <tr>\n",
       "      <th>4</th>\n",
       "      <td>11298</td>\n",
       "      <td>5</td>\n",
       "      <td>Der Gedanke an \"Hoffnung gegen Hoffnung\" könnt...</td>\n",
       "      <td>692</td>\n",
       "      <td>99</td>\n",
       "    </tr>\n",
       "    <tr>\n",
       "      <th>...</th>\n",
       "      <td>...</td>\n",
       "      <td>...</td>\n",
       "      <td>...</td>\n",
       "      <td>...</td>\n",
       "      <td>...</td>\n",
       "    </tr>\n",
       "    <tr>\n",
       "      <th>107</th>\n",
       "      <td>12870</td>\n",
       "      <td>88</td>\n",
       "      <td>&lt;note xml:id=\"fn88\" type=\"footnote\" n=\"88\"&gt;Der...</td>\n",
       "      <td>7582</td>\n",
       "      <td>128</td>\n",
       "    </tr>\n",
       "    <tr>\n",
       "      <th>108</th>\n",
       "      <td>12870</td>\n",
       "      <td>89</td>\n",
       "      <td>&lt;note xml:id=\"fn89\" type=\"footnote\" n=\"89\"&gt;Der...</td>\n",
       "      <td>7743</td>\n",
       "      <td>110</td>\n",
       "    </tr>\n",
       "    <tr>\n",
       "      <th>109</th>\n",
       "      <td>12870</td>\n",
       "      <td>91</td>\n",
       "      <td>Franz I. von Frankreich (1494–1547) war währen...</td>\n",
       "      <td>7906</td>\n",
       "      <td>162</td>\n",
       "    </tr>\n",
       "    <tr>\n",
       "      <th>110</th>\n",
       "      <td>12870</td>\n",
       "      <td>97</td>\n",
       "      <td>Die Quelle, die zusätzliche Informationen zu d...</td>\n",
       "      <td>8044</td>\n",
       "      <td>136</td>\n",
       "    </tr>\n",
       "    <tr>\n",
       "      <th>111</th>\n",
       "      <td>12870</td>\n",
       "      <td>99</td>\n",
       "      <td>Langrafium, möglicherweise eine Anspielung auf...</td>\n",
       "      <td>8172</td>\n",
       "      <td>127</td>\n",
       "    </tr>\n",
       "  </tbody>\n",
       "</table>\n",
       "<p>112 rows × 5 columns</p>\n",
       "</div>"
      ],
      "text/plain": [
       "    letter_id n_footnote                                 generated_footnote  \\\n",
       "0       11298         11  Johannes Buchser, ein reformierter Theologe un...   \n",
       "1       11298         12  Wilhelm von Fürstenberg (*circa 1480–1559) war...   \n",
       "2       11298          3  Siehe hierzu auch Johannes Calvin, *Institutio...   \n",
       "3       11298          4  In diesem Kontext bezieht sich die \"ecclesiola...   \n",
       "4       11298          5  Der Gedanke an \"Hoffnung gegen Hoffnung\" könnt...   \n",
       "..        ...        ...                                                ...   \n",
       "107     12870         88  <note xml:id=\"fn88\" type=\"footnote\" n=\"88\">Der...   \n",
       "108     12870         89  <note xml:id=\"fn89\" type=\"footnote\" n=\"89\">Der...   \n",
       "109     12870         91  Franz I. von Frankreich (1494–1547) war währen...   \n",
       "110     12870         97  Die Quelle, die zusätzliche Informationen zu d...   \n",
       "111     12870         99  Langrafium, möglicherweise eine Anspielung auf...   \n",
       "\n",
       "     prompt_tokens  completion_tokens  \n",
       "0             1645                118  \n",
       "1             1751                127  \n",
       "2              340                115  \n",
       "3              502                 88  \n",
       "4              692                 99  \n",
       "..             ...                ...  \n",
       "107           7582                128  \n",
       "108           7743                110  \n",
       "109           7906                162  \n",
       "110           8044                136  \n",
       "111           8172                127  \n",
       "\n",
       "[112 rows x 5 columns]"
      ]
     },
     "execution_count": 21,
     "metadata": {},
     "output_type": "execute_result"
    }
   ],
   "source": [
    "df"
   ]
  },
  {
   "cell_type": "code",
   "execution_count": 22,
   "metadata": {},
   "outputs": [
    {
     "data": {
      "text/plain": [
       "0.04379715000000001"
      ]
     },
     "execution_count": 22,
     "metadata": {},
     "output_type": "execute_result"
    }
   ],
   "source": [
    "# calculate the cost of the batch:\n",
    "tokens = [(row.prompt_tokens, row.completion_tokens) for _, row in df.iterrows()]\n",
    "calculate_openai_cost(tokens, (0.075, 0.3))"
   ]
  },
  {
   "cell_type": "code",
   "execution_count": 23,
   "metadata": {},
   "outputs": [],
   "source": [
    "# api_cost_logging(0.04379715000000001,\"gpt-4o-mini-2024-07-18-instruct_qa-example\", comment=\"corrected prompt\")"
   ]
  },
  {
   "cell_type": "markdown",
   "metadata": {},
   "source": [
    "## dev set\n"
   ]
  },
  {
   "cell_type": "code",
   "execution_count": 44,
   "metadata": {},
   "outputs": [
    {
     "name": "stdout",
     "output_type": "stream",
     "text": [
      "Batch(id='batch_6702bc5aecd88190aded2284a9fbdecc', completion_window='24h', created_at=1728232539, endpoint='/v1/chat/completions', input_file_id='file-lYa5o5ROtz0tzzFxDhMAy5Pj', object='batch', status='validating', cancelled_at=None, cancelling_at=None, completed_at=None, error_file_id=None, errors=None, expired_at=None, expires_at=1728318939, failed_at=None, finalizing_at=None, in_progress_at=None, metadata={'description': 'gpt-4o-mini-2024-07-18-instruct_qa-dev'}, output_file_id=None, request_counts=BatchRequestCounts(completed=0, failed=0, total=0))\n",
      "gpt-4o-mini-2024-07-18-instruct_qa-dev.jsonl\n"
     ]
    }
   ],
   "source": [
    "create_batch(\"gpt-4o-mini-2024-07-18\", \"instruct_qa\", \"dev\")"
   ]
  },
  {
   "cell_type": "code",
   "execution_count": 47,
   "metadata": {},
   "outputs": [
    {
     "name": "stdout",
     "output_type": "stream",
     "text": [
      "completed\n"
     ]
    }
   ],
   "source": [
    "df = check_batch_and_save('batch_6702bc5aecd88190aded2284a9fbdecc', \"gpt-4o-mini-2024-07-18-instruct_qa-dev.json\")"
   ]
  },
  {
   "cell_type": "code",
   "execution_count": 48,
   "metadata": {},
   "outputs": [
    {
     "data": {
      "text/html": [
       "<div>\n",
       "<style scoped>\n",
       "    .dataframe tbody tr th:only-of-type {\n",
       "        vertical-align: middle;\n",
       "    }\n",
       "\n",
       "    .dataframe tbody tr th {\n",
       "        vertical-align: top;\n",
       "    }\n",
       "\n",
       "    .dataframe thead th {\n",
       "        text-align: right;\n",
       "    }\n",
       "</style>\n",
       "<table border=\"1\" class=\"dataframe\">\n",
       "  <thead>\n",
       "    <tr style=\"text-align: right;\">\n",
       "      <th></th>\n",
       "      <th>letter_id</th>\n",
       "      <th>n_footnote</th>\n",
       "      <th>generated_footnote</th>\n",
       "      <th>prompt_tokens</th>\n",
       "      <th>completion_tokens</th>\n",
       "    </tr>\n",
       "  </thead>\n",
       "  <tbody>\n",
       "    <tr>\n",
       "      <th>0</th>\n",
       "      <td>10043</td>\n",
       "      <td>12</td>\n",
       "      <td>In Anmerkung 6 auf Seite 67 finden sich Informationen über die theologischen Positionen und Reformideen von Ulrich Zwingli, insbesondere seine Ansichten zur Eucharistie, seiner Rolle in der Zürcher Reformation sowie eine kurze biografische Skizze, die sowohl seine frühen Einflüsse als auch seine Konflikte mit Vertretern der lutherischen Lehre beleuchtet. Außerdem wird auf die Bedeutung seines Beitrags zur Reformbewegung im Kontext der religiösen und politischen Entwicklungen in der Schweiz eingegangen.</td>\n",
       "      <td>2106</td>\n",
       "      <td>108</td>\n",
       "    </tr>\n",
       "    <tr>\n",
       "      <th>1</th>\n",
       "      <td>10043</td>\n",
       "      <td>7</td>\n",
       "      <td>Die zitierten Werke von Lactantius beziehen sich auf seine Schrift „Divinae Institutiones“ (Göttliche Institutionen), insbesondere auf Buch VI, Kapitel 25. In diesem Abschnitt behandelt Lactantius den „wahren Gottesdienst“ und kritisiert die Abgötterei sowie die Sünden, die im Namen falscher Kulte begangen werden. Diese Quelle liefert wertvolle Einsichten in die frühen christlichen Ansichten über Religion und Ethik und wird oft in theologischen Diskussionen zitiert.</td>\n",
       "      <td>1027</td>\n",
       "      <td>106</td>\n",
       "    </tr>\n",
       "    <tr>\n",
       "      <th>2</th>\n",
       "      <td>10043</td>\n",
       "      <td>8</td>\n",
       "      <td>Im Kontext des Textes steht der Name \"Thraso\" symbolisch für eine prahlerische und spöttische Haltung. Thraso ist eine Figur aus dem Werk des römischen Dramatikers Terenz, die oft als Inbegriff des Wichtigtuers und Angeber dargestellt wird. Hier wird er als Beispiel für die Vortäuschung von Tugend und Religiosität genannt, während in Wahrheit eine Impietät und Heuchlerei vorherrscht, die die Unschuldigen verfolgt und die Kirche erdrosselt.</td>\n",
       "      <td>1479</td>\n",
       "      <td>116</td>\n",
       "    </tr>\n",
       "    <tr>\n",
       "      <th>3</th>\n",
       "      <td>10043</td>\n",
       "      <td>9</td>\n",
       "      <td>Das Wort \"harpigium\" bezeichnet ein Werkzeug oder ein Gerät zum Greifen bzw. Einfangen, häufig im Kontext von Raub oder Diebstahl. Im Kontext des Satzes deutet es auf die mit Gewalt oder List verbundenen Mittel hin, die von den \"Papisten\" verwendet werden, um unrechtmäßig Besitz von den Glaubenden oder der Kirche zu ergreifen. Es impliziert somit, dass sie unehrliche Praktiken anwenden, um ihren Einfluss zu sichern und unschuldige Menschen zu verleumden.</td>\n",
       "      <td>1988</td>\n",
       "      <td>109</td>\n",
       "    </tr>\n",
       "    <tr>\n",
       "      <th>4</th>\n",
       "      <td>10047</td>\n",
       "      <td>3</td>\n",
       "      <td>Luther verweist auf den Kommentar zum ersten Petrusbrief, den er in seiner Vorlesung behandelt hat, insbesondere in der Ausgabe der Weimarer Ausgaben (WA), wo er Schwierigkeiten in der Auslegung anmerkt.</td>\n",
       "      <td>461</td>\n",
       "      <td>46</td>\n",
       "    </tr>\n",
       "    <tr>\n",
       "      <th>...</th>\n",
       "      <td>...</td>\n",
       "      <td>...</td>\n",
       "      <td>...</td>\n",
       "      <td>...</td>\n",
       "      <td>...</td>\n",
       "    </tr>\n",
       "    <tr>\n",
       "      <th>3140</th>\n",
       "      <td>13134</td>\n",
       "      <td>7</td>\n",
       "      <td>&lt;persName ref=\"p1419\" cert=\"high\"&gt;Johannes Haab&lt;/persName&gt; und &lt;persName ref=\"p6793\" cert=\"high\"&gt;Itelhans Thumysen&lt;/persName&gt; wurden auf die Tagsatzung am 22. November abgeordnet. Beide spielten eine entscheidende Rolle in der Kommunikation und Entscheidungsfindung während der politischen Verhandlungen in Baden, die im Zusammenhang mit der Reformation und den Konflikten innerhalb der Schweizer Eidgenossenschaft standen.</td>\n",
       "      <td>1447</td>\n",
       "      <td>102</td>\n",
       "    </tr>\n",
       "    <tr>\n",
       "      <th>3141</th>\n",
       "      <td>13134</td>\n",
       "      <td>8</td>\n",
       "      <td>In Schreiben Nr. 3084 wird auf die politischen Spannungen zwischen den Reformierten und den katholischen Städten hingewiesen, die zu einer möglichen militärischen Auseinandersetzung führen könnten. Insbesondere werden die jüngsten Entscheidungen der Tagsatzung sowie die Reaktionen der Gesandten aus Zürich und anderen Städten thematisiert. Diese Informationen sind entscheidend, um die Dringlichkeit und den Inhalt der Warnung zu verstehen, da sie die Wahrnehmung von Bedrohungen und die Notwendigkeit zu diplomatischen Maßnahmen widerspiegeln.</td>\n",
       "      <td>1555</td>\n",
       "      <td>111</td>\n",
       "    </tr>\n",
       "    <tr>\n",
       "      <th>3142</th>\n",
       "      <td>13134</td>\n",
       "      <td>9</td>\n",
       "      <td>&lt;persName ref=\"p18176\" cert=\"high\"&gt;Kaspar Seidensticker&lt;/persName&gt; war ein bedeutender reformierter Theologe und ein wichtiger Akteur in der reformierten Bewegung in Zürich während des 16. Jahrhunderts. In diesem Kontext spielt er eine relevante Rolle, da er oft in den Schriften und Correspondenzen, die die theologischen und politischen Auseinandersetzungen der Reformation betreffen, erwähnt wird. Sein Name steht exemplarisch für die engen Verbindungen zwischen den reformierten Gemeinden und deren Theologen, auf die Bullinger in seinen Schriften Bezug nimmt.</td>\n",
       "      <td>1702</td>\n",
       "      <td>122</td>\n",
       "    </tr>\n",
       "    <tr>\n",
       "      <th>3143</th>\n",
       "      <td>13135</td>\n",
       "      <td>7</td>\n",
       "      <td>Die Form \"derort\" ist eine sprachliche Besonderheit des 16. Jahrhunderts und spiegelt die damalige Tendenz wider, regionale Bezeichnungen mit einem demonstrativen Element zu verbinden. Diese Konstruktion unterscheidet sich von der zeitgenössischen Verwendung und zeigt die Entwicklung der deutschen Sprache hin zu präziseren räumlichen Angaben. In der heutigen Sprache würde man eher \"dort\" verwenden.</td>\n",
       "      <td>698</td>\n",
       "      <td>83</td>\n",
       "    </tr>\n",
       "    <tr>\n",
       "      <th>3144</th>\n",
       "      <td>13135</td>\n",
       "      <td>9</td>\n",
       "      <td>könnten durch die beschriebenen Maßnahmen entstehen: mögliche Ausgaben für bereiste Reisen, Postgebühren, oder andere administrativen Kosten, die zur Durchführung der angesprochenen Anliegen notwendig sind.</td>\n",
       "      <td>813</td>\n",
       "      <td>39</td>\n",
       "    </tr>\n",
       "  </tbody>\n",
       "</table>\n",
       "<p>3145 rows × 5 columns</p>\n",
       "</div>"
      ],
      "text/plain": [
       "     letter_id n_footnote  \\\n",
       "0        10043         12   \n",
       "1        10043          7   \n",
       "2        10043          8   \n",
       "3        10043          9   \n",
       "4        10047          3   \n",
       "...        ...        ...   \n",
       "3140     13134          7   \n",
       "3141     13134          8   \n",
       "3142     13134          9   \n",
       "3143     13135          7   \n",
       "3144     13135          9   \n",
       "\n",
       "                                                                                                                                                                                                                                                                                                                                                                                                                                                                                                                                                                        generated_footnote  \\\n",
       "0                                                              In Anmerkung 6 auf Seite 67 finden sich Informationen über die theologischen Positionen und Reformideen von Ulrich Zwingli, insbesondere seine Ansichten zur Eucharistie, seiner Rolle in der Zürcher Reformation sowie eine kurze biografische Skizze, die sowohl seine frühen Einflüsse als auch seine Konflikte mit Vertretern der lutherischen Lehre beleuchtet. Außerdem wird auf die Bedeutung seines Beitrags zur Reformbewegung im Kontext der religiösen und politischen Entwicklungen in der Schweiz eingegangen.   \n",
       "1                                                                                                   Die zitierten Werke von Lactantius beziehen sich auf seine Schrift „Divinae Institutiones“ (Göttliche Institutionen), insbesondere auf Buch VI, Kapitel 25. In diesem Abschnitt behandelt Lactantius den „wahren Gottesdienst“ und kritisiert die Abgötterei sowie die Sünden, die im Namen falscher Kulte begangen werden. Diese Quelle liefert wertvolle Einsichten in die frühen christlichen Ansichten über Religion und Ethik und wird oft in theologischen Diskussionen zitiert.   \n",
       "2                                                                                                                              Im Kontext des Textes steht der Name \"Thraso\" symbolisch für eine prahlerische und spöttische Haltung. Thraso ist eine Figur aus dem Werk des römischen Dramatikers Terenz, die oft als Inbegriff des Wichtigtuers und Angeber dargestellt wird. Hier wird er als Beispiel für die Vortäuschung von Tugend und Religiosität genannt, während in Wahrheit eine Impietät und Heuchlerei vorherrscht, die die Unschuldigen verfolgt und die Kirche erdrosselt.   \n",
       "3                                                                                                               Das Wort \"harpigium\" bezeichnet ein Werkzeug oder ein Gerät zum Greifen bzw. Einfangen, häufig im Kontext von Raub oder Diebstahl. Im Kontext des Satzes deutet es auf die mit Gewalt oder List verbundenen Mittel hin, die von den \"Papisten\" verwendet werden, um unrechtmäßig Besitz von den Glaubenden oder der Kirche zu ergreifen. Es impliziert somit, dass sie unehrliche Praktiken anwenden, um ihren Einfluss zu sichern und unschuldige Menschen zu verleumden.   \n",
       "4                                                                                                                                                                                                                                                                                                                                                                              Luther verweist auf den Kommentar zum ersten Petrusbrief, den er in seiner Vorlesung behandelt hat, insbesondere in der Ausgabe der Weimarer Ausgaben (WA), wo er Schwierigkeiten in der Auslegung anmerkt.   \n",
       "...                                                                                                                                                                                                                                                                                                                                                                                                                                                                                                                                                                                    ...   \n",
       "3140                                                                                                                                               <persName ref=\"p1419\" cert=\"high\">Johannes Haab</persName> und <persName ref=\"p6793\" cert=\"high\">Itelhans Thumysen</persName> wurden auf die Tagsatzung am 22. November abgeordnet. Beide spielten eine entscheidende Rolle in der Kommunikation und Entscheidungsfindung während der politischen Verhandlungen in Baden, die im Zusammenhang mit der Reformation und den Konflikten innerhalb der Schweizer Eidgenossenschaft standen.   \n",
       "3141                     In Schreiben Nr. 3084 wird auf die politischen Spannungen zwischen den Reformierten und den katholischen Städten hingewiesen, die zu einer möglichen militärischen Auseinandersetzung führen könnten. Insbesondere werden die jüngsten Entscheidungen der Tagsatzung sowie die Reaktionen der Gesandten aus Zürich und anderen Städten thematisiert. Diese Informationen sind entscheidend, um die Dringlichkeit und den Inhalt der Warnung zu verstehen, da sie die Wahrnehmung von Bedrohungen und die Notwendigkeit zu diplomatischen Maßnahmen widerspiegeln.   \n",
       "3142  <persName ref=\"p18176\" cert=\"high\">Kaspar Seidensticker</persName> war ein bedeutender reformierter Theologe und ein wichtiger Akteur in der reformierten Bewegung in Zürich während des 16. Jahrhunderts. In diesem Kontext spielt er eine relevante Rolle, da er oft in den Schriften und Correspondenzen, die die theologischen und politischen Auseinandersetzungen der Reformation betreffen, erwähnt wird. Sein Name steht exemplarisch für die engen Verbindungen zwischen den reformierten Gemeinden und deren Theologen, auf die Bullinger in seinen Schriften Bezug nimmt.   \n",
       "3143                                                                                                                                                                     Die Form \"derort\" ist eine sprachliche Besonderheit des 16. Jahrhunderts und spiegelt die damalige Tendenz wider, regionale Bezeichnungen mit einem demonstrativen Element zu verbinden. Diese Konstruktion unterscheidet sich von der zeitgenössischen Verwendung und zeigt die Entwicklung der deutschen Sprache hin zu präziseren räumlichen Angaben. In der heutigen Sprache würde man eher \"dort\" verwenden.   \n",
       "3144                                                                                                                                                                                                                                                                                                                                                                        könnten durch die beschriebenen Maßnahmen entstehen: mögliche Ausgaben für bereiste Reisen, Postgebühren, oder andere administrativen Kosten, die zur Durchführung der angesprochenen Anliegen notwendig sind.   \n",
       "\n",
       "      prompt_tokens  completion_tokens  \n",
       "0              2106                108  \n",
       "1              1027                106  \n",
       "2              1479                116  \n",
       "3              1988                109  \n",
       "4               461                 46  \n",
       "...             ...                ...  \n",
       "3140           1447                102  \n",
       "3141           1555                111  \n",
       "3142           1702                122  \n",
       "3143            698                 83  \n",
       "3144            813                 39  \n",
       "\n",
       "[3145 rows x 5 columns]"
      ]
     },
     "execution_count": 48,
     "metadata": {},
     "output_type": "execute_result"
    }
   ],
   "source": [
    "df"
   ]
  },
  {
   "cell_type": "code",
   "execution_count": 49,
   "metadata": {},
   "outputs": [
    {
     "data": {
      "text/plain": [
       "1.0120045500000001"
      ]
     },
     "execution_count": 49,
     "metadata": {},
     "output_type": "execute_result"
    }
   ],
   "source": [
    "# calculate the cost of the batch:\n",
    "tokens = [(row.prompt_tokens, row.completion_tokens) for _, row in df.iterrows()]\n",
    "calculate_openai_cost(tokens, (0.075, 0.3))"
   ]
  },
  {
   "cell_type": "code",
   "execution_count": 10,
   "metadata": {},
   "outputs": [],
   "source": [
    "api_cost_logging(1.0120045500000001, \"gpt-4o-mini-2024-07-18-instruct_qa-dev\")"
   ]
  },
  {
   "cell_type": "markdown",
   "metadata": {},
   "source": [
    "# get questions"
   ]
  },
  {
   "cell_type": "code",
   "execution_count": 10,
   "metadata": {},
   "outputs": [
    {
     "name": "stdout",
     "output_type": "stream",
     "text": [
      "Batch(id='batch_675ac069b49081908186e5792e4303c2', completion_window='24h', created_at=1734000745, endpoint='/v1/chat/completions', input_file_id='file-EHqBaE3Uu2tBeqwMsadW7g', object='batch', status='validating', cancelled_at=None, cancelling_at=None, completed_at=None, error_file_id=None, errors=None, expired_at=None, expires_at=1734087145, failed_at=None, finalizing_at=None, in_progress_at=None, metadata={'description': 'gpt-4o-mini-2024-07-18-get_questions-test'}, output_file_id=None, request_counts=BatchRequestCounts(completed=0, failed=0, total=0))\n",
      "gpt-4o-mini-2024-07-18-get_questions-test.jsonl\n"
     ]
    }
   ],
   "source": [
    "\n",
    "create_batch(\"gpt-4o-mini-2024-07-18\", \"get_questions\", \"test\")"
   ]
  },
  {
   "cell_type": "code",
   "execution_count": 14,
   "metadata": {},
   "outputs": [
    {
     "name": "stdout",
     "output_type": "stream",
     "text": [
      "completed\n"
     ]
    }
   ],
   "source": [
    "prompt_file = \"gpt-4o-mini-2024-07-18-get_questions-test.jsonl\"\n",
    "df = check_batch_and_save(\"batch_675ac069b49081908186e5792e4303c2\", prompt_file)"
   ]
  },
  {
   "cell_type": "code",
   "execution_count": 15,
   "metadata": {},
   "outputs": [
    {
     "data": {
      "text/html": [
       "<div>\n",
       "<style scoped>\n",
       "    .dataframe tbody tr th:only-of-type {\n",
       "        vertical-align: middle;\n",
       "    }\n",
       "\n",
       "    .dataframe tbody tr th {\n",
       "        vertical-align: top;\n",
       "    }\n",
       "\n",
       "    .dataframe thead th {\n",
       "        text-align: right;\n",
       "    }\n",
       "</style>\n",
       "<table border=\"1\" class=\"dataframe\">\n",
       "  <thead>\n",
       "    <tr style=\"text-align: right;\">\n",
       "      <th></th>\n",
       "      <th>letter_id</th>\n",
       "      <th>n_footnote</th>\n",
       "      <th>generated_footnote</th>\n",
       "      <th>prompt_tokens</th>\n",
       "      <th>completion_tokens</th>\n",
       "    </tr>\n",
       "  </thead>\n",
       "  <tbody>\n",
       "    <tr>\n",
       "      <th>0</th>\n",
       "      <td>10038</td>\n",
       "      <td>10</td>\n",
       "      <td>Wie hat Augustinus in seinen Schriften seine Fehler während der theologischen Diskussionen begründet?</td>\n",
       "      <td>414</td>\n",
       "      <td>19</td>\n",
       "    </tr>\n",
       "    <tr>\n",
       "      <th>1</th>\n",
       "      <td>10038</td>\n",
       "      <td>11</td>\n",
       "      <td>Welche biblischen Stellen belegen die Aussagen von Moses und Paulus zur Prophetie?</td>\n",
       "      <td>234</td>\n",
       "      <td>17</td>\n",
       "    </tr>\n",
       "    <tr>\n",
       "      <th>2</th>\n",
       "      <td>10038</td>\n",
       "      <td>12</td>\n",
       "      <td>Welche biblischen Stellen unterstützen die Aussage über die prophetischen Gaben in 1 Korinther?</td>\n",
       "      <td>234</td>\n",
       "      <td>21</td>\n",
       "    </tr>\n",
       "    <tr>\n",
       "      <th>3</th>\n",
       "      <td>10038</td>\n",
       "      <td>13</td>\n",
       "      <td>Auf welche biblische Quelle bezieht sich der Satz, um die Aussagen von Johannes zu stützen?</td>\n",
       "      <td>417</td>\n",
       "      <td>21</td>\n",
       "    </tr>\n",
       "    <tr>\n",
       "      <th>4</th>\n",
       "      <td>10038</td>\n",
       "      <td>14</td>\n",
       "      <td>Welche Bibelstellen beziehen sich auf den Umgang mit dem Heiligen Geist?</td>\n",
       "      <td>417</td>\n",
       "      <td>15</td>\n",
       "    </tr>\n",
       "    <tr>\n",
       "      <th>...</th>\n",
       "      <td>...</td>\n",
       "      <td>...</td>\n",
       "      <td>...</td>\n",
       "      <td>...</td>\n",
       "      <td>...</td>\n",
       "    </tr>\n",
       "    <tr>\n",
       "      <th>3493</th>\n",
       "      <td>13141</td>\n",
       "      <td>41</td>\n",
       "      <td>Warum wird die Information über Madenburg und die angebliche Hilfe für die Magdeburger in diesem Kontext erwähnt?</td>\n",
       "      <td>270</td>\n",
       "      <td>23</td>\n",
       "    </tr>\n",
       "    <tr>\n",
       "      <th>3494</th>\n",
       "      <td>13141</td>\n",
       "      <td>49</td>\n",
       "      <td>Welche Briefe könnten in der oben erwähnten Zeile gemeint sein?</td>\n",
       "      <td>145</td>\n",
       "      <td>15</td>\n",
       "    </tr>\n",
       "    <tr>\n",
       "      <th>3495</th>\n",
       "      <td>13141</td>\n",
       "      <td>5</td>\n",
       "      <td>Welche Quellen belegen die unterschiedlichen Ansichten zur Schriftlichkeit in religiösen Angelegenheiten?</td>\n",
       "      <td>206</td>\n",
       "      <td>18</td>\n",
       "    </tr>\n",
       "    <tr>\n",
       "      <th>3496</th>\n",
       "      <td>13141</td>\n",
       "      <td>7</td>\n",
       "      <td>Welche Informationen gibt es über Hans Rutishauser und Dorothea Diethelm gen. Münchin im Zusammenhang mit dem Turgöw?</td>\n",
       "      <td>441</td>\n",
       "      <td>28</td>\n",
       "    </tr>\n",
       "    <tr>\n",
       "      <th>3497</th>\n",
       "      <td>13141</td>\n",
       "      <td>8</td>\n",
       "      <td>Was bedeutet \"mitt inen dispensieren\" im Kontext des Satzes?</td>\n",
       "      <td>441</td>\n",
       "      <td>15</td>\n",
       "    </tr>\n",
       "  </tbody>\n",
       "</table>\n",
       "<p>3498 rows × 5 columns</p>\n",
       "</div>"
      ],
      "text/plain": [
       "     letter_id n_footnote  \\\n",
       "0        10038         10   \n",
       "1        10038         11   \n",
       "2        10038         12   \n",
       "3        10038         13   \n",
       "4        10038         14   \n",
       "...        ...        ...   \n",
       "3493     13141         41   \n",
       "3494     13141         49   \n",
       "3495     13141          5   \n",
       "3496     13141          7   \n",
       "3497     13141          8   \n",
       "\n",
       "                                                                                                         generated_footnote  \\\n",
       "0                     Wie hat Augustinus in seinen Schriften seine Fehler während der theologischen Diskussionen begründet?   \n",
       "1                                        Welche biblischen Stellen belegen die Aussagen von Moses und Paulus zur Prophetie?   \n",
       "2                           Welche biblischen Stellen unterstützen die Aussage über die prophetischen Gaben in 1 Korinther?   \n",
       "3                               Auf welche biblische Quelle bezieht sich der Satz, um die Aussagen von Johannes zu stützen?   \n",
       "4                                                  Welche Bibelstellen beziehen sich auf den Umgang mit dem Heiligen Geist?   \n",
       "...                                                                                                                     ...   \n",
       "3493      Warum wird die Information über Madenburg und die angebliche Hilfe für die Magdeburger in diesem Kontext erwähnt?   \n",
       "3494                                                        Welche Briefe könnten in der oben erwähnten Zeile gemeint sein?   \n",
       "3495              Welche Quellen belegen die unterschiedlichen Ansichten zur Schriftlichkeit in religiösen Angelegenheiten?   \n",
       "3496  Welche Informationen gibt es über Hans Rutishauser und Dorothea Diethelm gen. Münchin im Zusammenhang mit dem Turgöw?   \n",
       "3497                                                           Was bedeutet \"mitt inen dispensieren\" im Kontext des Satzes?   \n",
       "\n",
       "      prompt_tokens  completion_tokens  \n",
       "0               414                 19  \n",
       "1               234                 17  \n",
       "2               234                 21  \n",
       "3               417                 21  \n",
       "4               417                 15  \n",
       "...             ...                ...  \n",
       "3493            270                 23  \n",
       "3494            145                 15  \n",
       "3495            206                 18  \n",
       "3496            441                 28  \n",
       "3497            441                 15  \n",
       "\n",
       "[3498 rows x 5 columns]"
      ]
     },
     "execution_count": 15,
     "metadata": {},
     "output_type": "execute_result"
    }
   ],
   "source": [
    "pd.set_option('display.max_colwidth', None)  # show whole text in the cells\n",
    "df"
   ]
  },
  {
   "cell_type": "code",
   "execution_count": 16,
   "metadata": {},
   "outputs": [
    {
     "data": {
      "text/plain": [
       "0.08821725000000011"
      ]
     },
     "execution_count": 16,
     "metadata": {},
     "output_type": "execute_result"
    }
   ],
   "source": [
    "# calculate the cost of the batch:\n",
    "tokens = [(row.prompt_tokens, row.completion_tokens) for _, row in df.iterrows()]\n",
    "calculate_openai_cost(tokens, (0.075, 0.3))"
   ]
  },
  {
   "cell_type": "code",
   "execution_count": 11,
   "metadata": {},
   "outputs": [],
   "source": [
    "# api_cost_logging(0.0024838500000000006, \"gpt-4o-mini-2024-07-18-get_questions-example\")"
   ]
  },
  {
   "cell_type": "code",
   "execution_count": 37,
   "metadata": {},
   "outputs": [
    {
     "name": "stdout",
     "output_type": "stream",
     "text": [
      "Batch(id='batch_6702a13846088190b5b0a97b6f6dffdb', completion_window='24h', created_at=1728225592, endpoint='/v1/chat/completions', input_file_id='file-yAZVbIr1dbC1fPTWQoXjdLD5', object='batch', status='validating', cancelled_at=None, cancelling_at=None, completed_at=None, error_file_id=None, errors=None, expired_at=None, expires_at=1728311992, failed_at=None, finalizing_at=None, in_progress_at=None, metadata={'description': 'gpt-4o-mini-2024-07-18-get_questions-dev'}, output_file_id=None, request_counts=BatchRequestCounts(completed=0, failed=0, total=0))\n",
      "gpt-4o-mini-2024-07-18-get_questions-dev.jsonl\n"
     ]
    }
   ],
   "source": [
    "create_batch(\"gpt-4o-mini-2024-07-18\", \"get_questions\", \"dev\")"
   ]
  },
  {
   "cell_type": "code",
   "execution_count": 6,
   "metadata": {},
   "outputs": [
    {
     "name": "stdout",
     "output_type": "stream",
     "text": [
      "completed\n"
     ]
    }
   ],
   "source": [
    "df = check_batch_and_save(\"batch_6702a13846088190b5b0a97b6f6dffdb\", \"gpt-4o-mini-2024-07-18-get_questions-dev.jsonl\")"
   ]
  },
  {
   "cell_type": "code",
   "execution_count": 7,
   "metadata": {},
   "outputs": [
    {
     "data": {
      "text/html": [
       "<div>\n",
       "<style scoped>\n",
       "    .dataframe tbody tr th:only-of-type {\n",
       "        vertical-align: middle;\n",
       "    }\n",
       "\n",
       "    .dataframe tbody tr th {\n",
       "        vertical-align: top;\n",
       "    }\n",
       "\n",
       "    .dataframe thead th {\n",
       "        text-align: right;\n",
       "    }\n",
       "</style>\n",
       "<table border=\"1\" class=\"dataframe\">\n",
       "  <thead>\n",
       "    <tr style=\"text-align: right;\">\n",
       "      <th></th>\n",
       "      <th>letter_id</th>\n",
       "      <th>n_footnote</th>\n",
       "      <th>generated_footnote</th>\n",
       "      <th>prompt_tokens</th>\n",
       "      <th>completion_tokens</th>\n",
       "    </tr>\n",
       "  </thead>\n",
       "  <tbody>\n",
       "    <tr>\n",
       "      <th>0</th>\n",
       "      <td>10043</td>\n",
       "      <td>12</td>\n",
       "      <td>Welche Informationen sind in Anmerkung 6 auf Seite 67 zu Zuinglium zu finden?</td>\n",
       "      <td>144</td>\n",
       "      <td>21</td>\n",
       "    </tr>\n",
       "    <tr>\n",
       "      <th>1</th>\n",
       "      <td>10043</td>\n",
       "      <td>5</td>\n",
       "      <td>Was bedeutet das Wort \"excandeo\"?</td>\n",
       "      <td>536</td>\n",
       "      <td>9</td>\n",
       "    </tr>\n",
       "    <tr>\n",
       "      <th>2</th>\n",
       "      <td>10043</td>\n",
       "      <td>7</td>\n",
       "      <td>Welche Quelle bezieht sich auf die Werke von Lactantius?</td>\n",
       "      <td>536</td>\n",
       "      <td>13</td>\n",
       "    </tr>\n",
       "    <tr>\n",
       "      <th>3</th>\n",
       "      <td>10043</td>\n",
       "      <td>8</td>\n",
       "      <td>Welche Bedeutung hat der Name \"Thraso\" im Kontext des Textes?</td>\n",
       "      <td>536</td>\n",
       "      <td>16</td>\n",
       "    </tr>\n",
       "    <tr>\n",
       "      <th>4</th>\n",
       "      <td>10043</td>\n",
       "      <td>9</td>\n",
       "      <td>Welche Bedeutung hat das Wort \"harpigium\" im Kontext des Satzes?</td>\n",
       "      <td>536</td>\n",
       "      <td>16</td>\n",
       "    </tr>\n",
       "    <tr>\n",
       "      <th>...</th>\n",
       "      <td>...</td>\n",
       "      <td>...</td>\n",
       "      <td>...</td>\n",
       "      <td>...</td>\n",
       "      <td>...</td>\n",
       "    </tr>\n",
       "    <tr>\n",
       "      <th>3400</th>\n",
       "      <td>13134</td>\n",
       "      <td>8</td>\n",
       "      <td>Welche Informationen sind im Schreiben Nr. 3084 enthalten, auf das sich die Warnung bezieht?</td>\n",
       "      <td>213</td>\n",
       "      <td>21</td>\n",
       "    </tr>\n",
       "    <tr>\n",
       "      <th>3401</th>\n",
       "      <td>13134</td>\n",
       "      <td>9</td>\n",
       "      <td>Wer ist Kaspar Seidensticker und welche Relevanz hat er für den Text?</td>\n",
       "      <td>307</td>\n",
       "      <td>19</td>\n",
       "    </tr>\n",
       "    <tr>\n",
       "      <th>3402</th>\n",
       "      <td>13135</td>\n",
       "      <td>5</td>\n",
       "      <td>Wie bedeutend war die Angelegenheit?</td>\n",
       "      <td>380</td>\n",
       "      <td>8</td>\n",
       "    </tr>\n",
       "    <tr>\n",
       "      <th>3403</th>\n",
       "      <td>13135</td>\n",
       "      <td>7</td>\n",
       "      <td>Welche sprachliche Besonderheit stammt aus dem 16. Jahrhundert und steht im Zusammenhang mit dem Begriff \"derort\"?</td>\n",
       "      <td>380</td>\n",
       "      <td>23</td>\n",
       "    </tr>\n",
       "    <tr>\n",
       "      <th>3404</th>\n",
       "      <td>13135</td>\n",
       "      <td>9</td>\n",
       "      <td>Welche Kosten könnten durch die beschriebenen Maßnahmen entstehen?</td>\n",
       "      <td>152</td>\n",
       "      <td>10</td>\n",
       "    </tr>\n",
       "  </tbody>\n",
       "</table>\n",
       "<p>3405 rows × 5 columns</p>\n",
       "</div>"
      ],
      "text/plain": [
       "     letter_id n_footnote  \\\n",
       "0        10043         12   \n",
       "1        10043          5   \n",
       "2        10043          7   \n",
       "3        10043          8   \n",
       "4        10043          9   \n",
       "...        ...        ...   \n",
       "3400     13134          8   \n",
       "3401     13134          9   \n",
       "3402     13135          5   \n",
       "3403     13135          7   \n",
       "3404     13135          9   \n",
       "\n",
       "                                                                                                      generated_footnote  \\\n",
       "0                                          Welche Informationen sind in Anmerkung 6 auf Seite 67 zu Zuinglium zu finden?   \n",
       "1                                                                                      Was bedeutet das Wort \"excandeo\"?   \n",
       "2                                                               Welche Quelle bezieht sich auf die Werke von Lactantius?   \n",
       "3                                                          Welche Bedeutung hat der Name \"Thraso\" im Kontext des Textes?   \n",
       "4                                                       Welche Bedeutung hat das Wort \"harpigium\" im Kontext des Satzes?   \n",
       "...                                                                                                                  ...   \n",
       "3400                        Welche Informationen sind im Schreiben Nr. 3084 enthalten, auf das sich die Warnung bezieht?   \n",
       "3401                                               Wer ist Kaspar Seidensticker und welche Relevanz hat er für den Text?   \n",
       "3402                                                                                Wie bedeutend war die Angelegenheit?   \n",
       "3403  Welche sprachliche Besonderheit stammt aus dem 16. Jahrhundert und steht im Zusammenhang mit dem Begriff \"derort\"?   \n",
       "3404                                                  Welche Kosten könnten durch die beschriebenen Maßnahmen entstehen?   \n",
       "\n",
       "      prompt_tokens  completion_tokens  \n",
       "0               144                 21  \n",
       "1               536                  9  \n",
       "2               536                 13  \n",
       "3               536                 16  \n",
       "4               536                 16  \n",
       "...             ...                ...  \n",
       "3400            213                 21  \n",
       "3401            307                 19  \n",
       "3402            380                  8  \n",
       "3403            380                 23  \n",
       "3404            152                 10  \n",
       "\n",
       "[3405 rows x 5 columns]"
      ]
     },
     "execution_count": 7,
     "metadata": {},
     "output_type": "execute_result"
    }
   ],
   "source": [
    "pd.set_option('display.max_colwidth', None)  # show whole text in the cells\n",
    "df"
   ]
  },
  {
   "cell_type": "code",
   "execution_count": 43,
   "metadata": {},
   "outputs": [
    {
     "data": {
      "text/plain": [
       "0.08705392499999999"
      ]
     },
     "execution_count": 43,
     "metadata": {},
     "output_type": "execute_result"
    }
   ],
   "source": [
    "# calculate the cost of the batch:\n",
    "tokens = [(row.prompt_tokens, row.completion_tokens) for _, row in df.iterrows()]\n",
    "calculate_openai_cost(tokens, (0.075, 0.3))"
   ]
  },
  {
   "cell_type": "code",
   "execution_count": 12,
   "metadata": {},
   "outputs": [],
   "source": [
    "api_cost_logging(0.08705392499999999,\"gpt-4o-mini-2024-07-18-get_questions-dev\")"
   ]
  },
  {
   "cell_type": "code",
   "execution_count": 5,
   "metadata": {},
   "outputs": [
    {
     "name": "stdout",
     "output_type": "stream",
     "text": [
      "Batch(id='batch_67087efc2d0c81909bb3806e0dd64ef5', completion_window='24h', created_at=1728610044, endpoint='/v1/chat/completions', input_file_id='file-hAT5uqR5xEvvGEtcHci9pJni', object='batch', status='validating', cancelled_at=None, cancelling_at=None, completed_at=None, error_file_id=None, errors=None, expired_at=None, expires_at=1728696444, failed_at=None, finalizing_at=None, in_progress_at=None, metadata={'description': 'gpt-4o-mini-2024-07-18-get_questions-train'}, output_file_id=None, request_counts=BatchRequestCounts(completed=0, failed=0, total=0))\n",
      "gpt-4o-mini-2024-07-18-get_questions-train.jsonl\n"
     ]
    }
   ],
   "source": [
    "create_batch(\"gpt-4o-mini-2024-07-18\", \"get_questions\", \"train\")"
   ]
  },
  {
   "cell_type": "code",
   "execution_count": 5,
   "metadata": {},
   "outputs": [
    {
     "name": "stdout",
     "output_type": "stream",
     "text": [
      "completed\n"
     ]
    }
   ],
   "source": [
    "df = check_batch_and_save(\"batch_67087efc2d0c81909bb3806e0dd64ef5\", \"gpt-4o-mini-2024-07-18-get_questions-train.jsonl\")"
   ]
  },
  {
   "cell_type": "code",
   "execution_count": null,
   "metadata": {},
   "outputs": [],
   "source": [
    "pd.set_option('display.max_colwidth', None)  # show whole text in the cells\n",
    "df"
   ]
  },
  {
   "cell_type": "code",
   "execution_count": 6,
   "metadata": {},
   "outputs": [
    {
     "data": {
      "text/plain": [
       "0.6776942250000028"
      ]
     },
     "execution_count": 6,
     "metadata": {},
     "output_type": "execute_result"
    }
   ],
   "source": [
    "# calculate the cost of the batch:\n",
    "tokens = [(row.prompt_tokens, row.completion_tokens) for _, row in df.iterrows()]\n",
    "calculate_openai_cost(tokens, (0.075, 0.3))"
   ]
  },
  {
   "cell_type": "code",
   "execution_count": 13,
   "metadata": {},
   "outputs": [],
   "source": [
    "api_cost_logging(0.6776942250000028,\"gpt-4o-mini-2024-07-18-get_questions-train\")"
   ]
  },
  {
   "cell_type": "markdown",
   "metadata": {},
   "source": [
    "# Cost"
   ]
  },
  {
   "cell_type": "code",
   "execution_count": 14,
   "metadata": {},
   "outputs": [
    {
     "name": "stdout",
     "output_type": "stream",
     "text": [
      "7.679410499999997\n"
     ]
    },
    {
     "data": {
      "text/html": [
       "<div>\n",
       "<style scoped>\n",
       "    .dataframe tbody tr th:only-of-type {\n",
       "        vertical-align: middle;\n",
       "    }\n",
       "\n",
       "    .dataframe tbody tr th {\n",
       "        vertical-align: top;\n",
       "    }\n",
       "\n",
       "    .dataframe thead th {\n",
       "        text-align: right;\n",
       "    }\n",
       "</style>\n",
       "<table border=\"1\" class=\"dataframe\">\n",
       "  <thead>\n",
       "    <tr style=\"text-align: right;\">\n",
       "      <th></th>\n",
       "      <th>date</th>\n",
       "      <th>experiment</th>\n",
       "      <th>comment</th>\n",
       "      <th>cost</th>\n",
       "    </tr>\n",
       "  </thead>\n",
       "  <tbody>\n",
       "    <tr>\n",
       "      <th>0</th>\n",
       "      <td>NaN</td>\n",
       "      <td>informal_tests</td>\n",
       "      <td>NaN</td>\n",
       "      <td>0.685365</td>\n",
       "    </tr>\n",
       "    <tr>\n",
       "      <th>1</th>\n",
       "      <td>NaN</td>\n",
       "      <td>gpt-4o-mini-2024-07-18-instruct_add-test</td>\n",
       "      <td>NaN</td>\n",
       "      <td>2.544486</td>\n",
       "    </tr>\n",
       "    <tr>\n",
       "      <th>2</th>\n",
       "      <td>NaN</td>\n",
       "      <td>gpt-4o-mini-2024-07-18-instruct_add-dev</td>\n",
       "      <td>NaN</td>\n",
       "      <td>2.626526</td>\n",
       "    </tr>\n",
       "    <tr>\n",
       "      <th>3</th>\n",
       "      <td>NaN</td>\n",
       "      <td>gpt-4o-mini-2024-07-18-instruct_qa-example</td>\n",
       "      <td>faulty prompt</td>\n",
       "      <td>0.043797</td>\n",
       "    </tr>\n",
       "    <tr>\n",
       "      <th>4</th>\n",
       "      <td>NaN</td>\n",
       "      <td>gpt-4o-mini-2024-07-18-instruct_qa-dev</td>\n",
       "      <td>faulty prompt</td>\n",
       "      <td>1.012005</td>\n",
       "    </tr>\n",
       "    <tr>\n",
       "      <th>5</th>\n",
       "      <td>NaN</td>\n",
       "      <td>gpt-4o-mini-2024-07-18-get_questions-example</td>\n",
       "      <td>NaN</td>\n",
       "      <td>0.002484</td>\n",
       "    </tr>\n",
       "    <tr>\n",
       "      <th>6</th>\n",
       "      <td>NaN</td>\n",
       "      <td>gpt-4o-mini-2024-07-18-get_questions-dev</td>\n",
       "      <td>NaN</td>\n",
       "      <td>0.087054</td>\n",
       "    </tr>\n",
       "    <tr>\n",
       "      <th>7</th>\n",
       "      <td>NaN</td>\n",
       "      <td>gpt-4o-mini-2024-07-18-get_questions-train</td>\n",
       "      <td>NaN</td>\n",
       "      <td>0.677694</td>\n",
       "    </tr>\n",
       "  </tbody>\n",
       "</table>\n",
       "</div>"
      ],
      "text/plain": [
       "   date                                    experiment        comment      cost\n",
       "0   NaN                                informal_tests            NaN  0.685365\n",
       "1   NaN      gpt-4o-mini-2024-07-18-instruct_add-test            NaN  2.544486\n",
       "2   NaN       gpt-4o-mini-2024-07-18-instruct_add-dev            NaN  2.626526\n",
       "3   NaN    gpt-4o-mini-2024-07-18-instruct_qa-example  faulty prompt  0.043797\n",
       "4   NaN        gpt-4o-mini-2024-07-18-instruct_qa-dev  faulty prompt  1.012005\n",
       "5   NaN  gpt-4o-mini-2024-07-18-get_questions-example            NaN  0.002484\n",
       "6   NaN      gpt-4o-mini-2024-07-18-get_questions-dev            NaN  0.087054\n",
       "7   NaN    gpt-4o-mini-2024-07-18-get_questions-train            NaN  0.677694"
      ]
     },
     "execution_count": 14,
     "metadata": {},
     "output_type": "execute_result"
    }
   ],
   "source": [
    "import pandas as pd\n",
    "df = pd.read_csv(\"api_costs.csv\")\n",
    "print(sum(df[\"cost\"]))\n",
    "df"
   ]
  }
 ],
 "metadata": {
  "kernelspec": {
   "display_name": "base",
   "language": "python",
   "name": "python3"
  },
  "language_info": {
   "codemirror_mode": {
    "name": "ipython",
    "version": 3
   },
   "file_extension": ".py",
   "mimetype": "text/x-python",
   "name": "python",
   "nbconvert_exporter": "python",
   "pygments_lexer": "ipython3",
   "version": "3.11.5"
  }
 },
 "nbformat": 4,
 "nbformat_minor": 2
}
