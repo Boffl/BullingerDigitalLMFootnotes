{
 "cells": [
  {
   "cell_type": "code",
   "execution_count": 1,
   "metadata": {},
   "outputs": [],
   "source": [
    "api_key = \"\"  # todo fix error with environ var"
   ]
  },
  {
   "cell_type": "markdown",
   "metadata": {},
   "source": [
    "# Imports and prep"
   ]
  },
  {
   "cell_type": "code",
   "execution_count": 18,
   "metadata": {},
   "outputs": [],
   "source": [
    "from generate_gpt import OpenAiModels\n",
    "\n",
    "\n",
    "model = OpenAiModels(\"gpt-3.5-turbo\", api_key)\n",
    "\n",
    "messages = [{\n",
    "    \"role\": \"system\",\n",
    "    \"content\": f\"You are a student, taking the following exam on music history.\"},\n",
    "    {\"role\": \"user\",\n",
    "        \"content\": \"what year was Motzart born?\"}\n",
    "        ]\n",
    "\n",
    "# test if it works...\n",
    "# model.generate(messages)\n",
    "\n"
   ]
  },
  {
   "cell_type": "markdown",
   "metadata": {},
   "source": []
  },
  {
   "cell_type": "code",
   "execution_count": 19,
   "metadata": {},
   "outputs": [],
   "source": [
    "# Small input, one FN is there, a second one is to be generated:\n",
    "text1 = \"\"\"<TEI xmlns=\"http://www.tei-c.org/ns/1.0\" xml:id=\"file10224\" type=\"Brief\" source=\"HBBW-3\" n=\"193\">\n",
    "\t<teiHeader xml:lang=\"de\">\n",
    "\t\t<fileDesc>\n",
    "\t\t\t<titleStmt>\n",
    "\t\t\t\t<title subtype=\"file\">Konrad Geßner, Johannes Fries / Basel an Heinrich Bullinger, 25. Februar [1533]</title>\n",
    "\t\t\t</titleStmt>\n",
    "\t\t\t<publicationStmt>\n",
    "\t\t\t\t<authority>Universität Zürich</authority>\n",
    "\t\t\t\t</publicationStmt>\n",
    "\t\t\t<sourceDesc>\n",
    "\t\t\t\t</sourceDesc>\n",
    "\t\t</fileDesc>\n",
    "\t\t</teiHeader>\n",
    "\t<text xml:lang=\"la\">\n",
    "\t\t<body>\n",
    "\t\t\t<div xml:id=\"div1\" corresp=\"regest1\">\n",
    "\t\t\t\t<p>\n",
    "\t\t\t\t\t<s n=\"1\" xml:lang=\"la\" type=\"auto\">Optimo et integerrimo viro M. Henrico Bullingero, mecaenati charissimo.</s>\n",
    "\t\t\t\t</p>\n",
    "\t\t\t\t<p>\n",
    "\t\t\t\t\t<s n=\"2\" xml:lang=\"la\" type=\"auto\">S.</s>\n",
    "\t\t\t\t\t<s n=\"3\" xml:lang=\"la\" type=\"auto\">Impediunt nos ab itinere<note xml:id=\"fn3\" type=\"footnote\" n=\"3\"><persName ref=\"p1283\" cert=\"high\">Geßner</persName> und <persName ref=\"p1214\" cert=\"high\">Fries</persName> befanden sich auf dem Weg nach <placeName ref=\"l59\" cert=\"high\">Bourges</placeName>.</note> nives, pluvia et ventorum vis.</s>\n",
    "\t\t\t\t\t<s n=\"4\" xml:lang=\"la\" type=\"auto\"><placeName ref=\"l28\" cert=\"high\">Basileae</placeName> apud <persName ref=\"p8418\" cert=\"high\">Myconium</persName><note xml:id=\"fn4\" type=\"footnote\" n=\"4\">\"\"\"\n",
    "\n",
    "# Same Letter, but now the first FN is to be generated. Meaning the model has no direct example of a FN in the edition\n",
    "text2 = \"\"\"<TEI xmlns=\"http://www.tei-c.org/ns/1.0\" xml:id=\"file10224\" type=\"Brief\" source=\"HBBW-3\" n=\"193\">\n",
    "\t<teiHeader xml:lang=\"de\">\n",
    "\t\t<fileDesc>\n",
    "\t\t\t<titleStmt>\n",
    "\t\t\t\t<title subtype=\"file\">Konrad Geßner, Johannes Fries / Basel an Heinrich Bullinger, 25. Februar [1533]</title>\n",
    "\t\t\t</titleStmt>\n",
    "\t\t\t<publicationStmt>\n",
    "\t\t\t\t<authority>Universität Zürich</authority>\n",
    "\t\t\t\t</publicationStmt>\n",
    "\t\t\t<sourceDesc>\n",
    "\t\t\t\t</sourceDesc>\n",
    "\t\t</fileDesc>\n",
    "\t\t</teiHeader>\n",
    "\t<text xml:lang=\"la\">\n",
    "\t\t<body>\n",
    "\t\t\t<div xml:id=\"div1\" corresp=\"regest1\">\n",
    "\t\t\t\t<p>\n",
    "\t\t\t\t\t<s n=\"1\" xml:lang=\"la\" type=\"auto\">Optimo et integerrimo viro M. Henrico Bullingero, mecaenati charissimo.</s>\n",
    "\t\t\t\t</p>\n",
    "\t\t\t\t<p>\n",
    "\t\t\t\t\t<s n=\"2\" xml:lang=\"la\" type=\"auto\">S.</s>\n",
    "\t\t\t\t\t<s n=\"3\" xml:lang=\"la\" type=\"auto\">Impediunt nos ab itinere<note xml:id=\"fn3\" type=\"footnote\" n=\"3\">\"\"\"\n",
    "\n",
    "# A long letter, the model has to generate the very last FN\n",
    "text3 =  \"\"\"<TEI xmlns=\"http://www.tei-c.org/ns/1.0\" xml:id=\"file12260\" type=\"Brief\" source=\"HBBW-15\" n=\"2213\">\n",
    "\t<teiHeader xml:lang=\"de\">\n",
    "\t\t<fileDesc>\n",
    "\t\t\t<titleStmt>\n",
    "\t\t\t\t<title subtype=\"file\">Matthias Erb / Reichenweier an Heinrich Bullinger, 11. August [1545]</title>\n",
    "\t\t\t</titleStmt>\n",
    "\t\t\t<publicationStmt>\n",
    "\t\t\t\t<authority>Universität Zürich</authority>\n",
    "\t\t\t\t</publicationStmt>\n",
    "\t\t\t<sourceDesc>\n",
    "\t\t\t\t<bibl type=\"scan\">Zürich StA</bibl>\n",
    "\t\t\t\t</sourceDesc>\n",
    "\t\t</fileDesc>\n",
    "\t\t</teiHeader>\n",
    "\t<text xml:lang=\"la\">\n",
    "\t\t<body>\n",
    "\t\t\t<div xml:id=\"div1\" corresp=\"regest1\">\n",
    "\t\t\t\t<p>\n",
    "\t\t\t\t\t<s n=\"1\" xml:lang=\"la\" type=\"auto\">Gratia domini tecum.</s>\n",
    "\t\t\t\t\t<s n=\"2\" xml:lang=\"la\" type=\"auto\">Quum decima augusti<note xml:id=\"fn2\" type=\"footnote\" n=\"2\">An einem Montag, dem Vortag (s. Z. 17f) des Datums dieses Briefes.</note> e suggestu descendissem me actutum a templo ad aulam conferens (vocatus scilicet a cancellario<note xml:id=\"fn3\" type=\"footnote\" n=\"3\"><persName ref=\"p8103\" cert=\"high\">Sigismund Stier</persName>.</note> ob quędam negotia ecclesię componenda), venit hic tuus legatus<note xml:id=\"fn4\" type=\"footnote\" n=\"4\"><persName ref=\"p18219\" cert=\"high\">Markus Wüst</persName>; s. oben <ref target=\"file12256\">Nr. 2209</ref>, Anm. b.</note> hora ferme nona et, dum in angiportu sisto gradum, servum<note xml:id=\"fn5\" type=\"footnote\" n=\"5\">Unbekannt.</note> ad limina de <persName ref=\"p1010\" cert=\"high\">Erbio</persName> rogat, me vero oculis ostiario significante ne proderet, statim digito demonstrat dicens: „Hic est.“</s>\n",
    "\t\t\t\t\t<s n=\"3\" xml:lang=\"la\" type=\"auto\">Is ergo ad me veniens percunctatur, an mihi sit nomen <persName ref=\"p1010\" cert=\"high\">Erbio</persName>.</s>\n",
    "\t\t\t\t\t<s n=\"4\" xml:lang=\"la\" type=\"auto\">Aio.</s>\n",
    "\t\t\t\t\t<s n=\"5\" xml:lang=\"la\" type=\"auto\">Statimque litteras<note xml:id=\"fn6\" type=\"footnote\" n=\"6\">Oben <ref target=\"file12256\">Nr. 2209</ref>.</note> depromens dicebat a te missas.</s>\n",
    "\t\t\t\t\t<s n=\"6\" xml:lang=\"la\" type=\"auto\">Acceptas legi simul obstupescens tuam, qui alias occupatissimus es, sedulitatem in describendis ex autographo copiis<note xml:id=\"fn7\" type=\"footnote\" n=\"7\">Vgl. oben <ref target=\"file12256\">Nr. 2209</ref>, 15-19.</note>.</s>\n",
    "\t\t\t\t\t<s n=\"7\" xml:lang=\"la\" type=\"auto\">Stans ergo attonitus et propemodum exanimis iussi adolescentem expectare, dum redeam, atque subinde inter tractatus et varias dissidentium quęstiones et tacite et indesinenter volvo ac revolvo intime, quę scripseras.</s>\n",
    "\t\t\t\t\t<s n=\"8\" xml:lang=\"la\" type=\"auto\">Absolutus a strepitu aulico eo cum adolescente pransum interque epulandum de singulis rebus percunctor, statim scilicet a mensa tibi responsurus.</s>\n",
    "\t\t\t\t\t<s n=\"9\" xml:lang=\"la\" type=\"auto\">Dum id meditor, alius adest nuntius<note xml:id=\"fn8\" type=\"footnote\" n=\"8\">Unbekannt.</note> litteras ferens a principe<note xml:id=\"fn9\" type=\"footnote\" n=\"9\"><persName ref=\"p8098\" cert=\"high\">Graf Georg von Württemberg-Mömpelgard</persName>, der sich laut Z. 16 damals in <placeName ref=\"l569\" cert=\"high\">Worms</placeName> aufhielt. Seine Teilnahme am <placeName ref=\"l569\" cert=\"high\">Wormser</placeName> Reichstag ist in RTA JR XVIII-2 nicht belegt.</note>, in quibus multa mihi committuntur negotia principemque a comitiis<note xml:id=\"fn10\" type=\"footnote\" n=\"10\">Der Reichstag in <placeName ref=\"l569\" cert=\"high\">Worms</placeName>.</note> propediem rediturum pollicentes.</s>\n",
    "\t\t\t\t\t<s n=\"10\" xml:lang=\"la\" type=\"auto\">Hinc eo die, tametsi adolescens crebro urgeret abituriens, nil scripsi omnia in posterum, hoc est in hodiernum, reiiciens diem.</s>\n",
    "\t\t\t\t\t<s n=\"11\" xml:lang=\"la\" type=\"auto\">Haec de pueri tui diligentia.</s>\n",
    "\t\t\t\t</p>\n",
    "\t\t\t\t<p>\n",
    "\t\t\t\t\t<s n=\"12\" xml:lang=\"la\" type=\"auto\">Quod vero ad negotium adtinet, paucis haec accipe.</s>\n",
    "\t\t\t\t\t<s n=\"13\" xml:lang=\"la\" type=\"auto\">Fateor me iam annum quinquagesimum egressum<note xml:id=\"fn11\" type=\"footnote\" n=\"11\"><persName ref=\"p1010\" cert=\"high\">Erb</persName> war 1494 geboren.</note>, et qui nunc in ea aetate sum, quę sedatior esse cupit, sepicule curas aulicas, quibus distringor,<pb type=\"scan\" next=\"257v.\"/> depręcatum, sed parum promovisse; imo, quo plus me expedire cupio, eo amplius perstringor dispendio et vitae et rerum.</s>\n",
    "\t\t\t\t\t<s n=\"14\" xml:lang=\"la\" type=\"auto\">Sic deo optimo maximo visum est.</s>\n",
    "\t\t\t\t</p>\n",
    "\t\t\t\t<p>\n",
    "\t\t\t\t\t<s n=\"15\" xml:lang=\"la\" type=\"auto\">Quod ad vitam, ut omnia manifestius depingam, subit tarda senectus,<note xml:id=\"fn12\" type=\"footnote\" n=\"12\"><hi>Vergil,</hi> Aeneis, 9, 610.</note> quę difficilis incipit esse, sola non suffitiens laboribus, dum indies creberrime exantlatur.</s>\n",
    "\t\t\t\t\t<s n=\"16\" xml:lang=\"la\" type=\"auto\">Nullum habeo symmistam, ut nosti, opinor.</s>\n",
    "\t\t\t\t\t<s n=\"17\" xml:lang=\"la\" type=\"auto\">Plures iussu principis vocavi; sed horrent id, quod ego quęror.</s>\n",
    "\t\t\t\t\t<s n=\"18\" xml:lang=\"la\" type=\"auto\">Metuunt enim sibi ab ingeniis cervinis<note xml:id=\"fn13\" type=\"footnote\" n=\"13\">ingenium cervinum: ein ängstliches Wesen; s. <bibl>Adagia</bibl>, 2, 7, 36 (<bibl>ASD</bibl> II/4 110, <ref target=\"file11679\">Nr. 1636</ref>).</note>, nec ego quenquam nisi volentem ad me trahere volo, etc.<pb type=\"edition\" next=\"439\"/></s>\n",
    "\t\t\t\t\t<s n=\"19\" xml:lang=\"la\" type=\"auto\">Quod vero ad res meas adtinet, male collocat ille, quem ex nomine nosti, stipendia.</s>\n",
    "\t\t\t\t\t<s n=\"20\" xml:lang=\"la\" type=\"auto\">Ex patrimonio intra quinquennium<note xml:id=\"fn16\" type=\"footnote\" n=\"16\">D.h. seit 1539, was mit dem Amtsantritt <persName ref=\"p17986\" cert=\"high\">Henmans</persName> übereinstimmt.</note> ducentos fere aureos non in meam, sed magis ecclesię necessitatem exposui, quod dies domini revelabit.</s>\n",
    "\t\t\t\t\t<s n=\"21\" xml:lang=\"la\" type=\"auto\">Nec quęror, optime frater, de perditis rebus, sed de Harpiis furacibus, qui recte monentes non exaudiunt et ecclesię avaritię notam inurunt; quod non adeo magni referret, nisi metuendum de excidio foret.</s>\n",
    "\t\t\t\t\t<s n=\"22\" xml:lang=\"la\" type=\"auto\">Quamdiu rapiendum, placet Christus; dum defecerit ecclesię fiscus, non placebit ultra Christus!</s>\n",
    "\t\t\t\t\t<s n=\"23\" xml:lang=\"la\" type=\"auto\">Hactenus 3 fuimus in isto oppido, ubi quisque designatum habuit<pb type=\"edition\" next=\"440\"/> stipendium.</s>\n",
    "\t\t\t\t\t<s n=\"24\" xml:lang=\"la\" type=\"auto\">Ego nunc solus omnibus curis pręfectus aegre a satrapis<note xml:id=\"fn18\" type=\"footnote\" n=\"18\">Zu verstehen: von den Beamten, u.a. vom neuen Schaffner.</note> meum recipio stipendium, et si egerem, vix triobulo sublevarent.</s>\n",
    "\t\t\t\t\t<s n=\"25\" xml:lang=\"la\" type=\"auto\">Sunt pręterea et alię rationes, quibus te nolo nunc gravare scribendo, etc.</s>\n",
    "\t\t\t\t\t<s n=\"26\" xml:lang=\"la\" type=\"auto\">Atque inter tot turbines nondum video satis iustam occasionem desertionis huius ecclesię.</s>\n",
    "\t\t\t\t</p>\n",
    "\t\t\t\t<p>\n",
    "\t\t\t\t\t<s n=\"27\" xml:lang=\"de\" type=\"auto\"><pb type=\"scan\" next=\"257a,r.\"/>Summa.</s>\n",
    "\t\t\t\t\t<s n=\"28\" xml:lang=\"la\" type=\"auto\">Ita haereo inter sacrum et saxum<note xml:id=\"fn19\" type=\"footnote\" n=\"19\">Siehe Adagia, 1, 1, 15 (<bibl>ASD</bibl> II/1 128f, Nr. 15).</note>, ut nunc sine discrimine ecclesięque Christi maxima iactura, ut facile intelligis, discedere nequeam.</s>\n",
    "\t\t\t\t</p>\n",
    "\t\t\t\t<p>\n",
    "\t\t\t\t\t<s n=\"29\" xml:lang=\"la\" type=\"auto\">Atque eę sunt potissimę rationes.</s>\n",
    "\t\t\t\t\t<s n=\"30\" xml:lang=\"la\" type=\"auto\">Ecclesias nostras iam a sexto anno<note xml:id=\"fn20\" type=\"footnote\" n=\"20\">D.h. seit 1538, als Erbin Reichenweier tätig wurde.</note> utcunque in ordinem, ut potuimus - quando, ut volueramus, non licuit - redegimus.</s>\n",
    "\t\t\t\t</p>\n",
    "\t\t\t\t<p>\n",
    "\t\t\t\t\t<s n=\"31\" xml:lang=\"la\" type=\"auto\">Annitendum ergo, ut cępta perficiantur.</s>\n",
    "\t\t\t\t\t<s n=\"32\" xml:lang=\"la\" type=\"auto\">Ad hoc ecclesia illa nobis contigua, Montbelgardiana, cum suo principe<note xml:id=\"fn21\" type=\"footnote\" n=\"21\"><persName ref=\"p1546\" cert=\"high\">Graf Christoph von Württemberg</persName>.</note> adhuc vacillat; de qua totus liber foret perscribendus.</s>\n",
    "\t\t\t\t\t<s n=\"33\" xml:lang=\"la\" type=\"auto\">Pręterea scholę quattuor in isto parviusculo agro sunt constitutę et quinta in rure instituenda, stipendia quoque studiosis quibusdam ante paucos menses pollicita,<note xml:id=\"fn23\" type=\"footnote\" n=\"23\">Erst 1555 kam es zur Einrichtung eines solchen Stipendiums durch Graf Georg; s. <hi>Adam,</hi> aao, S. 306.</note> sed haec non omnia firmata et rata, proponenda etiamnum ecclesię quędam decreta, quibus ad disciplinam et sanctos mores utcunque redigantur, idque statim redeunte principe.</s>\n",
    "\t\t\t\t\t<s n=\"34\" xml:lang=\"la\" type=\"auto\">Illo enim absente haec omnia conscripta sunt.</s>\n",
    "\t\t\t\t\t<s n=\"35\" xml:lang=\"la\" type=\"auto\">Dum igitur nunc mutavero locum omnia sub cultro relinquens<note xml:id=\"fn24\" type=\"footnote\" n=\"24\">omnia sub cultro relinquens: alles der Gefahr aussetzend; vgl. <bibl>Adagia</bibl>, 2, 10, 83 (<bibl>ASD</bibl> II/4 328, <ref target=\"file12030\">Nr. 1983</ref>).</note>, facile intelligis, quid periculi inmineat.</s>\n",
    "\t\t\t\t\t<s n=\"36\" xml:lang=\"la\" type=\"auto\">In primis severus princeps, a quo omnia pendent, facile vel mutaretur vel irritaretur, ut solet hoc hominum genus; id quod nimirum magis in ecclesię quam in meum incomodum cęderet.</s>\n",
    "\t\t\t\t\t<s n=\"37\" xml:lang=\"la\" type=\"auto\">Viden inter coelum et terram me suspensum palpitare neque posse hac ratione vel vocatione, quę tamen et sancta et iusta, liberari?</s>\n",
    "\t\t\t\t\t<s n=\"38\" xml:lang=\"la\" type=\"auto\">Occasio mihi expectanda comodior, quę me liberet sine ecclesię iactura.</s>\n",
    "\t\t\t\t\t<s n=\"39\" xml:lang=\"la\" type=\"auto\">Nam si iam abirem, ecclesia viduata absque pastore inter cunctatores et cessatores fluctuaret, etc.</s>\n",
    "\t\t\t\t</p>\n",
    "\t\t\t\t<p>\n",
    "\t\t\t\t\t<s n=\"40\" xml:lang=\"la\" type=\"auto\"><pb type=\"scan\" next=\"257a,v.\"/>Ago vero et habeo tibi gratias inmortales, humanissime Bullingere, quod admodum ingenti cura meo nomine laboraveris, atque hoc impensius te amo, quod charitatis offitium non fucate, sed dextre candideque in me collocaris, imo significaris in hac sancta vocatione.</s>\n",
    "\t\t\t\t\t<s n=\"41\" xml:lang=\"la\" type=\"auto\">Respondebit olim procul dubio deus optimus maximus tuis votis, quo <placeName ref=\"l1976\" cert=\"high\">Augustani</placeName> nanciscantur virum aliquem sanctum, ecclesię dignum ministrum,<note xml:id=\"fn25\" type=\"footnote\" n=\"25\"><persName ref=\"p8018\" cert=\"high\">Johannes Haller</persName> wurde schließlich aus Zurich nach <placeName ref=\"l1976\" cert=\"high\">Augsburg</placeName> gesandt; s. oben <ref target=\"file12211\">Nr. 2164</ref>, Anm. 10.</note> atque ego etiam tuis assiduis<pb type=\"edition\" next=\"441\"/> praecibus vel liberer publica occasione vel sub onere non defitiam.</s>\n",
    "\t\t\t\t\t<s n=\"42\" xml:lang=\"la\" type=\"auto\">Sed te etiamnum per Iesum Christum, ne deinceps plus mihi vel tribuas, immodicus scilicet virtutum mearum, quibus penitus careo, pręco, vel magis sentias de me, quam res est.</s>\n",
    "\t\t\t\t\t<s n=\"43\" xml:lang=\"la\" type=\"auto\">Optime enim mihi ipsi conscius sum curtę suppellectilis,<note xml:id=\"fn26\" type=\"footnote\" n=\"26\"><hi>Persius,</hi> Saturae, 4, 52.</note> quam tu, ni fallor, maiori atque ego, nescio quorum iuditio persuasus, aestimas.</s>\n",
    "\t\t\t\t</p>\n",
    "\t\t\t\t<p>\n",
    "\t\t\t\t\t<s n=\"44\" xml:lang=\"la\" type=\"auto\">Porro, quod nunc temporis importunitas negat, alias benignus deus, ecclesiarum verus et unicus pastor<note xml:id=\"fn27\" type=\"footnote\" n=\"27\">Vgl. <cit type=\"bible\"><ref>Hebr 13, 20</ref></cit>; <cit type=\"bible\"><ref>1Petr 2, 25</ref></cit>; <cit type=\"bible\"><ref>5, 4.</ref></cit></note>, solita clementia sancta resarciet oportunitate.</s>\n",
    "\t\t\t\t\t<s n=\"45\" xml:lang=\"la\" type=\"auto\">Sancto quoque magistratui <placeName ref=\"l1976\" cert=\"high\">Augustano</placeName>, inprimis vero erudito viro domino <persName ref=\"p8354\" cert=\"high\">Georgio Leto</persName><note xml:id=\"fn28\" type=\"footnote\" n=\"28\"><persName ref=\"p8354\" cert=\"high\">Georg Frölich</persName>.</note>, ingentes gratias meo nomine agas, obsecro, quod me, ineptum homuntionem,<note xml:id=\"fn29\" type=\"footnote\" n=\"29\">Vgl. <cit type=\"bible\"><ref>1Kor 15,9</ref></cit>; <cit type=\"bible\"><ref>Eph 3, 8</ref></cit>.</note> adeo egregia dignati sint vocatione.</s>\n",
    "\t\t\t\t\t<s n=\"46\" xml:lang=\"la\" type=\"auto\">Ego quoque deinceps eius ecclesię maiorem habebo - si potis fuero - ubique rationem, optoque illis stabilem pacem et concordiam talesque antistites, qui pietate, eruditione, prudentia, vigilantia et fidelitate ita pręmineant, quo Christus in ea republica ita mittat radices, ut nullis satanę et impiorum imposturis deiiciatur.</s>\n",
    "\t\t\t\t\t<s n=\"47\" xml:lang=\"la\" type=\"auto\">Monebis ergo illos, ne me deinceps expectent; ignoro enim meam liberationem.</s>\n",
    "\t\t\t\t\t<s n=\"48\" xml:lang=\"la\" type=\"auto\">Servet te Christus.</s>\n",
    "\t\t\t\t</p>\n",
    "\t\t\t\t<p>\n",
    "\t\t\t\t\t<note type=\"attachment\">[Beilage:]</note>\n",
    "\t\t\t\t\t<s n=\"49\" xml:lang=\"la\" type=\"auto\"><pb type=\"scan\" next=\"258r.\"/>Nova: Absolutionem conmitiorum<note xml:id=\"fn30\" type=\"footnote\" n=\"30\">Der Reichstag zu <placeName ref=\"l569\" cert=\"high\">Worms</placeName>.</note> non ignoras, in quibus nil certi definitum, nisi quod istis hybernis mensibus adversarii nobis pacem condixerunt; futura aestate nobis providendum erit<note xml:id=\"fn31\" type=\"footnote\" n=\"31\">Ein Gerücht.</note>.</s>\n",
    "\t\t\t\t\t<s n=\"50\" xml:lang=\"la\" type=\"auto\">Acta comitiorum nondum sunt publicata.</s>\n",
    "\t\t\t\t\t<s n=\"51\" xml:lang=\"la\" type=\"auto\">Aiunt quidam caesari<note xml:id=\"fn33\" type=\"footnote\" n=\"33\"><persName ref=\"p18538\" cert=\"high\">Karl V.</persName></note> omnia esse commissa, ut dicat sententiam etiam in religionis negotio certis tamen conditionibus; quodsi verum fuerit, ovem dicemus lupo<note xml:id=\"fn34\" type=\"footnote\" n=\"34\">Vgl. <cit type=\"bible\"><ref>Joh 10, 12</ref></cit>.</note> commissam.</s>\n",
    "\t\t\t\t</p>\n",
    "\t\t\t\t<p>\n",
    "\t\t\t\t\t<s n=\"52\" xml:lang=\"la\" type=\"auto\"><persName ref=\"p18477\" cert=\"high\">Ferdinandus</persName> priori septimana<note xml:id=\"fn35\" type=\"footnote\" n=\"35\">Zu verstehen: In der ersten Augustwoche. - <persName ref=\"p18477\" cert=\"high\">Ferdinand I.</persName> war am 31. Juli 1545 aus <placeName ref=\"l569\" cert=\"high\">Worms</placeName> abgereist; s. unten <ref target=\"file12261\">Nr. 2214</ref>, 28 und Anm. 20.</note> a comitiis magno strepitu solvens Bohemiam petit cum <persName ref=\"p7688\" cert=\"high\">Nausea</persName><note xml:id=\"fn36\" type=\"footnote\" n=\"36\"><persName ref=\"p7688\" cert=\"high\">Friedrich Nausea</persName>, Bischof von <placeName ref=\"l546\" cert=\"high\">Wien</placeName>.</note> suo et quibusdam monachis.</s>\n",
    "\t\t\t\t\t<s n=\"53\" xml:lang=\"la\" type=\"auto\">Sequenti septimana<pb type=\"edition\" next=\"442\"/> caesar abiturus est, sed quo, ignoratur<note xml:id=\"fn37\" type=\"footnote\" n=\"37\"><persName ref=\"p18538\" cert=\"high\">Karl V.</persName> hatte <placeName ref=\"l569\" cert=\"high\">Worms</placeName> am 7. August in Richtung <placeName ref=\"l267\" cert=\"high\">Köln</placeName> verlassen; s. oben <ref target=\"file12261\">Nr. 2214</ref>, 31 und Anm. 23f.</note>.</s>\n",
    "\t\t\t\t\t<s n=\"54\" xml:lang=\"la\" type=\"auto\">Erant alia dicta comitia ad <placeName ref=\"l410\" cert=\"high\">Reginospurgum</placeName> ad mensem octobrem,<note xml:id=\"fn38\" type=\"footnote\" n=\"38\">Der geplante Reichstag in <placeName ref=\"l410\" cert=\"high\">Regensburg</placeName>, der erst Anfang 1546 begann; s. oben <ref target=\"file12258\">Nr. 2211</ref>, Anm. 24.</note>, sed aiunt quidam irritata<note xml:id=\"fn39\" type=\"footnote\" n=\"39\">Hier im Sinne von \"vergeblich\"; s. <hi><persName ref=\"p8320\" cert=\"high\">Dasypodius</persName>,</hi> Dic. 199.</note>, etc.</s>\n",
    "\t\t\t\t</p>\n",
    "\t\t\t\t<p>\n",
    "\t\t\t\t\t<s n=\"55\" xml:lang=\"la\" type=\"auto\">Urgent plures nacionale concilium, idque <placeName ref=\"322\" type=\"auto_name\">Metis</placeName><note xml:id=\"fn40\" type=\"footnote\" n=\"40\"><placeName ref=\"l322\" cert=\"high\">Metz</placeName>.</note> celebrari postulant.</s>\n",
    "\t\t\t\t\t<s n=\"56\" xml:lang=\"la\" type=\"auto\">Musher<note xml:id=\"fn41\" type=\"footnote\" n=\"41\">Vom französischen \"Monsieur\".</note> de Gyß<note xml:id=\"fn42\" type=\"footnote\" n=\"42\"><persName ref=\"p18450\" cert=\"high\">Claude I. von Lothringen</persName>, Herzog von Guise.</note>, defuncti ducis Lotharingię frater<note xml:id=\"fn43\" type=\"footnote\" n=\"43\">Der am 12. Juni 1545 verstorbene <persName ref=\"p7637\" cert=\"high\">François I. von Lothringen</persName> war nicht Claudes Bruder, sondern sein Neffe. Bruder von Claude war der Vater des Verstorbenen, nämlich <persName ref=\"p18431\" cert=\"high\">Anton II. von Lothringen</persName> (gest. Juni 1544).</note>, patruum suum conscripto milite et auxilio regis<note xml:id=\"fn45\" type=\"footnote\" n=\"45\"><persName ref=\"p7637\" cert=\"high\">König Franz I.</persName></note> Gallorum conatur e ducatu pellere.</s>\n",
    "\t\t\t\t\t<s n=\"57\" xml:lang=\"la\" type=\"auto\"><persName ref=\"p18538\" cert=\"high\">Caesar</persName> vero iuniori<note xml:id=\"fn46\" type=\"footnote\" n=\"46\"><persName ref=\"p18536\" cert=\"high\">Karl III. von Lothringen</persName>.</note>, qui patri<note xml:id=\"fn47\" type=\"footnote\" n=\"47\"><persName ref=\"p7637\" cert=\"high\">François I. von Lothringen</persName>.</note> successit, subsidium et <placeName ref=\"l29\" cert=\"high\">Hispanum</placeName> militem pollicitus est.</s>\n",
    "\t\t\t\t\t<s n=\"58\" xml:lang=\"la\" type=\"auto\">Quodsi res non fuerit composita, putant novum bellum inter caesarem et Gallum oriturum.</s>\n",
    "\t\t\t\t\t<s n=\"59\" xml:lang=\"la\" type=\"auto\">Feruntur alia quedam nova, sed forte non fide digna: mundus mendatiis scatet<note xml:id=\"fn48\" type=\"footnote\" n=\"48\">Vgl. <bibl>TPMA</bibl> XIII 46, 125f: Die Welt ist falscher Zungen voll.</note>.</s>\n",
    "\t\t\t\t\t<s n=\"60\" xml:lang=\"la\" type=\"auto\">Haec omnia raptim.</s>\n",
    "\t\t\t\t</p>\n",
    "\t\t\t\t<p>\n",
    "\t\t\t\t\t<s n=\"61\" xml:lang=\"la\" type=\"auto\">Valebis igitur, vir humanissime, cum ecclesia sancta et familia.</s>\n",
    "\t\t\t\t\t<s n=\"62\" xml:lang=\"la\" type=\"auto\">Salutabis vicissim tuos, in primis meum <persName ref=\"p8412\" cert=\"high\">Megandrum</persName>, <persName ref=\"p8437\" cert=\"high\">Erasmum</persName>,<note xml:id=\"fn49\" type=\"footnote\" n=\"49\">\"\"\""
   ]
  },
  {
   "cell_type": "code",
   "execution_count": 11,
   "metadata": {},
   "outputs": [],
   "source": [
    "def calculate_openai_cost(tokens:list[tuple[int]], price_per_1M:tuple[float]):\n",
    "    \"\"\"calculate the cost\n",
    "    param tokens: list of tuples, input and output\n",
    "    param price_per_1M: tuple of pricing, input and output\"\"\"\n",
    "    cost = 0\n",
    "    for in_toks, out_toks in tokens:\n",
    "        cost += in_toks*price_per_1M[0] + out_toks*price_per_1M[1]\n",
    "    return cost/(10**6)  # don't forget to divide by 1M"
   ]
  },
  {
   "cell_type": "markdown",
   "metadata": {},
   "source": [
    "# Generating"
   ]
  },
  {
   "cell_type": "markdown",
   "metadata": {},
   "source": [
    "## Informal Tests"
   ]
  },
  {
   "cell_type": "markdown",
   "metadata": {},
   "source": [
    "#### test 1\n",
    "Formulating the completion task in Chat template."
   ]
  },
  {
   "cell_type": "markdown",
   "metadata": {},
   "source": [
    "Original FN: <br>\n",
    "```xml\n",
    "<persName ref=\"p1214\" cert=\"high\">Fries</persName>\n",
    "und\n",
    "<persName ref=\"p1283\" cert=\"high\">Geßner</persName>\n",
    "waren in einem Brief\n",
    "<persName ref=\"p8127\" cert=\"high\">Pellikans</persName>\n",
    "vom 19. Februar 1533 an\n",
    "<persName ref=\"p8418\" cert=\"high\">Myconius</persName>\n",
    "empfohlen worden (Zürich StA, E II 358, 98).\n",
    "</note>\n",
    "```\n",
    "FN from the ICL:<br>\n",
    "```xml\n",
    "<note xml:id=\"fn49\" type=\"footnote\" n=\"49\">\n",
    "<persName ref=\"p8437\" cert=\"high\">Erasmus Schmid</persName>\n",
    ".\n",
    "</note>\n",
    "```"
   ]
  },
  {
   "cell_type": "code",
   "execution_count": 21,
   "metadata": {},
   "outputs": [],
   "source": [
    "\n",
    "\n",
    "ICL_SYSTEM_PROMPT = \"Du bist Historiker und hast dich auf die Reformation spezialisiert. Gerade arbeitest du daran Briefe von Heinrich Bullinger zu edieren. Vervolständige die Inhaltlichen Fussnoten.\"\n",
    "\n",
    "# footnote for the icl\n",
    "footnote_text2 = \"\"\"<note xml:id=\"fn3\" type=\"footnote\" n=\"3\"><persName ref=\"p1283\" cert=\"high\">Geßner</persName> und <persName ref=\"p1214\" cert=\"high\">Fries</persName> befanden sich auf dem Weg nach <placeName ref=\"l59\" cert=\"high\">Bourges</placeName>.</note>\"\"\"\n",
    "\n",
    "# Note the openai API does not allow for arbitrary names for the chatting parties:\n",
    "# {'error': {'message': \"Invalid value: 'historian'. Supported values are: 'system', 'assistant', 'user', 'function', and 'tool'.\", 'type': 'invalid_request_error', 'param': 'messages[1].role', 'code': 'invalid_value'}}\n",
    "\n",
    "def icl_prompt(text):\n",
    "  \"\"\"Generate a prompt that gives the example from text2\"\"\"\n",
    "  messages = [\n",
    "      {\"role\": \"system\", \"content\": ICL_SYSTEM_PROMPT},\n",
    "      {\"role\": \"user\", \"content\": text2},   \n",
    "      {\"role\": \"assistant\", \"content\": footnote_text2},\n",
    "      {\"role\": \"user\", \"content\": text}\n",
    "  ]\n",
    "  return messages\n",
    "\n",
    "\n"
   ]
  },
  {
   "cell_type": "code",
   "execution_count": 24,
   "metadata": {},
   "outputs": [
    {
     "name": "stdout",
     "output_type": "stream",
     "text": [
      "<note xml:id=\"fn4\" type=\"footnote\" n=\"4\">Myconius, ein wichtiger Reformator und Freund von Bullinger, war in Basel tätig und spielte eine zentrale Rolle in der Verbreitung der reformatorischen Ideen in der Region.</note>\n",
      "<note xml:id=\"fn4\" type=\"footnote\" n=\"4\">Myconius, ein wichtiger Reformator und Freund von Bullinger, war in Basel tätig und spielte eine zentrale Rolle in der Verbreitung der reformatorischen Ideen in der Region.</note>\n",
      "<note xml:id=\"fn4\" type=\"footnote\" n=\"4\">Myconius, ein wichtiger Reformator und Freund von Bullinger, war in Basel tätig und spielte eine bedeutende Rolle in der Verbreitung der reformatorischen Ideen in der Region.</note>\n",
      "<note xml:id=\"fn4\" type=\"footnote\" n=\"4\">Myconius, ein wichtiger Reformator und Freund von Bullinger, war in Basel tätig und spielte eine zentrale Rolle in der Verbreitung der reformatorischen Ideen in der Region.</note>\n",
      "<note xml:id=\"fn4\" type=\"footnote\" n=\"4\">Myconius, ein wichtiger Reformator und Freund von Bullinger, war in Basel tätig und spielte eine bedeutende Rolle in der Verbreitung der reformatorischen Ideen in der Region.</note>\n",
      "<note xml:id=\"fn4\" type=\"footnote\" n=\"4\">Myconius, ein wichtiger Reformator und Freund von Bullinger, war in Basel tätig und spielte eine bedeutende Rolle in der Verbreitung der reformatorischen Ideen in der Region.</note>\n",
      "<note xml:id=\"fn4\" type=\"footnote\" n=\"4\">Myconius, ein wichtiger Reformator und Freund von Bullinger, war in Basel tätig und spielte eine zentrale Rolle in der Verbreitung der reformatorischen Ideen in der Region.</note>\n",
      "<note xml:id=\"fn4\" type=\"footnote\" n=\"4\">Myconius, ein wichtiger Reformator und Freund von Bullinger, war in Basel tätig und spielte eine zentrale Rolle in der Verbreitung der reformatorischen Ideen in der Region.</note>\n",
      "<note xml:id=\"fn4\" type=\"footnote\" n=\"4\">Myconius, ein wichtiger Reformator und Freund von Bullinger, war in Basel tätig und spielte eine zentrale Rolle in der Verbreitung der reformatorischen Ideen in der Region.</note>\n",
      "<note xml:id=\"fn4\" type=\"footnote\" n=\"4\">Myconius, ein wichtiger Reformator und Freund von Bullinger, war in Basel tätig und spielte eine zentrale Rolle in der Verbreitung der reformatorischen Ideen in der Region.</note>\n"
     ]
    }
   ],
   "source": [
    "model = OpenAiModels(\"gpt-4o-mini-2024-07-18\", api_key)\n",
    "tokens = []\n",
    "for i in range(10):\n",
    "    text, in_toks, out_toks = model.generate(icl_prompt(text1))\n",
    "    tokens.append((in_toks, out_toks))\n",
    "    print(text)\n"
   ]
  },
  {
   "cell_type": "code",
   "execution_count": null,
   "metadata": {},
   "outputs": [],
   "source": []
  },
  {
   "cell_type": "code",
   "execution_count": 25,
   "metadata": {},
   "outputs": [
    {
     "data": {
      "text/plain": [
       "0.0033066000000000003"
      ]
     },
     "execution_count": 25,
     "metadata": {},
     "output_type": "execute_result"
    }
   ],
   "source": [
    "calculate_openai_cost(tokens, (0.3,1.2))"
   ]
  },
  {
   "cell_type": "markdown",
   "metadata": {},
   "source": [
    "#### Test 2\n",
    "leaving one footnote out. Not optimal result and also more expensive?"
   ]
  },
  {
   "cell_type": "code",
   "execution_count": 26,
   "metadata": {},
   "outputs": [],
   "source": [
    "import re\n",
    "import pandas as pd\n",
    "\n",
    "def footnote_regex(n):\n",
    "  matching_string = (fr\"( ?<note [^>]*? type=\\\"footnote\\\" n=\\\"{n}\\\">)\" # matching group 1: the opening tag\n",
    "                  r\"(.*?(?=<\\/note>))\"  # matching group 2 everything up until the closing tag (positive lookup!! no matching group!!)\n",
    "                  r\"(<\\/note>)\"  # matching group 3: the endtag\n",
    "  )\n",
    "  return matching_string\n",
    "\n",
    "def remove_footnote_content(text, n):\n",
    "  \"\"\"remove all content from the footnote n=\"n\" \"\"\"\n",
    "  return re.sub(footnote_regex(n), r\"\\1\\3\", text)\n",
    "\n",
    "def get_footnote_content(text, n):\n",
    "  \"\"\"get the content of a FN\"\"\"\n",
    "  return re.search(footnote_regex(n), text).group(2)\n",
    "\n",
    "\n",
    "ICL_SYSTEM_PROMPT = \"Du bist Historiker und hast dich auf die Reformation spezialisiert. Gerade arbeitest du daran Briefe von Heinrich Bullinger zu edieren. Vervolständige die Inhaltlichen Fussnoten.\"\n",
    "\n",
    "def HISTORIAN_PROMPT(text, n):\n",
    "  return f\"Bitte schlage mir einen Text für Fussnote n={n} in folgendem Dokument vor:\\n\\n{text}\"\n",
    "\n",
    "def instruct_prompt_fill_in(letter, n, example=(11130, 7)):\n",
    "  \"\"\"\n",
    "  param text: Letter TEI\n",
    "  param n: Footnote to generate\n",
    "  example: letter_id and FN to give as an example, 12342 is from the dev-set...\"\"\"\n",
    "\n",
    "  # find a good example letter, to put as icl prompt...\n",
    "  # get the letter\n",
    "  example_letter_id, example_n = example\n",
    "  with open(f\"../../data/downsized_letters/{example_letter_id}.xml\") as infile:\n",
    "    example_letter = infile.read()\n",
    "\n",
    "  messages = [\n",
    "      {\"role\": \"system\", \"content\": ICL_SYSTEM_PROMPT},\n",
    "      {\"role\": \"user\", \"content\": HISTORIAN_PROMPT(remove_footnote_content(example_letter, example_n), example_n)},\n",
    "      {\"role\": \"assistant\", \"content\": get_footnote_content(example_letter, example_n)},\n",
    "      {\"role\": \"user\", \"content\": HISTORIAN_PROMPT(letter, n)}\n",
    "  ]\n",
    "\n",
    "  return messages\n",
    "\n",
    "\n",
    "\n",
    "# test letter\n",
    "letter_id = 10224\n",
    "\n",
    "\n",
    "footnote_df = pd.read_csv(\"../../data/footnote_downsized_df.csv\")\n",
    "# get the letter\n",
    "with open(f\"../../data/downsized_letters/{letter_id}.xml\") as infile:\n",
    "  letter = infile.read()\n"
   ]
  },
  {
   "cell_type": "code",
   "execution_count": 14,
   "metadata": {},
   "outputs": [
    {
     "data": {
      "text/plain": [
       "[{'role': 'system',\n",
       "  'content': 'Du bist Historiker und hast dich auf die Reformation spezialisiert. Gerade arbeitest du daran Briefe von Heinrich Bullinger zu edieren.'},\n",
       " {'role': 'user',\n",
       "  'content': 'Bitte schlage mir einen Text für Fussnote n=7 in folgendem Dokument vor:\\n\\n<TEI xmlns=\"http://www.tei-c.org/ns/1.0\" xml:id=\"file11130\" type=\"Brief\" source=\"HBBW-8\" n=\"1087\">\\n\\t<teiHeader xml:lang=\"de\">\\n\\t\\t<fileDesc>\\n\\t\\t\\t<titleStmt>\\n\\t\\t\\t\\t<title subtype=\"file\">Andreas Bodenstein an Heinrich Bullinger, [Anfang] Januar 1538</title>\\n\\t\\t\\t</titleStmt>\\n\\t\\t\\t<publicationStmt>\\n\\t\\t\\t\\t<authority>Universität Zürich</authority>\\n\\t\\t\\t\\t</publicationStmt>\\n\\t\\t\\t<sourceDesc>\\n\\t\\t\\t\\t<bibl type=\"scan\">Zürich StA</bibl>\\n\\t\\t\\t\\t</sourceDesc>\\n\\t\\t</fileDesc>\\n\\t\\t</teiHeader>\\n\\t<text xml:lang=\"la\">\\n\\t\\t<body>\\n\\t\\t\\t<div xml:id=\"div1\" corresp=\"regest1\">\\n\\t\\t\\t\\t<p>\\n\\t\\t\\t\\t\\t<s n=\"1\" xml:lang=\"la\" type=\"auto\">S.</s>\\n\\t\\t\\t\\t\\t<s n=\"2\" xml:lang=\"la\" type=\"auto\">Tot obsequiis totque beneficiis iisdemque pleniss[imis] demeritus es me, vir et ornatissime et eruditissime, ut peccare me fateor multa, nisi tuis precibus acquiesco tuęque pię voluntati neutiquam desum.</s>\\n\\t\\t\\t\\t\\t<s n=\"3\" xml:lang=\"la\" type=\"auto\">Equidem et debeo et volo rem factu longe difficiliorem subire, neque unquam defessum senties, tantum abest, ut nunc non obsequar, at quando negocium vel unum [a] me confici non potest, minime mihi adscribendum, quod in alio situm est.</s>\\n\\t\\t\\t\\t\\t<s n=\"4\" xml:lang=\"la\" type=\"auto\">Proinde quando <persName ref=\"p6674\" cert=\"high\">Stapferi</persName> voluntas cum mea debeat neque possit neque velit convenire, non difficile cernes caput inobediencię.</s>\\n\\t\\t\\t\\t\\t<s n=\"5\" xml:lang=\"la\" type=\"auto\">Egressus is est domo, libros et alia extulit; citra notationem mei ęgre revocabitur, praesertim cum sciam illum iactaturum me suę pecunię adeo cupidum et ex ea tanto opere saginari posse, ut eius fiducia retractem ad me.</s>\\n\\t\\t\\t\\t\\t<s n=\"6\" xml:lang=\"la\" type=\"auto\">Id colligo ex anteactis opprobriis, siquidem pecuniam suam toties uxori<note xml:id=\"fn3\" type=\"footnote\" n=\"3\"><persName ref=\"p7589\" cert=\"high\">Anna Karlstadt, geb. von Mochau</persName>.</note> et filiis<note xml:id=\"fn4\" type=\"footnote\" n=\"4\">Siehe unten Anm. 12.</note> exprobravit, quasi nos ex ea vivere necesse sit ipseque de beneficencia donet.</s>\\n\\t\\t\\t\\t\\t<s n=\"7\" xml:lang=\"la\" type=\"auto\">Equidem autem certus sum ipsum 26 fl. non assecuturum, quae ego contemplatione tui et aliorum (qui pro eo intercesserunt) in illum contuli.</s>\\n\\t\\t\\t\\t\\t<s n=\"8\" xml:lang=\"la\" type=\"auto\">Is enim[?] spaciosum lectulum unus subinde nisus est occupare pecuniam obiectans.</s>\\n\\t\\t\\t\\t\\t<s n=\"9\" xml:lang=\"la\" type=\"auto\">Verum caussam diversionis eius paucis accipe.</s>\\n\\t\\t\\t\\t\\t<s n=\"10\" xml:lang=\"la\" type=\"auto\">Est nobis doctor quidam medicinę, cui <persName ref=\"p6618\" cert=\"high\">Sebastiano</persName> nomen, qui Latine, Gręce, Hebraice mire doctus existit.</s>\\n\\t\\t\\t\\t\\t<s n=\"11\" xml:lang=\"la\" type=\"auto\">Huius<pb type=\"edition\" next=\"26\"/> uxor<note xml:id=\"fn6\" type=\"footnote\" n=\"6\"><persName ref=\"p6616\" cert=\"high\">Elisabeth Sinckeler, geb. Wyßhärin</persName>; vgl. <persName ref=\"p164\" cert=\"high\">Amerbach</persName>, Korr. IV ff, Reg.</note> et filia<note xml:id=\"fn7\" type=\"footnote\" n=\"7\"></note> invisere meam coniugem valitudine haud optima constitutam.</s>\\n\\t\\t\\t\\t\\t<s n=\"12\" xml:lang=\"la\" type=\"auto\">Fuit autem mea in hipocausto oppido angusto unam duntaxat tabulam capiente.</s>\\n\\t\\t\\t\\t\\t<s n=\"13\" xml:lang=\"la\" type=\"auto\">Eo cum venissent, ingredior excepturus.</s>\\n\\t\\t\\t\\t\\t<s n=\"14\" xml:lang=\"la\" type=\"auto\">Exceptis eis iussi <persName ref=\"p6674\" cert=\"high\">Stapfero</persName> hospitibus cedere, quod is meliorem mensę partem occupavit, unde peiore loco honestas hospites sedere oportebat.</s>\\n\\t\\t\\t\\t\\t<s n=\"15\" xml:lang=\"la\" type=\"auto\">Abii; putabam cessurum.</s>\\n\\t\\t\\t\\t\\t<s n=\"16\" xml:lang=\"la\" type=\"auto\">Tandem honestatis gracia rediens eodem in loco <persName ref=\"p6674\" cert=\"high\">Stapferum</persName> video sedere et libros compingere, quem non sine stomacho rursus iubeo in suum hypocaustum abire, sed respondit doctoris uxorem permisisse.</s>\\n\\t\\t\\t\\t\\t<s n=\"17\" xml:lang=\"la\" type=\"auto\">Itaque locum occupatum mordicus detinet, neque hoc contentus, nam me in lectionem profecto nidore bituminis incipit molestare contubernium.</s>\\n\\t\\t\\t\\t\\t<s n=\"18\" xml:lang=\"la\" type=\"auto\">Hec et alia de lectione reversus audiens indigne tuli et dixi flagitium tale non modo cum literis sacrosanctis, sed cum legibus pugnare, imo contra naturam, adeoque sacius esse ipsum carere literis quam has socias facinorum facere.</s>\\n\\t\\t\\t\\t\\t<s n=\"19\" xml:lang=\"la\" type=\"auto\">Hic autem sic movebatur, ut ilico sibi providebat, imo me iniuria nova et acri affecit.</s>\\n\\t\\t\\t\\t\\t<s n=\"20\" xml:lang=\"la\" type=\"auto\">Itaque invitum et reluctantem non putavi diutius retinendum, quamquam parum licere putarem ei, quem curatoris<note xml:id=\"fn8\" type=\"footnote\" n=\"8\">Als Vogt <persName ref=\"p6674\" cert=\"high\">Heinrich Stapfers</persName> amtierte <persName ref=\"p5544\" cert=\"high\">Gebhart Krüttli</persName>, s. Zürich StA, B VI 334, 140v.-141r. 204r.</note> autoritate tuoque interventu suscepi, vobis ignorantibus permittere discessum.</s>\\n\\t\\t\\t\\t\\t<s n=\"21\" xml:lang=\"la\" type=\"auto\">Poteris ex hisce ipse colligere, quas turbas daturus esset, si reciperem, neque dubito te sic <persName ref=\"p6674\" cert=\"high\">Stapfero</persName> favere, ut mihi tranquillitatem non invideas.</s>\\n\\t\\t\\t\\t\\t<s n=\"22\" xml:lang=\"la\" type=\"auto\">Pręstat itaque, ut alibi sit, cum mihi sit honestum et utile eius ab commercio abstinere.</s>\\n\\t\\t\\t\\t\\t<s n=\"23\" xml:lang=\"la\" type=\"auto\">Si mansisset mecum, lubens auscultarem tibi praecipienti, cui inservire iucundum est.</s>\\n\\t\\t\\t\\t</p>\\n\\t\\t\\t\\t<p>\\n\\t\\t\\t\\t\\t<s n=\"24\" xml:lang=\"la\" type=\"auto\">Vale felicissime.</s>\\n\\t\\t\\t\\t\\t<s n=\"25\" xml:lang=\"la\" type=\"auto\">Uxorem tuam<note xml:id=\"fn9\" type=\"footnote\" n=\"9\"><persName ref=\"p8051\" cert=\"high\">Anna, geb. Adlischwyler</persName>.</note> atque matrem<note xml:id=\"fn10\" type=\"footnote\" n=\"10\"><persName ref=\"p7042\" cert=\"high\">Anna, geb. Wiederkehr</persName>.</note> et liberos<note xml:id=\"fn11\" type=\"footnote\" n=\"11\">Vgl. <bibl>HBBW VI</bibl> <ref target=\"file10782\">[Nr. 744]</ref>, S. 124, Anm. 34, sowie die folgende Anm.</note> saluta.</s>\\n\\t\\t\\t\\t\\t<s n=\"26\" xml:lang=\"la\" type=\"auto\">Gaudeo te numerum exęquasse nostrum liberum et tuam tibi felicitatem omnem congratulor.</s>\\n\\t\\t\\t\\t\\t<s n=\"27\" xml:lang=\"la\" type=\"auto\">Saluta dominos meos praeceptores et fratres.<pb type=\"edition\" next=\"27\"/></s>\\n\\t\\t\\t\\t</p>\\n\\t\\t\\t\\t<p>\\n\\t\\t\\t\\t\\t<s n=\"28\" xml:lang=\"la\" type=\"auto\"><placeName ref=\"l28\" cert=\"high\">Basileę</placeName>, celeriter, die ianuarii anno 38.</s>\\n\\t\\t\\t\\t\\t<s n=\"29\" xml:lang=\"la\" type=\"auto\">Tuus obsequibilis</s>\\n\\t\\t\\t\\t</p>\\n\\t\\t\\t\\t<p>\\n\\t\\t\\t\\t\\t<s n=\"30\" xml:lang=\"la\" type=\"auto\">And. <persName ref=\"p4349\" cert=\"high\">Carolostadius</persName>.</s>\\n\\t\\t\\t\\t</p>\\n\\t\\t\\t\\t<p>\\n\\t\\t\\t\\t\\t<note type=\"address\">[Adresse auf der Rückseite:]</note>\\n\\t\\t\\t\\t\\t<s n=\"31\" xml:lang=\"la\" type=\"auto\">Pręclarissimo et doctissimo viro d. Henrico Bullingero, ecclesiastarum precipuo Tiguri, patrono suo venerando in domino semper.</s>\\n\\t\\t\\t\\t</p>\\n\\t\\t\\t</div>\\n\\t\\t</body>\\n\\t</text>\\n</TEI>\\n'},\n",
       " {'role': 'assistant',\n",
       "  'content': 'Gemeint ist wohl Fides, die als einziges von sechs Kindern <persName ref=\"p6616\" cert=\"high\">Sinckelers</persName> erwachsen wurde und um 1540 <persName ref=\"p4939\" cert=\"high\">Jakob Müller (gen. Gerster)</persName> heiratete; vgl. <persName ref=\"p164\" cert=\"high\">Amerbach</persName>, Korr. IV ff, Reg.'},\n",
       " {'role': 'user',\n",
       "  'content': 'Bitte schlage mir einen Text für Fussnote n=3 in folgendem Dokument vor:\\n\\n<TEI xmlns=\"http://www.tei-c.org/ns/1.0\" xml:id=\"file10224\" type=\"Brief\" source=\"HBBW-3\" n=\"193\">\\n\\t<teiHeader xml:lang=\"de\">\\n\\t\\t<fileDesc>\\n\\t\\t\\t<titleStmt>\\n\\t\\t\\t\\t<title subtype=\"file\">Konrad Geßner, Johannes Fries / Basel an Heinrich Bullinger, 25. Februar [1533]</title>\\n\\t\\t\\t</titleStmt>\\n\\t\\t\\t<publicationStmt>\\n\\t\\t\\t\\t<authority>Universität Zürich</authority>\\n\\t\\t\\t\\t</publicationStmt>\\n\\t\\t\\t<sourceDesc>\\n\\t\\t\\t\\t</sourceDesc>\\n\\t\\t</fileDesc>\\n\\t\\t</teiHeader>\\n\\t<text xml:lang=\"la\">\\n\\t\\t<body>\\n\\t\\t\\t<div xml:id=\"div1\" corresp=\"regest1\">\\n\\t\\t\\t\\t<p>\\n\\t\\t\\t\\t\\t<s n=\"1\" xml:lang=\"la\" type=\"auto\">Optimo et integerrimo viro M. Henrico Bullingero, mecaenati charissimo.</s>\\n\\t\\t\\t\\t</p>\\n\\t\\t\\t\\t<p>\\n\\t\\t\\t\\t\\t<s n=\"2\" xml:lang=\"la\" type=\"auto\">S.</s>\\n\\t\\t\\t\\t\\t<s n=\"3\" xml:lang=\"la\" type=\"auto\">Impediunt nos ab itinere<note xml:id=\"fn3\" type=\"footnote\" n=\"3\"><persName ref=\"p1283\" cert=\"high\">Geßner</persName> und <persName ref=\"p1214\" cert=\"high\">Fries</persName> befanden sich auf dem Weg nach <placeName ref=\"l59\" cert=\"high\">Bourges</placeName>.</note> nives, pluvia et ventorum vis.</s>\\n\\t\\t\\t\\t\\t<s n=\"4\" xml:lang=\"la\" type=\"auto\"><placeName ref=\"l28\" cert=\"high\">Basileae</placeName> apud <persName ref=\"p8418\" cert=\"high\">Myconium</persName><note xml:id=\"fn4\" type=\"footnote\" n=\"4\"><persName ref=\"p1214\" cert=\"high\">Fries</persName> und <persName ref=\"p1283\" cert=\"high\">Geßner</persName> waren in einem Brief <persName ref=\"p8127\" cert=\"high\">Pellikans</persName> vom 19. Februar 1533 an <persName ref=\"p8418\" cert=\"high\">Myconius</persName> empfohlen worden (Zürich StA, E II 358, 98).</note> sine sumtu moramur sudum coelum et tempestatem mitiorem expectantes.</s>\\n\\t\\t\\t\\t\\t<s n=\"5\" xml:lang=\"la\" type=\"auto\">Nivibus obrutae sunt viae omnes, montes praesertim, per quos nulla itinera nunc patent.</s>\\n\\t\\t\\t\\t\\t<s n=\"6\" xml:lang=\"la\" type=\"auto\">Maxime tamen omnium nos detinet, quod Gallos et alios quosdam itineris comites facturos brevi hic invenimus.</s>\\n\\t\\t\\t\\t\\t<s n=\"7\" xml:lang=\"la\" type=\"auto\">Tuam humanitatem rogamus literas nobis a senatu poscat Tigurinos nos esse et a Tigurino senatu propter studia ablegatos.</s>\\n\\t\\t\\t\\t\\t<s n=\"8\" xml:lang=\"la\" type=\"auto\">Ita enim docti plerique consuluerunt, quo nobis tutioribus esse liceat.</s>\\n\\t\\t\\t\\t\\t<s n=\"9\" xml:lang=\"la\" type=\"auto\">Ne nos negligas etiam atque etiam oramus poscimusque.</s>\\n\\t\\t\\t\\t\\t<s n=\"10\" xml:lang=\"la\" type=\"auto\">Si dederis operam, facile impetrabis.</s>\\n\\t\\t\\t\\t\\t<s n=\"11\" xml:lang=\"la\" type=\"auto\">Literis nos acceptis<note xml:id=\"fn6\" type=\"footnote\" n=\"6\">Nach Aussage von <persName ref=\"p8398\" cert=\"high\">Konrad Klauser</persName> haben <persName ref=\"p1283\" cert=\"high\">Geßner</persName> und <persName ref=\"p1214\" cert=\"high\">Fries</persName> die gewünschten Empfehlungsschreiben offenbar erhalten (s. unten <ref target=\"file10226\">[Nr. 195]</ref> S. 77, 5). Auffindbar sind sie jedoch nicht mehr.</note> quamprimum cum comitibus maturabimus iter.</s>\\n\\t\\t\\t\\t</p>\\n\\t\\t\\t\\t<p>\\n\\t\\t\\t\\t\\t<s n=\"12\" xml:lang=\"la\" type=\"auto\">Vale et nos tibi commendatos habe.</s>\\n\\t\\t\\t\\t</p>\\n\\t\\t\\t\\t<p>\\n\\t\\t\\t\\t\\t<s n=\"13\" xml:lang=\"la\" type=\"auto\"><placeName ref=\"l28\" cert=\"high\">Basileae</placeName> in aedibus <persName ref=\"p8418\" cert=\"high\">Myconii</persName>, februarii 25.</s>\\n\\t\\t\\t\\t</p>\\n\\t\\t\\t\\t<p>\\n\\t\\t\\t\\t\\t<s n=\"14\" xml:lang=\"la\" type=\"auto\"><persName ref=\"p1214\" cert=\"high\">Ioannes Frisius</persName> et <persName ref=\"p1283\" cert=\"high\">C. Gesnerus</persName> tui toti.</s>\\n\\t\\t\\t\\t</p>\\n\\t\\t\\t</div>\\n\\t\\t</body>\\n\\t</text>\\n</TEI>\\n'}]"
      ]
     },
     "execution_count": 14,
     "metadata": {},
     "output_type": "execute_result"
    }
   ],
   "source": [
    "instruct_prompt_fill_in(letter, 3)"
   ]
  },
  {
   "cell_type": "code",
   "execution_count": 15,
   "metadata": {},
   "outputs": [
    {
     "name": "stdout",
     "output_type": "stream",
     "text": [
      "Die Reise von Geßner und Fries nach Bourges war Teil ihrer Bemühungen, an der dortigen Universität zu studieren und sich mit anderen Gelehrten auszutauschen. Bourges war zu dieser Zeit ein Zentrum humanistischer Studien und zog viele Intellektuelle an, die sich mit den reformatorischen Ideen auseinandersetzten.\n",
      "Die Reise von Geßner und Fries nach Bourges war Teil ihrer Bemühungen, an der dortigen Universität zu studieren und sich mit anderen Gelehrten auszutauschen. Bourges war zu dieser Zeit ein Zentrum humanistischer Studien und zog viele Intellektuelle an, die sich mit den Ideen der Reformation und der klassischen Antike auseinandersetzten.\n"
     ]
    }
   ],
   "source": [
    "tokens = []\n",
    "for i in range(10):\n",
    "    text, in_toks, out_toks = model.generate(instruct_prompt_fill_in(letter, 3))\n",
    "    tokens.append((in_toks, out_toks))\n",
    "    print(text)"
   ]
  },
  {
   "cell_type": "code",
   "execution_count": 16,
   "metadata": {},
   "outputs": [
    {
     "data": {
      "text/plain": [
       "0.0024186"
      ]
     },
     "execution_count": 16,
     "metadata": {},
     "output_type": "execute_result"
    }
   ],
   "source": [
    "calculate_openai_cost(tokens, (0.3,1.2))"
   ]
  },
  {
   "cell_type": "markdown",
   "metadata": {},
   "source": [
    "#### Test 3\n",
    "giving the empty letter, with one FN as an example"
   ]
  },
  {
   "cell_type": "code",
   "execution_count": 27,
   "metadata": {},
   "outputs": [],
   "source": [
    "def instruct_prompt_no_fns(letter, n, example_n=None):\n",
    "  \"\"\"\n",
    "  param text: Letter TEI\n",
    "  param n: Footnote to generate\n",
    "  example: letter_id and FN to give as an example, 12342 is from the dev-set...\"\"\"\n",
    "\n",
    "    # footnotes of that letter\n",
    "  footnote_df_letter = footnote_df[footnote_df[\"letter_id\"] == letter_id]\n",
    "\n",
    "  letter_no_fns = letter\n",
    "\n",
    "  # removing all FNs\n",
    "  for footnote in footnote_df_letter.iloc:  # Maybe we'll have to take care of the labels here...\n",
    "    letter_no_fns = remove_footnote_content(letter_no_fns, footnote[\"n_footnote\"])\n",
    "\n",
    "\n",
    "  messages = [\n",
    "      {\"role\": \"system\", \"content\": ICL_SYSTEM_PROMPT},\n",
    "  ]\n",
    "\n",
    "  # add example if specified\n",
    "  if example_n:\n",
    "    messages.append({\"role\": \"user\", \"content\": HISTORIAN_PROMPT(letter_no_fns, example_n)},)\n",
    "    messages.append({\"role\": \"assistant\", \"content\": get_footnote_content(letter, example_n)})\n",
    "\n",
    "  # add prompt for generation\n",
    "  messages.append({\"role\": \"user\", \"content\": HISTORIAN_PROMPT(letter_no_fns, n)})\n",
    "\n",
    "  return messages"
   ]
  },
  {
   "cell_type": "markdown",
   "metadata": {},
   "source": [
    "zero shot, wacky"
   ]
  },
  {
   "cell_type": "code",
   "execution_count": 50,
   "metadata": {},
   "outputs": [
    {
     "name": "stdout",
     "output_type": "stream",
     "text": [
      "Für die Fußnote n=3 könnte folgender Text vorgeschlagen werden:\n",
      "\n",
      "\"Die widrigen Wetterbedingungen, insbesondere Schnee, Regen und starker Wind, hindern uns an der Weiterreise.\"\n",
      "Für die Fußnote n=3 könnte folgender Text vorgeschlagen werden:\n",
      "\n",
      "\"Die widrigen Wetterbedingungen, insbesondere Schnee, Regen und starker Wind, hindern uns an der Weiterreise.\"\n",
      "Für die Fußnote n=3 könnte folgender Text vorgeschlagen werden:\n",
      "\n",
      "\"Die widrigen Wetterbedingungen, insbesondere Schnee, Regen und starker Wind, hindern uns an der Weiterreise.\"\n",
      "Für die Fußnote n=3 könnte folgender Text vorgeschlagen werden:\n",
      "\n",
      "\"Die widrigen Wetterbedingungen, insbesondere Schnee, Regen und starker Wind, hindern uns an der Weiterreise.\"\n",
      "Für die Fußnote n=3 könnte folgender Text vorgeschlagen werden:\n",
      "\n",
      "\"Die widrigen Wetterbedingungen, insbesondere Schnee, Regen und starker Wind, hindern uns an der Weiterreise.\"\n",
      "Für die Fußnote n=3 könnte folgender Text vorgeschlagen werden:\n",
      "\n",
      "\"Die widrigen Wetterbedingungen, insbesondere Schnee, Regen und starker Wind, hindern uns an der Weiterreise.\"\n",
      "Für die Fußnote n=3 könnte folgender Text vorgeschlagen werden:\n",
      "\n",
      "\"Die widrigen Wetterbedingungen, insbesondere Schnee, Regen und starker Wind, hindern uns an der Weiterreise.\"\n",
      "Für die Fußnote n=3 könnte folgender Text vorgeschlagen werden:\n",
      "\n",
      "\"Die widrigen Wetterbedingungen, insbesondere Schnee, Regen und starker Wind, hindern uns an der Weiterreise.\"\n",
      "Für die Fußnote n=3 könnte folgender Text vorgeschlagen werden:\n",
      "\n",
      "\"Die widrigen Wetterbedingungen, insbesondere Schnee, Regen und starker Wind, hindern uns an der Weiterreise.\"\n",
      "Für die Fußnote n=3 könnte folgender Text vorgeschlagen werden:\n",
      "\n",
      "\"Die widrigen Wetterbedingungen, insbesondere Schnee, Regen und starker Wind, hindern uns an der Weiterreise.\"\n"
     ]
    }
   ],
   "source": [
    "tokens = []\n",
    "for i in range(10):\n",
    "    text, in_toks, out_toks = model.generate(instruct_prompt_no_fns(letter, 3))\n",
    "    tokens.append((in_toks, out_toks))\n",
    "    print(text)"
   ]
  },
  {
   "cell_type": "code",
   "execution_count": 51,
   "metadata": {},
   "outputs": [
    {
     "data": {
      "text/plain": [
       "0.03447"
      ]
     },
     "execution_count": 51,
     "metadata": {},
     "output_type": "execute_result"
    }
   ],
   "source": [
    "calculate_openai_cost(tokens, (3,6))"
   ]
  },
  {
   "cell_type": "code",
   "execution_count": 28,
   "metadata": {},
   "outputs": [
    {
     "name": "stdout",
     "output_type": "stream",
     "text": [
      "<note xml:id=\"fn4\" type=\"footnote\" n=\"4\">Myconius, ein bekannter Humanist und Reformator, war zu dieser Zeit in Basel aktiv und spielte eine wichtige Rolle in der reformatorischen Bewegung. Die Erwähnung seiner Person deutet auf die enge Verbindung zwischen den Reformatoren und den humanistischen Kreisen in Basel hin.</note>\n",
      "<note xml:id=\"fn4\" type=\"footnote\" n=\"4\">Myconius, ein bekannter Humanist und Reformator, war zu dieser Zeit in Basel aktiv und spielte eine wichtige Rolle in der reformatorischen Bewegung. Die Erwähnung seiner Wohnstätte deutet auf die enge Verbindung zwischen den Reformatoren und den humanistischen Kreisen in Basel hin.</note>\n",
      "<note xml:id=\"fn4\" type=\"footnote\" n=\"4\">Myconius, ein bekannter Humanist und Reformator, war zu dieser Zeit in Basel aktiv und spielte eine wichtige Rolle in der reformatorischen Bewegung. Die Erwähnung seiner Wohnstätte deutet auf die enge Verbindung zwischen den Reformatoren und den humanistischen Kreisen in Basel hin.</note>\n",
      "<note xml:id=\"fn4\" type=\"footnote\" n=\"4\">Myconius, ein bekannter Humanist und Reformator, war zu dieser Zeit in Basel aktiv und spielte eine wichtige Rolle in der reformatorischen Bewegung. Die Erwähnung seiner Wohnstätte deutet auf die enge Verbindung zwischen den Reformatoren und den humanistischen Kreisen in Basel hin.</note>\n",
      "<note xml:id=\"fn4\" type=\"footnote\" n=\"4\">Myconius, ein bekannter Humanist und Reformator, war zu dieser Zeit in Basel tätig und spielte eine wichtige Rolle in der reformatorischen Bewegung. Die Erwähnung seiner Wohnstätte deutet auf die enge Verbindung zwischen den Reformatoren und den humanistischen Kreisen in Basel hin.</note>\n",
      "<note xml:id=\"fn4\" type=\"footnote\" n=\"4\">Myconius, ein bekannter Humanist und Reformator, war zu dieser Zeit in Basel aktiv und spielte eine wichtige Rolle in der reformatorischen Bewegung. Die Erwähnung seiner Wohnstätte deutet auf die enge Verbindung zwischen den Reformatoren und den humanistischen Kreisen in Basel hin.</note>\n",
      "<note xml:id=\"fn4\" type=\"footnote\" n=\"4\">Myconius, ein bekannter Humanist und Reformator, war zu dieser Zeit in Basel aktiv und spielte eine wichtige Rolle in der reformatorischen Bewegung. Die Erwähnung seiner Wohnstätte deutet auf die enge Verbindung zwischen den Reformatoren und den humanistischen Kreisen in Basel hin.</note>\n",
      "<note xml:id=\"fn4\" type=\"footnote\" n=\"4\">Myconius, ein bekannter Humanist und Reformator, war zu dieser Zeit in Basel aktiv und spielte eine wichtige Rolle in der reformatorischen Bewegung. Die Erwähnung seiner Wohnstätte deutet auf die enge Verbindung zwischen den Reformatoren und den humanistischen Kreisen in Basel hin.</note>\n",
      "<note xml:id=\"fn4\" type=\"footnote\" n=\"4\">Myconius, ein bekannter Humanist und Reformator, war zu dieser Zeit in Basel aktiv und spielte eine wichtige Rolle in der reformatorischen Bewegung. Die Erwähnung seiner Wohnstätte deutet auf die enge Verbindung zwischen den Reformatoren und den humanistischen Kreisen in Basel hin.</note>\n",
      "<note xml:id=\"fn4\" type=\"footnote\" n=\"4\">Myconius, ein bekannter Humanist und Reformator, war zu dieser Zeit in Basel aktiv und spielte eine wichtige Rolle in der reformatorischen Bewegung. Die Erwähnung seiner Wohnstätte deutet auf die enge Verbindung zwischen den Reformatoren und den humanistischen Kreisen in Basel hin.</note>\n"
     ]
    }
   ],
   "source": [
    "tokens = []\n",
    "for i in range(10):\n",
    "    text, in_toks, out_toks = model.generate(instruct_prompt_no_fns(letter, 4, example_n=3))\n",
    "    tokens.append((in_toks, out_toks))\n",
    "    print(text)\n",
    "    "
   ]
  },
  {
   "cell_type": "code",
   "execution_count": 29,
   "metadata": {},
   "outputs": [
    {
     "data": {
      "text/plain": [
       "0.006931800000000001"
      ]
     },
     "execution_count": 29,
     "metadata": {},
     "output_type": "execute_result"
    }
   ],
   "source": [
    "calculate_openai_cost(tokens, (0.3,1.2))"
   ]
  },
  {
   "cell_type": "markdown",
   "metadata": {},
   "source": [
    "#### test 4\n",
    "GPT can easily handle the long letter"
   ]
  },
  {
   "cell_type": "code",
   "execution_count": 54,
   "metadata": {},
   "outputs": [],
   "source": [
    "# test letter\n",
    "letter_id = 12260\n",
    "\n",
    "\n",
    "footnote_df = pd.read_csv(\"../../data/footnote_df.csv\")\n",
    "# get the letter\n",
    "with open(f\"../../data/human/{letter_id}.xml\") as infile:\n",
    "  letter = infile.read()"
   ]
  },
  {
   "cell_type": "code",
   "execution_count": 57,
   "metadata": {},
   "outputs": [
    {
     "data": {
      "text/plain": [
       "[{'role': 'system',\n",
       "  'content': 'You are a research assistant for a historian, specialized on the European reformation working on an edition of the correspondence of Heinrich Bullinger. Given a letter in TEI format, your task is to complete the missing footnote'},\n",
       " {'role': 'user',\n",
       "  'content': 'Bitte schlage mir einen Text für Fussnote n=9 in folgendem Dokument vor:\\n\\n<TEI xmlns=\"http://www.tei-c.org/ns/1.0\" xml:id=\"file12260\" type=\"Brief\" source=\"HBBW-15\" n=\"2213\">\\n\\t<teiHeader xml:lang=\"de\">\\n\\t\\t<fileDesc>\\n\\t\\t\\t<titleStmt>\\n\\t\\t\\t\\t<title subtype=\"file\">Matthias Erb / Reichenweier an Heinrich Bullinger, 11. August [1545]</title>\\n\\t\\t\\t</titleStmt>\\n\\t\\t\\t<publicationStmt>\\n\\t\\t\\t\\t<authority>Universität Zürich</authority>\\n\\t\\t\\t\\t</publicationStmt>\\n\\t\\t\\t<sourceDesc>\\n\\t\\t\\t\\t<bibl type=\"scan\">Zürich StA</bibl>\\n\\t\\t\\t\\t</sourceDesc>\\n\\t\\t</fileDesc>\\n\\t\\t</teiHeader>\\n\\t<text xml:lang=\"la\">\\n\\t\\t<body>\\n\\t\\t\\t<div xml:id=\"div1\" corresp=\"regest1\">\\n\\t\\t\\t\\t<p>\\n\\t\\t\\t\\t\\t<s n=\"1\" xml:lang=\"la\" type=\"auto\">Gratia domini tecum.</s>\\n\\t\\t\\t\\t\\t<s n=\"2\" xml:lang=\"la\" type=\"auto\">Quum decima augusti<note xml:id=\"fn2\" type=\"footnote\" n=\"2\"></note> e suggestu descendissem me actutum a templo ad aulam conferens (vocatus scilicet a cancellario<note xml:id=\"fn3\" type=\"footnote\" n=\"3\"></note> ob quędam negotia ecclesię componenda), venit hic tuus legatus<note xml:id=\"fn4\" type=\"footnote\" n=\"4\"></note> hora ferme nona et, dum in angiportu sisto gradum, servum<note xml:id=\"fn5\" type=\"footnote\" n=\"5\"></note> ad limina de <persName ref=\"p1010\" cert=\"high\">Erbio</persName> rogat, me vero oculis ostiario significante ne proderet, statim digito demonstrat dicens: „Hic est.“</s>\\n\\t\\t\\t\\t\\t<s n=\"3\" xml:lang=\"la\" type=\"auto\">Is ergo ad me veniens percunctatur, an mihi sit nomen <persName ref=\"p1010\" cert=\"high\">Erbio</persName>.</s>\\n\\t\\t\\t\\t\\t<s n=\"4\" xml:lang=\"la\" type=\"auto\">Aio.</s>\\n\\t\\t\\t\\t\\t<s n=\"5\" xml:lang=\"la\" type=\"auto\">Statimque litteras<note xml:id=\"fn6\" type=\"footnote\" n=\"6\"></note> depromens dicebat a te missas.</s>\\n\\t\\t\\t\\t\\t<s n=\"6\" xml:lang=\"la\" type=\"auto\">Acceptas legi simul obstupescens tuam, qui alias occupatissimus es, sedulitatem in describendis ex autographo copiis<note xml:id=\"fn7\" type=\"footnote\" n=\"7\"></note>.</s>\\n\\t\\t\\t\\t\\t<s n=\"7\" xml:lang=\"la\" type=\"auto\">Stans ergo attonitus et propemodum exanimis iussi adolescentem expectare, dum redeam, atque subinde inter tractatus et varias dissidentium quęstiones et tacite et indesinenter volvo ac revolvo intime, quę scripseras.</s>\\n\\t\\t\\t\\t\\t<s n=\"8\" xml:lang=\"la\" type=\"auto\">Absolutus a strepitu aulico eo cum adolescente pransum interque epulandum de singulis rebus percunctor, statim scilicet a mensa tibi responsurus.</s>\\n\\t\\t\\t\\t\\t<s n=\"9\" xml:lang=\"la\" type=\"auto\">Dum id meditor, alius adest nuntius<note xml:id=\"fn8\" type=\"footnote\" n=\"8\"></note> litteras ferens a principe<note xml:id=\"fn9\" type=\"footnote\" n=\"9\"></note>, in quibus multa mihi committuntur negotia principemque a comitiis<note xml:id=\"fn10\" type=\"footnote\" n=\"10\"></note> propediem rediturum pollicentes.</s>\\n\\t\\t\\t\\t\\t<s n=\"10\" xml:lang=\"la\" type=\"auto\">Hinc eo die, tametsi adolescens crebro urgeret abituriens, nil scripsi omnia in posterum, hoc est in hodiernum, reiiciens diem.</s>\\n\\t\\t\\t\\t\\t<s n=\"11\" xml:lang=\"la\" type=\"auto\">Haec de pueri tui diligentia.</s>\\n\\t\\t\\t\\t</p>\\n\\t\\t\\t\\t<p>\\n\\t\\t\\t\\t\\t<s n=\"12\" xml:lang=\"la\" type=\"auto\">Quod vero ad negotium adtinet, paucis haec accipe.</s>\\n\\t\\t\\t\\t\\t<s n=\"13\" xml:lang=\"la\" type=\"auto\">Fateor me iam annum quinquagesimum egressum<note xml:id=\"fn11\" type=\"footnote\" n=\"11\"></note>, et qui nunc in ea aetate sum, quę sedatior esse cupit, sepicule curas aulicas, quibus distringor,<pb type=\"scan\" next=\"257v.\"/> depręcatum, sed parum promovisse; imo, quo plus me expedire cupio, eo amplius perstringor dispendio et vitae et rerum.</s>\\n\\t\\t\\t\\t\\t<s n=\"14\" xml:lang=\"la\" type=\"auto\">Sic deo optimo maximo visum est.</s>\\n\\t\\t\\t\\t</p>\\n\\t\\t\\t\\t<p>\\n\\t\\t\\t\\t\\t<s n=\"15\" xml:lang=\"la\" type=\"auto\">Quod ad vitam, ut omnia manifestius depingam, subit tarda senectus,<note xml:id=\"fn12\" type=\"footnote\" n=\"12\"></note> quę difficilis incipit esse, sola non suffitiens laboribus, dum indies creberrime exantlatur.</s>\\n\\t\\t\\t\\t\\t<s n=\"16\" xml:lang=\"la\" type=\"auto\">Nullum habeo symmistam, ut nosti, opinor.</s>\\n\\t\\t\\t\\t\\t<s n=\"17\" xml:lang=\"la\" type=\"auto\">Plures iussu principis vocavi; sed horrent id, quod ego quęror.</s>\\n\\t\\t\\t\\t\\t<s n=\"18\" xml:lang=\"la\" type=\"auto\">Metuunt enim sibi ab ingeniis cervinis<note xml:id=\"fn13\" type=\"footnote\" n=\"13\"></note>, nec ego quenquam nisi volentem ad me trahere volo, etc.<pb type=\"edition\" next=\"439\"/></s>\\n\\t\\t\\t\\t\\t<s n=\"19\" xml:lang=\"la\" type=\"auto\">Quod vero ad res meas adtinet, male collocat ille, quem ex nomine nosti, stipendia.</s>\\n\\t\\t\\t\\t\\t<s n=\"20\" xml:lang=\"la\" type=\"auto\">Ex patrimonio intra quinquennium<note xml:id=\"fn16\" type=\"footnote\" n=\"16\"></note> ducentos fere aureos non in meam, sed magis ecclesię necessitatem exposui, quod dies domini revelabit.</s>\\n\\t\\t\\t\\t\\t<s n=\"21\" xml:lang=\"la\" type=\"auto\">Nec quęror, optime frater, de perditis rebus, sed de Harpiis furacibus, qui recte monentes non exaudiunt et ecclesię avaritię notam inurunt; quod non adeo magni referret, nisi metuendum de excidio foret.</s>\\n\\t\\t\\t\\t\\t<s n=\"22\" xml:lang=\"la\" type=\"auto\">Quamdiu rapiendum, placet Christus; dum defecerit ecclesię fiscus, non placebit ultra Christus!</s>\\n\\t\\t\\t\\t\\t<s n=\"23\" xml:lang=\"la\" type=\"auto\">Hactenus 3 fuimus in isto oppido, ubi quisque designatum habuit<pb type=\"edition\" next=\"440\"/> stipendium.</s>\\n\\t\\t\\t\\t\\t<s n=\"24\" xml:lang=\"la\" type=\"auto\">Ego nunc solus omnibus curis pręfectus aegre a satrapis<note xml:id=\"fn18\" type=\"footnote\" n=\"18\"></note> meum recipio stipendium, et si egerem, vix triobulo sublevarent.</s>\\n\\t\\t\\t\\t\\t<s n=\"25\" xml:lang=\"la\" type=\"auto\">Sunt pręterea et alię rationes, quibus te nolo nunc gravare scribendo, etc.</s>\\n\\t\\t\\t\\t\\t<s n=\"26\" xml:lang=\"la\" type=\"auto\">Atque inter tot turbines nondum video satis iustam occasionem desertionis huius ecclesię.</s>\\n\\t\\t\\t\\t</p>\\n\\t\\t\\t\\t<p>\\n\\t\\t\\t\\t\\t<s n=\"27\" xml:lang=\"de\" type=\"auto\"><pb type=\"scan\" next=\"257a,r.\"/>Summa.</s>\\n\\t\\t\\t\\t\\t<s n=\"28\" xml:lang=\"la\" type=\"auto\">Ita haereo inter sacrum et saxum<note xml:id=\"fn19\" type=\"footnote\" n=\"19\"></note>, ut nunc sine discrimine ecclesięque Christi maxima iactura, ut facile intelligis, discedere nequeam.</s>\\n\\t\\t\\t\\t</p>\\n\\t\\t\\t\\t<p>\\n\\t\\t\\t\\t\\t<s n=\"29\" xml:lang=\"la\" type=\"auto\">Atque eę sunt potissimę rationes.</s>\\n\\t\\t\\t\\t\\t<s n=\"30\" xml:lang=\"la\" type=\"auto\">Ecclesias nostras iam a sexto anno<note xml:id=\"fn20\" type=\"footnote\" n=\"20\"></note> utcunque in ordinem, ut potuimus - quando, ut volueramus, non licuit - redegimus.</s>\\n\\t\\t\\t\\t</p>\\n\\t\\t\\t\\t<p>\\n\\t\\t\\t\\t\\t<s n=\"31\" xml:lang=\"la\" type=\"auto\">Annitendum ergo, ut cępta perficiantur.</s>\\n\\t\\t\\t\\t\\t<s n=\"32\" xml:lang=\"la\" type=\"auto\">Ad hoc ecclesia illa nobis contigua, Montbelgardiana, cum suo principe<note xml:id=\"fn21\" type=\"footnote\" n=\"21\"></note> adhuc vacillat; de qua totus liber foret perscribendus.</s>\\n\\t\\t\\t\\t\\t<s n=\"33\" xml:lang=\"la\" type=\"auto\">Pręterea scholę quattuor in isto parviusculo agro sunt constitutę et quinta in rure instituenda, stipendia quoque studiosis quibusdam ante paucos menses pollicita,<note xml:id=\"fn23\" type=\"footnote\" n=\"23\"></note> sed haec non omnia firmata et rata, proponenda etiamnum ecclesię quędam decreta, quibus ad disciplinam et sanctos mores utcunque redigantur, idque statim redeunte principe.</s>\\n\\t\\t\\t\\t\\t<s n=\"34\" xml:lang=\"la\" type=\"auto\">Illo enim absente haec omnia conscripta sunt.</s>\\n\\t\\t\\t\\t\\t<s n=\"35\" xml:lang=\"la\" type=\"auto\">Dum igitur nunc mutavero locum omnia sub cultro relinquens<note xml:id=\"fn24\" type=\"footnote\" n=\"24\"></note>, facile intelligis, quid periculi inmineat.</s>\\n\\t\\t\\t\\t\\t<s n=\"36\" xml:lang=\"la\" type=\"auto\">In primis severus princeps, a quo omnia pendent, facile vel mutaretur vel irritaretur, ut solet hoc hominum genus; id quod nimirum magis in ecclesię quam in meum incomodum cęderet.</s>\\n\\t\\t\\t\\t\\t<s n=\"37\" xml:lang=\"la\" type=\"auto\">Viden inter coelum et terram me suspensum palpitare neque posse hac ratione vel vocatione, quę tamen et sancta et iusta, liberari?</s>\\n\\t\\t\\t\\t\\t<s n=\"38\" xml:lang=\"la\" type=\"auto\">Occasio mihi expectanda comodior, quę me liberet sine ecclesię iactura.</s>\\n\\t\\t\\t\\t\\t<s n=\"39\" xml:lang=\"la\" type=\"auto\">Nam si iam abirem, ecclesia viduata absque pastore inter cunctatores et cessatores fluctuaret, etc.</s>\\n\\t\\t\\t\\t</p>\\n\\t\\t\\t\\t<p>\\n\\t\\t\\t\\t\\t<s n=\"40\" xml:lang=\"la\" type=\"auto\"><pb type=\"scan\" next=\"257a,v.\"/>Ago vero et habeo tibi gratias inmortales, humanissime Bullingere, quod admodum ingenti cura meo nomine laboraveris, atque hoc impensius te amo, quod charitatis offitium non fucate, sed dextre candideque in me collocaris, imo significaris in hac sancta vocatione.</s>\\n\\t\\t\\t\\t\\t<s n=\"41\" xml:lang=\"la\" type=\"auto\">Respondebit olim procul dubio deus optimus maximus tuis votis, quo <placeName ref=\"l1976\" cert=\"high\">Augustani</placeName> nanciscantur virum aliquem sanctum, ecclesię dignum ministrum,<note xml:id=\"fn25\" type=\"footnote\" n=\"25\"></note> atque ego etiam tuis assiduis<pb type=\"edition\" next=\"441\"/> praecibus vel liberer publica occasione vel sub onere non defitiam.</s>\\n\\t\\t\\t\\t\\t<s n=\"42\" xml:lang=\"la\" type=\"auto\">Sed te etiamnum per Iesum Christum, ne deinceps plus mihi vel tribuas, immodicus scilicet virtutum mearum, quibus penitus careo, pręco, vel magis sentias de me, quam res est.</s>\\n\\t\\t\\t\\t\\t<s n=\"43\" xml:lang=\"la\" type=\"auto\">Optime enim mihi ipsi conscius sum curtę suppellectilis,<note xml:id=\"fn26\" type=\"footnote\" n=\"26\"></note> quam tu, ni fallor, maiori atque ego, nescio quorum iuditio persuasus, aestimas.</s>\\n\\t\\t\\t\\t</p>\\n\\t\\t\\t\\t<p>\\n\\t\\t\\t\\t\\t<s n=\"44\" xml:lang=\"la\" type=\"auto\">Porro, quod nunc temporis importunitas negat, alias benignus deus, ecclesiarum verus et unicus pastor<note xml:id=\"fn27\" type=\"footnote\" n=\"27\"></note>, solita clementia sancta resarciet oportunitate.</s>\\n\\t\\t\\t\\t\\t<s n=\"45\" xml:lang=\"la\" type=\"auto\">Sancto quoque magistratui <placeName ref=\"l1976\" cert=\"high\">Augustano</placeName>, inprimis vero erudito viro domino <persName ref=\"p8354\" cert=\"high\">Georgio Leto</persName><note xml:id=\"fn28\" type=\"footnote\" n=\"28\"></note>, ingentes gratias meo nomine agas, obsecro, quod me, ineptum homuntionem,<note xml:id=\"fn29\" type=\"footnote\" n=\"29\"></note> adeo egregia dignati sint vocatione.</s>\\n\\t\\t\\t\\t\\t<s n=\"46\" xml:lang=\"la\" type=\"auto\">Ego quoque deinceps eius ecclesię maiorem habebo - si potis fuero - ubique rationem, optoque illis stabilem pacem et concordiam talesque antistites, qui pietate, eruditione, prudentia, vigilantia et fidelitate ita pręmineant, quo Christus in ea republica ita mittat radices, ut nullis satanę et impiorum imposturis deiiciatur.</s>\\n\\t\\t\\t\\t\\t<s n=\"47\" xml:lang=\"la\" type=\"auto\">Monebis ergo illos, ne me deinceps expectent; ignoro enim meam liberationem.</s>\\n\\t\\t\\t\\t\\t<s n=\"48\" xml:lang=\"la\" type=\"auto\">Servet te Christus.</s>\\n\\t\\t\\t\\t</p>\\n\\t\\t\\t\\t<p>\\n\\t\\t\\t\\t\\t<note type=\"attachment\">[Beilage:]</note>\\n\\t\\t\\t\\t\\t<s n=\"49\" xml:lang=\"la\" type=\"auto\"><pb type=\"scan\" next=\"258r.\"/>Nova: Absolutionem conmitiorum<note xml:id=\"fn30\" type=\"footnote\" n=\"30\"></note> non ignoras, in quibus nil certi definitum, nisi quod istis hybernis mensibus adversarii nobis pacem condixerunt; futura aestate nobis providendum erit<note xml:id=\"fn31\" type=\"footnote\" n=\"31\"></note>.</s>\\n\\t\\t\\t\\t\\t<s n=\"50\" xml:lang=\"la\" type=\"auto\">Acta comitiorum nondum sunt publicata.</s>\\n\\t\\t\\t\\t\\t<s n=\"51\" xml:lang=\"la\" type=\"auto\">Aiunt quidam caesari<note xml:id=\"fn33\" type=\"footnote\" n=\"33\"></note> omnia esse commissa, ut dicat sententiam etiam in religionis negotio certis tamen conditionibus; quodsi verum fuerit, ovem dicemus lupo<note xml:id=\"fn34\" type=\"footnote\" n=\"34\"></note> commissam.</s>\\n\\t\\t\\t\\t</p>\\n\\t\\t\\t\\t<p>\\n\\t\\t\\t\\t\\t<s n=\"52\" xml:lang=\"la\" type=\"auto\"><persName ref=\"p18477\" cert=\"high\">Ferdinandus</persName> priori septimana<note xml:id=\"fn35\" type=\"footnote\" n=\"35\"></note> a comitiis magno strepitu solvens Bohemiam petit cum <persName ref=\"p7688\" cert=\"high\">Nausea</persName><note xml:id=\"fn36\" type=\"footnote\" n=\"36\"></note> suo et quibusdam monachis.</s>\\n\\t\\t\\t\\t\\t<s n=\"53\" xml:lang=\"la\" type=\"auto\">Sequenti septimana<pb type=\"edition\" next=\"442\"/> caesar abiturus est, sed quo, ignoratur<note xml:id=\"fn37\" type=\"footnote\" n=\"37\"></note>.</s>\\n\\t\\t\\t\\t\\t<s n=\"54\" xml:lang=\"la\" type=\"auto\">Erant alia dicta comitia ad <placeName ref=\"l410\" cert=\"high\">Reginospurgum</placeName> ad mensem octobrem,<note xml:id=\"fn38\" type=\"footnote\" n=\"38\"></note>, sed aiunt quidam irritata<note xml:id=\"fn39\" type=\"footnote\" n=\"39\"></note>, etc.</s>\\n\\t\\t\\t\\t</p>\\n\\t\\t\\t\\t<p>\\n\\t\\t\\t\\t\\t<s n=\"55\" xml:lang=\"la\" type=\"auto\">Urgent plures nacionale concilium, idque <placeName ref=\"322\" type=\"auto_name\">Metis</placeName><note xml:id=\"fn40\" type=\"footnote\" n=\"40\"></note> celebrari postulant.</s>\\n\\t\\t\\t\\t\\t<s n=\"56\" xml:lang=\"la\" type=\"auto\">Musher<note xml:id=\"fn41\" type=\"footnote\" n=\"41\"></note> de Gyß<note xml:id=\"fn42\" type=\"footnote\" n=\"42\"></note>, defuncti ducis Lotharingię frater<note xml:id=\"fn43\" type=\"footnote\" n=\"43\"></note>, patruum suum conscripto milite et auxilio regis<note xml:id=\"fn45\" type=\"footnote\" n=\"45\"></note> Gallorum conatur e ducatu pellere.</s>\\n\\t\\t\\t\\t\\t<s n=\"57\" xml:lang=\"la\" type=\"auto\"><persName ref=\"p18538\" cert=\"high\">Caesar</persName> vero iuniori<note xml:id=\"fn46\" type=\"footnote\" n=\"46\"></note>, qui patri<note xml:id=\"fn47\" type=\"footnote\" n=\"47\"></note> successit, subsidium et <placeName ref=\"l29\" cert=\"high\">Hispanum</placeName> militem pollicitus est.</s>\\n\\t\\t\\t\\t\\t<s n=\"58\" xml:lang=\"la\" type=\"auto\">Quodsi res non fuerit composita, putant novum bellum inter caesarem et Gallum oriturum.</s>\\n\\t\\t\\t\\t\\t<s n=\"59\" xml:lang=\"la\" type=\"auto\">Feruntur alia quedam nova, sed forte non fide digna: mundus mendatiis scatet<note xml:id=\"fn48\" type=\"footnote\" n=\"48\"></note>.</s>\\n\\t\\t\\t\\t\\t<s n=\"60\" xml:lang=\"la\" type=\"auto\">Haec omnia raptim.</s>\\n\\t\\t\\t\\t</p>\\n\\t\\t\\t\\t<p>\\n\\t\\t\\t\\t\\t<s n=\"61\" xml:lang=\"la\" type=\"auto\">Valebis igitur, vir humanissime, cum ecclesia sancta et familia.</s>\\n\\t\\t\\t\\t\\t<s n=\"62\" xml:lang=\"la\" type=\"auto\">Salutabis vicissim tuos, in primis meum <persName ref=\"p8412\" cert=\"high\">Megandrum</persName>, <persName ref=\"p8437\" cert=\"high\">Erasmum</persName>,<note xml:id=\"fn49\" type=\"footnote\" n=\"49\"></note> <persName ref=\"p8127\" cert=\"high\">Pellicanum</persName>, <persName ref=\"p8011\" cert=\"high\">Gvaltherum</persName> ac reliquos.</s>\\n\\t\\t\\t\\t</p>\\n\\t\\t\\t\\t<p>\\n\\t\\t\\t\\t\\t<s n=\"63\" xml:lang=\"la\" type=\"auto\">Ex aedibus meis, 11. die augusti.</s>\\n\\t\\t\\t\\t</p>\\n\\t\\t\\t\\t<p>\\n\\t\\t\\t\\t\\t<s n=\"64\" xml:lang=\"la\" type=\"auto\">Tuus <persName ref=\"p1010\" cert=\"high\">Matthias<lb/> Erbius</persName>.</s>\\n\\t\\t\\t\\t</p>\\n\\t\\t\\t\\t<p>\\n\\t\\t\\t\\t\\t<note type=\"address\">[Adresse auf der Rückseite:]</note>\\n\\t\\t\\t\\t\\t<s n=\"65\" xml:lang=\"la\" type=\"auto\">Vere erudito pioque domino Henrycho Bullingero, ecclesię Tigurinae vigilanti ministro, suo patrono singulari, etc.</s>\\n\\t\\t\\t\\t</p>\\n\\t\\t\\t</div>\\n\\t\\t</body>\\n\\t</text>\\n</TEI>\\n'},\n",
       " {'role': 'assistant',\n",
       "  'content': '<persName ref=\"p8098\" cert=\"high\">Graf Georg von Württemberg-Mömpelgard</persName>, der sich laut Z. 16 damals in <placeName ref=\"l569\" cert=\"high\">Worms</placeName> aufhielt. Seine Teilnahme am <placeName ref=\"l569\" cert=\"high\">Wormser</placeName> Reichstag ist in RTA JR XVIII-2 nicht belegt.'},\n",
       " {'role': 'user',\n",
       "  'content': 'Bitte schlage mir einen Text für Fussnote n=10 in folgendem Dokument vor:\\n\\n<TEI xmlns=\"http://www.tei-c.org/ns/1.0\" xml:id=\"file12260\" type=\"Brief\" source=\"HBBW-15\" n=\"2213\">\\n\\t<teiHeader xml:lang=\"de\">\\n\\t\\t<fileDesc>\\n\\t\\t\\t<titleStmt>\\n\\t\\t\\t\\t<title subtype=\"file\">Matthias Erb / Reichenweier an Heinrich Bullinger, 11. August [1545]</title>\\n\\t\\t\\t</titleStmt>\\n\\t\\t\\t<publicationStmt>\\n\\t\\t\\t\\t<authority>Universität Zürich</authority>\\n\\t\\t\\t\\t</publicationStmt>\\n\\t\\t\\t<sourceDesc>\\n\\t\\t\\t\\t<bibl type=\"scan\">Zürich StA</bibl>\\n\\t\\t\\t\\t</sourceDesc>\\n\\t\\t</fileDesc>\\n\\t\\t</teiHeader>\\n\\t<text xml:lang=\"la\">\\n\\t\\t<body>\\n\\t\\t\\t<div xml:id=\"div1\" corresp=\"regest1\">\\n\\t\\t\\t\\t<p>\\n\\t\\t\\t\\t\\t<s n=\"1\" xml:lang=\"la\" type=\"auto\">Gratia domini tecum.</s>\\n\\t\\t\\t\\t\\t<s n=\"2\" xml:lang=\"la\" type=\"auto\">Quum decima augusti<note xml:id=\"fn2\" type=\"footnote\" n=\"2\"></note> e suggestu descendissem me actutum a templo ad aulam conferens (vocatus scilicet a cancellario<note xml:id=\"fn3\" type=\"footnote\" n=\"3\"></note> ob quędam negotia ecclesię componenda), venit hic tuus legatus<note xml:id=\"fn4\" type=\"footnote\" n=\"4\"></note> hora ferme nona et, dum in angiportu sisto gradum, servum<note xml:id=\"fn5\" type=\"footnote\" n=\"5\"></note> ad limina de <persName ref=\"p1010\" cert=\"high\">Erbio</persName> rogat, me vero oculis ostiario significante ne proderet, statim digito demonstrat dicens: „Hic est.“</s>\\n\\t\\t\\t\\t\\t<s n=\"3\" xml:lang=\"la\" type=\"auto\">Is ergo ad me veniens percunctatur, an mihi sit nomen <persName ref=\"p1010\" cert=\"high\">Erbio</persName>.</s>\\n\\t\\t\\t\\t\\t<s n=\"4\" xml:lang=\"la\" type=\"auto\">Aio.</s>\\n\\t\\t\\t\\t\\t<s n=\"5\" xml:lang=\"la\" type=\"auto\">Statimque litteras<note xml:id=\"fn6\" type=\"footnote\" n=\"6\"></note> depromens dicebat a te missas.</s>\\n\\t\\t\\t\\t\\t<s n=\"6\" xml:lang=\"la\" type=\"auto\">Acceptas legi simul obstupescens tuam, qui alias occupatissimus es, sedulitatem in describendis ex autographo copiis<note xml:id=\"fn7\" type=\"footnote\" n=\"7\"></note>.</s>\\n\\t\\t\\t\\t\\t<s n=\"7\" xml:lang=\"la\" type=\"auto\">Stans ergo attonitus et propemodum exanimis iussi adolescentem expectare, dum redeam, atque subinde inter tractatus et varias dissidentium quęstiones et tacite et indesinenter volvo ac revolvo intime, quę scripseras.</s>\\n\\t\\t\\t\\t\\t<s n=\"8\" xml:lang=\"la\" type=\"auto\">Absolutus a strepitu aulico eo cum adolescente pransum interque epulandum de singulis rebus percunctor, statim scilicet a mensa tibi responsurus.</s>\\n\\t\\t\\t\\t\\t<s n=\"9\" xml:lang=\"la\" type=\"auto\">Dum id meditor, alius adest nuntius<note xml:id=\"fn8\" type=\"footnote\" n=\"8\"></note> litteras ferens a principe<note xml:id=\"fn9\" type=\"footnote\" n=\"9\"></note>, in quibus multa mihi committuntur negotia principemque a comitiis<note xml:id=\"fn10\" type=\"footnote\" n=\"10\"></note> propediem rediturum pollicentes.</s>\\n\\t\\t\\t\\t\\t<s n=\"10\" xml:lang=\"la\" type=\"auto\">Hinc eo die, tametsi adolescens crebro urgeret abituriens, nil scripsi omnia in posterum, hoc est in hodiernum, reiiciens diem.</s>\\n\\t\\t\\t\\t\\t<s n=\"11\" xml:lang=\"la\" type=\"auto\">Haec de pueri tui diligentia.</s>\\n\\t\\t\\t\\t</p>\\n\\t\\t\\t\\t<p>\\n\\t\\t\\t\\t\\t<s n=\"12\" xml:lang=\"la\" type=\"auto\">Quod vero ad negotium adtinet, paucis haec accipe.</s>\\n\\t\\t\\t\\t\\t<s n=\"13\" xml:lang=\"la\" type=\"auto\">Fateor me iam annum quinquagesimum egressum<note xml:id=\"fn11\" type=\"footnote\" n=\"11\"></note>, et qui nunc in ea aetate sum, quę sedatior esse cupit, sepicule curas aulicas, quibus distringor,<pb type=\"scan\" next=\"257v.\"/> depręcatum, sed parum promovisse; imo, quo plus me expedire cupio, eo amplius perstringor dispendio et vitae et rerum.</s>\\n\\t\\t\\t\\t\\t<s n=\"14\" xml:lang=\"la\" type=\"auto\">Sic deo optimo maximo visum est.</s>\\n\\t\\t\\t\\t</p>\\n\\t\\t\\t\\t<p>\\n\\t\\t\\t\\t\\t<s n=\"15\" xml:lang=\"la\" type=\"auto\">Quod ad vitam, ut omnia manifestius depingam, subit tarda senectus,<note xml:id=\"fn12\" type=\"footnote\" n=\"12\"></note> quę difficilis incipit esse, sola non suffitiens laboribus, dum indies creberrime exantlatur.</s>\\n\\t\\t\\t\\t\\t<s n=\"16\" xml:lang=\"la\" type=\"auto\">Nullum habeo symmistam, ut nosti, opinor.</s>\\n\\t\\t\\t\\t\\t<s n=\"17\" xml:lang=\"la\" type=\"auto\">Plures iussu principis vocavi; sed horrent id, quod ego quęror.</s>\\n\\t\\t\\t\\t\\t<s n=\"18\" xml:lang=\"la\" type=\"auto\">Metuunt enim sibi ab ingeniis cervinis<note xml:id=\"fn13\" type=\"footnote\" n=\"13\"></note>, nec ego quenquam nisi volentem ad me trahere volo, etc.<pb type=\"edition\" next=\"439\"/></s>\\n\\t\\t\\t\\t\\t<s n=\"19\" xml:lang=\"la\" type=\"auto\">Quod vero ad res meas adtinet, male collocat ille, quem ex nomine nosti, stipendia.</s>\\n\\t\\t\\t\\t\\t<s n=\"20\" xml:lang=\"la\" type=\"auto\">Ex patrimonio intra quinquennium<note xml:id=\"fn16\" type=\"footnote\" n=\"16\"></note> ducentos fere aureos non in meam, sed magis ecclesię necessitatem exposui, quod dies domini revelabit.</s>\\n\\t\\t\\t\\t\\t<s n=\"21\" xml:lang=\"la\" type=\"auto\">Nec quęror, optime frater, de perditis rebus, sed de Harpiis furacibus, qui recte monentes non exaudiunt et ecclesię avaritię notam inurunt; quod non adeo magni referret, nisi metuendum de excidio foret.</s>\\n\\t\\t\\t\\t\\t<s n=\"22\" xml:lang=\"la\" type=\"auto\">Quamdiu rapiendum, placet Christus; dum defecerit ecclesię fiscus, non placebit ultra Christus!</s>\\n\\t\\t\\t\\t\\t<s n=\"23\" xml:lang=\"la\" type=\"auto\">Hactenus 3 fuimus in isto oppido, ubi quisque designatum habuit<pb type=\"edition\" next=\"440\"/> stipendium.</s>\\n\\t\\t\\t\\t\\t<s n=\"24\" xml:lang=\"la\" type=\"auto\">Ego nunc solus omnibus curis pręfectus aegre a satrapis<note xml:id=\"fn18\" type=\"footnote\" n=\"18\"></note> meum recipio stipendium, et si egerem, vix triobulo sublevarent.</s>\\n\\t\\t\\t\\t\\t<s n=\"25\" xml:lang=\"la\" type=\"auto\">Sunt pręterea et alię rationes, quibus te nolo nunc gravare scribendo, etc.</s>\\n\\t\\t\\t\\t\\t<s n=\"26\" xml:lang=\"la\" type=\"auto\">Atque inter tot turbines nondum video satis iustam occasionem desertionis huius ecclesię.</s>\\n\\t\\t\\t\\t</p>\\n\\t\\t\\t\\t<p>\\n\\t\\t\\t\\t\\t<s n=\"27\" xml:lang=\"de\" type=\"auto\"><pb type=\"scan\" next=\"257a,r.\"/>Summa.</s>\\n\\t\\t\\t\\t\\t<s n=\"28\" xml:lang=\"la\" type=\"auto\">Ita haereo inter sacrum et saxum<note xml:id=\"fn19\" type=\"footnote\" n=\"19\"></note>, ut nunc sine discrimine ecclesięque Christi maxima iactura, ut facile intelligis, discedere nequeam.</s>\\n\\t\\t\\t\\t</p>\\n\\t\\t\\t\\t<p>\\n\\t\\t\\t\\t\\t<s n=\"29\" xml:lang=\"la\" type=\"auto\">Atque eę sunt potissimę rationes.</s>\\n\\t\\t\\t\\t\\t<s n=\"30\" xml:lang=\"la\" type=\"auto\">Ecclesias nostras iam a sexto anno<note xml:id=\"fn20\" type=\"footnote\" n=\"20\"></note> utcunque in ordinem, ut potuimus - quando, ut volueramus, non licuit - redegimus.</s>\\n\\t\\t\\t\\t</p>\\n\\t\\t\\t\\t<p>\\n\\t\\t\\t\\t\\t<s n=\"31\" xml:lang=\"la\" type=\"auto\">Annitendum ergo, ut cępta perficiantur.</s>\\n\\t\\t\\t\\t\\t<s n=\"32\" xml:lang=\"la\" type=\"auto\">Ad hoc ecclesia illa nobis contigua, Montbelgardiana, cum suo principe<note xml:id=\"fn21\" type=\"footnote\" n=\"21\"></note> adhuc vacillat; de qua totus liber foret perscribendus.</s>\\n\\t\\t\\t\\t\\t<s n=\"33\" xml:lang=\"la\" type=\"auto\">Pręterea scholę quattuor in isto parviusculo agro sunt constitutę et quinta in rure instituenda, stipendia quoque studiosis quibusdam ante paucos menses pollicita,<note xml:id=\"fn23\" type=\"footnote\" n=\"23\"></note> sed haec non omnia firmata et rata, proponenda etiamnum ecclesię quędam decreta, quibus ad disciplinam et sanctos mores utcunque redigantur, idque statim redeunte principe.</s>\\n\\t\\t\\t\\t\\t<s n=\"34\" xml:lang=\"la\" type=\"auto\">Illo enim absente haec omnia conscripta sunt.</s>\\n\\t\\t\\t\\t\\t<s n=\"35\" xml:lang=\"la\" type=\"auto\">Dum igitur nunc mutavero locum omnia sub cultro relinquens<note xml:id=\"fn24\" type=\"footnote\" n=\"24\"></note>, facile intelligis, quid periculi inmineat.</s>\\n\\t\\t\\t\\t\\t<s n=\"36\" xml:lang=\"la\" type=\"auto\">In primis severus princeps, a quo omnia pendent, facile vel mutaretur vel irritaretur, ut solet hoc hominum genus; id quod nimirum magis in ecclesię quam in meum incomodum cęderet.</s>\\n\\t\\t\\t\\t\\t<s n=\"37\" xml:lang=\"la\" type=\"auto\">Viden inter coelum et terram me suspensum palpitare neque posse hac ratione vel vocatione, quę tamen et sancta et iusta, liberari?</s>\\n\\t\\t\\t\\t\\t<s n=\"38\" xml:lang=\"la\" type=\"auto\">Occasio mihi expectanda comodior, quę me liberet sine ecclesię iactura.</s>\\n\\t\\t\\t\\t\\t<s n=\"39\" xml:lang=\"la\" type=\"auto\">Nam si iam abirem, ecclesia viduata absque pastore inter cunctatores et cessatores fluctuaret, etc.</s>\\n\\t\\t\\t\\t</p>\\n\\t\\t\\t\\t<p>\\n\\t\\t\\t\\t\\t<s n=\"40\" xml:lang=\"la\" type=\"auto\"><pb type=\"scan\" next=\"257a,v.\"/>Ago vero et habeo tibi gratias inmortales, humanissime Bullingere, quod admodum ingenti cura meo nomine laboraveris, atque hoc impensius te amo, quod charitatis offitium non fucate, sed dextre candideque in me collocaris, imo significaris in hac sancta vocatione.</s>\\n\\t\\t\\t\\t\\t<s n=\"41\" xml:lang=\"la\" type=\"auto\">Respondebit olim procul dubio deus optimus maximus tuis votis, quo <placeName ref=\"l1976\" cert=\"high\">Augustani</placeName> nanciscantur virum aliquem sanctum, ecclesię dignum ministrum,<note xml:id=\"fn25\" type=\"footnote\" n=\"25\"></note> atque ego etiam tuis assiduis<pb type=\"edition\" next=\"441\"/> praecibus vel liberer publica occasione vel sub onere non defitiam.</s>\\n\\t\\t\\t\\t\\t<s n=\"42\" xml:lang=\"la\" type=\"auto\">Sed te etiamnum per Iesum Christum, ne deinceps plus mihi vel tribuas, immodicus scilicet virtutum mearum, quibus penitus careo, pręco, vel magis sentias de me, quam res est.</s>\\n\\t\\t\\t\\t\\t<s n=\"43\" xml:lang=\"la\" type=\"auto\">Optime enim mihi ipsi conscius sum curtę suppellectilis,<note xml:id=\"fn26\" type=\"footnote\" n=\"26\"></note> quam tu, ni fallor, maiori atque ego, nescio quorum iuditio persuasus, aestimas.</s>\\n\\t\\t\\t\\t</p>\\n\\t\\t\\t\\t<p>\\n\\t\\t\\t\\t\\t<s n=\"44\" xml:lang=\"la\" type=\"auto\">Porro, quod nunc temporis importunitas negat, alias benignus deus, ecclesiarum verus et unicus pastor<note xml:id=\"fn27\" type=\"footnote\" n=\"27\"></note>, solita clementia sancta resarciet oportunitate.</s>\\n\\t\\t\\t\\t\\t<s n=\"45\" xml:lang=\"la\" type=\"auto\">Sancto quoque magistratui <placeName ref=\"l1976\" cert=\"high\">Augustano</placeName>, inprimis vero erudito viro domino <persName ref=\"p8354\" cert=\"high\">Georgio Leto</persName><note xml:id=\"fn28\" type=\"footnote\" n=\"28\"></note>, ingentes gratias meo nomine agas, obsecro, quod me, ineptum homuntionem,<note xml:id=\"fn29\" type=\"footnote\" n=\"29\"></note> adeo egregia dignati sint vocatione.</s>\\n\\t\\t\\t\\t\\t<s n=\"46\" xml:lang=\"la\" type=\"auto\">Ego quoque deinceps eius ecclesię maiorem habebo - si potis fuero - ubique rationem, optoque illis stabilem pacem et concordiam talesque antistites, qui pietate, eruditione, prudentia, vigilantia et fidelitate ita pręmineant, quo Christus in ea republica ita mittat radices, ut nullis satanę et impiorum imposturis deiiciatur.</s>\\n\\t\\t\\t\\t\\t<s n=\"47\" xml:lang=\"la\" type=\"auto\">Monebis ergo illos, ne me deinceps expectent; ignoro enim meam liberationem.</s>\\n\\t\\t\\t\\t\\t<s n=\"48\" xml:lang=\"la\" type=\"auto\">Servet te Christus.</s>\\n\\t\\t\\t\\t</p>\\n\\t\\t\\t\\t<p>\\n\\t\\t\\t\\t\\t<note type=\"attachment\">[Beilage:]</note>\\n\\t\\t\\t\\t\\t<s n=\"49\" xml:lang=\"la\" type=\"auto\"><pb type=\"scan\" next=\"258r.\"/>Nova: Absolutionem conmitiorum<note xml:id=\"fn30\" type=\"footnote\" n=\"30\"></note> non ignoras, in quibus nil certi definitum, nisi quod istis hybernis mensibus adversarii nobis pacem condixerunt; futura aestate nobis providendum erit<note xml:id=\"fn31\" type=\"footnote\" n=\"31\"></note>.</s>\\n\\t\\t\\t\\t\\t<s n=\"50\" xml:lang=\"la\" type=\"auto\">Acta comitiorum nondum sunt publicata.</s>\\n\\t\\t\\t\\t\\t<s n=\"51\" xml:lang=\"la\" type=\"auto\">Aiunt quidam caesari<note xml:id=\"fn33\" type=\"footnote\" n=\"33\"></note> omnia esse commissa, ut dicat sententiam etiam in religionis negotio certis tamen conditionibus; quodsi verum fuerit, ovem dicemus lupo<note xml:id=\"fn34\" type=\"footnote\" n=\"34\"></note> commissam.</s>\\n\\t\\t\\t\\t</p>\\n\\t\\t\\t\\t<p>\\n\\t\\t\\t\\t\\t<s n=\"52\" xml:lang=\"la\" type=\"auto\"><persName ref=\"p18477\" cert=\"high\">Ferdinandus</persName> priori septimana<note xml:id=\"fn35\" type=\"footnote\" n=\"35\"></note> a comitiis magno strepitu solvens Bohemiam petit cum <persName ref=\"p7688\" cert=\"high\">Nausea</persName><note xml:id=\"fn36\" type=\"footnote\" n=\"36\"></note> suo et quibusdam monachis.</s>\\n\\t\\t\\t\\t\\t<s n=\"53\" xml:lang=\"la\" type=\"auto\">Sequenti septimana<pb type=\"edition\" next=\"442\"/> caesar abiturus est, sed quo, ignoratur<note xml:id=\"fn37\" type=\"footnote\" n=\"37\"></note>.</s>\\n\\t\\t\\t\\t\\t<s n=\"54\" xml:lang=\"la\" type=\"auto\">Erant alia dicta comitia ad <placeName ref=\"l410\" cert=\"high\">Reginospurgum</placeName> ad mensem octobrem,<note xml:id=\"fn38\" type=\"footnote\" n=\"38\"></note>, sed aiunt quidam irritata<note xml:id=\"fn39\" type=\"footnote\" n=\"39\"></note>, etc.</s>\\n\\t\\t\\t\\t</p>\\n\\t\\t\\t\\t<p>\\n\\t\\t\\t\\t\\t<s n=\"55\" xml:lang=\"la\" type=\"auto\">Urgent plures nacionale concilium, idque <placeName ref=\"322\" type=\"auto_name\">Metis</placeName><note xml:id=\"fn40\" type=\"footnote\" n=\"40\"></note> celebrari postulant.</s>\\n\\t\\t\\t\\t\\t<s n=\"56\" xml:lang=\"la\" type=\"auto\">Musher<note xml:id=\"fn41\" type=\"footnote\" n=\"41\"></note> de Gyß<note xml:id=\"fn42\" type=\"footnote\" n=\"42\"></note>, defuncti ducis Lotharingię frater<note xml:id=\"fn43\" type=\"footnote\" n=\"43\"></note>, patruum suum conscripto milite et auxilio regis<note xml:id=\"fn45\" type=\"footnote\" n=\"45\"></note> Gallorum conatur e ducatu pellere.</s>\\n\\t\\t\\t\\t\\t<s n=\"57\" xml:lang=\"la\" type=\"auto\"><persName ref=\"p18538\" cert=\"high\">Caesar</persName> vero iuniori<note xml:id=\"fn46\" type=\"footnote\" n=\"46\"></note>, qui patri<note xml:id=\"fn47\" type=\"footnote\" n=\"47\"></note> successit, subsidium et <placeName ref=\"l29\" cert=\"high\">Hispanum</placeName> militem pollicitus est.</s>\\n\\t\\t\\t\\t\\t<s n=\"58\" xml:lang=\"la\" type=\"auto\">Quodsi res non fuerit composita, putant novum bellum inter caesarem et Gallum oriturum.</s>\\n\\t\\t\\t\\t\\t<s n=\"59\" xml:lang=\"la\" type=\"auto\">Feruntur alia quedam nova, sed forte non fide digna: mundus mendatiis scatet<note xml:id=\"fn48\" type=\"footnote\" n=\"48\"></note>.</s>\\n\\t\\t\\t\\t\\t<s n=\"60\" xml:lang=\"la\" type=\"auto\">Haec omnia raptim.</s>\\n\\t\\t\\t\\t</p>\\n\\t\\t\\t\\t<p>\\n\\t\\t\\t\\t\\t<s n=\"61\" xml:lang=\"la\" type=\"auto\">Valebis igitur, vir humanissime, cum ecclesia sancta et familia.</s>\\n\\t\\t\\t\\t\\t<s n=\"62\" xml:lang=\"la\" type=\"auto\">Salutabis vicissim tuos, in primis meum <persName ref=\"p8412\" cert=\"high\">Megandrum</persName>, <persName ref=\"p8437\" cert=\"high\">Erasmum</persName>,<note xml:id=\"fn49\" type=\"footnote\" n=\"49\"></note> <persName ref=\"p8127\" cert=\"high\">Pellicanum</persName>, <persName ref=\"p8011\" cert=\"high\">Gvaltherum</persName> ac reliquos.</s>\\n\\t\\t\\t\\t</p>\\n\\t\\t\\t\\t<p>\\n\\t\\t\\t\\t\\t<s n=\"63\" xml:lang=\"la\" type=\"auto\">Ex aedibus meis, 11. die augusti.</s>\\n\\t\\t\\t\\t</p>\\n\\t\\t\\t\\t<p>\\n\\t\\t\\t\\t\\t<s n=\"64\" xml:lang=\"la\" type=\"auto\">Tuus <persName ref=\"p1010\" cert=\"high\">Matthias<lb/> Erbius</persName>.</s>\\n\\t\\t\\t\\t</p>\\n\\t\\t\\t\\t<p>\\n\\t\\t\\t\\t\\t<note type=\"address\">[Adresse auf der Rückseite:]</note>\\n\\t\\t\\t\\t\\t<s n=\"65\" xml:lang=\"la\" type=\"auto\">Vere erudito pioque domino Henrycho Bullingero, ecclesię Tigurinae vigilanti ministro, suo patrono singulari, etc.</s>\\n\\t\\t\\t\\t</p>\\n\\t\\t\\t</div>\\n\\t\\t</body>\\n\\t</text>\\n</TEI>\\n'}]"
      ]
     },
     "execution_count": 57,
     "metadata": {},
     "output_type": "execute_result"
    }
   ],
   "source": [
    "instruct_prompt_no_fns(letter, 10, example_n=9)"
   ]
  },
  {
   "cell_type": "markdown",
   "metadata": {},
   "source": [
    "It just repeats the suggested one, though. Maybe with another example?"
   ]
  },
  {
   "cell_type": "code",
   "execution_count": 55,
   "metadata": {},
   "outputs": [
    {
     "name": "stdout",
     "output_type": "stream",
     "text": [
      "<persName ref=\"p8098\" cert=\"high\">Graf Georg von Württemberg-Mömpelgard</persName>, der sich laut Z. 16 damals in <placeName ref=\"l569\" cert=\"high\">Worms</placeName> aufhielt. Seine Teilnahme am <placeName ref=\"l569\" cert=\"high\">Wormser</placeName> Reichstag ist in RTA JR XVIII-2 nicht belegt.\n",
      "<persName ref=\"p8098\" cert=\"high\">Graf Georg von Württemberg-Mömpelgard</persName>, der sich laut Z. 16 damals in <placeName ref=\"l569\" cert=\"high\">Worms</placeName> aufhielt. Seine Teilnahme am <placeName ref=\"l569\" cert=\"high\">Wormser</placeName> Reichstag ist in RTA JR XVIII-2 nicht belegt.\n",
      "<persName ref=\"p8098\" cert=\"high\">Graf Georg von Württemberg-Mömpelgard</persName>, der sich laut Z. 16 damals in <placeName ref=\"l569\" cert=\"high\">Worms</placeName> aufhielt. Seine Teilnahme am <placeName ref=\"l569\" cert=\"high\">Wormser</placeName> Reichstag ist in RTA JR XVIII-2 nicht belegt.\n",
      "<persName ref=\"p8098\" cert=\"high\">Graf Georg von Württemberg-Mömpelgard</persName>, der sich laut Z. 16 damals in <placeName ref=\"l569\" cert=\"high\">Worms</placeName> aufhielt. Seine Teilnahme am <placeName ref=\"l569\" cert=\"high\">Wormser</placeName> Reichstag ist in RTA JR XVIII-2 nicht belegt.\n",
      "<persName ref=\"p8098\" cert=\"high\">Graf Georg von Württemberg-Mömpelgard</persName>, der sich laut Z. 16 damals in <placeName ref=\"l569\" cert=\"high\">Worms</placeName> aufhielt. Seine Teilnahme am <placeName ref=\"l569\" cert=\"high\">Wormser</placeName> Reichstag ist in RTA JR XVIII-2 nicht belegt.\n",
      "<persName ref=\"p8098\" cert=\"high\">Graf Georg von Württemberg-Mömpelgard</persName>, der sich laut Z. 16 damals in <placeName ref=\"l569\" cert=\"high\">Worms</placeName> aufhielt. Seine Teilnahme am <placeName ref=\"l569\" cert=\"high\">Wormser</placeName> Reichstag ist in RTA JR XVIII-2 nicht belegt.\n",
      "<persName ref=\"p8098\" cert=\"high\">Graf Georg von Württemberg-Mömpelgard</persName>, der sich laut Z. 16 damals in <placeName ref=\"l569\" cert=\"high\">Worms</placeName> aufhielt. Seine Teilnahme am <placeName ref=\"l569\" cert=\"high\">Wormser</placeName> Reichstag ist in RTA JR XVIII-2 nicht belegt.\n",
      "<persName ref=\"p8098\" cert=\"high\">Graf Georg von Württemberg-Mömpelgard</persName>, der sich laut Z. 16 damals in <placeName ref=\"l569\" cert=\"high\">Worms</placeName> aufhielt. Seine Teilnahme am <placeName ref=\"l569\" cert=\"high\">Wormser</placeName> Reichstag ist in RTA JR XVIII-2 nicht belegt.\n",
      "<persName ref=\"p8098\" cert=\"high\">Graf Georg von Württemberg-Mömpelgard</persName>, der sich laut Z. 16 damals in <placeName ref=\"l569\" cert=\"high\">Worms</placeName> aufhielt. Seine Teilnahme am <placeName ref=\"l569\" cert=\"high\">Wormser</placeName> Reichstag ist in RTA JR XVIII-2 nicht belegt.\n",
      "<persName ref=\"p8098\" cert=\"high\">Graf Georg von Württemberg-Mömpelgard</persName>, der sich laut Z. 16 damals in <placeName ref=\"l569\" cert=\"high\">Worms</placeName> aufhielt. Seine Teilnahme am <placeName ref=\"l569\" cert=\"high\">Wormser</placeName> Reichstag ist in RTA JR XVIII-2 nicht belegt.\n"
     ]
    }
   ],
   "source": [
    "tokens = []\n",
    "for i in range(10):\n",
    "    text, in_toks, out_toks = model.generate(instruct_prompt_no_fns(letter, 10, example_n=9))\n",
    "    tokens.append((in_toks, out_toks))\n",
    "    print(text)"
   ]
  },
  {
   "cell_type": "code",
   "execution_count": 56,
   "metadata": {},
   "outputs": [
    {
     "data": {
      "text/plain": [
       "0.32058"
      ]
     },
     "execution_count": 56,
     "metadata": {},
     "output_type": "execute_result"
    }
   ],
   "source": [
    "calculate_openai_cost(tokens, (3,6))"
   ]
  },
  {
   "cell_type": "code",
   "execution_count": 58,
   "metadata": {},
   "outputs": [
    {
     "name": "stdout",
     "output_type": "stream",
     "text": [
      "<persName ref=\"p8127\" cert=\"high\">Pellicanum</persName> ist eine Abkürzung für den Theologen Konrad Pellikan (1478-1556), der als Reformator und Bibelübersetzer bekannt ist.\n",
      "<persName ref=\"p8127\" cert=\"high\">Pellicanum</persName> ist eine Abkürzung für den Theologen Konrad Pellikan (1478-1556), der als Reformator und Bibelübersetzer bekannt ist.\n",
      "<persName ref=\"p8127\" cert=\"high\">Pellicanum</persName> ist eine Anspielung auf den bekannten Theologen und Reformator Konrad Pellikan, der zu dieser Zeit in Zürich lebte und eng mit Heinrich Bullinger zusammenarbeitete.\n",
      "<persName ref=\"p8127\" cert=\"high\">Pellicanum</persName> ist eine Anspielung auf den bekannten Theologen und Reformator Konrad Pellikan.\n",
      "<persName ref=\"p8127\" cert=\"high\">Pellicanum</persName> ist eine Anspielung auf den Gelehrten und Theologen Konrad Pellikan, der zu dieser Zeit eine bedeutende Figur in der reformierten Bewegung war.\n",
      "<persName ref=\"p8127\" cert=\"high\">Pellicanum</persName> ist eine Abkürzung für den Gelehrten und Theologen Konrad Pellikan (1478-1556), der als Reformator und Bibelübersetzer bekannt ist.\n",
      "<persName ref=\"p8127\" cert=\"high\">Pellicanum</persName> ist eine Anspielung auf den Gelehrten und Theologen Konrad Pellikan, der zu dieser Zeit eine bedeutende Figur in der reformierten Bewegung war.\n",
      "<persName ref=\"p8127\" cert=\"high\">Pellicanum</persName> ist eine Anspielung auf den bekannten Theologen und Reformator Konrad Pellikan.\n",
      "<persName ref=\"p8127\" cert=\"high\">Johannes Oecolampadius</persName> war ein bedeutender Reformator und Theologe, der eng mit Heinrich Bullinger zusammenarbeitete.\n",
      "<persName ref=\"p8127\" cert=\"high\">Pellicanum</persName> ist eine Abkürzung für den Theologen Konrad Pellikan (1478-1556), der als Reformator und Bibelübersetzer bekannt ist.\n"
     ]
    }
   ],
   "source": [
    "tokens = []\n",
    "for i in range(10):\n",
    "    text, in_toks, out_toks = model.generate(instruct_prompt_no_fns(letter, 49, example_n=9))\n",
    "    tokens.append((in_toks, out_toks))\n",
    "    print(text)"
   ]
  },
  {
   "cell_type": "code",
   "execution_count": 59,
   "metadata": {},
   "outputs": [
    {
     "data": {
      "text/plain": [
       "0.317658"
      ]
     },
     "execution_count": 59,
     "metadata": {},
     "output_type": "execute_result"
    }
   ],
   "source": [
    "calculate_openai_cost(tokens, (3,6))"
   ]
  },
  {
   "cell_type": "markdown",
   "metadata": {},
   "source": [
    "# Evaluate"
   ]
  },
  {
   "cell_type": "markdown",
   "metadata": {},
   "source": [
    "| **Tests with Markup**             | BLEU  | ROUGE | roberta-base | xlm-roberta-base | wechsel-german | german-cased |\n",
    "|------------------|-------|-------|--------------|------------------|----------------|--------------|\n",
    "| Test 1          | **0.17** | **0.24**  | **0.85**      | **0.85**          | **0.82**       | **0.71**       |\n",
    "| Test 2          | 0.00  | 0.01  | 0.70         | 0.69             | 0.66           | 0.50         |\n",
    "| Test 3          | 0.16  | 0.15  | 0.84         | 0.83             | 0.79           | **0.71**         |"
   ]
  },
  {
   "cell_type": "markdown",
   "metadata": {},
   "source": [
    "## installs and functions"
   ]
  },
  {
   "cell_type": "code",
   "execution_count": null,
   "metadata": {},
   "outputs": [],
   "source": [
    "%pip install evaluate\n",
    "%pip install transformers\n",
    "%pip install bert-score\n",
    "%pip install rouge_score"
   ]
  },
  {
   "cell_type": "code",
   "execution_count": 29,
   "metadata": {},
   "outputs": [],
   "source": [
    "import re\n",
    "from evaluate import load\n",
    "import evaluate\n",
    "from html import unescape\n",
    "import bert_score\n",
    "from tqdm import tqdm\n",
    "\n",
    "bleu = load(\"bleu\")\n",
    "rouge = load(\"rouge\")\n",
    "bertscore = load(\"bertscore\")\n",
    "\n",
    "def remove_outer_note_tag(xml_str):\n",
    "  \"\"\"remove the outer note tag, since in the footnote_xml in the df it is still contained\"\"\"\n",
    "  return re.match(r\"<note [^>]*?>(.*?)</note>\", xml_str, re.DOTALL).group(1)\n",
    "\n",
    "def normalize_ws(text):\n",
    "  \"\"\"normalize whitespace\"\"\"\n",
    "  return re.sub(r\"\\s+\", \" \", text).strip()\n",
    "\n",
    "def remove_markup(sent):\n",
    "  \"\"\"Remove all markup from a sentence\"\"\"\n",
    "  return unescape(re.sub(rf\"<.*?>\", \"\", sent))\n",
    "\n",
    "###########\n",
    "# Calculating BERT scores\n",
    "###########\n",
    "# Default of what layer to use for the representation\n",
    "# The original module defines the default as\n",
    "# \"the number of layers tuned on WMT16 correlation data.\"\n",
    "# I have to add some models, that are not in the original\n",
    "# Maybe a todo: Test if the evaluation changes significantly based on this...\n",
    "bert_score.utils.model2layers[\"google-bert/bert-base-german-cased\"] = 9\n",
    "bert_score.utils.model2layers[\"benjamin/roberta-base-wechsel-german\"] = 9\n",
    "\n",
    "def bertscore_f1_average(preds, refs, model_type):\n",
    "  \"\"\"calculate bertscore f1 average\n",
    "  args:\n",
    "    model_type: str, name of the model to use for the scoring\"\"\"\n",
    "\n",
    "  results = bertscore.compute(predictions=preds, references=refs, model_type=model_type)\n",
    "  f1 = results[\"f1\"]\n",
    "  return sum(f1) / len(f1)\n",
    "\n",
    "def semantic_scores(predictions, references):\n",
    "  \"\"\"calculate semantic scores with BERT\"\"\"\n",
    "  # calculate f1 average with different Bert models\n",
    "  # the large models seem not to make much of a difference, but take more time\n",
    "    # ->> but check it anyway sometime\n",
    "  # The German models are more critical though\n",
    "  # models = [\"roberta-base\", \"xlm-roberta-base\", \"benjamin/roberta-base-wechsel-german\",\n",
    "    #         \"google-bert/bert-base-german-cased\"]\n",
    "  models = [\"benjamin/roberta-base-wechsel-german\"]\n",
    "  scores = {}\n",
    "  # print(f\"calculating Bert scores for {len(models)} models\")\n",
    "  for model in models:\n",
    "    scores[model] = bertscore_f1_average(predictions, references, model)\n",
    "  return scores\n",
    "\n",
    "def all_metrics(predictions, references):\n",
    "\n",
    "  all_results = {\n",
    "      \"with_markup\": {},\n",
    "      \"without_markup\": {}\n",
    "  }\n",
    "  # Calculate BLEU score\n",
    "  bleu_results = bleu.compute(predictions=predictions, references=references)\n",
    "  all_results[\"with_markup\"][\"bleu\"] = bleu_results[\"bleu\"]\n",
    "\n",
    "  # Calculate ROUGE scores\n",
    "  rouge_results = rouge.compute(predictions=predictions, references=references)\n",
    "  all_results[\"with_markup\"][\"rouge\"] = rouge_results[\"rouge1\"]\n",
    "\n",
    "  # Calculate Semantic score with BERT\n",
    "  bertscore_results = semantic_scores(predictions=predictions, references=references)\n",
    "  all_results[\"with_markup\"][\"bertscore\"] = bertscore_results\n",
    "  # print(\"\\n\".join([f\"{model}: {score}\" for model, score in bertscore_results.items()]))\n",
    "\n",
    "  # removing markup\n",
    "  predictions = [remove_markup(pred) for pred in predictions]\n",
    "  references = [remove_markup(ref) for ref in references]\n",
    "\n",
    "  # Calculate BLEU score\n",
    "  bleu_results = bleu.compute(predictions=predictions, references=references)\n",
    "  all_results[\"without_markup\"][\"bleu\"] = bleu_results[\"bleu\"]\n",
    "\n",
    "  # Calculate ROUGE scores\n",
    "  rouge_results = rouge.compute(predictions=predictions, references=references)\n",
    "  all_results[\"without_markup\"][\"rouge\"] = rouge_results[\"rouge1\"]\n",
    "\n",
    "  # Calculate Semantic score with BERT\n",
    "  bertscore_results = semantic_scores(predictions=predictions, references=references)\n",
    "  all_results[\"without_markup\"][\"bertscore\"] = bertscore_results\n",
    "  # print(\"\\n\".join([f\"{model}: {score}\" for model, score in bertscore_results.items()]))\n",
    "\n",
    "  return all_results\n"
   ]
  },
  {
   "cell_type": "code",
   "execution_count": 6,
   "metadata": {},
   "outputs": [
    {
     "name": "stdout",
     "output_type": "stream",
     "text": [
      "Collecting requests_mock\n",
      "  Downloading requests_mock-1.12.1-py2.py3-none-any.whl.metadata (4.1 kB)\n",
      "Requirement already satisfied: requests<3,>=2.22 in /home/niko/anaconda3/lib/python3.11/site-packages (from requests_mock) (2.31.0)\n",
      "Requirement already satisfied: charset-normalizer<4,>=2 in /home/niko/anaconda3/lib/python3.11/site-packages (from requests<3,>=2.22->requests_mock) (3.3.2)\n",
      "Requirement already satisfied: idna<4,>=2.5 in /home/niko/anaconda3/lib/python3.11/site-packages (from requests<3,>=2.22->requests_mock) (3.4)\n",
      "Requirement already satisfied: urllib3<3,>=1.21.1 in /home/niko/anaconda3/lib/python3.11/site-packages (from requests<3,>=2.22->requests_mock) (2.2.2)\n",
      "Requirement already satisfied: certifi>=2017.4.17 in /home/niko/anaconda3/lib/python3.11/site-packages (from requests<3,>=2.22->requests_mock) (2023.7.22)\n",
      "Downloading requests_mock-1.12.1-py2.py3-none-any.whl (27 kB)\n",
      "Installing collected packages: requests_mock\n",
      "\u001b[31mERROR: pip's dependency resolver does not currently take into account all the packages that are installed. This behaviour is the source of the following dependency conflicts.\n",
      "conda-repo-cli 1.0.75 requires clyent==1.2.1, but you have clyent 1.2.2 which is incompatible.\n",
      "conda-repo-cli 1.0.75 requires PyYAML==6.0.1, but you have pyyaml 6.0 which is incompatible.\u001b[0m\u001b[31m\n",
      "\u001b[0mSuccessfully installed requests_mock-1.12.1\n",
      "\n",
      "\u001b[1m[\u001b[0m\u001b[34;49mnotice\u001b[0m\u001b[1;39;49m]\u001b[0m\u001b[39;49m A new release of pip is available: \u001b[0m\u001b[31;49m24.0\u001b[0m\u001b[39;49m -> \u001b[0m\u001b[32;49m24.2\u001b[0m\n",
      "\u001b[1m[\u001b[0m\u001b[34;49mnotice\u001b[0m\u001b[1;39;49m]\u001b[0m\u001b[39;49m To update, run: \u001b[0m\u001b[32;49mpip install --upgrade pip\u001b[0m\n"
     ]
    }
   ],
   "source": [
    "!pip install requests_mock\n"
   ]
  },
  {
   "cell_type": "markdown",
   "metadata": {},
   "source": [
    "## Test 1\n",
    "instruction prompt to complete"
   ]
  },
  {
   "cell_type": "code",
   "execution_count": 2,
   "metadata": {},
   "outputs": [],
   "source": [
    "def format_completion_model_output(x):\n",
    "  \"\"\"get a list of the generated fns without the end-tag\"\"\"\n",
    "  generated_fns = x.split(\"\\n\")\n",
    "  generated_fns = [re.sub(r\"</note>.*$\", \"\", fn).strip() for fn in generated_fns]  # remove end tag\n",
    "  return generated_fns"
   ]
  },
  {
   "cell_type": "code",
   "execution_count": null,
   "metadata": {},
   "outputs": [],
   "source": [
    "original_fn = \"\"\"<persName ref=\"p1214\" cert=\"high\">Fries</persName>\n",
    "und\n",
    "<persName ref=\"p1283\" cert=\"high\">Geßner</persName>\n",
    "waren in einem Brief\n",
    "<persName ref=\"p8127\" cert=\"high\">Pellikans</persName>\n",
    "vom 19. Februar 1533 an\n",
    "<persName ref=\"p8418\" cert=\"high\">Myconius</persName>\n",
    "empfohlen worden (Zürich StA, E II 358, 98).\n",
    "</note>\"\"\"\n",
    "\n",
    "x = \"\"\"<note xml:id=\"fn4\" type=\"footnote\" n=\"4\"><placeName ref=\"l28\" cert=\"high\">Basileae</placeName> apud <persName ref=\"p8418\" cert=\"high\">Myconium</persName> refers to a location in Basel near the residence of the printer <persName ref=\"p8418\" cert=\"high\">Myconius</persName>.</note>\n",
    "<note xml:id=\"fn4\" type=\"footnote\" n=\"4\"><placeName ref=\"l28\" cert=\"high\">Basileae</placeName> apud <persName ref=\"p8418\" cert=\"high\">Myconium</persName> refers to a location in Basel near the residence of the printer <persName ref=\"p8418\" cert=\"high\">Myconius</persName>.</note>\n",
    "<note xml:id=\"fn4\" type=\"footnote\" n=\"4\"><placeName ref=\"l28\" cert=\"high\">Basileae</placeName> apud <persName ref=\"p8418\" cert=\"high\">Myconium</persName> refers to a location in Basel near the printer <persName ref=\"p8418\" cert=\"high\">Myconius</persName>.</note>\n",
    "<note xml:id=\"fn4\" type=\"footnote\" n=\"4\"><placeName ref=\"l28\" cert=\"high\">Basileae</placeName> apud <persName ref=\"p8418\" cert=\"high\">Myconium</persName> refers to a location in Basel where the letter was written.</note>\n",
    "<note xml:id=\"fn4\" type=\"footnote\" n=\"4\"><placeName ref=\"l28\" cert=\"high\">Basileae</placeName> apud <persName ref=\"p8418\" cert=\"high\">Myconium</persName> refers to a location in Basel where the letter was written.</note>\n",
    "<note xml:id=\"fn4\" type=\"footnote\" n=\"4\"><placeName ref=\"l28\" cert=\"high\">Basileae</placeName> apud <persName ref=\"p8418\" cert=\"high\">Myconium</persName> refers to a location in Basel where the letter was written.</note>\n",
    "<note xml:id=\"fn4\" type=\"footnote\" n=\"4\"><placeName ref=\"l28\" cert=\"high\">Basileae</placeName> apud <persName ref=\"p8418\" cert=\"high\">Myconium</persName> refers to a location in Basel where the letter was written.</note>\n",
    "<note xml:id=\"fn4\" type=\"footnote\" n=\"4\"><placeName ref=\"l28\" cert=\"high\">Basileae</placeName> apud <persName ref=\"p8418\" cert=\"high\">Myconium</persName> refers to a location in Basel near the residence of the printer <persName ref=\"p8418\" cert=\"high\">Myconius</persName>.</note>\n",
    "<note xml:id=\"fn4\" type=\"footnote\" n=\"4\"><placeName ref=\"l28\" cert=\"high\">Basileae</placeName> apud <persName ref=\"p8418\" cert=\"high\">Myconium</persName> refers to a location in Basel near the residence of the printer <persName ref=\"p8418\" cert=\"high\">Myconius</persName>.</note>\n",
    "<note xml:id=\"fn4\" type=\"footnote\" n=\"4\"><placeName ref=\"l28\" cert=\"high\">Basileae</placeName> apud <persName ref=\"p8418\" cert=\"high\">Myconium</persName> refers to a location in Basel where the letter was written.</note>\"\"\"\n",
    "\n",
    "generated_fns = format_completion_model_output(x)\n",
    "\n",
    "# Normalize WS:\n",
    "predictions = [normalize_ws(fn) for fn in generated_fns]\n",
    "references = [normalize_ws(original_fn) for _ in range(len(generated_fns))]"
   ]
  },
  {
   "cell_type": "code",
   "execution_count": null,
   "metadata": {},
   "outputs": [],
   "source": [
    "results_completion_test1 = all_metrics(predictions, references)"
   ]
  },
  {
   "cell_type": "code",
   "execution_count": null,
   "metadata": {},
   "outputs": [],
   "source": [
    "import json\n",
    "print(json.dumps(results_completion_test1, indent=4))"
   ]
  },
  {
   "cell_type": "markdown",
   "metadata": {},
   "source": [
    "# Batching\n"
   ]
  },
  {
   "cell_type": "code",
   "execution_count": 4,
   "metadata": {},
   "outputs": [],
   "source": [
    "from openai import OpenAI\n",
    "client = OpenAI(api_key=api_key)"
   ]
  },
  {
   "cell_type": "code",
   "execution_count": 7,
   "metadata": {},
   "outputs": [],
   "source": [
    "prompt_file = \"gpt-4o-mini-2024-07-18-instruct_add-test.jsonl\""
   ]
  },
  {
   "cell_type": "code",
   "execution_count": 3,
   "metadata": {},
   "outputs": [],
   "source": [
    "from openai import OpenAI\n",
    "client = OpenAI(api_key=api_key)\n",
    "\n",
    "\n",
    "\n",
    "batch_input_file = client.files.create(\n",
    "  file=open(f\"../../data/prompts/instruct_add/{prompt_file}\", \"rb\"),\n",
    "  purpose=\"batch\"\n",
    ")"
   ]
  },
  {
   "cell_type": "code",
   "execution_count": 6,
   "metadata": {},
   "outputs": [
    {
     "data": {
      "text/plain": [
       "Batch(id='batch_bLVivX0PHRvWdSY9opVRcW2q', completion_window='24h', created_at=1727190129, endpoint='/v1/chat/completions', input_file_id='file-UAb5MkWfxEi399BwnlbwX8UE', object='batch', status='validating', cancelled_at=None, cancelling_at=None, completed_at=None, error_file_id=None, errors=None, expired_at=None, expires_at=1727276529, failed_at=None, finalizing_at=None, in_progress_at=None, metadata={'description': 'gpt-4o-mini-2024-07-18-instruct_add-test'}, output_file_id=None, request_counts=BatchRequestCounts(completed=0, failed=0, total=0))"
      ]
     },
     "execution_count": 6,
     "metadata": {},
     "output_type": "execute_result"
    }
   ],
   "source": [
    "batch_input_file_id = batch_input_file.id\n",
    "\n",
    "description = prompt_file.split(\".\")[0]\n",
    "\n",
    "client.batches.create(\n",
    "    input_file_id=batch_input_file_id,\n",
    "    endpoint=\"/v1/chat/completions\",\n",
    "    completion_window=\"24h\",\n",
    "    metadata={\n",
    "      \"description\": description\n",
    "    }\n",
    ")"
   ]
  },
  {
   "cell_type": "code",
   "execution_count": 5,
   "metadata": {},
   "outputs": [
    {
     "data": {
      "text/plain": [
       "Batch(id='batch_bLVivX0PHRvWdSY9opVRcW2q', completion_window='24h', created_at=1727190129, endpoint='/v1/chat/completions', input_file_id='file-UAb5MkWfxEi399BwnlbwX8UE', object='batch', status='completed', cancelled_at=None, cancelling_at=None, completed_at=1727191882, error_file_id=None, errors=None, expired_at=None, expires_at=1727276529, failed_at=None, finalizing_at=1727191603, in_progress_at=1727190133, metadata={'description': 'gpt-4o-mini-2024-07-18-instruct_add-test'}, output_file_id='file-pna9LXQ4KeQv5XAsM9nE5PEv', request_counts=BatchRequestCounts(completed=3239, failed=0, total=3239))"
      ]
     },
     "execution_count": 5,
     "metadata": {},
     "output_type": "execute_result"
    }
   ],
   "source": [
    "batch_object = client.batches.retrieve(\"batch_bLVivX0PHRvWdSY9opVRcW2q\")  # checking status\n",
    "batch_object"
   ]
  },
  {
   "cell_type": "code",
   "execution_count": 6,
   "metadata": {},
   "outputs": [
    {
     "name": "stdout",
     "output_type": "stream",
     "text": [
      "completed\n"
     ]
    }
   ],
   "source": [
    "\n",
    "status = batch_object.status\n",
    "print(status)\n",
    "if status == \"completed\":\n",
    "    output_file_id = batch_object.output_file_id\n",
    "    file_response = client.files.content(output_file_id).content"
   ]
  },
  {
   "cell_type": "code",
   "execution_count": 8,
   "metadata": {},
   "outputs": [],
   "source": [
    "outfile_name = f\"../../data/model_responses/gpt/{prompt_file}\"\n",
    "with open(outfile_name, \"wb\") as outfile:\n",
    "    outfile.write(file_response)"
   ]
  },
  {
   "cell_type": "code",
   "execution_count": 9,
   "metadata": {},
   "outputs": [],
   "source": [
    "# open the results file and save in a csv\n",
    "\n",
    "import pandas as pd\n",
    "import os\n",
    "import jsonlines\n",
    "\n",
    "response_file = outfile_name\n",
    "filepath, json_filename = os.path.split(outfile_name)\n",
    "csv_filename = f\"{json_filename.split('.')[0]}.csv\"\n",
    "csv_filepath = os.path.join(filepath, csv_filename)\n",
    "\n",
    "column_names = [\"letter_id\", \"n_footnote\", \"generated_footnote\", \"prompt_tokens\", \"completion_tokens\"]\n",
    "rows = []\n",
    "footnote_generated_dict = {}\n",
    "response_file = outfile_name\n",
    "\n",
    "with jsonlines.open(response_file, \"r\") as infile:\n",
    "    for line in infile:\n",
    "        custom_id = line[\"custom_id\"]\n",
    "        letter_id, footnote_n = custom_id.split(\"_\")\n",
    "        generated_footnote = line[\"response\"][\"body\"][\"choices\"][0][\"message\"][\"content\"]\n",
    "        prompt_tokens = line[\"response\"][\"body\"][\"usage\"][\"prompt_tokens\"]\n",
    "        completion_tokens = line[\"response\"][\"body\"][\"usage\"][\"completion_tokens\"]\n",
    "        rows.append([letter_id, footnote_n, generated_footnote, prompt_tokens, completion_tokens])\n",
    "\n",
    "df = pd.DataFrame(columns=column_names)\n",
    "for row in rows:\n",
    "    df.loc[len(df)] = row\n",
    "\n",
    "df.to_csv(csv_filepath, index=False)\n"
   ]
  },
  {
   "cell_type": "code",
   "execution_count": 10,
   "metadata": {},
   "outputs": [
    {
     "data": {
      "text/html": [
       "<div>\n",
       "<style scoped>\n",
       "    .dataframe tbody tr th:only-of-type {\n",
       "        vertical-align: middle;\n",
       "    }\n",
       "\n",
       "    .dataframe tbody tr th {\n",
       "        vertical-align: top;\n",
       "    }\n",
       "\n",
       "    .dataframe thead th {\n",
       "        text-align: right;\n",
       "    }\n",
       "</style>\n",
       "<table border=\"1\" class=\"dataframe\">\n",
       "  <thead>\n",
       "    <tr style=\"text-align: right;\">\n",
       "      <th></th>\n",
       "      <th>letter_id</th>\n",
       "      <th>n_footnote</th>\n",
       "      <th>generated_footnote</th>\n",
       "      <th>prompt_tokens</th>\n",
       "      <th>completion_tokens</th>\n",
       "    </tr>\n",
       "  </thead>\n",
       "  <tbody>\n",
       "    <tr>\n",
       "      <th>0</th>\n",
       "      <td>10038</td>\n",
       "      <td>10</td>\n",
       "      <td>Die Frage, warum Christus nicht sofort nach seiner ersten Verheißung auf Erden erschienen ist, reflektiert eine theologische Debatte über das Wesen des göttlichen Plans und die Zeitlichkeit der Erlösung. In der christlichen Tradition wird häufig auf die Notwendigkeit verwiesen, dass das Kommen Christi in die Welt einen bestimmten göttlichen Zeitrahmen erfordert, der das Verständnis des Menschen überschreitet. Die erwähnten prophetischen Voraussagen bieten einen weiteren Kontext, um die Diskrepanz zwischen irdischem Leiden und göttlicher Erfüllung in der Heilsgeschichte zu interpretieren. Betrachtet man die Schriften des Neuen Testaments, insbesondere die Evangelien, wird deutlich, dass die zeitliche Offenbarung des Christus immer in Verbindung mit dem göttlichen Willen und dem Heilsplan steht.</td>\n",
       "      <td>7340</td>\n",
       "      <td>171</td>\n",
       "    </tr>\n",
       "    <tr>\n",
       "      <th>1</th>\n",
       "      <td>10038</td>\n",
       "      <td>11</td>\n",
       "      <td>Der Hinweis auf Mose bezieht sich auf dessen Rolle als Prophet und Führer des Volkes Israel, das aus der ägyptischen Sklaverei befreit wurde. Die Referenz zu den Propheten kann auch die Erwartungen der Reformatoren widerspiegeln, die die Rückkehr zu einer ersten, unverdorbenen Form der Glaubensausübung forderten. Sie beziehen sich auf das biblische Verständnis von Offenbarung, das den Propheten (Mose und Paulus) als Vorbilder im Glauben sieht und deren Autorität zur Interpretation des göttlichen Willens betont.</td>\n",
       "      <td>7340</td>\n",
       "      <td>121</td>\n",
       "    </tr>\n",
       "    <tr>\n",
       "      <th>2</th>\n",
       "      <td>10038</td>\n",
       "      <td>12</td>\n",
       "      <td>Die Frage nach dem Plan Gottes wird oft in der Theologie diskutiert. Bullinger deutet hier an, dass die Vorgaben der göttlichen Vorsehung und die Art und Weise, wie sie sich im Lauf der Geschichte entfalten, einen bestimmten Zweck haben, der oft schwer zu verstehen ist. So lässt sich auf Johannes Chrysostomus verweisen, der in seinen Schriften darauf hinweist, dass die Notwendigkeit des göttlichen Willens nicht immer für den Menschen erkennbar ist (vgl. \"In Matthaeum\", Homilie 19).</td>\n",
       "      <td>7340</td>\n",
       "      <td>116</td>\n",
       "    </tr>\n",
       "    <tr>\n",
       "      <th>3</th>\n",
       "      <td>10038</td>\n",
       "      <td>13</td>\n",
       "      <td>In Anlehnung an die biblische Tradition spricht Bullinger hier die Idee an, dass die Propheten \"befreit\" wurden, um den Willen Gottes zu offenbaren und die Menschen auf den richtigen Weg zu führen. Der Verweis auf die \"deploratissimi\" Zustand der Menschen unter dem \"impiissimo Antichristi regno\" könnte auf die allgemeine Unzufriedenheit mit der religiösen Situation seiner Zeit hinweisen, insbesondere im Kontext der Reformation, bei der die Autorität der Kirche hinterfragt wurde. Bullinger drückt damit den Wunsch aus, die göttliche Wahrheit in einer Zeit der Verwirrung wiederherzustellen und die Menschen zu motivieren, Gott und seiner Botschaft treu zu bleiben.</td>\n",
       "      <td>7340</td>\n",
       "      <td>151</td>\n",
       "    </tr>\n",
       "    <tr>\n",
       "      <th>4</th>\n",
       "      <td>10038</td>\n",
       "      <td>14</td>\n",
       "      <td>Die Betonung der göttlichen Inspiration und der prophetischen Freiheit, die im neuen Testament gefördert wird, zeigt sich besonders in &lt;persName ref=\"p1043\" cert=\"high\"&gt;Johannes&lt;/persName&gt; 1, 4-10 und &lt;persName ref=\"p18700\" cert=\"high\"&gt;Paulus&lt;/persName&gt; in seinem ersten Brief an die Thessalonicher 5, 20-21, wo das Prüfen aller Geister gefordert wird.&lt;note xml:id=\"fn14\" type=\"footnote\" n=\"14\"&gt;&lt;/note&gt;</td>\n",
       "      <td>7340</td>\n",
       "      <td>119</td>\n",
       "    </tr>\n",
       "  </tbody>\n",
       "</table>\n",
       "</div>"
      ],
      "text/plain": [
       "  letter_id n_footnote  \\\n",
       "0     10038         10   \n",
       "1     10038         11   \n",
       "2     10038         12   \n",
       "3     10038         13   \n",
       "4     10038         14   \n",
       "\n",
       "                                                                                                                                                                                                                                                                                                                                                                                                                                                                                                                                                                                                                                                                                                                                                                                                                     generated_footnote  \\\n",
       "0  Die Frage, warum Christus nicht sofort nach seiner ersten Verheißung auf Erden erschienen ist, reflektiert eine theologische Debatte über das Wesen des göttlichen Plans und die Zeitlichkeit der Erlösung. In der christlichen Tradition wird häufig auf die Notwendigkeit verwiesen, dass das Kommen Christi in die Welt einen bestimmten göttlichen Zeitrahmen erfordert, der das Verständnis des Menschen überschreitet. Die erwähnten prophetischen Voraussagen bieten einen weiteren Kontext, um die Diskrepanz zwischen irdischem Leiden und göttlicher Erfüllung in der Heilsgeschichte zu interpretieren. Betrachtet man die Schriften des Neuen Testaments, insbesondere die Evangelien, wird deutlich, dass die zeitliche Offenbarung des Christus immer in Verbindung mit dem göttlichen Willen und dem Heilsplan steht.   \n",
       "1                                                                                                                                                                                                                                                                                                  Der Hinweis auf Mose bezieht sich auf dessen Rolle als Prophet und Führer des Volkes Israel, das aus der ägyptischen Sklaverei befreit wurde. Die Referenz zu den Propheten kann auch die Erwartungen der Reformatoren widerspiegeln, die die Rückkehr zu einer ersten, unverdorbenen Form der Glaubensausübung forderten. Sie beziehen sich auf das biblische Verständnis von Offenbarung, das den Propheten (Mose und Paulus) als Vorbilder im Glauben sieht und deren Autorität zur Interpretation des göttlichen Willens betont.   \n",
       "2                                                                                                                                                                                                                                                                                                                                Die Frage nach dem Plan Gottes wird oft in der Theologie diskutiert. Bullinger deutet hier an, dass die Vorgaben der göttlichen Vorsehung und die Art und Weise, wie sie sich im Lauf der Geschichte entfalten, einen bestimmten Zweck haben, der oft schwer zu verstehen ist. So lässt sich auf Johannes Chrysostomus verweisen, der in seinen Schriften darauf hinweist, dass die Notwendigkeit des göttlichen Willens nicht immer für den Menschen erkennbar ist (vgl. \"In Matthaeum\", Homilie 19).   \n",
       "3                                                                                                                                          In Anlehnung an die biblische Tradition spricht Bullinger hier die Idee an, dass die Propheten \"befreit\" wurden, um den Willen Gottes zu offenbaren und die Menschen auf den richtigen Weg zu führen. Der Verweis auf die \"deploratissimi\" Zustand der Menschen unter dem \"impiissimo Antichristi regno\" könnte auf die allgemeine Unzufriedenheit mit der religiösen Situation seiner Zeit hinweisen, insbesondere im Kontext der Reformation, bei der die Autorität der Kirche hinterfragt wurde. Bullinger drückt damit den Wunsch aus, die göttliche Wahrheit in einer Zeit der Verwirrung wiederherzustellen und die Menschen zu motivieren, Gott und seiner Botschaft treu zu bleiben.   \n",
       "4                                                                                                                                                                                                                                                                                                                                                                                                                    Die Betonung der göttlichen Inspiration und der prophetischen Freiheit, die im neuen Testament gefördert wird, zeigt sich besonders in <persName ref=\"p1043\" cert=\"high\">Johannes</persName> 1, 4-10 und <persName ref=\"p18700\" cert=\"high\">Paulus</persName> in seinem ersten Brief an die Thessalonicher 5, 20-21, wo das Prüfen aller Geister gefordert wird.<note xml:id=\"fn14\" type=\"footnote\" n=\"14\"></note>   \n",
       "\n",
       "   prompt_tokens  completion_tokens  \n",
       "0           7340                171  \n",
       "1           7340                121  \n",
       "2           7340                116  \n",
       "3           7340                151  \n",
       "4           7340                119  "
      ]
     },
     "execution_count": 10,
     "metadata": {},
     "output_type": "execute_result"
    }
   ],
   "source": [
    "pd.set_option('display.max_colwidth', None)  # show whole text in the cells\n",
    "df.head()"
   ]
  },
  {
   "cell_type": "code",
   "execution_count": 14,
   "metadata": {},
   "outputs": [
    {
     "name": "stdout",
     "output_type": "stream",
     "text": [
      "8\n"
     ]
    }
   ],
   "source": [
    "!cat /proc/cpuinfo | grep \"model name\" | wc -l"
   ]
  },
  {
   "cell_type": "code",
   "execution_count": 13,
   "metadata": {},
   "outputs": [
    {
     "data": {
      "text/plain": [
       "2.544486149999998"
      ]
     },
     "execution_count": 13,
     "metadata": {},
     "output_type": "execute_result"
    }
   ],
   "source": [
    "# calculate the cost of the batch:\n",
    "tokens = [(row.prompt_tokens, row.completion_tokens) for _, row in df.iterrows()]\n",
    "calculate_openai_cost(tokens, (0.075, 0.3))"
   ]
  },
  {
   "cell_type": "markdown",
   "metadata": {},
   "source": [
    "# Evaluate Batch"
   ]
  },
  {
   "cell_type": "code",
   "execution_count": 15,
   "metadata": {},
   "outputs": [],
   "source": [
    "import pandas as pd\n",
    "from tqdm import tqdm\n",
    "import multiprocessing\n",
    "\n",
    "\n",
    "human_footnotes_df = pd.read_csv(\"../data/footnote_downsized_df.csv\")\n",
    "human_footnotes_df[\"xml_footnote\"] = human_footnotes_df[\"xml_footnote\"].apply(remove_outer_note_tag)\n",
    "\n",
    "def flatten_dict(d, parent_key='', sep='-'):\n",
    "    items = []\n",
    "    for k, v in d.items():\n",
    "        new_key = parent_key + sep + k if parent_key else k\n",
    "        if isinstance(v, dict):\n",
    "            items.extend(flatten_dict(v, new_key, sep=sep).items())\n",
    "        else:\n",
    "            items.append((new_key, v))\n",
    "    return dict(items)\n",
    "\n",
    "\n",
    "def evaluate_batch(machine_df, human_df):\n",
    "    merged_df = machine_df.merge(human_df, on=[\"letter_id\", \"n_footnote\"])\n",
    "\n",
    "    predictions = list(merged_df[\"generated_footnote\"])\n",
    "    references = list(merged_df[\"xml_footnote\"])\n",
    "    return all_metrics(predictions, references)\n",
    "\n",
    "def evaluate_individually(machine_df, human_df, total=None):\n",
    "    merged_df = machine_df.merge(human_df, on=[\"letter_id\", \"n_footnote\"])\n",
    "    merged_df = merged_df[[\"letter_id\", \"n_footnote\", \"generated_footnote\", \"xml_footnote\", \"text_footnote\"]]\n",
    "    result_list = []\n",
    "    # go through all rows, calculate the scores indifidually and add them as a column\n",
    "    for index, row in tqdm(merged_df.iterrows(), total=total):\n",
    "        predictions = [row[\"generated_footnote\"]]\n",
    "        references = [row[\"xml_footnote\"]]\n",
    "        results = all_metrics(predictions, references)\n",
    "        # flatten results\n",
    "        flat_results = flatten_dict(results)\n",
    "        result_list.append(flat_results)\n",
    "        if index > 50:\n",
    "          break\n",
    "    result_df = pd.DataFrame(result_list)\n",
    "    merged_df = pd.concat([merged_df, result_df], axis=1)\n",
    "    return merged_df\n",
    "\n",
    "def evaluate_row(pred_ref_tuple):\n",
    "    predictions = [pred_ref_tuple[0]]\n",
    "    references = [pred_ref_tuple[1]]\n",
    "    results = all_metrics(predictions, references)\n",
    "    return flatten_dict(results)\n",
    "\n",
    "\n",
    "\n",
    "def evaluate_individually_pooling(machine_df, human_df, total=None):\n",
    "    merged_df = machine_df.merge(human_df, on=[\"letter_id\", \"n_footnote\"])\n",
    "    merged_df = merged_df[[\"letter_id\", \"n_footnote\", \"generated_footnote\", \"xml_footnote\", \"text_footnote\"]]\n",
    "    pred_ref_tuples = list(zip(merged_df[\"generated_footnote\"], merged_df[\"xml_footnote\"]))\n",
    "    pool = multiprocessing.Pool(processes=8)\n",
    "    results = list(tqdm(pool.imap(evaluate_row, pred_ref_tuples), total=total))\n",
    "    pool.close()\n",
    "    pool.join()\n",
    "    result_df = pd.DataFrame(results)\n",
    "    merged_df = pd.concat([merged_df, result_df], axis=1)\n",
    "    return merged_df\n",
    "\n",
    "\n",
    "def qualitative_comparison(machine_df1, machine_df2, human_df):\n",
    "    merged_df = machine_df1.merge(machine_df2, on=[\"letter_id\", \"n_footnote\"])\n",
    "    merged_df = merged_df.merge(human_df, on=[\"letter_id\", \"n_footnote\"])\n",
    "    merged_df = merged_df[[\"letter_id\", \"n_footnote\", \"generated_footnote_x\", \"generated_footnote_y\", \"xml_footnote\", \"text_footnote\"]]\n",
    "    return merged_df\n",
    "\n",
    "pd.set_option('display.max_colwidth', None)  # show whole text in the cells\n"
   ]
  },
  {
   "cell_type": "code",
   "execution_count": 18,
   "metadata": {},
   "outputs": [
    {
     "name": "stdout",
     "output_type": "stream",
     "text": [
      "calculating Bert scores for 4 models\n"
     ]
    },
    {
     "name": "stderr",
     "output_type": "stream",
     "text": [
      "  0%|                                                                                            | 0/4 [00:00<?, ?it/s]C:\\Users\\nik_b\\AppData\\Local\\Programs\\Python\\Python310\\lib\\site-packages\\huggingface_hub\\file_download.py:1150: FutureWarning: `resume_download` is deprecated and will be removed in version 1.0.0. Downloads always resume when possible. If you want to force a new download, use `force_download=True`.\n",
      "  warnings.warn(\n",
      "Some weights of RobertaModel were not initialized from the model checkpoint at roberta-base and are newly initialized: ['roberta.pooler.dense.weight', 'roberta.pooler.dense.bias']\n",
      "You should probably TRAIN this model on a down-stream task to be able to use it for predictions and inference.\n",
      " 50%|██████████████████████████████████████████                                          | 2/4 [01:54<01:53, 56.86s/it]Some weights of RobertaModel were not initialized from the model checkpoint at benjamin/roberta-base-wechsel-german and are newly initialized: ['roberta.pooler.dense.weight', 'roberta.pooler.dense.bias']\n",
      "You should probably TRAIN this model on a down-stream task to be able to use it for predictions and inference.\n",
      "100%|████████████████████████████████████████████████████████████████████████████████████| 4/4 [03:48<00:00, 57.09s/it]\n"
     ]
    },
    {
     "name": "stdout",
     "output_type": "stream",
     "text": [
      "calculating Bert scores for 4 models\n"
     ]
    },
    {
     "name": "stderr",
     "output_type": "stream",
     "text": [
      "  0%|                                                                                            | 0/4 [00:00<?, ?it/s]Some weights of RobertaModel were not initialized from the model checkpoint at roberta-base and are newly initialized: ['roberta.pooler.dense.weight', 'roberta.pooler.dense.bias']\n",
      "You should probably TRAIN this model on a down-stream task to be able to use it for predictions and inference.\n",
      " 50%|██████████████████████████████████████████                                          | 2/4 [01:21<01:18, 39.37s/it]Some weights of RobertaModel were not initialized from the model checkpoint at benjamin/roberta-base-wechsel-german and are newly initialized: ['roberta.pooler.dense.weight', 'roberta.pooler.dense.bias']\n",
      "You should probably TRAIN this model on a down-stream task to be able to use it for predictions and inference.\n",
      "100%|████████████████████████████████████████████████████████████████████████████████████| 4/4 [02:22<00:00, 35.62s/it]\n"
     ]
    }
   ],
   "source": [
    "# 4o mini\n",
    "generated_footnotes_df = pd.read_csv(\"../../data/model_responses/gpt/gpt-4o-mini-2024-07-18-instruct_add-example.csv\")\n",
    "results = evaluate_batch(generated_footnotes_df, human_footnotes_df)"
   ]
  },
  {
   "cell_type": "code",
   "execution_count": 19,
   "metadata": {},
   "outputs": [
    {
     "name": "stdout",
     "output_type": "stream",
     "text": [
      "{'with_markup': {'bleu': 0.07267840739367416, 'rouge': 0.08224572107989798, 'bertscore': {'roberta-base': 0.7691945014773188, 'xlm-roberta-base': 0.7761627862582335, 'benjamin/roberta-base-wechsel-german': 0.7280103290403211, 'google-bert/bert-base-german-cased': 0.5434766637312399}}, 'without_markup': {'bleu': 0.0, 'rouge': 0.05275112524382883, 'bertscore': {'roberta-base': 0.786318054875812, 'xlm-roberta-base': 0.7982009327089464, 'benjamin/roberta-base-wechsel-german': 0.7354036054095706, 'google-bert/bert-base-german-cased': 0.5176803751571758}}}\n"
     ]
    }
   ],
   "source": [
    "print(results)"
   ]
  },
  {
   "cell_type": "code",
   "execution_count": 30,
   "metadata": {},
   "outputs": [
    {
     "name": "stdout",
     "output_type": "stream",
     "text": [
      "calculating Bert scores for 4 models\n"
     ]
    },
    {
     "name": "stderr",
     "output_type": "stream",
     "text": [
      "\r\n",
      "  0%|                                                                                            | 0/1 [00:00<?, ?it/s]"
     ]
    },
    {
     "name": "stdout",
     "output_type": "stream",
     "text": [
      "benjamin/roberta-base-wechsel-german\n"
     ]
    },
    {
     "name": "stderr",
     "output_type": "stream",
     "text": [
      "C:\\Users\\nik_b\\AppData\\Local\\Programs\\Python\\Python310\\lib\\site-packages\\huggingface_hub\\file_download.py:1150: FutureWarning: `resume_download` is deprecated and will be removed in version 1.0.0. Downloads always resume when possible. If you want to force a new download, use `force_download=True`.\n",
      "  warnings.warn(\n",
      "Some weights of RobertaModel were not initialized from the model checkpoint at benjamin/roberta-base-wechsel-german and are newly initialized: ['roberta.pooler.dense.weight', 'roberta.pooler.dense.bias']\n",
      "You should probably TRAIN this model on a down-stream task to be able to use it for predictions and inference.\n",
      "100%|████████████████████████████████████████████████████████████████████████████████████| 1/1 [00:51<00:00, 51.57s/it]\n"
     ]
    },
    {
     "name": "stdout",
     "output_type": "stream",
     "text": [
      "calculating Bert scores for 4 models\n"
     ]
    },
    {
     "name": "stderr",
     "output_type": "stream",
     "text": [
      "\r\n",
      "  0%|                                                                                            | 0/1 [00:00<?, ?it/s]"
     ]
    },
    {
     "name": "stdout",
     "output_type": "stream",
     "text": [
      "benjamin/roberta-base-wechsel-german\n"
     ]
    },
    {
     "name": "stderr",
     "output_type": "stream",
     "text": [
      "100%|████████████████████████████████████████████████████████████████████████████████████| 1/1 [00:23<00:00, 23.67s/it]\n"
     ]
    }
   ],
   "source": [
    "# 4o\n",
    "generated_footnotes_df = pd.read_csv(\"../../data/model_responses/gpt/gpt-4o-2024-08-06-instruct_add-example.csv\")\n",
    "results = evaluate_batch(generated_footnotes_df, human_footnotes_df)"
   ]
  },
  {
   "cell_type": "code",
   "execution_count": 31,
   "metadata": {},
   "outputs": [
    {
     "name": "stdout",
     "output_type": "stream",
     "text": [
      "{'with_markup': {'bleu': 0.010760966779495174, 'rouge': 0.054643939749435724, 'bertscore': {'benjamin/roberta-base-wechsel-german': 0.7036953423474286}}, 'without_markup': {'bleu': 0.004271788044595153, 'rouge': 0.07213235780159993, 'bertscore': {'benjamin/roberta-base-wechsel-german': 0.7358355940999212}}}\n"
     ]
    }
   ],
   "source": [
    "print(results)"
   ]
  },
  {
   "cell_type": "code",
   "execution_count": 5,
   "metadata": {},
   "outputs": [],
   "source": [
    "import pandas as pd\n",
    "def qualitative_comparison(machine_df1, machine_df2, human_df):\n",
    "    merged_df = machine_df1.merge(machine_df2, on=[\"letter_id\", \"n_footnote\"])\n",
    "    merged_df = merged_df.merge(human_df, on=[\"letter_id\", \"n_footnote\"])\n",
    "    merged_df = merged_df[[\"letter_id\", \"n_footnote\", \"generated_footnote_x\", \"generated_footnote_y\", \"xml_footnote\", \"text_footnote\"]]\n",
    "    return merged_df\n",
    "\n"
   ]
  },
  {
   "cell_type": "code",
   "execution_count": 7,
   "metadata": {},
   "outputs": [
    {
     "data": {
      "text/html": [
       "<div>\n",
       "<style scoped>\n",
       "    .dataframe tbody tr th:only-of-type {\n",
       "        vertical-align: middle;\n",
       "    }\n",
       "\n",
       "    .dataframe tbody tr th {\n",
       "        vertical-align: top;\n",
       "    }\n",
       "\n",
       "    .dataframe thead th {\n",
       "        text-align: right;\n",
       "    }\n",
       "</style>\n",
       "<table border=\"1\" class=\"dataframe\">\n",
       "  <thead>\n",
       "    <tr style=\"text-align: right;\">\n",
       "      <th></th>\n",
       "      <th>letter_id</th>\n",
       "      <th>n_footnote</th>\n",
       "      <th>generated_footnote_x</th>\n",
       "      <th>generated_footnote_y</th>\n",
       "      <th>xml_footnote</th>\n",
       "      <th>text_footnote</th>\n",
       "    </tr>\n",
       "  </thead>\n",
       "  <tbody>\n",
       "    <tr>\n",
       "      <th>0</th>\n",
       "      <td>10327</td>\n",
       "      <td>2</td>\n",
       "      <td>Siehe oben, S. 246, 12-13.</td>\n",
       "      <td>Mit \"nuperis literis\" bezieht sich Bullinger auf vorherige Korrespondenz, in der er Myconius vermutlich über die politischen Spannungen und religiösen Konflikte im Umfeld von Zürich und Basel informierte. Dies könnte insbesondere die Reaktionen auf die Wahl von Andreas Faber und die damit verbundenen kirchlichen und politischen Herausforderungen betreffen. Solche Briefe wären charakteristisch für den Austausch von Informationen und Sorgen zwischen reformatorischen Anführern.</td>\n",
       "      <td>&lt;note xmlns=\"http://www.tei-c.org/ns/1.0\" xml:id=\"fn2\" type=\"footnote\" n=\"2\"&gt;Oben &lt;ref target=\"file10324\"&gt;Nr. 293&lt;/ref&gt;.&lt;/note&gt;</td>\n",
       "      <td>Oben Nr. 293.</td>\n",
       "    </tr>\n",
       "    <tr>\n",
       "      <th>1</th>\n",
       "      <td>10327</td>\n",
       "      <td>5</td>\n",
       "      <td>Der Ausdruck \"Cerberus\" bezieht sich hier möglicherweise auf die strengen und kompromisslosen politischen Verhältnisse in Zürich oder auf eine bestimmte Person, die Bullinger als \"Hundeführer\" oder Wächter ansieht. Der verwendete Begriff könnte auf ein Gefühl der Bedrohung oder Kontrolle hinweisen, das die politischen Allianzen jener Zeit prägt.</td>\n",
       "      <td>Der Ausdruck \"Cerberus\" wird oft verwendet, um auf eine bedrohliche oder hinderliche Figur hinzuweisen, die den Zugang zu wichtigen Entscheidungen oder Machtpositionen kontrolliert. In diesem Kontext bezieht sich Bullinger wahrscheinlich auf eine Person oder Fraktion, die aus seiner Sicht unliebsame oder unqualifizierte Menschen eher in den Rat beruft, was seiner Meinung nach den Interessen der Reformierten entgegensteht. Der Vergleich mit \"dem Rüden\" spielt auf den griechischen mythologischen dreiköpfigen Wachhund an, der den Eingang zur Unterwelt bewacht.</td>\n",
       "      <td>&lt;note xmlns=\"http://www.tei-c.org/ns/1.0\" xml:id=\"fn5\" type=\"footnote\" n=\"5\"&gt;Die Gesellschaft zu Konstaffel, nach ihrem Zunfthaus auch «zum Rüden» genannt. Sie stellte zahlenmäßig mehr Reformationsgegner als irgendeine Zunft, ohne daß diese jedoch eine Mehrheit in ihren Reihen hätten bilden können, s. &lt;hi&gt;Jacob&lt;/hi&gt; 64-66. 108f. 115.&lt;/note&gt;</td>\n",
       "      <td>Die Gesellschaft zu Konstaffel, nach ihrem Zunfthaus auch «zum Rüden» genannt. Sie stellte zahlenmäßig mehr Reformationsgegner als irgendeine Zunft, ohne daß diese jedoch eine Mehrheit in ihren Reihen hätten bilden können, s. Jacob 64-66. 108f. 115.</td>\n",
       "    </tr>\n",
       "    <tr>\n",
       "      <th>2</th>\n",
       "      <td>10650</td>\n",
       "      <td>2</td>\n",
       "      <td>Im Kontext dieser Passage bezieht sich der Begriff \"convictorum\" auf die Mitbewohner oder Kameraden, mit denen &lt;persName ref=\"p5618\" cert=\"high\"&gt;Lavater&lt;/persName&gt; Zeit verbrachte. Diese Bezugnahme deutet auf das enge soziale Netzwerk hin, das während der gemeinschaftlichen Aufenthalte in der Zeit der Reformation entstand, und auf die Rolle, die solche Verbindungen bei der Bewältigung persönlicher Krisen spielten.</td>\n",
       "      <td>Otto Werdmüller spricht hier von seinen Mitbewohnern, mit denen er in Straßburg zusammenlebte. Wahrscheinlich handelte es sich dabei um eine Gruppe von Studenten oder Gelehrten, die unter einem Dach wohnten, wie es damals häufig im Zusammenhang mit Universitäten und Ausbildungsstätten der Fall war. Weitere Details zu diesen Konvikten sind nicht überliefert, aber es war üblich, dass solche Gemeinschaften das tägliche Leben und Lernen teilten.</td>\n",
       "      <td>&lt;note xmlns=\"http://www.tei-c.org/ns/1.0\" xml:id=\"fn2\" type=\"footnote\" n=\"2\"&gt;Wer noch, außer &lt;persName ref=\"p5618\" cert=\"high\"&gt;Heinrich Lavater&lt;/persName&gt; und &lt;persName ref=\"p8459\" cert=\"high\"&gt;Otto Werdmüller&lt;/persName&gt;, als Kostgänger bei &lt;persName ref=\"p315\" cert=\"high\"&gt;Jakob Bedrot&lt;/persName&gt; wohnte, ist nicht bekannt.&lt;/note&gt;</td>\n",
       "      <td>Wer noch, außer Heinrich Lavater und Otto Werdmüller, als Kostgänger bei Jakob Bedrot wohnte, ist nicht bekannt.</td>\n",
       "    </tr>\n",
       "    <tr>\n",
       "      <th>3</th>\n",
       "      <td>10650</td>\n",
       "      <td>3</td>\n",
       "      <td>Der Fluss, der in diesem Kontext erwähnt wird, bezieht sich vermutlich auf den &lt;placeName ref=\"l492\" cert=\"high\"&gt;Ill&lt;/placeName&gt;, einen Nebenfluss des Rheins, der durch Straßburg fließt. Viele Personen der damaligen Zeit nutzten diesen Fluss sowohl für alltägliche Bedürfnisse als auch für gesundheitliche Zwecke, wie das Baden, was in der angesprochenen Situation von Bedeutung ist.</td>\n",
       "      <td>Das erwähnte \"Flumen prope urbem\" bezieht sich auf den Rhein, der durch Straßburg fließt. Der Rhein war für die Stadt von großer Bedeutung, wurde jedoch zur damaligen Zeit häufig als Badeort genutzt, was angesichts der mitunter starken Strömungen nicht ungefährlich war.</td>\n",
       "      <td>&lt;note xmlns=\"http://www.tei-c.org/ns/1.0\" xml:id=\"fn3\" type=\"footnote\" n=\"3\"&gt;die &lt;placeName ref=\"l1456\" cert=\"high\"&gt;Ill&lt;/placeName&gt;, ein Nebenfluß des &lt;placeName ref=\"l11\" cert=\"high\"&gt;Rheins&lt;/placeName&gt;.&lt;/note&gt;</td>\n",
       "      <td>die Ill, ein Nebenfluß des Rheins.</td>\n",
       "    </tr>\n",
       "    <tr>\n",
       "      <th>4</th>\n",
       "      <td>10650</td>\n",
       "      <td>6</td>\n",
       "      <td>Die Erwähnung der „caeteri sodales“ bezieht sich auf die anderen Mitglieder des Collegiums, die nicht an diesem speziellen Ereignis teilnahmen. Otto Werdmüller (Myliander) beschreibt die enge Gemeinschaft der Studierenden und verweist auf die Abwesenheit der meisten von ihnen in der kritischen Situation rund um den Tod von Heinrich Lavater. Dies verdeutlicht die Trauer und den Schock, den diese Tragödie in der gesamten Doppelöstlichen Gemeinschaft hervorrief. Vgl. auch G. E. S. Lang, *Die humanistischen Schulen in Straßburg* (Zürich 1946).</td>\n",
       "      <td>Die „sodales“ beziehen sich auf die Mitglieder des akademischen Kollegiums in Straßburg, zu dem Werdmüller zu seiner Studienzeit gehörte. Diese Gemeinschaft von Studenten war sowohl für den akademischen Austausch als auch für die persönliche Unterstützung untereinander wichtig.</td>\n",
       "      <td>&lt;note xmlns=\"http://www.tei-c.org/ns/1.0\" xml:id=\"fn6\" type=\"footnote\" n=\"6\"&gt;Im \"Collegium praedicatorum\" waren neben den &lt;placeName ref=\"l492\" cert=\"high\"&gt;Straßburger&lt;/placeName&gt; Stipendiaten noch acht schwäbische Studenten der Bufflerschen Schulstiftung untergebracht (vgl. &lt;hi&gt;Ficker,&lt;/hi&gt; Erste Lehr- und Lernbücher, aaO, S. 9-13, und &lt;bibl&gt;BucerDS&lt;/bibl&gt; VII 537).&lt;/note&gt;</td>\n",
       "      <td>Im \"Collegium praedicatorum\" waren neben den Straßburger Stipendiaten noch acht schwäbische Studenten der Bufflerschen Schulstiftung untergebracht (vgl. Ficker, Erste Lehr- und Lernbücher, aaO, S. 9-13, und BucerDS VII 537).</td>\n",
       "    </tr>\n",
       "    <tr>\n",
       "      <th>...</th>\n",
       "      <td>...</td>\n",
       "      <td>...</td>\n",
       "      <td>...</td>\n",
       "      <td>...</td>\n",
       "      <td>...</td>\n",
       "      <td>...</td>\n",
       "    </tr>\n",
       "    <tr>\n",
       "      <th>69</th>\n",
       "      <td>12561</td>\n",
       "      <td>62</td>\n",
       "      <td>über die Unterstützung von Létos Vorhaben und die Hoffnung auf weitere positive Entwicklungen in der politischen Situation.</td>\n",
       "      <td>Johannes Leto (eigentlich Johannes Lauterbach, 1499–1573) war ein Humanist und neulateinischer Dichter, der für seine carmina (lateinische Gedichte) bekannt war. In einem akademischen und humanistischen Kontext kommunizierte er mit verschiedenen europäischen Gelehrten und Persönlichkeiten seiner Zeit.</td>\n",
       "      <td>&lt;note xmlns=\"http://www.tei-c.org/ns/1.0\" xml:id=\"fn62\" type=\"footnote\" n=\"62\"&gt;Ein solcher Brief findet sich nicht in &lt;hi&gt;&lt;persName ref=\"p8055\" cert=\"high\"&gt;Blarer&lt;/persName&gt;&lt;/hi&gt; BW.&lt;/note&gt;</td>\n",
       "      <td>Ein solcher Brief findet sich nicht in Blarer BW.</td>\n",
       "    </tr>\n",
       "    <tr>\n",
       "      <th>70</th>\n",
       "      <td>12561</td>\n",
       "      <td>66</td>\n",
       "      <td>Die Erwähnung der \"Landgrafen\" bezieht sich auf die territorialen Herrscher in Deutschland, insbesondere auf die Landgrafen von Hessen, die in der Reformationszeit eine wichtige politische und religiöse Rolle spielten. Unter ihnen war Landgraf Philipp von Hessen ein bedeutender Unterstützer der Reformation und eng mit reformatorischen Führern wie Martin Luther und Heinrich Bullinger verbunden.</td>\n",
       "      <td>Diese Bemerkung bezieht sich auf das Datum des Briefes, wie es im Haupttext vermerkt ist, und signalisiert, dass es in der Beilage ebenfalls erwähnt wird.</td>\n",
       "      <td>&lt;note xmlns=\"http://www.tei-c.org/ns/1.0\" xml:id=\"fn66\" type=\"footnote\" n=\"66\"&gt;&lt;bibl&gt;EA&lt;/bibl&gt; IV/Id 633 i.7 erwähnt eine Antwort auf das oben in Anm. 58 identifizierte Schreiben, jedoch ohne nähere Informationen.&lt;/note&gt;</td>\n",
       "      <td>EA IV/Id 633 i.7 erwähnt eine Antwort auf das oben in Anm. 58 identifizierte Schreiben, jedoch ohne nähere Informationen.</td>\n",
       "    </tr>\n",
       "    <tr>\n",
       "      <th>71</th>\n",
       "      <td>12561</td>\n",
       "      <td>68</td>\n",
       "      <td>über die Abfassung und den Versand von Schreiben an die eidgenössischen Söldner und deren Oberhaupt, den Hauptmann Sebastian Schertlin, zur Koordination militärischer Angelegenheiten.</td>\n",
       "      <td>Es bezieht sich auf den vorherigen Abschnitt im Brief, der über den militärischen Einsatz und die Kommunikation mit den eidgenössischen Söldnern unter dem Befehl von Hauptmann Sebastian Schertlin handelt. Der Schreiber bittet dabei um die Erstellung und Anpassung der Anschreiben an die eidgenössischen Truppen.</td>\n",
       "      <td>&lt;note xmlns=\"http://www.tei-c.org/ns/1.0\" xml:id=\"fn68\" type=\"footnote\" n=\"68\"&gt;Z. 1-38.&lt;/note&gt;</td>\n",
       "      <td>Z. 1-38.</td>\n",
       "    </tr>\n",
       "    <tr>\n",
       "      <th>72</th>\n",
       "      <td>12561</td>\n",
       "      <td>7</td>\n",
       "      <td>Im Kontext der Schweiz zur Zeit der Reformation, sind die „Aidgnossen“ meist die eidgenössischen Orte oder ihre Bürger, die in einem Verbund als alliierte Städte oder Gemeinden auftraten. In diesem Schreiben wird auf ein Verzeichnis verwiesen, das die Solidarität und den gemeinsamen politischen Willen der aidgnössischen Städte dokumentiert, während gleichzeitig auf die Notwendigkeit hingewiesen wird, die Beteiligten nicht namentlich zu nennen, um diplomatische Verhandlungen oder Sensibilitäten nicht zu gefährden.</td>\n",
       "      <td>Der Begriff \"Verzeichnis\" bezieht sich hier wahrscheinlich auf eine Liste oder ein Dokument, das als offizielles Schreiben oder Befehl zusammengestellt werden sollte, um die Unterstützung der eidgenössischen Truppen im Schmalkaldischen Krieg sicherzustellen. Solche Verzeichnisse könnten Informationen über Truppenstärke, Ressourcen oder geplante Aktionen enthalten haben.</td>\n",
       "      <td>&lt;note xmlns=\"http://www.tei-c.org/ns/1.0\" xml:id=\"fn7\" type=\"footnote\" n=\"7\"&gt;Entwurf. - Nicht erhalten.&lt;/note&gt;</td>\n",
       "      <td>Entwurf. - Nicht erhalten.</td>\n",
       "    </tr>\n",
       "    <tr>\n",
       "      <th>73</th>\n",
       "      <td>12561</td>\n",
       "      <td>70</td>\n",
       "      <td>Die Erwähnung von „etlich hundert tonnen pulver“ bezieht sich auf die militärischen Vorbereitungen der Zeit und dokumentiert die erhebliche Menge an Material, das für die Kriegsführung im Kontext der Rekatholisierung und der Konflikte zwischen Protestantismus und Katholizismus mobilisiert wurde. Schießpulver spielte eine entscheidende Rolle in den kriegerischen Auseinandersetzungen des 16. Jahrhunderts, insbesondere in den religiösen Kriegen, die oft von Belagerungen und großen Schlachten geprägt waren.</td>\n",
       "      <td>Die Lieferung von Waffen und Ausrüstung durch die Stadt Frankfurt an Kaiser Karl V. geschah im Rahmen der Vorbereitungen auf den Schmalkaldischen Krieg, als der Kaiser seine Macht in den protestantischen Gebieten des Heiligen Römischen Reiches festigen wollte.</td>\n",
       "      <td>&lt;note xmlns=\"http://www.tei-c.org/ns/1.0\" xml:id=\"fn70\" type=\"footnote\" n=\"70\"&gt;Vgl. &lt;bibl&gt;PC&lt;/bibl&gt; IV/1 275-277, Nr. &lt;hi&gt;258; Fischer, Chronik&lt;/hi&gt; 126.&lt;/note&gt;</td>\n",
       "      <td>Vgl. PC IV/1 275-277, Nr. 258; Fischer, Chronik 126.</td>\n",
       "    </tr>\n",
       "  </tbody>\n",
       "</table>\n",
       "<p>74 rows × 6 columns</p>\n",
       "</div>"
      ],
      "text/plain": [
       "    letter_id  n_footnote  \\\n",
       "0       10327           2   \n",
       "1       10327           5   \n",
       "2       10650           2   \n",
       "3       10650           3   \n",
       "4       10650           6   \n",
       "..        ...         ...   \n",
       "69      12561          62   \n",
       "70      12561          66   \n",
       "71      12561          68   \n",
       "72      12561           7   \n",
       "73      12561          70   \n",
       "\n",
       "                                                                                                                                                                                                                                                                                                                                                                                                                                                                                                                                                 generated_footnote_x  \\\n",
       "0                                                                                                                                                                                                                                                                                                                                                                                                                                                                                                                                          Siehe oben, S. 246, 12-13.   \n",
       "1                                                                                                                                                                                                         Der Ausdruck \"Cerberus\" bezieht sich hier möglicherweise auf die strengen und kompromisslosen politischen Verhältnisse in Zürich oder auf eine bestimmte Person, die Bullinger als \"Hundeführer\" oder Wächter ansieht. Der verwendete Begriff könnte auf ein Gefühl der Bedrohung oder Kontrolle hinweisen, das die politischen Allianzen jener Zeit prägt.   \n",
       "2                                                                                                                                   Im Kontext dieser Passage bezieht sich der Begriff \"convictorum\" auf die Mitbewohner oder Kameraden, mit denen <persName ref=\"p5618\" cert=\"high\">Lavater</persName> Zeit verbrachte. Diese Bezugnahme deutet auf das enge soziale Netzwerk hin, das während der gemeinschaftlichen Aufenthalte in der Zeit der Reformation entstand, und auf die Rolle, die solche Verbindungen bei der Bewältigung persönlicher Krisen spielten.   \n",
       "3                                                                                                                                                                     Der Fluss, der in diesem Kontext erwähnt wird, bezieht sich vermutlich auf den <placeName ref=\"l492\" cert=\"high\">Ill</placeName>, einen Nebenfluss des Rheins, der durch Straßburg fließt. Viele Personen der damaligen Zeit nutzten diesen Fluss sowohl für alltägliche Bedürfnisse als auch für gesundheitliche Zwecke, wie das Baden, was in der angesprochenen Situation von Bedeutung ist.   \n",
       "4   Die Erwähnung der „caeteri sodales“ bezieht sich auf die anderen Mitglieder des Collegiums, die nicht an diesem speziellen Ereignis teilnahmen. Otto Werdmüller (Myliander) beschreibt die enge Gemeinschaft der Studierenden und verweist auf die Abwesenheit der meisten von ihnen in der kritischen Situation rund um den Tod von Heinrich Lavater. Dies verdeutlicht die Trauer und den Schock, den diese Tragödie in der gesamten Doppelöstlichen Gemeinschaft hervorrief. Vgl. auch G. E. S. Lang, *Die humanistischen Schulen in Straßburg* (Zürich 1946).   \n",
       "..                                                                                                                                                                                                                                                                                                                                                                                                                                                                                                                                                                ...   \n",
       "69                                                                                                                                                                                                                                                                                                                                                                                                                                        über die Unterstützung von Létos Vorhaben und die Hoffnung auf weitere positive Entwicklungen in der politischen Situation.   \n",
       "70                                                                                                                                                       Die Erwähnung der \"Landgrafen\" bezieht sich auf die territorialen Herrscher in Deutschland, insbesondere auf die Landgrafen von Hessen, die in der Reformationszeit eine wichtige politische und religiöse Rolle spielten. Unter ihnen war Landgraf Philipp von Hessen ein bedeutender Unterstützer der Reformation und eng mit reformatorischen Führern wie Martin Luther und Heinrich Bullinger verbunden.   \n",
       "71                                                                                                                                                                                                                                                                                                                                                                            über die Abfassung und den Versand von Schreiben an die eidgenössischen Söldner und deren Oberhaupt, den Hauptmann Sebastian Schertlin, zur Koordination militärischer Angelegenheiten.   \n",
       "72                             Im Kontext der Schweiz zur Zeit der Reformation, sind die „Aidgnossen“ meist die eidgenössischen Orte oder ihre Bürger, die in einem Verbund als alliierte Städte oder Gemeinden auftraten. In diesem Schreiben wird auf ein Verzeichnis verwiesen, das die Solidarität und den gemeinsamen politischen Willen der aidgnössischen Städte dokumentiert, während gleichzeitig auf die Notwendigkeit hingewiesen wird, die Beteiligten nicht namentlich zu nennen, um diplomatische Verhandlungen oder Sensibilitäten nicht zu gefährden.   \n",
       "73                                       Die Erwähnung von „etlich hundert tonnen pulver“ bezieht sich auf die militärischen Vorbereitungen der Zeit und dokumentiert die erhebliche Menge an Material, das für die Kriegsführung im Kontext der Rekatholisierung und der Konflikte zwischen Protestantismus und Katholizismus mobilisiert wurde. Schießpulver spielte eine entscheidende Rolle in den kriegerischen Auseinandersetzungen des 16. Jahrhunderts, insbesondere in den religiösen Kriegen, die oft von Belagerungen und großen Schlachten geprägt waren.   \n",
       "\n",
       "                                                                                                                                                                                                                                                                                                                                                                                                                                                                                                                                                                   generated_footnote_y  \\\n",
       "0                                                                                       Mit \"nuperis literis\" bezieht sich Bullinger auf vorherige Korrespondenz, in der er Myconius vermutlich über die politischen Spannungen und religiösen Konflikte im Umfeld von Zürich und Basel informierte. Dies könnte insbesondere die Reaktionen auf die Wahl von Andreas Faber und die damit verbundenen kirchlichen und politischen Herausforderungen betreffen. Solche Briefe wären charakteristisch für den Austausch von Informationen und Sorgen zwischen reformatorischen Anführern.   \n",
       "1   Der Ausdruck \"Cerberus\" wird oft verwendet, um auf eine bedrohliche oder hinderliche Figur hinzuweisen, die den Zugang zu wichtigen Entscheidungen oder Machtpositionen kontrolliert. In diesem Kontext bezieht sich Bullinger wahrscheinlich auf eine Person oder Fraktion, die aus seiner Sicht unliebsame oder unqualifizierte Menschen eher in den Rat beruft, was seiner Meinung nach den Interessen der Reformierten entgegensteht. Der Vergleich mit \"dem Rüden\" spielt auf den griechischen mythologischen dreiköpfigen Wachhund an, der den Eingang zur Unterwelt bewacht.   \n",
       "2                                                                                                                         Otto Werdmüller spricht hier von seinen Mitbewohnern, mit denen er in Straßburg zusammenlebte. Wahrscheinlich handelte es sich dabei um eine Gruppe von Studenten oder Gelehrten, die unter einem Dach wohnten, wie es damals häufig im Zusammenhang mit Universitäten und Ausbildungsstätten der Fall war. Weitere Details zu diesen Konvikten sind nicht überliefert, aber es war üblich, dass solche Gemeinschaften das tägliche Leben und Lernen teilten.   \n",
       "3                                                                                                                                                                                                                                                                                                        Das erwähnte \"Flumen prope urbem\" bezieht sich auf den Rhein, der durch Straßburg fließt. Der Rhein war für die Stadt von großer Bedeutung, wurde jedoch zur damaligen Zeit häufig als Badeort genutzt, was angesichts der mitunter starken Strömungen nicht ungefährlich war.   \n",
       "4                                                                                                                                                                                                                                                                                                Die „sodales“ beziehen sich auf die Mitglieder des akademischen Kollegiums in Straßburg, zu dem Werdmüller zu seiner Studienzeit gehörte. Diese Gemeinschaft von Studenten war sowohl für den akademischen Austausch als auch für die persönliche Unterstützung untereinander wichtig.   \n",
       "..                                                                                                                                                                                                                                                                                                                                                                                                                                                                                                                                                                                  ...   \n",
       "69                                                                                                                                                                                                                                                                       Johannes Leto (eigentlich Johannes Lauterbach, 1499–1573) war ein Humanist und neulateinischer Dichter, der für seine carmina (lateinische Gedichte) bekannt war. In einem akademischen und humanistischen Kontext kommunizierte er mit verschiedenen europäischen Gelehrten und Persönlichkeiten seiner Zeit.   \n",
       "70                                                                                                                                                                                                                                                                                                                                                                                                                           Diese Bemerkung bezieht sich auf das Datum des Briefes, wie es im Haupttext vermerkt ist, und signalisiert, dass es in der Beilage ebenfalls erwähnt wird.   \n",
       "71                                                                                                                                                                                                                                                              Es bezieht sich auf den vorherigen Abschnitt im Brief, der über den militärischen Einsatz und die Kommunikation mit den eidgenössischen Söldnern unter dem Befehl von Hauptmann Sebastian Schertlin handelt. Der Schreiber bittet dabei um die Erstellung und Anpassung der Anschreiben an die eidgenössischen Truppen.   \n",
       "72                                                                                                                                                                                                 Der Begriff \"Verzeichnis\" bezieht sich hier wahrscheinlich auf eine Liste oder ein Dokument, das als offizielles Schreiben oder Befehl zusammengestellt werden sollte, um die Unterstützung der eidgenössischen Truppen im Schmalkaldischen Krieg sicherzustellen. Solche Verzeichnisse könnten Informationen über Truppenstärke, Ressourcen oder geplante Aktionen enthalten haben.   \n",
       "73                                                                                                                                                                                                                                                                                                                 Die Lieferung von Waffen und Ausrüstung durch die Stadt Frankfurt an Kaiser Karl V. geschah im Rahmen der Vorbereitungen auf den Schmalkaldischen Krieg, als der Kaiser seine Macht in den protestantischen Gebieten des Heiligen Römischen Reiches festigen wollte.   \n",
       "\n",
       "                                                                                                                                                                                                                                                                                                                                                                                xml_footnote  \\\n",
       "0                                                                                                                                                                                                                                                            <note xmlns=\"http://www.tei-c.org/ns/1.0\" xml:id=\"fn2\" type=\"footnote\" n=\"2\">Oben <ref target=\"file10324\">Nr. 293</ref>.</note>   \n",
       "1                                     <note xmlns=\"http://www.tei-c.org/ns/1.0\" xml:id=\"fn5\" type=\"footnote\" n=\"5\">Die Gesellschaft zu Konstaffel, nach ihrem Zunfthaus auch «zum Rüden» genannt. Sie stellte zahlenmäßig mehr Reformationsgegner als irgendeine Zunft, ohne daß diese jedoch eine Mehrheit in ihren Reihen hätten bilden können, s. <hi>Jacob</hi> 64-66. 108f. 115.</note>   \n",
       "2                                                 <note xmlns=\"http://www.tei-c.org/ns/1.0\" xml:id=\"fn2\" type=\"footnote\" n=\"2\">Wer noch, außer <persName ref=\"p5618\" cert=\"high\">Heinrich Lavater</persName> und <persName ref=\"p8459\" cert=\"high\">Otto Werdmüller</persName>, als Kostgänger bei <persName ref=\"p315\" cert=\"high\">Jakob Bedrot</persName> wohnte, ist nicht bekannt.</note>   \n",
       "3                                                                                                                                                                         <note xmlns=\"http://www.tei-c.org/ns/1.0\" xml:id=\"fn3\" type=\"footnote\" n=\"3\">die <placeName ref=\"l1456\" cert=\"high\">Ill</placeName>, ein Nebenfluß des <placeName ref=\"l11\" cert=\"high\">Rheins</placeName>.</note>   \n",
       "4   <note xmlns=\"http://www.tei-c.org/ns/1.0\" xml:id=\"fn6\" type=\"footnote\" n=\"6\">Im \"Collegium praedicatorum\" waren neben den <placeName ref=\"l492\" cert=\"high\">Straßburger</placeName> Stipendiaten noch acht schwäbische Studenten der Bufflerschen Schulstiftung untergebracht (vgl. <hi>Ficker,</hi> Erste Lehr- und Lernbücher, aaO, S. 9-13, und <bibl>BucerDS</bibl> VII 537).</note>   \n",
       "..                                                                                                                                                                                                                                                                                                                                                                                       ...   \n",
       "69                                                                                                                                                                                             <note xmlns=\"http://www.tei-c.org/ns/1.0\" xml:id=\"fn62\" type=\"footnote\" n=\"62\">Ein solcher Brief findet sich nicht in <hi><persName ref=\"p8055\" cert=\"high\">Blarer</persName></hi> BW.</note>   \n",
       "70                                                                                                                                                              <note xmlns=\"http://www.tei-c.org/ns/1.0\" xml:id=\"fn66\" type=\"footnote\" n=\"66\"><bibl>EA</bibl> IV/Id 633 i.7 erwähnt eine Antwort auf das oben in Anm. 58 identifizierte Schreiben, jedoch ohne nähere Informationen.</note>   \n",
       "71                                                                                                                                                                                                                                                                                            <note xmlns=\"http://www.tei-c.org/ns/1.0\" xml:id=\"fn68\" type=\"footnote\" n=\"68\">Z. 1-38.</note>   \n",
       "72                                                                                                                                                                                                                                                                            <note xmlns=\"http://www.tei-c.org/ns/1.0\" xml:id=\"fn7\" type=\"footnote\" n=\"7\">Entwurf. - Nicht erhalten.</note>   \n",
       "73                                                                                                                                                                                                                          <note xmlns=\"http://www.tei-c.org/ns/1.0\" xml:id=\"fn70\" type=\"footnote\" n=\"70\">Vgl. <bibl>PC</bibl> IV/1 275-277, Nr. <hi>258; Fischer, Chronik</hi> 126.</note>   \n",
       "\n",
       "                                                                                                                                                                                                                                                text_footnote  \n",
       "0                                                                                                                                                                                                                                               Oben Nr. 293.  \n",
       "1   Die Gesellschaft zu Konstaffel, nach ihrem Zunfthaus auch «zum Rüden» genannt. Sie stellte zahlenmäßig mehr Reformationsgegner als irgendeine Zunft, ohne daß diese jedoch eine Mehrheit in ihren Reihen hätten bilden können, s. Jacob 64-66. 108f. 115.  \n",
       "2                                                                                                                                            Wer noch, außer Heinrich Lavater und Otto Werdmüller, als Kostgänger bei Jakob Bedrot wohnte, ist nicht bekannt.  \n",
       "3                                                                                                                                                                                                                          die Ill, ein Nebenfluß des Rheins.  \n",
       "4                            Im \"Collegium praedicatorum\" waren neben den Straßburger Stipendiaten noch acht schwäbische Studenten der Bufflerschen Schulstiftung untergebracht (vgl. Ficker, Erste Lehr- und Lernbücher, aaO, S. 9-13, und BucerDS VII 537).  \n",
       "..                                                                                                                                                                                                                                                        ...  \n",
       "69                                                                                                                                                                                                          Ein solcher Brief findet sich nicht in Blarer BW.  \n",
       "70                                                                                                                                  EA IV/Id 633 i.7 erwähnt eine Antwort auf das oben in Anm. 58 identifizierte Schreiben, jedoch ohne nähere Informationen.  \n",
       "71                                                                                                                                                                                                                                                   Z. 1-38.  \n",
       "72                                                                                                                                                                                                                                 Entwurf. - Nicht erhalten.  \n",
       "73                                                                                                                                                                                                       Vgl. PC IV/1 275-277, Nr. 258; Fischer, Chronik 126.  \n",
       "\n",
       "[74 rows x 6 columns]"
      ]
     },
     "execution_count": 7,
     "metadata": {},
     "output_type": "execute_result"
    }
   ],
   "source": [
    "\n",
    "human_footnotes_df = pd.read_csv(\"../../data/footnote_downsized_df.csv\")\n",
    "machine_df1 = pd.read_csv(\"../../data/model_responses/gpt/gpt-4o-mini-2024-07-18-instruct_add-example.csv\")\n",
    "machine_df2 = pd.read_csv(\"../../data/model_responses/gpt/gpt-4o-2024-08-06-instruct_add-example.csv\")\n",
    "pd.set_option('display.max_colwidth', None)  # show whole text in the cells\n",
    "\n",
    "merged_df = qualitative_comparison(machine_df1, machine_df2, human_footnotes_df)\n",
    "merged_df"
   ]
  }
 ],
 "metadata": {
  "kernelspec": {
   "display_name": "Python 3 (ipykernel)",
   "language": "python",
   "name": "python3"
  },
  "language_info": {
   "codemirror_mode": {
    "name": "ipython",
    "version": 3
   },
   "file_extension": ".py",
   "mimetype": "text/x-python",
   "name": "python",
   "nbconvert_exporter": "python",
   "pygments_lexer": "ipython3",
   "version": "3.11.5"
  }
 },
 "nbformat": 4,
 "nbformat_minor": 2
}
