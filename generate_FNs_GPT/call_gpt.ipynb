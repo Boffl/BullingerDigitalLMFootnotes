{
 "cells": [
  {
   "cell_type": "code",
   "execution_count": 1,
   "metadata": {},
   "outputs": [],
   "source": [
    "api_key = \"\"  # todo fix error with environ var"
   ]
  },
  {
   "cell_type": "markdown",
   "metadata": {},
   "source": [
    "# Imports and prep"
   ]
  },
  {
   "cell_type": "code",
   "execution_count": 18,
   "metadata": {},
   "outputs": [],
   "source": [
    "from generate_gpt import OpenAiModels\n",
    "\n",
    "\n",
    "model = OpenAiModels(\"gpt-3.5-turbo\", api_key)\n",
    "\n",
    "messages = [{\n",
    "    \"role\": \"system\",\n",
    "    \"content\": f\"You are a student, taking the following exam on music history.\"},\n",
    "    {\"role\": \"user\",\n",
    "        \"content\": \"what year was Motzart born?\"}\n",
    "        ]\n",
    "\n",
    "# test if it works...\n",
    "# model.generate(messages)\n",
    "\n"
   ]
  },
  {
   "cell_type": "markdown",
   "metadata": {},
   "source": []
  },
  {
   "cell_type": "code",
   "execution_count": 19,
   "metadata": {},
   "outputs": [],
   "source": [
    "# Small input, one FN is there, a second one is to be generated:\n",
    "text1 = \"\"\"<TEI xmlns=\"http://www.tei-c.org/ns/1.0\" xml:id=\"file10224\" type=\"Brief\" source=\"HBBW-3\" n=\"193\">\n",
    "\t<teiHeader xml:lang=\"de\">\n",
    "\t\t<fileDesc>\n",
    "\t\t\t<titleStmt>\n",
    "\t\t\t\t<title subtype=\"file\">Konrad Geßner, Johannes Fries / Basel an Heinrich Bullinger, 25. Februar [1533]</title>\n",
    "\t\t\t</titleStmt>\n",
    "\t\t\t<publicationStmt>\n",
    "\t\t\t\t<authority>Universität Zürich</authority>\n",
    "\t\t\t\t</publicationStmt>\n",
    "\t\t\t<sourceDesc>\n",
    "\t\t\t\t</sourceDesc>\n",
    "\t\t</fileDesc>\n",
    "\t\t</teiHeader>\n",
    "\t<text xml:lang=\"la\">\n",
    "\t\t<body>\n",
    "\t\t\t<div xml:id=\"div1\" corresp=\"regest1\">\n",
    "\t\t\t\t<p>\n",
    "\t\t\t\t\t<s n=\"1\" xml:lang=\"la\" type=\"auto\">Optimo et integerrimo viro M. Henrico Bullingero, mecaenati charissimo.</s>\n",
    "\t\t\t\t</p>\n",
    "\t\t\t\t<p>\n",
    "\t\t\t\t\t<s n=\"2\" xml:lang=\"la\" type=\"auto\">S.</s>\n",
    "\t\t\t\t\t<s n=\"3\" xml:lang=\"la\" type=\"auto\">Impediunt nos ab itinere<note xml:id=\"fn3\" type=\"footnote\" n=\"3\"><persName ref=\"p1283\" cert=\"high\">Geßner</persName> und <persName ref=\"p1214\" cert=\"high\">Fries</persName> befanden sich auf dem Weg nach <placeName ref=\"l59\" cert=\"high\">Bourges</placeName>.</note> nives, pluvia et ventorum vis.</s>\n",
    "\t\t\t\t\t<s n=\"4\" xml:lang=\"la\" type=\"auto\"><placeName ref=\"l28\" cert=\"high\">Basileae</placeName> apud <persName ref=\"p8418\" cert=\"high\">Myconium</persName><note xml:id=\"fn4\" type=\"footnote\" n=\"4\">\"\"\"\n",
    "\n",
    "# Same Letter, but now the first FN is to be generated. Meaning the model has no direct example of a FN in the edition\n",
    "text2 = \"\"\"<TEI xmlns=\"http://www.tei-c.org/ns/1.0\" xml:id=\"file10224\" type=\"Brief\" source=\"HBBW-3\" n=\"193\">\n",
    "\t<teiHeader xml:lang=\"de\">\n",
    "\t\t<fileDesc>\n",
    "\t\t\t<titleStmt>\n",
    "\t\t\t\t<title subtype=\"file\">Konrad Geßner, Johannes Fries / Basel an Heinrich Bullinger, 25. Februar [1533]</title>\n",
    "\t\t\t</titleStmt>\n",
    "\t\t\t<publicationStmt>\n",
    "\t\t\t\t<authority>Universität Zürich</authority>\n",
    "\t\t\t\t</publicationStmt>\n",
    "\t\t\t<sourceDesc>\n",
    "\t\t\t\t</sourceDesc>\n",
    "\t\t</fileDesc>\n",
    "\t\t</teiHeader>\n",
    "\t<text xml:lang=\"la\">\n",
    "\t\t<body>\n",
    "\t\t\t<div xml:id=\"div1\" corresp=\"regest1\">\n",
    "\t\t\t\t<p>\n",
    "\t\t\t\t\t<s n=\"1\" xml:lang=\"la\" type=\"auto\">Optimo et integerrimo viro M. Henrico Bullingero, mecaenati charissimo.</s>\n",
    "\t\t\t\t</p>\n",
    "\t\t\t\t<p>\n",
    "\t\t\t\t\t<s n=\"2\" xml:lang=\"la\" type=\"auto\">S.</s>\n",
    "\t\t\t\t\t<s n=\"3\" xml:lang=\"la\" type=\"auto\">Impediunt nos ab itinere<note xml:id=\"fn3\" type=\"footnote\" n=\"3\">\"\"\"\n",
    "\n",
    "# A long letter, the model has to generate the very last FN\n",
    "text3 =  \"\"\"<TEI xmlns=\"http://www.tei-c.org/ns/1.0\" xml:id=\"file12260\" type=\"Brief\" source=\"HBBW-15\" n=\"2213\">\n",
    "\t<teiHeader xml:lang=\"de\">\n",
    "\t\t<fileDesc>\n",
    "\t\t\t<titleStmt>\n",
    "\t\t\t\t<title subtype=\"file\">Matthias Erb / Reichenweier an Heinrich Bullinger, 11. August [1545]</title>\n",
    "\t\t\t</titleStmt>\n",
    "\t\t\t<publicationStmt>\n",
    "\t\t\t\t<authority>Universität Zürich</authority>\n",
    "\t\t\t\t</publicationStmt>\n",
    "\t\t\t<sourceDesc>\n",
    "\t\t\t\t<bibl type=\"scan\">Zürich StA</bibl>\n",
    "\t\t\t\t</sourceDesc>\n",
    "\t\t</fileDesc>\n",
    "\t\t</teiHeader>\n",
    "\t<text xml:lang=\"la\">\n",
    "\t\t<body>\n",
    "\t\t\t<div xml:id=\"div1\" corresp=\"regest1\">\n",
    "\t\t\t\t<p>\n",
    "\t\t\t\t\t<s n=\"1\" xml:lang=\"la\" type=\"auto\">Gratia domini tecum.</s>\n",
    "\t\t\t\t\t<s n=\"2\" xml:lang=\"la\" type=\"auto\">Quum decima augusti<note xml:id=\"fn2\" type=\"footnote\" n=\"2\">An einem Montag, dem Vortag (s. Z. 17f) des Datums dieses Briefes.</note> e suggestu descendissem me actutum a templo ad aulam conferens (vocatus scilicet a cancellario<note xml:id=\"fn3\" type=\"footnote\" n=\"3\"><persName ref=\"p8103\" cert=\"high\">Sigismund Stier</persName>.</note> ob quędam negotia ecclesię componenda), venit hic tuus legatus<note xml:id=\"fn4\" type=\"footnote\" n=\"4\"><persName ref=\"p18219\" cert=\"high\">Markus Wüst</persName>; s. oben <ref target=\"file12256\">Nr. 2209</ref>, Anm. b.</note> hora ferme nona et, dum in angiportu sisto gradum, servum<note xml:id=\"fn5\" type=\"footnote\" n=\"5\">Unbekannt.</note> ad limina de <persName ref=\"p1010\" cert=\"high\">Erbio</persName> rogat, me vero oculis ostiario significante ne proderet, statim digito demonstrat dicens: „Hic est.“</s>\n",
    "\t\t\t\t\t<s n=\"3\" xml:lang=\"la\" type=\"auto\">Is ergo ad me veniens percunctatur, an mihi sit nomen <persName ref=\"p1010\" cert=\"high\">Erbio</persName>.</s>\n",
    "\t\t\t\t\t<s n=\"4\" xml:lang=\"la\" type=\"auto\">Aio.</s>\n",
    "\t\t\t\t\t<s n=\"5\" xml:lang=\"la\" type=\"auto\">Statimque litteras<note xml:id=\"fn6\" type=\"footnote\" n=\"6\">Oben <ref target=\"file12256\">Nr. 2209</ref>.</note> depromens dicebat a te missas.</s>\n",
    "\t\t\t\t\t<s n=\"6\" xml:lang=\"la\" type=\"auto\">Acceptas legi simul obstupescens tuam, qui alias occupatissimus es, sedulitatem in describendis ex autographo copiis<note xml:id=\"fn7\" type=\"footnote\" n=\"7\">Vgl. oben <ref target=\"file12256\">Nr. 2209</ref>, 15-19.</note>.</s>\n",
    "\t\t\t\t\t<s n=\"7\" xml:lang=\"la\" type=\"auto\">Stans ergo attonitus et propemodum exanimis iussi adolescentem expectare, dum redeam, atque subinde inter tractatus et varias dissidentium quęstiones et tacite et indesinenter volvo ac revolvo intime, quę scripseras.</s>\n",
    "\t\t\t\t\t<s n=\"8\" xml:lang=\"la\" type=\"auto\">Absolutus a strepitu aulico eo cum adolescente pransum interque epulandum de singulis rebus percunctor, statim scilicet a mensa tibi responsurus.</s>\n",
    "\t\t\t\t\t<s n=\"9\" xml:lang=\"la\" type=\"auto\">Dum id meditor, alius adest nuntius<note xml:id=\"fn8\" type=\"footnote\" n=\"8\">Unbekannt.</note> litteras ferens a principe<note xml:id=\"fn9\" type=\"footnote\" n=\"9\"><persName ref=\"p8098\" cert=\"high\">Graf Georg von Württemberg-Mömpelgard</persName>, der sich laut Z. 16 damals in <placeName ref=\"l569\" cert=\"high\">Worms</placeName> aufhielt. Seine Teilnahme am <placeName ref=\"l569\" cert=\"high\">Wormser</placeName> Reichstag ist in RTA JR XVIII-2 nicht belegt.</note>, in quibus multa mihi committuntur negotia principemque a comitiis<note xml:id=\"fn10\" type=\"footnote\" n=\"10\">Der Reichstag in <placeName ref=\"l569\" cert=\"high\">Worms</placeName>.</note> propediem rediturum pollicentes.</s>\n",
    "\t\t\t\t\t<s n=\"10\" xml:lang=\"la\" type=\"auto\">Hinc eo die, tametsi adolescens crebro urgeret abituriens, nil scripsi omnia in posterum, hoc est in hodiernum, reiiciens diem.</s>\n",
    "\t\t\t\t\t<s n=\"11\" xml:lang=\"la\" type=\"auto\">Haec de pueri tui diligentia.</s>\n",
    "\t\t\t\t</p>\n",
    "\t\t\t\t<p>\n",
    "\t\t\t\t\t<s n=\"12\" xml:lang=\"la\" type=\"auto\">Quod vero ad negotium adtinet, paucis haec accipe.</s>\n",
    "\t\t\t\t\t<s n=\"13\" xml:lang=\"la\" type=\"auto\">Fateor me iam annum quinquagesimum egressum<note xml:id=\"fn11\" type=\"footnote\" n=\"11\"><persName ref=\"p1010\" cert=\"high\">Erb</persName> war 1494 geboren.</note>, et qui nunc in ea aetate sum, quę sedatior esse cupit, sepicule curas aulicas, quibus distringor,<pb type=\"scan\" next=\"257v.\"/> depręcatum, sed parum promovisse; imo, quo plus me expedire cupio, eo amplius perstringor dispendio et vitae et rerum.</s>\n",
    "\t\t\t\t\t<s n=\"14\" xml:lang=\"la\" type=\"auto\">Sic deo optimo maximo visum est.</s>\n",
    "\t\t\t\t</p>\n",
    "\t\t\t\t<p>\n",
    "\t\t\t\t\t<s n=\"15\" xml:lang=\"la\" type=\"auto\">Quod ad vitam, ut omnia manifestius depingam, subit tarda senectus,<note xml:id=\"fn12\" type=\"footnote\" n=\"12\"><hi>Vergil,</hi> Aeneis, 9, 610.</note> quę difficilis incipit esse, sola non suffitiens laboribus, dum indies creberrime exantlatur.</s>\n",
    "\t\t\t\t\t<s n=\"16\" xml:lang=\"la\" type=\"auto\">Nullum habeo symmistam, ut nosti, opinor.</s>\n",
    "\t\t\t\t\t<s n=\"17\" xml:lang=\"la\" type=\"auto\">Plures iussu principis vocavi; sed horrent id, quod ego quęror.</s>\n",
    "\t\t\t\t\t<s n=\"18\" xml:lang=\"la\" type=\"auto\">Metuunt enim sibi ab ingeniis cervinis<note xml:id=\"fn13\" type=\"footnote\" n=\"13\">ingenium cervinum: ein ängstliches Wesen; s. <bibl>Adagia</bibl>, 2, 7, 36 (<bibl>ASD</bibl> II/4 110, <ref target=\"file11679\">Nr. 1636</ref>).</note>, nec ego quenquam nisi volentem ad me trahere volo, etc.<pb type=\"edition\" next=\"439\"/></s>\n",
    "\t\t\t\t\t<s n=\"19\" xml:lang=\"la\" type=\"auto\">Quod vero ad res meas adtinet, male collocat ille, quem ex nomine nosti, stipendia.</s>\n",
    "\t\t\t\t\t<s n=\"20\" xml:lang=\"la\" type=\"auto\">Ex patrimonio intra quinquennium<note xml:id=\"fn16\" type=\"footnote\" n=\"16\">D.h. seit 1539, was mit dem Amtsantritt <persName ref=\"p17986\" cert=\"high\">Henmans</persName> übereinstimmt.</note> ducentos fere aureos non in meam, sed magis ecclesię necessitatem exposui, quod dies domini revelabit.</s>\n",
    "\t\t\t\t\t<s n=\"21\" xml:lang=\"la\" type=\"auto\">Nec quęror, optime frater, de perditis rebus, sed de Harpiis furacibus, qui recte monentes non exaudiunt et ecclesię avaritię notam inurunt; quod non adeo magni referret, nisi metuendum de excidio foret.</s>\n",
    "\t\t\t\t\t<s n=\"22\" xml:lang=\"la\" type=\"auto\">Quamdiu rapiendum, placet Christus; dum defecerit ecclesię fiscus, non placebit ultra Christus!</s>\n",
    "\t\t\t\t\t<s n=\"23\" xml:lang=\"la\" type=\"auto\">Hactenus 3 fuimus in isto oppido, ubi quisque designatum habuit<pb type=\"edition\" next=\"440\"/> stipendium.</s>\n",
    "\t\t\t\t\t<s n=\"24\" xml:lang=\"la\" type=\"auto\">Ego nunc solus omnibus curis pręfectus aegre a satrapis<note xml:id=\"fn18\" type=\"footnote\" n=\"18\">Zu verstehen: von den Beamten, u.a. vom neuen Schaffner.</note> meum recipio stipendium, et si egerem, vix triobulo sublevarent.</s>\n",
    "\t\t\t\t\t<s n=\"25\" xml:lang=\"la\" type=\"auto\">Sunt pręterea et alię rationes, quibus te nolo nunc gravare scribendo, etc.</s>\n",
    "\t\t\t\t\t<s n=\"26\" xml:lang=\"la\" type=\"auto\">Atque inter tot turbines nondum video satis iustam occasionem desertionis huius ecclesię.</s>\n",
    "\t\t\t\t</p>\n",
    "\t\t\t\t<p>\n",
    "\t\t\t\t\t<s n=\"27\" xml:lang=\"de\" type=\"auto\"><pb type=\"scan\" next=\"257a,r.\"/>Summa.</s>\n",
    "\t\t\t\t\t<s n=\"28\" xml:lang=\"la\" type=\"auto\">Ita haereo inter sacrum et saxum<note xml:id=\"fn19\" type=\"footnote\" n=\"19\">Siehe Adagia, 1, 1, 15 (<bibl>ASD</bibl> II/1 128f, Nr. 15).</note>, ut nunc sine discrimine ecclesięque Christi maxima iactura, ut facile intelligis, discedere nequeam.</s>\n",
    "\t\t\t\t</p>\n",
    "\t\t\t\t<p>\n",
    "\t\t\t\t\t<s n=\"29\" xml:lang=\"la\" type=\"auto\">Atque eę sunt potissimę rationes.</s>\n",
    "\t\t\t\t\t<s n=\"30\" xml:lang=\"la\" type=\"auto\">Ecclesias nostras iam a sexto anno<note xml:id=\"fn20\" type=\"footnote\" n=\"20\">D.h. seit 1538, als Erbin Reichenweier tätig wurde.</note> utcunque in ordinem, ut potuimus - quando, ut volueramus, non licuit - redegimus.</s>\n",
    "\t\t\t\t</p>\n",
    "\t\t\t\t<p>\n",
    "\t\t\t\t\t<s n=\"31\" xml:lang=\"la\" type=\"auto\">Annitendum ergo, ut cępta perficiantur.</s>\n",
    "\t\t\t\t\t<s n=\"32\" xml:lang=\"la\" type=\"auto\">Ad hoc ecclesia illa nobis contigua, Montbelgardiana, cum suo principe<note xml:id=\"fn21\" type=\"footnote\" n=\"21\"><persName ref=\"p1546\" cert=\"high\">Graf Christoph von Württemberg</persName>.</note> adhuc vacillat; de qua totus liber foret perscribendus.</s>\n",
    "\t\t\t\t\t<s n=\"33\" xml:lang=\"la\" type=\"auto\">Pręterea scholę quattuor in isto parviusculo agro sunt constitutę et quinta in rure instituenda, stipendia quoque studiosis quibusdam ante paucos menses pollicita,<note xml:id=\"fn23\" type=\"footnote\" n=\"23\">Erst 1555 kam es zur Einrichtung eines solchen Stipendiums durch Graf Georg; s. <hi>Adam,</hi> aao, S. 306.</note> sed haec non omnia firmata et rata, proponenda etiamnum ecclesię quędam decreta, quibus ad disciplinam et sanctos mores utcunque redigantur, idque statim redeunte principe.</s>\n",
    "\t\t\t\t\t<s n=\"34\" xml:lang=\"la\" type=\"auto\">Illo enim absente haec omnia conscripta sunt.</s>\n",
    "\t\t\t\t\t<s n=\"35\" xml:lang=\"la\" type=\"auto\">Dum igitur nunc mutavero locum omnia sub cultro relinquens<note xml:id=\"fn24\" type=\"footnote\" n=\"24\">omnia sub cultro relinquens: alles der Gefahr aussetzend; vgl. <bibl>Adagia</bibl>, 2, 10, 83 (<bibl>ASD</bibl> II/4 328, <ref target=\"file12030\">Nr. 1983</ref>).</note>, facile intelligis, quid periculi inmineat.</s>\n",
    "\t\t\t\t\t<s n=\"36\" xml:lang=\"la\" type=\"auto\">In primis severus princeps, a quo omnia pendent, facile vel mutaretur vel irritaretur, ut solet hoc hominum genus; id quod nimirum magis in ecclesię quam in meum incomodum cęderet.</s>\n",
    "\t\t\t\t\t<s n=\"37\" xml:lang=\"la\" type=\"auto\">Viden inter coelum et terram me suspensum palpitare neque posse hac ratione vel vocatione, quę tamen et sancta et iusta, liberari?</s>\n",
    "\t\t\t\t\t<s n=\"38\" xml:lang=\"la\" type=\"auto\">Occasio mihi expectanda comodior, quę me liberet sine ecclesię iactura.</s>\n",
    "\t\t\t\t\t<s n=\"39\" xml:lang=\"la\" type=\"auto\">Nam si iam abirem, ecclesia viduata absque pastore inter cunctatores et cessatores fluctuaret, etc.</s>\n",
    "\t\t\t\t</p>\n",
    "\t\t\t\t<p>\n",
    "\t\t\t\t\t<s n=\"40\" xml:lang=\"la\" type=\"auto\"><pb type=\"scan\" next=\"257a,v.\"/>Ago vero et habeo tibi gratias inmortales, humanissime Bullingere, quod admodum ingenti cura meo nomine laboraveris, atque hoc impensius te amo, quod charitatis offitium non fucate, sed dextre candideque in me collocaris, imo significaris in hac sancta vocatione.</s>\n",
    "\t\t\t\t\t<s n=\"41\" xml:lang=\"la\" type=\"auto\">Respondebit olim procul dubio deus optimus maximus tuis votis, quo <placeName ref=\"l1976\" cert=\"high\">Augustani</placeName> nanciscantur virum aliquem sanctum, ecclesię dignum ministrum,<note xml:id=\"fn25\" type=\"footnote\" n=\"25\"><persName ref=\"p8018\" cert=\"high\">Johannes Haller</persName> wurde schließlich aus Zurich nach <placeName ref=\"l1976\" cert=\"high\">Augsburg</placeName> gesandt; s. oben <ref target=\"file12211\">Nr. 2164</ref>, Anm. 10.</note> atque ego etiam tuis assiduis<pb type=\"edition\" next=\"441\"/> praecibus vel liberer publica occasione vel sub onere non defitiam.</s>\n",
    "\t\t\t\t\t<s n=\"42\" xml:lang=\"la\" type=\"auto\">Sed te etiamnum per Iesum Christum, ne deinceps plus mihi vel tribuas, immodicus scilicet virtutum mearum, quibus penitus careo, pręco, vel magis sentias de me, quam res est.</s>\n",
    "\t\t\t\t\t<s n=\"43\" xml:lang=\"la\" type=\"auto\">Optime enim mihi ipsi conscius sum curtę suppellectilis,<note xml:id=\"fn26\" type=\"footnote\" n=\"26\"><hi>Persius,</hi> Saturae, 4, 52.</note> quam tu, ni fallor, maiori atque ego, nescio quorum iuditio persuasus, aestimas.</s>\n",
    "\t\t\t\t</p>\n",
    "\t\t\t\t<p>\n",
    "\t\t\t\t\t<s n=\"44\" xml:lang=\"la\" type=\"auto\">Porro, quod nunc temporis importunitas negat, alias benignus deus, ecclesiarum verus et unicus pastor<note xml:id=\"fn27\" type=\"footnote\" n=\"27\">Vgl. <cit type=\"bible\"><ref>Hebr 13, 20</ref></cit>; <cit type=\"bible\"><ref>1Petr 2, 25</ref></cit>; <cit type=\"bible\"><ref>5, 4.</ref></cit></note>, solita clementia sancta resarciet oportunitate.</s>\n",
    "\t\t\t\t\t<s n=\"45\" xml:lang=\"la\" type=\"auto\">Sancto quoque magistratui <placeName ref=\"l1976\" cert=\"high\">Augustano</placeName>, inprimis vero erudito viro domino <persName ref=\"p8354\" cert=\"high\">Georgio Leto</persName><note xml:id=\"fn28\" type=\"footnote\" n=\"28\"><persName ref=\"p8354\" cert=\"high\">Georg Frölich</persName>.</note>, ingentes gratias meo nomine agas, obsecro, quod me, ineptum homuntionem,<note xml:id=\"fn29\" type=\"footnote\" n=\"29\">Vgl. <cit type=\"bible\"><ref>1Kor 15,9</ref></cit>; <cit type=\"bible\"><ref>Eph 3, 8</ref></cit>.</note> adeo egregia dignati sint vocatione.</s>\n",
    "\t\t\t\t\t<s n=\"46\" xml:lang=\"la\" type=\"auto\">Ego quoque deinceps eius ecclesię maiorem habebo - si potis fuero - ubique rationem, optoque illis stabilem pacem et concordiam talesque antistites, qui pietate, eruditione, prudentia, vigilantia et fidelitate ita pręmineant, quo Christus in ea republica ita mittat radices, ut nullis satanę et impiorum imposturis deiiciatur.</s>\n",
    "\t\t\t\t\t<s n=\"47\" xml:lang=\"la\" type=\"auto\">Monebis ergo illos, ne me deinceps expectent; ignoro enim meam liberationem.</s>\n",
    "\t\t\t\t\t<s n=\"48\" xml:lang=\"la\" type=\"auto\">Servet te Christus.</s>\n",
    "\t\t\t\t</p>\n",
    "\t\t\t\t<p>\n",
    "\t\t\t\t\t<note type=\"attachment\">[Beilage:]</note>\n",
    "\t\t\t\t\t<s n=\"49\" xml:lang=\"la\" type=\"auto\"><pb type=\"scan\" next=\"258r.\"/>Nova: Absolutionem conmitiorum<note xml:id=\"fn30\" type=\"footnote\" n=\"30\">Der Reichstag zu <placeName ref=\"l569\" cert=\"high\">Worms</placeName>.</note> non ignoras, in quibus nil certi definitum, nisi quod istis hybernis mensibus adversarii nobis pacem condixerunt; futura aestate nobis providendum erit<note xml:id=\"fn31\" type=\"footnote\" n=\"31\">Ein Gerücht.</note>.</s>\n",
    "\t\t\t\t\t<s n=\"50\" xml:lang=\"la\" type=\"auto\">Acta comitiorum nondum sunt publicata.</s>\n",
    "\t\t\t\t\t<s n=\"51\" xml:lang=\"la\" type=\"auto\">Aiunt quidam caesari<note xml:id=\"fn33\" type=\"footnote\" n=\"33\"><persName ref=\"p18538\" cert=\"high\">Karl V.</persName></note> omnia esse commissa, ut dicat sententiam etiam in religionis negotio certis tamen conditionibus; quodsi verum fuerit, ovem dicemus lupo<note xml:id=\"fn34\" type=\"footnote\" n=\"34\">Vgl. <cit type=\"bible\"><ref>Joh 10, 12</ref></cit>.</note> commissam.</s>\n",
    "\t\t\t\t</p>\n",
    "\t\t\t\t<p>\n",
    "\t\t\t\t\t<s n=\"52\" xml:lang=\"la\" type=\"auto\"><persName ref=\"p18477\" cert=\"high\">Ferdinandus</persName> priori septimana<note xml:id=\"fn35\" type=\"footnote\" n=\"35\">Zu verstehen: In der ersten Augustwoche. - <persName ref=\"p18477\" cert=\"high\">Ferdinand I.</persName> war am 31. Juli 1545 aus <placeName ref=\"l569\" cert=\"high\">Worms</placeName> abgereist; s. unten <ref target=\"file12261\">Nr. 2214</ref>, 28 und Anm. 20.</note> a comitiis magno strepitu solvens Bohemiam petit cum <persName ref=\"p7688\" cert=\"high\">Nausea</persName><note xml:id=\"fn36\" type=\"footnote\" n=\"36\"><persName ref=\"p7688\" cert=\"high\">Friedrich Nausea</persName>, Bischof von <placeName ref=\"l546\" cert=\"high\">Wien</placeName>.</note> suo et quibusdam monachis.</s>\n",
    "\t\t\t\t\t<s n=\"53\" xml:lang=\"la\" type=\"auto\">Sequenti septimana<pb type=\"edition\" next=\"442\"/> caesar abiturus est, sed quo, ignoratur<note xml:id=\"fn37\" type=\"footnote\" n=\"37\"><persName ref=\"p18538\" cert=\"high\">Karl V.</persName> hatte <placeName ref=\"l569\" cert=\"high\">Worms</placeName> am 7. August in Richtung <placeName ref=\"l267\" cert=\"high\">Köln</placeName> verlassen; s. oben <ref target=\"file12261\">Nr. 2214</ref>, 31 und Anm. 23f.</note>.</s>\n",
    "\t\t\t\t\t<s n=\"54\" xml:lang=\"la\" type=\"auto\">Erant alia dicta comitia ad <placeName ref=\"l410\" cert=\"high\">Reginospurgum</placeName> ad mensem octobrem,<note xml:id=\"fn38\" type=\"footnote\" n=\"38\">Der geplante Reichstag in <placeName ref=\"l410\" cert=\"high\">Regensburg</placeName>, der erst Anfang 1546 begann; s. oben <ref target=\"file12258\">Nr. 2211</ref>, Anm. 24.</note>, sed aiunt quidam irritata<note xml:id=\"fn39\" type=\"footnote\" n=\"39\">Hier im Sinne von \"vergeblich\"; s. <hi><persName ref=\"p8320\" cert=\"high\">Dasypodius</persName>,</hi> Dic. 199.</note>, etc.</s>\n",
    "\t\t\t\t</p>\n",
    "\t\t\t\t<p>\n",
    "\t\t\t\t\t<s n=\"55\" xml:lang=\"la\" type=\"auto\">Urgent plures nacionale concilium, idque <placeName ref=\"322\" type=\"auto_name\">Metis</placeName><note xml:id=\"fn40\" type=\"footnote\" n=\"40\"><placeName ref=\"l322\" cert=\"high\">Metz</placeName>.</note> celebrari postulant.</s>\n",
    "\t\t\t\t\t<s n=\"56\" xml:lang=\"la\" type=\"auto\">Musher<note xml:id=\"fn41\" type=\"footnote\" n=\"41\">Vom französischen \"Monsieur\".</note> de Gyß<note xml:id=\"fn42\" type=\"footnote\" n=\"42\"><persName ref=\"p18450\" cert=\"high\">Claude I. von Lothringen</persName>, Herzog von Guise.</note>, defuncti ducis Lotharingię frater<note xml:id=\"fn43\" type=\"footnote\" n=\"43\">Der am 12. Juni 1545 verstorbene <persName ref=\"p7637\" cert=\"high\">François I. von Lothringen</persName> war nicht Claudes Bruder, sondern sein Neffe. Bruder von Claude war der Vater des Verstorbenen, nämlich <persName ref=\"p18431\" cert=\"high\">Anton II. von Lothringen</persName> (gest. Juni 1544).</note>, patruum suum conscripto milite et auxilio regis<note xml:id=\"fn45\" type=\"footnote\" n=\"45\"><persName ref=\"p7637\" cert=\"high\">König Franz I.</persName></note> Gallorum conatur e ducatu pellere.</s>\n",
    "\t\t\t\t\t<s n=\"57\" xml:lang=\"la\" type=\"auto\"><persName ref=\"p18538\" cert=\"high\">Caesar</persName> vero iuniori<note xml:id=\"fn46\" type=\"footnote\" n=\"46\"><persName ref=\"p18536\" cert=\"high\">Karl III. von Lothringen</persName>.</note>, qui patri<note xml:id=\"fn47\" type=\"footnote\" n=\"47\"><persName ref=\"p7637\" cert=\"high\">François I. von Lothringen</persName>.</note> successit, subsidium et <placeName ref=\"l29\" cert=\"high\">Hispanum</placeName> militem pollicitus est.</s>\n",
    "\t\t\t\t\t<s n=\"58\" xml:lang=\"la\" type=\"auto\">Quodsi res non fuerit composita, putant novum bellum inter caesarem et Gallum oriturum.</s>\n",
    "\t\t\t\t\t<s n=\"59\" xml:lang=\"la\" type=\"auto\">Feruntur alia quedam nova, sed forte non fide digna: mundus mendatiis scatet<note xml:id=\"fn48\" type=\"footnote\" n=\"48\">Vgl. <bibl>TPMA</bibl> XIII 46, 125f: Die Welt ist falscher Zungen voll.</note>.</s>\n",
    "\t\t\t\t\t<s n=\"60\" xml:lang=\"la\" type=\"auto\">Haec omnia raptim.</s>\n",
    "\t\t\t\t</p>\n",
    "\t\t\t\t<p>\n",
    "\t\t\t\t\t<s n=\"61\" xml:lang=\"la\" type=\"auto\">Valebis igitur, vir humanissime, cum ecclesia sancta et familia.</s>\n",
    "\t\t\t\t\t<s n=\"62\" xml:lang=\"la\" type=\"auto\">Salutabis vicissim tuos, in primis meum <persName ref=\"p8412\" cert=\"high\">Megandrum</persName>, <persName ref=\"p8437\" cert=\"high\">Erasmum</persName>,<note xml:id=\"fn49\" type=\"footnote\" n=\"49\">\"\"\""
   ]
  },
  {
   "cell_type": "code",
   "execution_count": 20,
   "metadata": {},
   "outputs": [],
   "source": [
    "def calculate_openai_cost(tokens:list[tuple[int]], price_per_1M:tuple[float]):\n",
    "    \"\"\"calculate the cost\n",
    "    param tokens: list of tuples, input and output\n",
    "    param price_per_1M: tuple of pricing, input and output\"\"\"\n",
    "    cost = 0\n",
    "    for in_toks, out_toks in tokens:\n",
    "        cost += in_toks*price_per_1M[0] + out_toks*price_per_1M[1]\n",
    "    return cost/(10**6)  # don't forget to divide by 1M"
   ]
  },
  {
   "cell_type": "markdown",
   "metadata": {},
   "source": [
    "# Generating"
   ]
  },
  {
   "cell_type": "markdown",
   "metadata": {},
   "source": [
    "## Informal Tests"
   ]
  },
  {
   "cell_type": "markdown",
   "metadata": {},
   "source": [
    "#### test 1\n",
    "Formulating the completion task in Chat template."
   ]
  },
  {
   "cell_type": "markdown",
   "metadata": {},
   "source": [
    "Original FN: <br>\n",
    "```xml\n",
    "<persName ref=\"p1214\" cert=\"high\">Fries</persName>\n",
    "und\n",
    "<persName ref=\"p1283\" cert=\"high\">Geßner</persName>\n",
    "waren in einem Brief\n",
    "<persName ref=\"p8127\" cert=\"high\">Pellikans</persName>\n",
    "vom 19. Februar 1533 an\n",
    "<persName ref=\"p8418\" cert=\"high\">Myconius</persName>\n",
    "empfohlen worden (Zürich StA, E II 358, 98).\n",
    "</note>\n",
    "```\n",
    "FN from the ICL:<br>\n",
    "```xml\n",
    "<note xml:id=\"fn49\" type=\"footnote\" n=\"49\">\n",
    "<persName ref=\"p8437\" cert=\"high\">Erasmus Schmid</persName>\n",
    ".\n",
    "</note>\n",
    "```"
   ]
  },
  {
   "cell_type": "code",
   "execution_count": 21,
   "metadata": {},
   "outputs": [],
   "source": [
    "\n",
    "\n",
    "ICL_SYSTEM_PROMPT = \"Du bist Historiker und hast dich auf die Reformation spezialisiert. Gerade arbeitest du daran Briefe von Heinrich Bullinger zu edieren. Vervolständige die Inhaltlichen Fussnoten.\"\n",
    "\n",
    "# footnote for the icl\n",
    "footnote_text2 = \"\"\"<note xml:id=\"fn3\" type=\"footnote\" n=\"3\"><persName ref=\"p1283\" cert=\"high\">Geßner</persName> und <persName ref=\"p1214\" cert=\"high\">Fries</persName> befanden sich auf dem Weg nach <placeName ref=\"l59\" cert=\"high\">Bourges</placeName>.</note>\"\"\"\n",
    "\n",
    "# Note the openai API does not allow for arbitrary names for the chatting parties:\n",
    "# {'error': {'message': \"Invalid value: 'historian'. Supported values are: 'system', 'assistant', 'user', 'function', and 'tool'.\", 'type': 'invalid_request_error', 'param': 'messages[1].role', 'code': 'invalid_value'}}\n",
    "\n",
    "def icl_prompt(text):\n",
    "  \"\"\"Generate a prompt that gives the example from text2\"\"\"\n",
    "  messages = [\n",
    "      {\"role\": \"system\", \"content\": ICL_SYSTEM_PROMPT},\n",
    "      {\"role\": \"user\", \"content\": text2},   \n",
    "      {\"role\": \"assistant\", \"content\": footnote_text2},\n",
    "      {\"role\": \"user\", \"content\": text}\n",
    "  ]\n",
    "  return messages\n",
    "\n",
    "\n"
   ]
  },
  {
   "cell_type": "code",
   "execution_count": 24,
   "metadata": {},
   "outputs": [
    {
     "name": "stdout",
     "output_type": "stream",
     "text": [
      "<note xml:id=\"fn4\" type=\"footnote\" n=\"4\">Myconius, ein wichtiger Reformator und Freund von Bullinger, war in Basel tätig und spielte eine zentrale Rolle in der Verbreitung der reformatorischen Ideen in der Region.</note>\n",
      "<note xml:id=\"fn4\" type=\"footnote\" n=\"4\">Myconius, ein wichtiger Reformator und Freund von Bullinger, war in Basel tätig und spielte eine zentrale Rolle in der Verbreitung der reformatorischen Ideen in der Region.</note>\n",
      "<note xml:id=\"fn4\" type=\"footnote\" n=\"4\">Myconius, ein wichtiger Reformator und Freund von Bullinger, war in Basel tätig und spielte eine bedeutende Rolle in der Verbreitung der reformatorischen Ideen in der Region.</note>\n",
      "<note xml:id=\"fn4\" type=\"footnote\" n=\"4\">Myconius, ein wichtiger Reformator und Freund von Bullinger, war in Basel tätig und spielte eine zentrale Rolle in der Verbreitung der reformatorischen Ideen in der Region.</note>\n",
      "<note xml:id=\"fn4\" type=\"footnote\" n=\"4\">Myconius, ein wichtiger Reformator und Freund von Bullinger, war in Basel tätig und spielte eine bedeutende Rolle in der Verbreitung der reformatorischen Ideen in der Region.</note>\n",
      "<note xml:id=\"fn4\" type=\"footnote\" n=\"4\">Myconius, ein wichtiger Reformator und Freund von Bullinger, war in Basel tätig und spielte eine bedeutende Rolle in der Verbreitung der reformatorischen Ideen in der Region.</note>\n",
      "<note xml:id=\"fn4\" type=\"footnote\" n=\"4\">Myconius, ein wichtiger Reformator und Freund von Bullinger, war in Basel tätig und spielte eine zentrale Rolle in der Verbreitung der reformatorischen Ideen in der Region.</note>\n",
      "<note xml:id=\"fn4\" type=\"footnote\" n=\"4\">Myconius, ein wichtiger Reformator und Freund von Bullinger, war in Basel tätig und spielte eine zentrale Rolle in der Verbreitung der reformatorischen Ideen in der Region.</note>\n",
      "<note xml:id=\"fn4\" type=\"footnote\" n=\"4\">Myconius, ein wichtiger Reformator und Freund von Bullinger, war in Basel tätig und spielte eine zentrale Rolle in der Verbreitung der reformatorischen Ideen in der Region.</note>\n",
      "<note xml:id=\"fn4\" type=\"footnote\" n=\"4\">Myconius, ein wichtiger Reformator und Freund von Bullinger, war in Basel tätig und spielte eine zentrale Rolle in der Verbreitung der reformatorischen Ideen in der Region.</note>\n"
     ]
    }
   ],
   "source": [
    "model = OpenAiModels(\"gpt-4o-mini-2024-07-18\", api_key)\n",
    "tokens = []\n",
    "for i in range(10):\n",
    "    text, in_toks, out_toks = model.generate(icl_prompt(text1))\n",
    "    tokens.append((in_toks, out_toks))\n",
    "    print(text)\n"
   ]
  },
  {
   "cell_type": "code",
   "execution_count": null,
   "metadata": {},
   "outputs": [],
   "source": []
  },
  {
   "cell_type": "code",
   "execution_count": 25,
   "metadata": {},
   "outputs": [
    {
     "data": {
      "text/plain": [
       "0.0033066000000000003"
      ]
     },
     "execution_count": 25,
     "metadata": {},
     "output_type": "execute_result"
    }
   ],
   "source": [
    "calculate_openai_cost(tokens, (0.3,1.2))"
   ]
  },
  {
   "cell_type": "markdown",
   "metadata": {},
   "source": [
    "#### Test 2\n",
    "leaving one footnote out. Not optimal result and also more expensive?"
   ]
  },
  {
   "cell_type": "code",
   "execution_count": 26,
   "metadata": {},
   "outputs": [],
   "source": [
    "import re\n",
    "import pandas as pd\n",
    "\n",
    "def footnote_regex(n):\n",
    "  matching_string = (fr\"( ?<note [^>]*? type=\\\"footnote\\\" n=\\\"{n}\\\">)\" # matching group 1: the opening tag\n",
    "                  r\"(.*?(?=<\\/note>))\"  # matching group 2 everything up until the closing tag (positive lookup!! no matching group!!)\n",
    "                  r\"(<\\/note>)\"  # matching group 3: the endtag\n",
    "  )\n",
    "  return matching_string\n",
    "\n",
    "def remove_footnote_content(text, n):\n",
    "  \"\"\"remove all content from the footnote n=\"n\" \"\"\"\n",
    "  return re.sub(footnote_regex(n), r\"\\1\\3\", text)\n",
    "\n",
    "def get_footnote_content(text, n):\n",
    "  \"\"\"get the content of a FN\"\"\"\n",
    "  return re.search(footnote_regex(n), text).group(2)\n",
    "\n",
    "\n",
    "ICL_SYSTEM_PROMPT = \"Du bist Historiker und hast dich auf die Reformation spezialisiert. Gerade arbeitest du daran Briefe von Heinrich Bullinger zu edieren. Vervolständige die Inhaltlichen Fussnoten.\"\n",
    "\n",
    "def HISTORIAN_PROMPT(text, n):\n",
    "  return f\"Bitte schlage mir einen Text für Fussnote n={n} in folgendem Dokument vor:\\n\\n{text}\"\n",
    "\n",
    "def instruct_prompt_fill_in(letter, n, example=(11130, 7)):\n",
    "  \"\"\"\n",
    "  param text: Letter TEI\n",
    "  param n: Footnote to generate\n",
    "  example: letter_id and FN to give as an example, 12342 is from the dev-set...\"\"\"\n",
    "\n",
    "  # find a good example letter, to put as icl prompt...\n",
    "  # get the letter\n",
    "  example_letter_id, example_n = example\n",
    "  with open(f\"../../data/downsized_letters/{example_letter_id}.xml\") as infile:\n",
    "    example_letter = infile.read()\n",
    "\n",
    "  messages = [\n",
    "      {\"role\": \"system\", \"content\": ICL_SYSTEM_PROMPT},\n",
    "      {\"role\": \"user\", \"content\": HISTORIAN_PROMPT(remove_footnote_content(example_letter, example_n), example_n)},\n",
    "      {\"role\": \"assistant\", \"content\": get_footnote_content(example_letter, example_n)},\n",
    "      {\"role\": \"user\", \"content\": HISTORIAN_PROMPT(letter, n)}\n",
    "  ]\n",
    "\n",
    "  return messages\n",
    "\n",
    "\n",
    "\n",
    "# test letter\n",
    "letter_id = 10224\n",
    "\n",
    "\n",
    "footnote_df = pd.read_csv(\"../../data/footnote_downsized_df.csv\")\n",
    "# get the letter\n",
    "with open(f\"../../data/downsized_letters/{letter_id}.xml\") as infile:\n",
    "  letter = infile.read()\n"
   ]
  },
  {
   "cell_type": "code",
   "execution_count": 14,
   "metadata": {},
   "outputs": [
    {
     "data": {
      "text/plain": [
       "[{'role': 'system',\n",
       "  'content': 'Du bist Historiker und hast dich auf die Reformation spezialisiert. Gerade arbeitest du daran Briefe von Heinrich Bullinger zu edieren.'},\n",
       " {'role': 'user',\n",
       "  'content': 'Bitte schlage mir einen Text für Fussnote n=7 in folgendem Dokument vor:\\n\\n<TEI xmlns=\"http://www.tei-c.org/ns/1.0\" xml:id=\"file11130\" type=\"Brief\" source=\"HBBW-8\" n=\"1087\">\\n\\t<teiHeader xml:lang=\"de\">\\n\\t\\t<fileDesc>\\n\\t\\t\\t<titleStmt>\\n\\t\\t\\t\\t<title subtype=\"file\">Andreas Bodenstein an Heinrich Bullinger, [Anfang] Januar 1538</title>\\n\\t\\t\\t</titleStmt>\\n\\t\\t\\t<publicationStmt>\\n\\t\\t\\t\\t<authority>Universität Zürich</authority>\\n\\t\\t\\t\\t</publicationStmt>\\n\\t\\t\\t<sourceDesc>\\n\\t\\t\\t\\t<bibl type=\"scan\">Zürich StA</bibl>\\n\\t\\t\\t\\t</sourceDesc>\\n\\t\\t</fileDesc>\\n\\t\\t</teiHeader>\\n\\t<text xml:lang=\"la\">\\n\\t\\t<body>\\n\\t\\t\\t<div xml:id=\"div1\" corresp=\"regest1\">\\n\\t\\t\\t\\t<p>\\n\\t\\t\\t\\t\\t<s n=\"1\" xml:lang=\"la\" type=\"auto\">S.</s>\\n\\t\\t\\t\\t\\t<s n=\"2\" xml:lang=\"la\" type=\"auto\">Tot obsequiis totque beneficiis iisdemque pleniss[imis] demeritus es me, vir et ornatissime et eruditissime, ut peccare me fateor multa, nisi tuis precibus acquiesco tuęque pię voluntati neutiquam desum.</s>\\n\\t\\t\\t\\t\\t<s n=\"3\" xml:lang=\"la\" type=\"auto\">Equidem et debeo et volo rem factu longe difficiliorem subire, neque unquam defessum senties, tantum abest, ut nunc non obsequar, at quando negocium vel unum [a] me confici non potest, minime mihi adscribendum, quod in alio situm est.</s>\\n\\t\\t\\t\\t\\t<s n=\"4\" xml:lang=\"la\" type=\"auto\">Proinde quando <persName ref=\"p6674\" cert=\"high\">Stapferi</persName> voluntas cum mea debeat neque possit neque velit convenire, non difficile cernes caput inobediencię.</s>\\n\\t\\t\\t\\t\\t<s n=\"5\" xml:lang=\"la\" type=\"auto\">Egressus is est domo, libros et alia extulit; citra notationem mei ęgre revocabitur, praesertim cum sciam illum iactaturum me suę pecunię adeo cupidum et ex ea tanto opere saginari posse, ut eius fiducia retractem ad me.</s>\\n\\t\\t\\t\\t\\t<s n=\"6\" xml:lang=\"la\" type=\"auto\">Id colligo ex anteactis opprobriis, siquidem pecuniam suam toties uxori<note xml:id=\"fn3\" type=\"footnote\" n=\"3\"><persName ref=\"p7589\" cert=\"high\">Anna Karlstadt, geb. von Mochau</persName>.</note> et filiis<note xml:id=\"fn4\" type=\"footnote\" n=\"4\">Siehe unten Anm. 12.</note> exprobravit, quasi nos ex ea vivere necesse sit ipseque de beneficencia donet.</s>\\n\\t\\t\\t\\t\\t<s n=\"7\" xml:lang=\"la\" type=\"auto\">Equidem autem certus sum ipsum 26 fl. non assecuturum, quae ego contemplatione tui et aliorum (qui pro eo intercesserunt) in illum contuli.</s>\\n\\t\\t\\t\\t\\t<s n=\"8\" xml:lang=\"la\" type=\"auto\">Is enim[?] spaciosum lectulum unus subinde nisus est occupare pecuniam obiectans.</s>\\n\\t\\t\\t\\t\\t<s n=\"9\" xml:lang=\"la\" type=\"auto\">Verum caussam diversionis eius paucis accipe.</s>\\n\\t\\t\\t\\t\\t<s n=\"10\" xml:lang=\"la\" type=\"auto\">Est nobis doctor quidam medicinę, cui <persName ref=\"p6618\" cert=\"high\">Sebastiano</persName> nomen, qui Latine, Gręce, Hebraice mire doctus existit.</s>\\n\\t\\t\\t\\t\\t<s n=\"11\" xml:lang=\"la\" type=\"auto\">Huius<pb type=\"edition\" next=\"26\"/> uxor<note xml:id=\"fn6\" type=\"footnote\" n=\"6\"><persName ref=\"p6616\" cert=\"high\">Elisabeth Sinckeler, geb. Wyßhärin</persName>; vgl. <persName ref=\"p164\" cert=\"high\">Amerbach</persName>, Korr. IV ff, Reg.</note> et filia<note xml:id=\"fn7\" type=\"footnote\" n=\"7\"></note> invisere meam coniugem valitudine haud optima constitutam.</s>\\n\\t\\t\\t\\t\\t<s n=\"12\" xml:lang=\"la\" type=\"auto\">Fuit autem mea in hipocausto oppido angusto unam duntaxat tabulam capiente.</s>\\n\\t\\t\\t\\t\\t<s n=\"13\" xml:lang=\"la\" type=\"auto\">Eo cum venissent, ingredior excepturus.</s>\\n\\t\\t\\t\\t\\t<s n=\"14\" xml:lang=\"la\" type=\"auto\">Exceptis eis iussi <persName ref=\"p6674\" cert=\"high\">Stapfero</persName> hospitibus cedere, quod is meliorem mensę partem occupavit, unde peiore loco honestas hospites sedere oportebat.</s>\\n\\t\\t\\t\\t\\t<s n=\"15\" xml:lang=\"la\" type=\"auto\">Abii; putabam cessurum.</s>\\n\\t\\t\\t\\t\\t<s n=\"16\" xml:lang=\"la\" type=\"auto\">Tandem honestatis gracia rediens eodem in loco <persName ref=\"p6674\" cert=\"high\">Stapferum</persName> video sedere et libros compingere, quem non sine stomacho rursus iubeo in suum hypocaustum abire, sed respondit doctoris uxorem permisisse.</s>\\n\\t\\t\\t\\t\\t<s n=\"17\" xml:lang=\"la\" type=\"auto\">Itaque locum occupatum mordicus detinet, neque hoc contentus, nam me in lectionem profecto nidore bituminis incipit molestare contubernium.</s>\\n\\t\\t\\t\\t\\t<s n=\"18\" xml:lang=\"la\" type=\"auto\">Hec et alia de lectione reversus audiens indigne tuli et dixi flagitium tale non modo cum literis sacrosanctis, sed cum legibus pugnare, imo contra naturam, adeoque sacius esse ipsum carere literis quam has socias facinorum facere.</s>\\n\\t\\t\\t\\t\\t<s n=\"19\" xml:lang=\"la\" type=\"auto\">Hic autem sic movebatur, ut ilico sibi providebat, imo me iniuria nova et acri affecit.</s>\\n\\t\\t\\t\\t\\t<s n=\"20\" xml:lang=\"la\" type=\"auto\">Itaque invitum et reluctantem non putavi diutius retinendum, quamquam parum licere putarem ei, quem curatoris<note xml:id=\"fn8\" type=\"footnote\" n=\"8\">Als Vogt <persName ref=\"p6674\" cert=\"high\">Heinrich Stapfers</persName> amtierte <persName ref=\"p5544\" cert=\"high\">Gebhart Krüttli</persName>, s. Zürich StA, B VI 334, 140v.-141r. 204r.</note> autoritate tuoque interventu suscepi, vobis ignorantibus permittere discessum.</s>\\n\\t\\t\\t\\t\\t<s n=\"21\" xml:lang=\"la\" type=\"auto\">Poteris ex hisce ipse colligere, quas turbas daturus esset, si reciperem, neque dubito te sic <persName ref=\"p6674\" cert=\"high\">Stapfero</persName> favere, ut mihi tranquillitatem non invideas.</s>\\n\\t\\t\\t\\t\\t<s n=\"22\" xml:lang=\"la\" type=\"auto\">Pręstat itaque, ut alibi sit, cum mihi sit honestum et utile eius ab commercio abstinere.</s>\\n\\t\\t\\t\\t\\t<s n=\"23\" xml:lang=\"la\" type=\"auto\">Si mansisset mecum, lubens auscultarem tibi praecipienti, cui inservire iucundum est.</s>\\n\\t\\t\\t\\t</p>\\n\\t\\t\\t\\t<p>\\n\\t\\t\\t\\t\\t<s n=\"24\" xml:lang=\"la\" type=\"auto\">Vale felicissime.</s>\\n\\t\\t\\t\\t\\t<s n=\"25\" xml:lang=\"la\" type=\"auto\">Uxorem tuam<note xml:id=\"fn9\" type=\"footnote\" n=\"9\"><persName ref=\"p8051\" cert=\"high\">Anna, geb. Adlischwyler</persName>.</note> atque matrem<note xml:id=\"fn10\" type=\"footnote\" n=\"10\"><persName ref=\"p7042\" cert=\"high\">Anna, geb. Wiederkehr</persName>.</note> et liberos<note xml:id=\"fn11\" type=\"footnote\" n=\"11\">Vgl. <bibl>HBBW VI</bibl> <ref target=\"file10782\">[Nr. 744]</ref>, S. 124, Anm. 34, sowie die folgende Anm.</note> saluta.</s>\\n\\t\\t\\t\\t\\t<s n=\"26\" xml:lang=\"la\" type=\"auto\">Gaudeo te numerum exęquasse nostrum liberum et tuam tibi felicitatem omnem congratulor.</s>\\n\\t\\t\\t\\t\\t<s n=\"27\" xml:lang=\"la\" type=\"auto\">Saluta dominos meos praeceptores et fratres.<pb type=\"edition\" next=\"27\"/></s>\\n\\t\\t\\t\\t</p>\\n\\t\\t\\t\\t<p>\\n\\t\\t\\t\\t\\t<s n=\"28\" xml:lang=\"la\" type=\"auto\"><placeName ref=\"l28\" cert=\"high\">Basileę</placeName>, celeriter, die ianuarii anno 38.</s>\\n\\t\\t\\t\\t\\t<s n=\"29\" xml:lang=\"la\" type=\"auto\">Tuus obsequibilis</s>\\n\\t\\t\\t\\t</p>\\n\\t\\t\\t\\t<p>\\n\\t\\t\\t\\t\\t<s n=\"30\" xml:lang=\"la\" type=\"auto\">And. <persName ref=\"p4349\" cert=\"high\">Carolostadius</persName>.</s>\\n\\t\\t\\t\\t</p>\\n\\t\\t\\t\\t<p>\\n\\t\\t\\t\\t\\t<note type=\"address\">[Adresse auf der Rückseite:]</note>\\n\\t\\t\\t\\t\\t<s n=\"31\" xml:lang=\"la\" type=\"auto\">Pręclarissimo et doctissimo viro d. Henrico Bullingero, ecclesiastarum precipuo Tiguri, patrono suo venerando in domino semper.</s>\\n\\t\\t\\t\\t</p>\\n\\t\\t\\t</div>\\n\\t\\t</body>\\n\\t</text>\\n</TEI>\\n'},\n",
       " {'role': 'assistant',\n",
       "  'content': 'Gemeint ist wohl Fides, die als einziges von sechs Kindern <persName ref=\"p6616\" cert=\"high\">Sinckelers</persName> erwachsen wurde und um 1540 <persName ref=\"p4939\" cert=\"high\">Jakob Müller (gen. Gerster)</persName> heiratete; vgl. <persName ref=\"p164\" cert=\"high\">Amerbach</persName>, Korr. IV ff, Reg.'},\n",
       " {'role': 'user',\n",
       "  'content': 'Bitte schlage mir einen Text für Fussnote n=3 in folgendem Dokument vor:\\n\\n<TEI xmlns=\"http://www.tei-c.org/ns/1.0\" xml:id=\"file10224\" type=\"Brief\" source=\"HBBW-3\" n=\"193\">\\n\\t<teiHeader xml:lang=\"de\">\\n\\t\\t<fileDesc>\\n\\t\\t\\t<titleStmt>\\n\\t\\t\\t\\t<title subtype=\"file\">Konrad Geßner, Johannes Fries / Basel an Heinrich Bullinger, 25. Februar [1533]</title>\\n\\t\\t\\t</titleStmt>\\n\\t\\t\\t<publicationStmt>\\n\\t\\t\\t\\t<authority>Universität Zürich</authority>\\n\\t\\t\\t\\t</publicationStmt>\\n\\t\\t\\t<sourceDesc>\\n\\t\\t\\t\\t</sourceDesc>\\n\\t\\t</fileDesc>\\n\\t\\t</teiHeader>\\n\\t<text xml:lang=\"la\">\\n\\t\\t<body>\\n\\t\\t\\t<div xml:id=\"div1\" corresp=\"regest1\">\\n\\t\\t\\t\\t<p>\\n\\t\\t\\t\\t\\t<s n=\"1\" xml:lang=\"la\" type=\"auto\">Optimo et integerrimo viro M. Henrico Bullingero, mecaenati charissimo.</s>\\n\\t\\t\\t\\t</p>\\n\\t\\t\\t\\t<p>\\n\\t\\t\\t\\t\\t<s n=\"2\" xml:lang=\"la\" type=\"auto\">S.</s>\\n\\t\\t\\t\\t\\t<s n=\"3\" xml:lang=\"la\" type=\"auto\">Impediunt nos ab itinere<note xml:id=\"fn3\" type=\"footnote\" n=\"3\"><persName ref=\"p1283\" cert=\"high\">Geßner</persName> und <persName ref=\"p1214\" cert=\"high\">Fries</persName> befanden sich auf dem Weg nach <placeName ref=\"l59\" cert=\"high\">Bourges</placeName>.</note> nives, pluvia et ventorum vis.</s>\\n\\t\\t\\t\\t\\t<s n=\"4\" xml:lang=\"la\" type=\"auto\"><placeName ref=\"l28\" cert=\"high\">Basileae</placeName> apud <persName ref=\"p8418\" cert=\"high\">Myconium</persName><note xml:id=\"fn4\" type=\"footnote\" n=\"4\"><persName ref=\"p1214\" cert=\"high\">Fries</persName> und <persName ref=\"p1283\" cert=\"high\">Geßner</persName> waren in einem Brief <persName ref=\"p8127\" cert=\"high\">Pellikans</persName> vom 19. Februar 1533 an <persName ref=\"p8418\" cert=\"high\">Myconius</persName> empfohlen worden (Zürich StA, E II 358, 98).</note> sine sumtu moramur sudum coelum et tempestatem mitiorem expectantes.</s>\\n\\t\\t\\t\\t\\t<s n=\"5\" xml:lang=\"la\" type=\"auto\">Nivibus obrutae sunt viae omnes, montes praesertim, per quos nulla itinera nunc patent.</s>\\n\\t\\t\\t\\t\\t<s n=\"6\" xml:lang=\"la\" type=\"auto\">Maxime tamen omnium nos detinet, quod Gallos et alios quosdam itineris comites facturos brevi hic invenimus.</s>\\n\\t\\t\\t\\t\\t<s n=\"7\" xml:lang=\"la\" type=\"auto\">Tuam humanitatem rogamus literas nobis a senatu poscat Tigurinos nos esse et a Tigurino senatu propter studia ablegatos.</s>\\n\\t\\t\\t\\t\\t<s n=\"8\" xml:lang=\"la\" type=\"auto\">Ita enim docti plerique consuluerunt, quo nobis tutioribus esse liceat.</s>\\n\\t\\t\\t\\t\\t<s n=\"9\" xml:lang=\"la\" type=\"auto\">Ne nos negligas etiam atque etiam oramus poscimusque.</s>\\n\\t\\t\\t\\t\\t<s n=\"10\" xml:lang=\"la\" type=\"auto\">Si dederis operam, facile impetrabis.</s>\\n\\t\\t\\t\\t\\t<s n=\"11\" xml:lang=\"la\" type=\"auto\">Literis nos acceptis<note xml:id=\"fn6\" type=\"footnote\" n=\"6\">Nach Aussage von <persName ref=\"p8398\" cert=\"high\">Konrad Klauser</persName> haben <persName ref=\"p1283\" cert=\"high\">Geßner</persName> und <persName ref=\"p1214\" cert=\"high\">Fries</persName> die gewünschten Empfehlungsschreiben offenbar erhalten (s. unten <ref target=\"file10226\">[Nr. 195]</ref> S. 77, 5). Auffindbar sind sie jedoch nicht mehr.</note> quamprimum cum comitibus maturabimus iter.</s>\\n\\t\\t\\t\\t</p>\\n\\t\\t\\t\\t<p>\\n\\t\\t\\t\\t\\t<s n=\"12\" xml:lang=\"la\" type=\"auto\">Vale et nos tibi commendatos habe.</s>\\n\\t\\t\\t\\t</p>\\n\\t\\t\\t\\t<p>\\n\\t\\t\\t\\t\\t<s n=\"13\" xml:lang=\"la\" type=\"auto\"><placeName ref=\"l28\" cert=\"high\">Basileae</placeName> in aedibus <persName ref=\"p8418\" cert=\"high\">Myconii</persName>, februarii 25.</s>\\n\\t\\t\\t\\t</p>\\n\\t\\t\\t\\t<p>\\n\\t\\t\\t\\t\\t<s n=\"14\" xml:lang=\"la\" type=\"auto\"><persName ref=\"p1214\" cert=\"high\">Ioannes Frisius</persName> et <persName ref=\"p1283\" cert=\"high\">C. Gesnerus</persName> tui toti.</s>\\n\\t\\t\\t\\t</p>\\n\\t\\t\\t</div>\\n\\t\\t</body>\\n\\t</text>\\n</TEI>\\n'}]"
      ]
     },
     "execution_count": 14,
     "metadata": {},
     "output_type": "execute_result"
    }
   ],
   "source": [
    "instruct_prompt_fill_in(letter, 3)"
   ]
  },
  {
   "cell_type": "code",
   "execution_count": 15,
   "metadata": {},
   "outputs": [
    {
     "name": "stdout",
     "output_type": "stream",
     "text": [
      "Die Reise von Geßner und Fries nach Bourges war Teil ihrer Bemühungen, an der dortigen Universität zu studieren und sich mit anderen Gelehrten auszutauschen. Bourges war zu dieser Zeit ein Zentrum humanistischer Studien und zog viele Intellektuelle an, die sich mit den reformatorischen Ideen auseinandersetzten.\n",
      "Die Reise von Geßner und Fries nach Bourges war Teil ihrer Bemühungen, an der dortigen Universität zu studieren und sich mit anderen Gelehrten auszutauschen. Bourges war zu dieser Zeit ein Zentrum humanistischer Studien und zog viele Intellektuelle an, die sich mit den Ideen der Reformation und der klassischen Antike auseinandersetzten.\n"
     ]
    }
   ],
   "source": [
    "tokens = []\n",
    "for i in range(10):\n",
    "    text, in_toks, out_toks = model.generate(instruct_prompt_fill_in(letter, 3))\n",
    "    tokens.append((in_toks, out_toks))\n",
    "    print(text)"
   ]
  },
  {
   "cell_type": "code",
   "execution_count": 16,
   "metadata": {},
   "outputs": [
    {
     "data": {
      "text/plain": [
       "0.0024186"
      ]
     },
     "execution_count": 16,
     "metadata": {},
     "output_type": "execute_result"
    }
   ],
   "source": [
    "calculate_openai_cost(tokens, (0.3,1.2))"
   ]
  },
  {
   "cell_type": "markdown",
   "metadata": {},
   "source": [
    "#### Test 3\n",
    "giving the empty letter, with one FN as an example"
   ]
  },
  {
   "cell_type": "code",
   "execution_count": 27,
   "metadata": {},
   "outputs": [],
   "source": [
    "def instruct_prompt_no_fns(letter, n, example_n=None):\n",
    "  \"\"\"\n",
    "  param text: Letter TEI\n",
    "  param n: Footnote to generate\n",
    "  example: letter_id and FN to give as an example, 12342 is from the dev-set...\"\"\"\n",
    "\n",
    "    # footnotes of that letter\n",
    "  footnote_df_letter = footnote_df[footnote_df[\"letter_id\"] == letter_id]\n",
    "\n",
    "  letter_no_fns = letter\n",
    "\n",
    "  # removing all FNs\n",
    "  for footnote in footnote_df_letter.iloc:  # Maybe we'll have to take care of the labels here...\n",
    "    letter_no_fns = remove_footnote_content(letter_no_fns, footnote[\"n_footnote\"])\n",
    "\n",
    "\n",
    "  messages = [\n",
    "      {\"role\": \"system\", \"content\": ICL_SYSTEM_PROMPT},\n",
    "  ]\n",
    "\n",
    "  # add example if specified\n",
    "  if example_n:\n",
    "    messages.append({\"role\": \"user\", \"content\": HISTORIAN_PROMPT(letter_no_fns, example_n)},)\n",
    "    messages.append({\"role\": \"assistant\", \"content\": get_footnote_content(letter, example_n)})\n",
    "\n",
    "  # add prompt for generation\n",
    "  messages.append({\"role\": \"user\", \"content\": HISTORIAN_PROMPT(letter_no_fns, n)})\n",
    "\n",
    "  return messages"
   ]
  },
  {
   "cell_type": "markdown",
   "metadata": {},
   "source": [
    "zero shot, wacky"
   ]
  },
  {
   "cell_type": "code",
   "execution_count": 50,
   "metadata": {},
   "outputs": [
    {
     "name": "stdout",
     "output_type": "stream",
     "text": [
      "Für die Fußnote n=3 könnte folgender Text vorgeschlagen werden:\n",
      "\n",
      "\"Die widrigen Wetterbedingungen, insbesondere Schnee, Regen und starker Wind, hindern uns an der Weiterreise.\"\n",
      "Für die Fußnote n=3 könnte folgender Text vorgeschlagen werden:\n",
      "\n",
      "\"Die widrigen Wetterbedingungen, insbesondere Schnee, Regen und starker Wind, hindern uns an der Weiterreise.\"\n",
      "Für die Fußnote n=3 könnte folgender Text vorgeschlagen werden:\n",
      "\n",
      "\"Die widrigen Wetterbedingungen, insbesondere Schnee, Regen und starker Wind, hindern uns an der Weiterreise.\"\n",
      "Für die Fußnote n=3 könnte folgender Text vorgeschlagen werden:\n",
      "\n",
      "\"Die widrigen Wetterbedingungen, insbesondere Schnee, Regen und starker Wind, hindern uns an der Weiterreise.\"\n",
      "Für die Fußnote n=3 könnte folgender Text vorgeschlagen werden:\n",
      "\n",
      "\"Die widrigen Wetterbedingungen, insbesondere Schnee, Regen und starker Wind, hindern uns an der Weiterreise.\"\n",
      "Für die Fußnote n=3 könnte folgender Text vorgeschlagen werden:\n",
      "\n",
      "\"Die widrigen Wetterbedingungen, insbesondere Schnee, Regen und starker Wind, hindern uns an der Weiterreise.\"\n",
      "Für die Fußnote n=3 könnte folgender Text vorgeschlagen werden:\n",
      "\n",
      "\"Die widrigen Wetterbedingungen, insbesondere Schnee, Regen und starker Wind, hindern uns an der Weiterreise.\"\n",
      "Für die Fußnote n=3 könnte folgender Text vorgeschlagen werden:\n",
      "\n",
      "\"Die widrigen Wetterbedingungen, insbesondere Schnee, Regen und starker Wind, hindern uns an der Weiterreise.\"\n",
      "Für die Fußnote n=3 könnte folgender Text vorgeschlagen werden:\n",
      "\n",
      "\"Die widrigen Wetterbedingungen, insbesondere Schnee, Regen und starker Wind, hindern uns an der Weiterreise.\"\n",
      "Für die Fußnote n=3 könnte folgender Text vorgeschlagen werden:\n",
      "\n",
      "\"Die widrigen Wetterbedingungen, insbesondere Schnee, Regen und starker Wind, hindern uns an der Weiterreise.\"\n"
     ]
    }
   ],
   "source": [
    "tokens = []\n",
    "for i in range(10):\n",
    "    text, in_toks, out_toks = model.generate(instruct_prompt_no_fns(letter, 3))\n",
    "    tokens.append((in_toks, out_toks))\n",
    "    print(text)"
   ]
  },
  {
   "cell_type": "code",
   "execution_count": 51,
   "metadata": {},
   "outputs": [
    {
     "data": {
      "text/plain": [
       "0.03447"
      ]
     },
     "execution_count": 51,
     "metadata": {},
     "output_type": "execute_result"
    }
   ],
   "source": [
    "calculate_openai_cost(tokens, (3,6))"
   ]
  },
  {
   "cell_type": "code",
   "execution_count": 28,
   "metadata": {},
   "outputs": [
    {
     "name": "stdout",
     "output_type": "stream",
     "text": [
      "<note xml:id=\"fn4\" type=\"footnote\" n=\"4\">Myconius, ein bekannter Humanist und Reformator, war zu dieser Zeit in Basel aktiv und spielte eine wichtige Rolle in der reformatorischen Bewegung. Die Erwähnung seiner Person deutet auf die enge Verbindung zwischen den Reformatoren und den humanistischen Kreisen in Basel hin.</note>\n",
      "<note xml:id=\"fn4\" type=\"footnote\" n=\"4\">Myconius, ein bekannter Humanist und Reformator, war zu dieser Zeit in Basel aktiv und spielte eine wichtige Rolle in der reformatorischen Bewegung. Die Erwähnung seiner Wohnstätte deutet auf die enge Verbindung zwischen den Reformatoren und den humanistischen Kreisen in Basel hin.</note>\n",
      "<note xml:id=\"fn4\" type=\"footnote\" n=\"4\">Myconius, ein bekannter Humanist und Reformator, war zu dieser Zeit in Basel aktiv und spielte eine wichtige Rolle in der reformatorischen Bewegung. Die Erwähnung seiner Wohnstätte deutet auf die enge Verbindung zwischen den Reformatoren und den humanistischen Kreisen in Basel hin.</note>\n",
      "<note xml:id=\"fn4\" type=\"footnote\" n=\"4\">Myconius, ein bekannter Humanist und Reformator, war zu dieser Zeit in Basel aktiv und spielte eine wichtige Rolle in der reformatorischen Bewegung. Die Erwähnung seiner Wohnstätte deutet auf die enge Verbindung zwischen den Reformatoren und den humanistischen Kreisen in Basel hin.</note>\n",
      "<note xml:id=\"fn4\" type=\"footnote\" n=\"4\">Myconius, ein bekannter Humanist und Reformator, war zu dieser Zeit in Basel tätig und spielte eine wichtige Rolle in der reformatorischen Bewegung. Die Erwähnung seiner Wohnstätte deutet auf die enge Verbindung zwischen den Reformatoren und den humanistischen Kreisen in Basel hin.</note>\n",
      "<note xml:id=\"fn4\" type=\"footnote\" n=\"4\">Myconius, ein bekannter Humanist und Reformator, war zu dieser Zeit in Basel aktiv und spielte eine wichtige Rolle in der reformatorischen Bewegung. Die Erwähnung seiner Wohnstätte deutet auf die enge Verbindung zwischen den Reformatoren und den humanistischen Kreisen in Basel hin.</note>\n",
      "<note xml:id=\"fn4\" type=\"footnote\" n=\"4\">Myconius, ein bekannter Humanist und Reformator, war zu dieser Zeit in Basel aktiv und spielte eine wichtige Rolle in der reformatorischen Bewegung. Die Erwähnung seiner Wohnstätte deutet auf die enge Verbindung zwischen den Reformatoren und den humanistischen Kreisen in Basel hin.</note>\n",
      "<note xml:id=\"fn4\" type=\"footnote\" n=\"4\">Myconius, ein bekannter Humanist und Reformator, war zu dieser Zeit in Basel aktiv und spielte eine wichtige Rolle in der reformatorischen Bewegung. Die Erwähnung seiner Wohnstätte deutet auf die enge Verbindung zwischen den Reformatoren und den humanistischen Kreisen in Basel hin.</note>\n",
      "<note xml:id=\"fn4\" type=\"footnote\" n=\"4\">Myconius, ein bekannter Humanist und Reformator, war zu dieser Zeit in Basel aktiv und spielte eine wichtige Rolle in der reformatorischen Bewegung. Die Erwähnung seiner Wohnstätte deutet auf die enge Verbindung zwischen den Reformatoren und den humanistischen Kreisen in Basel hin.</note>\n",
      "<note xml:id=\"fn4\" type=\"footnote\" n=\"4\">Myconius, ein bekannter Humanist und Reformator, war zu dieser Zeit in Basel aktiv und spielte eine wichtige Rolle in der reformatorischen Bewegung. Die Erwähnung seiner Wohnstätte deutet auf die enge Verbindung zwischen den Reformatoren und den humanistischen Kreisen in Basel hin.</note>\n"
     ]
    }
   ],
   "source": [
    "tokens = []\n",
    "for i in range(10):\n",
    "    text, in_toks, out_toks = model.generate(instruct_prompt_no_fns(letter, 4, example_n=3))\n",
    "    tokens.append((in_toks, out_toks))\n",
    "    print(text)\n",
    "    "
   ]
  },
  {
   "cell_type": "code",
   "execution_count": 29,
   "metadata": {},
   "outputs": [
    {
     "data": {
      "text/plain": [
       "0.006931800000000001"
      ]
     },
     "execution_count": 29,
     "metadata": {},
     "output_type": "execute_result"
    }
   ],
   "source": [
    "calculate_openai_cost(tokens, (0.3,1.2))"
   ]
  },
  {
   "cell_type": "markdown",
   "metadata": {},
   "source": [
    "#### test 4\n",
    "GPT can easily handle the long letter"
   ]
  },
  {
   "cell_type": "code",
   "execution_count": 54,
   "metadata": {},
   "outputs": [],
   "source": [
    "# test letter\n",
    "letter_id = 12260\n",
    "\n",
    "\n",
    "footnote_df = pd.read_csv(\"../../data/footnote_df.csv\")\n",
    "# get the letter\n",
    "with open(f\"../../data/human/{letter_id}.xml\") as infile:\n",
    "  letter = infile.read()"
   ]
  },
  {
   "cell_type": "code",
   "execution_count": 57,
   "metadata": {},
   "outputs": [
    {
     "data": {
      "text/plain": [
       "[{'role': 'system',\n",
       "  'content': 'You are a research assistant for a historian, specialized on the European reformation working on an edition of the correspondence of Heinrich Bullinger. Given a letter in TEI format, your task is to complete the missing footnote'},\n",
       " {'role': 'user',\n",
       "  'content': 'Bitte schlage mir einen Text für Fussnote n=9 in folgendem Dokument vor:\\n\\n<TEI xmlns=\"http://www.tei-c.org/ns/1.0\" xml:id=\"file12260\" type=\"Brief\" source=\"HBBW-15\" n=\"2213\">\\n\\t<teiHeader xml:lang=\"de\">\\n\\t\\t<fileDesc>\\n\\t\\t\\t<titleStmt>\\n\\t\\t\\t\\t<title subtype=\"file\">Matthias Erb / Reichenweier an Heinrich Bullinger, 11. August [1545]</title>\\n\\t\\t\\t</titleStmt>\\n\\t\\t\\t<publicationStmt>\\n\\t\\t\\t\\t<authority>Universität Zürich</authority>\\n\\t\\t\\t\\t</publicationStmt>\\n\\t\\t\\t<sourceDesc>\\n\\t\\t\\t\\t<bibl type=\"scan\">Zürich StA</bibl>\\n\\t\\t\\t\\t</sourceDesc>\\n\\t\\t</fileDesc>\\n\\t\\t</teiHeader>\\n\\t<text xml:lang=\"la\">\\n\\t\\t<body>\\n\\t\\t\\t<div xml:id=\"div1\" corresp=\"regest1\">\\n\\t\\t\\t\\t<p>\\n\\t\\t\\t\\t\\t<s n=\"1\" xml:lang=\"la\" type=\"auto\">Gratia domini tecum.</s>\\n\\t\\t\\t\\t\\t<s n=\"2\" xml:lang=\"la\" type=\"auto\">Quum decima augusti<note xml:id=\"fn2\" type=\"footnote\" n=\"2\"></note> e suggestu descendissem me actutum a templo ad aulam conferens (vocatus scilicet a cancellario<note xml:id=\"fn3\" type=\"footnote\" n=\"3\"></note> ob quędam negotia ecclesię componenda), venit hic tuus legatus<note xml:id=\"fn4\" type=\"footnote\" n=\"4\"></note> hora ferme nona et, dum in angiportu sisto gradum, servum<note xml:id=\"fn5\" type=\"footnote\" n=\"5\"></note> ad limina de <persName ref=\"p1010\" cert=\"high\">Erbio</persName> rogat, me vero oculis ostiario significante ne proderet, statim digito demonstrat dicens: „Hic est.“</s>\\n\\t\\t\\t\\t\\t<s n=\"3\" xml:lang=\"la\" type=\"auto\">Is ergo ad me veniens percunctatur, an mihi sit nomen <persName ref=\"p1010\" cert=\"high\">Erbio</persName>.</s>\\n\\t\\t\\t\\t\\t<s n=\"4\" xml:lang=\"la\" type=\"auto\">Aio.</s>\\n\\t\\t\\t\\t\\t<s n=\"5\" xml:lang=\"la\" type=\"auto\">Statimque litteras<note xml:id=\"fn6\" type=\"footnote\" n=\"6\"></note> depromens dicebat a te missas.</s>\\n\\t\\t\\t\\t\\t<s n=\"6\" xml:lang=\"la\" type=\"auto\">Acceptas legi simul obstupescens tuam, qui alias occupatissimus es, sedulitatem in describendis ex autographo copiis<note xml:id=\"fn7\" type=\"footnote\" n=\"7\"></note>.</s>\\n\\t\\t\\t\\t\\t<s n=\"7\" xml:lang=\"la\" type=\"auto\">Stans ergo attonitus et propemodum exanimis iussi adolescentem expectare, dum redeam, atque subinde inter tractatus et varias dissidentium quęstiones et tacite et indesinenter volvo ac revolvo intime, quę scripseras.</s>\\n\\t\\t\\t\\t\\t<s n=\"8\" xml:lang=\"la\" type=\"auto\">Absolutus a strepitu aulico eo cum adolescente pransum interque epulandum de singulis rebus percunctor, statim scilicet a mensa tibi responsurus.</s>\\n\\t\\t\\t\\t\\t<s n=\"9\" xml:lang=\"la\" type=\"auto\">Dum id meditor, alius adest nuntius<note xml:id=\"fn8\" type=\"footnote\" n=\"8\"></note> litteras ferens a principe<note xml:id=\"fn9\" type=\"footnote\" n=\"9\"></note>, in quibus multa mihi committuntur negotia principemque a comitiis<note xml:id=\"fn10\" type=\"footnote\" n=\"10\"></note> propediem rediturum pollicentes.</s>\\n\\t\\t\\t\\t\\t<s n=\"10\" xml:lang=\"la\" type=\"auto\">Hinc eo die, tametsi adolescens crebro urgeret abituriens, nil scripsi omnia in posterum, hoc est in hodiernum, reiiciens diem.</s>\\n\\t\\t\\t\\t\\t<s n=\"11\" xml:lang=\"la\" type=\"auto\">Haec de pueri tui diligentia.</s>\\n\\t\\t\\t\\t</p>\\n\\t\\t\\t\\t<p>\\n\\t\\t\\t\\t\\t<s n=\"12\" xml:lang=\"la\" type=\"auto\">Quod vero ad negotium adtinet, paucis haec accipe.</s>\\n\\t\\t\\t\\t\\t<s n=\"13\" xml:lang=\"la\" type=\"auto\">Fateor me iam annum quinquagesimum egressum<note xml:id=\"fn11\" type=\"footnote\" n=\"11\"></note>, et qui nunc in ea aetate sum, quę sedatior esse cupit, sepicule curas aulicas, quibus distringor,<pb type=\"scan\" next=\"257v.\"/> depręcatum, sed parum promovisse; imo, quo plus me expedire cupio, eo amplius perstringor dispendio et vitae et rerum.</s>\\n\\t\\t\\t\\t\\t<s n=\"14\" xml:lang=\"la\" type=\"auto\">Sic deo optimo maximo visum est.</s>\\n\\t\\t\\t\\t</p>\\n\\t\\t\\t\\t<p>\\n\\t\\t\\t\\t\\t<s n=\"15\" xml:lang=\"la\" type=\"auto\">Quod ad vitam, ut omnia manifestius depingam, subit tarda senectus,<note xml:id=\"fn12\" type=\"footnote\" n=\"12\"></note> quę difficilis incipit esse, sola non suffitiens laboribus, dum indies creberrime exantlatur.</s>\\n\\t\\t\\t\\t\\t<s n=\"16\" xml:lang=\"la\" type=\"auto\">Nullum habeo symmistam, ut nosti, opinor.</s>\\n\\t\\t\\t\\t\\t<s n=\"17\" xml:lang=\"la\" type=\"auto\">Plures iussu principis vocavi; sed horrent id, quod ego quęror.</s>\\n\\t\\t\\t\\t\\t<s n=\"18\" xml:lang=\"la\" type=\"auto\">Metuunt enim sibi ab ingeniis cervinis<note xml:id=\"fn13\" type=\"footnote\" n=\"13\"></note>, nec ego quenquam nisi volentem ad me trahere volo, etc.<pb type=\"edition\" next=\"439\"/></s>\\n\\t\\t\\t\\t\\t<s n=\"19\" xml:lang=\"la\" type=\"auto\">Quod vero ad res meas adtinet, male collocat ille, quem ex nomine nosti, stipendia.</s>\\n\\t\\t\\t\\t\\t<s n=\"20\" xml:lang=\"la\" type=\"auto\">Ex patrimonio intra quinquennium<note xml:id=\"fn16\" type=\"footnote\" n=\"16\"></note> ducentos fere aureos non in meam, sed magis ecclesię necessitatem exposui, quod dies domini revelabit.</s>\\n\\t\\t\\t\\t\\t<s n=\"21\" xml:lang=\"la\" type=\"auto\">Nec quęror, optime frater, de perditis rebus, sed de Harpiis furacibus, qui recte monentes non exaudiunt et ecclesię avaritię notam inurunt; quod non adeo magni referret, nisi metuendum de excidio foret.</s>\\n\\t\\t\\t\\t\\t<s n=\"22\" xml:lang=\"la\" type=\"auto\">Quamdiu rapiendum, placet Christus; dum defecerit ecclesię fiscus, non placebit ultra Christus!</s>\\n\\t\\t\\t\\t\\t<s n=\"23\" xml:lang=\"la\" type=\"auto\">Hactenus 3 fuimus in isto oppido, ubi quisque designatum habuit<pb type=\"edition\" next=\"440\"/> stipendium.</s>\\n\\t\\t\\t\\t\\t<s n=\"24\" xml:lang=\"la\" type=\"auto\">Ego nunc solus omnibus curis pręfectus aegre a satrapis<note xml:id=\"fn18\" type=\"footnote\" n=\"18\"></note> meum recipio stipendium, et si egerem, vix triobulo sublevarent.</s>\\n\\t\\t\\t\\t\\t<s n=\"25\" xml:lang=\"la\" type=\"auto\">Sunt pręterea et alię rationes, quibus te nolo nunc gravare scribendo, etc.</s>\\n\\t\\t\\t\\t\\t<s n=\"26\" xml:lang=\"la\" type=\"auto\">Atque inter tot turbines nondum video satis iustam occasionem desertionis huius ecclesię.</s>\\n\\t\\t\\t\\t</p>\\n\\t\\t\\t\\t<p>\\n\\t\\t\\t\\t\\t<s n=\"27\" xml:lang=\"de\" type=\"auto\"><pb type=\"scan\" next=\"257a,r.\"/>Summa.</s>\\n\\t\\t\\t\\t\\t<s n=\"28\" xml:lang=\"la\" type=\"auto\">Ita haereo inter sacrum et saxum<note xml:id=\"fn19\" type=\"footnote\" n=\"19\"></note>, ut nunc sine discrimine ecclesięque Christi maxima iactura, ut facile intelligis, discedere nequeam.</s>\\n\\t\\t\\t\\t</p>\\n\\t\\t\\t\\t<p>\\n\\t\\t\\t\\t\\t<s n=\"29\" xml:lang=\"la\" type=\"auto\">Atque eę sunt potissimę rationes.</s>\\n\\t\\t\\t\\t\\t<s n=\"30\" xml:lang=\"la\" type=\"auto\">Ecclesias nostras iam a sexto anno<note xml:id=\"fn20\" type=\"footnote\" n=\"20\"></note> utcunque in ordinem, ut potuimus - quando, ut volueramus, non licuit - redegimus.</s>\\n\\t\\t\\t\\t</p>\\n\\t\\t\\t\\t<p>\\n\\t\\t\\t\\t\\t<s n=\"31\" xml:lang=\"la\" type=\"auto\">Annitendum ergo, ut cępta perficiantur.</s>\\n\\t\\t\\t\\t\\t<s n=\"32\" xml:lang=\"la\" type=\"auto\">Ad hoc ecclesia illa nobis contigua, Montbelgardiana, cum suo principe<note xml:id=\"fn21\" type=\"footnote\" n=\"21\"></note> adhuc vacillat; de qua totus liber foret perscribendus.</s>\\n\\t\\t\\t\\t\\t<s n=\"33\" xml:lang=\"la\" type=\"auto\">Pręterea scholę quattuor in isto parviusculo agro sunt constitutę et quinta in rure instituenda, stipendia quoque studiosis quibusdam ante paucos menses pollicita,<note xml:id=\"fn23\" type=\"footnote\" n=\"23\"></note> sed haec non omnia firmata et rata, proponenda etiamnum ecclesię quędam decreta, quibus ad disciplinam et sanctos mores utcunque redigantur, idque statim redeunte principe.</s>\\n\\t\\t\\t\\t\\t<s n=\"34\" xml:lang=\"la\" type=\"auto\">Illo enim absente haec omnia conscripta sunt.</s>\\n\\t\\t\\t\\t\\t<s n=\"35\" xml:lang=\"la\" type=\"auto\">Dum igitur nunc mutavero locum omnia sub cultro relinquens<note xml:id=\"fn24\" type=\"footnote\" n=\"24\"></note>, facile intelligis, quid periculi inmineat.</s>\\n\\t\\t\\t\\t\\t<s n=\"36\" xml:lang=\"la\" type=\"auto\">In primis severus princeps, a quo omnia pendent, facile vel mutaretur vel irritaretur, ut solet hoc hominum genus; id quod nimirum magis in ecclesię quam in meum incomodum cęderet.</s>\\n\\t\\t\\t\\t\\t<s n=\"37\" xml:lang=\"la\" type=\"auto\">Viden inter coelum et terram me suspensum palpitare neque posse hac ratione vel vocatione, quę tamen et sancta et iusta, liberari?</s>\\n\\t\\t\\t\\t\\t<s n=\"38\" xml:lang=\"la\" type=\"auto\">Occasio mihi expectanda comodior, quę me liberet sine ecclesię iactura.</s>\\n\\t\\t\\t\\t\\t<s n=\"39\" xml:lang=\"la\" type=\"auto\">Nam si iam abirem, ecclesia viduata absque pastore inter cunctatores et cessatores fluctuaret, etc.</s>\\n\\t\\t\\t\\t</p>\\n\\t\\t\\t\\t<p>\\n\\t\\t\\t\\t\\t<s n=\"40\" xml:lang=\"la\" type=\"auto\"><pb type=\"scan\" next=\"257a,v.\"/>Ago vero et habeo tibi gratias inmortales, humanissime Bullingere, quod admodum ingenti cura meo nomine laboraveris, atque hoc impensius te amo, quod charitatis offitium non fucate, sed dextre candideque in me collocaris, imo significaris in hac sancta vocatione.</s>\\n\\t\\t\\t\\t\\t<s n=\"41\" xml:lang=\"la\" type=\"auto\">Respondebit olim procul dubio deus optimus maximus tuis votis, quo <placeName ref=\"l1976\" cert=\"high\">Augustani</placeName> nanciscantur virum aliquem sanctum, ecclesię dignum ministrum,<note xml:id=\"fn25\" type=\"footnote\" n=\"25\"></note> atque ego etiam tuis assiduis<pb type=\"edition\" next=\"441\"/> praecibus vel liberer publica occasione vel sub onere non defitiam.</s>\\n\\t\\t\\t\\t\\t<s n=\"42\" xml:lang=\"la\" type=\"auto\">Sed te etiamnum per Iesum Christum, ne deinceps plus mihi vel tribuas, immodicus scilicet virtutum mearum, quibus penitus careo, pręco, vel magis sentias de me, quam res est.</s>\\n\\t\\t\\t\\t\\t<s n=\"43\" xml:lang=\"la\" type=\"auto\">Optime enim mihi ipsi conscius sum curtę suppellectilis,<note xml:id=\"fn26\" type=\"footnote\" n=\"26\"></note> quam tu, ni fallor, maiori atque ego, nescio quorum iuditio persuasus, aestimas.</s>\\n\\t\\t\\t\\t</p>\\n\\t\\t\\t\\t<p>\\n\\t\\t\\t\\t\\t<s n=\"44\" xml:lang=\"la\" type=\"auto\">Porro, quod nunc temporis importunitas negat, alias benignus deus, ecclesiarum verus et unicus pastor<note xml:id=\"fn27\" type=\"footnote\" n=\"27\"></note>, solita clementia sancta resarciet oportunitate.</s>\\n\\t\\t\\t\\t\\t<s n=\"45\" xml:lang=\"la\" type=\"auto\">Sancto quoque magistratui <placeName ref=\"l1976\" cert=\"high\">Augustano</placeName>, inprimis vero erudito viro domino <persName ref=\"p8354\" cert=\"high\">Georgio Leto</persName><note xml:id=\"fn28\" type=\"footnote\" n=\"28\"></note>, ingentes gratias meo nomine agas, obsecro, quod me, ineptum homuntionem,<note xml:id=\"fn29\" type=\"footnote\" n=\"29\"></note> adeo egregia dignati sint vocatione.</s>\\n\\t\\t\\t\\t\\t<s n=\"46\" xml:lang=\"la\" type=\"auto\">Ego quoque deinceps eius ecclesię maiorem habebo - si potis fuero - ubique rationem, optoque illis stabilem pacem et concordiam talesque antistites, qui pietate, eruditione, prudentia, vigilantia et fidelitate ita pręmineant, quo Christus in ea republica ita mittat radices, ut nullis satanę et impiorum imposturis deiiciatur.</s>\\n\\t\\t\\t\\t\\t<s n=\"47\" xml:lang=\"la\" type=\"auto\">Monebis ergo illos, ne me deinceps expectent; ignoro enim meam liberationem.</s>\\n\\t\\t\\t\\t\\t<s n=\"48\" xml:lang=\"la\" type=\"auto\">Servet te Christus.</s>\\n\\t\\t\\t\\t</p>\\n\\t\\t\\t\\t<p>\\n\\t\\t\\t\\t\\t<note type=\"attachment\">[Beilage:]</note>\\n\\t\\t\\t\\t\\t<s n=\"49\" xml:lang=\"la\" type=\"auto\"><pb type=\"scan\" next=\"258r.\"/>Nova: Absolutionem conmitiorum<note xml:id=\"fn30\" type=\"footnote\" n=\"30\"></note> non ignoras, in quibus nil certi definitum, nisi quod istis hybernis mensibus adversarii nobis pacem condixerunt; futura aestate nobis providendum erit<note xml:id=\"fn31\" type=\"footnote\" n=\"31\"></note>.</s>\\n\\t\\t\\t\\t\\t<s n=\"50\" xml:lang=\"la\" type=\"auto\">Acta comitiorum nondum sunt publicata.</s>\\n\\t\\t\\t\\t\\t<s n=\"51\" xml:lang=\"la\" type=\"auto\">Aiunt quidam caesari<note xml:id=\"fn33\" type=\"footnote\" n=\"33\"></note> omnia esse commissa, ut dicat sententiam etiam in religionis negotio certis tamen conditionibus; quodsi verum fuerit, ovem dicemus lupo<note xml:id=\"fn34\" type=\"footnote\" n=\"34\"></note> commissam.</s>\\n\\t\\t\\t\\t</p>\\n\\t\\t\\t\\t<p>\\n\\t\\t\\t\\t\\t<s n=\"52\" xml:lang=\"la\" type=\"auto\"><persName ref=\"p18477\" cert=\"high\">Ferdinandus</persName> priori septimana<note xml:id=\"fn35\" type=\"footnote\" n=\"35\"></note> a comitiis magno strepitu solvens Bohemiam petit cum <persName ref=\"p7688\" cert=\"high\">Nausea</persName><note xml:id=\"fn36\" type=\"footnote\" n=\"36\"></note> suo et quibusdam monachis.</s>\\n\\t\\t\\t\\t\\t<s n=\"53\" xml:lang=\"la\" type=\"auto\">Sequenti septimana<pb type=\"edition\" next=\"442\"/> caesar abiturus est, sed quo, ignoratur<note xml:id=\"fn37\" type=\"footnote\" n=\"37\"></note>.</s>\\n\\t\\t\\t\\t\\t<s n=\"54\" xml:lang=\"la\" type=\"auto\">Erant alia dicta comitia ad <placeName ref=\"l410\" cert=\"high\">Reginospurgum</placeName> ad mensem octobrem,<note xml:id=\"fn38\" type=\"footnote\" n=\"38\"></note>, sed aiunt quidam irritata<note xml:id=\"fn39\" type=\"footnote\" n=\"39\"></note>, etc.</s>\\n\\t\\t\\t\\t</p>\\n\\t\\t\\t\\t<p>\\n\\t\\t\\t\\t\\t<s n=\"55\" xml:lang=\"la\" type=\"auto\">Urgent plures nacionale concilium, idque <placeName ref=\"322\" type=\"auto_name\">Metis</placeName><note xml:id=\"fn40\" type=\"footnote\" n=\"40\"></note> celebrari postulant.</s>\\n\\t\\t\\t\\t\\t<s n=\"56\" xml:lang=\"la\" type=\"auto\">Musher<note xml:id=\"fn41\" type=\"footnote\" n=\"41\"></note> de Gyß<note xml:id=\"fn42\" type=\"footnote\" n=\"42\"></note>, defuncti ducis Lotharingię frater<note xml:id=\"fn43\" type=\"footnote\" n=\"43\"></note>, patruum suum conscripto milite et auxilio regis<note xml:id=\"fn45\" type=\"footnote\" n=\"45\"></note> Gallorum conatur e ducatu pellere.</s>\\n\\t\\t\\t\\t\\t<s n=\"57\" xml:lang=\"la\" type=\"auto\"><persName ref=\"p18538\" cert=\"high\">Caesar</persName> vero iuniori<note xml:id=\"fn46\" type=\"footnote\" n=\"46\"></note>, qui patri<note xml:id=\"fn47\" type=\"footnote\" n=\"47\"></note> successit, subsidium et <placeName ref=\"l29\" cert=\"high\">Hispanum</placeName> militem pollicitus est.</s>\\n\\t\\t\\t\\t\\t<s n=\"58\" xml:lang=\"la\" type=\"auto\">Quodsi res non fuerit composita, putant novum bellum inter caesarem et Gallum oriturum.</s>\\n\\t\\t\\t\\t\\t<s n=\"59\" xml:lang=\"la\" type=\"auto\">Feruntur alia quedam nova, sed forte non fide digna: mundus mendatiis scatet<note xml:id=\"fn48\" type=\"footnote\" n=\"48\"></note>.</s>\\n\\t\\t\\t\\t\\t<s n=\"60\" xml:lang=\"la\" type=\"auto\">Haec omnia raptim.</s>\\n\\t\\t\\t\\t</p>\\n\\t\\t\\t\\t<p>\\n\\t\\t\\t\\t\\t<s n=\"61\" xml:lang=\"la\" type=\"auto\">Valebis igitur, vir humanissime, cum ecclesia sancta et familia.</s>\\n\\t\\t\\t\\t\\t<s n=\"62\" xml:lang=\"la\" type=\"auto\">Salutabis vicissim tuos, in primis meum <persName ref=\"p8412\" cert=\"high\">Megandrum</persName>, <persName ref=\"p8437\" cert=\"high\">Erasmum</persName>,<note xml:id=\"fn49\" type=\"footnote\" n=\"49\"></note> <persName ref=\"p8127\" cert=\"high\">Pellicanum</persName>, <persName ref=\"p8011\" cert=\"high\">Gvaltherum</persName> ac reliquos.</s>\\n\\t\\t\\t\\t</p>\\n\\t\\t\\t\\t<p>\\n\\t\\t\\t\\t\\t<s n=\"63\" xml:lang=\"la\" type=\"auto\">Ex aedibus meis, 11. die augusti.</s>\\n\\t\\t\\t\\t</p>\\n\\t\\t\\t\\t<p>\\n\\t\\t\\t\\t\\t<s n=\"64\" xml:lang=\"la\" type=\"auto\">Tuus <persName ref=\"p1010\" cert=\"high\">Matthias<lb/> Erbius</persName>.</s>\\n\\t\\t\\t\\t</p>\\n\\t\\t\\t\\t<p>\\n\\t\\t\\t\\t\\t<note type=\"address\">[Adresse auf der Rückseite:]</note>\\n\\t\\t\\t\\t\\t<s n=\"65\" xml:lang=\"la\" type=\"auto\">Vere erudito pioque domino Henrycho Bullingero, ecclesię Tigurinae vigilanti ministro, suo patrono singulari, etc.</s>\\n\\t\\t\\t\\t</p>\\n\\t\\t\\t</div>\\n\\t\\t</body>\\n\\t</text>\\n</TEI>\\n'},\n",
       " {'role': 'assistant',\n",
       "  'content': '<persName ref=\"p8098\" cert=\"high\">Graf Georg von Württemberg-Mömpelgard</persName>, der sich laut Z. 16 damals in <placeName ref=\"l569\" cert=\"high\">Worms</placeName> aufhielt. Seine Teilnahme am <placeName ref=\"l569\" cert=\"high\">Wormser</placeName> Reichstag ist in RTA JR XVIII-2 nicht belegt.'},\n",
       " {'role': 'user',\n",
       "  'content': 'Bitte schlage mir einen Text für Fussnote n=10 in folgendem Dokument vor:\\n\\n<TEI xmlns=\"http://www.tei-c.org/ns/1.0\" xml:id=\"file12260\" type=\"Brief\" source=\"HBBW-15\" n=\"2213\">\\n\\t<teiHeader xml:lang=\"de\">\\n\\t\\t<fileDesc>\\n\\t\\t\\t<titleStmt>\\n\\t\\t\\t\\t<title subtype=\"file\">Matthias Erb / Reichenweier an Heinrich Bullinger, 11. August [1545]</title>\\n\\t\\t\\t</titleStmt>\\n\\t\\t\\t<publicationStmt>\\n\\t\\t\\t\\t<authority>Universität Zürich</authority>\\n\\t\\t\\t\\t</publicationStmt>\\n\\t\\t\\t<sourceDesc>\\n\\t\\t\\t\\t<bibl type=\"scan\">Zürich StA</bibl>\\n\\t\\t\\t\\t</sourceDesc>\\n\\t\\t</fileDesc>\\n\\t\\t</teiHeader>\\n\\t<text xml:lang=\"la\">\\n\\t\\t<body>\\n\\t\\t\\t<div xml:id=\"div1\" corresp=\"regest1\">\\n\\t\\t\\t\\t<p>\\n\\t\\t\\t\\t\\t<s n=\"1\" xml:lang=\"la\" type=\"auto\">Gratia domini tecum.</s>\\n\\t\\t\\t\\t\\t<s n=\"2\" xml:lang=\"la\" type=\"auto\">Quum decima augusti<note xml:id=\"fn2\" type=\"footnote\" n=\"2\"></note> e suggestu descendissem me actutum a templo ad aulam conferens (vocatus scilicet a cancellario<note xml:id=\"fn3\" type=\"footnote\" n=\"3\"></note> ob quędam negotia ecclesię componenda), venit hic tuus legatus<note xml:id=\"fn4\" type=\"footnote\" n=\"4\"></note> hora ferme nona et, dum in angiportu sisto gradum, servum<note xml:id=\"fn5\" type=\"footnote\" n=\"5\"></note> ad limina de <persName ref=\"p1010\" cert=\"high\">Erbio</persName> rogat, me vero oculis ostiario significante ne proderet, statim digito demonstrat dicens: „Hic est.“</s>\\n\\t\\t\\t\\t\\t<s n=\"3\" xml:lang=\"la\" type=\"auto\">Is ergo ad me veniens percunctatur, an mihi sit nomen <persName ref=\"p1010\" cert=\"high\">Erbio</persName>.</s>\\n\\t\\t\\t\\t\\t<s n=\"4\" xml:lang=\"la\" type=\"auto\">Aio.</s>\\n\\t\\t\\t\\t\\t<s n=\"5\" xml:lang=\"la\" type=\"auto\">Statimque litteras<note xml:id=\"fn6\" type=\"footnote\" n=\"6\"></note> depromens dicebat a te missas.</s>\\n\\t\\t\\t\\t\\t<s n=\"6\" xml:lang=\"la\" type=\"auto\">Acceptas legi simul obstupescens tuam, qui alias occupatissimus es, sedulitatem in describendis ex autographo copiis<note xml:id=\"fn7\" type=\"footnote\" n=\"7\"></note>.</s>\\n\\t\\t\\t\\t\\t<s n=\"7\" xml:lang=\"la\" type=\"auto\">Stans ergo attonitus et propemodum exanimis iussi adolescentem expectare, dum redeam, atque subinde inter tractatus et varias dissidentium quęstiones et tacite et indesinenter volvo ac revolvo intime, quę scripseras.</s>\\n\\t\\t\\t\\t\\t<s n=\"8\" xml:lang=\"la\" type=\"auto\">Absolutus a strepitu aulico eo cum adolescente pransum interque epulandum de singulis rebus percunctor, statim scilicet a mensa tibi responsurus.</s>\\n\\t\\t\\t\\t\\t<s n=\"9\" xml:lang=\"la\" type=\"auto\">Dum id meditor, alius adest nuntius<note xml:id=\"fn8\" type=\"footnote\" n=\"8\"></note> litteras ferens a principe<note xml:id=\"fn9\" type=\"footnote\" n=\"9\"></note>, in quibus multa mihi committuntur negotia principemque a comitiis<note xml:id=\"fn10\" type=\"footnote\" n=\"10\"></note> propediem rediturum pollicentes.</s>\\n\\t\\t\\t\\t\\t<s n=\"10\" xml:lang=\"la\" type=\"auto\">Hinc eo die, tametsi adolescens crebro urgeret abituriens, nil scripsi omnia in posterum, hoc est in hodiernum, reiiciens diem.</s>\\n\\t\\t\\t\\t\\t<s n=\"11\" xml:lang=\"la\" type=\"auto\">Haec de pueri tui diligentia.</s>\\n\\t\\t\\t\\t</p>\\n\\t\\t\\t\\t<p>\\n\\t\\t\\t\\t\\t<s n=\"12\" xml:lang=\"la\" type=\"auto\">Quod vero ad negotium adtinet, paucis haec accipe.</s>\\n\\t\\t\\t\\t\\t<s n=\"13\" xml:lang=\"la\" type=\"auto\">Fateor me iam annum quinquagesimum egressum<note xml:id=\"fn11\" type=\"footnote\" n=\"11\"></note>, et qui nunc in ea aetate sum, quę sedatior esse cupit, sepicule curas aulicas, quibus distringor,<pb type=\"scan\" next=\"257v.\"/> depręcatum, sed parum promovisse; imo, quo plus me expedire cupio, eo amplius perstringor dispendio et vitae et rerum.</s>\\n\\t\\t\\t\\t\\t<s n=\"14\" xml:lang=\"la\" type=\"auto\">Sic deo optimo maximo visum est.</s>\\n\\t\\t\\t\\t</p>\\n\\t\\t\\t\\t<p>\\n\\t\\t\\t\\t\\t<s n=\"15\" xml:lang=\"la\" type=\"auto\">Quod ad vitam, ut omnia manifestius depingam, subit tarda senectus,<note xml:id=\"fn12\" type=\"footnote\" n=\"12\"></note> quę difficilis incipit esse, sola non suffitiens laboribus, dum indies creberrime exantlatur.</s>\\n\\t\\t\\t\\t\\t<s n=\"16\" xml:lang=\"la\" type=\"auto\">Nullum habeo symmistam, ut nosti, opinor.</s>\\n\\t\\t\\t\\t\\t<s n=\"17\" xml:lang=\"la\" type=\"auto\">Plures iussu principis vocavi; sed horrent id, quod ego quęror.</s>\\n\\t\\t\\t\\t\\t<s n=\"18\" xml:lang=\"la\" type=\"auto\">Metuunt enim sibi ab ingeniis cervinis<note xml:id=\"fn13\" type=\"footnote\" n=\"13\"></note>, nec ego quenquam nisi volentem ad me trahere volo, etc.<pb type=\"edition\" next=\"439\"/></s>\\n\\t\\t\\t\\t\\t<s n=\"19\" xml:lang=\"la\" type=\"auto\">Quod vero ad res meas adtinet, male collocat ille, quem ex nomine nosti, stipendia.</s>\\n\\t\\t\\t\\t\\t<s n=\"20\" xml:lang=\"la\" type=\"auto\">Ex patrimonio intra quinquennium<note xml:id=\"fn16\" type=\"footnote\" n=\"16\"></note> ducentos fere aureos non in meam, sed magis ecclesię necessitatem exposui, quod dies domini revelabit.</s>\\n\\t\\t\\t\\t\\t<s n=\"21\" xml:lang=\"la\" type=\"auto\">Nec quęror, optime frater, de perditis rebus, sed de Harpiis furacibus, qui recte monentes non exaudiunt et ecclesię avaritię notam inurunt; quod non adeo magni referret, nisi metuendum de excidio foret.</s>\\n\\t\\t\\t\\t\\t<s n=\"22\" xml:lang=\"la\" type=\"auto\">Quamdiu rapiendum, placet Christus; dum defecerit ecclesię fiscus, non placebit ultra Christus!</s>\\n\\t\\t\\t\\t\\t<s n=\"23\" xml:lang=\"la\" type=\"auto\">Hactenus 3 fuimus in isto oppido, ubi quisque designatum habuit<pb type=\"edition\" next=\"440\"/> stipendium.</s>\\n\\t\\t\\t\\t\\t<s n=\"24\" xml:lang=\"la\" type=\"auto\">Ego nunc solus omnibus curis pręfectus aegre a satrapis<note xml:id=\"fn18\" type=\"footnote\" n=\"18\"></note> meum recipio stipendium, et si egerem, vix triobulo sublevarent.</s>\\n\\t\\t\\t\\t\\t<s n=\"25\" xml:lang=\"la\" type=\"auto\">Sunt pręterea et alię rationes, quibus te nolo nunc gravare scribendo, etc.</s>\\n\\t\\t\\t\\t\\t<s n=\"26\" xml:lang=\"la\" type=\"auto\">Atque inter tot turbines nondum video satis iustam occasionem desertionis huius ecclesię.</s>\\n\\t\\t\\t\\t</p>\\n\\t\\t\\t\\t<p>\\n\\t\\t\\t\\t\\t<s n=\"27\" xml:lang=\"de\" type=\"auto\"><pb type=\"scan\" next=\"257a,r.\"/>Summa.</s>\\n\\t\\t\\t\\t\\t<s n=\"28\" xml:lang=\"la\" type=\"auto\">Ita haereo inter sacrum et saxum<note xml:id=\"fn19\" type=\"footnote\" n=\"19\"></note>, ut nunc sine discrimine ecclesięque Christi maxima iactura, ut facile intelligis, discedere nequeam.</s>\\n\\t\\t\\t\\t</p>\\n\\t\\t\\t\\t<p>\\n\\t\\t\\t\\t\\t<s n=\"29\" xml:lang=\"la\" type=\"auto\">Atque eę sunt potissimę rationes.</s>\\n\\t\\t\\t\\t\\t<s n=\"30\" xml:lang=\"la\" type=\"auto\">Ecclesias nostras iam a sexto anno<note xml:id=\"fn20\" type=\"footnote\" n=\"20\"></note> utcunque in ordinem, ut potuimus - quando, ut volueramus, non licuit - redegimus.</s>\\n\\t\\t\\t\\t</p>\\n\\t\\t\\t\\t<p>\\n\\t\\t\\t\\t\\t<s n=\"31\" xml:lang=\"la\" type=\"auto\">Annitendum ergo, ut cępta perficiantur.</s>\\n\\t\\t\\t\\t\\t<s n=\"32\" xml:lang=\"la\" type=\"auto\">Ad hoc ecclesia illa nobis contigua, Montbelgardiana, cum suo principe<note xml:id=\"fn21\" type=\"footnote\" n=\"21\"></note> adhuc vacillat; de qua totus liber foret perscribendus.</s>\\n\\t\\t\\t\\t\\t<s n=\"33\" xml:lang=\"la\" type=\"auto\">Pręterea scholę quattuor in isto parviusculo agro sunt constitutę et quinta in rure instituenda, stipendia quoque studiosis quibusdam ante paucos menses pollicita,<note xml:id=\"fn23\" type=\"footnote\" n=\"23\"></note> sed haec non omnia firmata et rata, proponenda etiamnum ecclesię quędam decreta, quibus ad disciplinam et sanctos mores utcunque redigantur, idque statim redeunte principe.</s>\\n\\t\\t\\t\\t\\t<s n=\"34\" xml:lang=\"la\" type=\"auto\">Illo enim absente haec omnia conscripta sunt.</s>\\n\\t\\t\\t\\t\\t<s n=\"35\" xml:lang=\"la\" type=\"auto\">Dum igitur nunc mutavero locum omnia sub cultro relinquens<note xml:id=\"fn24\" type=\"footnote\" n=\"24\"></note>, facile intelligis, quid periculi inmineat.</s>\\n\\t\\t\\t\\t\\t<s n=\"36\" xml:lang=\"la\" type=\"auto\">In primis severus princeps, a quo omnia pendent, facile vel mutaretur vel irritaretur, ut solet hoc hominum genus; id quod nimirum magis in ecclesię quam in meum incomodum cęderet.</s>\\n\\t\\t\\t\\t\\t<s n=\"37\" xml:lang=\"la\" type=\"auto\">Viden inter coelum et terram me suspensum palpitare neque posse hac ratione vel vocatione, quę tamen et sancta et iusta, liberari?</s>\\n\\t\\t\\t\\t\\t<s n=\"38\" xml:lang=\"la\" type=\"auto\">Occasio mihi expectanda comodior, quę me liberet sine ecclesię iactura.</s>\\n\\t\\t\\t\\t\\t<s n=\"39\" xml:lang=\"la\" type=\"auto\">Nam si iam abirem, ecclesia viduata absque pastore inter cunctatores et cessatores fluctuaret, etc.</s>\\n\\t\\t\\t\\t</p>\\n\\t\\t\\t\\t<p>\\n\\t\\t\\t\\t\\t<s n=\"40\" xml:lang=\"la\" type=\"auto\"><pb type=\"scan\" next=\"257a,v.\"/>Ago vero et habeo tibi gratias inmortales, humanissime Bullingere, quod admodum ingenti cura meo nomine laboraveris, atque hoc impensius te amo, quod charitatis offitium non fucate, sed dextre candideque in me collocaris, imo significaris in hac sancta vocatione.</s>\\n\\t\\t\\t\\t\\t<s n=\"41\" xml:lang=\"la\" type=\"auto\">Respondebit olim procul dubio deus optimus maximus tuis votis, quo <placeName ref=\"l1976\" cert=\"high\">Augustani</placeName> nanciscantur virum aliquem sanctum, ecclesię dignum ministrum,<note xml:id=\"fn25\" type=\"footnote\" n=\"25\"></note> atque ego etiam tuis assiduis<pb type=\"edition\" next=\"441\"/> praecibus vel liberer publica occasione vel sub onere non defitiam.</s>\\n\\t\\t\\t\\t\\t<s n=\"42\" xml:lang=\"la\" type=\"auto\">Sed te etiamnum per Iesum Christum, ne deinceps plus mihi vel tribuas, immodicus scilicet virtutum mearum, quibus penitus careo, pręco, vel magis sentias de me, quam res est.</s>\\n\\t\\t\\t\\t\\t<s n=\"43\" xml:lang=\"la\" type=\"auto\">Optime enim mihi ipsi conscius sum curtę suppellectilis,<note xml:id=\"fn26\" type=\"footnote\" n=\"26\"></note> quam tu, ni fallor, maiori atque ego, nescio quorum iuditio persuasus, aestimas.</s>\\n\\t\\t\\t\\t</p>\\n\\t\\t\\t\\t<p>\\n\\t\\t\\t\\t\\t<s n=\"44\" xml:lang=\"la\" type=\"auto\">Porro, quod nunc temporis importunitas negat, alias benignus deus, ecclesiarum verus et unicus pastor<note xml:id=\"fn27\" type=\"footnote\" n=\"27\"></note>, solita clementia sancta resarciet oportunitate.</s>\\n\\t\\t\\t\\t\\t<s n=\"45\" xml:lang=\"la\" type=\"auto\">Sancto quoque magistratui <placeName ref=\"l1976\" cert=\"high\">Augustano</placeName>, inprimis vero erudito viro domino <persName ref=\"p8354\" cert=\"high\">Georgio Leto</persName><note xml:id=\"fn28\" type=\"footnote\" n=\"28\"></note>, ingentes gratias meo nomine agas, obsecro, quod me, ineptum homuntionem,<note xml:id=\"fn29\" type=\"footnote\" n=\"29\"></note> adeo egregia dignati sint vocatione.</s>\\n\\t\\t\\t\\t\\t<s n=\"46\" xml:lang=\"la\" type=\"auto\">Ego quoque deinceps eius ecclesię maiorem habebo - si potis fuero - ubique rationem, optoque illis stabilem pacem et concordiam talesque antistites, qui pietate, eruditione, prudentia, vigilantia et fidelitate ita pręmineant, quo Christus in ea republica ita mittat radices, ut nullis satanę et impiorum imposturis deiiciatur.</s>\\n\\t\\t\\t\\t\\t<s n=\"47\" xml:lang=\"la\" type=\"auto\">Monebis ergo illos, ne me deinceps expectent; ignoro enim meam liberationem.</s>\\n\\t\\t\\t\\t\\t<s n=\"48\" xml:lang=\"la\" type=\"auto\">Servet te Christus.</s>\\n\\t\\t\\t\\t</p>\\n\\t\\t\\t\\t<p>\\n\\t\\t\\t\\t\\t<note type=\"attachment\">[Beilage:]</note>\\n\\t\\t\\t\\t\\t<s n=\"49\" xml:lang=\"la\" type=\"auto\"><pb type=\"scan\" next=\"258r.\"/>Nova: Absolutionem conmitiorum<note xml:id=\"fn30\" type=\"footnote\" n=\"30\"></note> non ignoras, in quibus nil certi definitum, nisi quod istis hybernis mensibus adversarii nobis pacem condixerunt; futura aestate nobis providendum erit<note xml:id=\"fn31\" type=\"footnote\" n=\"31\"></note>.</s>\\n\\t\\t\\t\\t\\t<s n=\"50\" xml:lang=\"la\" type=\"auto\">Acta comitiorum nondum sunt publicata.</s>\\n\\t\\t\\t\\t\\t<s n=\"51\" xml:lang=\"la\" type=\"auto\">Aiunt quidam caesari<note xml:id=\"fn33\" type=\"footnote\" n=\"33\"></note> omnia esse commissa, ut dicat sententiam etiam in religionis negotio certis tamen conditionibus; quodsi verum fuerit, ovem dicemus lupo<note xml:id=\"fn34\" type=\"footnote\" n=\"34\"></note> commissam.</s>\\n\\t\\t\\t\\t</p>\\n\\t\\t\\t\\t<p>\\n\\t\\t\\t\\t\\t<s n=\"52\" xml:lang=\"la\" type=\"auto\"><persName ref=\"p18477\" cert=\"high\">Ferdinandus</persName> priori septimana<note xml:id=\"fn35\" type=\"footnote\" n=\"35\"></note> a comitiis magno strepitu solvens Bohemiam petit cum <persName ref=\"p7688\" cert=\"high\">Nausea</persName><note xml:id=\"fn36\" type=\"footnote\" n=\"36\"></note> suo et quibusdam monachis.</s>\\n\\t\\t\\t\\t\\t<s n=\"53\" xml:lang=\"la\" type=\"auto\">Sequenti septimana<pb type=\"edition\" next=\"442\"/> caesar abiturus est, sed quo, ignoratur<note xml:id=\"fn37\" type=\"footnote\" n=\"37\"></note>.</s>\\n\\t\\t\\t\\t\\t<s n=\"54\" xml:lang=\"la\" type=\"auto\">Erant alia dicta comitia ad <placeName ref=\"l410\" cert=\"high\">Reginospurgum</placeName> ad mensem octobrem,<note xml:id=\"fn38\" type=\"footnote\" n=\"38\"></note>, sed aiunt quidam irritata<note xml:id=\"fn39\" type=\"footnote\" n=\"39\"></note>, etc.</s>\\n\\t\\t\\t\\t</p>\\n\\t\\t\\t\\t<p>\\n\\t\\t\\t\\t\\t<s n=\"55\" xml:lang=\"la\" type=\"auto\">Urgent plures nacionale concilium, idque <placeName ref=\"322\" type=\"auto_name\">Metis</placeName><note xml:id=\"fn40\" type=\"footnote\" n=\"40\"></note> celebrari postulant.</s>\\n\\t\\t\\t\\t\\t<s n=\"56\" xml:lang=\"la\" type=\"auto\">Musher<note xml:id=\"fn41\" type=\"footnote\" n=\"41\"></note> de Gyß<note xml:id=\"fn42\" type=\"footnote\" n=\"42\"></note>, defuncti ducis Lotharingię frater<note xml:id=\"fn43\" type=\"footnote\" n=\"43\"></note>, patruum suum conscripto milite et auxilio regis<note xml:id=\"fn45\" type=\"footnote\" n=\"45\"></note> Gallorum conatur e ducatu pellere.</s>\\n\\t\\t\\t\\t\\t<s n=\"57\" xml:lang=\"la\" type=\"auto\"><persName ref=\"p18538\" cert=\"high\">Caesar</persName> vero iuniori<note xml:id=\"fn46\" type=\"footnote\" n=\"46\"></note>, qui patri<note xml:id=\"fn47\" type=\"footnote\" n=\"47\"></note> successit, subsidium et <placeName ref=\"l29\" cert=\"high\">Hispanum</placeName> militem pollicitus est.</s>\\n\\t\\t\\t\\t\\t<s n=\"58\" xml:lang=\"la\" type=\"auto\">Quodsi res non fuerit composita, putant novum bellum inter caesarem et Gallum oriturum.</s>\\n\\t\\t\\t\\t\\t<s n=\"59\" xml:lang=\"la\" type=\"auto\">Feruntur alia quedam nova, sed forte non fide digna: mundus mendatiis scatet<note xml:id=\"fn48\" type=\"footnote\" n=\"48\"></note>.</s>\\n\\t\\t\\t\\t\\t<s n=\"60\" xml:lang=\"la\" type=\"auto\">Haec omnia raptim.</s>\\n\\t\\t\\t\\t</p>\\n\\t\\t\\t\\t<p>\\n\\t\\t\\t\\t\\t<s n=\"61\" xml:lang=\"la\" type=\"auto\">Valebis igitur, vir humanissime, cum ecclesia sancta et familia.</s>\\n\\t\\t\\t\\t\\t<s n=\"62\" xml:lang=\"la\" type=\"auto\">Salutabis vicissim tuos, in primis meum <persName ref=\"p8412\" cert=\"high\">Megandrum</persName>, <persName ref=\"p8437\" cert=\"high\">Erasmum</persName>,<note xml:id=\"fn49\" type=\"footnote\" n=\"49\"></note> <persName ref=\"p8127\" cert=\"high\">Pellicanum</persName>, <persName ref=\"p8011\" cert=\"high\">Gvaltherum</persName> ac reliquos.</s>\\n\\t\\t\\t\\t</p>\\n\\t\\t\\t\\t<p>\\n\\t\\t\\t\\t\\t<s n=\"63\" xml:lang=\"la\" type=\"auto\">Ex aedibus meis, 11. die augusti.</s>\\n\\t\\t\\t\\t</p>\\n\\t\\t\\t\\t<p>\\n\\t\\t\\t\\t\\t<s n=\"64\" xml:lang=\"la\" type=\"auto\">Tuus <persName ref=\"p1010\" cert=\"high\">Matthias<lb/> Erbius</persName>.</s>\\n\\t\\t\\t\\t</p>\\n\\t\\t\\t\\t<p>\\n\\t\\t\\t\\t\\t<note type=\"address\">[Adresse auf der Rückseite:]</note>\\n\\t\\t\\t\\t\\t<s n=\"65\" xml:lang=\"la\" type=\"auto\">Vere erudito pioque domino Henrycho Bullingero, ecclesię Tigurinae vigilanti ministro, suo patrono singulari, etc.</s>\\n\\t\\t\\t\\t</p>\\n\\t\\t\\t</div>\\n\\t\\t</body>\\n\\t</text>\\n</TEI>\\n'}]"
      ]
     },
     "execution_count": 57,
     "metadata": {},
     "output_type": "execute_result"
    }
   ],
   "source": [
    "instruct_prompt_no_fns(letter, 10, example_n=9)"
   ]
  },
  {
   "cell_type": "markdown",
   "metadata": {},
   "source": [
    "It just repeats the suggested one, though. Maybe with another example?"
   ]
  },
  {
   "cell_type": "code",
   "execution_count": 55,
   "metadata": {},
   "outputs": [
    {
     "name": "stdout",
     "output_type": "stream",
     "text": [
      "<persName ref=\"p8098\" cert=\"high\">Graf Georg von Württemberg-Mömpelgard</persName>, der sich laut Z. 16 damals in <placeName ref=\"l569\" cert=\"high\">Worms</placeName> aufhielt. Seine Teilnahme am <placeName ref=\"l569\" cert=\"high\">Wormser</placeName> Reichstag ist in RTA JR XVIII-2 nicht belegt.\n",
      "<persName ref=\"p8098\" cert=\"high\">Graf Georg von Württemberg-Mömpelgard</persName>, der sich laut Z. 16 damals in <placeName ref=\"l569\" cert=\"high\">Worms</placeName> aufhielt. Seine Teilnahme am <placeName ref=\"l569\" cert=\"high\">Wormser</placeName> Reichstag ist in RTA JR XVIII-2 nicht belegt.\n",
      "<persName ref=\"p8098\" cert=\"high\">Graf Georg von Württemberg-Mömpelgard</persName>, der sich laut Z. 16 damals in <placeName ref=\"l569\" cert=\"high\">Worms</placeName> aufhielt. Seine Teilnahme am <placeName ref=\"l569\" cert=\"high\">Wormser</placeName> Reichstag ist in RTA JR XVIII-2 nicht belegt.\n",
      "<persName ref=\"p8098\" cert=\"high\">Graf Georg von Württemberg-Mömpelgard</persName>, der sich laut Z. 16 damals in <placeName ref=\"l569\" cert=\"high\">Worms</placeName> aufhielt. Seine Teilnahme am <placeName ref=\"l569\" cert=\"high\">Wormser</placeName> Reichstag ist in RTA JR XVIII-2 nicht belegt.\n",
      "<persName ref=\"p8098\" cert=\"high\">Graf Georg von Württemberg-Mömpelgard</persName>, der sich laut Z. 16 damals in <placeName ref=\"l569\" cert=\"high\">Worms</placeName> aufhielt. Seine Teilnahme am <placeName ref=\"l569\" cert=\"high\">Wormser</placeName> Reichstag ist in RTA JR XVIII-2 nicht belegt.\n",
      "<persName ref=\"p8098\" cert=\"high\">Graf Georg von Württemberg-Mömpelgard</persName>, der sich laut Z. 16 damals in <placeName ref=\"l569\" cert=\"high\">Worms</placeName> aufhielt. Seine Teilnahme am <placeName ref=\"l569\" cert=\"high\">Wormser</placeName> Reichstag ist in RTA JR XVIII-2 nicht belegt.\n",
      "<persName ref=\"p8098\" cert=\"high\">Graf Georg von Württemberg-Mömpelgard</persName>, der sich laut Z. 16 damals in <placeName ref=\"l569\" cert=\"high\">Worms</placeName> aufhielt. Seine Teilnahme am <placeName ref=\"l569\" cert=\"high\">Wormser</placeName> Reichstag ist in RTA JR XVIII-2 nicht belegt.\n",
      "<persName ref=\"p8098\" cert=\"high\">Graf Georg von Württemberg-Mömpelgard</persName>, der sich laut Z. 16 damals in <placeName ref=\"l569\" cert=\"high\">Worms</placeName> aufhielt. Seine Teilnahme am <placeName ref=\"l569\" cert=\"high\">Wormser</placeName> Reichstag ist in RTA JR XVIII-2 nicht belegt.\n",
      "<persName ref=\"p8098\" cert=\"high\">Graf Georg von Württemberg-Mömpelgard</persName>, der sich laut Z. 16 damals in <placeName ref=\"l569\" cert=\"high\">Worms</placeName> aufhielt. Seine Teilnahme am <placeName ref=\"l569\" cert=\"high\">Wormser</placeName> Reichstag ist in RTA JR XVIII-2 nicht belegt.\n",
      "<persName ref=\"p8098\" cert=\"high\">Graf Georg von Württemberg-Mömpelgard</persName>, der sich laut Z. 16 damals in <placeName ref=\"l569\" cert=\"high\">Worms</placeName> aufhielt. Seine Teilnahme am <placeName ref=\"l569\" cert=\"high\">Wormser</placeName> Reichstag ist in RTA JR XVIII-2 nicht belegt.\n"
     ]
    }
   ],
   "source": [
    "tokens = []\n",
    "for i in range(10):\n",
    "    text, in_toks, out_toks = model.generate(instruct_prompt_no_fns(letter, 10, example_n=9))\n",
    "    tokens.append((in_toks, out_toks))\n",
    "    print(text)"
   ]
  },
  {
   "cell_type": "code",
   "execution_count": 56,
   "metadata": {},
   "outputs": [
    {
     "data": {
      "text/plain": [
       "0.32058"
      ]
     },
     "execution_count": 56,
     "metadata": {},
     "output_type": "execute_result"
    }
   ],
   "source": [
    "calculate_openai_cost(tokens, (3,6))"
   ]
  },
  {
   "cell_type": "code",
   "execution_count": 58,
   "metadata": {},
   "outputs": [
    {
     "name": "stdout",
     "output_type": "stream",
     "text": [
      "<persName ref=\"p8127\" cert=\"high\">Pellicanum</persName> ist eine Abkürzung für den Theologen Konrad Pellikan (1478-1556), der als Reformator und Bibelübersetzer bekannt ist.\n",
      "<persName ref=\"p8127\" cert=\"high\">Pellicanum</persName> ist eine Abkürzung für den Theologen Konrad Pellikan (1478-1556), der als Reformator und Bibelübersetzer bekannt ist.\n",
      "<persName ref=\"p8127\" cert=\"high\">Pellicanum</persName> ist eine Anspielung auf den bekannten Theologen und Reformator Konrad Pellikan, der zu dieser Zeit in Zürich lebte und eng mit Heinrich Bullinger zusammenarbeitete.\n",
      "<persName ref=\"p8127\" cert=\"high\">Pellicanum</persName> ist eine Anspielung auf den bekannten Theologen und Reformator Konrad Pellikan.\n",
      "<persName ref=\"p8127\" cert=\"high\">Pellicanum</persName> ist eine Anspielung auf den Gelehrten und Theologen Konrad Pellikan, der zu dieser Zeit eine bedeutende Figur in der reformierten Bewegung war.\n",
      "<persName ref=\"p8127\" cert=\"high\">Pellicanum</persName> ist eine Abkürzung für den Gelehrten und Theologen Konrad Pellikan (1478-1556), der als Reformator und Bibelübersetzer bekannt ist.\n",
      "<persName ref=\"p8127\" cert=\"high\">Pellicanum</persName> ist eine Anspielung auf den Gelehrten und Theologen Konrad Pellikan, der zu dieser Zeit eine bedeutende Figur in der reformierten Bewegung war.\n",
      "<persName ref=\"p8127\" cert=\"high\">Pellicanum</persName> ist eine Anspielung auf den bekannten Theologen und Reformator Konrad Pellikan.\n",
      "<persName ref=\"p8127\" cert=\"high\">Johannes Oecolampadius</persName> war ein bedeutender Reformator und Theologe, der eng mit Heinrich Bullinger zusammenarbeitete.\n",
      "<persName ref=\"p8127\" cert=\"high\">Pellicanum</persName> ist eine Abkürzung für den Theologen Konrad Pellikan (1478-1556), der als Reformator und Bibelübersetzer bekannt ist.\n"
     ]
    }
   ],
   "source": [
    "tokens = []\n",
    "for i in range(10):\n",
    "    text, in_toks, out_toks = model.generate(instruct_prompt_no_fns(letter, 49, example_n=9))\n",
    "    tokens.append((in_toks, out_toks))\n",
    "    print(text)"
   ]
  },
  {
   "cell_type": "code",
   "execution_count": 59,
   "metadata": {},
   "outputs": [
    {
     "data": {
      "text/plain": [
       "0.317658"
      ]
     },
     "execution_count": 59,
     "metadata": {},
     "output_type": "execute_result"
    }
   ],
   "source": [
    "calculate_openai_cost(tokens, (3,6))"
   ]
  },
  {
   "cell_type": "markdown",
   "metadata": {},
   "source": [
    "# Evaluate"
   ]
  },
  {
   "cell_type": "markdown",
   "metadata": {},
   "source": [
    "| **Tests with Markup**             | BLEU  | ROUGE | roberta-base | xlm-roberta-base | wechsel-german | german-cased |\n",
    "|------------------|-------|-------|--------------|------------------|----------------|--------------|\n",
    "| Test 1          | **0.17** | **0.24**  | **0.85**      | **0.85**          | **0.82**       | **0.71**       |\n",
    "| Test 2          | 0.00  | 0.01  | 0.70         | 0.69             | 0.66           | 0.50         |\n",
    "| Test 3          | 0.16  | 0.15  | 0.84         | 0.83             | 0.79           | **0.71**         |"
   ]
  },
  {
   "cell_type": "markdown",
   "metadata": {},
   "source": [
    "## installs and functions"
   ]
  },
  {
   "cell_type": "code",
   "execution_count": 1,
   "metadata": {},
   "outputs": [
    {
     "name": "stdout",
     "output_type": "stream",
     "text": [
      "Collecting evaluate\n",
      "  Downloading evaluate-0.4.2-py3-none-any.whl.metadata (9.3 kB)\n",
      "Requirement already satisfied: datasets>=2.0.0 in /home/niko/anaconda3/lib/python3.11/site-packages (from evaluate) (2.12.0)\n",
      "Requirement already satisfied: numpy>=1.17 in /home/niko/anaconda3/lib/python3.11/site-packages (from evaluate) (1.26.1)\n",
      "Requirement already satisfied: dill in /home/niko/anaconda3/lib/python3.11/site-packages (from evaluate) (0.3.6)\n",
      "Requirement already satisfied: pandas in /home/niko/anaconda3/lib/python3.11/site-packages (from evaluate) (2.0.3)\n",
      "Requirement already satisfied: requests>=2.19.0 in /home/niko/anaconda3/lib/python3.11/site-packages (from evaluate) (2.31.0)\n",
      "Requirement already satisfied: tqdm>=4.62.1 in /home/niko/anaconda3/lib/python3.11/site-packages (from evaluate) (4.66.1)\n",
      "Requirement already satisfied: xxhash in /home/niko/anaconda3/lib/python3.11/site-packages (from evaluate) (2.0.2)\n",
      "Requirement already satisfied: multiprocess in /home/niko/anaconda3/lib/python3.11/site-packages (from evaluate) (0.70.14)\n",
      "Requirement already satisfied: fsspec>=2021.05.0 in /home/niko/anaconda3/lib/python3.11/site-packages (from fsspec[http]>=2021.05.0->evaluate) (2024.3.1)\n",
      "Requirement already satisfied: huggingface-hub>=0.7.0 in /home/niko/anaconda3/lib/python3.11/site-packages (from evaluate) (0.23.0)\n",
      "Requirement already satisfied: packaging in /home/niko/anaconda3/lib/python3.11/site-packages (from evaluate) (23.1)\n",
      "Requirement already satisfied: pyarrow>=8.0.0 in /home/niko/anaconda3/lib/python3.11/site-packages (from datasets>=2.0.0->evaluate) (11.0.0)\n",
      "Requirement already satisfied: aiohttp in /home/niko/anaconda3/lib/python3.11/site-packages (from datasets>=2.0.0->evaluate) (3.8.5)\n",
      "Requirement already satisfied: responses<0.19 in /home/niko/anaconda3/lib/python3.11/site-packages (from datasets>=2.0.0->evaluate) (0.13.3)\n",
      "Requirement already satisfied: pyyaml>=5.1 in /home/niko/anaconda3/lib/python3.11/site-packages (from datasets>=2.0.0->evaluate) (6.0)\n",
      "Requirement already satisfied: filelock in /home/niko/anaconda3/lib/python3.11/site-packages (from huggingface-hub>=0.7.0->evaluate) (3.9.0)\n",
      "Requirement already satisfied: typing-extensions>=3.7.4.3 in /home/niko/anaconda3/lib/python3.11/site-packages (from huggingface-hub>=0.7.0->evaluate) (4.8.0)\n",
      "Requirement already satisfied: charset-normalizer<4,>=2 in /home/niko/anaconda3/lib/python3.11/site-packages (from requests>=2.19.0->evaluate) (3.3.2)\n",
      "Requirement already satisfied: idna<4,>=2.5 in /home/niko/anaconda3/lib/python3.11/site-packages (from requests>=2.19.0->evaluate) (3.4)\n",
      "Requirement already satisfied: urllib3<3,>=1.21.1 in /home/niko/anaconda3/lib/python3.11/site-packages (from requests>=2.19.0->evaluate) (2.0.7)\n",
      "Requirement already satisfied: certifi>=2017.4.17 in /home/niko/anaconda3/lib/python3.11/site-packages (from requests>=2.19.0->evaluate) (2023.7.22)\n",
      "Requirement already satisfied: python-dateutil>=2.8.2 in /home/niko/anaconda3/lib/python3.11/site-packages (from pandas->evaluate) (2.8.2)\n",
      "Requirement already satisfied: pytz>=2020.1 in /home/niko/anaconda3/lib/python3.11/site-packages (from pandas->evaluate) (2023.3.post1)\n",
      "Requirement already satisfied: tzdata>=2022.1 in /home/niko/anaconda3/lib/python3.11/site-packages (from pandas->evaluate) (2023.3)\n",
      "Requirement already satisfied: attrs>=17.3.0 in /home/niko/anaconda3/lib/python3.11/site-packages (from aiohttp->datasets>=2.0.0->evaluate) (23.1.0)\n",
      "Requirement already satisfied: multidict<7.0,>=4.5 in /home/niko/anaconda3/lib/python3.11/site-packages (from aiohttp->datasets>=2.0.0->evaluate) (6.0.2)\n",
      "Requirement already satisfied: async-timeout<5.0,>=4.0.0a3 in /home/niko/anaconda3/lib/python3.11/site-packages (from aiohttp->datasets>=2.0.0->evaluate) (4.0.2)\n",
      "Requirement already satisfied: yarl<2.0,>=1.0 in /home/niko/anaconda3/lib/python3.11/site-packages (from aiohttp->datasets>=2.0.0->evaluate) (1.8.1)\n",
      "Requirement already satisfied: frozenlist>=1.1.1 in /home/niko/anaconda3/lib/python3.11/site-packages (from aiohttp->datasets>=2.0.0->evaluate) (1.3.3)\n",
      "Requirement already satisfied: aiosignal>=1.1.2 in /home/niko/anaconda3/lib/python3.11/site-packages (from aiohttp->datasets>=2.0.0->evaluate) (1.2.0)\n",
      "Requirement already satisfied: six>=1.5 in /home/niko/anaconda3/lib/python3.11/site-packages (from python-dateutil>=2.8.2->pandas->evaluate) (1.16.0)\n",
      "Downloading evaluate-0.4.2-py3-none-any.whl (84 kB)\n",
      "\u001b[2K   \u001b[90m━━━━━━━━━━━━━━━━━━━━━━━━━━━━━━━━━━━━━━━━\u001b[0m \u001b[32m84.1/84.1 kB\u001b[0m \u001b[31m1.6 MB/s\u001b[0m eta \u001b[36m0:00:00\u001b[0ma \u001b[36m0:00:01\u001b[0m\n",
      "\u001b[?25hInstalling collected packages: evaluate\n",
      "Successfully installed evaluate-0.4.2\n",
      "\n",
      "\u001b[1m[\u001b[0m\u001b[34;49mnotice\u001b[0m\u001b[1;39;49m]\u001b[0m\u001b[39;49m A new release of pip is available: \u001b[0m\u001b[31;49m24.0\u001b[0m\u001b[39;49m -> \u001b[0m\u001b[32;49m24.2\u001b[0m\n",
      "\u001b[1m[\u001b[0m\u001b[34;49mnotice\u001b[0m\u001b[1;39;49m]\u001b[0m\u001b[39;49m To update, run: \u001b[0m\u001b[32;49mpip install --upgrade pip\u001b[0m\n",
      "Requirement already satisfied: transformers in /home/niko/anaconda3/lib/python3.11/site-packages (4.32.1)\n",
      "Requirement already satisfied: filelock in /home/niko/anaconda3/lib/python3.11/site-packages (from transformers) (3.9.0)\n",
      "Requirement already satisfied: huggingface-hub<1.0,>=0.15.1 in /home/niko/anaconda3/lib/python3.11/site-packages (from transformers) (0.23.0)\n",
      "Requirement already satisfied: numpy>=1.17 in /home/niko/anaconda3/lib/python3.11/site-packages (from transformers) (1.26.1)\n",
      "Requirement already satisfied: packaging>=20.0 in /home/niko/anaconda3/lib/python3.11/site-packages (from transformers) (23.1)\n",
      "Requirement already satisfied: pyyaml>=5.1 in /home/niko/anaconda3/lib/python3.11/site-packages (from transformers) (6.0)\n",
      "Requirement already satisfied: regex!=2019.12.17 in /home/niko/anaconda3/lib/python3.11/site-packages (from transformers) (2023.8.8)\n",
      "Requirement already satisfied: requests in /home/niko/anaconda3/lib/python3.11/site-packages (from transformers) (2.31.0)\n",
      "Requirement already satisfied: tokenizers!=0.11.3,<0.14,>=0.11.1 in /home/niko/anaconda3/lib/python3.11/site-packages (from transformers) (0.13.2)\n",
      "Requirement already satisfied: safetensors>=0.3.1 in /home/niko/anaconda3/lib/python3.11/site-packages (from transformers) (0.3.2)\n",
      "Requirement already satisfied: tqdm>=4.27 in /home/niko/anaconda3/lib/python3.11/site-packages (from transformers) (4.66.1)\n",
      "Requirement already satisfied: fsspec>=2023.5.0 in /home/niko/anaconda3/lib/python3.11/site-packages (from huggingface-hub<1.0,>=0.15.1->transformers) (2024.3.1)\n",
      "Requirement already satisfied: typing-extensions>=3.7.4.3 in /home/niko/anaconda3/lib/python3.11/site-packages (from huggingface-hub<1.0,>=0.15.1->transformers) (4.8.0)\n",
      "Requirement already satisfied: charset-normalizer<4,>=2 in /home/niko/anaconda3/lib/python3.11/site-packages (from requests->transformers) (3.3.2)\n",
      "Requirement already satisfied: idna<4,>=2.5 in /home/niko/anaconda3/lib/python3.11/site-packages (from requests->transformers) (3.4)\n",
      "Requirement already satisfied: urllib3<3,>=1.21.1 in /home/niko/anaconda3/lib/python3.11/site-packages (from requests->transformers) (2.0.7)\n",
      "Requirement already satisfied: certifi>=2017.4.17 in /home/niko/anaconda3/lib/python3.11/site-packages (from requests->transformers) (2023.7.22)\n",
      "\n",
      "\u001b[1m[\u001b[0m\u001b[34;49mnotice\u001b[0m\u001b[1;39;49m]\u001b[0m\u001b[39;49m A new release of pip is available: \u001b[0m\u001b[31;49m24.0\u001b[0m\u001b[39;49m -> \u001b[0m\u001b[32;49m24.2\u001b[0m\n",
      "\u001b[1m[\u001b[0m\u001b[34;49mnotice\u001b[0m\u001b[1;39;49m]\u001b[0m\u001b[39;49m To update, run: \u001b[0m\u001b[32;49mpip install --upgrade pip\u001b[0m\n",
      "Collecting bert-score\n",
      "  Downloading bert_score-0.3.13-py3-none-any.whl.metadata (15 kB)\n",
      "Requirement already satisfied: torch>=1.0.0 in /home/niko/anaconda3/lib/python3.11/site-packages (from bert-score) (2.2.2+cpu)\n",
      "Requirement already satisfied: pandas>=1.0.1 in /home/niko/anaconda3/lib/python3.11/site-packages (from bert-score) (2.0.3)\n",
      "Requirement already satisfied: transformers>=3.0.0 in /home/niko/anaconda3/lib/python3.11/site-packages (from bert-score) (4.32.1)\n",
      "Requirement already satisfied: numpy in /home/niko/anaconda3/lib/python3.11/site-packages (from bert-score) (1.26.1)\n",
      "Requirement already satisfied: requests in /home/niko/anaconda3/lib/python3.11/site-packages (from bert-score) (2.31.0)\n",
      "Requirement already satisfied: tqdm>=4.31.1 in /home/niko/anaconda3/lib/python3.11/site-packages (from bert-score) (4.66.1)\n",
      "Requirement already satisfied: matplotlib in /home/niko/anaconda3/lib/python3.11/site-packages (from bert-score) (3.7.2)\n",
      "Requirement already satisfied: packaging>=20.9 in /home/niko/anaconda3/lib/python3.11/site-packages (from bert-score) (23.1)\n",
      "Requirement already satisfied: python-dateutil>=2.8.2 in /home/niko/anaconda3/lib/python3.11/site-packages (from pandas>=1.0.1->bert-score) (2.8.2)\n",
      "Requirement already satisfied: pytz>=2020.1 in /home/niko/anaconda3/lib/python3.11/site-packages (from pandas>=1.0.1->bert-score) (2023.3.post1)\n",
      "Requirement already satisfied: tzdata>=2022.1 in /home/niko/anaconda3/lib/python3.11/site-packages (from pandas>=1.0.1->bert-score) (2023.3)\n",
      "Requirement already satisfied: filelock in /home/niko/anaconda3/lib/python3.11/site-packages (from torch>=1.0.0->bert-score) (3.9.0)\n",
      "Requirement already satisfied: typing-extensions>=4.8.0 in /home/niko/anaconda3/lib/python3.11/site-packages (from torch>=1.0.0->bert-score) (4.8.0)\n",
      "Requirement already satisfied: sympy in /home/niko/anaconda3/lib/python3.11/site-packages (from torch>=1.0.0->bert-score) (1.11.1)\n",
      "Requirement already satisfied: networkx in /home/niko/anaconda3/lib/python3.11/site-packages (from torch>=1.0.0->bert-score) (3.1)\n",
      "Requirement already satisfied: jinja2 in /home/niko/anaconda3/lib/python3.11/site-packages (from torch>=1.0.0->bert-score) (3.1.2)\n",
      "Requirement already satisfied: fsspec in /home/niko/anaconda3/lib/python3.11/site-packages (from torch>=1.0.0->bert-score) (2024.3.1)\n",
      "Requirement already satisfied: huggingface-hub<1.0,>=0.15.1 in /home/niko/anaconda3/lib/python3.11/site-packages (from transformers>=3.0.0->bert-score) (0.23.0)\n",
      "Requirement already satisfied: pyyaml>=5.1 in /home/niko/anaconda3/lib/python3.11/site-packages (from transformers>=3.0.0->bert-score) (6.0)\n",
      "Requirement already satisfied: regex!=2019.12.17 in /home/niko/anaconda3/lib/python3.11/site-packages (from transformers>=3.0.0->bert-score) (2023.8.8)\n",
      "Requirement already satisfied: tokenizers!=0.11.3,<0.14,>=0.11.1 in /home/niko/anaconda3/lib/python3.11/site-packages (from transformers>=3.0.0->bert-score) (0.13.2)\n",
      "Requirement already satisfied: safetensors>=0.3.1 in /home/niko/anaconda3/lib/python3.11/site-packages (from transformers>=3.0.0->bert-score) (0.3.2)\n",
      "Requirement already satisfied: contourpy>=1.0.1 in /home/niko/anaconda3/lib/python3.11/site-packages (from matplotlib->bert-score) (1.0.5)\n",
      "Requirement already satisfied: cycler>=0.10 in /home/niko/anaconda3/lib/python3.11/site-packages (from matplotlib->bert-score) (0.11.0)\n",
      "Requirement already satisfied: fonttools>=4.22.0 in /home/niko/anaconda3/lib/python3.11/site-packages (from matplotlib->bert-score) (4.25.0)\n",
      "Requirement already satisfied: kiwisolver>=1.0.1 in /home/niko/anaconda3/lib/python3.11/site-packages (from matplotlib->bert-score) (1.4.4)\n",
      "Requirement already satisfied: pillow>=6.2.0 in /home/niko/anaconda3/lib/python3.11/site-packages (from matplotlib->bert-score) (9.4.0)\n",
      "Requirement already satisfied: pyparsing<3.1,>=2.3.1 in /home/niko/anaconda3/lib/python3.11/site-packages (from matplotlib->bert-score) (3.0.9)\n",
      "Requirement already satisfied: charset-normalizer<4,>=2 in /home/niko/anaconda3/lib/python3.11/site-packages (from requests->bert-score) (3.3.2)\n",
      "Requirement already satisfied: idna<4,>=2.5 in /home/niko/anaconda3/lib/python3.11/site-packages (from requests->bert-score) (3.4)\n",
      "Requirement already satisfied: urllib3<3,>=1.21.1 in /home/niko/anaconda3/lib/python3.11/site-packages (from requests->bert-score) (2.0.7)\n",
      "Requirement already satisfied: certifi>=2017.4.17 in /home/niko/anaconda3/lib/python3.11/site-packages (from requests->bert-score) (2023.7.22)\n",
      "Requirement already satisfied: six>=1.5 in /home/niko/anaconda3/lib/python3.11/site-packages (from python-dateutil>=2.8.2->pandas>=1.0.1->bert-score) (1.16.0)\n",
      "Requirement already satisfied: MarkupSafe>=2.0 in /home/niko/anaconda3/lib/python3.11/site-packages (from jinja2->torch>=1.0.0->bert-score) (2.1.1)\n",
      "Requirement already satisfied: mpmath>=0.19 in /home/niko/anaconda3/lib/python3.11/site-packages (from sympy->torch>=1.0.0->bert-score) (1.3.0)\n",
      "Downloading bert_score-0.3.13-py3-none-any.whl (61 kB)\n",
      "\u001b[2K   \u001b[90m━━━━━━━━━━━━━━━━━━━━━━━━━━━━━━━━━━━━━━━━\u001b[0m \u001b[32m61.1/61.1 kB\u001b[0m \u001b[31m2.2 MB/s\u001b[0m eta \u001b[36m0:00:00\u001b[0m\n",
      "\u001b[?25hInstalling collected packages: bert-score\n",
      "Successfully installed bert-score-0.3.13\n",
      "\n",
      "\u001b[1m[\u001b[0m\u001b[34;49mnotice\u001b[0m\u001b[1;39;49m]\u001b[0m\u001b[39;49m A new release of pip is available: \u001b[0m\u001b[31;49m24.0\u001b[0m\u001b[39;49m -> \u001b[0m\u001b[32;49m24.2\u001b[0m\n",
      "\u001b[1m[\u001b[0m\u001b[34;49mnotice\u001b[0m\u001b[1;39;49m]\u001b[0m\u001b[39;49m To update, run: \u001b[0m\u001b[32;49mpip install --upgrade pip\u001b[0m\n",
      "Collecting rouge_score\n",
      "  Downloading rouge_score-0.1.2.tar.gz (17 kB)\n",
      "  Preparing metadata (setup.py) ... \u001b[?25ldone\n",
      "\u001b[?25hCollecting absl-py (from rouge_score)\n",
      "  Downloading absl_py-2.1.0-py3-none-any.whl.metadata (2.3 kB)\n",
      "Requirement already satisfied: nltk in /home/niko/anaconda3/lib/python3.11/site-packages (from rouge_score) (3.8.1)\n",
      "Requirement already satisfied: numpy in /home/niko/anaconda3/lib/python3.11/site-packages (from rouge_score) (1.26.1)\n",
      "Requirement already satisfied: six>=1.14.0 in /home/niko/anaconda3/lib/python3.11/site-packages (from rouge_score) (1.16.0)\n",
      "Requirement already satisfied: click in /home/niko/anaconda3/lib/python3.11/site-packages (from nltk->rouge_score) (8.0.4)\n",
      "Requirement already satisfied: joblib in /home/niko/anaconda3/lib/python3.11/site-packages (from nltk->rouge_score) (1.3.2)\n",
      "Requirement already satisfied: regex>=2021.8.3 in /home/niko/anaconda3/lib/python3.11/site-packages (from nltk->rouge_score) (2023.8.8)\n",
      "Requirement already satisfied: tqdm in /home/niko/anaconda3/lib/python3.11/site-packages (from nltk->rouge_score) (4.66.1)\n",
      "Downloading absl_py-2.1.0-py3-none-any.whl (133 kB)\n",
      "\u001b[2K   \u001b[90m━━━━━━━━━━━━━━━━━━━━━━━━━━━━━━━━━━━━━━━━\u001b[0m \u001b[32m133.7/133.7 kB\u001b[0m \u001b[31m4.2 MB/s\u001b[0m eta \u001b[36m0:00:00\u001b[0m\n",
      "\u001b[?25hBuilding wheels for collected packages: rouge_score\n",
      "  Building wheel for rouge_score (setup.py) ... \u001b[?25ldone\n",
      "\u001b[?25h  Created wheel for rouge_score: filename=rouge_score-0.1.2-py3-none-any.whl size=24935 sha256=53ed41ce08f9c77fbb2ba4637092d2d62ae8164e7045f472987bb5c43c2111b5\n",
      "  Stored in directory: /home/niko/.cache/pip/wheels/1e/19/43/8a442dc83660ca25e163e1bd1f89919284ab0d0c1475475148\n",
      "Successfully built rouge_score\n",
      "Installing collected packages: absl-py, rouge_score\n",
      "Successfully installed absl-py-2.1.0 rouge_score-0.1.2\n",
      "\n",
      "\u001b[1m[\u001b[0m\u001b[34;49mnotice\u001b[0m\u001b[1;39;49m]\u001b[0m\u001b[39;49m A new release of pip is available: \u001b[0m\u001b[31;49m24.0\u001b[0m\u001b[39;49m -> \u001b[0m\u001b[32;49m24.2\u001b[0m\n",
      "\u001b[1m[\u001b[0m\u001b[34;49mnotice\u001b[0m\u001b[1;39;49m]\u001b[0m\u001b[39;49m To update, run: \u001b[0m\u001b[32;49mpip install --upgrade pip\u001b[0m\n"
     ]
    }
   ],
   "source": [
    "!pip install evaluate\n",
    "!pip install transformers\n",
    "!pip install bert-score\n",
    "!pip install rouge_score"
   ]
  },
  {
   "cell_type": "code",
   "execution_count": 5,
   "metadata": {},
   "outputs": [
    {
     "ename": "ImportError",
     "evalue": "cannot import name 'DEFAULT_CIPHERS' from 'urllib3.util.ssl_' (/home/niko/anaconda3/lib/python3.11/site-packages/urllib3/util/ssl_.py)",
     "output_type": "error",
     "traceback": [
      "\u001b[0;31m---------------------------------------------------------------------------\u001b[0m",
      "\u001b[0;31mImportError\u001b[0m                               Traceback (most recent call last)",
      "Cell \u001b[0;32mIn[5], line 2\u001b[0m\n\u001b[1;32m      1\u001b[0m \u001b[38;5;28;01mimport\u001b[39;00m \u001b[38;5;21;01mre\u001b[39;00m\n\u001b[0;32m----> 2\u001b[0m \u001b[38;5;28;01mfrom\u001b[39;00m \u001b[38;5;21;01mevaluate\u001b[39;00m \u001b[38;5;28;01mimport\u001b[39;00m load\n\u001b[1;32m      3\u001b[0m \u001b[38;5;28;01mimport\u001b[39;00m \u001b[38;5;21;01mevaluate\u001b[39;00m\n\u001b[1;32m      4\u001b[0m \u001b[38;5;28;01mfrom\u001b[39;00m \u001b[38;5;21;01mhtml\u001b[39;00m \u001b[38;5;28;01mimport\u001b[39;00m unescape\n",
      "File \u001b[0;32m~/anaconda3/lib/python3.11/site-packages/evaluate/__init__.py:29\u001b[0m\n\u001b[1;32m     25\u001b[0m SCRIPTS_VERSION \u001b[38;5;241m=\u001b[39m \u001b[38;5;124m\"\u001b[39m\u001b[38;5;124mmain\u001b[39m\u001b[38;5;124m\"\u001b[39m \u001b[38;5;28;01mif\u001b[39;00m version\u001b[38;5;241m.\u001b[39mparse(__version__)\u001b[38;5;241m.\u001b[39mis_devrelease \u001b[38;5;28;01melse\u001b[39;00m __version__\n\u001b[1;32m     27\u001b[0m \u001b[38;5;28;01mdel\u001b[39;00m version\n\u001b[0;32m---> 29\u001b[0m \u001b[38;5;28;01mfrom\u001b[39;00m \u001b[38;5;21;01m.\u001b[39;00m\u001b[38;5;21;01mevaluation_suite\u001b[39;00m \u001b[38;5;28;01mimport\u001b[39;00m EvaluationSuite\n\u001b[1;32m     30\u001b[0m \u001b[38;5;28;01mfrom\u001b[39;00m \u001b[38;5;21;01m.\u001b[39;00m\u001b[38;5;21;01mevaluator\u001b[39;00m \u001b[38;5;28;01mimport\u001b[39;00m (\n\u001b[1;32m     31\u001b[0m     AudioClassificationEvaluator,\n\u001b[1;32m     32\u001b[0m     AutomaticSpeechRecognitionEvaluator,\n\u001b[0;32m   (...)\u001b[0m\n\u001b[1;32m     42\u001b[0m     evaluator,\n\u001b[1;32m     43\u001b[0m )\n\u001b[1;32m     44\u001b[0m \u001b[38;5;28;01mfrom\u001b[39;00m \u001b[38;5;21;01m.\u001b[39;00m\u001b[38;5;21;01mhub\u001b[39;00m \u001b[38;5;28;01mimport\u001b[39;00m push_to_hub\n",
      "File \u001b[0;32m~/anaconda3/lib/python3.11/site-packages/evaluate/evaluation_suite/__init__.py:7\u001b[0m\n\u001b[1;32m      4\u001b[0m \u001b[38;5;28;01mfrom\u001b[39;00m \u001b[38;5;21;01mpathlib\u001b[39;00m \u001b[38;5;28;01mimport\u001b[39;00m Path\n\u001b[1;32m      5\u001b[0m \u001b[38;5;28;01mfrom\u001b[39;00m \u001b[38;5;21;01mtyping\u001b[39;00m \u001b[38;5;28;01mimport\u001b[39;00m Callable, Dict, Optional, Union\n\u001b[0;32m----> 7\u001b[0m \u001b[38;5;28;01mfrom\u001b[39;00m \u001b[38;5;21;01mdatasets\u001b[39;00m \u001b[38;5;28;01mimport\u001b[39;00m Dataset, DownloadConfig, DownloadMode, load_dataset\n\u001b[1;32m      8\u001b[0m \u001b[38;5;28;01mfrom\u001b[39;00m \u001b[38;5;21;01mdatasets\u001b[39;00m\u001b[38;5;21;01m.\u001b[39;00m\u001b[38;5;21;01mutils\u001b[39;00m\u001b[38;5;21;01m.\u001b[39;00m\u001b[38;5;21;01mversion\u001b[39;00m \u001b[38;5;28;01mimport\u001b[39;00m Version\n\u001b[1;32m     10\u001b[0m \u001b[38;5;28;01mfrom\u001b[39;00m \u001b[38;5;21;01m.\u001b[39;00m\u001b[38;5;21;01m.\u001b[39;00m\u001b[38;5;21;01mevaluator\u001b[39;00m \u001b[38;5;28;01mimport\u001b[39;00m evaluator\n",
      "File \u001b[0;32m~/anaconda3/lib/python3.11/site-packages/datasets/__init__.py:43\u001b[0m\n\u001b[1;32m     40\u001b[0m \u001b[38;5;28;01mdel\u001b[39;00m pyarrow\n\u001b[1;32m     41\u001b[0m \u001b[38;5;28;01mdel\u001b[39;00m version\n\u001b[0;32m---> 43\u001b[0m \u001b[38;5;28;01mfrom\u001b[39;00m \u001b[38;5;21;01m.\u001b[39;00m\u001b[38;5;21;01marrow_dataset\u001b[39;00m \u001b[38;5;28;01mimport\u001b[39;00m Dataset\n\u001b[1;32m     44\u001b[0m \u001b[38;5;28;01mfrom\u001b[39;00m \u001b[38;5;21;01m.\u001b[39;00m\u001b[38;5;21;01marrow_reader\u001b[39;00m \u001b[38;5;28;01mimport\u001b[39;00m ReadInstruction\n\u001b[1;32m     45\u001b[0m \u001b[38;5;28;01mfrom\u001b[39;00m \u001b[38;5;21;01m.\u001b[39;00m\u001b[38;5;21;01mbuilder\u001b[39;00m \u001b[38;5;28;01mimport\u001b[39;00m ArrowBasedBuilder, BeamBasedBuilder, BuilderConfig, DatasetBuilder, GeneratorBasedBuilder\n",
      "File \u001b[0;32m~/anaconda3/lib/python3.11/site-packages/datasets/arrow_dataset.py:66\u001b[0m\n\u001b[1;32m     64\u001b[0m \u001b[38;5;28;01mfrom\u001b[39;00m \u001b[38;5;21;01m.\u001b[39;00m \u001b[38;5;28;01mimport\u001b[39;00m config\n\u001b[1;32m     65\u001b[0m \u001b[38;5;28;01mfrom\u001b[39;00m \u001b[38;5;21;01m.\u001b[39;00m\u001b[38;5;21;01marrow_reader\u001b[39;00m \u001b[38;5;28;01mimport\u001b[39;00m ArrowReader\n\u001b[0;32m---> 66\u001b[0m \u001b[38;5;28;01mfrom\u001b[39;00m \u001b[38;5;21;01m.\u001b[39;00m\u001b[38;5;21;01marrow_writer\u001b[39;00m \u001b[38;5;28;01mimport\u001b[39;00m ArrowWriter, OptimizedTypedSequence\n\u001b[1;32m     67\u001b[0m \u001b[38;5;28;01mfrom\u001b[39;00m \u001b[38;5;21;01m.\u001b[39;00m\u001b[38;5;21;01mdownload\u001b[39;00m\u001b[38;5;21;01m.\u001b[39;00m\u001b[38;5;21;01mdownload_config\u001b[39;00m \u001b[38;5;28;01mimport\u001b[39;00m DownloadConfig\n\u001b[1;32m     68\u001b[0m \u001b[38;5;28;01mfrom\u001b[39;00m \u001b[38;5;21;01m.\u001b[39;00m\u001b[38;5;21;01mdownload\u001b[39;00m\u001b[38;5;21;01m.\u001b[39;00m\u001b[38;5;21;01mstreaming_download_manager\u001b[39;00m \u001b[38;5;28;01mimport\u001b[39;00m xgetsize\n",
      "File \u001b[0;32m~/anaconda3/lib/python3.11/site-packages/datasets/arrow_writer.py:27\u001b[0m\n\u001b[1;32m     24\u001b[0m \u001b[38;5;28;01mimport\u001b[39;00m \u001b[38;5;21;01mpyarrow\u001b[39;00m\u001b[38;5;21;01m.\u001b[39;00m\u001b[38;5;21;01mparquet\u001b[39;00m \u001b[38;5;28;01mas\u001b[39;00m \u001b[38;5;21;01mpq\u001b[39;00m\n\u001b[1;32m     26\u001b[0m \u001b[38;5;28;01mfrom\u001b[39;00m \u001b[38;5;21;01m.\u001b[39;00m \u001b[38;5;28;01mimport\u001b[39;00m config\n\u001b[0;32m---> 27\u001b[0m \u001b[38;5;28;01mfrom\u001b[39;00m \u001b[38;5;21;01m.\u001b[39;00m\u001b[38;5;21;01mfeatures\u001b[39;00m \u001b[38;5;28;01mimport\u001b[39;00m Features, Image, Value\n\u001b[1;32m     28\u001b[0m \u001b[38;5;28;01mfrom\u001b[39;00m \u001b[38;5;21;01m.\u001b[39;00m\u001b[38;5;21;01mfeatures\u001b[39;00m\u001b[38;5;21;01m.\u001b[39;00m\u001b[38;5;21;01mfeatures\u001b[39;00m \u001b[38;5;28;01mimport\u001b[39;00m (\n\u001b[1;32m     29\u001b[0m     FeatureType,\n\u001b[1;32m     30\u001b[0m     _ArrayXDExtensionType,\n\u001b[0;32m   (...)\u001b[0m\n\u001b[1;32m     36\u001b[0m     to_pyarrow_listarray,\n\u001b[1;32m     37\u001b[0m )\n\u001b[1;32m     38\u001b[0m \u001b[38;5;28;01mfrom\u001b[39;00m \u001b[38;5;21;01m.\u001b[39;00m\u001b[38;5;21;01mfilesystems\u001b[39;00m \u001b[38;5;28;01mimport\u001b[39;00m is_remote_filesystem\n",
      "File \u001b[0;32m~/anaconda3/lib/python3.11/site-packages/datasets/features/__init__.py:17\u001b[0m\n\u001b[1;32m      1\u001b[0m \u001b[38;5;66;03m# flake8: noqa\u001b[39;00m\n\u001b[1;32m      3\u001b[0m __all__ \u001b[38;5;241m=\u001b[39m [\n\u001b[1;32m      4\u001b[0m     \u001b[38;5;124m\"\u001b[39m\u001b[38;5;124mAudio\u001b[39m\u001b[38;5;124m\"\u001b[39m,\n\u001b[1;32m      5\u001b[0m     \u001b[38;5;124m\"\u001b[39m\u001b[38;5;124mArray2D\u001b[39m\u001b[38;5;124m\"\u001b[39m,\n\u001b[0;32m   (...)\u001b[0m\n\u001b[1;32m     15\u001b[0m     \u001b[38;5;124m\"\u001b[39m\u001b[38;5;124mTranslationVariableLanguages\u001b[39m\u001b[38;5;124m\"\u001b[39m,\n\u001b[1;32m     16\u001b[0m ]\n\u001b[0;32m---> 17\u001b[0m \u001b[38;5;28;01mfrom\u001b[39;00m \u001b[38;5;21;01m.\u001b[39;00m\u001b[38;5;21;01maudio\u001b[39;00m \u001b[38;5;28;01mimport\u001b[39;00m Audio\n\u001b[1;32m     18\u001b[0m \u001b[38;5;28;01mfrom\u001b[39;00m \u001b[38;5;21;01m.\u001b[39;00m\u001b[38;5;21;01mfeatures\u001b[39;00m \u001b[38;5;28;01mimport\u001b[39;00m Array2D, Array3D, Array4D, Array5D, ClassLabel, Features, Sequence, Value\n\u001b[1;32m     19\u001b[0m \u001b[38;5;28;01mfrom\u001b[39;00m \u001b[38;5;21;01m.\u001b[39;00m\u001b[38;5;21;01mimage\u001b[39;00m \u001b[38;5;28;01mimport\u001b[39;00m Image\n",
      "File \u001b[0;32m~/anaconda3/lib/python3.11/site-packages/datasets/features/audio.py:10\u001b[0m\n\u001b[1;32m      7\u001b[0m \u001b[38;5;28;01mimport\u001b[39;00m \u001b[38;5;21;01mpyarrow\u001b[39;00m \u001b[38;5;28;01mas\u001b[39;00m \u001b[38;5;21;01mpa\u001b[39;00m\n\u001b[1;32m      9\u001b[0m \u001b[38;5;28;01mfrom\u001b[39;00m \u001b[38;5;21;01m.\u001b[39;00m\u001b[38;5;21;01m.\u001b[39;00m \u001b[38;5;28;01mimport\u001b[39;00m config\n\u001b[0;32m---> 10\u001b[0m \u001b[38;5;28;01mfrom\u001b[39;00m \u001b[38;5;21;01m.\u001b[39;00m\u001b[38;5;21;01m.\u001b[39;00m\u001b[38;5;21;01mdownload\u001b[39;00m\u001b[38;5;21;01m.\u001b[39;00m\u001b[38;5;21;01mstreaming_download_manager\u001b[39;00m \u001b[38;5;28;01mimport\u001b[39;00m xopen, xsplitext\n\u001b[1;32m     11\u001b[0m \u001b[38;5;28;01mfrom\u001b[39;00m \u001b[38;5;21;01m.\u001b[39;00m\u001b[38;5;21;01m.\u001b[39;00m\u001b[38;5;21;01mtable\u001b[39;00m \u001b[38;5;28;01mimport\u001b[39;00m array_cast\n\u001b[1;32m     12\u001b[0m \u001b[38;5;28;01mfrom\u001b[39;00m \u001b[38;5;21;01m.\u001b[39;00m\u001b[38;5;21;01m.\u001b[39;00m\u001b[38;5;21;01mutils\u001b[39;00m\u001b[38;5;21;01m.\u001b[39;00m\u001b[38;5;21;01mpy_utils\u001b[39;00m \u001b[38;5;28;01mimport\u001b[39;00m no_op_if_value_is_null, string_to_dict\n",
      "File \u001b[0;32m~/anaconda3/lib/python3.11/site-packages/datasets/download/__init__.py:10\u001b[0m\n\u001b[1;32m      8\u001b[0m \u001b[38;5;28;01mfrom\u001b[39;00m \u001b[38;5;21;01m.\u001b[39;00m\u001b[38;5;21;01mdownload_config\u001b[39;00m \u001b[38;5;28;01mimport\u001b[39;00m DownloadConfig\n\u001b[1;32m      9\u001b[0m \u001b[38;5;28;01mfrom\u001b[39;00m \u001b[38;5;21;01m.\u001b[39;00m\u001b[38;5;21;01mdownload_manager\u001b[39;00m \u001b[38;5;28;01mimport\u001b[39;00m DownloadManager, DownloadMode\n\u001b[0;32m---> 10\u001b[0m \u001b[38;5;28;01mfrom\u001b[39;00m \u001b[38;5;21;01m.\u001b[39;00m\u001b[38;5;21;01mstreaming_download_manager\u001b[39;00m \u001b[38;5;28;01mimport\u001b[39;00m StreamingDownloadManager\n",
      "File \u001b[0;32m~/anaconda3/lib/python3.11/site-packages/datasets/download/streaming_download_manager.py:21\u001b[0m\n\u001b[1;32m     18\u001b[0m \u001b[38;5;28;01mfrom\u001b[39;00m \u001b[38;5;21;01maiohttp\u001b[39;00m\u001b[38;5;21;01m.\u001b[39;00m\u001b[38;5;21;01mclient_exceptions\u001b[39;00m \u001b[38;5;28;01mimport\u001b[39;00m ClientError\n\u001b[1;32m     20\u001b[0m \u001b[38;5;28;01mfrom\u001b[39;00m \u001b[38;5;21;01m.\u001b[39;00m\u001b[38;5;21;01m.\u001b[39;00m \u001b[38;5;28;01mimport\u001b[39;00m config\n\u001b[0;32m---> 21\u001b[0m \u001b[38;5;28;01mfrom\u001b[39;00m \u001b[38;5;21;01m.\u001b[39;00m\u001b[38;5;21;01m.\u001b[39;00m\u001b[38;5;21;01mfilesystems\u001b[39;00m \u001b[38;5;28;01mimport\u001b[39;00m COMPRESSION_FILESYSTEMS\n\u001b[1;32m     22\u001b[0m \u001b[38;5;28;01mfrom\u001b[39;00m \u001b[38;5;21;01m.\u001b[39;00m\u001b[38;5;21;01m.\u001b[39;00m\u001b[38;5;21;01mutils\u001b[39;00m\u001b[38;5;21;01m.\u001b[39;00m\u001b[38;5;21;01mfile_utils\u001b[39;00m \u001b[38;5;28;01mimport\u001b[39;00m (\n\u001b[1;32m     23\u001b[0m     get_authentication_headers_for_url,\n\u001b[1;32m     24\u001b[0m     http_head,\n\u001b[0;32m   (...)\u001b[0m\n\u001b[1;32m     28\u001b[0m     url_or_path_join,\n\u001b[1;32m     29\u001b[0m )\n\u001b[1;32m     30\u001b[0m \u001b[38;5;28;01mfrom\u001b[39;00m \u001b[38;5;21;01m.\u001b[39;00m\u001b[38;5;21;01m.\u001b[39;00m\u001b[38;5;21;01mutils\u001b[39;00m\u001b[38;5;21;01m.\u001b[39;00m\u001b[38;5;21;01mlogging\u001b[39;00m \u001b[38;5;28;01mimport\u001b[39;00m get_logger\n",
      "File \u001b[0;32m~/anaconda3/lib/python3.11/site-packages/datasets/filesystems/__init__.py:16\u001b[0m\n\u001b[1;32m     13\u001b[0m _has_s3fs \u001b[38;5;241m=\u001b[39m importlib\u001b[38;5;241m.\u001b[39mutil\u001b[38;5;241m.\u001b[39mfind_spec(\u001b[38;5;124m\"\u001b[39m\u001b[38;5;124ms3fs\u001b[39m\u001b[38;5;124m\"\u001b[39m) \u001b[38;5;129;01mis\u001b[39;00m \u001b[38;5;129;01mnot\u001b[39;00m \u001b[38;5;28;01mNone\u001b[39;00m\n\u001b[1;32m     15\u001b[0m \u001b[38;5;28;01mif\u001b[39;00m _has_s3fs:\n\u001b[0;32m---> 16\u001b[0m     \u001b[38;5;28;01mfrom\u001b[39;00m \u001b[38;5;21;01m.\u001b[39;00m\u001b[38;5;21;01ms3filesystem\u001b[39;00m \u001b[38;5;28;01mimport\u001b[39;00m S3FileSystem  \u001b[38;5;66;03m# noqa: F401\u001b[39;00m\n\u001b[1;32m     18\u001b[0m COMPRESSION_FILESYSTEMS: List[compression\u001b[38;5;241m.\u001b[39mBaseCompressedFileFileSystem] \u001b[38;5;241m=\u001b[39m [\n\u001b[1;32m     19\u001b[0m     compression\u001b[38;5;241m.\u001b[39mBz2FileSystem,\n\u001b[1;32m     20\u001b[0m     compression\u001b[38;5;241m.\u001b[39mGzipFileSystem,\n\u001b[0;32m   (...)\u001b[0m\n\u001b[1;32m     23\u001b[0m     compression\u001b[38;5;241m.\u001b[39mZstdFileSystem,\n\u001b[1;32m     24\u001b[0m ]\n\u001b[1;32m     26\u001b[0m \u001b[38;5;66;03m# Register custom filesystems\u001b[39;00m\n",
      "File \u001b[0;32m~/anaconda3/lib/python3.11/site-packages/datasets/filesystems/s3filesystem.py:1\u001b[0m\n\u001b[0;32m----> 1\u001b[0m \u001b[38;5;28;01mimport\u001b[39;00m \u001b[38;5;21;01ms3fs\u001b[39;00m\n\u001b[1;32m      4\u001b[0m \u001b[38;5;28;01mclass\u001b[39;00m \u001b[38;5;21;01mS3FileSystem\u001b[39;00m(s3fs\u001b[38;5;241m.\u001b[39mS3FileSystem):\n\u001b[1;32m      5\u001b[0m \u001b[38;5;250m    \u001b[39m\u001b[38;5;124;03m\"\"\"\u001b[39;00m\n\u001b[1;32m      6\u001b[0m \u001b[38;5;124;03m    `datasets.filesystems.S3FileSystem` is a subclass of [`s3fs.S3FileSystem`](https://s3fs.readthedocs.io/en/latest/api.html).\u001b[39;00m\n\u001b[1;32m      7\u001b[0m \n\u001b[0;32m   (...)\u001b[0m\n\u001b[1;32m    112\u001b[0m \u001b[38;5;124;03m    ```\u001b[39;00m\n\u001b[1;32m    113\u001b[0m \u001b[38;5;124;03m    \"\"\"\u001b[39;00m\n",
      "File \u001b[0;32m~/anaconda3/lib/python3.11/site-packages/s3fs/__init__.py:1\u001b[0m\n\u001b[0;32m----> 1\u001b[0m \u001b[38;5;28;01mfrom\u001b[39;00m \u001b[38;5;21;01m.\u001b[39;00m\u001b[38;5;21;01mcore\u001b[39;00m \u001b[38;5;28;01mimport\u001b[39;00m S3FileSystem, S3File\n\u001b[1;32m      2\u001b[0m \u001b[38;5;28;01mfrom\u001b[39;00m \u001b[38;5;21;01m.\u001b[39;00m\u001b[38;5;21;01mmapping\u001b[39;00m \u001b[38;5;28;01mimport\u001b[39;00m S3Map\n\u001b[1;32m      4\u001b[0m \u001b[38;5;28;01mfrom\u001b[39;00m \u001b[38;5;21;01m.\u001b[39;00m\u001b[38;5;21;01m_version\u001b[39;00m \u001b[38;5;28;01mimport\u001b[39;00m get_versions\n",
      "File \u001b[0;32m~/anaconda3/lib/python3.11/site-packages/s3fs/core.py:29\u001b[0m\n\u001b[1;32m     27\u001b[0m \u001b[38;5;28;01mimport\u001b[39;00m \u001b[38;5;21;01maiobotocore\u001b[39;00m\n\u001b[1;32m     28\u001b[0m \u001b[38;5;28;01mimport\u001b[39;00m \u001b[38;5;21;01mbotocore\u001b[39;00m\n\u001b[0;32m---> 29\u001b[0m \u001b[38;5;28;01mimport\u001b[39;00m \u001b[38;5;21;01maiobotocore\u001b[39;00m\u001b[38;5;21;01m.\u001b[39;00m\u001b[38;5;21;01msession\u001b[39;00m\n\u001b[1;32m     30\u001b[0m \u001b[38;5;28;01mfrom\u001b[39;00m \u001b[38;5;21;01maiobotocore\u001b[39;00m\u001b[38;5;21;01m.\u001b[39;00m\u001b[38;5;21;01mconfig\u001b[39;00m \u001b[38;5;28;01mimport\u001b[39;00m AioConfig\n\u001b[1;32m     31\u001b[0m \u001b[38;5;28;01mfrom\u001b[39;00m \u001b[38;5;21;01mbotocore\u001b[39;00m\u001b[38;5;21;01m.\u001b[39;00m\u001b[38;5;21;01mexceptions\u001b[39;00m \u001b[38;5;28;01mimport\u001b[39;00m ClientError, HTTPClientError, ParamValidationError\n",
      "File \u001b[0;32m~/anaconda3/lib/python3.11/site-packages/aiobotocore/session.py:1\u001b[0m\n\u001b[0;32m----> 1\u001b[0m \u001b[38;5;28;01mfrom\u001b[39;00m \u001b[38;5;21;01mbotocore\u001b[39;00m \u001b[38;5;28;01mimport\u001b[39;00m UNSIGNED, translate\n\u001b[1;32m      2\u001b[0m \u001b[38;5;28;01mfrom\u001b[39;00m \u001b[38;5;21;01mbotocore\u001b[39;00m\u001b[38;5;21;01m.\u001b[39;00m\u001b[38;5;21;01mexceptions\u001b[39;00m \u001b[38;5;28;01mimport\u001b[39;00m PartialCredentialsError\n\u001b[1;32m      3\u001b[0m \u001b[38;5;28;01mfrom\u001b[39;00m \u001b[38;5;21;01mbotocore\u001b[39;00m\u001b[38;5;21;01m.\u001b[39;00m\u001b[38;5;21;01msession\u001b[39;00m \u001b[38;5;28;01mimport\u001b[39;00m (\n\u001b[1;32m      4\u001b[0m     EVENT_ALIASES,\n\u001b[1;32m      5\u001b[0m     ServiceModel,\n\u001b[0;32m   (...)\u001b[0m\n\u001b[1;32m      8\u001b[0m     copy,\n\u001b[1;32m      9\u001b[0m )\n",
      "File \u001b[0;32m~/anaconda3/lib/python3.11/site-packages/botocore/translate.py:16\u001b[0m\n\u001b[1;32m      1\u001b[0m \u001b[38;5;66;03m# Copyright (c) 2012-2013 Mitch Garnaat http://garnaat.org/\u001b[39;00m\n\u001b[1;32m      2\u001b[0m \u001b[38;5;66;03m# Copyright 2012-2016 Amazon.com, Inc. or its affiliates. All Rights Reserved.\u001b[39;00m\n\u001b[1;32m      3\u001b[0m \u001b[38;5;66;03m#\u001b[39;00m\n\u001b[0;32m   (...)\u001b[0m\n\u001b[1;32m     12\u001b[0m \u001b[38;5;66;03m# ANY KIND, either express or implied. See the License for the specific\u001b[39;00m\n\u001b[1;32m     13\u001b[0m \u001b[38;5;66;03m# language governing permissions and limitations under the License.\u001b[39;00m\n\u001b[1;32m     14\u001b[0m \u001b[38;5;28;01mimport\u001b[39;00m \u001b[38;5;21;01mcopy\u001b[39;00m\n\u001b[0;32m---> 16\u001b[0m \u001b[38;5;28;01mfrom\u001b[39;00m \u001b[38;5;21;01mbotocore\u001b[39;00m\u001b[38;5;21;01m.\u001b[39;00m\u001b[38;5;21;01mutils\u001b[39;00m \u001b[38;5;28;01mimport\u001b[39;00m merge_dicts\n\u001b[1;32m     19\u001b[0m \u001b[38;5;28;01mdef\u001b[39;00m \u001b[38;5;21mbuild_retry_config\u001b[39m(\n\u001b[1;32m     20\u001b[0m     endpoint_prefix, retry_model, definitions, client_retry_config\u001b[38;5;241m=\u001b[39m\u001b[38;5;28;01mNone\u001b[39;00m\n\u001b[1;32m     21\u001b[0m ):\n\u001b[1;32m     22\u001b[0m     service_config \u001b[38;5;241m=\u001b[39m retry_model\u001b[38;5;241m.\u001b[39mget(endpoint_prefix, {})\n",
      "File \u001b[0;32m~/anaconda3/lib/python3.11/site-packages/botocore/utils.py:37\u001b[0m\n\u001b[1;32m     35\u001b[0m \u001b[38;5;28;01mimport\u001b[39;00m \u001b[38;5;21;01mbotocore\u001b[39;00m\n\u001b[1;32m     36\u001b[0m \u001b[38;5;28;01mimport\u001b[39;00m \u001b[38;5;21;01mbotocore\u001b[39;00m\u001b[38;5;21;01m.\u001b[39;00m\u001b[38;5;21;01mawsrequest\u001b[39;00m\n\u001b[0;32m---> 37\u001b[0m \u001b[38;5;28;01mimport\u001b[39;00m \u001b[38;5;21;01mbotocore\u001b[39;00m\u001b[38;5;21;01m.\u001b[39;00m\u001b[38;5;21;01mhttpsession\u001b[39;00m\n\u001b[1;32m     39\u001b[0m \u001b[38;5;66;03m# IP Regexes retained for backwards compatibility\u001b[39;00m\n\u001b[1;32m     40\u001b[0m \u001b[38;5;28;01mfrom\u001b[39;00m \u001b[38;5;21;01mbotocore\u001b[39;00m\u001b[38;5;21;01m.\u001b[39;00m\u001b[38;5;21;01mcompat\u001b[39;00m \u001b[38;5;28;01mimport\u001b[39;00m HEX_PAT  \u001b[38;5;66;03m# noqa: F401\u001b[39;00m\n",
      "File \u001b[0;32m~/anaconda3/lib/python3.11/site-packages/botocore/httpsession.py:22\u001b[0m\n\u001b[1;32m     20\u001b[0m \u001b[38;5;28;01mfrom\u001b[39;00m \u001b[38;5;21;01murllib3\u001b[39;00m\u001b[38;5;21;01m.\u001b[39;00m\u001b[38;5;21;01mexceptions\u001b[39;00m \u001b[38;5;28;01mimport\u001b[39;00m SSLError \u001b[38;5;28;01mas\u001b[39;00m URLLib3SSLError\n\u001b[1;32m     21\u001b[0m \u001b[38;5;28;01mfrom\u001b[39;00m \u001b[38;5;21;01murllib3\u001b[39;00m\u001b[38;5;21;01m.\u001b[39;00m\u001b[38;5;21;01mutil\u001b[39;00m\u001b[38;5;21;01m.\u001b[39;00m\u001b[38;5;21;01mretry\u001b[39;00m \u001b[38;5;28;01mimport\u001b[39;00m Retry\n\u001b[0;32m---> 22\u001b[0m \u001b[38;5;28;01mfrom\u001b[39;00m \u001b[38;5;21;01murllib3\u001b[39;00m\u001b[38;5;21;01m.\u001b[39;00m\u001b[38;5;21;01mutil\u001b[39;00m\u001b[38;5;21;01m.\u001b[39;00m\u001b[38;5;21;01mssl_\u001b[39;00m \u001b[38;5;28;01mimport\u001b[39;00m (\n\u001b[1;32m     23\u001b[0m     DEFAULT_CIPHERS,\n\u001b[1;32m     24\u001b[0m     OP_NO_COMPRESSION,\n\u001b[1;32m     25\u001b[0m     PROTOCOL_TLS,\n\u001b[1;32m     26\u001b[0m     OP_NO_SSLv2,\n\u001b[1;32m     27\u001b[0m     OP_NO_SSLv3,\n\u001b[1;32m     28\u001b[0m     is_ipaddress,\n\u001b[1;32m     29\u001b[0m     ssl,\n\u001b[1;32m     30\u001b[0m )\n\u001b[1;32m     31\u001b[0m \u001b[38;5;28;01mfrom\u001b[39;00m \u001b[38;5;21;01murllib3\u001b[39;00m\u001b[38;5;21;01m.\u001b[39;00m\u001b[38;5;21;01mutil\u001b[39;00m\u001b[38;5;21;01m.\u001b[39;00m\u001b[38;5;21;01murl\u001b[39;00m \u001b[38;5;28;01mimport\u001b[39;00m parse_url\n\u001b[1;32m     33\u001b[0m \u001b[38;5;28;01mtry\u001b[39;00m:\n",
      "\u001b[0;31mImportError\u001b[0m: cannot import name 'DEFAULT_CIPHERS' from 'urllib3.util.ssl_' (/home/niko/anaconda3/lib/python3.11/site-packages/urllib3/util/ssl_.py)"
     ]
    }
   ],
   "source": [
    "import re\n",
    "from evaluate import load\n",
    "import evaluate\n",
    "from html import unescape\n",
    "import bert_score\n",
    "from tqdm import tqdm\n",
    "\n",
    "bleu = load(\"bleu\")\n",
    "rouge = load(\"rouge\")\n",
    "bertscore = load(\"bertscore\")\n",
    "\n",
    "\n",
    "def normalize_ws(text):\n",
    "  \"\"\"normalize whitespace\"\"\"\n",
    "  return re.sub(r\"\\s+\", \" \", text).strip()\n",
    "\n",
    "def remove_markup(sent):\n",
    "  \"\"\"Remove all markup from a sentence\"\"\"\n",
    "  return unescape(re.sub(rf\"<.*?>\", \"\", sent))\n",
    "\n",
    "###########\n",
    "# Calculating BERT scores\n",
    "###########\n",
    "# Default of what layer to use for the representation\n",
    "# The original module defines the default as\n",
    "# \"the number of layers tuned on WMT16 correlation data.\"\n",
    "# I have to add some models, that are not in the original\n",
    "# Maybe a todo: Test if the evaluation changes significantly based on this...\n",
    "bert_score.utils.model2layers[\"google-bert/bert-base-german-cased\"] = 9\n",
    "bert_score.utils.model2layers[\"benjamin/roberta-base-wechsel-german\"] = 9\n",
    "\n",
    "def bertscore_f1_average(preds, refs, model_type):\n",
    "  \"\"\"calculate bertscore f1 average\n",
    "  args:\n",
    "    model_type: str, name of the model to use for the scoring\"\"\"\n",
    "\n",
    "  results = bertscore.compute(predictions=preds, references=refs, model_type=model_type)\n",
    "  f1 = results[\"f1\"]\n",
    "  return sum(f1) / len(f1)\n",
    "\n",
    "def semantic_scores(predictions, references):\n",
    "  \"\"\"calculate semantic scores with BERT\"\"\"\n",
    "  # calculate f1 average with different Bert models\n",
    "  # the large models seem not to make much of a difference, but take more time\n",
    "    # ->> but check it anyway sometime\n",
    "  # The German models are more critical though\n",
    "  models = [\"roberta-base\", \"xlm-roberta-base\", \"benjamin/roberta-base-wechsel-german\",\n",
    "            \"google-bert/bert-base-german-cased\"]\n",
    "  scores = {}\n",
    "  print(f\"calculating Bert scores for 4 models\")\n",
    "  for model in models:\n",
    "    scores[model] = bertscore_f1_average(predictions, references, model)\n",
    "  return scores\n",
    "\n",
    "def all_metrics(predictions, references):\n",
    "\n",
    "  all_results = {\n",
    "      \"with_markup\": {},\n",
    "      \"without_markup\": {}\n",
    "  }\n",
    "  # Calculate BLEU score\n",
    "  bleu_results = bleu.compute(predictions=predictions, references=references)\n",
    "  all_results[\"with_markup\"][\"bleu\"] = bleu_results[\"bleu\"]\n",
    "\n",
    "  # Calculate ROUGE scores\n",
    "  rouge_results = rouge.compute(predictions=predictions, references=references)\n",
    "  all_results[\"with_markup\"][\"rouge\"] = rouge_results[\"rouge1\"]\n",
    "\n",
    "  # Calculate Semantic score with BERT\n",
    "  bertscore_results = semantic_scores(predictions=predictions, references=references)\n",
    "  all_results[\"with_markup\"][\"bertscore\"] = bertscore_results\n",
    "  # print(\"\\n\".join([f\"{model}: {score}\" for model, score in bertscore_results.items()]))\n",
    "\n",
    "  # removing markup\n",
    "  predictions = [remove_markup(pred) for pred in predictions]\n",
    "  references = [remove_markup(ref) for ref in references]\n",
    "\n",
    "  # Calculate BLEU score\n",
    "  bleu_results = bleu.compute(predictions=predictions, references=references)\n",
    "  all_results[\"without_markup\"][\"bleu\"] = bleu_results[\"bleu\"]\n",
    "\n",
    "  # Calculate ROUGE scores\n",
    "  rouge_results = rouge.compute(predictions=predictions, references=references)\n",
    "  all_results[\"without_markup\"][\"rouge\"] = rouge_results[\"rouge1\"]\n",
    "\n",
    "  # Calculate Semantic score with BERT\n",
    "  bertscore_results = semantic_scores(predictions=predictions, references=references)\n",
    "  all_results[\"without_markup\"][\"bertscore\"] = bertscore_results\n",
    "  # print(\"\\n\".join([f\"{model}: {score}\" for model, score in bertscore_results.items()]))\n",
    "\n",
    "  return all_results\n"
   ]
  },
  {
   "cell_type": "code",
   "execution_count": 6,
   "metadata": {},
   "outputs": [
    {
     "name": "stdout",
     "output_type": "stream",
     "text": [
      "Collecting requests_mock\n",
      "  Downloading requests_mock-1.12.1-py2.py3-none-any.whl.metadata (4.1 kB)\n",
      "Requirement already satisfied: requests<3,>=2.22 in /home/niko/anaconda3/lib/python3.11/site-packages (from requests_mock) (2.31.0)\n",
      "Requirement already satisfied: charset-normalizer<4,>=2 in /home/niko/anaconda3/lib/python3.11/site-packages (from requests<3,>=2.22->requests_mock) (3.3.2)\n",
      "Requirement already satisfied: idna<4,>=2.5 in /home/niko/anaconda3/lib/python3.11/site-packages (from requests<3,>=2.22->requests_mock) (3.4)\n",
      "Requirement already satisfied: urllib3<3,>=1.21.1 in /home/niko/anaconda3/lib/python3.11/site-packages (from requests<3,>=2.22->requests_mock) (2.2.2)\n",
      "Requirement already satisfied: certifi>=2017.4.17 in /home/niko/anaconda3/lib/python3.11/site-packages (from requests<3,>=2.22->requests_mock) (2023.7.22)\n",
      "Downloading requests_mock-1.12.1-py2.py3-none-any.whl (27 kB)\n",
      "Installing collected packages: requests_mock\n",
      "\u001b[31mERROR: pip's dependency resolver does not currently take into account all the packages that are installed. This behaviour is the source of the following dependency conflicts.\n",
      "conda-repo-cli 1.0.75 requires clyent==1.2.1, but you have clyent 1.2.2 which is incompatible.\n",
      "conda-repo-cli 1.0.75 requires PyYAML==6.0.1, but you have pyyaml 6.0 which is incompatible.\u001b[0m\u001b[31m\n",
      "\u001b[0mSuccessfully installed requests_mock-1.12.1\n",
      "\n",
      "\u001b[1m[\u001b[0m\u001b[34;49mnotice\u001b[0m\u001b[1;39;49m]\u001b[0m\u001b[39;49m A new release of pip is available: \u001b[0m\u001b[31;49m24.0\u001b[0m\u001b[39;49m -> \u001b[0m\u001b[32;49m24.2\u001b[0m\n",
      "\u001b[1m[\u001b[0m\u001b[34;49mnotice\u001b[0m\u001b[1;39;49m]\u001b[0m\u001b[39;49m To update, run: \u001b[0m\u001b[32;49mpip install --upgrade pip\u001b[0m\n"
     ]
    }
   ],
   "source": [
    "!pip install requests_mock\n"
   ]
  },
  {
   "cell_type": "markdown",
   "metadata": {},
   "source": [
    "## Test 1\n",
    "instruction prompt to complete"
   ]
  },
  {
   "cell_type": "code",
   "execution_count": 2,
   "metadata": {},
   "outputs": [],
   "source": [
    "def format_completion_model_output(x):\n",
    "  \"\"\"get a list of the generated fns without the end-tag\"\"\"\n",
    "  generated_fns = x.split(\"\\n\")\n",
    "  generated_fns = [re.sub(r\"</note>.*$\", \"\", fn).strip() for fn in generated_fns]  # remove end tag\n",
    "  return generated_fns"
   ]
  },
  {
   "cell_type": "code",
   "execution_count": null,
   "metadata": {},
   "outputs": [],
   "source": [
    "original_fn = \"\"\"<persName ref=\"p1214\" cert=\"high\">Fries</persName>\n",
    "und\n",
    "<persName ref=\"p1283\" cert=\"high\">Geßner</persName>\n",
    "waren in einem Brief\n",
    "<persName ref=\"p8127\" cert=\"high\">Pellikans</persName>\n",
    "vom 19. Februar 1533 an\n",
    "<persName ref=\"p8418\" cert=\"high\">Myconius</persName>\n",
    "empfohlen worden (Zürich StA, E II 358, 98).\n",
    "</note>\"\"\"\n",
    "\n",
    "x = \"\"\"<note xml:id=\"fn4\" type=\"footnote\" n=\"4\"><placeName ref=\"l28\" cert=\"high\">Basileae</placeName> apud <persName ref=\"p8418\" cert=\"high\">Myconium</persName> refers to a location in Basel near the residence of the printer <persName ref=\"p8418\" cert=\"high\">Myconius</persName>.</note>\n",
    "<note xml:id=\"fn4\" type=\"footnote\" n=\"4\"><placeName ref=\"l28\" cert=\"high\">Basileae</placeName> apud <persName ref=\"p8418\" cert=\"high\">Myconium</persName> refers to a location in Basel near the residence of the printer <persName ref=\"p8418\" cert=\"high\">Myconius</persName>.</note>\n",
    "<note xml:id=\"fn4\" type=\"footnote\" n=\"4\"><placeName ref=\"l28\" cert=\"high\">Basileae</placeName> apud <persName ref=\"p8418\" cert=\"high\">Myconium</persName> refers to a location in Basel near the printer <persName ref=\"p8418\" cert=\"high\">Myconius</persName>.</note>\n",
    "<note xml:id=\"fn4\" type=\"footnote\" n=\"4\"><placeName ref=\"l28\" cert=\"high\">Basileae</placeName> apud <persName ref=\"p8418\" cert=\"high\">Myconium</persName> refers to a location in Basel where the letter was written.</note>\n",
    "<note xml:id=\"fn4\" type=\"footnote\" n=\"4\"><placeName ref=\"l28\" cert=\"high\">Basileae</placeName> apud <persName ref=\"p8418\" cert=\"high\">Myconium</persName> refers to a location in Basel where the letter was written.</note>\n",
    "<note xml:id=\"fn4\" type=\"footnote\" n=\"4\"><placeName ref=\"l28\" cert=\"high\">Basileae</placeName> apud <persName ref=\"p8418\" cert=\"high\">Myconium</persName> refers to a location in Basel where the letter was written.</note>\n",
    "<note xml:id=\"fn4\" type=\"footnote\" n=\"4\"><placeName ref=\"l28\" cert=\"high\">Basileae</placeName> apud <persName ref=\"p8418\" cert=\"high\">Myconium</persName> refers to a location in Basel where the letter was written.</note>\n",
    "<note xml:id=\"fn4\" type=\"footnote\" n=\"4\"><placeName ref=\"l28\" cert=\"high\">Basileae</placeName> apud <persName ref=\"p8418\" cert=\"high\">Myconium</persName> refers to a location in Basel near the residence of the printer <persName ref=\"p8418\" cert=\"high\">Myconius</persName>.</note>\n",
    "<note xml:id=\"fn4\" type=\"footnote\" n=\"4\"><placeName ref=\"l28\" cert=\"high\">Basileae</placeName> apud <persName ref=\"p8418\" cert=\"high\">Myconium</persName> refers to a location in Basel near the residence of the printer <persName ref=\"p8418\" cert=\"high\">Myconius</persName>.</note>\n",
    "<note xml:id=\"fn4\" type=\"footnote\" n=\"4\"><placeName ref=\"l28\" cert=\"high\">Basileae</placeName> apud <persName ref=\"p8418\" cert=\"high\">Myconium</persName> refers to a location in Basel where the letter was written.</note>\"\"\"\n",
    "\n",
    "generated_fns = format_completion_model_output(x)\n",
    "\n",
    "# Normalize WS:\n",
    "predictions = [normalize_ws(fn) for fn in generated_fns]\n",
    "references = [normalize_ws(original_fn) for _ in range(len(generated_fns))]"
   ]
  },
  {
   "cell_type": "code",
   "execution_count": null,
   "metadata": {},
   "outputs": [],
   "source": [
    "results_completion_test1 = all_metrics(predictions, references)"
   ]
  },
  {
   "cell_type": "code",
   "execution_count": null,
   "metadata": {},
   "outputs": [],
   "source": [
    "import json\n",
    "print(json.dumps(results_completion_test1, indent=4))"
   ]
  },
  {
   "cell_type": "markdown",
   "metadata": {},
   "source": [
    "# Batching\n"
   ]
  },
  {
   "cell_type": "code",
   "execution_count": 2,
   "metadata": {},
   "outputs": [],
   "source": [
    "from openai import OpenAI\n",
    "client = OpenAI(api_key=api_key)"
   ]
  },
  {
   "cell_type": "code",
   "execution_count": 4,
   "metadata": {},
   "outputs": [],
   "source": [
    "from openai import OpenAI\n",
    "client = OpenAI(api_key=api_key)\n",
    "\n",
    "batch_input_file = client.files.create(\n",
    "  file=open(\"../../data/prompts/instruct_add/batches_test_run.jsonl\", \"rb\"),\n",
    "  purpose=\"batch\"\n",
    ")"
   ]
  },
  {
   "cell_type": "code",
   "execution_count": 5,
   "metadata": {},
   "outputs": [
    {
     "data": {
      "text/plain": [
       "Batch(id='batch_pAMNLdJgXkdx2BeZr0Naycbf', completion_window='24h', created_at=1725453499, endpoint='/v1/chat/completions', input_file_id='file-hygIGJo7Rt8M9atBZAkDviw2', object='batch', status='validating', cancelled_at=None, cancelling_at=None, completed_at=None, error_file_id=None, errors=None, expired_at=None, expires_at=1725539899, failed_at=None, finalizing_at=None, in_progress_at=None, metadata={'description': 'small test run'}, output_file_id=None, request_counts=BatchRequestCounts(completed=0, failed=0, total=0))"
      ]
     },
     "execution_count": 5,
     "metadata": {},
     "output_type": "execute_result"
    }
   ],
   "source": [
    "batch_input_file_id = batch_input_file.id\n",
    "\n",
    "client.batches.create(\n",
    "    input_file_id=batch_input_file_id,\n",
    "    endpoint=\"/v1/chat/completions\",\n",
    "    completion_window=\"24h\",\n",
    "    metadata={\n",
    "      \"description\": \"small test run\"\n",
    "    }\n",
    ")"
   ]
  },
  {
   "cell_type": "code",
   "execution_count": 16,
   "metadata": {},
   "outputs": [
    {
     "name": "stdout",
     "output_type": "stream",
     "text": [
      "completed\n"
     ]
    }
   ],
   "source": [
    "batch_object = client.batches.retrieve(\"batch_pAMNLdJgXkdx2BeZr0Naycbf\")  # checking status\n",
    "status = batch_object.status\n",
    "print(status)\n",
    "if status == \"completed\":\n",
    "    output_file_id = batch_object.output_file_id\n",
    "    file_response = client.files.content(output_file_id).content"
   ]
  },
  {
   "cell_type": "code",
   "execution_count": 17,
   "metadata": {},
   "outputs": [],
   "source": [
    "outfile_name = \"batches_test_run_results.jsonl\"\n",
    "with open(outfile_name, \"wb\") as outfile:\n",
    "    outfile.write(file_response)"
   ]
  },
  {
   "cell_type": "code",
   "execution_count": 52,
   "metadata": {},
   "outputs": [],
   "source": [
    "outfile_name = \"batches_test_run_results.jsonl\""
   ]
  },
  {
   "cell_type": "code",
   "execution_count": 54,
   "metadata": {},
   "outputs": [],
   "source": [
    "# open the results file and save in a csv\n",
    "\n",
    "import pandas as pd\n",
    "import json\n",
    "import jsonlines\n",
    "\n",
    "response_file = outfile_name\n",
    "csv_filename = \"footnote_generated_instruct_add_prompt.csv\"\n",
    "\n",
    "column_names = [\"letter_id\", \"footnote_n\", \"generated_footnote\", \"prompt_tokens\", \"completion_tokens\"]\n",
    "rows = []\n",
    "footnote_generated_dict = {}\n",
    "response_file = outfile_name\n",
    "\n",
    "with jsonlines.open(response_file, \"r\") as infile:\n",
    "    for line in infile:\n",
    "        custom_id = line[\"custom_id\"]\n",
    "        letter_id, footnote_n = custom_id.split(\"_\")\n",
    "        generated_footnote = line[\"response\"][\"body\"][\"choices\"][0][\"message\"][\"content\"]\n",
    "        prompt_tokens = line[\"response\"][\"body\"][\"usage\"][\"prompt_tokens\"]\n",
    "        completion_tokens = line[\"response\"][\"body\"][\"usage\"][\"completion_tokens\"]\n",
    "        rows.append([letter_id, footnote_n, generated_footnote, prompt_tokens, completion_tokens])\n",
    "\n",
    "df = pd.DataFrame(columns=column_names)\n",
    "for row in rows:\n",
    "    df.loc[len(df)] = row\n",
    "\n",
    "df.to_csv(csv_filename, index=False)\n"
   ]
  },
  {
   "cell_type": "code",
   "execution_count": 48,
   "metadata": {},
   "outputs": [
    {
     "data": {
      "text/html": [
       "<div>\n",
       "<style scoped>\n",
       "    .dataframe tbody tr th:only-of-type {\n",
       "        vertical-align: middle;\n",
       "    }\n",
       "\n",
       "    .dataframe tbody tr th {\n",
       "        vertical-align: top;\n",
       "    }\n",
       "\n",
       "    .dataframe thead th {\n",
       "        text-align: right;\n",
       "    }\n",
       "</style>\n",
       "<table border=\"1\" class=\"dataframe\">\n",
       "  <thead>\n",
       "    <tr style=\"text-align: right;\">\n",
       "      <th></th>\n",
       "      <th>letter_id</th>\n",
       "      <th>footnote_n</th>\n",
       "      <th>generated_footnote</th>\n",
       "      <th>prompt_tokens</th>\n",
       "      <th>completion_tokens</th>\n",
       "    </tr>\n",
       "  </thead>\n",
       "  <tbody>\n",
       "    <tr>\n",
       "      <th>0</th>\n",
       "      <td>10327</td>\n",
       "      <td>2</td>\n",
       "      <td>Siehe dazu W. von W. (Hrsg.), \"Die Briefe Heinrich Bullingers\", Bd. 1, Zürich 1920, S. 148-150, wo die Schwierigkeiten beschrieben werden, die Bullinger in der damaligen politischen Situation erlebte.</td>\n",
       "      <td>2808</td>\n",
       "      <td>56</td>\n",
       "    </tr>\n",
       "    <tr>\n",
       "      <th>1</th>\n",
       "      <td>10327</td>\n",
       "      <td>5</td>\n",
       "      <td>Der Begriff \"Cerberus\" bezieht sich in diesem Kontext auf eine Metapher für einen Wächter oder Hüter, der unliebsame Personen davon abhält, in Machtpositionen zu gelangen; in der Antike wurde Cerberus als der dreiköpfige Hund dargestellt, der den Eingang zur Unterwelt bewacht. Bullinger beschreibt damit wahrscheinlich jemand bestimmten, der als besonders rigide oder rigoros angesehen wird, wobei die Wortwahl humorvoll oder ironisch gemeint sein könnte.</td>\n",
       "      <td>2808</td>\n",
       "      <td>103</td>\n",
       "    </tr>\n",
       "    <tr>\n",
       "      <th>2</th>\n",
       "      <td>10650</td>\n",
       "      <td>2</td>\n",
       "      <td>Die Erwähnung des „convictorum“ bezieht sich auf die Kommilitonen und Mitbewohner von Lavater, mit denen er im gleichen Haus lebte. In der theologischen Gemeinschaft der Reformatoren war der Austausch und die Unterstützung unter den Studenten und Gelehrten von großer Bedeutung, insbesondere in Krisensituationen.</td>\n",
       "      <td>3733</td>\n",
       "      <td>69</td>\n",
       "    </tr>\n",
       "    <tr>\n",
       "      <th>3</th>\n",
       "      <td>10650</td>\n",
       "      <td>3</td>\n",
       "      <td>Das erwähnte Flussufer bezieht sich wahrscheinlich auf den Fluss Ill in &lt;placeName ref=\"l492\" cert=\"high\"&gt;Straßburg&lt;/placeName&gt;, nahe dem Ort, wo der Vorfall mit &lt;persName ref=\"p5618\" cert=\"high\"&gt;Heinrich Lavater&lt;/persName&gt; eintrat. Der Fluss war bekannt für seine Strömungen und Gefahren, die insbesondere bei warmer Witterung und nach Regenfällen verstärkt sein konnten.</td>\n",
       "      <td>3733</td>\n",
       "      <td>99</td>\n",
       "    </tr>\n",
       "    <tr>\n",
       "      <th>4</th>\n",
       "      <td>10650</td>\n",
       "      <td>6</td>\n",
       "      <td>Die Erwähnung der \"sodales\" bezieht sich auf die Mitglieder des theologischen Seminars oder der akademischen Gemeinschaft, in der &lt;persName ref=\"p5618\" cert=\"high\"&gt;Lavater&lt;/persName&gt; und Werdmüller (Myliander) verkehrten. Diese Gruppe war geprägt von einem intensiven Austausch über Glaubensfragen und der Unterstützung untereinander im Kontext der Reformation, vgl. auch &lt;persName ref=\"p315\" cert=\"high\"&gt;Bedrotum&lt;/persName&gt;, der ebenfalls zu den engen Vertrauten gehörte.</td>\n",
       "      <td>3733</td>\n",
       "      <td>121</td>\n",
       "    </tr>\n",
       "    <tr>\n",
       "      <th>5</th>\n",
       "      <td>10650</td>\n",
       "      <td>7</td>\n",
       "      <td>In der erwähnten Passage spricht Werdmüller von d. &lt;persName ref=\"p315\" cert=\"high\"&gt;Bedrotus&lt;/persName&gt;, dem einflussreichen Humanisten und Reformator, der in dieser Zeit eine wichtige Rolle in der Zwinglianischen Bewegung spielte. Seine Korrespondenz und seine Beziehungen zu wichtigen Persönlichkeiten der Reformation, einschließlich Bullingers, sind für das Verständnis der Konflikte und des theologischen Diskurses dieser Zeit von großer Bedeutung. Siehe dazu die gesammelten Werke und Briefe von &lt;persName ref=\"p315\"&gt;Bedrotus&lt;/persName&gt;, insbesondere in Bezug auf die Diskussionen zur Gemeinschaft und zu reformatorischen Themen.</td>\n",
       "      <td>3733</td>\n",
       "      <td>143</td>\n",
       "    </tr>\n",
       "    <tr>\n",
       "      <th>6</th>\n",
       "      <td>11507</td>\n",
       "      <td>10</td>\n",
       "      <td>&lt;persName ref=\"p18988\" cert=\"high\"&gt;Cyprianus von Karthago&lt;/persName&gt;, De Lapsis, 16, 1; vgl. auch die Worte in seiner Schrift \"Ad Donatum\", wo er die Bedeutung und Reinheit des christlichen Rituals betont (&lt;bibl&gt;CCL&lt;/bibl&gt; III 1f).</td>\n",
       "      <td>7293</td>\n",
       "      <td>79</td>\n",
       "    </tr>\n",
       "    <tr>\n",
       "      <th>7</th>\n",
       "      <td>11507</td>\n",
       "      <td>11</td>\n",
       "      <td>&lt;persName ref=\"p18988\" cert=\"high\"&gt;Cyprianus&lt;/persName&gt;, De catholicae ecclesiae unitate, 7: „Nullus autem hadritus haeresim veritatis permixtum esse voluerit, qui aut in Christo acceperit haeresim, aut varietatem sacrorum et idolorum cultus sanctorum, quos adorat, et ab hoc missae cultus errantes scit non hic esse potuerit ausus.“</td>\n",
       "      <td>7293</td>\n",
       "      <td>106</td>\n",
       "    </tr>\n",
       "    <tr>\n",
       "      <th>8</th>\n",
       "      <td>11507</td>\n",
       "      <td>12</td>\n",
       "      <td>&lt;note xml:id=\"fn12\" type=\"footnote\" n=\"12\"&gt;Vergleiche 1. Könige 18, 21: „Wie lange hinkt ihr auf beiden Seiten? Wenn der Herr Gott ist, so folget ihm nach; wenn aber Baal, so folgt ihm nach.“&lt;/note&gt;</td>\n",
       "      <td>7293</td>\n",
       "      <td>66</td>\n",
       "    </tr>\n",
       "    <tr>\n",
       "      <th>9</th>\n",
       "      <td>11507</td>\n",
       "      <td>13</td>\n",
       "      <td>Et cum dicitur „unicum Christi sacrificium“, refertur ad Hebr. 10, 14: „Una enim oblatione consummavit in perpetuum sanctificatos.“</td>\n",
       "      <td>7293</td>\n",
       "      <td>39</td>\n",
       "    </tr>\n",
       "  </tbody>\n",
       "</table>\n",
       "</div>"
      ],
      "text/plain": [
       "  letter_id footnote_n  \\\n",
       "0     10327          2   \n",
       "1     10327          5   \n",
       "2     10650          2   \n",
       "3     10650          3   \n",
       "4     10650          6   \n",
       "5     10650          7   \n",
       "6     11507         10   \n",
       "7     11507         11   \n",
       "8     11507         12   \n",
       "9     11507         13   \n",
       "\n",
       "                                                                                                                                                                                                                                                                                                                                                                                                                                                                                                                                                                                                                                           generated_footnote  \\\n",
       "0                                                                                                                                                                                                                                                                                                                                                                                                                                                    Siehe dazu W. von W. (Hrsg.), \"Die Briefe Heinrich Bullingers\", Bd. 1, Zürich 1920, S. 148-150, wo die Schwierigkeiten beschrieben werden, die Bullinger in der damaligen politischen Situation erlebte.   \n",
       "1                                                                                                                                                                                    Der Begriff \"Cerberus\" bezieht sich in diesem Kontext auf eine Metapher für einen Wächter oder Hüter, der unliebsame Personen davon abhält, in Machtpositionen zu gelangen; in der Antike wurde Cerberus als der dreiköpfige Hund dargestellt, der den Eingang zur Unterwelt bewacht. Bullinger beschreibt damit wahrscheinlich jemand bestimmten, der als besonders rigide oder rigoros angesehen wird, wobei die Wortwahl humorvoll oder ironisch gemeint sein könnte.   \n",
       "2                                                                                                                                                                                                                                                                                                                                   Die Erwähnung des „convictorum“ bezieht sich auf die Kommilitonen und Mitbewohner von Lavater, mit denen er im gleichen Haus lebte. In der theologischen Gemeinschaft der Reformatoren war der Austausch und die Unterstützung unter den Studenten und Gelehrten von großer Bedeutung, insbesondere in Krisensituationen.   \n",
       "3                                                                                                                                                                                                                                                                        Das erwähnte Flussufer bezieht sich wahrscheinlich auf den Fluss Ill in <placeName ref=\"l492\" cert=\"high\">Straßburg</placeName>, nahe dem Ort, wo der Vorfall mit <persName ref=\"p5618\" cert=\"high\">Heinrich Lavater</persName> eintrat. Der Fluss war bekannt für seine Strömungen und Gefahren, die insbesondere bei warmer Witterung und nach Regenfällen verstärkt sein konnten.   \n",
       "4                                                                                                                                                                    Die Erwähnung der \"sodales\" bezieht sich auf die Mitglieder des theologischen Seminars oder der akademischen Gemeinschaft, in der <persName ref=\"p5618\" cert=\"high\">Lavater</persName> und Werdmüller (Myliander) verkehrten. Diese Gruppe war geprägt von einem intensiven Austausch über Glaubensfragen und der Unterstützung untereinander im Kontext der Reformation, vgl. auch <persName ref=\"p315\" cert=\"high\">Bedrotum</persName>, der ebenfalls zu den engen Vertrauten gehörte.   \n",
       "5  In der erwähnten Passage spricht Werdmüller von d. <persName ref=\"p315\" cert=\"high\">Bedrotus</persName>, dem einflussreichen Humanisten und Reformator, der in dieser Zeit eine wichtige Rolle in der Zwinglianischen Bewegung spielte. Seine Korrespondenz und seine Beziehungen zu wichtigen Persönlichkeiten der Reformation, einschließlich Bullingers, sind für das Verständnis der Konflikte und des theologischen Diskurses dieser Zeit von großer Bedeutung. Siehe dazu die gesammelten Werke und Briefe von <persName ref=\"p315\">Bedrotus</persName>, insbesondere in Bezug auf die Diskussionen zur Gemeinschaft und zu reformatorischen Themen.   \n",
       "6                                                                                                                                                                                                                                                                                                                                                                                                                     <persName ref=\"p18988\" cert=\"high\">Cyprianus von Karthago</persName>, De Lapsis, 16, 1; vgl. auch die Worte in seiner Schrift \"Ad Donatum\", wo er die Bedeutung und Reinheit des christlichen Rituals betont (<bibl>CCL</bibl> III 1f).   \n",
       "7                                                                                                                                                                                                                                                                                                               <persName ref=\"p18988\" cert=\"high\">Cyprianus</persName>, De catholicae ecclesiae unitate, 7: „Nullus autem hadritus haeresim veritatis permixtum esse voluerit, qui aut in Christo acceperit haeresim, aut varietatem sacrorum et idolorum cultus sanctorum, quos adorat, et ab hoc missae cultus errantes scit non hic esse potuerit ausus.“   \n",
       "8                                                                                                                                                                                                                                                                                                                                                                                                                                                      <note xml:id=\"fn12\" type=\"footnote\" n=\"12\">Vergleiche 1. Könige 18, 21: „Wie lange hinkt ihr auf beiden Seiten? Wenn der Herr Gott ist, so folget ihm nach; wenn aber Baal, so folgt ihm nach.“</note>   \n",
       "9                                                                                                                                                                                                                                                                                                                                                                                                                                                                                                                         Et cum dicitur „unicum Christi sacrificium“, refertur ad Hebr. 10, 14: „Una enim oblatione consummavit in perpetuum sanctificatos.“   \n",
       "\n",
       "   prompt_tokens  completion_tokens  \n",
       "0           2808                 56  \n",
       "1           2808                103  \n",
       "2           3733                 69  \n",
       "3           3733                 99  \n",
       "4           3733                121  \n",
       "5           3733                143  \n",
       "6           7293                 79  \n",
       "7           7293                106  \n",
       "8           7293                 66  \n",
       "9           7293                 39  "
      ]
     },
     "execution_count": 48,
     "metadata": {},
     "output_type": "execute_result"
    }
   ],
   "source": [
    "pd.set_option('display.max_colwidth', None)  # show whole text in the cells\n",
    "df"
   ]
  },
  {
   "cell_type": "code",
   "execution_count": 42,
   "metadata": {},
   "outputs": [
    {
     "data": {
      "text/plain": [
       "0                                                10327\n",
       "1                                                    2\n",
       "2    Siehe dazu W. von W. (Hrsg.), \"Die Briefe Hein...\n",
       "3                                                 2808\n",
       "4                                                   56\n",
       "dtype: object"
      ]
     },
     "execution_count": 42,
     "metadata": {},
     "output_type": "execute_result"
    }
   ],
   "source": [
    "rows[0]"
   ]
  }
 ],
 "metadata": {
  "kernelspec": {
   "display_name": "base",
   "language": "python",
   "name": "python3"
  },
  "language_info": {
   "codemirror_mode": {
    "name": "ipython",
    "version": 3
   },
   "file_extension": ".py",
   "mimetype": "text/x-python",
   "name": "python",
   "nbconvert_exporter": "python",
   "pygments_lexer": "ipython3",
   "version": "3.11.5"
  }
 },
 "nbformat": 4,
 "nbformat_minor": 2
}
