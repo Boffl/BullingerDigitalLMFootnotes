{
 "cells": [
  {
   "cell_type": "code",
   "execution_count": 1,
   "metadata": {},
   "outputs": [],
   "source": [
    "\n",
    "from parse_bullinger import *\n",
    "import matplotlib.pyplot as plt\n",
    "\n",
    "# make map for letter id and edition:\n",
    "# get the letter ids matching to the editions:\n",
    "id_to_edition = make_id_to_edition_map(\"../editions/hbbw\") \n"
   ]
  },
  {
   "cell_type": "code",
   "execution_count": 2,
   "metadata": {},
   "outputs": [
    {
     "data": {
      "text/html": [
       "<div>\n",
       "<style scoped>\n",
       "    .dataframe tbody tr th:only-of-type {\n",
       "        vertical-align: middle;\n",
       "    }\n",
       "\n",
       "    .dataframe tbody tr th {\n",
       "        vertical-align: top;\n",
       "    }\n",
       "\n",
       "    .dataframe thead th {\n",
       "        text-align: right;\n",
       "    }\n",
       "</style>\n",
       "<table border=\"1\" class=\"dataframe\">\n",
       "  <thead>\n",
       "    <tr style=\"text-align: right;\">\n",
       "      <th></th>\n",
       "      <th>Unnamed: 0</th>\n",
       "      <th>letter_id</th>\n",
       "      <th>edition</th>\n",
       "      <th>sent_count</th>\n",
       "      <th>cont_footnote_count</th>\n",
       "      <th>ed_footnote_count</th>\n",
       "      <th>footnotes_per_sentence</th>\n",
       "    </tr>\n",
       "  </thead>\n",
       "  <tbody>\n",
       "    <tr>\n",
       "      <th>0</th>\n",
       "      <td>0</td>\n",
       "      <td>10013</td>\n",
       "      <td>20</td>\n",
       "      <td>275</td>\n",
       "      <td>112</td>\n",
       "      <td>26</td>\n",
       "      <td>0.407273</td>\n",
       "    </tr>\n",
       "    <tr>\n",
       "      <th>1</th>\n",
       "      <td>1</td>\n",
       "      <td>10014</td>\n",
       "      <td>1</td>\n",
       "      <td>58</td>\n",
       "      <td>16</td>\n",
       "      <td>5</td>\n",
       "      <td>0.275862</td>\n",
       "    </tr>\n",
       "    <tr>\n",
       "      <th>2</th>\n",
       "      <td>2</td>\n",
       "      <td>10015</td>\n",
       "      <td>1</td>\n",
       "      <td>188</td>\n",
       "      <td>0</td>\n",
       "      <td>0</td>\n",
       "      <td>0.000000</td>\n",
       "    </tr>\n",
       "    <tr>\n",
       "      <th>3</th>\n",
       "      <td>3</td>\n",
       "      <td>10016</td>\n",
       "      <td>1</td>\n",
       "      <td>9</td>\n",
       "      <td>1</td>\n",
       "      <td>1</td>\n",
       "      <td>0.111111</td>\n",
       "    </tr>\n",
       "    <tr>\n",
       "      <th>4</th>\n",
       "      <td>4</td>\n",
       "      <td>10017</td>\n",
       "      <td>1</td>\n",
       "      <td>80</td>\n",
       "      <td>16</td>\n",
       "      <td>8</td>\n",
       "      <td>0.200000</td>\n",
       "    </tr>\n",
       "  </tbody>\n",
       "</table>\n",
       "</div>"
      ],
      "text/plain": [
       "   Unnamed: 0  letter_id  edition  sent_count  cont_footnote_count  \\\n",
       "0           0      10013       20         275                  112   \n",
       "1           1      10014        1          58                   16   \n",
       "2           2      10015        1         188                    0   \n",
       "3           3      10016        1           9                    1   \n",
       "4           4      10017        1          80                   16   \n",
       "\n",
       "   ed_footnote_count  footnotes_per_sentence  \n",
       "0                 26                0.407273  \n",
       "1                  5                0.275862  \n",
       "2                  0                0.000000  \n",
       "3                  1                0.111111  \n",
       "4                  8                0.200000  "
      ]
     },
     "execution_count": 2,
     "metadata": {},
     "output_type": "execute_result"
    }
   ],
   "source": [
    "# get the letter df \n",
    "# infolder = \"../bullinger-korpus-tei-main/bullinger-korpus-tei-main/data/letters\"\n",
    "# letter_df = make_letter_df(infolder, id_to_edition)  # takes about 2 minutes...\n",
    "# letter_df[\"footnotes_per_sentence\"] = letter_df.cont_footnote_count / letter_df.sent_count  # content footnotes per sentence for the stats\n",
    "# letter_df.to_csv(\"letter_stats.csv\")\n",
    "letter_df = pd.read_csv(\"letter_df.csv\")\n",
    "\n",
    "letter_df.head()"
   ]
  },
  {
   "cell_type": "markdown",
   "metadata": {},
   "source": [
    "Note: There are 211 Letters with no content footnotes, this is not a problem, most of them are published in other editions or something..."
   ]
  },
  {
   "cell_type": "code",
   "execution_count": 3,
   "metadata": {},
   "outputs": [
    {
     "data": {
      "text/plain": [
       "211"
      ]
     },
     "execution_count": 3,
     "metadata": {},
     "output_type": "execute_result"
    }
   ],
   "source": [
    "letter_df['cont_footnote_count'].value_counts().get(0)\n"
   ]
  },
  {
   "cell_type": "markdown",
   "metadata": {},
   "source": [
    "## Some Stats"
   ]
  },
  {
   "cell_type": "markdown",
   "metadata": {},
   "source": [
    "some letters have a crazy amount of footnotes:"
   ]
  },
  {
   "cell_type": "code",
   "execution_count": 4,
   "metadata": {},
   "outputs": [
    {
     "data": {
      "text/plain": [
       "<AxesSubplot:>"
      ]
     },
     "execution_count": 4,
     "metadata": {},
     "output_type": "execute_result"
    },
    {
     "data": {
      "image/png": "[encoded data removed]",
      "text/plain": [
       "<Figure size 432x288 with 1 Axes>"
      ]
     },
     "metadata": {
      "needs_background": "light"
     },
     "output_type": "display_data"
    }
   ],
   "source": [
    "# \n",
    "letter_df[\"cont_footnote_count\"].plot.box()"
   ]
  },
  {
   "cell_type": "markdown",
   "metadata": {},
   "source": [
    "a bit less crazy, when compared to the length of the letters"
   ]
  },
  {
   "cell_type": "code",
   "execution_count": 5,
   "metadata": {},
   "outputs": [
    {
     "data": {
      "text/plain": [
       "<AxesSubplot:>"
      ]
     },
     "execution_count": 5,
     "metadata": {},
     "output_type": "execute_result"
    },
    {
     "data": {
      "image/png": "[encoded data removed]",
      "text/plain": [
       "<Figure size 432x288 with 1 Axes>"
      ]
     },
     "metadata": {
      "needs_background": "light"
     },
     "output_type": "display_data"
    }
   ],
   "source": [
    "letter_df[\"footnotes_per_sentence\"].plot.box()"
   ]
  },
  {
   "cell_type": "markdown",
   "metadata": {},
   "source": [
    "The letter with 600 Footnotes is also a very long one. One letter has almost 5 content footnotes per sentence!!!"
   ]
  },
  {
   "cell_type": "code",
   "execution_count": 6,
   "metadata": {},
   "outputs": [
    {
     "data": {
      "text/html": [
       "<div>\n",
       "<style scoped>\n",
       "    .dataframe tbody tr th:only-of-type {\n",
       "        vertical-align: middle;\n",
       "    }\n",
       "\n",
       "    .dataframe tbody tr th {\n",
       "        vertical-align: top;\n",
       "    }\n",
       "\n",
       "    .dataframe thead th {\n",
       "        text-align: right;\n",
       "    }\n",
       "</style>\n",
       "<table border=\"1\" class=\"dataframe\">\n",
       "  <thead>\n",
       "    <tr style=\"text-align: right;\">\n",
       "      <th></th>\n",
       "      <th>Unnamed: 0</th>\n",
       "      <th>letter_id</th>\n",
       "      <th>edition</th>\n",
       "      <th>sent_count</th>\n",
       "      <th>cont_footnote_count</th>\n",
       "      <th>ed_footnote_count</th>\n",
       "      <th>footnotes_per_sentence</th>\n",
       "    </tr>\n",
       "  </thead>\n",
       "  <tbody>\n",
       "    <tr>\n",
       "      <th>30</th>\n",
       "      <td>30</td>\n",
       "      <td>10053</td>\n",
       "      <td>1</td>\n",
       "      <td>340</td>\n",
       "      <td>590</td>\n",
       "      <td>15</td>\n",
       "      <td>1.735294</td>\n",
       "    </tr>\n",
       "  </tbody>\n",
       "</table>\n",
       "</div>"
      ],
      "text/plain": [
       "    Unnamed: 0  letter_id  edition  sent_count  cont_footnote_count  \\\n",
       "30          30      10053        1         340                  590   \n",
       "\n",
       "    ed_footnote_count  footnotes_per_sentence  \n",
       "30                 15                1.735294  "
      ]
     },
     "execution_count": 6,
     "metadata": {},
     "output_type": "execute_result"
    }
   ],
   "source": [
    "\n",
    "letter_df[letter_df[\"cont_footnote_count\"]==letter_df[\"cont_footnote_count\"].max()]"
   ]
  },
  {
   "cell_type": "code",
   "execution_count": 7,
   "metadata": {},
   "outputs": [
    {
     "data": {
      "text/html": [
       "<div>\n",
       "<style scoped>\n",
       "    .dataframe tbody tr th:only-of-type {\n",
       "        vertical-align: middle;\n",
       "    }\n",
       "\n",
       "    .dataframe tbody tr th {\n",
       "        vertical-align: top;\n",
       "    }\n",
       "\n",
       "    .dataframe thead th {\n",
       "        text-align: right;\n",
       "    }\n",
       "</style>\n",
       "<table border=\"1\" class=\"dataframe\">\n",
       "  <thead>\n",
       "    <tr style=\"text-align: right;\">\n",
       "      <th></th>\n",
       "      <th>Unnamed: 0</th>\n",
       "      <th>letter_id</th>\n",
       "      <th>edition</th>\n",
       "      <th>sent_count</th>\n",
       "      <th>cont_footnote_count</th>\n",
       "      <th>ed_footnote_count</th>\n",
       "      <th>footnotes_per_sentence</th>\n",
       "    </tr>\n",
       "  </thead>\n",
       "  <tbody>\n",
       "    <tr>\n",
       "      <th>2437</th>\n",
       "      <td>2437</td>\n",
       "      <td>12477</td>\n",
       "      <td>16</td>\n",
       "      <td>9</td>\n",
       "      <td>43</td>\n",
       "      <td>2</td>\n",
       "      <td>4.777778</td>\n",
       "    </tr>\n",
       "  </tbody>\n",
       "</table>\n",
       "</div>"
      ],
      "text/plain": [
       "      Unnamed: 0  letter_id  edition  sent_count  cont_footnote_count  \\\n",
       "2437        2437      12477       16           9                   43   \n",
       "\n",
       "      ed_footnote_count  footnotes_per_sentence  \n",
       "2437                  2                4.777778  "
      ]
     },
     "execution_count": 7,
     "metadata": {},
     "output_type": "execute_result"
    }
   ],
   "source": [
    "letter_df[letter_df[\"footnotes_per_sentence\"]==letter_df[\"footnotes_per_sentence\"].max()]"
   ]
  },
  {
   "cell_type": "markdown",
   "metadata": {},
   "source": [
    "Editions seem to have similar amount of footnotes per sentence"
   ]
  },
  {
   "cell_type": "code",
   "execution_count": 8,
   "metadata": {},
   "outputs": [
    {
     "data": {
      "text/plain": [
       "<AxesSubplot:title={'center':'footnotes_per_sentence'}, xlabel='edition'>"
      ]
     },
     "execution_count": 8,
     "metadata": {},
     "output_type": "execute_result"
    },
    {
     "data": {
      "image/png": "[encoded data removed]",
      "text/plain": [
       "<Figure size 432x288 with 1 Axes>"
      ]
     },
     "metadata": {
      "needs_background": "light"
     },
     "output_type": "display_data"
    }
   ],
   "source": [
    "letter_df.boxplot(column=\"footnotes_per_sentence\", by=\"edition\")"
   ]
  },
  {
   "cell_type": "markdown",
   "metadata": {},
   "source": [
    "### Filtering outlier letters\n",
    "\n",
    "Defining outliers as bigger than Q3+1.5*IQR"
   ]
  },
  {
   "cell_type": "code",
   "execution_count": 9,
   "metadata": {},
   "outputs": [
    {
     "data": {
      "text/plain": [
       "<AxesSubplot:title={'center':'footnotes_per_sentence'}, xlabel='edition'>"
      ]
     },
     "execution_count": 9,
     "metadata": {},
     "output_type": "execute_result"
    },
    {
     "data": {
      "image/png": "[encoded data removed]",
      "text/plain": [
       "<Figure size 432x288 with 1 Axes>"
      ]
     },
     "metadata": {
      "needs_background": "light"
     },
     "output_type": "display_data"
    }
   ],
   "source": [
    "# plotting the data without outliers\n",
    "# Note: The whiskers are drawn to the largest point WHITHIN Q3+1.5*IQR, that's why it does not necessarily reach it...\n",
    "letter_df.boxplot(column=\"footnotes_per_sentence\", by=\"edition\", showfliers=False)"
   ]
  },
  {
   "cell_type": "markdown",
   "metadata": {},
   "source": [
    "Filtering keeps more than 95% of the data :D"
   ]
  },
  {
   "cell_type": "code",
   "execution_count": 10,
   "metadata": {},
   "outputs": [
    {
     "name": "stdout",
     "output_type": "stream",
     "text": [
      "Total number of letters: 3113\n",
      "Number of letters in filtered df: 2994\n",
      "percentage: 0.9617732091230324\n"
     ]
    }
   ],
   "source": [
    "from filtering import filter_df\n",
    "letter_filtered_df = filter_df(letter_df, \"footnotes_per_sentence\", by=\"edition\")\n",
    "print('Total number of letters:', letter_df.shape[0])\n",
    "print('Number of letters in filtered df:', letter_filtered_df.shape[0])\n",
    "print('percentage:', letter_filtered_df.shape[0]/letter_df.shape[0])"
   ]
  },
  {
   "cell_type": "markdown",
   "metadata": {},
   "source": [
    "The maximum is now 2.6 footnotes per sentence"
   ]
  },
  {
   "cell_type": "code",
   "execution_count": 11,
   "metadata": {},
   "outputs": [
    {
     "name": "stderr",
     "output_type": "stream",
     "text": [
      "C:\\Users\\nik_b\\AppData\\Local\\Temp/ipykernel_22904/3801324187.py:1: UserWarning: Boolean Series key will be reindexed to match DataFrame index.\n",
      "  letter_filtered_df[letter_df[\"footnotes_per_sentence\"]==letter_filtered_df[\"footnotes_per_sentence\"].max()]\n"
     ]
    },
    {
     "data": {
      "text/html": [
       "<div>\n",
       "<style scoped>\n",
       "    .dataframe tbody tr th:only-of-type {\n",
       "        vertical-align: middle;\n",
       "    }\n",
       "\n",
       "    .dataframe tbody tr th {\n",
       "        vertical-align: top;\n",
       "    }\n",
       "\n",
       "    .dataframe thead th {\n",
       "        text-align: right;\n",
       "    }\n",
       "</style>\n",
       "<table border=\"1\" class=\"dataframe\">\n",
       "  <thead>\n",
       "    <tr style=\"text-align: right;\">\n",
       "      <th></th>\n",
       "      <th>Unnamed: 0</th>\n",
       "      <th>letter_id</th>\n",
       "      <th>edition</th>\n",
       "      <th>sent_count</th>\n",
       "      <th>cont_footnote_count</th>\n",
       "      <th>ed_footnote_count</th>\n",
       "      <th>footnotes_per_sentence</th>\n",
       "    </tr>\n",
       "  </thead>\n",
       "  <tbody>\n",
       "    <tr>\n",
       "      <th>49</th>\n",
       "      <td>49</td>\n",
       "      <td>10072</td>\n",
       "      <td>1</td>\n",
       "      <td>10</td>\n",
       "      <td>26</td>\n",
       "      <td>1</td>\n",
       "      <td>2.6</td>\n",
       "    </tr>\n",
       "  </tbody>\n",
       "</table>\n",
       "</div>"
      ],
      "text/plain": [
       "    Unnamed: 0  letter_id  edition  sent_count  cont_footnote_count  \\\n",
       "49          49      10072        1          10                   26   \n",
       "\n",
       "    ed_footnote_count  footnotes_per_sentence  \n",
       "49                  1                     2.6  "
      ]
     },
     "execution_count": 11,
     "metadata": {},
     "output_type": "execute_result"
    }
   ],
   "source": [
    "letter_filtered_df[letter_df[\"footnotes_per_sentence\"]==letter_filtered_df[\"footnotes_per_sentence\"].max()]"
   ]
  },
  {
   "cell_type": "markdown",
   "metadata": {},
   "source": [
    "## Footnote DF"
   ]
  },
  {
   "cell_type": "code",
   "execution_count": 30,
   "metadata": {},
   "outputs": [
    {
     "data": {
      "text/html": [
       "<div>\n",
       "<style scoped>\n",
       "    .dataframe tbody tr th:only-of-type {\n",
       "        vertical-align: middle;\n",
       "    }\n",
       "\n",
       "    .dataframe tbody tr th {\n",
       "        vertical-align: top;\n",
       "    }\n",
       "\n",
       "    .dataframe thead th {\n",
       "        text-align: right;\n",
       "    }\n",
       "</style>\n",
       "<table border=\"1\" class=\"dataframe\">\n",
       "  <thead>\n",
       "    <tr style=\"text-align: right;\">\n",
       "      <th></th>\n",
       "      <th>letter_id</th>\n",
       "      <th>edition</th>\n",
       "      <th>n_footnote</th>\n",
       "      <th>n_sentence</th>\n",
       "      <th>xml_footnote</th>\n",
       "      <th>xml_sentence</th>\n",
       "      <th>text_footnote</th>\n",
       "      <th>text_sentence</th>\n",
       "      <th>len_footnote</th>\n",
       "      <th>pos_footnote</th>\n",
       "    </tr>\n",
       "  </thead>\n",
       "  <tbody>\n",
       "    <tr>\n",
       "      <th>0</th>\n",
       "      <td>10013</td>\n",
       "      <td>20</td>\n",
       "      <td>3</td>\n",
       "      <td>2</td>\n",
       "      <td>&lt;persName xmlns=\"http://www.tei-c.org/ns/1.0\"&gt;Wolfgang Joner, gen. R&amp;#252;plin&lt;/persName&gt;, Abt des Zisterzienserklosters Kappel am Albis. - Er gr&amp;#252;ndete die Klosterschule und ernannte am 17. Januar 1523 Bullinger zu deren Schulmeister; s. &lt;bibl xmlns=\"http://www.tei-c.org/ns/1.0\"&gt;HBBW&lt;/bibl&gt; I &lt;ref xmlns=\"http://www.tei-c.org/ns/1.0\" target=\"file10017\"&gt;[Nr. 2]&lt;/ref&gt; 48f, Anm. 4.</td>\n",
       "      <td>Quid in hoc ęvo litteratissimo te iuvene venerando patri Volffgango Ruͤppli__3</td>\n",
       "      <td>Wolfgang Joner, gen. Rüplin, Abt des Zisterzienserklosters Kappel am Albis. - Er gründete die Klosterschule und ernannte am 17. Januar 1523 Bullinger zu deren Schulmeister; s. HBBW I [Nr. 2] 48f, Anm. 4.</td>\n",
       "      <td>Quid in hoc ęvo litteratissimo te iuvene venerando patri Volffgango Ruͤppli__3</td>\n",
       "      <td>33</td>\n",
       "      <td>10</td>\n",
       "    </tr>\n",
       "    <tr>\n",
       "      <th>1</th>\n",
       "      <td>10013</td>\n",
       "      <td>20</td>\n",
       "      <td>4</td>\n",
       "      <td>3</td>\n",
       "      <td>Vgl. dazu etwa Bullingers Aufzeichnungen über seine Lektüre während seiner Schulund Studienzeit sowie als Lehrer im Kloster Kappel in &lt;bibl xmlns=\"http://www.tei-c.org/ns/1.0\"&gt;HBD&lt;/bibl&gt; 2-8.</td>\n",
       "      <td>Est profecto nihil, cui in promptu sint tot volumina a summis autoribus ędita,__4__5 ingenium, quod tibi est in numerato, ut alias taceam dotes (invidia dictis absit!) sane quam pr&amp;#281;claras.</td>\n",
       "      <td>Vgl. dazu etwa Bullingers Aufzeichnungen über seine Lektüre während seiner Schulund Studienzeit sowie als Lehrer im Kloster Kappel in HBD 2-8.</td>\n",
       "      <td>Est profecto nihil, cui in promptu sint tot volumina a summis autoribus ędita,__4__5 ingenium, quod tibi est in numerato, ut alias taceam dotes (invidia dictis absit!) sane quam pręclaras.</td>\n",
       "      <td>21</td>\n",
       "      <td>12</td>\n",
       "    </tr>\n",
       "    <tr>\n",
       "      <th>2</th>\n",
       "      <td>10013</td>\n",
       "      <td>20</td>\n",
       "      <td>5</td>\n",
       "      <td>3</td>\n",
       "      <td>= exercites.</td>\n",
       "      <td>Est profecto nihil, cui in promptu sint tot volumina a summis autoribus ędita,__4__5</td>\n",
       "      <td>= exercites.</td>\n",
       "      <td>Est profecto nihil, cui in promptu sint tot volumina a summis autoribus ędita,__4__5</td>\n",
       "      <td>2</td>\n",
       "      <td>12</td>\n",
       "    </tr>\n",
       "    <tr>\n",
       "      <th>3</th>\n",
       "      <td>10013</td>\n",
       "      <td>20</td>\n",
       "      <td>6</td>\n",
       "      <td>4</td>\n",
       "      <td>Die Rede ist hier von handschriftlichen Abhandlungen (die ersten gedruckten Schriften aus Bullingers Feder sind erst 1526 erschienen; s. &lt;bibl xmlns=\"http://www.tei-c.org/ns/1.0\"&gt;HBBibl&lt;/bibl&gt; I 3f). In seinem Diarium listet Bullinger die von ihm in Kappel (1523-1529) verfassten Schriften auf (s. &lt;bibl xmlns=\"http://www.tei-c.org/ns/1.0\"&gt;HBD&lt;/bibl&gt; 13-16), von denen die eine oder andere bereits in Dezember 1523 fertiggestellt worden sein k&amp;#246;nnte, und beendet seine Aufz&amp;#228;hlung mit folgender Angabe: &amp;#8222;Anno Domini 1520 latine scripsimus duos dialogos adversus scholasticos theologos, duos item adversus Pipericornum [Johannes alias Josef Pfefferkorn] pro Ioanne Reuchlino, unum quoque, quem &amp;#8222;Promotores&amp;#8220; nuncupavimus. Hos omnes latine scripsimus.&amp;#8220;</td>\n",
       "      <td>Quicquid etiam lucubrationum tuarum__6&lt;pb xmlns=\"http://www.tei-c.org/ns/1.0\" type=\"edition\" next=\"734\"/&gt; copia resplendet.</td>\n",
       "      <td>Die Rede ist hier von handschriftlichen Abhandlungen (die ersten gedruckten Schriften aus Bullingers Feder sind erst 1526 erschienen; s. HBBibl I 3f). In seinem Diarium listet Bullinger die von ihm in Kappel (1523-1529) verfassten Schriften auf (s. HBD 13-16), von denen die eine oder andere bereits in Dezember 1523 fertiggestellt worden sein könnte, und beendet seine Aufzählung mit folgender Angabe: „Anno Domini 1520 latine scripsimus duos dialogos adversus scholasticos theologos, duos item adversus Pipericornum [Johannes alias Josef Pfefferkorn] pro Ioanne Reuchlino, unum quoque, quem „Promotores“ nuncupavimus. Hos omnes latine scripsimus.“</td>\n",
       "      <td>Quicquid etiam lucubrationum tuarum__6 copia resplendet.</td>\n",
       "      <td>90</td>\n",
       "      <td>3</td>\n",
       "    </tr>\n",
       "    <tr>\n",
       "      <th>4</th>\n",
       "      <td>10013</td>\n",
       "      <td>20</td>\n",
       "      <td>7</td>\n",
       "      <td>6</td>\n",
       "      <td>Cicero, Tusculanae disputationes, 1, 2, 4.</td>\n",
       "      <td>Iacentque ea semper, quę apud quosque improbantur.“__7</td>\n",
       "      <td>Cicero, Tusculanae disputationes, 1, 2, 4.</td>\n",
       "      <td>Iacentque ea semper, quę apud quosque improbantur.“__7</td>\n",
       "      <td>6</td>\n",
       "      <td>6</td>\n",
       "    </tr>\n",
       "  </tbody>\n",
       "</table>\n",
       "</div>"
      ],
      "text/plain": [
       "   letter_id  edition  n_footnote  n_sentence  \\\n",
       "0      10013       20           3           2   \n",
       "1      10013       20           4           3   \n",
       "2      10013       20           5           3   \n",
       "3      10013       20           6           4   \n",
       "4      10013       20           7           6   \n",
       "\n",
       "                                                                                                                                                                                                                                                                                                                                                                                                                                                                                                                                                                                                                                                                                                                                                                                                    xml_footnote  \\\n",
       "0                                                                                                                                                                                                                                                                                                                                                                                                              <persName xmlns=\"http://www.tei-c.org/ns/1.0\">Wolfgang Joner, gen. R&#252;plin</persName>, Abt des Zisterzienserklosters Kappel am Albis. - Er gr&#252;ndete die Klosterschule und ernannte am 17. Januar 1523 Bullinger zu deren Schulmeister; s. <bibl xmlns=\"http://www.tei-c.org/ns/1.0\">HBBW</bibl> I <ref xmlns=\"http://www.tei-c.org/ns/1.0\" target=\"file10017\">[Nr. 2]</ref> 48f, Anm. 4.   \n",
       "1                                                                                                                                                                                                                                                                                                                                                                                                                                                                                                                                                                                                                Vgl. dazu etwa Bullingers Aufzeichnungen über seine Lektüre während seiner Schulund Studienzeit sowie als Lehrer im Kloster Kappel in <bibl xmlns=\"http://www.tei-c.org/ns/1.0\">HBD</bibl> 2-8.   \n",
       "2                                                                                                                                                                                                                                                                                                                                                                                                                                                                                                                                                                                                                                                                                                                                                                                                   = exercites.   \n",
       "3  Die Rede ist hier von handschriftlichen Abhandlungen (die ersten gedruckten Schriften aus Bullingers Feder sind erst 1526 erschienen; s. <bibl xmlns=\"http://www.tei-c.org/ns/1.0\">HBBibl</bibl> I 3f). In seinem Diarium listet Bullinger die von ihm in Kappel (1523-1529) verfassten Schriften auf (s. <bibl xmlns=\"http://www.tei-c.org/ns/1.0\">HBD</bibl> 13-16), von denen die eine oder andere bereits in Dezember 1523 fertiggestellt worden sein k&#246;nnte, und beendet seine Aufz&#228;hlung mit folgender Angabe: &#8222;Anno Domini 1520 latine scripsimus duos dialogos adversus scholasticos theologos, duos item adversus Pipericornum [Johannes alias Josef Pfefferkorn] pro Ioanne Reuchlino, unum quoque, quem &#8222;Promotores&#8220; nuncupavimus. Hos omnes latine scripsimus.&#8220;   \n",
       "4                                                                                                                                                                                                                                                                                                                                                                                                                                                                                                                                                                                                                                                                                                                                                                     Cicero, Tusculanae disputationes, 1, 2, 4.   \n",
       "\n",
       "                                                                                                                                                                                        xml_sentence  \\\n",
       "0                                                                                                                     Quid in hoc ęvo litteratissimo te iuvene venerando patri Volffgango Ruͤppli__3   \n",
       "1  Est profecto nihil, cui in promptu sint tot volumina a summis autoribus ędita,__4__5 ingenium, quod tibi est in numerato, ut alias taceam dotes (invidia dictis absit!) sane quam pr&#281;claras.   \n",
       "2                                                                                                               Est profecto nihil, cui in promptu sint tot volumina a summis autoribus ędita,__4__5   \n",
       "3                                                                        Quicquid etiam lucubrationum tuarum__6<pb xmlns=\"http://www.tei-c.org/ns/1.0\" type=\"edition\" next=\"734\"/> copia resplendet.   \n",
       "4                                                                                                                                             Iacentque ea semper, quę apud quosque improbantur.“__7   \n",
       "\n",
       "                                                                                                                                                                                                                                                                                                                                                                                                                                                                                                                                                                                                                                                               text_footnote  \\\n",
       "0                                                                                                                                                                                                                                                                                                                                                                                                                                                                Wolfgang Joner, gen. Rüplin, Abt des Zisterzienserklosters Kappel am Albis. - Er gründete die Klosterschule und ernannte am 17. Januar 1523 Bullinger zu deren Schulmeister; s. HBBW I [Nr. 2] 48f, Anm. 4.   \n",
       "1                                                                                                                                                                                                                                                                                                                                                                                                                                                                                                                             Vgl. dazu etwa Bullingers Aufzeichnungen über seine Lektüre während seiner Schulund Studienzeit sowie als Lehrer im Kloster Kappel in HBD 2-8.   \n",
       "2                                                                                                                                                                                                                                                                                                                                                                                                                                                                                                                                                                                                                                                               = exercites.   \n",
       "3  Die Rede ist hier von handschriftlichen Abhandlungen (die ersten gedruckten Schriften aus Bullingers Feder sind erst 1526 erschienen; s. HBBibl I 3f). In seinem Diarium listet Bullinger die von ihm in Kappel (1523-1529) verfassten Schriften auf (s. HBD 13-16), von denen die eine oder andere bereits in Dezember 1523 fertiggestellt worden sein könnte, und beendet seine Aufzählung mit folgender Angabe: „Anno Domini 1520 latine scripsimus duos dialogos adversus scholasticos theologos, duos item adversus Pipericornum [Johannes alias Josef Pfefferkorn] pro Ioanne Reuchlino, unum quoque, quem „Promotores“ nuncupavimus. Hos omnes latine scripsimus.“   \n",
       "4                                                                                                                                                                                                                                                                                                                                                                                                                                                                                                                                                                                                                                 Cicero, Tusculanae disputationes, 1, 2, 4.   \n",
       "\n",
       "                                                                                                                                                                                  text_sentence  \\\n",
       "0                                                                                                                Quid in hoc ęvo litteratissimo te iuvene venerando patri Volffgango Ruͤppli__3   \n",
       "1  Est profecto nihil, cui in promptu sint tot volumina a summis autoribus ędita,__4__5 ingenium, quod tibi est in numerato, ut alias taceam dotes (invidia dictis absit!) sane quam pręclaras.   \n",
       "2                                                                                                          Est profecto nihil, cui in promptu sint tot volumina a summis autoribus ędita,__4__5   \n",
       "3                                                                                                                                      Quicquid etiam lucubrationum tuarum__6 copia resplendet.   \n",
       "4                                                                                                                                        Iacentque ea semper, quę apud quosque improbantur.“__7   \n",
       "\n",
       "   len_footnote  pos_footnote  \n",
       "0            33            10  \n",
       "1            21            12  \n",
       "2             2            12  \n",
       "3            90             3  \n",
       "4             6             6  "
      ]
     },
     "execution_count": 30,
     "metadata": {},
     "output_type": "execute_result"
    }
   ],
   "source": [
    "pd.set_option('display.max_colwidth', None)  # show whole text in the cells\n",
    "footnote_df = pd.read_csv(\"footnote_df.csv\")\n",
    "footnote_df.head()"
   ]
  },
  {
   "cell_type": "markdown",
   "metadata": {},
   "source": [
    "Some footnotes are crazy long..."
   ]
  },
  {
   "cell_type": "code",
   "execution_count": 27,
   "metadata": {},
   "outputs": [
    {
     "data": {
      "text/plain": [
       "<AxesSubplot:>"
      ]
     },
     "execution_count": 27,
     "metadata": {},
     "output_type": "execute_result"
    },
    {
     "data": {
      "image/png": "[encoded data removed]",
      "text/plain": [
       "<Figure size 432x288 with 1 Axes>"
      ]
     },
     "metadata": {
      "needs_background": "light"
     },
     "output_type": "display_data"
    }
   ],
   "source": [
    "footnote_df[\"len_footnote\"].plot.box()"
   ]
  },
  {
   "cell_type": "markdown",
   "metadata": {},
   "source": [
    "this footnote is a small biography..."
   ]
  },
  {
   "cell_type": "code",
   "execution_count": 22,
   "metadata": {},
   "outputs": [],
   "source": [
    "# \n",
    "# footnote_df[footnote_df[\"len_footnote\"]==footnote_df[\"len_footnote\"].max()]"
   ]
  },
  {
   "cell_type": "markdown",
   "metadata": {},
   "source": [
    "long footnotes exist across editions"
   ]
  },
  {
   "cell_type": "code",
   "execution_count": 28,
   "metadata": {},
   "outputs": [
    {
     "data": {
      "text/plain": [
       "<AxesSubplot:title={'center':'len_footnote'}, xlabel='edition'>"
      ]
     },
     "execution_count": 28,
     "metadata": {},
     "output_type": "execute_result"
    },
    {
     "data": {
      "image/png": "[encoded data removed]",
      "text/plain": [
       "<Figure size 432x288 with 1 Axes>"
      ]
     },
     "metadata": {
      "needs_background": "light"
     },
     "output_type": "display_data"
    }
   ],
   "source": [
    "# \n",
    "footnote_df.boxplot(column=\"len_footnote\", by=\"edition\")"
   ]
  },
  {
   "cell_type": "markdown",
   "metadata": {},
   "source": [
    "We filter as with the letters"
   ]
  },
  {
   "cell_type": "code",
   "execution_count": 23,
   "metadata": {},
   "outputs": [
    {
     "data": {
      "image/png": "[encoded data removed]",
      "text/plain": [
       "<Figure size 432x288 with 1 Axes>"
      ]
     },
     "metadata": {
      "needs_background": "light"
     },
     "output_type": "display_data"
    }
   ],
   "source": [
    "plot = footnote_df.boxplot(column=\"len_footnote\", by=\"edition\", showfliers=False)"
   ]
  },
  {
   "cell_type": "markdown",
   "metadata": {},
   "source": [
    "We keep almost 90% of the data with the filtering. </br>\n",
    "It does not make much of a difference in if we filter by edition or in general.\n",
    "The upper limit when using toal IQR is 38, which is quite low for some editions"
   ]
  },
  {
   "cell_type": "code",
   "execution_count": 24,
   "metadata": {},
   "outputs": [
    {
     "name": "stdout",
     "output_type": "stream",
     "text": [
      "total number of FNs: 63798\n",
      "number of Footnotes without outliers:  57353\n",
      "percentage:  0.8989780243894793\n"
     ]
    }
   ],
   "source": [
    "footnote_filtered_df = filter_df(footnote_df, \"len_footnote\", by=\"edition\")\n",
    "print(\"total number of FNs:\", footnote_df.shape[0])\n",
    "print(\"number of Footnotes without outliers: \", footnote_filtered_df.shape[0])\n",
    "print(\"percentage: \", footnote_filtered_df.shape[0]/footnote_df.shape[0])"
   ]
  },
  {
   "cell_type": "markdown",
   "metadata": {},
   "source": [
    "## data preparation:\n",
    "\n",
    "- General prep\n",
    "    - Take only the filtered letters, remove unecessary metadata (done)\n",
    "    - remove all editorial footnotes (done)\n",
    "    - from the content footnotes only keep the filtered ones (done)\n",
    "    - train/val/test split, stratified by editions (done)\n",
    "\n",
    "- prepare for the model\n",
    "    - depending on strategy, take out all remaining footnotes\n",
    "    - this could also be done just before sending the letter. But it might take up time...\n",
    "    - take out only one footnote (would work better if there are a lot of other footnotes)\n",
    "    - format?\n",
    "\n",
    "    "
   ]
  },
  {
   "cell_type": "markdown",
   "metadata": {},
   "source": [
    "### General Prep"
   ]
  },
  {
   "cell_type": "markdown",
   "metadata": {},
   "source": [
    "Applying the downsizing, and saving the files"
   ]
  },
  {
   "cell_type": "code",
   "execution_count": 25,
   "metadata": {},
   "outputs": [],
   "source": [
    "from collections import defaultdict\n",
    "# get a dictionary with lists of footnotes to keep for each letter\n",
    "footnotes_to_keep_dict = defaultdict(list)\n",
    "for i, row in footnote_filtered_df.iterrows():\n",
    "    footnotes_to_keep_dict[row[\"letter_id\"]].append(row[\"n_footnote\"])"
   ]
  },
  {
   "cell_type": "code",
   "execution_count": null,
   "metadata": {},
   "outputs": [
    {
     "name": "stderr",
     "output_type": "stream",
     "text": [
      "  0%|          | 0/2994 [00:00<?, ?it/s]"
     ]
    },
    {
     "name": "stderr",
     "output_type": "stream",
     "text": [
      "100%|██████████| 2994/2994 [00:10<00:00, 288.15it/s]\n"
     ]
    }
   ],
   "source": [
    "letters_dir = \"../bullinger-korpus-tei-main/bullinger-korpus-tei-main/data/letters\"\n",
    "filtered_dir = \"../data/human\"\n",
    "\n",
    "# get filepaths to all letters that we filtered\n",
    "filtered_letter_ids = letter_filtered_df['letter_id']\n",
    "\n",
    "for id in tqdm(filtered_letter_ids):\n",
    "    filepath = os.path.join(letters_dir, f\"{id}.xml\")\n",
    "    with open(filepath, \"r\", encoding=\"utf-8\") as infile:\n",
    "        tree = etree.parse(infile)\n",
    "        root = tree.getroot()\n",
    "        new_tree = etree.ElementTree(downsize_tei(root, footnotes_to_keep_dict[id]))\n",
    "        filename = os.path.basename(filepath)\n",
    "        new_tree.write(os.path.join(filtered_dir, filename), encoding=\"utf-8\", pretty_print=True)"
   ]
  },
  {
   "cell_type": "markdown",
   "metadata": {},
   "source": [
    "Analyzing the downsized letters\n"
   ]
  },
  {
   "cell_type": "code",
   "execution_count": null,
   "metadata": {},
   "outputs": [
    {
     "name": "stderr",
     "output_type": "stream",
     "text": [
      "100%|██████████| 2994/2994 [00:34<00:00, 87.11it/s]\n"
     ]
    },
    {
     "data": {
      "text/html": [
       "<div>\n",
       "<style scoped>\n",
       "    .dataframe tbody tr th:only-of-type {\n",
       "        vertical-align: middle;\n",
       "    }\n",
       "\n",
       "    .dataframe tbody tr th {\n",
       "        vertical-align: top;\n",
       "    }\n",
       "\n",
       "    .dataframe thead th {\n",
       "        text-align: right;\n",
       "    }\n",
       "</style>\n",
       "<table border=\"1\" class=\"dataframe\">\n",
       "  <thead>\n",
       "    <tr style=\"text-align: right;\">\n",
       "      <th></th>\n",
       "      <th>letter_id</th>\n",
       "      <th>edition</th>\n",
       "      <th>word_count</th>\n",
       "      <th>sent_count</th>\n",
       "      <th>cont_footnote_count</th>\n",
       "      <th>ed_footnote_count</th>\n",
       "    </tr>\n",
       "  </thead>\n",
       "  <tbody>\n",
       "    <tr>\n",
       "      <th>2989</th>\n",
       "      <td>13149</td>\n",
       "      <td>20</td>\n",
       "      <td>515</td>\n",
       "      <td>43</td>\n",
       "      <td>22</td>\n",
       "      <td>0</td>\n",
       "    </tr>\n",
       "    <tr>\n",
       "      <th>2990</th>\n",
       "      <td>13150</td>\n",
       "      <td>20</td>\n",
       "      <td>253</td>\n",
       "      <td>16</td>\n",
       "      <td>2</td>\n",
       "      <td>0</td>\n",
       "    </tr>\n",
       "    <tr>\n",
       "      <th>2991</th>\n",
       "      <td>13151</td>\n",
       "      <td>20</td>\n",
       "      <td>264</td>\n",
       "      <td>19</td>\n",
       "      <td>8</td>\n",
       "      <td>0</td>\n",
       "    </tr>\n",
       "    <tr>\n",
       "      <th>2992</th>\n",
       "      <td>13152</td>\n",
       "      <td>20</td>\n",
       "      <td>136</td>\n",
       "      <td>12</td>\n",
       "      <td>4</td>\n",
       "      <td>0</td>\n",
       "    </tr>\n",
       "    <tr>\n",
       "      <th>2993</th>\n",
       "      <td>13153</td>\n",
       "      <td>20</td>\n",
       "      <td>91</td>\n",
       "      <td>6</td>\n",
       "      <td>0</td>\n",
       "      <td>0</td>\n",
       "    </tr>\n",
       "  </tbody>\n",
       "</table>\n",
       "</div>"
      ],
      "text/plain": [
       "     letter_id edition word_count sent_count cont_footnote_count  \\\n",
       "2989     13149      20        515         43                  22   \n",
       "2990     13150      20        253         16                   2   \n",
       "2991     13151      20        264         19                   8   \n",
       "2992     13152      20        136         12                   4   \n",
       "2993     13153      20         91          6                   0   \n",
       "\n",
       "     ed_footnote_count  \n",
       "2989                 0  \n",
       "2990                 0  \n",
       "2991                 0  \n",
       "2992                 0  \n",
       "2993                 0  "
      ]
     },
     "execution_count": 24,
     "metadata": {},
     "output_type": "execute_result"
    }
   ],
   "source": [
    "letter_downsized_df = make_letter_df(\"../data/human\", id_to_edition)\n",
    "letter_downsized_df.tail()"
   ]
  },
  {
   "cell_type": "code",
   "execution_count": null,
   "metadata": {},
   "outputs": [
    {
     "data": {
      "text/plain": [
       "272"
      ]
     },
     "execution_count": 25,
     "metadata": {},
     "output_type": "execute_result"
    }
   ],
   "source": [
    "letter_downsized_df[\"cont_footnote_count\"].value_counts().get(0)"
   ]
  },
  {
   "cell_type": "markdown",
   "metadata": {},
   "source": [
    "Removing the ones that are left with no footnotes"
   ]
  },
  {
   "cell_type": "code",
   "execution_count": null,
   "metadata": {},
   "outputs": [
    {
     "data": {
      "text/plain": [
       "2722"
      ]
     },
     "execution_count": 26,
     "metadata": {},
     "output_type": "execute_result"
    }
   ],
   "source": [
    "letter_downsized_df = letter_downsized_df[letter_downsized_df[\"cont_footnote_count\"]!=0]\n",
    "letter_downsized_df.shape[0]"
   ]
  },
  {
   "cell_type": "code",
   "execution_count": null,
   "metadata": {},
   "outputs": [
    {
     "data": {
      "image/png": "[encoded data removed]",
      "text/plain": [
       "<Figure size 432x288 with 1 Axes>"
      ]
     },
     "metadata": {
      "needs_background": "light"
     },
     "output_type": "display_data"
    }
   ],
   "source": [
    "# number of letters per edition\n",
    "def plot_edition_bar(df):\n",
    "    df[\"edition\"].value_counts(normalize=True).sort_index().plot(kind=\"bar\")\n",
    "plot_edition_bar(letter_downsized_df)"
   ]
  },
  {
   "cell_type": "code",
   "execution_count": null,
   "metadata": {},
   "outputs": [],
   "source": [
    "from sklearn.model_selection import train_test_split\n",
    "train_df, test_df = train_test_split(letter_downsized_df, test_size=0.2, stratify=letter_downsized_df[\"edition\"])\n",
    "test_df, val_df = train_test_split(test_df, test_size = 0.5, stratify=test_df[\"edition\"])\n"
   ]
  },
  {
   "cell_type": "code",
   "execution_count": null,
   "metadata": {},
   "outputs": [],
   "source": [
    "import json\n",
    "strat_sample_dict = {\n",
    "    \"train\": list(train_df[\"letter_id\"]),\n",
    "    \"dev\": list(val_df[\"letter_id\"]),\n",
    "    \"test\": list(test_df[\"letter_id\"])\n",
    "}\n",
    "with open(\"../data/strat_sample.json\", \"w\", encoding=\"utf-8\") as outjson:\n",
    "    json.dump(strat_sample_dict, outjson)\n"
   ]
  },
  {
   "cell_type": "code",
   "execution_count": null,
   "metadata": {},
   "outputs": [
    {
     "data": {
      "text/html": [
       "<div>\n",
       "<style scoped>\n",
       "    .dataframe tbody tr th:only-of-type {\n",
       "        vertical-align: middle;\n",
       "    }\n",
       "\n",
       "    .dataframe tbody tr th {\n",
       "        vertical-align: top;\n",
       "    }\n",
       "\n",
       "    .dataframe thead th {\n",
       "        text-align: right;\n",
       "    }\n",
       "</style>\n",
       "<table border=\"1\" class=\"dataframe\">\n",
       "  <thead>\n",
       "    <tr style=\"text-align: right;\">\n",
       "      <th></th>\n",
       "      <th>letter_id</th>\n",
       "      <th>edition</th>\n",
       "      <th>word_count</th>\n",
       "      <th>sent_count</th>\n",
       "      <th>cont_footnote_count</th>\n",
       "      <th>ed_footnote_count</th>\n",
       "    </tr>\n",
       "  </thead>\n",
       "  <tbody>\n",
       "    <tr>\n",
       "      <th>514</th>\n",
       "      <td>10566</td>\n",
       "      <td>05</td>\n",
       "      <td>380</td>\n",
       "      <td>32</td>\n",
       "      <td>19</td>\n",
       "      <td>0</td>\n",
       "    </tr>\n",
       "    <tr>\n",
       "      <th>1002</th>\n",
       "      <td>11081</td>\n",
       "      <td>07</td>\n",
       "      <td>130</td>\n",
       "      <td>17</td>\n",
       "      <td>6</td>\n",
       "      <td>0</td>\n",
       "    </tr>\n",
       "    <tr>\n",
       "      <th>2092</th>\n",
       "      <td>12222</td>\n",
       "      <td>15</td>\n",
       "      <td>526</td>\n",
       "      <td>18</td>\n",
       "      <td>22</td>\n",
       "      <td>0</td>\n",
       "    </tr>\n",
       "    <tr>\n",
       "      <th>1787</th>\n",
       "      <td>11898</td>\n",
       "      <td>14</td>\n",
       "      <td>69</td>\n",
       "      <td>9</td>\n",
       "      <td>5</td>\n",
       "      <td>0</td>\n",
       "    </tr>\n",
       "    <tr>\n",
       "      <th>2769</th>\n",
       "      <td>12921</td>\n",
       "      <td>20</td>\n",
       "      <td>333</td>\n",
       "      <td>37</td>\n",
       "      <td>29</td>\n",
       "      <td>0</td>\n",
       "    </tr>\n",
       "  </tbody>\n",
       "</table>\n",
       "</div>"
      ],
      "text/plain": [
       "     letter_id edition word_count sent_count cont_footnote_count  \\\n",
       "514      10566      05        380         32                  19   \n",
       "1002     11081      07        130         17                   6   \n",
       "2092     12222      15        526         18                  22   \n",
       "1787     11898      14         69          9                   5   \n",
       "2769     12921      20        333         37                  29   \n",
       "\n",
       "     ed_footnote_count  \n",
       "514                  0  \n",
       "1002                 0  \n",
       "2092                 0  \n",
       "1787                 0  \n",
       "2769                 0  "
      ]
     },
     "execution_count": 87,
     "metadata": {},
     "output_type": "execute_result"
    }
   ],
   "source": [
    "test_df.head()"
   ]
  },
  {
   "cell_type": "code",
   "execution_count": null,
   "metadata": {},
   "outputs": [],
   "source": [
    "import re\n",
    "def classify_footnote(text):\n",
    "\n",
    "    # Todo: find good regex for the classes\n",
    "    cross_ref = r\"(^[Vv]gl\\.|^[Ss]iehe)\"\n",
    "\n",
    "    # Todo: Bibelstellen regex -> bible ref\n",
    "\n",
    "    # Person name\n",
    "    bio_regex = r\"<persName.*?</persName>\\.?$\"\n",
    "\n",
    "    lex_regex = r\"(^=|[A-Za-zäöüÄÖÜ]+\\.|[A-Za-zäöüÄÖÜ]+: [A-Za-zäöüÄÖÜ]+|\\S+? \\S+?\\.\\s{5,}\\|)\"\n",
    "\n",
    "    # note: what does a.R. stand for really=\n",
    "    ad_rem = r\"a\\.R\\.:\"\n",
    "\n",
    "    bibl = r\"<bibl\"\n",
    "\n",
    "    # Todo: \"nicht erhalten\", \"unbekannt\" etc. type='missing'\n",
    "\n",
    "    if re.match(cross_ref, text):\n",
    "        return \"cross_ref\"\n",
    "\n",
    "    if re.match(ad_rem, text):\n",
    "        return \"ad_rem\"\n",
    "\n",
    "    elif re.match(bio_regex, text):\n",
    "        return \"bio\"\n",
    "    \n",
    "    elif re.match(lex_regex, text):\n",
    "        return \"lex\"\n",
    "    \n",
    "    elif re.match(bibl, text):\n",
    "        return \"bibl\"\n",
    "\n",
    "    else:\n",
    "        return \"misc\""
   ]
  },
  {
   "cell_type": "code",
   "execution_count": null,
   "metadata": {},
   "outputs": [
    {
     "name": "stdout",
     "output_type": "stream",
     "text": [
      "type\n",
      "misc         41601\n",
      "lex           7835\n",
      "cross_ref     7246\n",
      "bio           6546\n",
      "bibl           570\n",
      "Name: count, dtype: int64\n"
     ]
    }
   ],
   "source": [
    "df[\"type\"] = df[\"text_footnote\"].apply(classify_footnote)\n",
    "\n",
    "print(df[\"type\"].value_counts())\n",
    "\n",
    "# new order\n",
    "df = df[[\"letter_id\", \"n_footnote\", \"n_sentence\", \"type\", \"text_footnote\", \"text_sentence\"]]\n",
    "df.to_csv(\"all_notes_classified.csv\")"
   ]
  }
 ],
 "metadata": {
  "kernelspec": {
   "display_name": "Python 3 (ipykernel)",
   "language": "python",
   "name": "python3"
  },
  "language_info": {
   "codemirror_mode": {
    "name": "ipython",
    "version": 3
   },
   "file_extension": ".py",
   "mimetype": "text/x-python",
   "name": "python",
   "nbconvert_exporter": "python",
   "pygments_lexer": "ipython3",
   "version": "3.8.12"
  }
 },
 "nbformat": 4,
 "nbformat_minor": 2
}
