{
 "cells": [
  {
   "cell_type": "code",
   "execution_count": 1,
   "metadata": {},
   "outputs": [
    {
     "data": {
      "text/html": [
       "<div>\n",
       "<style scoped>\n",
       "    .dataframe tbody tr th:only-of-type {\n",
       "        vertical-align: middle;\n",
       "    }\n",
       "\n",
       "    .dataframe tbody tr th {\n",
       "        vertical-align: top;\n",
       "    }\n",
       "\n",
       "    .dataframe thead th {\n",
       "        text-align: right;\n",
       "    }\n",
       "</style>\n",
       "<table border=\"1\" class=\"dataframe\">\n",
       "  <thead>\n",
       "    <tr style=\"text-align: right;\">\n",
       "      <th></th>\n",
       "      <th>letter_id</th>\n",
       "      <th>n_footnote</th>\n",
       "      <th>n_sentence</th>\n",
       "      <th>text_footnote</th>\n",
       "      <th>text_sentence</th>\n",
       "    </tr>\n",
       "  </thead>\n",
       "  <tbody>\n",
       "    <tr>\n",
       "      <th>0</th>\n",
       "      <td>10013</td>\n",
       "      <td>3</td>\n",
       "      <td>2</td>\n",
       "      <td>&lt;persName xmlns=\"http://www.tei-c.org/ns/1.0\"&gt;...</td>\n",
       "      <td>Quid in hoc ęvo litteratissimo te iuvene vener...</td>\n",
       "    </tr>\n",
       "    <tr>\n",
       "      <th>1</th>\n",
       "      <td>10013</td>\n",
       "      <td>4</td>\n",
       "      <td>3</td>\n",
       "      <td>Vgl. dazu etwa Bullingers Aufzeichnungen über ...</td>\n",
       "      <td>Est profecto nihil, cui in promptu sint tot vo...</td>\n",
       "    </tr>\n",
       "    <tr>\n",
       "      <th>2</th>\n",
       "      <td>10013</td>\n",
       "      <td>5</td>\n",
       "      <td>3</td>\n",
       "      <td>= exercites.</td>\n",
       "      <td>Est profecto nihil, cui in promptu sint tot vo...</td>\n",
       "    </tr>\n",
       "    <tr>\n",
       "      <th>3</th>\n",
       "      <td>10013</td>\n",
       "      <td>6</td>\n",
       "      <td>4</td>\n",
       "      <td>Die Rede ist hier von handschriftlichen Abhand...</td>\n",
       "      <td>Quicquid etiam lucubrationum tuarum&lt;note xmlns...</td>\n",
       "    </tr>\n",
       "    <tr>\n",
       "      <th>4</th>\n",
       "      <td>10013</td>\n",
       "      <td>7</td>\n",
       "      <td>6</td>\n",
       "      <td>Cicero, Tusculanae disputationes, 1, 2, 4.</td>\n",
       "      <td>Iacentque ea semper, quę apud quosque improban...</td>\n",
       "    </tr>\n",
       "  </tbody>\n",
       "</table>\n",
       "</div>"
      ],
      "text/plain": [
       "   letter_id  n_footnote  n_sentence  \\\n",
       "0      10013           3           2   \n",
       "1      10013           4           3   \n",
       "2      10013           5           3   \n",
       "3      10013           6           4   \n",
       "4      10013           7           6   \n",
       "\n",
       "                                       text_footnote  \\\n",
       "0  <persName xmlns=\"http://www.tei-c.org/ns/1.0\">...   \n",
       "1  Vgl. dazu etwa Bullingers Aufzeichnungen über ...   \n",
       "2                                       = exercites.   \n",
       "3  Die Rede ist hier von handschriftlichen Abhand...   \n",
       "4         Cicero, Tusculanae disputationes, 1, 2, 4.   \n",
       "\n",
       "                                       text_sentence  \n",
       "0  Quid in hoc ęvo litteratissimo te iuvene vener...  \n",
       "1  Est profecto nihil, cui in promptu sint tot vo...  \n",
       "2  Est profecto nihil, cui in promptu sint tot vo...  \n",
       "3  Quicquid etiam lucubrationum tuarum<note xmlns...  \n",
       "4  Iacentque ea semper, quę apud quosque improban...  "
      ]
     },
     "execution_count": 1,
     "metadata": {},
     "output_type": "execute_result"
    }
   ],
   "source": [
    "import pandas as pd \n",
    "df = pd.read_csv(\"all_notes.csv\")\n",
    "df.head()"
   ]
  },
  {
   "cell_type": "code",
   "execution_count": 24,
   "metadata": {},
   "outputs": [
    {
     "data": {
      "text/plain": [
       "numpy.int64"
      ]
     },
     "execution_count": 24,
     "metadata": {},
     "output_type": "execute_result"
    }
   ],
   "source": [
    "type(df[\"letter_id\"][0])"
   ]
  },
  {
   "cell_type": "code",
   "execution_count": 30,
   "metadata": {},
   "outputs": [
    {
     "data": {
      "text/html": [
       "<div>\n",
       "<style scoped>\n",
       "    .dataframe tbody tr th:only-of-type {\n",
       "        vertical-align: middle;\n",
       "    }\n",
       "\n",
       "    .dataframe tbody tr th {\n",
       "        vertical-align: top;\n",
       "    }\n",
       "\n",
       "    .dataframe thead th {\n",
       "        text-align: right;\n",
       "    }\n",
       "</style>\n",
       "<table border=\"1\" class=\"dataframe\">\n",
       "  <thead>\n",
       "    <tr style=\"text-align: right;\">\n",
       "      <th></th>\n",
       "      <th>letter_id</th>\n",
       "      <th>n_footnote</th>\n",
       "      <th>n_sentence</th>\n",
       "      <th>text_footnote</th>\n",
       "      <th>text_sentence</th>\n",
       "      <th>edition</th>\n",
       "    </tr>\n",
       "  </thead>\n",
       "  <tbody>\n",
       "    <tr>\n",
       "      <th>0</th>\n",
       "      <td>10013</td>\n",
       "      <td>3</td>\n",
       "      <td>2</td>\n",
       "      <td>&lt;persName xmlns=\"http://www.tei-c.org/ns/1.0\"&gt;...</td>\n",
       "      <td>Quid in hoc ęvo litteratissimo te iuvene vener...</td>\n",
       "      <td>20A</td>\n",
       "    </tr>\n",
       "    <tr>\n",
       "      <th>1</th>\n",
       "      <td>10013</td>\n",
       "      <td>4</td>\n",
       "      <td>3</td>\n",
       "      <td>Vgl. dazu etwa Bullingers Aufzeichnungen über ...</td>\n",
       "      <td>Est profecto nihil, cui in promptu sint tot vo...</td>\n",
       "      <td>20A</td>\n",
       "    </tr>\n",
       "    <tr>\n",
       "      <th>2</th>\n",
       "      <td>10013</td>\n",
       "      <td>5</td>\n",
       "      <td>3</td>\n",
       "      <td>= exercites.</td>\n",
       "      <td>Est profecto nihil, cui in promptu sint tot vo...</td>\n",
       "      <td>20A</td>\n",
       "    </tr>\n",
       "    <tr>\n",
       "      <th>3</th>\n",
       "      <td>10013</td>\n",
       "      <td>6</td>\n",
       "      <td>4</td>\n",
       "      <td>Die Rede ist hier von handschriftlichen Abhand...</td>\n",
       "      <td>Quicquid etiam lucubrationum tuarum&lt;note xmlns...</td>\n",
       "      <td>20A</td>\n",
       "    </tr>\n",
       "    <tr>\n",
       "      <th>4</th>\n",
       "      <td>10013</td>\n",
       "      <td>7</td>\n",
       "      <td>6</td>\n",
       "      <td>Cicero, Tusculanae disputationes, 1, 2, 4.</td>\n",
       "      <td>Iacentque ea semper, quę apud quosque improban...</td>\n",
       "      <td>20A</td>\n",
       "    </tr>\n",
       "  </tbody>\n",
       "</table>\n",
       "</div>"
      ],
      "text/plain": [
       "   letter_id  n_footnote  n_sentence  \\\n",
       "0      10013           3           2   \n",
       "1      10013           4           3   \n",
       "2      10013           5           3   \n",
       "3      10013           6           4   \n",
       "4      10013           7           6   \n",
       "\n",
       "                                       text_footnote  \\\n",
       "0  <persName xmlns=\"http://www.tei-c.org/ns/1.0\">...   \n",
       "1  Vgl. dazu etwa Bullingers Aufzeichnungen über ...   \n",
       "2                                       = exercites.   \n",
       "3  Die Rede ist hier von handschriftlichen Abhand...   \n",
       "4         Cicero, Tusculanae disputationes, 1, 2, 4.   \n",
       "\n",
       "                                       text_sentence edition  \n",
       "0  Quid in hoc ęvo litteratissimo te iuvene vener...     20A  \n",
       "1  Est profecto nihil, cui in promptu sint tot vo...     20A  \n",
       "2  Est profecto nihil, cui in promptu sint tot vo...     20A  \n",
       "3  Quicquid etiam lucubrationum tuarum<note xmlns...     20A  \n",
       "4  Iacentque ea semper, quę apud quosque improban...     20A  "
      ]
     },
     "execution_count": 30,
     "metadata": {},
     "output_type": "execute_result"
    }
   ],
   "source": [
    "# get the letter ids matching to the editions:\n",
    "\n",
    "import os\n",
    "\n",
    "id_to_edition = {}\n",
    "\n",
    "for paths, dirs, files in os.walk(\"../editions/hbbw\"):\n",
    "    for filename in files:\n",
    "        filename = filename.split(\".\")[0]  # remove file extension\n",
    "        edition, edition_letter_id, letter_id = filename.split(\"_\")\n",
    "        id_to_edition[int(letter_id)] = edition\n",
    "\n",
    "\n",
    "df[\"edition\"] = df[\"letter_id\"].map(id_to_edition)\n",
    "if df.isnull().sum().sum() != 0:\n",
    "    print(\"Created some NaNs :/\")\n",
    "\n",
    "# there are more letters in the map than in the DF. This works, but what is the reason?\n",
    "# Maybe not all letters have footnotes? Almost impossible. Maybe keine Textkritischen fussnoten...\n",
    "# print(len(id_to_edition))  # 3141\n",
    "# print(len(pd.unique(df[\"letter_id\"])))  # 2852\n",
    "\n",
    "\n",
    "df.head()"
   ]
  },
  {
   "cell_type": "code",
   "execution_count": 2,
   "metadata": {},
   "outputs": [
    {
     "data": {
      "text/plain": [
       "letter_id\n",
       "10053    590\n",
       "10050    307\n",
       "11755    227\n",
       "11503    212\n",
       "10135    177\n",
       "12659    173\n",
       "12080    169\n",
       "10023    163\n",
       "13019    161\n",
       "12890    153\n",
       "Name: count, dtype: int64"
      ]
     },
     "execution_count": 2,
     "metadata": {},
     "output_type": "execute_result"
    }
   ],
   "source": [
    "footnotes_per_letter = df[\"letter_id\"].value_counts()\n",
    "\n",
    "footnotes_per_letter.sort_values(ascending=False).head(10)\n"
   ]
  },
  {
   "cell_type": "code",
   "execution_count": 6,
   "metadata": {},
   "outputs": [
    {
     "data": {
      "text/plain": [
       "<Axes: >"
      ]
     },
     "execution_count": 6,
     "metadata": {},
     "output_type": "execute_result"
    },
    {
     "data": {
      "image/png": "[encoded data removed]",
      "text/plain": [
       "<Figure size 640x480 with 1 Axes>"
      ]
     },
     "metadata": {},
     "output_type": "display_data"
    }
   ],
   "source": [
    "# plt = footnotes_per_letter.plot.bar(xticks=[])\n",
    "footnotes_per_letter.plot.box()\n",
    "\n",
    "\n"
   ]
  },
  {
   "cell_type": "code",
   "execution_count": 74,
   "metadata": {},
   "outputs": [],
   "source": [
    "import re\n",
    "def classify_footnote(text):\n",
    "\n",
    "    # Todo: find good regex for the classes\n",
    "    cross_ref = r\"(^[Vv]gl\\.|^[Ss]iehe)\"\n",
    "\n",
    "    # Todo: Bibelstellen regex -> bible ref\n",
    "\n",
    "    # Person name\n",
    "    bio_regex = r\"<persName.*?</persName>\\.?$\"\n",
    "\n",
    "    lex_regex = r\"(^=|[A-Za-zäöüÄÖÜ]+\\.|[A-Za-zäöüÄÖÜ]+: [A-Za-zäöüÄÖÜ]+|\\S+? \\S+?\\.\\s{5,}\\|)\"\n",
    "\n",
    "    # note: what does a.R. stand for really=\n",
    "    ad_rem = r\"a\\.R\\.:\"\n",
    "\n",
    "    bibl = r\"<bibl\"\n",
    "\n",
    "    # Todo: \"nicht erhalten\", \"unbekannt\" etc. type='missing'\n",
    "\n",
    "    if re.match(cross_ref, text):\n",
    "        return \"cross_ref\"\n",
    "\n",
    "    if re.match(ad_rem, text):\n",
    "        return \"ad_rem\"\n",
    "\n",
    "    elif re.match(bio_regex, text):\n",
    "        return \"bio\"\n",
    "    \n",
    "    elif re.match(lex_regex, text):\n",
    "        return \"lex\"\n",
    "    \n",
    "    elif re.match(bibl, text):\n",
    "        return \"bibl\"\n",
    "\n",
    "    else:\n",
    "        return \"misc\""
   ]
  },
  {
   "cell_type": "code",
   "execution_count": null,
   "metadata": {},
   "outputs": [],
   "source": [
    "#todo: add foonote position, length, \n",
    "# calculate average length, over time/edition"
   ]
  },
  {
   "cell_type": "code",
   "execution_count": 75,
   "metadata": {},
   "outputs": [
    {
     "name": "stdout",
     "output_type": "stream",
     "text": [
      "type\n",
      "misc         41601\n",
      "lex           7835\n",
      "cross_ref     7246\n",
      "bio           6546\n",
      "bibl           570\n",
      "Name: count, dtype: int64\n"
     ]
    }
   ],
   "source": [
    "df[\"type\"] = df[\"text_footnote\"].apply(classify_footnote)\n",
    "\n",
    "print(df[\"type\"].value_counts())\n",
    "\n",
    "# new order\n",
    "df = df[[\"letter_id\", \"n_footnote\", \"n_sentence\", \"type\", \"text_footnote\", \"text_sentence\"]]\n",
    "df.to_csv(\"all_notes_classified.csv\")"
   ]
  }
 ],
 "metadata": {
  "kernelspec": {
   "display_name": "base",
   "language": "python",
   "name": "python3"
  },
  "language_info": {
   "codemirror_mode": {
    "name": "ipython",
    "version": 3
   },
   "file_extension": ".py",
   "mimetype": "text/x-python",
   "name": "python",
   "nbconvert_exporter": "python",
   "pygments_lexer": "ipython3",
   "version": "3.11.5"
  }
 },
 "nbformat": 4,
 "nbformat_minor": 2
}
